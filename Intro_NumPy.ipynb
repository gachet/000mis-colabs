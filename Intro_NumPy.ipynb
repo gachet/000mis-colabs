{
  "nbformat": 4,
  "nbformat_minor": 0,
  "metadata": {
    "celltoolbar": "Slideshow",
    "kernelspec": {
      "display_name": "Python 3",
      "language": "python",
      "name": "python3"
    },
    "language_info": {
      "codemirror_mode": {
        "name": "ipython",
        "version": 3
      },
      "file_extension": ".py",
      "mimetype": "text/x-python",
      "name": "python",
      "nbconvert_exporter": "python",
      "pygments_lexer": "ipython3",
      "version": "3.6.5"
    },
    "colab": {
      "name": "Intro_NumPy.ipynb",
      "provenance": [],
      "include_colab_link": true
    }
  },
  "cells": [
    {
      "cell_type": "markdown",
      "metadata": {
        "id": "view-in-github",
        "colab_type": "text"
      },
      "source": [
        "<a href=\"https://colab.research.google.com/github/gachet/mis-colabs/blob/master/Intro_NumPy.ipynb\" target=\"_parent\"><img src=\"https://colab.research.google.com/assets/colab-badge.svg\" alt=\"Open In Colab\"/></a>"
      ]
    },
    {
      "cell_type": "markdown",
      "metadata": {
        "id": "l3iQi--6MUMV",
        "colab_type": "text"
      },
      "source": [
        "\n",
        "<h2 id=\"NumPy\">NumPy<a class=\"anchor-link\" href=\"#NumPy\">¶</a></h2>\n"
      ]
    },
    {
      "cell_type": "code",
      "metadata": {
        "id": "PxiXX5UYMUMa",
        "colab_type": "code",
        "colab": {}
      },
      "source": [
        "import numpy as np"
      ],
      "execution_count": 0,
      "outputs": []
    },
    {
      "cell_type": "markdown",
      "metadata": {
        "id": "pWTE-VC1MUMu",
        "colab_type": "text"
      },
      "source": [
        "\n",
        "<p>El objeto principal de NumPy es el array  multidimensional homogéneo. Es una tabla de elementos (habitualmente números), todos del mismo tipo, indexados por una tupla de enteros positivos. En NumPy las dimensiones se llaman ejes. El número de ejes es el rango.</p>\n",
        "<p>Hay muchas formas de crear un array NumPy. Por ejemplo,</p>\n"
      ]
    },
    {
      "cell_type": "code",
      "metadata": {
        "id": "R1zqNbIuMUM2",
        "colab_type": "code",
        "colab": {},
        "outputId": "f10b9a3d-9c2d-474e-ee7e-f2717728bf17"
      },
      "source": [
        "\n",
        "a = np.array([1, 2, 3, 4])\n",
        "b = np.array([(1.5, 2, 3), (4, 5, 6)])\n",
        "c = np.zeros((3, 4))\n",
        "d = np.arange(1, 10, 2)          \n",
        "print(\"EL vector a es \", a)\n",
        "print(\"La matriz b es \\n\",b)\n",
        "print(\"La matriz c es \\n\", c)\n",
        "print(\"EL vector d es \", d)\n"
      ],
      "execution_count": 0,
      "outputs": [
        {
          "output_type": "stream",
          "text": [
            "EL vector a es  [1 2 3 4]\n",
            "La matriz b es \n",
            " [[1.5 2.  3. ]\n",
            " [4.  5.  6. ]]\n",
            "La matriz c es \n",
            " [[0. 0. 0. 0.]\n",
            " [0. 0. 0. 0.]\n",
            " [0. 0. 0. 0.]]\n",
            "EL vector d es  [1 3 5 7 9]\n"
          ],
          "name": "stdout"
        }
      ]
    },
    {
      "cell_type": "code",
      "metadata": {
        "id": "IeBB6DCBMUNP",
        "colab_type": "code",
        "colab": {},
        "outputId": "de29ad43-243b-498a-e5ae-2be606acb3aa"
      },
      "source": [
        "numeros = np.arange(10.)               # Array de numeros (floats) de 0 a 9\n",
        "print(numeros)\n",
        "lista_ceros = np.zeros(10)             # Array de 10 ceros (floats)\n",
        "print(lista_ceros)\n",
        "lista_unos = np.ones(10)                # Array de 10 unos (floats)\n",
        "print(lista_unos)\n",
        "otra_lista = np.linspace(0, 30, 8)       # Array de 8 números, de 0 a 30 ambos incluidos\n",
        "print(otra_lista)\n"
      ],
      "execution_count": 0,
      "outputs": [
        {
          "output_type": "stream",
          "text": [
            "[0. 1. 2. 3. 4. 5. 6. 7. 8. 9.]\n",
            "[0. 0. 0. 0. 0. 0. 0. 0. 0. 0.]\n",
            "[1. 1. 1. 1. 1. 1. 1. 1. 1. 1.]\n",
            "[ 0.          4.28571429  8.57142857 12.85714286 17.14285714 21.42857143\n",
            " 25.71428571 30.        ]\n"
          ],
          "name": "stdout"
        }
      ]
    },
    {
      "cell_type": "code",
      "metadata": {
        "id": "Pt4HrmLDMUNl",
        "colab_type": "code",
        "colab": {}
      },
      "source": [
        ""
      ],
      "execution_count": 0,
      "outputs": []
    },
    {
      "cell_type": "markdown",
      "metadata": {
        "id": "ns9PMb7VMUNy",
        "colab_type": "text"
      },
      "source": [
        "\n",
        "<h3 id=\"Indexado\">Indexado<a class=\"anchor-link\" href=\"#Indexado\">¶</a></h3><p>Es parecido al utilizado en las listas. </p>\n"
      ]
    },
    {
      "cell_type": "markdown",
      "metadata": {
        "id": "HdBPb0B4MUN0",
        "colab_type": "text"
      },
      "source": [
        "\n",
        "<p>Los índices comienzan en cero. El índice <code>-1</code> da el último elemento del array.</p>\n",
        "<p>En <code>arange</code>, los valores se generan en el intervalo [1,10). Es decir, 1 está incluído pero 10 no lo está. El último índice es el paso. Es similar a <code>range</code> pero mientras este genera una lista, <code>arange</code> genera un array numpy.</p>\n"
      ]
    },
    {
      "cell_type": "code",
      "metadata": {
        "id": "vFYe20BaMUN2",
        "colab_type": "code",
        "colab": {},
        "outputId": "86e35af8-21c5-4429-e7ca-ef289c1cb07a"
      },
      "source": [
        "a[0]    =  1 \n",
        "b[0,0]  =  2.5 \n",
        "b[0][1] =  3.5\n",
        "d[-1]   =  9\n",
        "b"
      ],
      "execution_count": 0,
      "outputs": [
        {
          "output_type": "execute_result",
          "data": {
            "text/plain": [
              "array([[2.5, 3.5, 3. ],\n",
              "       [4. , 5. , 6. ]])"
            ]
          },
          "metadata": {
            "tags": []
          },
          "execution_count": 4
        }
      ]
    },
    {
      "cell_type": "code",
      "metadata": {
        "id": "JrQn9zzmMUOF",
        "colab_type": "code",
        "colab": {},
        "outputId": "ff61ec60-4096-4065-98ab-5b0897b9e683"
      },
      "source": [
        "print(numeros[3:8])           # Elementos desde el tercero al septimo\n",
        "print(numeros[:4])            # Elementos desde el primero al cuarto\n",
        "print(numeros[5:])            # Elementos desde el quinto al final\n",
        "print(numeros[-3])            # El antepenúltimo elemento (devuelve un elemento, no un array)\n",
        "print(numeros[:])             # Todo el array, equivalente a print(numeros)\n",
        "print(numeros[2:8:2])         # Elementos del segundo al septimo, pero saltando de dos en dos\n"
      ],
      "execution_count": 0,
      "outputs": [
        {
          "output_type": "stream",
          "text": [
            "[3. 4. 5. 6. 7.]\n",
            "[0. 1. 2. 3.]\n",
            "[5. 6. 7. 8. 9.]\n",
            "7.0\n",
            "[0. 1. 2. 3. 4. 5. 6. 7. 8. 9.]\n",
            "[2. 4. 6.]\n"
          ],
          "name": "stdout"
        }
      ]
    },
    {
      "cell_type": "markdown",
      "metadata": {
        "id": "2sLbyVv6MUOU",
        "colab_type": "text"
      },
      "source": [
        "Si creamos un array con np.arange() usando un número entero, el array que se creará será de enteros. Es posible cambiar todo el array a otro tipo de dato (como a float) usando el método astype():"
      ]
    },
    {
      "cell_type": "code",
      "metadata": {
        "id": "JUb4Q5jHMUOX",
        "colab_type": "code",
        "colab": {},
        "outputId": "96e568a7-c92e-4f91-978c-08590254457f"
      },
      "source": [
        "enteros = np.arange(6)\n",
        "print(enteros)\n",
        "type(enteros)\n",
        "type(enteros[0])\n",
        "decimales = enteros.astype('float')\n",
        "type(decimales)\n",
        "type(decimales[0])\n",
        "print(decimales)\n",
        "print(decimales.shape)   # Forma o tamaño del array\n"
      ],
      "execution_count": 0,
      "outputs": [
        {
          "output_type": "stream",
          "text": [
            "[0 1 2 3 4 5]\n",
            "[0. 1. 2. 3. 4. 5.]\n",
            "(6,)\n"
          ],
          "name": "stdout"
        }
      ]
    },
    {
      "cell_type": "code",
      "metadata": {
        "id": "7-l_HS8nMUOh",
        "colab_type": "code",
        "colab": {},
        "outputId": "78755bd5-d508-4be3-d5ce-41d0e35c069c"
      },
      "source": [
        "\n",
        "a = np.arange(10)\n",
        "b = np.array([0, 1, 5, -1])\n",
        "\n",
        "a"
      ],
      "execution_count": 0,
      "outputs": [
        {
          "output_type": "execute_result",
          "data": {
            "text/plain": [
              "array([0, 1, 2, 3, 4, 5, 6, 7, 8, 9])"
            ]
          },
          "metadata": {
            "tags": []
          },
          "execution_count": 7
        }
      ]
    },
    {
      "cell_type": "code",
      "metadata": {
        "id": "UN3SCT6EMUOt",
        "colab_type": "code",
        "colab": {},
        "outputId": "437a0de3-474f-4d99-91e8-2425100a3e18"
      },
      "source": [
        "a[1:8]"
      ],
      "execution_count": 0,
      "outputs": [
        {
          "output_type": "execute_result",
          "data": {
            "text/plain": [
              "array([1, 2, 3, 4, 5, 6, 7])"
            ]
          },
          "metadata": {
            "tags": []
          },
          "execution_count": 8
        }
      ]
    },
    {
      "cell_type": "code",
      "metadata": {
        "id": "Wp-qDM3AMUO6",
        "colab_type": "code",
        "colab": {},
        "outputId": "3da8fa6e-c60d-4c87-ae68-134d079c338c"
      },
      "source": [
        "a[1:8:2]"
      ],
      "execution_count": 0,
      "outputs": [
        {
          "output_type": "execute_result",
          "data": {
            "text/plain": [
              "array([1, 3, 5, 7])"
            ]
          },
          "metadata": {
            "tags": []
          },
          "execution_count": 9
        }
      ]
    },
    {
      "cell_type": "code",
      "metadata": {
        "id": "uanyFGmGMUPK",
        "colab_type": "code",
        "colab": {},
        "outputId": "fc670887-36b6-4dd0-88df-2a9ae1e3edc8"
      },
      "source": [
        "print (a[-1])\n",
        "print (a[:-1])\n",
        "print(a[3])\n",
        "print(a[3:])\n",
        "print(a[b])\n"
      ],
      "execution_count": 0,
      "outputs": [
        {
          "output_type": "stream",
          "text": [
            "9\n",
            "[0 1 2 3 4 5 6 7 8]\n",
            "3\n",
            "[3 4 5 6 7 8 9]\n",
            "[0 1 5 9]\n"
          ],
          "name": "stdout"
        }
      ]
    },
    {
      "cell_type": "markdown",
      "metadata": {
        "id": "oSdz7K9cMUPX",
        "colab_type": "text"
      },
      "source": [
        "\n",
        "<p>Análogamente para arrays multidimensionales:</p>\n"
      ]
    },
    {
      "cell_type": "code",
      "metadata": {
        "id": "6m2C7IDtMUPb",
        "colab_type": "code",
        "colab": {},
        "outputId": "21ad4ca4-cf57-481c-8b7d-cb2967c6ac06"
      },
      "source": [
        "\n",
        "a = np.array([[1, 2, 4], [3, -1, 2]])\n",
        "print (\"a es\",a)\n",
        "print(\"a[0,2] es \",a[0,2])\n",
        "print(\"a[:,1] es \",a[:,1])\n",
        "print(\"a[0,:]es \",a[0,] )\n",
        "\n",
        "##x[start:stop:step]\n",
        "\n",
        "##If any of these are unspecified, \n",
        "##they default to the values start=0, \n",
        "##stop=size of dimension, step=1. \n",
        "##We'll take a look at accessing sub-arrays \n",
        "##in one dimension and in multiple dimensions.\n",
        "\n",
        "print(\"a[:1, :2] es \",a[:1, :2] ) ## 1 FILA 2 COLUMNAS"
      ],
      "execution_count": 0,
      "outputs": [
        {
          "output_type": "stream",
          "text": [
            "a es [[ 1  2  4]\n",
            " [ 3 -1  2]]\n",
            "a[0,2] es  4\n",
            "a[:,1] es  [ 2 -1]\n",
            "a[0,:]es  [1 2 4]\n",
            "a[:1, :2] es  [[1 2]]\n"
          ],
          "name": "stdout"
        }
      ]
    },
    {
      "cell_type": "markdown",
      "metadata": {
        "id": "ZO1t3rjXMUPp",
        "colab_type": "text"
      },
      "source": [
        "\n",
        "<h3 id=\"Operaciones-básicas-con-arrays-numpy\">Operaciones básicas con arrays numpy<a class=\"anchor-link\" href=\"#Operaciones-b%C3%A1sicas-con-arrays-numpy\">¶</a></h3><p>Los operadores aritméticos se aplican en los arrays elemento a elemento. ¡Las listas Python funcionan de forma diferente!</p>\n",
        "<ul>\n",
        "<li>len: número de elementos de un array de dimensión uno (vector) of número de filas en un array de dimensión dos (matriz).\n",
        "<li>ndim: número de dimensiones del array (1 para vector, 2 para matriz).\n",
        "<li>shape: número de elementos en cada dimensión (número de filas y columnas para una matriz).\n",
        "</ul>\n"
      ]
    },
    {
      "cell_type": "code",
      "metadata": {
        "id": "qUJRorREMUPq",
        "colab_type": "code",
        "colab": {},
        "outputId": "d68ee9a2-5f4d-46c5-d4df-c0ee552f9f92"
      },
      "source": [
        "##RECORDAD QUE ESTAS SON LISTAS\n",
        "a1 = [1, 2, 3, 4]\n",
        "b1 = [1.5, 2, 3, 5]\n",
        "\n",
        "\n",
        "a = np.array([1, 2, 3, 4])\n",
        "b = np.array([1.5, 6, 7,8])\n",
        "\n",
        "\n",
        "print(\"longitud sw a\", len(a))\n",
        "print(\"longitud de la primera dimensión de b\", len(b))\n",
        "print(\"dimensión de a\", a.ndim)\n",
        "print(\"dimensión de b\", b.ndim)\n",
        "print(\"número de elementos de cada dimensióndimensión de a\", b.shape)\n",
        "print\n",
        "print(\"vectores a y b \",a,b)\n",
        "print(\"vector a+b \" ,a+b)\n",
        "print (\"lista\",a1+b1)\n",
        "print (\"vector 3+a\",3+a) \n",
        "print(\"vector 3*\",3*a)\n",
        "print(\"vector 3/a \",3/a)\n",
        "print(\"vector a/2\",a/2)"
      ],
      "execution_count": 0,
      "outputs": [
        {
          "output_type": "stream",
          "text": [
            "longitud sw a 4\n",
            "longitud de la primera dimensión de b 4\n",
            "dimensión de a 1\n",
            "dimensión de b 1\n",
            "número de elementos de cada dimensióndimensión de a (4,)\n",
            "vectores a y b  [1 2 3 4] [1.5 6.  7.  8. ]\n",
            "vector a+b  [ 2.5  8.  10.  12. ]\n",
            "lista [1, 2, 3, 4, 1.5, 2, 3, 5]\n",
            "vector 3+a [4 5 6 7]\n",
            "vector 3* [ 3  6  9 12]\n",
            "vector 3/a  [3.   1.5  1.   0.75]\n",
            "vector a/2 [0.5 1.  1.5 2. ]\n"
          ],
          "name": "stdout"
        }
      ]
    },
    {
      "cell_type": "markdown",
      "metadata": {
        "id": "1sMlh5ADMUP0",
        "colab_type": "text"
      },
      "source": [
        "Los arrays permiten hacer operaciones aritméticas básicas entre ellos en la forma que uno esperaría que se hicieran, es decir, haciéndolo elemento a elemento; para ello siempre ambos arrays deben tener la misma longitud, por ejemplo:"
      ]
    },
    {
      "cell_type": "code",
      "metadata": {
        "id": "WqhoTQygMUP3",
        "colab_type": "code",
        "colab": {},
        "outputId": "5b6de5ee-47da-4545-8247-7067c37d5b8a"
      },
      "source": [
        "x = np.array([5.6, 7.3, 7.7, 2.3, 4.2, 9.2])\n",
        "\n",
        "print (\"Vector X es \\n\", x)\n",
        "print (\"Vector decimales es \\n\", decimales)\n",
        "\n",
        "\n",
        "print(\"SUMA \\n\",x+decimales)\n",
        "\n",
        "print(\"MULTIPLICACION \\n\", x*decimales)\n",
        "\n",
        "print(\"DIVISION\\n\",x/decimales)\n"
      ],
      "execution_count": 0,
      "outputs": [
        {
          "output_type": "stream",
          "text": [
            "Vector X es \n",
            " [5.6 7.3 7.7 2.3 4.2 9.2]\n",
            "Vector decimales es \n",
            " [0. 1. 2. 3. 4. 5.]\n",
            "SUMA \n",
            " [ 5.6  8.3  9.7  5.3  8.2 14.2]\n",
            "MULTIPLICACION \n",
            " [ 0.   7.3 15.4  6.9 16.8 46. ]\n",
            "DIVISION\n",
            " [       inf 7.3        3.85       0.76666667 1.05       1.84      ]\n"
          ],
          "name": "stdout"
        },
        {
          "output_type": "stream",
          "text": [
            "C:\\Anaconda3\\lib\\site-packages\\ipykernel_launcher.py:11: RuntimeWarning: divide by zero encountered in true_divide\n",
            "  # This is added back by InteractiveShellApp.init_path()\n"
          ],
          "name": "stderr"
        }
      ]
    },
    {
      "cell_type": "markdown",
      "metadata": {
        "id": "XoeL6zp2MUQD",
        "colab_type": "text"
      },
      "source": [
        "\n",
        "<p>En el caso de matrices, a  diferencia de otros lenguajes, el operador <code>*</code> se aplica elemento a elemento en los arrays NumPy.</p>\n"
      ]
    },
    {
      "cell_type": "code",
      "metadata": {
        "id": "2CZsNU0_MUQF",
        "colab_type": "code",
        "colab": {},
        "outputId": "4e7614e5-0cbf-420a-ad3a-269386ff0483"
      },
      "source": [
        "\n",
        "A = np.array( [[1, 1], [0, 1]] )\n",
        "B = np.array( [[2, 3], [1, 4]] )\n",
        "C = A*B\n",
        "C\n"
      ],
      "execution_count": 0,
      "outputs": [
        {
          "output_type": "execute_result",
          "data": {
            "text/plain": [
              "array([[2, 3],\n",
              "       [0, 4]])"
            ]
          },
          "metadata": {
            "tags": []
          },
          "execution_count": 14
        }
      ]
    },
    {
      "cell_type": "code",
      "metadata": {
        "id": "0GIENrTfMUQN",
        "colab_type": "code",
        "colab": {},
        "outputId": "63a983af-d236-4e74-b7a5-735b7a231a54"
      },
      "source": [
        "z = np.array([5.6, 7.3, 7.7, 2.3, 4.2, 9.2])\n",
        "print(\"maximo\",z.max())   # Valor máximo de los elementos del array\n",
        "print(\"minimo\",z.min())   # Valor mínimo de los elementos del array\n",
        "print(\"Media\",z.mean())  # Valor medio de los elementos del array\n",
        "print(\"Desviación Típica\",z.std())   # Desviación típica de los elementos del array\n",
        "print(\"Sumatoria\",z.sum())   # Suma de todos los elementos del array\n",
        "print(\"Mediana\",np.median(z)) # Mediana de los elementos del array\n"
      ],
      "execution_count": 0,
      "outputs": [
        {
          "output_type": "stream",
          "text": [
            "maximo 9.2\n",
            "minimo 2.3\n",
            "Media 6.05\n",
            "Desviación Típica 2.305609102457165\n",
            "Sumatoria 36.3\n",
            "Mediana 6.449999999999999\n"
          ],
          "name": "stdout"
        }
      ]
    },
    {
      "cell_type": "markdown",
      "metadata": {
        "id": "hoNaDBCtMUQV",
        "colab_type": "text"
      },
      "source": [
        "Otras Operaciones"
      ]
    },
    {
      "cell_type": "code",
      "metadata": {
        "id": "DNln1QaAMUQX",
        "colab_type": "code",
        "colab": {},
        "outputId": "73115079-a984-4ce0-b006-2663ce8d67f3"
      },
      "source": [
        "\n",
        "print(np.sin(np.pi/2))\n",
        "print(np.exp(-1))\n",
        "print(np.arctan(np.inf))\n",
        "print(np.sqrt(4))\n",
        "\n"
      ],
      "execution_count": 0,
      "outputs": [
        {
          "output_type": "stream",
          "text": [
            "1.0\n",
            "0.36787944117144233\n",
            "1.5707963267948966\n",
            "2.0\n"
          ],
          "name": "stdout"
        }
      ]
    },
    {
      "cell_type": "markdown",
      "metadata": {
        "id": "_ONh8R0bMUQl",
        "colab_type": "text"
      },
      "source": [
        "\n",
        "<h3 id=\"Copias\">Copias<a class=\"anchor-link\" href=\"#Copias\">¶</a></h3><p>Cuando operamos y manipulamos arrays, algunas veces, sus datos se copian en un nuevo array, mientras que otras no. Esto crea confusión. Veamos ALGUNOS ejemplos:</p>\n",
        "<p><strong>Sin copia</strong>: Con una asignación sencilla modificamos de los arrays (no hay copia).</p>\n"
      ]
    },
    {
      "cell_type": "code",
      "metadata": {
        "id": "U03m7VZ_MUQm",
        "colab_type": "code",
        "colab": {},
        "outputId": "0c93e7be-51f2-44f1-f359-cb2ebb687e15"
      },
      "source": [
        "\n",
        "a = np.arange(12)\n",
        "b = a\n",
        "b\n"
      ],
      "execution_count": 0,
      "outputs": [
        {
          "output_type": "execute_result",
          "data": {
            "text/plain": [
              "array([ 0,  1,  2,  3,  4,  5,  6,  7,  8,  9, 10, 11])"
            ]
          },
          "metadata": {
            "tags": []
          },
          "execution_count": 17
        }
      ]
    },
    {
      "cell_type": "code",
      "metadata": {
        "id": "p0RHg7kIMUQu",
        "colab_type": "code",
        "colab": {},
        "outputId": "b19c7f35-61c8-4399-a6a6-56fd742ef3e8"
      },
      "source": [
        "b[0] = 10\n",
        "print(\"b es \", b)\n",
        "print(\"a es \",a)"
      ],
      "execution_count": 0,
      "outputs": [
        {
          "output_type": "stream",
          "text": [
            "b es  [10  1  2  3  4  5  6  7  8  9 10 11]\n",
            "a es  [10  1  2  3  4  5  6  7  8  9 10 11]\n"
          ],
          "name": "stdout"
        }
      ]
    },
    {
      "cell_type": "markdown",
      "metadata": {
        "id": "4Jm3BL3UMUQ6",
        "colab_type": "text"
      },
      "source": [
        "\n",
        "<p><strong>Con copia</strong>: el método <code>copy</code> realiza una copia completa del array y de sus datos en otro segmento de memoria.</p>\n"
      ]
    },
    {
      "cell_type": "code",
      "metadata": {
        "id": "gkrZAcBvMUQ7",
        "colab_type": "code",
        "colab": {}
      },
      "source": [
        "\n",
        "## Create an array x, with a reference y and a copy z:\n",
        "\n",
        "x = np.array([1, 2, 3])\n",
        "y = x\n",
        "z = np.copy(x)\n",
        "\n",
        "## Cuando modificamos x, y cambia ,  z:\n"
      ],
      "execution_count": 0,
      "outputs": []
    },
    {
      "cell_type": "code",
      "metadata": {
        "id": "k8WnDVG8MURD",
        "colab_type": "code",
        "colab": {},
        "outputId": "935e7d7e-8b1e-43c0-c4b9-796d7b56379c"
      },
      "source": [
        "## Cuando modificamos x, y cambia , pero no z:\n",
        "\n",
        "x[0] = 10\n",
        "x[0] == y[0]\n"
      ],
      "execution_count": 0,
      "outputs": [
        {
          "output_type": "execute_result",
          "data": {
            "text/plain": [
              "True"
            ]
          },
          "metadata": {
            "tags": []
          },
          "execution_count": 20
        }
      ]
    },
    {
      "cell_type": "code",
      "metadata": {
        "id": "n5Bi7SscMURS",
        "colab_type": "code",
        "colab": {},
        "outputId": "7b9b42b8-dc37-4f46-b9e5-2203aa769381"
      },
      "source": [
        "x[0] == z[0]"
      ],
      "execution_count": 0,
      "outputs": [
        {
          "output_type": "execute_result",
          "data": {
            "text/plain": [
              "False"
            ]
          },
          "metadata": {
            "tags": []
          },
          "execution_count": 21
        }
      ]
    },
    {
      "cell_type": "markdown",
      "metadata": {
        "id": "E5SADoe-MURe",
        "colab_type": "text"
      },
      "source": [
        "\n",
        "\n",
        "En el primer caso, el símbolo '=' crea un objeto b que apunta al mismo segmento de memoria. A esto lo podemos llamar 'vista' o 'referencia', ya que sólo se diferencia de a en el nombre.\n",
        "\n",
        "En el segundo caso, a.copy() está generando una copia real física: un duplicado del segmento de memoria de a en otra región del espacio memoria y por lo tanto con otra dirección. Al hacer b = a.copy(), le estamos asignando al nombre de variable b, ese nuevo espacio de memoria. Esto se llama 'copia'.\n"
      ]
    },
    {
      "cell_type": "markdown",
      "metadata": {
        "id": "BkaUJ9rhMURh",
        "colab_type": "text"
      },
      "source": [
        "### Rendimiento: cálculo de la norma de un vector \n",
        "\n",
        "La norma de un vector  $x$ es: \n",
        "\n",
        "$$\n",
        "\\| x \\| = \\sqrt{\\sum_{i=0}^{n-1} x_{i} x_{i}}\n",
        "$$\n",
        "\n",
        "donde $x_{i}$ es el  $i$th elemento de  $x$. Es rl producto punto de un vector consigo mismo, \n",
        "seguido de su raíz cuadrada.\n",
        "Para calcular la norma  podemos iterar a través de elos elementos del vector, calcular el cuadrado de cada elemento y finalmente obtener la raíz cuadrada.\n",
        "\n",
        "Calcularemos la norma de un vector de º0 millones de elementos utilizando dos métodos para comparar el rendimiento de caa uno midiendo el tiempo de CPU utilizado.\n"
      ]
    },
    {
      "cell_type": "code",
      "metadata": {
        "id": "-u-OGbahMURi",
        "colab_type": "code",
        "colab": {},
        "outputId": "2a622de4-d241-4643-f328-ef412e93d59d"
      },
      "source": [
        "# NumPy array con 10 millones de valores aleatorios\n",
        "x = np.random.rand(10000000)\n",
        "print(type(x))"
      ],
      "execution_count": 0,
      "outputs": [
        {
          "output_type": "stream",
          "text": [
            "<class 'numpy.ndarray'>\n"
          ],
          "name": "stdout"
        }
      ]
    },
    {
      "cell_type": "markdown",
      "metadata": {
        "id": "Acre2p_tMURp",
        "colab_type": "text"
      },
      "source": [
        "Medimos el tiempo utilizando la función NumPy  '`numpy.dot`'. Utlizamos el  'comando mágico de jupyter' [`%time`](Notebook%20tips.ipynb#Simple-timing): "
      ]
    },
    {
      "cell_type": "code",
      "metadata": {
        "scrolled": true,
        "id": "y06cR6PEMURt",
        "colab_type": "code",
        "colab": {},
        "outputId": "1a56e9e3-479e-410c-e2d4-c0a48c4fde48"
      },
      "source": [
        "%time norm = np.sqrt(np.dot(x, x))\n",
        "print(\"la norma es\",norm)"
      ],
      "execution_count": 0,
      "outputs": [
        {
          "output_type": "stream",
          "text": [
            "Wall time: 130 ms\n",
            "la norma es 1825.7676365173174\n"
          ],
          "name": "stdout"
        }
      ]
    },
    {
      "cell_type": "markdown",
      "metadata": {
        "id": "TZus_h4GMUR5",
        "colab_type": "text"
      },
      "source": [
        "Nos interesa '`Wall time`'.\n",
        "\n",
        "Hacemos el mismo cálculo pero con nuestra propia función para iterar sobre los elementos del vector y calcular la norma:"
      ]
    },
    {
      "cell_type": "code",
      "metadata": {
        "id": "HHAjOKsOMUR6",
        "colab_type": "code",
        "colab": {},
        "outputId": "edddf2bc-a891-488f-e36d-de65bd3d8a40"
      },
      "source": [
        "def compute_norm(x):\n",
        "    norm = 0.0\n",
        "    for xi in x:\n",
        "        norm += xi*xi\n",
        "    return np.sqrt(norm)\n",
        "\n",
        "%time norm =compute_norm(x)\n",
        "print(\"la norma es\",norm)"
      ],
      "execution_count": 0,
      "outputs": [
        {
          "output_type": "stream",
          "text": [
            "Wall time: 4.19 s\n",
            "la norma es 1825.7676365174702\n"
          ],
          "name": "stdout"
        }
      ]
    },
    {
      "cell_type": "markdown",
      "metadata": {
        "id": "3jYIvcuMMUSD",
        "colab_type": "text"
      },
      "source": [
        "El resultado es el mismo pero la función NumPy function es como 100 (depende del ordenador) veces más rápida!"
      ]
    },
    {
      "cell_type": "markdown",
      "metadata": {
        "id": "Z_Ci7bamMUSF",
        "colab_type": "text"
      },
      "source": [
        "### Más sobre matrices\n",
        "\n"
      ]
    },
    {
      "cell_type": "markdown",
      "metadata": {
        "id": "NIgRG34QMUSG",
        "colab_type": "text"
      },
      "source": [
        "#### Multiplicación Matriz-vector y matriz-matriz\n",
        "\n",
        "COnsideramos la matriz $A$:\n",
        "\n",
        "$$\n",
        "A  = \n",
        "\\begin{bmatrix}\n",
        "3.4 & 2.6 \\\\\n",
        "2.1 & 4.5\n",
        "\\end{bmatrix}\n",
        "$$\n",
        "\n",
        "y el vector $x$:\n",
        "\n",
        "$$\n",
        "x  = \n",
        "\\begin{bmatrix}\n",
        "0.2 \\\\ -1.1\n",
        "\\end{bmatrix}\n",
        "$$"
      ]
    },
    {
      "cell_type": "code",
      "metadata": {
        "id": "6goOcI0HMUSH",
        "colab_type": "code",
        "colab": {},
        "outputId": "06a2aeef-227c-4769-fef6-f703701b776f"
      },
      "source": [
        "A = np.array([[3.4, 2.6], [2.1, 4.5]])\n",
        "print(\"Matriz A:\\n {}\".format(A))\n",
        "\n",
        "x = np.array([0.2, -1.1])\n",
        "print(\"Vector x:\\n {}\".format(x))"
      ],
      "execution_count": 0,
      "outputs": [
        {
          "output_type": "stream",
          "text": [
            "Matriz A:\n",
            " [[3.4 2.6]\n",
            " [2.1 4.5]]\n",
            "Vector x:\n",
            " [ 0.2 -1.1]\n"
          ],
          "name": "stdout"
        }
      ]
    },
    {
      "cell_type": "markdown",
      "metadata": {
        "id": "oKZyiHtLMUSO",
        "colab_type": "text"
      },
      "source": [
        "Calculemos el producto $y = Ax$ :"
      ]
    },
    {
      "cell_type": "code",
      "metadata": {
        "id": "gNEy5ouPMUSR",
        "colab_type": "code",
        "colab": {},
        "outputId": "b68310c5-fe50-40d2-bd21-2bad95ab9b81"
      },
      "source": [
        "y = A.dot(x)\n",
        "print(y)"
      ],
      "execution_count": 0,
      "outputs": [
        {
          "output_type": "stream",
          "text": [
            "[-2.18 -4.53]\n"
          ],
          "name": "stdout"
        }
      ]
    },
    {
      "cell_type": "markdown",
      "metadata": {
        "id": "AOj_2wDMMUSZ",
        "colab_type": "text"
      },
      "source": [
        "Calculemos la multiplicación $C = AB$, donde $A$, $B$, and $C$ son matrices:"
      ]
    },
    {
      "cell_type": "code",
      "metadata": {
        "scrolled": true,
        "id": "3dwOsZsjMUSb",
        "colab_type": "code",
        "colab": {},
        "outputId": "ea36c34d-28b5-48fe-a74f-63a898644aed"
      },
      "source": [
        "B = np.array([[1.3, 0], [0, 2.0]])\n",
        "\n",
        "C = A.dot(B)\n",
        "print(C)"
      ],
      "execution_count": 0,
      "outputs": [
        {
          "output_type": "stream",
          "text": [
            "[[4.42 5.2 ]\n",
            " [2.73 9.  ]]\n"
          ],
          "name": "stdout"
        }
      ]
    },
    {
      "cell_type": "markdown",
      "metadata": {
        "id": "sDB4f24nMUSh",
        "colab_type": "text"
      },
      "source": [
        "También podemos utilizar el operador @ (nuevo a partir python 3.5)"
      ]
    },
    {
      "cell_type": "code",
      "metadata": {
        "id": "7e5vZA2HMUSi",
        "colab_type": "code",
        "colab": {},
        "outputId": "09ae92d6-c198-436d-bf67-1c220d2f45da"
      },
      "source": [
        "\n",
        "A = np.array([[1,2,3],\n",
        "              [4,5,6]])\n",
        "B = np.array([[9,8],\n",
        "              [7,6],\n",
        "              [5,4]])\n",
        "print(np.dot(A,B))\n",
        "print(A @ B)"
      ],
      "execution_count": 0,
      "outputs": [
        {
          "output_type": "stream",
          "text": [
            "[[ 38  32]\n",
            " [101  86]]\n",
            "[[ 38  32]\n",
            " [101  86]]\n"
          ],
          "name": "stdout"
        }
      ]
    },
    {
      "cell_type": "markdown",
      "metadata": {
        "id": "z16EfS3cMUSq",
        "colab_type": "text"
      },
      "source": [
        "La inversa de una matriz ($A^{-1}$) y su determinante  ($\\det(A)$) se pueden obtener su utilizamos el módulo de NumPy s `linalg`:"
      ]
    },
    {
      "cell_type": "code",
      "metadata": {
        "id": "uhQmpkdKMUSs",
        "colab_type": "code",
        "colab": {},
        "outputId": "df38bff1-8bd0-4001-c23a-3ce9740d972f"
      },
      "source": [
        "Ainv = np.linalg.inv(A)\n",
        "print(\"Inversa de A:\\n {}\".format(Ainv))\n",
        "\n",
        "Adet = np.linalg.det(A)\n",
        "print(\"Determinante de A: {}\".format(Adet))"
      ],
      "execution_count": 0,
      "outputs": [
        {
          "output_type": "stream",
          "text": [
            "Inversa de A:\n",
            " [[ 0.45731707 -0.26422764]\n",
            " [-0.21341463  0.34552846]]\n",
            "Determinante de A: 9.839999999999998\n"
          ],
          "name": "stdout"
        }
      ]
    },
    {
      "cell_type": "markdown",
      "metadata": {
        "id": "Zn610ZI-MUS5",
        "colab_type": "text"
      },
      "source": [
        "\n",
        "Una matriz Identidad  $I$. se puede crear utilizando"
      ]
    },
    {
      "cell_type": "code",
      "metadata": {
        "id": "2E_SclS-MUS7",
        "colab_type": "code",
        "colab": {},
        "outputId": "0e4a78eb-85ee-4be8-d4cd-593adfa85b84"
      },
      "source": [
        "I = np.eye(4)\n",
        "print(I)"
      ],
      "execution_count": 0,
      "outputs": [
        {
          "output_type": "stream",
          "text": [
            "[[1. 0. 0. 0.]\n",
            " [0. 1. 0. 0.]\n",
            " [0. 0. 1. 0.]\n",
            " [0. 0. 0. 1.]]\n"
          ],
          "name": "stdout"
        }
      ]
    },
    {
      "cell_type": "markdown",
      "metadata": {
        "id": "LJpGz1LlMUTD",
        "colab_type": "text"
      },
      "source": [
        "## Resolución de un sistea de ecuaciones lineales\n",
        "Mediante el uso de matrices podemos resolver ecuaciones lineales. For ejemplo, consideremos el sistema de ecuaciones:\n",
        "\n",
        "\\begin{equation}2x + 4y = 18\\end{equation}\n",
        "\\begin{equation}6x + 2y = 34\\end{equation}\n",
        "\n",
        "Escrito en forma de matrices sería:\n",
        "\n",
        "\\begin{equation}\\begin{bmatrix}2 & 4\\\\6 & 2\\end{bmatrix} \\cdot \\begin{bmatrix}x\\\\y\\end{bmatrix}=\\begin{bmatrix}18\\\\34\\end{bmatrix}\\end{equation}\n",
        "\n",
        "Notemos que las variables (***x*** and ***y***) se escriben como una columna de matriz (vector), que se multiplica por una matriz de coeficientes y se obtiene como resultado una matriz con los valores de las incógnitas. Si calculamos el producto punto en el lado izquierdo podemos ver claramente que representa el sistema de ecuaciones original:\n",
        "\n",
        "\\begin{equation}\\begin{bmatrix}2x + 4y\\\\6x + 2y\\end{bmatrix} =\\begin{bmatrix}18\\\\34\\end{bmatrix}\\end{equation}\n",
        "\n",
        "Demos nombre a nuestras matrices:\n",
        "\n",
        "\\begin{equation}A=\\begin{bmatrix}2 & 4\\\\6 & 2\\end{bmatrix}\\;\\;\\;\\;X=\\begin{bmatrix}x\\\\y\\end{bmatrix}\\;\\;\\;\\;B=\\begin{bmatrix}18\\\\34\\end{bmatrix}\\end{equation}\n",
        "\n",
        "Sabemos que ***A • X = B***, que aritméticamente representa ***X = B ÷ A***. Como la división de una matriz implica la multiplicación por su inversa, podemos encontrar los valores de nuestras variables (*X*) como: ***X = A<sup>-1</sup> • B***\n",
        "\n",
        "Primero necesitamos calcular la inversa de A:\n",
        "\n",
        "\\begin{equation}\\begin{bmatrix}2 & 4\\\\6 & 2\\end{bmatrix}^{-1} = \\frac{1}{(2\\times2)-(4\\times6)}  \\begin{bmatrix}2 & -4\\\\-6 & 2\\end{bmatrix}\\end{equation}\n",
        "\n",
        "\\begin{equation}= \\frac{1}{-20}  \\begin{bmatrix}2 & -4\\\\-6 & 2\\end{bmatrix}\\end{equation}\n",
        "\n",
        "\\begin{equation}=\\begin{bmatrix}-0.1 & 0.2\\\\0.3 & -0.1\\end{bmatrix}\\end{equation}\n",
        "\n",
        "Ahora la multiplicamos por B:\n",
        "\n",
        "\\begin{equation}X = \\begin{bmatrix}-0.1 & 0.2\\\\0.3 & -0.1\\end{bmatrix} \\cdot \\begin{bmatrix}18\\\\34\\end{bmatrix}\\end{equation}\n",
        "\n",
        "\\begin{equation}X = \\begin{bmatrix}(-0.1 \\times 18)+(0.2 \\times 34)\\\\(0.3\\times18)+(-0.1\\times34)\\end{bmatrix}\\end{equation}\n",
        "\n",
        "\\begin{equation}X = \\begin{bmatrix}5\\\\2\\end{bmatrix}\\end{equation}\n",
        "\n",
        "La matriz resultante (*X*) contiene los valores de  *x* and *y* variables, que lo podemos comprobar mediante las ecuaciones originales:\n",
        "\n",
        "\\begin{equation}(2\\times5) + (4\\times2) = 18\\end{equation}\n",
        "\\begin{equation}(6\\times5) + (2\\times2) = 34\\end{equation}\n",
        "\n",
        "Que se convierte simplemente en:\n",
        "\n",
        "\\begin{equation}10 + 8 = 18\\end{equation}\n",
        "\\begin{equation}30 + 4 = 34\\end{equation}\n",
        "\n",
        "\n",
        "Utilizando NUmpy esto es tan simple como:"
      ]
    },
    {
      "cell_type": "code",
      "metadata": {
        "id": "lzbzlUXPMUTE",
        "colab_type": "code",
        "colab": {},
        "outputId": "dbe123e5-b6c2-4d17-ff5b-229487868f01"
      },
      "source": [
        "A = np.array([[2,4],\n",
        "              [6,2]])\n",
        "\n",
        "B = np.array([[18],\n",
        "              [34]])\n",
        "\n",
        "X = np.dot(np.linalg.inv(A), B)\n",
        "print(X)"
      ],
      "execution_count": 0,
      "outputs": [
        {
          "output_type": "stream",
          "text": [
            "[[5.]\n",
            " [2.]]\n"
          ],
          "name": "stdout"
        }
      ]
    },
    {
      "cell_type": "markdown",
      "metadata": {
        "id": "KP_6XDrAMUTL",
        "colab_type": "text"
      },
      "source": [
        "O bien"
      ]
    },
    {
      "cell_type": "code",
      "metadata": {
        "id": "I-IqMcEiMUTM",
        "colab_type": "code",
        "colab": {},
        "outputId": "eb13e016-108a-4639-c1a0-f634e4a423e2"
      },
      "source": [
        "\n",
        "A = np.array([[2,4],\n",
        "              [6,2]])\n",
        "\n",
        "B = np.array([[18],\n",
        "              [34]])\n",
        "\n",
        "X = np.linalg.inv(A) @ B\n",
        "\n",
        "print(X)"
      ],
      "execution_count": 0,
      "outputs": [
        {
          "output_type": "stream",
          "text": [
            "[[5.]\n",
            " [2.]]\n"
          ],
          "name": "stdout"
        }
      ]
    },
    {
      "cell_type": "markdown",
      "metadata": {
        "id": "2MjzRjjxMUTS",
        "colab_type": "text"
      },
      "source": [
        "O también utilizando el método **linalg.solve**"
      ]
    },
    {
      "cell_type": "code",
      "metadata": {
        "id": "5Sgpq0_GMUTT",
        "colab_type": "code",
        "colab": {},
        "outputId": "827353d1-2729-4b6e-e889-a94a6fe06d30"
      },
      "source": [
        "X = np.linalg.solve(A, B)\n",
        "print(X)"
      ],
      "execution_count": 0,
      "outputs": [
        {
          "output_type": "stream",
          "text": [
            "[[5.]\n",
            " [2.]]\n"
          ],
          "name": "stdout"
        }
      ]
    },
    {
      "cell_type": "markdown",
      "metadata": {
        "id": "UATjpRyiMUTa",
        "colab_type": "text"
      },
      "source": [
        "\n",
        "<p>Para más información, ver <a href=\"#ref\">Numpy Quickstart tutorial</a></p>\n"
      ]
    }
  ]
}