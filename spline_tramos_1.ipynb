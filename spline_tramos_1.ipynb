{
  "nbformat": 4,
  "nbformat_minor": 0,
  "metadata": {
    "kernelspec": {
      "display_name": "Python 3",
      "language": "python",
      "name": "python3"
    },
    "language_info": {
      "codemirror_mode": {
        "name": "ipython",
        "version": 3
      },
      "file_extension": ".py",
      "mimetype": "text/x-python",
      "name": "python",
      "nbconvert_exporter": "python",
      "pygments_lexer": "ipython3",
      "version": "3.6.5"
    },
    "colab": {
      "name": "spline-tramos-1.ipynb",
      "provenance": [],
      "collapsed_sections": [],
      "include_colab_link": true
    }
  },
  "cells": [
    {
      "cell_type": "markdown",
      "metadata": {
        "id": "view-in-github",
        "colab_type": "text"
      },
      "source": [
        "<a href=\"https://colab.research.google.com/github/gachet/mis-colabs/blob/master/spline_tramos_1.ipynb\" target=\"_parent\"><img src=\"https://colab.research.google.com/assets/colab-badge.svg\" alt=\"Open In Colab\"/></a>"
      ]
    },
    {
      "cell_type": "code",
      "metadata": {
        "id": "7X4Dz9oXBK4m",
        "colab_type": "code",
        "colab": {}
      },
      "source": [
        "import sympy as sym\n",
        "import numpy as np\n",
        "import matplotlib.pyplot as plt\n",
        "%matplotlib inline"
      ],
      "execution_count": 0,
      "outputs": []
    },
    {
      "cell_type": "code",
      "metadata": {
        "id": "z4jH1rQPBK5A",
        "colab_type": "code",
        "colab": {}
      },
      "source": [
        "def SplineCubico(p,q):\n",
        "    \n",
        "    n = len(p)-1\n",
        "       \n",
        "    # Inicializar vectores auxiliares\n",
        "    A = q\n",
        "    X = p\n",
        "    \n",
        "    H =[0.0 for x\tin\trange(n)]\n",
        "    B =[0.0 for\tx\tin\trange(n+1)]\n",
        "    C =[0.0 for\tx\tin\trange(n+1)]\n",
        "    D =[0.0 for\tx\tin\trange(n+1)]\n",
        "    alpha = [0.0 for x in range(n)]\n",
        "    mu = [0.0 for x in range(n+1)]\n",
        "    l =[1.0\tfor\tx\tin\trange(n+1)]\n",
        "    z =[0.0\tfor\tx\tin\trange(n+1)]\n",
        "    # Crear vector H\n",
        "    for i in range(n):\n",
        "        H[i] = X [i+1] -X [i]\n",
        "    # Crear vector a\n",
        "    for i in range(1, n):\n",
        "        alpha [i] = (3.0/H [i])*(A [i+1]-A[i])-(3.0/H[i-1])*(A[i]-A[i-1])\n",
        "\n",
        "    # Solucionar sistema tridiagonal\n",
        "    for i in range(1, n) :\n",
        "        l[i] = 2.0*(X[i+1]-X[i-1] )-H[i-1] *mu[i-1]\n",
        "        mu[i] = float(H [i])/l[i]\n",
        "        z[i] = (alpha [i]-H [i-1] *z [i-1] )/float(l[i] )\n",
        "\n",
        "    # Solucionar sistema tridiagonal\n",
        "    for j in range(n-1, -1, -1):\n",
        "        C[j] = z [j] -mu[j] *C [j+1]\n",
        "        B [j] = (A [j + 1] - A [j] )/float (H [j] )-H [j] * (C [j + 1] +2*C [j] )/3.0\n",
        "        D[j] = (C[j+1] -C[j])/(3.0*H[j])\n",
        "\n",
        "    # Retornar vectores A, B, C, D\n",
        "    \n",
        "    x = sym.Symbol('x')\n",
        "    polinomio = []\n",
        "    \n",
        "    for j in range(0,n,1):  # construimos polinomio por tramos\n",
        "        ptramo = A[j]+ B[j]*(x-X[j])+ C[j]*(x-X[j])**2 + D[j]*(x-X[j])**3\n",
        "        ptramo = ptramo.expand()\n",
        "        polinomio.append(ptramo)\n",
        "        print(ptramo)\n",
        "    \n",
        "    return polinomio"
      ],
      "execution_count": 0,
      "outputs": []
    },
    {
      "cell_type": "code",
      "metadata": {
        "id": "tnSRHA4sBK5V",
        "colab_type": "code",
        "outputId": "133b46c3-09ee-41bb-a8b8-564d0a556dc5",
        "colab": {
          "base_uri": "https://localhost:8080/",
          "height": 258
        }
      },
      "source": [
        "xi = np.array([-1 , 0, 2,3,7])\n",
        "fi = np.array([2, -1, 2,2,-1])\n",
        "poli = SplineCubico(xi,fi)\n",
        "n = len(xi)\n",
        "# Obtiene los polinomios por tramos\n",
        "\n",
        "# SALIDA\n",
        "print('Polinomios por tramos: ')\n",
        "for tramo in range(1,n,1):\n",
        "    print(' x = ['+str(xi[tramo-1])+','+str(xi[tramo])+']')\n",
        "    print(str(poli[tramo-1]))"
      ],
      "execution_count": 0,
      "outputs": [
        {
          "output_type": "stream",
          "text": [
            "0.936305732484076*x**3 + 2.80891719745223*x**2 - 1.12738853503185*x - 1.0\n",
            "-0.747611464968153*x**3 + 2.80891719745223*x**2 - 1.12738853503185*x - 1\n",
            "0.539808917197452*x**3 - 4.9156050955414*x**2 + 14.3216560509554*x - 11.2993630573248\n",
            "0.00477707006369427*x**3 - 0.10031847133758*x**2 - 0.124203821656051*x + 3.14649681528662\n",
            "Polinomios por tramos: \n",
            " x = [-1,0]\n",
            "0.936305732484076*x**3 + 2.80891719745223*x**2 - 1.12738853503185*x - 1.0\n",
            " x = [0,2]\n",
            "-0.747611464968153*x**3 + 2.80891719745223*x**2 - 1.12738853503185*x - 1\n",
            " x = [2,3]\n",
            "0.539808917197452*x**3 - 4.9156050955414*x**2 + 14.3216560509554*x - 11.2993630573248\n",
            " x = [3,7]\n",
            "0.00477707006369427*x**3 - 0.10031847133758*x**2 - 0.124203821656051*x + 3.14649681528662\n"
          ],
          "name": "stdout"
        }
      ]
    },
    {
      "cell_type": "code",
      "metadata": {
        "id": "JOfR2L7UYuGU",
        "colab_type": "code",
        "outputId": "23ccdea0-0105-47b6-a0e3-6ddca9cc01b0",
        "colab": {
          "base_uri": "https://localhost:8080/",
          "height": 36
        }
      },
      "source": [
        "pol = sym.lambdify('x',poli[0])\n",
        "print(pol(-0.5))"
      ],
      "execution_count": 0,
      "outputs": [
        {
          "output_type": "stream",
          "text": [
            "0.14888535031847294\n"
          ],
          "name": "stdout"
        }
      ]
    },
    {
      "cell_type": "code",
      "metadata": {
        "id": "aB_PL2dCUCEm",
        "colab_type": "code",
        "colab": {}
      },
      "source": [
        "z = lambda x: -1.60000000000002*x**3 + 0.600000000000037*x**2 + 96.3*x + 1.1"
      ],
      "execution_count": 0,
      "outputs": []
    },
    {
      "cell_type": "code",
      "metadata": {
        "id": "kXNZ_3xsBK5o",
        "colab_type": "code",
        "outputId": "3be845fc-2a1f-40d4-e52d-e125fd47d383",
        "colab": {
          "base_uri": "https://localhost:8080/",
          "height": 281
        }
      },
      "source": [
        "# GRAFICA\n",
        "# Puntos para grafica en cada tramo\n",
        "xtrazado = np.array([])\n",
        "ytrazado = np.array([])\n",
        "resolucion = 10 # entre cada par de puntos\n",
        "tramo = 1\n",
        "while not(tramo>=n):\n",
        "    a = xi[tramo-1]\n",
        "    b = xi[tramo]\n",
        "    xtramo = np.linspace(a,b,resolucion)\n",
        "    \n",
        "    ptramo = poli[tramo-1]\n",
        "    pxtramo = sym.lambdify('x',ptramo)\n",
        "    ytramo = pxtramo(xtramo)\n",
        "    \n",
        "    xtrazado = np.concatenate((xtrazado,xtramo))\n",
        "    ytrazado = np.concatenate((ytrazado,ytramo))\n",
        "    tramo = tramo + 1\n",
        "\n",
        "# Gráfica\n",
        "plt.grid(True)\n",
        "plt.axhline(0, color='black')\n",
        "plt.axvline(0, color='black')\n",
        "plt.title('Trazador cúbico natural (splines)')\n",
        "plt.plot(xtrazado,ytrazado)\n",
        "plt.plot(xi,fi,'o')\n",
        "plt.show()"
      ],
      "execution_count": 0,
      "outputs": [
        {
          "output_type": "display_data",
          "data": {
            "image/png": "[encoded data removed]",
            "text/plain": [
              "<Figure size 432x288 with 1 Axes>"
            ]
          },
          "metadata": {
            "tags": [],
            "needs_background": "light"
          }
        }
      ]
    },
    {
      "cell_type": "code",
      "metadata": {
        "id": "hlIKlzfgTRNn",
        "colab_type": "code",
        "outputId": "8756009a-4072-473b-c983-cdd42add490e",
        "colab": {
          "base_uri": "https://localhost:8080/",
          "height": 203
        }
      },
      "source": [
        "xi= np.array([0.25,0.5,1,1.25])\n",
        "fi= np.array([25.2,49.2,96.4,119.4])\n",
        "poli = SplineCubico(xi,fi)\n",
        "n = len(xi)\n",
        "# Obtiene los polinomios por tramos\n",
        "\n",
        "# SALIDA\n",
        "print('Polinomios por tramos: ')\n",
        "for tramo in range(1,n,1):\n",
        "    print(' x = ['+str(xi[tramo-1])+','+str(xi[tramo])+']')\n",
        "    print(str(poli[tramo-1]))"
      ],
      "execution_count": 0,
      "outputs": [
        {
          "output_type": "stream",
          "text": [
            "-2.4*x**3 + 1.8*x**2 + 95.7*x + 1.19999999999999\n",
            "-1.60000000000002*x**3 + 0.600000000000037*x**2 + 96.3*x + 1.1\n",
            "5.60000000000004*x**3 - 21.0000000000002*x**2 + 117.9*x - 6.10000000000007\n",
            "Polinomios por tramos: \n",
            " x = [0.25,0.5]\n",
            "-2.4*x**3 + 1.8*x**2 + 95.7*x + 1.19999999999999\n",
            " x = [0.5,1.0]\n",
            "-1.60000000000002*x**3 + 0.600000000000037*x**2 + 96.3*x + 1.1\n",
            " x = [1.0,1.25]\n",
            "5.60000000000004*x**3 - 21.0000000000002*x**2 + 117.9*x - 6.10000000000007\n"
          ],
          "name": "stdout"
        }
      ]
    },
    {
      "cell_type": "code",
      "metadata": {
        "id": "qC_au-SbUJgB",
        "colab_type": "code",
        "outputId": "248a1775-c816-403d-8118-73fc4e603383",
        "colab": {
          "base_uri": "https://localhost:8080/",
          "height": 36
        }
      },
      "source": [
        "a = z(0.75)\n",
        "print(a)"
      ],
      "execution_count": 0,
      "outputs": [
        {
          "output_type": "stream",
          "text": [
            "72.9875\n"
          ],
          "name": "stdout"
        }
      ]
    },
    {
      "cell_type": "code",
      "metadata": {
        "id": "dr7mr9wZbjx5",
        "colab_type": "code",
        "outputId": "7ea834de-3ec0-490b-c159-1640dd0bef7f",
        "colab": {
          "base_uri": "https://localhost:8080/",
          "height": 36
        }
      },
      "source": [
        "print ('error ',(73-a)*100)"
      ],
      "execution_count": 0,
      "outputs": [
        {
          "output_type": "stream",
          "text": [
            "error  1.2500000000002842\n"
          ],
          "name": "stdout"
        }
      ]
    },
    {
      "cell_type": "code",
      "metadata": {
        "id": "AAaDsinlEviY",
        "colab_type": "code",
        "outputId": "6b544ec3-a01f-45fe-9d39-3a16ed200608",
        "colab": {
          "base_uri": "https://localhost:8080/",
          "height": 36
        }
      },
      "source": [
        "pol = sym.lambdify('x',poli[0])\n",
        "pol"
      ],
      "execution_count": 0,
      "outputs": [
        {
          "output_type": "execute_result",
          "data": {
            "text/plain": [
              "<function numpy.<lambda>>"
            ]
          },
          "metadata": {
            "tags": []
          },
          "execution_count": 12
        }
      ]
    },
    {
      "cell_type": "code",
      "metadata": {
        "id": "YCKPQ7CrFma8",
        "colab_type": "code",
        "outputId": "d7c4ba47-059c-4fe6-cb3c-9786d1136c47",
        "colab": {
          "base_uri": "https://localhost:8080/",
          "height": 36
        }
      },
      "source": [
        "pol = sym.lambdify('x',poli[1])\n",
        "pol"
      ],
      "execution_count": 0,
      "outputs": [
        {
          "output_type": "execute_result",
          "data": {
            "text/plain": [
              "<function numpy.<lambda>>"
            ]
          },
          "metadata": {
            "tags": []
          },
          "execution_count": 14
        }
      ]
    },
    {
      "cell_type": "code",
      "metadata": {
        "id": "iCytWg4rFOSt",
        "colab_type": "code",
        "outputId": "2de40f81-3afc-4186-8f97-2a5e2a846992",
        "colab": {
          "base_uri": "https://localhost:8080/",
          "height": 36
        }
      },
      "source": [
        "pol(10)"
      ],
      "execution_count": 0,
      "outputs": [
        {
          "output_type": "execute_result",
          "data": {
            "text/plain": [
              "-478.9936305732485"
            ]
          },
          "metadata": {
            "tags": []
          },
          "execution_count": 15
        }
      ]
    },
    {
      "cell_type": "code",
      "metadata": {
        "id": "fm5XbBUrTNJT",
        "colab_type": "code",
        "colab": {}
      },
      "source": [
        ""
      ],
      "execution_count": 0,
      "outputs": []
    },
    {
      "cell_type": "code",
      "metadata": {
        "id": "YeRHnwjIBK52",
        "colab_type": "code",
        "outputId": "1460e983-5211-4230-ff9f-438481d6ee46",
        "colab": {
          "base_uri": "https://localhost:8080/",
          "height": 302
        }
      },
      "source": [
        "from scipy.interpolate import CubicSpline\n",
        "xi = np.array([-1 , 0, 2,3,7])\n",
        "fi = np.array([2, -1, 2,2,-1])\n",
        "\n",
        "cs = CubicSpline(xi, fi, bc_type='natural')\n",
        "print('cs',cs)\n",
        "a=cs(5)\n",
        "print(a)\n",
        "xs = np.linspace(-1, 7, num=41, endpoint=True)\n",
        "plt.axhline(0, color='black')\n",
        "plt.axvline(0, color='black')\n",
        "plt.grid()\n",
        "plt.plot(xi, fi, 'o', label='data')\n",
        "plt.plot(xs, cs(xs), label='true')\n",
        "plt.show()"
      ],
      "execution_count": 0,
      "outputs": [
        {
          "output_type": "stream",
          "text": [
            "cs <scipy.interpolate._cubic.CubicSpline object at 0x7fa95f47a410>\n",
            "0.6146496815286623\n"
          ],
          "name": "stdout"
        },
        {
          "output_type": "display_data",
          "data": {
            "image/png": "[encoded data removed]",
            "text/plain": [
              "<Figure size 432x288 with 1 Axes>"
            ]
          },
          "metadata": {
            "tags": [],
            "needs_background": "light"
          }
        }
      ]
    },
    {
      "cell_type": "code",
      "metadata": {
        "id": "7XijegT0cZlh",
        "colab_type": "code",
        "outputId": "be10e798-4e33-4c24-af97-263d1d1198ab",
        "colab": {
          "base_uri": "https://localhost:8080/",
          "height": 147
        }
      },
      "source": [
        "xi= np.array([0,1,2])\n",
        "fi= np.array([0,1,2])\n",
        "poli = SplineCubico(xi,fi)\n",
        "n = len(xi)\n",
        "# Obtiene los polinomios por tramos\n",
        "\n",
        "# SALIDA\n",
        "print('Polinomios por tramos: ')\n",
        "for tramo in range(1,n,1):\n",
        "    print(' x = ['+str(xi[tramo-1])+','+str(xi[tramo])+']')\n",
        "    print(str(poli[tramo-1]))"
      ],
      "execution_count": 0,
      "outputs": [
        {
          "output_type": "stream",
          "text": [
            "1.0*x\n",
            "1.0*x\n",
            "Polinomios por tramos: \n",
            " x = [0,1]\n",
            "1.0*x\n",
            " x = [1,2]\n",
            "1.0*x\n"
          ],
          "name": "stdout"
        }
      ]
    },
    {
      "cell_type": "code",
      "metadata": {
        "id": "E1ytGZJrcuej",
        "colab_type": "code",
        "outputId": "c06fef5f-dac8-459c-d1b7-31a6b6f32361",
        "colab": {
          "base_uri": "https://localhost:8080/",
          "height": 281
        }
      },
      "source": [
        "# GRAFICA\n",
        "# Puntos para grafica en cada tramo\n",
        "xtrazado = np.array([])\n",
        "ytrazado = np.array([])\n",
        "resolucion = 10 # entre cada par de puntos\n",
        "tramo = 1\n",
        "while not(tramo>=n):\n",
        "    a = xi[tramo-1]\n",
        "    b = xi[tramo]\n",
        "    xtramo = np.linspace(a,b,resolucion)\n",
        "    \n",
        "    ptramo = poli[tramo-1]\n",
        "    pxtramo = sym.lambdify('x',ptramo)\n",
        "    ytramo = pxtramo(xtramo)\n",
        "    \n",
        "    xtrazado = np.concatenate((xtrazado,xtramo))\n",
        "    ytrazado = np.concatenate((ytrazado,ytramo))\n",
        "    tramo = tramo + 1\n",
        "\n",
        "# Gráfica\n",
        "plt.grid(True)\n",
        "plt.axhline(0, color='black')\n",
        "plt.axvline(0, color='black')\n",
        "plt.title('Trazador cúbico natural (splines)')\n",
        "plt.plot(xtrazado,ytrazado)\n",
        "plt.plot(xi,fi,'o')\n",
        "plt.show()"
      ],
      "execution_count": 0,
      "outputs": [
        {
          "output_type": "display_data",
          "data": {
            "image/png": "[encoded data removed]",
            "text/plain": [
              "<Figure size 432x288 with 1 Axes>"
            ]
          },
          "metadata": {
            "tags": [],
            "needs_background": "light"
          }
        }
      ]
    },
    {
      "cell_type": "markdown",
      "metadata": {
        "id": "kBsLUKw2iT4i",
        "colab_type": "text"
      },
      "source": [
        "![texto alternativo](https://)"
      ]
    }
  ]
}