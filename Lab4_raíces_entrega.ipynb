{
  "nbformat": 4,
  "nbformat_minor": 0,
  "metadata": {
    "anaconda-cloud": {},
    "kernelspec": {
      "display_name": "Python 3",
      "language": "python",
      "name": "python3"
    },
    "language_info": {
      "codemirror_mode": {
        "name": "ipython",
        "version": 3
      },
      "file_extension": ".py",
      "mimetype": "text/x-python",
      "name": "python",
      "nbconvert_exporter": "python",
      "pygments_lexer": "ipython3",
      "version": "3.6.5"
    },
    "toc": {
      "colors": {
        "hover_highlight": "#DAA520",
        "navigate_num": "#000000",
        "navigate_text": "#333333",
        "running_highlight": "#FF0000",
        "selected_highlight": "#FFD700",
        "sidebar_border": "#EEEEEE",
        "wrapper_background": "#FFFFFF"
      },
      "moveMenuLeft": true,
      "nav_menu": {
        "height": "12px",
        "width": "252px"
      },
      "navigate_menu": true,
      "number_sections": true,
      "sideBar": true,
      "threshold": 4,
      "toc_cell": false,
      "toc_section_display": "block",
      "toc_window_display": false,
      "widenNotebook": false
    },
    "colab": {
      "name": "Lab4-raíces-entrega.ipynb",
      "provenance": [],
      "include_colab_link": true
    }
  },
  "cells": [
    {
      "cell_type": "markdown",
      "metadata": {
        "id": "view-in-github",
        "colab_type": "text"
      },
      "source": [
        "<a href=\"https://colab.research.google.com/github/gachet/mis-colabs/blob/master/Lab4_ra%C3%ADces_entrega.ipynb\" target=\"_parent\"><img src=\"https://colab.research.google.com/assets/colab-badge.svg\" alt=\"Open In Colab\"/></a>"
      ]
    },
    {
      "cell_type": "markdown",
      "metadata": {
        "id": "dN2-Q-LaM3x9",
        "colab_type": "text"
      },
      "source": [
        "# Computación Científica ||\n",
        "# Laboratorio 4.- Solución de ecuaciones no lineales\n",
        "<br>"
      ]
    },
    {
      "cell_type": "markdown",
      "metadata": {
        "id": "Vk9WidM4M3ya",
        "colab_type": "text"
      },
      "source": [
        "## 1.- Una esfera que flota"
      ]
    },
    {
      "cell_type": "markdown",
      "metadata": {
        "id": "2QQJskD5M3yo",
        "colab_type": "text"
      },
      "source": [
        " Si depositamos un sólido en la superficie de un líquido, de acuerdo con el teorema de Arquímedes, el sólido se sumergirá hasta una cierta profundidad de forma que el peso del sólido sea igual al peso de fluido desplazado"
      ]
    },
    {
      "cell_type": "markdown",
      "metadata": {
        "id": "jiZJiW9yM3yx",
        "colab_type": "text"
      },
      "source": [
        "<img src=\"https://drive.google.com/uc?id=1TqKOPCLTFu05fnoCt0JHCjFLdU0qe5zf\" alt=\"Lamp\" width=\"220\" height=\"120\">"
      ]
    },
    {
      "cell_type": "markdown",
      "metadata": {
        "id": "xJ7gYCquM3y6",
        "colab_type": "text"
      },
      "source": [
        "Tenemos una esfera como la de la foto de radio R = 1 m y que está sumergida hasta una profundidad H. Determinar cuánto se hunde la esfera si el peso de la niña es de 25 kg y la esfera de plástico pesa 2 kg. La densidad del agua $\\rho_{a}$ es $1000 \\,kg/m^{3}$ . El error máximo cometido ha de ser de un milímetro."
      ]
    },
    {
      "cell_type": "markdown",
      "metadata": {
        "id": "8GbTLuMaM3zM",
        "colab_type": "text"
      },
      "source": [
        "El volumen sumergido de la esfera  se puede representar como indica la siguiente figura"
      ]
    },
    {
      "cell_type": "markdown",
      "metadata": {
        "id": "Md9spfGFM3zR",
        "colab_type": "text"
      },
      "source": [
        "<img src=\"https://drive.google.com/uc?id=136Z7FWPfm3clkPL7GVvP8EKkKdSMkuBb\" alt=\"Lamp\" width=\"220\" height=\"120\">"
      ]
    },
    {
      "cell_type": "markdown",
      "metadata": {
        "id": "ktKhHWjdM3zY",
        "colab_type": "text"
      },
      "source": [
        " El volumen sumergido se puede calcular como <br><br>\n",
        "$\\displaystyle V=\\int_{R-H}^{R}\\pi f(x)^{2} = \\int_{R-H}^{R}\\pi (R^{2}-x^{2})dx$"
      ]
    },
    {
      "cell_type": "markdown",
      "metadata": {
        "id": "2E7jF-aDM3ze",
        "colab_type": "text"
      },
      "source": [
        "1.- Enconrar a partir de la integral el volumen sumegido V como f(H) si  R = 1 m<br>\n",
        "2.- A su vez, el peso del volumen desalojado es $V*\\rho_a = peso_{niña}+peso_{esfera}$ <br>\n",
        "3.- Teniendo en cuenta lo anterior obtener $V=f(H)=0$<br>\n",
        "4.-  Obrener la derivada <br>\n",
        "5.- Dibujar la función y su derivada<br>\n",
        "5.- Obtener mediante el método de Newton el valor de H  con un valor de inicio 0.5\n"
      ]
    },
    {
      "cell_type": "code",
      "metadata": {
        "id": "kVk273Uwe74A",
        "colab_type": "code",
        "colab": {}
      },
      "source": [
        ""
      ],
      "execution_count": 0,
      "outputs": []
    },
    {
      "cell_type": "markdown",
      "metadata": {
        "id": "oStKz96wM3zi",
        "colab_type": "text"
      },
      "source": [
        "** Solución  H = 0.0942077 m **"
      ]
    },
    {
      "cell_type": "markdown",
      "metadata": {
        "id": "KqvDN-r4M3zo",
        "colab_type": "text"
      },
      "source": [
        "## 2 . La ecuación de Bernoulli para el flujo de fluido en una tubería abierta con una pequeña protuberancia es\n",
        "\n"
      ]
    },
    {
      "cell_type": "markdown",
      "metadata": {
        "id": "viLQl_gPM3zu",
        "colab_type": "text"
      },
      "source": [
        "<img src=\"https://drive.google.com/uc?id=12ZdSXp5pL2UXm8xHnKRnX0XA9Y6onLbV\" alt=\"Lamp\" width=\"420\" height=\"320\">"
      ]
    },
    {
      "cell_type": "markdown",
      "metadata": {
        "id": "bhBBE-5uM3zy",
        "colab_type": "text"
      },
      "source": [
        "$$\\frac{Q^{2}}{2gb^{2}h_{0}^{2}}+h_{0} = \\frac{Q^{2}}{2gb^{2}h^{2}}+h + H $$"
      ]
    },
    {
      "cell_type": "markdown",
      "metadata": {
        "id": "CqW6CfSpM3z3",
        "colab_type": "text"
      },
      "source": [
        "Donde:<br>\n",
        "$\n",
        "Q = 1.2 \\,m^{3}/s = $&nbsp;&nbsp; caudal de agua  <br>\n",
        "$g = 9.81 \\, m/s^{2} = $&nbsp;&nbsp;aceleración de la gravedad <br>\n",
        "$b = 1.8 \\, m = $&nbsp;&nbsp;ancho de la tubería <br>\n",
        "$h_0 = 0.6 \\,m = $&nbsp;&nbsp;altura del agua en la tubería <br>\n",
        "$H = 0.075 \\,m = $&nbsp;&nbsp;altura de la protuberancia <br>\n",
        "$h = $&nbsp;&nbsp;altura del agua en la protuberancia <br>\n",
        "\n",
        "    "
      ]
    },
    {
      "cell_type": "markdown",
      "metadata": {
        "id": "wp9strd0M3z6",
        "colab_type": "text"
      },
      "source": [
        "** Para los datos dados calcular **$h$"
      ]
    },
    {
      "cell_type": "markdown",
      "metadata": {
        "id": "vk7xy9E0M30A",
        "colab_type": "text"
      },
      "source": [
        "Ayuda: Dividir ambos lados de la ecuación anterior por $h_0$. Introducir una nueva variable $\\displaystyle u=\\frac{h}{h_0}$. Operar y obtener $f(u)=0$. <br>\n",
        "\n",
        "1.- Obtener la derivada <br>\n",
        "5.- Dibujar la función y su derivada <br>\n",
        "5.- Obtener mediante el método de Newton el valor de u con un valor de inicio 0.3<br>\n",
        "2.- Encontrar h."
      ]
    },
    {
      "cell_type": "markdown",
      "metadata": {
        "id": "s8uvlOMxM30H",
        "colab_type": "text"
      },
      "source": [
        "** solución u=0.441248, h=0,26 m **\n"
      ]
    },
    {
      "cell_type": "markdown",
      "metadata": {
        "id": "EkPx60a6M30O",
        "colab_type": "text"
      },
      "source": [
        "## 3.- La velocidad $v$ de un cohete Saturno V cerca de la superficie terrestre se puede aproximar mediante"
      ]
    },
    {
      "cell_type": "markdown",
      "metadata": {
        "id": "Dw2EvWqHM30V",
        "colab_type": "text"
      },
      "source": [
        "$\\displaystyle v=u\\ln\\left(\\frac{M_{0}}{M_{0}-\\dot{m}t}\\right)-gt$"
      ]
    },
    {
      "cell_type": "markdown",
      "metadata": {
        "id": "Dwjz3kRkM30c",
        "colab_type": "text"
      },
      "source": [
        "Siendo :\n",
        "\n",
        "$u = 2510\\, m/s = $&nbsp; velocidad de salida de los gases de propulsión<br>\n",
        "$M_{0} = 2.8 × 10^{6}\\, kg = $&nbsp;masa del cohete al despegue<br>\n",
        "$\\dot m = 13.3 × 10^{3}\\, kg/s = $&nbsp;velocidad de consumo de combustible<br>\n",
        "$g = 9.81\\, m/s^{2} = $&nbsp;aceleración de la gravedad<br>\n",
        "$t = $&nbsp;tiempo medido desde el despegue"
      ]
    },
    {
      "cell_type": "markdown",
      "metadata": {
        "id": "YAnfh7CcM30i",
        "colab_type": "text"
      },
      "source": [
        "#### Determinar el tiempo en el que el cohete alcanza la velocidad del sonido $335 \\,m/s$"
      ]
    },
    {
      "cell_type": "markdown",
      "metadata": {
        "id": "JDvcqbZpM30r",
        "colab_type": "text"
      },
      "source": [
        "Ayuda: Definir $v=f(t)-335 = 0$<br> \n",
        "\n",
        "1.- Obtener la derivada <br>\n",
        "2.- Dibujar la función y su derivada<br>\n",
        "3.- Resolver mediante el método de Newton con un valor de inicio 30\n",
        " \n"
      ]
    },
    {
      "cell_type": "markdown",
      "metadata": {
        "id": "Vh7HW3eSM30x",
        "colab_type": "text"
      },
      "source": [
        "** solución v = 70.877972  m/seg **"
      ]
    },
    {
      "cell_type": "markdown",
      "metadata": {
        "id": "VdtotIvTM303",
        "colab_type": "text"
      },
      "source": [
        "## 4.-  Un tanque de aceite cilíndrico de radio $r$ y longitud $L$ se llena hasta una profundidad $h$. El volumen $V$ resultante del aceite en el tanque es :"
      ]
    },
    {
      "cell_type": "markdown",
      "metadata": {
        "id": "te84AXspM30-",
        "colab_type": "text"
      },
      "source": [
        "<img src=\"https://drive.google.com/uc?id=1yCot_xedOh44rNeMQTJmybJNTNTL0txz\" alt=\"Lamp\" width=\"220\" height=\"120\">"
      ]
    },
    {
      "cell_type": "markdown",
      "metadata": {
        "id": "LLc8ydLpM31D",
        "colab_type": "text"
      },
      "source": [
        "$$\\displaystyle V=r^{2}L\\left[\\phi-\\left(1-\\frac{h}{r}\\right)\\sin\\phi\\right] $$"
      ]
    },
    {
      "cell_type": "markdown",
      "metadata": {
        "id": "EJrJzEfrM31H",
        "colab_type": "text"
      },
      "source": [
        "<p style=\"text-align: center;\">  Siendo </p><br> $$\\displaystyle \\phi=\\cos^{-1}\\left(1-\\frac{h}{r}\\right) $$"
      ]
    },
    {
      "cell_type": "markdown",
      "metadata": {
        "id": "UxA0g-Q9M31K",
        "colab_type": "text"
      },
      "source": [
        " **Si el tanque está lleno 3/4 del volumen total determinar la relación $\\displaystyle  \\frac{h}{r}$ **"
      ]
    },
    {
      "cell_type": "markdown",
      "metadata": {
        "id": "sGqUtsqpM31O",
        "colab_type": "text"
      },
      "source": [
        "El volumen total del tanque es $ V_0 = \\pi r^{2}L$"
      ]
    },
    {
      "cell_type": "markdown",
      "metadata": {
        "id": "POWtF229M31R",
        "colab_type": "text"
      },
      "source": [
        "Ayuda: Hacer $\\alpha= 1 -\\frac{h}{r} $<br>\n",
        "1.- Encontrar una ecuacióm $f(\\alpha)=0 $<br>\n",
        "2.- Dibujar la función <br>\n",
        "3.- Resolver por bisección, con valores de inicio en el intervalo [-0.5,0.5]<br>\n",
        "4.- Una vez encontrado  $\\alpha$ hallar h/r <br>\n",
        "En numpy la función arccos  es np.arccos(x)"
      ]
    },
    {
      "cell_type": "markdown",
      "metadata": {
        "id": "FaDdBofXM31U",
        "colab_type": "text"
      },
      "source": [
        "##### Solución alfa = -0.403973 \n",
        "##### Relacion h/r es 1-alfa, 1.4039726257324219"
      ]
    },
    {
      "cell_type": "markdown",
      "metadata": {
        "id": "Ok5xQvIaM31Y",
        "colab_type": "text"
      },
      "source": [
        "## 5.- Los sistemas mecánicos  implican la desviación de resortes no lineales.  En la siguiente figura, un bloque de masa $m $ se libera a una distancia $h$ por encima de un resorte no lineal.  La resistencia la fuerza F del resorte viene dada por"
      ]
    },
    {
      "cell_type": "markdown",
      "metadata": {
        "id": "yVGGwF7JM31d",
        "colab_type": "text"
      },
      "source": [
        "<img src=\"https://drive.google.com/uc?id=17-8e6sqm2yaXWLegw8JzHcR-PocKWL_e\" alt=\"Lamp\" width=\"220\" height=\"120\">"
      ]
    },
    {
      "cell_type": "markdown",
      "metadata": {
        "id": "7Cyrpk2zM31g",
        "colab_type": "text"
      },
      "source": [
        "$$\\displaystyle F=-\\left(k_{1}d+k_{2}d^{3/2}\\right)$$"
      ]
    },
    {
      "cell_type": "markdown",
      "metadata": {
        "id": "a1P6icpBM31k",
        "colab_type": "text"
      },
      "source": [
        "Por otro lado el principio de conservación de energía nos dice que:"
      ]
    },
    {
      "cell_type": "markdown",
      "metadata": {
        "id": "gIAptWjkM31o",
        "colab_type": "text"
      },
      "source": [
        "$\\displaystyle 0=\\frac{2k_{2}d^{\\frac{5}{2}}}{5}+\\frac{1}{2}k_{1}d^{2}-mgd-mgh $"
      ]
    },
    {
      "cell_type": "markdown",
      "metadata": {
        "id": "_kGgPEHGM31r",
        "colab_type": "text"
      },
      "source": [
        "Encontrar  $d$, dados los siguientes valores: <br><br>\n",
        "k1 = 40.000 g / $s^{2}$<br>\n",
        "k2 = 40 g / ($s^{2} m^{0.5}$)<br>\n",
        "m = 95 g<br>\n",
        "g = 9.81 m / $s^{2}$<br>\n",
        "h = 0,43 m."
      ]
    },
    {
      "cell_type": "markdown",
      "metadata": {
        "id": "XWsTGpwlM31u",
        "colab_type": "text"
      },
      "source": [
        "1.- Dibujar la función <br>\n",
        "2.- y resolver por bisección. mirar  el intervalo de interés<br>\n"
      ]
    },
    {
      "cell_type": "markdown",
      "metadata": {
        "id": "5hf31wxmM31y",
        "colab_type": "text"
      },
      "source": [
        "** Solución d=0.1666247790018 m **"
      ]
    },
    {
      "cell_type": "markdown",
      "metadata": {
        "id": "1g8htlDbM313",
        "colab_type": "text"
      },
      "source": [
        "## 6.   La trayectoria de una pelota lanzada en un juego de béisbol por el lanzador  se define por las coordenadas (x, y) como se muestra en la figura . La trayectoria se puede modelar como :"
      ]
    },
    {
      "cell_type": "markdown",
      "metadata": {
        "id": "FAk6noueM316",
        "colab_type": "text"
      },
      "source": [
        "<img src=\"https://drive.google.com/uc?id=1zn1RpROm6xCQTKbZCn9FM6sSwBi15E-t\" alt=\"Lamp\" width=\"220\" height=\"120\">"
      ]
    },
    {
      "cell_type": "markdown",
      "metadata": {
        "id": "zZlAyBbMM32A",
        "colab_type": "text"
      },
      "source": [
        "$$\\displaystyle Y=\\left(\\tan\\theta_{0}\\right)x-\\frac{g}{2v_{0}^{2}\\cos^{2}\\theta_{0}}x^{2}+y_{0} $$"
      ]
    },
    {
      "cell_type": "markdown",
      "metadata": {
        "id": "gdwfME3NM32F",
        "colab_type": "text"
      },
      "source": [
        "Encontrar el ángulo inicial apropiado $θ_0$, si $v_0 = 30\\, m/s $, y la\n",
        " distancia al receptor es de $90\\,m$. Tengamos en cuenta que el lanzamiento deja la\n",
        "mano del lanzador  derecho a una altura de $1.8 \\,m$ y el receptor recibe la pelota a \n",
        "$1\\, m$ de altura. $y_0$ es la altura a la que el receptor atrapa la pelota."
      ]
    },
    {
      "cell_type": "markdown",
      "metadata": {
        "id": "GtEYMCzFM32K",
        "colab_type": "text"
      },
      "source": [
        "Si la altura a la que la pelota abandona el brazo del lanzador es $y = 0$ para $x=0$ entonces la coordenada  $\\,y\\, a \\,90 \\, m $ es -0.8 m cuando el receptor coge la pelota."
      ]
    },
    {
      "cell_type": "markdown",
      "metadata": {
        "id": "zg1kWjZBM32P",
        "colab_type": "text"
      },
      "source": [
        "1.- Con los datos encontrar una ecuación $\\displaystyle F(\\theta_0)  = 0$<br>\n",
        "2.- Dibujar la función , tener en cuenta que los ángulos están en radianes<br>\n",
        "3.- resolver por bisección.<br>"
      ]
    },
    {
      "cell_type": "markdown",
      "metadata": {
        "id": "7VFMij6MM32T",
        "colab_type": "text"
      },
      "source": [
        "** Hay dos soluciones  theta = 0.899398 = 51.53 grados o también 37.96  grados**"
      ]
    },
    {
      "cell_type": "markdown",
      "metadata": {
        "id": "QcePc1cYM32X",
        "colab_type": "text"
      },
      "source": [
        "# Sistemas de ecuaciones no lineales"
      ]
    },
    {
      "cell_type": "markdown",
      "metadata": {
        "id": "PeYy8OOKM32b",
        "colab_type": "text"
      },
      "source": [
        "## 1.- Determinar los puntos de intersección entre el círculo $ x^{2} + y^{2} = 3 $ y la hipérbola $xy = 1$."
      ]
    },
    {
      "cell_type": "markdown",
      "metadata": {
        "id": "qLopSj58M32j",
        "colab_type": "text"
      },
      "source": [
        "Las ecuaciones son:\n",
        "$$f1(x, y) = x^{2} + y^{2} − 3 =0$$ \n",
        "$$f2(x, y) = xy − 1 =0$$"
      ]
    },
    {
      "cell_type": "markdown",
      "metadata": {
        "id": "mdZpY6yhM32l",
        "colab_type": "text"
      },
      "source": [
        "<img src=\"https://drive.google.com/uc?id=1HAdRKQe1fZFIrnCGxryG-0nWblnkFKly\" alt=\"Lamp\" width=\"220\" height=\"120\">\n"
      ]
    },
    {
      "cell_type": "markdown",
      "metadata": {
        "id": "Dc_4vsedM32p",
        "colab_type": "text"
      },
      "source": [
        "Encontrar un sólo punto de intersección, los demás son simétricos, \n",
        "los valores iniciales estimados son $x = 0.5 \\,\\, y = 1.5$<br>\n",
        "\n",
        "1.- Hacer  $x_0 = x$ y $x1 =y$ <br> \n",
        "2.- Obtener el JACOBIANO de forma analítica <br>\n",
        "2.-Utilizar el método de Newton-Raphson para  encontrar la solución\n"
      ]
    },
    {
      "cell_type": "markdown",
      "metadata": {
        "id": "ql0sUUagM32t",
        "colab_type": "text"
      },
      "source": [
        "** solución  x=0.61803  y = 1.61803 **"
      ]
    },
    {
      "cell_type": "markdown",
      "metadata": {
        "id": "qeWQ1iA5M32w",
        "colab_type": "text"
      },
      "source": [
        "## 2.-  La trayectoria de un satélite que orbita la tierra es"
      ]
    },
    {
      "cell_type": "markdown",
      "metadata": {
        "id": "tWZyFimXM320",
        "colab_type": "text"
      },
      "source": [
        "<img src=\"https://drive.google.com/uc?id=13aWwkPQAVwLE-Iaa0rDevLSRqyU4nk6L\" alt=\"Lamp\" width=\"220\" height=\"120\">"
      ]
    },
    {
      "cell_type": "markdown",
      "metadata": {
        "id": "WP3ZLmaXM323",
        "colab_type": "text"
      },
      "source": [
        "$$ \\displaystyle R =\\frac{C}{1+e\\sin(\\theta+\\alpha)}$$"
      ]
    },
    {
      "cell_type": "markdown",
      "metadata": {
        "id": "DkZlMQ1XM326",
        "colab_type": "text"
      },
      "source": [
        "Siendo (R, θ) las coordenadas polares del satélie y C, e, y α son constantes (e es la excentricidad). Si se ha observado el satélite en las tres posiciones siguientes"
      ]
    },
    {
      "cell_type": "markdown",
      "metadata": {
        "id": "Do1w3Qi-M329",
        "colab_type": "text"
      },
      "source": [
        "\n",
        "| $ \\theta$ | -30º | 0º | 30º |\n",
        "| --- | --- | --- | --- |\n",
        "| R (Km) | 6870 | 6728 | 6615 |"
      ]
    },
    {
      "cell_type": "markdown",
      "metadata": {
        "id": "RdzhV_YpM33A",
        "colab_type": "text"
      },
      "source": [
        "** Determinar el valor mas pequeño de R y el correspondiemte valor de  θ. Sabiendo que: **"
      ]
    },
    {
      "cell_type": "markdown",
      "metadata": {
        "id": "2nAzcpAYM33E",
        "colab_type": "text"
      },
      "source": [
        "Una vez encontrados C, e y α, el valor mínimo de  R es \n",
        "$\\displaystyle R_{min} = \\frac{C}{1+e}$ <br>\n",
        "que tiene lugar cuando\n",
        "$\\displaystyle \\sin(\\theta+\\alpha) = 1 \\,\\,\\, \\theta = \\frac{\\pi}{2}-\\alpha$"
      ]
    },
    {
      "cell_type": "markdown",
      "metadata": {
        "id": "6u0lcsx3M33H",
        "colab_type": "text"
      },
      "source": [
        "A partir de los datos de la tabla escribir tres ecuaciones en C,e y α. Los ángulos deben estar en radianes\n"
      ]
    },
    {
      "cell_type": "markdown",
      "metadata": {
        "id": "PEcapDjeM33M",
        "colab_type": "text"
      },
      "source": [
        "1.- A partir de los datos de la tabla escribir tres ecuaciones en C,e y α. Los ángulos deben estar en radianes <br>\n",
        "2.- Hacer $x_0=C$ $x_1=e$ y $x_2=\\alpha$ y codificar las funciones correspondientes<br>\n",
        "3.- Resolver por Newton Raphson  utilizando la versión con el Jacobiano aproximado.Utilizar como valores iniciales 6800,0.5,0<br>\n",
        "4.- Una vez obtenidos C,e y α calcular Rmin y θ\n",
        "\n"
      ]
    },
    {
      "cell_type": "markdown",
      "metadata": {
        "id": "cwh_ElkDM33Q",
        "colab_type": "text"
      },
      "source": [
        "** Solución Rmin = 6553.23910701 km Theta = 70.4745151918 grados **"
      ]
    },
    {
      "cell_type": "markdown",
      "metadata": {
        "id": "VeG4kRiOM33U",
        "colab_type": "text"
      },
      "source": [
        "## 3.- Un proyectil se lanza desde el punto O con una velocidad  v y un ángulo θ.  Las ecuaciones paramétricas de la trayectoria son:"
      ]
    },
    {
      "cell_type": "markdown",
      "metadata": {
        "id": "ZDZKmSa4M33V",
        "colab_type": "text"
      },
      "source": [
        "<img src=\"https://drive.google.com/uc?id=1mXs108No003xzu86fd0bQsvXNAjfOObM\" alt=\"Lamp\" width=\"220\" height=\"120\">"
      ]
    },
    {
      "cell_type": "markdown",
      "metadata": {
        "id": "j3ApofMcM33Y",
        "colab_type": "text"
      },
      "source": [
        "$$\\displaystyle x=(v\\cos\\theta)t$$\n",
        "$$\\displaystyle y=-\\frac{1}{2}gt^{2}+(v\\sin\\theta)t$$\n"
      ]
    },
    {
      "cell_type": "markdown",
      "metadata": {
        "id": "vJ3VbnVBM33b",
        "colab_type": "text"
      },
      "source": [
        "donde t es el tiempo medido desde el instante del lanzamiento, y g = 9.81 m / s2 representa\n",
        "la aceleración gravitacional. Si el proyectil debe hacer blanco en  A con\n",
        "un ángulo de 45 ° como se muestra en la figura, determinar v, θ y el tiempo de vuelo."
      ]
    },
    {
      "cell_type": "markdown",
      "metadata": {
        "id": "1YfynYF6M33d",
        "colab_type": "text"
      },
      "source": [
        "** Como tenemos tres incógnitas necesitamos encontrar  otra ecuación, que bien puede ser  $\\displaystyle \\frac{dy}{dx}$ **"
      ]
    },
    {
      "cell_type": "markdown",
      "metadata": {
        "id": "h8pXM3AoM33g",
        "colab_type": "text"
      },
      "source": [
        "Haciendo $\\tau$ el tiempo de vuelo, las especificaciones finales nos dicen que"
      ]
    },
    {
      "cell_type": "markdown",
      "metadata": {
        "id": "DtER1L9qM33k",
        "colab_type": "text"
      },
      "source": [
        "$\\displaystyle x(\\tau) = 300\\,m\\,\\,\\, y(\\tau) = 61 \\, m \\,\\,\\,y \\,\\,\\,   \\left. \\frac{dy}{dx} \\right |_{\\tau}= -1$"
      ]
    },
    {
      "cell_type": "markdown",
      "metadata": {
        "id": "g6jQhhTMM33n",
        "colab_type": "text"
      },
      "source": [
        "1.- Con ésto podéis ya escribir las tres ecuaciones necesarias, que tienen como variables \n",
        "$\\tau \\,\\,\\, v \\,\\,y\\,\\, \\theta $ <br> \n",
        "2.- Utilizaremos la notación $x_0 = \\tau \\,\\,\\, , x_1=v   \\,\\,y\\,\\, x_2 =\\theta $<br>\n",
        "3.- Resolver por Newton Raphson utilizando la versión con el Jacobiano aproximado y con valores iniciales $\\tau = 10\\, s \\,$, $\\theta = 45º y \\,v=57 \\,\\,m/s$. Tened en cuenta que debemos trabajr en radianes"
      ]
    },
    {
      "cell_type": "markdown",
      "metadata": {
        "id": "BsLUmdfzM33q",
        "colab_type": "text"
      },
      "source": [
        "** Sol.\n",
        "Tiempo de vuelo = 8.57894917873 s <br>\n",
        "Velocidad de lanzamiento = 60.3533459817 m/s <br>\n",
        "Angulo de elevación = 54.5909609221 grados **"
      ]
    },
    {
      "cell_type": "markdown",
      "metadata": {
        "id": "2r2XXcnvM33s",
        "colab_type": "text"
      },
      "source": [
        "## 4.- Un cable de 15 m está suspendido entre A y D y soporta cargas concentradas en B y C. Las ecuaciones de equilibrio vertical de las uniones B y C son:"
      ]
    },
    {
      "cell_type": "markdown",
      "metadata": {
        "id": "Oar7NWT7M33v",
        "colab_type": "text"
      },
      "source": [
        "<img src=\"https://drive.google.com/uc?id=1ejnVSuAxHGKci4JhSP0wYE6kYva8SpsR\" alt=\"Lamp\" width=\"220\" height=\"120\">\n"
      ]
    },
    {
      "cell_type": "markdown",
      "metadata": {
        "id": "iNPHJIPVM33x",
        "colab_type": "text"
      },
      "source": [
        "\n",
        "$$ T(-\\tan \\theta_2 +\\tan \\theta_1)=16 $$\n",
        "$$ T(\\tan \\theta_3 +\\tan \\theta_2)= 20 $$"
      ]
    },
    {
      "cell_type": "markdown",
      "metadata": {
        "id": "5JaDdy5NM330",
        "colab_type": "text"
      },
      "source": [
        "donde T es el componente horizontal de la fuerza del cable (es el mismo en todos los segmentos.\n",
        "Además, hay dos restricciones geométricas impuestas por Las posiciones de los soportes:\n",
        "\n"
      ]
    },
    {
      "cell_type": "markdown",
      "metadata": {
        "id": "VjVkP1ynM332",
        "colab_type": "text"
      },
      "source": [
        "\n",
        "$$ -4 \\sin \\theta_1 -6 \\sin \\theta_2 +5 \\sin \\theta_2 = -3 $$\n",
        "$$ 4 \\cos \\theta_1 + 6 \\cos \\theta_2 + 5 \\cos \\theta_3 = 12$$"
      ]
    },
    {
      "cell_type": "markdown",
      "metadata": {
        "id": "Ctlc8oZ5M335",
        "colab_type": "text"
      },
      "source": [
        "Tenemos entonces 4 ecuaciones y cuatro incógnitas"
      ]
    },
    {
      "cell_type": "markdown",
      "metadata": {
        "id": "GYvQmfXxM337",
        "colab_type": "text"
      },
      "source": [
        "** Determinar los ángulos θ1, θ2, θ3 y T . **<br>\n",
        "1.- Hacer $x_0= T \\,\\,x_1=\\theta1\\,\\,x_2=\\theta2\\,\\,x_3=\\theta3$ <br>\n",
        "2.- Utilizar Newton Raphson con valores aproximados θ1 = 0.8 rad θ2 = 0.3 rad θ3 = 0.4 rad T = 20 kN. Probar con la versión del algoritmo que utiliza el Jacobiano (calculadlo e implementadlo) y también con la versión del Jacobiano aproximado"
      ]
    },
    {
      "cell_type": "markdown",
      "metadata": {
        "id": "VczCOZN5M34C",
        "colab_type": "text"
      },
      "source": [
        "** Solución <br>\n",
        "θ1 = 0.9358 rad = 53,62 º <br>\n",
        "θ2 = 0.4334 rad = 24,83 º <br>\n",
        "θ3 = 0.5800 rad = 33,23 º <br>\n",
        "T = 17,89 kN **\n",
        "    "
      ]
    },
    {
      "cell_type": "code",
      "metadata": {
        "id": "JiGWD69cM34K",
        "colab_type": "code",
        "colab": {}
      },
      "source": [
        ""
      ],
      "execution_count": 0,
      "outputs": []
    }
  ]
}