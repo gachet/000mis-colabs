{
  "nbformat": 4,
  "nbformat_minor": 0,
  "metadata": {
    "anaconda-cloud": {},
    "kernelspec": {
      "display_name": "Python 3",
      "language": "python",
      "name": "python3"
    },
    "language_info": {
      "codemirror_mode": {
        "name": "ipython",
        "version": 3
      },
      "file_extension": ".py",
      "mimetype": "text/x-python",
      "name": "python",
      "nbconvert_exporter": "python",
      "pygments_lexer": "ipython3",
      "version": "3.6.5"
    },
    "latex_envs": {
      "LaTeX_envs_menu_present": true,
      "autocomplete": true,
      "bibliofile": "biblio.bib",
      "cite_by": "apalike",
      "current_citInitial": 1,
      "eqLabelWithNumbers": true,
      "eqNumInitial": 1,
      "hotkeys": {
        "equation": "Ctrl-E",
        "itemize": "Ctrl-I"
      },
      "labels_anchors": false,
      "latex_user_defs": false,
      "report_style_numbering": true,
      "user_envs_cfg": true
    },
    "colab": {
      "name": "riemann.ipynb",
      "provenance": [],
      "collapsed_sections": [],
      "include_colab_link": true
    }
  },
  "cells": [
    {
      "cell_type": "markdown",
      "metadata": {
        "id": "view-in-github",
        "colab_type": "text"
      },
      "source": [
        "<a href=\"https://colab.research.google.com/github/gachet/mis-colabs/blob/master/riemann.ipynb\" target=\"_parent\"><img src=\"https://colab.research.google.com/assets/colab-badge.svg\" alt=\"Open In Colab\"/></a>"
      ]
    },
    {
      "cell_type": "code",
      "metadata": {
        "id": "eC-YRZmDv5DS",
        "colab_type": "code",
        "colab": {}
      },
      "source": [
        "import numpy as np"
      ],
      "execution_count": 0,
      "outputs": []
    },
    {
      "cell_type": "code",
      "metadata": {
        "id": "2jmGUKeCvv2q",
        "colab_type": "code",
        "colab": {}
      },
      "source": [
        "def riemann_sum(f,a,b,N,method='midpoint'):\n",
        "    '''Compute the Riemann sum of f(x) over the interval [a,b].\n",
        "\n",
        "    Parameters\n",
        "    ----------\n",
        "    f : function\n",
        "        Vectorized function of one variable\n",
        "    a , b : numbers\n",
        "        Endpoints of the interval [a,b]\n",
        "    N : integer\n",
        "        Number of subintervals of equal length in the partition of [a,b]\n",
        "    method : string\n",
        "        Determines the kind of Riemann sum:\n",
        "        right : Riemann sum using right endpoints\n",
        "        left : Riemann sum using left endpoints\n",
        "        midpoint (default) : Riemann sum using midpoints\n",
        "\n",
        "    Returns\n",
        "    -------\n",
        "    float\n",
        "        Approximation of the integral given by the Riemann sum.\n",
        "    '''\n",
        "    dx = (b - a)/N\n",
        "    x = np.linspace(a,b,N+1)\n",
        "    print('x', x)\n",
        "    if method == 'left':\n",
        "        x_left = x[:-1]\n",
        "        print('xleft',x_left)\n",
        "        return np.sum(f(x_left)*dx)\n",
        "    elif method == 'right':\n",
        "        x_right = x[1:]\n",
        "        print('xleft',x_right)\n",
        "        return np.sum(f(x_right)*dx)\n",
        "    elif method == 'midpoint':\n",
        "        x_mid = (x[:-1] + x[1:])/2\n",
        "        return np.sum(f(x_mid)*dx)\n",
        "    else:\n",
        "        raise ValueError(\"Method must be 'left', 'right' or 'midpoint'.\")"
      ],
      "execution_count": 0,
      "outputs": []
    },
    {
      "cell_type": "code",
      "metadata": {
        "id": "3zQMM0njwDw1",
        "colab_type": "code",
        "outputId": "c6f3fe25-8dce-4999-e8f1-2af37071b480",
        "colab": {
          "base_uri": "https://localhost:8080/",
          "height": 35
        }
      },
      "source": [
        "riemann_sum(np.sin,0,np.pi/2,100)"
      ],
      "execution_count": 0,
      "outputs": [
        {
          "output_type": "execute_result",
          "data": {
            "text/plain": [
              "1.0000102809119054"
            ]
          },
          "metadata": {
            "tags": []
          },
          "execution_count": 5
        }
      ]
    },
    {
      "cell_type": "code",
      "metadata": {
        "id": "jh0zeKE3xA79",
        "colab_type": "code",
        "colab": {}
      },
      "source": [
        "f = lambda x: np.exp(-x**2)"
      ],
      "execution_count": 0,
      "outputs": []
    },
    {
      "cell_type": "code",
      "metadata": {
        "id": "Cb364dnTiNMc",
        "colab_type": "code",
        "outputId": "9550e208-812d-4e35-e19e-f6a82f1e4533",
        "colab": {
          "base_uri": "https://localhost:8080/",
          "height": 35
        }
      },
      "source": [
        "f(-0.75)"
      ],
      "execution_count": 0,
      "outputs": [
        {
          "output_type": "execute_result",
          "data": {
            "text/plain": [
              "0.569782824730923"
            ]
          },
          "metadata": {
            "tags": []
          },
          "execution_count": 10
        }
      ]
    },
    {
      "cell_type": "code",
      "metadata": {
        "id": "TVPw3FefwfC2",
        "colab_type": "code",
        "outputId": "3a21a262-87c8-43e2-ef67-cb3cbf92d328",
        "colab": {
          "base_uri": "https://localhost:8080/",
          "height": 71
        }
      },
      "source": [
        "riemann_sum(f,-1,1,8,'left')"
      ],
      "execution_count": 0,
      "outputs": [
        {
          "output_type": "stream",
          "text": [
            "x [-1.   -0.75 -0.5  -0.25  0.    0.25  0.5   0.75  1.  ]\n",
            "xleft [-1.   -0.75 -0.5  -0.25  0.    0.25  0.5   0.75]\n"
          ],
          "name": "stdout"
        },
        {
          "output_type": "execute_result",
          "data": {
            "text/plain": [
              "1.4859681956007624"
            ]
          },
          "metadata": {
            "tags": []
          },
          "execution_count": 7
        }
      ]
    },
    {
      "cell_type": "code",
      "metadata": {
        "id": "t-leIg-nyaz8",
        "colab_type": "code",
        "outputId": "b3001d59-c1e2-41ce-9a02-06abce67728f",
        "colab": {
          "base_uri": "https://localhost:8080/",
          "height": 71
        }
      },
      "source": [
        "riemann_sum(f,-1,1,8,'right')"
      ],
      "execution_count": 0,
      "outputs": [
        {
          "output_type": "stream",
          "text": [
            "x [-1.   -0.75 -0.5  -0.25  0.    0.25  0.5   0.75  1.  ]\n",
            "xleft [-0.75 -0.5  -0.25  0.    0.25  0.5   0.75  1.  ]\n"
          ],
          "name": "stdout"
        },
        {
          "output_type": "execute_result",
          "data": {
            "text/plain": [
              "1.4859681956007624"
            ]
          },
          "metadata": {
            "tags": []
          },
          "execution_count": 8
        }
      ]
    },
    {
      "cell_type": "code",
      "metadata": {
        "id": "fsIO_k0tynlN",
        "colab_type": "code",
        "outputId": "ba5a863f-9a2d-4c50-da9e-2d6742246fcd",
        "colab": {
          "base_uri": "https://localhost:8080/",
          "height": 35
        }
      },
      "source": [
        "riemann_sum(f,-1,1,8)"
      ],
      "execution_count": 0,
      "outputs": [
        {
          "output_type": "execute_result",
          "data": {
            "text/plain": [
              "1.4974942637820186"
            ]
          },
          "metadata": {
            "tags": []
          },
          "execution_count": 13
        }
      ]
    }
  ]
}