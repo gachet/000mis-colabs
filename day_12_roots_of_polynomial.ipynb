{
  "nbformat": 4,
  "nbformat_minor": 0,
  "metadata": {
    "kernelspec": {
      "display_name": "Python 3",
      "language": "python",
      "name": "python3"
    },
    "language_info": {
      "codemirror_mode": {
        "name": "ipython",
        "version": 3
      },
      "file_extension": ".py",
      "mimetype": "text/x-python",
      "name": "python",
      "nbconvert_exporter": "python",
      "pygments_lexer": "ipython3",
      "version": "3.6.5"
    },
    "colab": {
      "name": "day 12 - roots of polynomial.ipynb",
      "provenance": [],
      "include_colab_link": true
    }
  },
  "cells": [
    {
      "cell_type": "markdown",
      "metadata": {
        "id": "view-in-github",
        "colab_type": "text"
      },
      "source": [
        "<a href=\"https://colab.research.google.com/github/gachet/000mis-colabs/blob/master/day_12_roots_of_polynomial.ipynb\" target=\"_parent\"><img src=\"https://colab.research.google.com/assets/colab-badge.svg\" alt=\"Open In Colab\"/></a>"
      ]
    },
    {
      "cell_type": "code",
      "metadata": {
        "id": "YKQTZkOUL--X",
        "colab_type": "code",
        "colab": {}
      },
      "source": [
        "import numpy as np"
      ],
      "execution_count": 0,
      "outputs": []
    },
    {
      "cell_type": "markdown",
      "metadata": {
        "id": "8JZeAmKQL--s",
        "colab_type": "text"
      },
      "source": [
        "## algoritmo"
      ]
    },
    {
      "cell_type": "code",
      "metadata": {
        "id": "RotoGPyPL--w",
        "colab_type": "code",
        "colab": {}
      },
      "source": [
        "def roots(*coeffs):\n",
        "    matrix = np.eye(len(coeffs) - 1, k=-1)\n",
        "    matrix[:,-1] = np.array(coeffs[-1:0:-1]) / -coeffs[0] ## conmpanion matrix\n",
        "    return np.linalg.eigvals(matrix)"
      ],
      "execution_count": 0,
      "outputs": []
    },
    {
      "cell_type": "code",
      "metadata": {
        "id": "x1AoCYnOL-_E",
        "colab_type": "code",
        "colab": {}
      },
      "source": [
        ""
      ],
      "execution_count": 0,
      "outputs": []
    },
    {
      "cell_type": "code",
      "metadata": {
        "id": "IqqPBTOTL-_e",
        "colab_type": "code",
        "colab": {},
        "outputId": "ff778cea-ebe7-4818-e43d-f8693bb4e5de"
      },
      "source": [
        "#x^2-3x+2\n",
        "roots(1, -3,2)"
      ],
      "execution_count": 0,
      "outputs": [
        {
          "output_type": "execute_result",
          "data": {
            "text/plain": [
              "array([1., 2.])"
            ]
          },
          "metadata": {
            "tags": []
          },
          "execution_count": 79
        }
      ]
    },
    {
      "cell_type": "code",
      "metadata": {
        "id": "Z56Sduv3L-_s",
        "colab_type": "code",
        "colab": {},
        "outputId": "2dd558f6-8ffd-4ef9-ce71-c398b0b9377a"
      },
      "source": [
        "#x^2-10x+25\n",
        "roots(1, -10,25)"
      ],
      "execution_count": 0,
      "outputs": [
        {
          "output_type": "execute_result",
          "data": {
            "text/plain": [
              "array([5., 5.])"
            ]
          },
          "metadata": {
            "tags": []
          },
          "execution_count": 80
        }
      ]
    },
    {
      "cell_type": "code",
      "metadata": {
        "id": "iduXDIHdL-_6",
        "colab_type": "code",
        "colab": {},
        "outputId": "91ed22ec-4abe-4314-ca99-c00c8af72685"
      },
      "source": [
        "# 10x - 1 = 0\n",
        "roots1(10, -1)"
      ],
      "execution_count": 0,
      "outputs": [
        {
          "output_type": "stream",
          "text": [
            "fila es [0.1]\n",
            "[[0.1]]\n"
          ],
          "name": "stdout"
        },
        {
          "output_type": "execute_result",
          "data": {
            "text/plain": [
              "array([0.1])"
            ]
          },
          "metadata": {
            "tags": []
          },
          "execution_count": 81
        }
      ]
    },
    {
      "cell_type": "code",
      "metadata": {
        "id": "_iGcGocqL_AH",
        "colab_type": "code",
        "colab": {},
        "outputId": "e0d42f6c-b35d-44ab-b2da-42411186c688"
      },
      "source": [
        "# x^2 - 2x + 1 = 0\n",
        "roots(1, -2, 1)"
      ],
      "execution_count": 0,
      "outputs": [
        {
          "output_type": "execute_result",
          "data": {
            "text/plain": [
              "array([1., 1.])"
            ]
          },
          "metadata": {
            "tags": []
          },
          "execution_count": 82
        }
      ]
    },
    {
      "cell_type": "code",
      "metadata": {
        "id": "zyt_9ns9L_AR",
        "colab_type": "code",
        "colab": {},
        "outputId": "840cc650-075d-46e9-a3b1-2875a65cbb4a"
      },
      "source": [
        "# 2x^2 - 18 = 0\n",
        "roots(2, 0, 18)"
      ],
      "execution_count": 0,
      "outputs": [
        {
          "output_type": "execute_result",
          "data": {
            "text/plain": [
              "array([ 0.+3.j, -0.-3.j])"
            ]
          },
          "metadata": {
            "tags": []
          },
          "execution_count": 83
        }
      ]
    },
    {
      "cell_type": "code",
      "metadata": {
        "id": "T3p0Cax9L_Ac",
        "colab_type": "code",
        "colab": {},
        "outputId": "4d1f3bae-a6a4-4c54-ebf6-fce59e896c57"
      },
      "source": [
        "# 1x^5 + x^4 + x^3 + x^2 + x + 1 = 0\n",
        "roots(1, 1, 1, 1, 1, 1)"
      ],
      "execution_count": 0,
      "outputs": [
        {
          "output_type": "execute_result",
          "data": {
            "text/plain": [
              "array([ 0.5+0.8660254j,  0.5-0.8660254j, -1. +0.j       , -0.5+0.8660254j,\n",
              "       -0.5-0.8660254j])"
            ]
          },
          "metadata": {
            "tags": []
          },
          "execution_count": 84
        }
      ]
    },
    {
      "cell_type": "code",
      "metadata": {
        "id": "IygBbtj3L_Ao",
        "colab_type": "code",
        "colab": {},
        "outputId": "ab7c73f0-38e5-4c21-e998-e47a0bbdb71c"
      },
      "source": [
        "# 1x^5 + x^4 + x^3 + x^2 + x + 1 = 0\n",
        "roots(1,-17,72.5)"
      ],
      "execution_count": 0,
      "outputs": [
        {
          "output_type": "execute_result",
          "data": {
            "text/plain": [
              "array([8.5+0.5j, 8.5-0.5j])"
            ]
          },
          "metadata": {
            "tags": []
          },
          "execution_count": 85
        }
      ]
    },
    {
      "cell_type": "code",
      "metadata": {
        "id": "JAoFlHx6L_Az",
        "colab_type": "code",
        "colab": {},
        "outputId": "bd968334-db9d-48e0-f0a8-cf81871ea825"
      },
      "source": [
        "# 1x^5 + x^4 + x^3 + x^2 + x + 1 = 0\n",
        "roots(1,-3,0, 1)"
      ],
      "execution_count": 0,
      "outputs": [
        {
          "output_type": "execute_result",
          "data": {
            "text/plain": [
              "array([-0.53208889,  0.65270364,  2.87938524])"
            ]
          },
          "metadata": {
            "tags": []
          },
          "execution_count": 86
        }
      ]
    },
    {
      "cell_type": "code",
      "metadata": {
        "id": "doDJQMPAL_A-",
        "colab_type": "code",
        "colab": {},
        "outputId": "921b36be-ec55-4914-d074-97fe6ddf360e"
      },
      "source": [
        "##P4(x) = 3x4 − 10x3 − 48x2 − 2x + 12\n",
        "roots(3,-10,-48, -2,12)"
      ],
      "execution_count": 0,
      "outputs": [
        {
          "output_type": "execute_result",
          "data": {
            "text/plain": [
              "array([ 0.46163632, -0.56293642, -2.56536657,  6.        ])"
            ]
          },
          "metadata": {
            "tags": []
          },
          "execution_count": 87
        }
      ]
    },
    {
      "cell_type": "code",
      "metadata": {
        "id": "OQs7lwypL_BJ",
        "colab_type": "code",
        "colab": {},
        "outputId": "374380dc-c96f-4f2b-d895-0d425f50951a"
      },
      "source": [
        "##P3(x) = x3 − 4.0x2 − 4.48x + 26.1\n",
        "roots(1,-4,-4.48, 26.1)"
      ],
      "execution_count": 0,
      "outputs": [
        {
          "output_type": "execute_result",
          "data": {
            "text/plain": [
              "array([-2.39962495+0.j        ,  3.19981248+0.79868632j,\n",
              "        3.19981248-0.79868632j])"
            ]
          },
          "metadata": {
            "tags": []
          },
          "execution_count": 88
        }
      ]
    },
    {
      "cell_type": "code",
      "metadata": {
        "id": "DBrBW4dLL_Ba",
        "colab_type": "code",
        "colab": {},
        "outputId": "cbec51ae-befe-435d-8f51-3f867bf69160"
      },
      "source": [
        "## x4 − 5x3 − 9x2 + 155x − 250 = 0.\n",
        "roots(1,-5,-9,155,-250)"
      ],
      "execution_count": 0,
      "outputs": [
        {
          "output_type": "execute_result",
          "data": {
            "text/plain": [
              "array([-5.+0.j,  2.+0.j,  4.+3.j,  4.-3.j])"
            ]
          },
          "metadata": {
            "tags": []
          },
          "execution_count": 89
        }
      ]
    },
    {
      "cell_type": "code",
      "metadata": {
        "id": "KUlsiMEbL_Bm",
        "colab_type": "code",
        "colab": {},
        "outputId": "d58e3f1e-e6ec-4f49-b553-1a26b1729548"
      },
      "source": [
        "##3x3 + 7x2 􀀀 36x + 20\n",
        "roots(3,7,-36,20)"
      ],
      "execution_count": 0,
      "outputs": [
        {
          "output_type": "execute_result",
          "data": {
            "text/plain": [
              "array([ 2.        ,  0.66666667, -5.        ])"
            ]
          },
          "metadata": {
            "tags": []
          },
          "execution_count": 90
        }
      ]
    },
    {
      "cell_type": "code",
      "metadata": {
        "id": "5UW7Bp1JL_Bx",
        "colab_type": "code",
        "colab": {},
        "outputId": "4662f9a5-e1d8-465e-a188-cfe64927e36f"
      },
      "source": [
        "## w4 + 24w3 + 4500w2 + 18 E 103w + 2:25 E 6 = 0\n",
        "roots(1,24,4500,18.0e3,2.25e6)"
      ],
      "execution_count": 0,
      "outputs": [
        {
          "output_type": "execute_result",
          "data": {
            "text/plain": [
              "array([ -0.62301963+24.03024141j,  -0.62301963-24.03024141j,\n",
              "       -11.37698037+61.35447281j, -11.37698037-61.35447281j])"
            ]
          },
          "metadata": {
            "tags": []
          },
          "execution_count": 91
        }
      ]
    },
    {
      "cell_type": "code",
      "metadata": {
        "id": "ODAdgwMAL_B6",
        "colab_type": "code",
        "colab": {}
      },
      "source": [
        ""
      ],
      "execution_count": 0,
      "outputs": []
    },
    {
      "cell_type": "code",
      "metadata": {
        "id": "JrEY9zKFL_CD",
        "colab_type": "code",
        "colab": {}
      },
      "source": [
        ""
      ],
      "execution_count": 0,
      "outputs": []
    },
    {
      "cell_type": "code",
      "metadata": {
        "id": "cZww9nvlL_CK",
        "colab_type": "code",
        "colab": {}
      },
      "source": [
        ""
      ],
      "execution_count": 0,
      "outputs": []
    },
    {
      "cell_type": "code",
      "metadata": {
        "id": "ttjxRKHUL_CS",
        "colab_type": "code",
        "colab": {}
      },
      "source": [
        ""
      ],
      "execution_count": 0,
      "outputs": []
    }
  ]
}