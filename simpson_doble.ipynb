{
  "nbformat": 4,
  "nbformat_minor": 0,
  "metadata": {
    "colab": {
      "name": "simpson_doble.ipynb",
      "provenance": [],
      "collapsed_sections": [],
      "include_colab_link": true
    },
    "kernelspec": {
      "name": "python3",
      "display_name": "Python 3"
    }
  },
  "cells": [
    {
      "cell_type": "markdown",
      "metadata": {
        "id": "view-in-github",
        "colab_type": "text"
      },
      "source": [
        "<a href=\"https://colab.research.google.com/github/gachet/mis-colabs/blob/master/simpson_doble.ipynb\" target=\"_parent\"><img src=\"https://colab.research.google.com/assets/colab-badge.svg\" alt=\"Open In Colab\"/></a>"
      ]
    },
    {
      "cell_type": "code",
      "metadata": {
        "id": "TD53vtLFr13-",
        "colab_type": "code",
        "colab": {}
      },
      "source": [
        "import numpy as np"
      ],
      "execution_count": 0,
      "outputs": []
    },
    {
      "cell_type": "code",
      "metadata": {
        "id": "Ae9qpY1oN_lG",
        "colab_type": "code",
        "colab": {}
      },
      "source": [
        "def SimpsonDoble(f, a, b,c,d,m, n):\n",
        "  h=(b-a)/(n);\n",
        "  J1=0.0\n",
        "  J2=0.0\n",
        "  J3=0.0\n",
        "  for i in range(0,n+1):\n",
        "    x=a+i*h\n",
        "    HX=(d(x)-c(x))/(m)\n",
        "    K1=f(x, c(x))+f(x, d(x))\n",
        "    K2=0.0\n",
        "    K3=0.0\n",
        "    for j in range (1,m):\n",
        "      y=c(x)+j*HX\n",
        "      Q=f(x, y)\n",
        "      if(j%2==0) :\n",
        "        K2+=Q\n",
        "      else :\n",
        "        K3+=Q\n",
        "           \n",
        "    L=(K1+2*K2+4*K3)*HX/3\n",
        "    if(i==0 or i== n) :  \n",
        "      J1+=L\n",
        "    else :\n",
        "      if(i%2==0) :\n",
        "        J2+=L\n",
        "      else :\n",
        "        J3+=L\n",
        "           \n",
        "  J=h*(J1+2*J2+4*J3)/3\n",
        "  return J\n",
        "    "
      ],
      "execution_count": 0,
      "outputs": []
    },
    {
      "cell_type": "markdown",
      "metadata": {
        "id": "Q1aLPYEjanvj",
        "colab_type": "text"
      },
      "source": [
        "Ejemplo 1\n",
        "$$\\int_{0.1}^{0.5}\\int_{x^3}^{x^2}e^{y/x} dy.dx \\approx 0.0333054$$"
      ]
    },
    {
      "cell_type": "code",
      "metadata": {
        "colab_type": "code",
        "id": "j-EovNq2bu6o",
        "colab": {}
      },
      "source": [
        "f = lambda x,y: np.exp(y/x)"
      ],
      "execution_count": 0,
      "outputs": []
    },
    {
      "cell_type": "code",
      "metadata": {
        "colab_type": "code",
        "id": "QVp7oXbubu7Y",
        "colab": {}
      },
      "source": [
        "c = lambda x: x**3"
      ],
      "execution_count": 0,
      "outputs": []
    },
    {
      "cell_type": "code",
      "metadata": {
        "colab_type": "code",
        "id": "PZZIuMxMbu7s",
        "colab": {}
      },
      "source": [
        "d = lambda x : x**2"
      ],
      "execution_count": 0,
      "outputs": []
    },
    {
      "cell_type": "code",
      "metadata": {
        "id": "_54BjBQwWrPr",
        "colab_type": "code",
        "outputId": "a1aaae01-34c5-40b9-bb3e-a89214aad1b4",
        "colab": {
          "base_uri": "https://localhost:8080/",
          "height": 36
        }
      },
      "source": [
        "SimpsonDoble(f,0.1,0.5,c,d,50,50)"
      ],
      "execution_count": 0,
      "outputs": [
        {
          "output_type": "execute_result",
          "data": {
            "text/plain": [
              "0.033305565947896694"
            ]
          },
          "metadata": {
            "tags": []
          },
          "execution_count": 99
        }
      ]
    },
    {
      "cell_type": "code",
      "metadata": {
        "id": "mQCgczjaWWWy",
        "colab_type": "code",
        "outputId": "30dc48ed-2602-4356-e360-18a98c41c3b4",
        "colab": {
          "base_uri": "https://localhost:8080/",
          "height": 36
        }
      },
      "source": [
        "# COMPROBAMOS con Scipy\n",
        "from scipy.integrate import dblquad\n",
        "## ATENTOS QUE AQUI LA F ES DE (Y,X)\n",
        "area = dblquad(lambda y, x: np.exp(y/x), 0.1, 0.5, lambda x: x**3, lambda x: x**2)\n",
        "area"
      ],
      "execution_count": 0,
      "outputs": [
        {
          "output_type": "execute_result",
          "data": {
            "text/plain": [
              "(0.03330556611623208, 2.0191919615010406e-15)"
            ]
          },
          "metadata": {
            "tags": []
          },
          "execution_count": 100
        }
      ]
    },
    {
      "cell_type": "markdown",
      "metadata": {
        "id": "Qzz9Wr02ZQFM",
        "colab_type": "text"
      },
      "source": [
        "Ejemplo 2\n",
        "$$\\int_0^1\\int_x^{2x}(x^2+y^3)dy.dx\\approx1.000122$$"
      ]
    },
    {
      "cell_type": "code",
      "metadata": {
        "colab_type": "code",
        "id": "2tjWMlq0WcMo",
        "colab": {}
      },
      "source": [
        "f = lambda x,y: x**2 + y**3"
      ],
      "execution_count": 0,
      "outputs": []
    },
    {
      "cell_type": "code",
      "metadata": {
        "colab_type": "code",
        "id": "hA20XpnPWcNN",
        "colab": {}
      },
      "source": [
        "c = lambda x: x"
      ],
      "execution_count": 0,
      "outputs": []
    },
    {
      "cell_type": "code",
      "metadata": {
        "colab_type": "code",
        "id": "q6_R9T9JWcNi",
        "colab": {}
      },
      "source": [
        "d = lambda x : 2*x"
      ],
      "execution_count": 0,
      "outputs": []
    },
    {
      "cell_type": "code",
      "metadata": {
        "id": "aL9mpMeoWWjA",
        "colab_type": "code",
        "outputId": "49399c3d-ebf4-43c2-b4e8-19a51835cf01",
        "colab": {
          "base_uri": "https://localhost:8080/",
          "height": 36
        }
      },
      "source": [
        "SimpsonDoble(f,0,1,c,d,50,50)"
      ],
      "execution_count": 0,
      "outputs": [
        {
          "output_type": "execute_result",
          "data": {
            "text/plain": [
              "1.00000008"
            ]
          },
          "metadata": {
            "tags": []
          },
          "execution_count": 104
        }
      ]
    },
    {
      "cell_type": "code",
      "metadata": {
        "id": "o1d08rsHWWsY",
        "colab_type": "code",
        "outputId": "4d7af597-6f0f-49e0-f427-c29030f5645f",
        "colab": {
          "base_uri": "https://localhost:8080/",
          "height": 36
        }
      },
      "source": [
        "# COMPROBAMOS con Scipy\n",
        "from scipy.integrate import dblquad\n",
        "## ATENTOS QUE AQUI LA F ES DE (Y,X)\n",
        "area = dblquad(lambda y, x: x**2+y**3, 0, 1, lambda x: x, lambda x: 2*x)\n",
        "area"
      ],
      "execution_count": 0,
      "outputs": [
        {
          "output_type": "execute_result",
          "data": {
            "text/plain": [
              "(1.0, 5.230299013322485e-14)"
            ]
          },
          "metadata": {
            "tags": []
          },
          "execution_count": 105
        }
      ]
    }
  ]
}