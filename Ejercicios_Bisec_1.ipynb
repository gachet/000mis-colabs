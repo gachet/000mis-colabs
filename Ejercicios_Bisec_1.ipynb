{
  "nbformat": 4,
  "nbformat_minor": 0,
  "metadata": {
    "anaconda-cloud": {},
    "kernelspec": {
      "display_name": "Python 3",
      "language": "python",
      "name": "python3"
    },
    "language_info": {
      "codemirror_mode": {
        "name": "ipython",
        "version": 3
      },
      "file_extension": ".py",
      "mimetype": "text/x-python",
      "name": "python",
      "nbconvert_exporter": "python",
      "pygments_lexer": "ipython3",
      "version": "3.6.5"
    },
    "toc": {
      "colors": {
        "hover_highlight": "#DAA520",
        "navigate_num": "#000000",
        "navigate_text": "#333333",
        "running_highlight": "#FF0000",
        "selected_highlight": "#FFD700",
        "sidebar_border": "#EEEEEE",
        "wrapper_background": "#FFFFFF"
      },
      "moveMenuLeft": true,
      "nav_menu": {
        "height": "12px",
        "width": "252px"
      },
      "navigate_menu": true,
      "number_sections": true,
      "sideBar": true,
      "threshold": 4,
      "toc_cell": false,
      "toc_section_display": "block",
      "toc_window_display": false,
      "widenNotebook": false
    },
    "colab": {
      "name": "Ejercicios-Bisec-1.ipynb",
      "provenance": [],
      "include_colab_link": true
    }
  },
  "cells": [
    {
      "cell_type": "markdown",
      "metadata": {
        "id": "view-in-github",
        "colab_type": "text"
      },
      "source": [
        "<a href=\"https://colab.research.google.com/github/gachet/mis-colabs/blob/master/Ejercicios_Bisec_1.ipynb\" target=\"_parent\"><img src=\"https://colab.research.google.com/assets/colab-badge.svg\" alt=\"Open In Colab\"/></a>"
      ]
    },
    {
      "cell_type": "markdown",
      "metadata": {
        "id": "HoR7Qycb3ojm",
        "colab_type": "text"
      },
      "source": [
        "# Raíces de ecuaciones no lineales"
      ]
    },
    {
      "cell_type": "markdown",
      "metadata": {
        "id": "0UMwJOL_3ojx",
        "colab_type": "text"
      },
      "source": [
        "El propósito de los métodos numéricos para búsqueda de raíces para ecuaciones no lineales es encontrar la raíz - o el valor de la variable independiente, ej. x - que hace que la ecuación  valga cero . La forma general de la búsqueda de raíces para ecuaciones no lineales se puede describir como:\n",
        "\n",
        "Encontrar una  $x$ tal que\n",
        "\\begin{equation}\n",
        "f(x) = 0\n",
        "\\end{equation}\n",
        "\n",
        "Alternativamente, se puede presentar el problema como:\n",
        "\n",
        "Encontrar una  $x$ tal que \n",
        "\\begin{equation}\n",
        "f(x) = a\n",
        "\\end{equation}\n",
        "\n",
        "Si igualamos la ecuación a 0 forma residual tenemos\n",
        "\\begin{equation}\n",
        "r(x) \\equiv f(x) - a\n",
        "\\end{equation}\n",
        "y el problema se centra en encontrar una  $x$ tal que \n",
        "\\begin{equation}\n",
        "r(x) = 0\n",
        "\\end{equation}\n"
      ]
    },
    {
      "cell_type": "markdown",
      "metadata": {
        "id": "WsQXinEz3oj7",
        "colab_type": "text"
      },
      "source": [
        "## Método de la Bisección\n",
        "Quizás es el método de búsqueda de raíz más popular e intuitivo. El método de la bisección funciona  con un intervalo inicial en el que asumimos que existe una raíz (aplicando el teorema de Bolzano) y luego lo reduce sucesivamente  al tomar el punto medio. El algoritmo se puede resumir como:\n",
        "1. Escogemos el intervalo $[a,  b]$ de manera que la raíz aproximada, $x_0$ cumpla $a \\leq x_0 \\leq b$\n",
        "2. Calculamos $c = \\frac{a+b}{2}$ como el punto medio entre $a$ y $b$\n",
        "3. Vemoa en que lado estaría la raíz: si $f(a)\\times f(c) < 0$ entonces hacemos $b = c$ si no $a=c$\n",
        "4. Vemos si existe convergencia y si es necesario repetimos los pasos anteriores\n"
      ]
    },
    {
      "cell_type": "code",
      "metadata": {
        "id": "OEmpmrgq3okB",
        "colab_type": "code",
        "colab": {}
      },
      "source": [
        "import numpy as np\n",
        "%matplotlib inline\n",
        "import matplotlib.pyplot as plt\n"
      ],
      "execution_count": 0,
      "outputs": []
    },
    {
      "cell_type": "markdown",
      "metadata": {
        "id": "Q2DMJcN-3okZ",
        "colab_type": "text"
      },
      "source": [
        "### Ejemplo de implementación del método de la bisecciòn"
      ]
    },
    {
      "cell_type": "code",
      "metadata": {
        "id": "mpaqlOST3okg",
        "colab_type": "code",
        "colab": {}
      },
      "source": [
        "def bisec(f,a,b,tol, maxiter):\n",
        "    \"\"\"\n",
        "    hola\n",
        "    \"\"\"\n",
        "    err = tol + 100\n",
        "    niter = 0\n",
        "    print('{:<12} {:<12} {:<12} {:<12}'.format('Iteración','a','b','error'))\n",
        "    while err > tol and niter < maxiter:\n",
        "        niter +=1\n",
        "        c = (a + b)/2.0\n",
        "        fc = f(c)\n",
        "        fa = f(a)\n",
        "        if (fa * fc < 0.0):\n",
        "            b = c\n",
        "        else:\n",
        "            a = c\n",
        "        err = abs(fc)\n",
        "        print('{:<12} {:<12} {:<12} {:<12}'.format(niter, round(a,6), round(b,6), round(err,10)))\n",
        "    if niter == maxiter:\n",
        "        print('Iteraciones alcanzadas sin solucion =',niter)\n",
        "    else:\n",
        "        print('solución %8.6f' % (c))\n",
        "        print('alcanzada en %3d iteraciones' % (niter))\n",
        "        print('valor de la función = %12.10f' % (f(c)))\n",
        "    return "
      ],
      "execution_count": 0,
      "outputs": []
    },
    {
      "cell_type": "markdown",
      "metadata": {
        "id": "cnVsqWU-3okx",
        "colab_type": "text"
      },
      "source": [
        "####  Ejemplo 1.- Exploremos las raíces de la siguiente ecuación<br>\n",
        "$\n",
        "\\ln(x) + \\cos(x)e^{-0.1x} = 2\n",
        "$<br><br>\n",
        "o en forma su lugar<br><br>\n",
        "$\n",
        " res(x) = \\ln(x) + \\cos(x)e^{-0.1x} - 2 = 0\n",
        "$<br>\n",
        "\n",
        "La función tiene tres raices , 5.309, 8.045, and 10.02"
      ]
    },
    {
      "cell_type": "code",
      "metadata": {
        "id": "_ND0v1xn3ok2",
        "colab_type": "code",
        "outputId": "5d89e104-32f8-47f1-be22-eea80d0f28a2",
        "colab": {
          "base_uri": "https://localhost:8080/",
          "height": 284
        }
      },
      "source": [
        "res = lambda x: np.log(x) + np.cos(x)*np.exp(-0.1*x)-2.0\n",
        "x = np.linspace(4,15,200)\n",
        "plt.grid()\n",
        "plt.axhline(y=0,color='k')\n",
        "plt.plot(x,res(x))"
      ],
      "execution_count": 0,
      "outputs": [
        {
          "output_type": "execute_result",
          "data": {
            "text/plain": [
              "[<matplotlib.lines.Line2D at 0x7f16ed130518>]"
            ]
          },
          "metadata": {
            "tags": []
          },
          "execution_count": 3
        },
        {
          "output_type": "display_data",
          "data": {
            "image/png": "[encoded data removed]",
            "text/plain": [
              "<Figure size 432x288 with 1 Axes>"
            ]
          },
          "metadata": {
            "tags": []
          }
        }
      ]
    },
    {
      "cell_type": "code",
      "metadata": {
        "id": "D5jcoYkC3olI",
        "colab_type": "code",
        "outputId": "0945963b-67ca-4567-d40b-a2ddc5148e0c",
        "colab": {
          "base_uri": "https://localhost:8080/",
          "height": 351
        }
      },
      "source": [
        "bisec(res,4,5.5,1e-5,20)"
      ],
      "execution_count": 0,
      "outputs": [
        {
          "output_type": "stream",
          "text": [
            "Iteración    a            b            error       \n",
            "1            4.75         5.5          0.418471165 \n",
            "2            5.125        5.5          0.1256704432\n",
            "3            5.125        5.3125       0.0020525841\n",
            "4            5.21875      5.3125       0.0599408749\n",
            "5            5.265625     5.3125       0.0284566567\n",
            "6            5.289062     5.3125       0.0130777303\n",
            "7            5.300781     5.3125       0.0054812004\n",
            "8            5.306641     5.3125       0.0017064285\n",
            "9            5.306641     5.30957      0.0001750523\n",
            "10           5.308105     5.30957      0.0007651951\n",
            "11           5.308838     5.30957      0.0002949481\n",
            "12           5.309204     5.30957      5.99171e-05 \n",
            "13           5.309204     5.309387     5.75753e-05 \n",
            "14           5.309296     5.309387     1.169e-06   \n",
            "solución 5.309296\n",
            "alcanzada en  14 iteraciones\n",
            "valor de la función = -0.0000011690\n"
          ],
          "name": "stdout"
        }
      ]
    },
    {
      "cell_type": "code",
      "metadata": {
        "id": "jJpuiFwG3olY",
        "colab_type": "code",
        "outputId": "89d14c98-1c15-43cb-bc4e-27d2fd75522b",
        "colab": {
          "base_uri": "https://localhost:8080/",
          "height": 314
        }
      },
      "source": [
        "bisec(res,7,9,1e-5,20)"
      ],
      "execution_count": 0,
      "outputs": [
        {
          "output_type": "stream",
          "text": [
            "Iteración    a            b            error       \n",
            "1            8.0          9            0.0140641622\n",
            "2            8.0          8.5          0.1172427129\n",
            "3            8.0          8.25         0.0588350441\n",
            "4            8.0          8.125        0.0238510932\n",
            "5            8.0          8.0625       0.0052126347\n",
            "6            8.03125      8.0625       0.0043521038\n",
            "7            8.03125      8.046875     0.0004494566\n",
            "8            8.039062     8.046875     0.0019466222\n",
            "9            8.042969     8.046875     0.0007473954\n",
            "10           8.044922     8.046875     0.000148671 \n",
            "11           8.044922     8.045898     0.0001504676\n",
            "12           8.044922     8.04541      9.17e-07    \n",
            "solución 8.045410\n",
            "alcanzada en  12 iteraciones\n",
            "valor de la función = -0.0000009170\n"
          ],
          "name": "stdout"
        }
      ]
    },
    {
      "cell_type": "code",
      "metadata": {
        "id": "wx4Mg6Mo3olk",
        "colab_type": "code",
        "colab": {}
      },
      "source": [
        "bisec(res,9,11,1e-5,20)"
      ],
      "execution_count": 0,
      "outputs": []
    },
    {
      "cell_type": "markdown",
      "metadata": {
        "id": "j3XG_-NX3ol0",
        "colab_type": "text"
      },
      "source": [
        "####  Ejemplo 2 .- Encontrar la raiz de <br>\n",
        "$\n",
        "f(x) = x^{10} -1\n",
        "$ en el intervalo  $[0,1.3]$ <br><br>\n",
        "con una tolerancia del 2% y dibujar la función<br><br>\n"
      ]
    },
    {
      "cell_type": "code",
      "metadata": {
        "id": "EMCGFxcd3ol5",
        "colab_type": "code",
        "outputId": "3f81bad9-33ba-4c1e-868e-a2aafcef3a98",
        "colab": {
          "base_uri": "https://localhost:8080/",
          "height": 284
        }
      },
      "source": [
        "def ejemplo2(x):\n",
        "    y=x**10 - 1\n",
        "    return y\n",
        "\n",
        "x = np.linspace(0,1.5,200)\n",
        "plt.grid()\n",
        "plt.axhline(y=0,color='k')\n",
        "plt.plot(x,ejemplo2(x))"
      ],
      "execution_count": 0,
      "outputs": [
        {
          "output_type": "execute_result",
          "data": {
            "text/plain": [
              "[<matplotlib.lines.Line2D at 0x7f16ecc978d0>]"
            ]
          },
          "metadata": {
            "tags": []
          },
          "execution_count": 6
        },
        {
          "output_type": "display_data",
          "data": {
            "image/png": "[encoded data removed]",
            "text/plain": [
              "<Figure size 432x288 with 1 Axes>"
            ]
          },
          "metadata": {
            "tags": []
          }
        }
      ]
    },
    {
      "cell_type": "code",
      "metadata": {
        "id": "LO0wOK-v3omG",
        "colab_type": "code",
        "outputId": "0ab2841d-2f82-4128-db05-6c0c3319f5bf",
        "colab": {}
      },
      "source": [
        "bisec(ejemplo2,0,1.3,0.02,20)"
      ],
      "execution_count": 0,
      "outputs": [
        {
          "output_type": "stream",
          "text": [
            "Iteración    a            b            error       \n",
            "1            0.65         1.3          0.9865372567\n",
            "2            0.975        1.3          0.2236703791\n",
            "3            0.975        1.1375       2.6267202172\n",
            "4            0.975        1.05625      0.7284913861\n",
            "5            0.975        1.015625     0.1677068465\n",
            "6            0.995313     1.015625     0.0458984893\n",
            "7            0.995313     1.005469     0.0560531409\n",
            "8            0.995313     1.000391     0.0039131236\n",
            "solución 1.000391\n",
            "alcanzada en   8 iteraciones\n",
            "valor de la función = 0.0039131236\n"
          ],
          "name": "stdout"
        }
      ]
    },
    {
      "cell_type": "markdown",
      "metadata": {
        "id": "0os0KKix3omT",
        "colab_type": "text"
      },
      "source": [
        "### Ejercicios :\n",
        "Para cada una de las siguientes funciones (ecuaciones si igualamos a 0), **dibujar la función conteniendo el intervalo de interés para tener una idea de donde estaría la raíz**, obtener la raíz en el intervalo especificado y usar en todos los casos una precisión de $10^{-5}$ y como máximo 50 iteraciones. *Modificar el código de la función \"bisec\" si queréis imprimir de forma distinta o incluso si queréis haceros vuestro propio código.*\n"
      ]
    },
    {
      "cell_type": "markdown",
      "metadata": {
        "id": "IMWeS1yg3omX",
        "colab_type": "text"
      },
      "source": [
        "1.- &nbsp;&nbsp;&nbsp;\n",
        "$\n",
        "f(x) = e^{-x-0.7} - x -0.7 \n",
        "$\n",
        "en el intervalo $[-1,1]$"
      ]
    },
    {
      "cell_type": "code",
      "metadata": {
        "id": "XNQRzCwB3tvw",
        "colab_type": "code",
        "outputId": "17694027-26af-4838-96c0-ab39c0cfb337",
        "colab": {
          "base_uri": "https://localhost:8080/",
          "height": 284
        }
      },
      "source": [
        "def ejer1(x):\n",
        "    return np.exp(-x-0.7)-x-0.7 \n",
        "x = np.linspace(-1,1,200)\n",
        "plt.grid()\n",
        "plt.axhline(y=0,color='k')\n",
        "plt.plot(x,ejer1(x))"
      ],
      "execution_count": 0,
      "outputs": [
        {
          "output_type": "execute_result",
          "data": {
            "text/plain": [
              "[<matplotlib.lines.Line2D at 0x7f16ecb9dd30>]"
            ]
          },
          "metadata": {
            "tags": []
          },
          "execution_count": 8
        },
        {
          "output_type": "display_data",
          "data": {
            "image/png": "[encoded data removed]",
            "text/plain": [
              "<Figure size 432x288 with 1 Axes>"
            ]
          },
          "metadata": {
            "tags": []
          }
        }
      ]
    },
    {
      "cell_type": "code",
      "metadata": {
        "id": "s9drZkKx4fGk",
        "colab_type": "code",
        "outputId": "e98a71a2-e0d2-40a4-af6d-54e931ca5012",
        "colab": {
          "base_uri": "https://localhost:8080/",
          "height": 407
        }
      },
      "source": [
        "bisec(ejer1,-1,1,1e-5,50)"
      ],
      "execution_count": 0,
      "outputs": [
        {
          "output_type": "stream",
          "text": [
            "Iteración    a            b            error       \n",
            "1            -1           0.0          0.2034146962\n",
            "2            -0.5         0.0          0.6187307531\n",
            "3            -0.25        0.0          0.1876281516\n",
            "4            -0.25        -0.125       0.0122951312\n",
            "5            -0.1875      -0.125       0.0864962149\n",
            "6            -0.15625     -0.125       0.0368170388\n",
            "7            -0.140625    -0.125       0.0121911811\n",
            "8            -0.140625    -0.132812    6.92822e-05 \n",
            "9            -0.136719    -0.132812    0.0060566057\n",
            "10           -0.134766    -0.132812    0.002992578 \n",
            "11           -0.133789    -0.132812    0.0014613772\n",
            "12           -0.133301    -0.132812    0.0006959799\n",
            "13           -0.133057    -0.132812    0.0003133319\n",
            "14           -0.132935    -0.132812    0.0001220206\n",
            "15           -0.132874    -0.132812    2.63682e-05 \n",
            "16           -0.132874    -0.132843    2.14573e-05 \n",
            "17           -0.132858    -0.132843    2.4554e-06  \n",
            "solución -0.132858\n",
            "alcanzada en  17 iteraciones\n",
            "valor de la función = 0.0000024554\n"
          ],
          "name": "stdout"
        }
      ]
    },
    {
      "cell_type": "code",
      "metadata": {
        "id": "6FIhLM8A5zTO",
        "colab_type": "code",
        "outputId": "3c25ed12-5375-429d-87ec-b03a41b0883b",
        "colab": {
          "base_uri": "https://localhost:8080/",
          "height": 36
        }
      },
      "source": [
        "from scipy.optimize import brentq,newton,fsolve\n",
        "print('brentq',brentq(ejer1, -1,1))"
      ],
      "execution_count": 0,
      "outputs": [
        {
          "output_type": "stream",
          "text": [
            "brentq -0.13285670959021606\n"
          ],
          "name": "stdout"
        }
      ]
    },
    {
      "cell_type": "markdown",
      "metadata": {
        "id": "v-BSoY7k3ome",
        "colab_type": "text"
      },
      "source": [
        "2.- &nbsp;&nbsp;&nbsp;\n",
        "$\n",
        "f(x) = cos(e^{x})+x\n",
        "$\n",
        "en el intervalo $[-1,0]$"
      ]
    },
    {
      "cell_type": "code",
      "metadata": {
        "id": "XYyYUAE46QH8",
        "colab_type": "code",
        "outputId": "db7cc1fb-3d46-4fad-c857-fa5e996d6f79",
        "colab": {
          "base_uri": "https://localhost:8080/",
          "height": 284
        }
      },
      "source": [
        "def ejer2(x):\n",
        "    return np.cos(np.exp(x))+x \n",
        "x = np.linspace(-1,1,200)\n",
        "plt.grid()\n",
        "plt.axhline(y=0,color='k')\n",
        "plt.plot(x,ejer2(x))"
      ],
      "execution_count": 0,
      "outputs": [
        {
          "output_type": "execute_result",
          "data": {
            "text/plain": [
              "[<matplotlib.lines.Line2D at 0x7f16eccd0860>]"
            ]
          },
          "metadata": {
            "tags": []
          },
          "execution_count": 15
        },
        {
          "output_type": "display_data",
          "data": {
            "image/png": "[encoded data removed]",
            "text/plain": [
              "<Figure size 432x288 with 1 Axes>"
            ]
          },
          "metadata": {
            "tags": []
          }
        }
      ]
    },
    {
      "cell_type": "code",
      "metadata": {
        "id": "yka4XdXz6tpc",
        "colab_type": "code",
        "outputId": "e388ec03-0516-4850-c6ae-78b5995b3ab1",
        "colab": {
          "base_uri": "https://localhost:8080/",
          "height": 351
        }
      },
      "source": [
        "bisec(ejer2,-1,0,1e-5,50)"
      ],
      "execution_count": 0,
      "outputs": [
        {
          "output_type": "stream",
          "text": [
            "Iteración    a            b            error       \n",
            "1            -1           -0.5         0.3216305532\n",
            "2            -1           -0.75        0.1404940133\n",
            "3            -1           -0.875       0.0393639869\n",
            "4            -0.9375      -0.875       0.0132025728\n",
            "5            -0.9375      -0.90625     0.0132315983\n",
            "6            -0.9375      -0.921875    5.11306e-05 \n",
            "7            -0.929688    -0.921875    0.0065667014\n",
            "8            -0.925781    -0.921875    0.0032555137\n",
            "9            -0.923828    -0.921875    0.0016016215\n",
            "10           -0.922852    -0.921875    0.0007751027\n",
            "11           -0.922363    -0.921875    0.0003619503\n",
            "12           -0.922119    -0.921875    0.0001554009\n",
            "13           -0.921997    -0.921875    5.21329e-05 \n",
            "14           -0.921936    -0.921875    5.006e-07   \n",
            "solución -0.921936\n",
            "alcanzada en  14 iteraciones\n",
            "valor de la función = -0.0000005006\n"
          ],
          "name": "stdout"
        }
      ]
    },
    {
      "cell_type": "code",
      "metadata": {
        "id": "z3S-sGLn66_M",
        "colab_type": "code",
        "outputId": "1c608865-6bae-4f3c-f1d9-4a6d6a35a6fd",
        "colab": {
          "base_uri": "https://localhost:8080/",
          "height": 36
        }
      },
      "source": [
        "from scipy.optimize import brentq,newton,fsolve\n",
        "print('brentq',brentq(ejer2, -1,0))"
      ],
      "execution_count": 0,
      "outputs": [
        {
          "output_type": "stream",
          "text": [
            "brentq -0.9219354434277803\n"
          ],
          "name": "stdout"
        }
      ]
    },
    {
      "cell_type": "markdown",
      "metadata": {
        "id": "Fy3Ju4x73omh",
        "colab_type": "text"
      },
      "source": [
        "3.- &nbsp;&nbsp;&nbsp;\n",
        "$\n",
        "f(x) = 2^{x}(x-6) - x  \n",
        "$\n",
        "en el intervalo $[-5,5]$ "
      ]
    },
    {
      "cell_type": "code",
      "metadata": {
        "id": "LFW1lXvB8bKc",
        "colab_type": "code",
        "outputId": "d38b3481-f6fc-4636-cc3c-2b53811a740f",
        "colab": {
          "base_uri": "https://localhost:8080/",
          "height": 284
        }
      },
      "source": [
        "def ejer3(x):\n",
        "    return 2**(x)*(x-6)-x \n",
        "x = np.linspace(-5,5,200)\n",
        "plt.grid()\n",
        "plt.axhline(y=0,color='k')\n",
        "plt.plot(x,ejer3(x))"
      ],
      "execution_count": 0,
      "outputs": [
        {
          "output_type": "execute_result",
          "data": {
            "text/plain": [
              "[<matplotlib.lines.Line2D at 0x7f16ec7a19b0>]"
            ]
          },
          "metadata": {
            "tags": []
          },
          "execution_count": 20
        },
        {
          "output_type": "display_data",
          "data": {
            "image/png": "[encoded data removed]",
            "text/plain": [
              "<Figure size 432x288 with 1 Axes>"
            ]
          },
          "metadata": {
            "tags": []
          }
        }
      ]
    },
    {
      "cell_type": "code",
      "metadata": {
        "id": "06axYnyL83tk",
        "colab_type": "code",
        "outputId": "3d78a10d-7b1a-4c43-cb68-108c349a3f49",
        "colab": {
          "base_uri": "https://localhost:8080/",
          "height": 463
        }
      },
      "source": [
        "bisec(ejer3,-5,5,1e-5,50)"
      ],
      "execution_count": 0,
      "outputs": [
        {
          "output_type": "stream",
          "text": [
            "Iteración    a            b            error       \n",
            "1            -5           0.0          6.0         \n",
            "2            -2.5         0.0          0.99739809  \n",
            "3            -2.5         -1.25        1.7982495053\n",
            "4            -2.5         -1.875       0.2719370987\n",
            "5            -2.1875      -1.875       0.3900856796\n",
            "6            -2.03125     -1.875       0.0664607816\n",
            "7            -2.03125     -1.953125    0.1008189977\n",
            "8            -2.03125     -1.992188    0.0167085719\n",
            "9            -2.011719    -1.992188    0.0249925986\n",
            "10           -2.001953    -1.992188    0.0041712786\n",
            "11           -2.001953    -1.99707     0.0062613126\n",
            "12           -2.001953    -1.999512    0.0010431857\n",
            "13           -2.000732    -1.999512    0.001564504 \n",
            "14           -2.000122    -1.999512    0.0002607735\n",
            "15           -2.000122    -1.999817    0.0003911775\n",
            "16           -2.000122    -1.999969    6.51948e-05 \n",
            "17           -2.000046    -1.999969    9.77912e-05 \n",
            "18           -2.000008    -1.999969    1.62986e-05 \n",
            "19           -2.000008    -1.999989    2.4448e-05  \n",
            "20           -2.000008    -1.999998    4.0747e-06  \n",
            "solución -1.999998\n",
            "alcanzada en  20 iteraciones\n",
            "valor de la función = -0.0000040747\n"
          ],
          "name": "stdout"
        }
      ]
    },
    {
      "cell_type": "markdown",
      "metadata": {
        "id": "w2mG7BgJ3omm",
        "colab_type": "text"
      },
      "source": [
        "4.- &nbsp;&nbsp;&nbsp;\n",
        "$\n",
        "f(x) = \\sin(3x) -\\cos(2x)-1\n",
        "$\n",
        "en el intervalo $[-8,-1]$"
      ]
    },
    {
      "cell_type": "markdown",
      "metadata": {
        "id": "X8GUTZyz3omq",
        "colab_type": "text"
      },
      "source": [
        "5.- &nbsp;&nbsp;&nbsp;\n",
        "$\n",
        "f(x) = \\frac {e^{x}}{x-3}+2x\n",
        "$\n",
        "en el intervalo $[1,2]$"
      ]
    },
    {
      "cell_type": "markdown",
      "metadata": {
        "id": "C_WnO-mA3omu",
        "colab_type": "text"
      },
      "source": [
        "6.- &nbsp;&nbsp;&nbsp;\n",
        "$\n",
        "f(x) = x^{-2}-\\tan(x)\n",
        "$\n",
        "en el intervalo $[3,4]$"
      ]
    },
    {
      "cell_type": "markdown",
      "metadata": {
        "id": "XIgEazyl3omz",
        "colab_type": "text"
      },
      "source": [
        "7.- &nbsp;&nbsp;&nbsp;\n",
        "$\n",
        "f(x) = x^{3}-4x\\cos(x)+(2\\sin(x))^{2}-3\n",
        "$\n",
        "en los intervalos $[-2,-1],[-1,0], y [1,2]$"
      ]
    },
    {
      "cell_type": "code",
      "metadata": {
        "id": "lvgTPOfd9dwM",
        "colab_type": "code",
        "outputId": "9de6acaf-f104-4d3f-9b7a-3fffb988a483",
        "colab": {
          "base_uri": "https://localhost:8080/",
          "height": 284
        }
      },
      "source": [
        "def ejer7(x):\n",
        "    return x**3-4*x*np.cos(x)+(2*np.sin(x))**2-3 \n",
        "x = np.linspace(-2,2,200)\n",
        "plt.grid()\n",
        "plt.axhline(y=0,color='k')\n",
        "plt.plot(x,ejer7(x))"
      ],
      "execution_count": 0,
      "outputs": [
        {
          "output_type": "execute_result",
          "data": {
            "text/plain": [
              "[<matplotlib.lines.Line2D at 0x7f16eccd01d0>]"
            ]
          },
          "metadata": {
            "tags": []
          },
          "execution_count": 22
        },
        {
          "output_type": "display_data",
          "data": {
            "image/png": "[encoded data removed]",
            "text/plain": [
              "<Figure size 432x288 with 1 Axes>"
            ]
          },
          "metadata": {
            "tags": []
          }
        }
      ]
    },
    {
      "cell_type": "code",
      "metadata": {
        "id": "fEqDnIDZ-DV8",
        "colab_type": "code",
        "outputId": "c547022f-ac08-4f22-b876-adb58baa3151",
        "colab": {
          "base_uri": "https://localhost:8080/",
          "height": 425
        }
      },
      "source": [
        "bisec(ejer7,-2,-1,1e-5,50)"
      ],
      "execution_count": 0,
      "outputs": [
        {
          "output_type": "stream",
          "text": [
            "Iteración    a            b            error       \n",
            "1            -1.5         -1           1.9705917968\n",
            "2            -1.5         -1.25        0.2257740431\n",
            "3            -1.375       -1.25        0.6809922238\n",
            "4            -1.3125      -1.25        0.180944689 \n",
            "5            -1.3125      -1.28125     0.0338941181\n",
            "6            -1.296875    -1.28125     0.070630442 \n",
            "7            -1.289062    -1.28125     0.0176474722\n",
            "8            -1.289062    -1.285156    0.0083031088\n",
            "9            -1.287109    -1.285156    0.0046271865\n",
            "10           -1.287109    -1.286133    0.0018492039\n",
            "11           -1.286621    -1.286133    0.0013861799\n",
            "12           -1.286621    -1.286377    0.0002322148\n",
            "13           -1.286499    -1.286377    0.0005768068\n",
            "14           -1.286438    -1.286377    0.0001722521\n",
            "15           -1.286438    -1.286407    2.99923e-05 \n",
            "16           -1.286423    -1.286407    7.11271e-05 \n",
            "17           -1.286415    -1.286407    2.05667e-05 \n",
            "18           -1.286415    -1.286411    4.713e-06   \n",
            "solución -1.286411\n",
            "alcanzada en  18 iteraciones\n",
            "valor de la función = 0.0000047130\n"
          ],
          "name": "stdout"
        }
      ]
    },
    {
      "cell_type": "markdown",
      "metadata": {
        "id": "t57IrkOV3om2",
        "colab_type": "text"
      },
      "source": [
        " "
      ]
    },
    {
      "cell_type": "code",
      "metadata": {
        "id": "CoLTcgXG3om6",
        "colab_type": "code",
        "outputId": "cb8e2af2-7aea-4255-8a1e-d454d1be5697",
        "colab": {
          "base_uri": "https://localhost:8080/",
          "height": 407
        }
      },
      "source": [
        "bisec(ejer7,-1,0,1e-5,50)"
      ],
      "execution_count": 0,
      "outputs": [
        {
          "output_type": "stream",
          "text": [
            "Iteración    a            b            error       \n",
            "1            -1           -0.5         0.450439488 \n",
            "2            -0.75        -0.5         0.6317172033\n",
            "3            -0.625       -0.5         0.152622449 \n",
            "4            -0.625       -0.5625      0.137001426 \n",
            "5            -0.59375     -0.5625      0.0112358281\n",
            "6            -0.59375     -0.578125    0.062082637 \n",
            "7            -0.59375     -0.585938    0.0252163463\n",
            "8            -0.59375     -0.589844    0.006937617 \n",
            "9            -0.591797    -0.589844    0.0021623758\n",
            "10           -0.591797    -0.59082     0.0023843168\n",
            "11           -0.591797    -0.591309    0.0001101428\n",
            "12           -0.591553    -0.591309    0.0010263236\n",
            "13           -0.591431    -0.591309    0.0004581422\n",
            "14           -0.59137     -0.591309    0.0001740126\n",
            "15           -0.591339    -0.591309    3.19381e-05 \n",
            "16           -0.591339    -0.591324    3.91015e-05 \n",
            "17           -0.591339    -0.591331    3.5815e-06  \n",
            "solución -0.591331\n",
            "alcanzada en  17 iteraciones\n",
            "valor de la función = -0.0000035815\n"
          ],
          "name": "stdout"
        }
      ]
    },
    {
      "cell_type": "code",
      "metadata": {
        "id": "X4SgTfLE-f1u",
        "colab_type": "code",
        "outputId": "0d8e7a4c-d2ab-4f57-e522-ab41fe7b841a",
        "colab": {
          "base_uri": "https://localhost:8080/",
          "height": 407
        }
      },
      "source": [
        "bisec(ejer7,1,2,1e-5,50)"
      ],
      "execution_count": 0,
      "outputs": [
        {
          "output_type": "stream",
          "text": [
            "Iteración    a            b            error       \n",
            "1            1            1.5          3.9305617832\n",
            "2            1            1.25         0.9788004191\n",
            "3            1.125        1.25         0.2601189551\n",
            "4            1.125        1.1875       0.3387142434\n",
            "5            1.125        1.15625      0.034063864 \n",
            "6            1.140625     1.15625      0.1143459362\n",
            "7            1.148438     1.15625      0.0404693791\n",
            "8            1.152344     1.15625      0.0032846874\n",
            "9            1.152344     1.154297     0.0153691253\n",
            "10           1.152344     1.15332      0.0060371007\n",
            "11           1.152344     1.152832     0.0013749268\n",
            "12           1.152588     1.152832     0.0009552003\n",
            "13           1.152588     1.15271      0.0002097833\n",
            "14           1.152649     1.15271      0.0003727285\n",
            "15           1.152679     1.15271      8.14776e-05 \n",
            "16           1.152679     1.152695     6.41516e-05 \n",
            "17           1.152687     1.152695     8.6633e-06  \n",
            "solución 1.152687\n",
            "alcanzada en  17 iteraciones\n",
            "valor de la función = -0.0000086633\n"
          ],
          "name": "stdout"
        }
      ]
    }
  ]
}