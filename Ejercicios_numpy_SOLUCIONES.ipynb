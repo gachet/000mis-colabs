{
  "nbformat": 4,
  "nbformat_minor": 0,
  "metadata": {
    "kernelspec": {
      "display_name": "Python [Root]",
      "language": "python",
      "name": "Python [Root]"
    },
    "language_info": {
      "codemirror_mode": {
        "name": "ipython",
        "version": 3
      },
      "file_extension": ".py",
      "mimetype": "text/x-python",
      "name": "python",
      "nbconvert_exporter": "python",
      "pygments_lexer": "ipython3",
      "version": "3.5.2"
    },
    "colab": {
      "name": "Ejercicios-numpy-SOLUCIONES.ipynb",
      "provenance": [],
      "include_colab_link": true
    }
  },
  "cells": [
    {
      "cell_type": "markdown",
      "metadata": {
        "id": "view-in-github",
        "colab_type": "text"
      },
      "source": [
        "<a href=\"https://colab.research.google.com/github/gachet/000mis-colabs/blob/master/Ejercicios_numpy_SOLUCIONES.ipynb\" target=\"_parent\"><img src=\"https://colab.research.google.com/assets/colab-badge.svg\" alt=\"Open In Colab\"/></a>"
      ]
    },
    {
      "cell_type": "code",
      "metadata": {
        "id": "F_MZ1K9ps7j2",
        "colab_type": "code",
        "colab": {}
      },
      "source": [
        "import numpy as np"
      ],
      "execution_count": 0,
      "outputs": []
    },
    {
      "cell_type": "markdown",
      "metadata": {
        "id": "LUQTTiIus7kD",
        "colab_type": "text"
      },
      "source": [
        "### Crear un vector con valores dentro del rango 10 a 49"
      ]
    },
    {
      "cell_type": "code",
      "metadata": {
        "id": "u_gqUFQHs7kF",
        "colab_type": "code",
        "colab": {}
      },
      "source": [
        "a = np.arange(10,50)\n",
        "a"
      ],
      "execution_count": 0,
      "outputs": []
    },
    {
      "cell_type": "markdown",
      "metadata": {
        "id": "S_KxtmSKs7kO",
        "colab_type": "text"
      },
      "source": [
        "### Invertir el vector"
      ]
    },
    {
      "cell_type": "code",
      "metadata": {
        "id": "adN4cIH8s7kQ",
        "colab_type": "code",
        "outputId": "dea03f5f-3bcc-44c5-a75b-76a12e9fd999",
        "colab": {
          "base_uri": "https://localhost:8080/",
          "height": 67
        }
      },
      "source": [
        "a[::-1]"
      ],
      "execution_count": 0,
      "outputs": [
        {
          "output_type": "execute_result",
          "data": {
            "text/plain": [
              "array([49, 48, 47, 46, 45, 44, 43, 42, 41, 40, 39, 38, 37, 36, 35, 34, 33,\n",
              "       32, 31, 30, 29, 28, 27, 26, 25, 24, 23, 22, 21, 20, 19, 18, 17, 16,\n",
              "       15, 14, 13, 12, 11, 10])"
            ]
          },
          "metadata": {
            "tags": []
          },
          "execution_count": 3
        }
      ]
    },
    {
      "cell_type": "markdown",
      "metadata": {
        "id": "FKu70AS-s7kX",
        "colab_type": "text"
      },
      "source": [
        "### Crear una matriz 3x3 con valores de 0 a 8"
      ]
    },
    {
      "cell_type": "code",
      "metadata": {
        "id": "7PVUcf6Ts7kZ",
        "colab_type": "code",
        "outputId": "16615b9f-d67e-4e32-ad63-286408680640",
        "colab": {
          "base_uri": "https://localhost:8080/",
          "height": 67
        }
      },
      "source": [
        "np.arange(0,9).reshape(3,3)"
      ],
      "execution_count": 0,
      "outputs": [
        {
          "output_type": "execute_result",
          "data": {
            "text/plain": [
              "array([[0, 1, 2],\n",
              "       [3, 4, 5],\n",
              "       [6, 7, 8]])"
            ]
          },
          "metadata": {
            "tags": []
          },
          "execution_count": 4
        }
      ]
    },
    {
      "cell_type": "markdown",
      "metadata": {
        "id": "Q9HgKbE_s7kf",
        "colab_type": "text"
      },
      "source": [
        "### Encontrar los indices que no son ceros del arreglo [1,2,4,2,4,0,1,0,0,0,12,4,5,6,7,0]"
      ]
    },
    {
      "cell_type": "code",
      "metadata": {
        "id": "V00yewJBs7kh",
        "colab_type": "code",
        "outputId": "a41270cf-5775-4ffc-c032-9221480d6908",
        "colab": {
          "base_uri": "https://localhost:8080/",
          "height": 202
        }
      },
      "source": [
        "a = np.array([1,2,4,2,4,0,1,0,0,0,12,4,5,6,7,0])\n",
        "np.argwhere( a!=0 )"
      ],
      "execution_count": 0,
      "outputs": [
        {
          "output_type": "execute_result",
          "data": {
            "text/plain": [
              "array([[ 0],\n",
              "       [ 1],\n",
              "       [ 2],\n",
              "       [ 3],\n",
              "       [ 4],\n",
              "       [ 6],\n",
              "       [10],\n",
              "       [11],\n",
              "       [12],\n",
              "       [13],\n",
              "       [14]])"
            ]
          },
          "metadata": {
            "tags": []
          },
          "execution_count": 5
        }
      ]
    },
    {
      "cell_type": "markdown",
      "metadata": {
        "id": "m8Ojj9b7s7kp",
        "colab_type": "text"
      },
      "source": [
        "### Crear una matriz identidad de 6x6"
      ]
    },
    {
      "cell_type": "code",
      "metadata": {
        "id": "5xZrv70Cs7kr",
        "colab_type": "code",
        "outputId": "51ad0fbe-ec93-40e4-e62f-196cfd5977f7",
        "colab": {
          "base_uri": "https://localhost:8080/",
          "height": 118
        }
      },
      "source": [
        "np.identity(6)"
      ],
      "execution_count": 0,
      "outputs": [
        {
          "output_type": "execute_result",
          "data": {
            "text/plain": [
              "array([[1., 0., 0., 0., 0., 0.],\n",
              "       [0., 1., 0., 0., 0., 0.],\n",
              "       [0., 0., 1., 0., 0., 0.],\n",
              "       [0., 0., 0., 1., 0., 0.],\n",
              "       [0., 0., 0., 0., 1., 0.],\n",
              "       [0., 0., 0., 0., 0., 1.]])"
            ]
          },
          "metadata": {
            "tags": []
          },
          "execution_count": 6
        }
      ]
    },
    {
      "cell_type": "markdown",
      "metadata": {
        "id": "5A__w_N8s7kx",
        "colab_type": "text"
      },
      "source": [
        "### Crear una matriz con valores al azar con forma 3x3x3 "
      ]
    },
    {
      "cell_type": "code",
      "metadata": {
        "id": "0GDDO8-Ls7kz",
        "colab_type": "code",
        "outputId": "53aa6615-82c2-4b40-88df-15537dc5f88a",
        "colab": {
          "base_uri": "https://localhost:8080/",
          "height": 202
        }
      },
      "source": [
        "r = np.random.random((3,3,3))\n",
        "r"
      ],
      "execution_count": 0,
      "outputs": [
        {
          "output_type": "execute_result",
          "data": {
            "text/plain": [
              "array([[[0.41061073, 0.78966396, 0.1497036 ],\n",
              "        [0.65097477, 0.67702346, 0.40101324],\n",
              "        [0.58060751, 0.36709058, 0.36542752]],\n",
              "\n",
              "       [[0.42380789, 0.76388923, 0.03371246],\n",
              "        [0.19704932, 0.22645818, 0.46507731],\n",
              "        [0.78391412, 0.47828961, 0.15350741]],\n",
              "\n",
              "       [[0.01920386, 0.94412374, 0.19849807],\n",
              "        [0.94878298, 0.5765844 , 0.62137004],\n",
              "        [0.67720483, 0.73145512, 0.16483656]]])"
            ]
          },
          "metadata": {
            "tags": []
          },
          "execution_count": 7
        }
      ]
    },
    {
      "cell_type": "markdown",
      "metadata": {
        "id": "I_wCgw6Ps7k6",
        "colab_type": "text"
      },
      "source": [
        "### Encontrar los indices de los valores minimos y maximos de la anterior matriz"
      ]
    },
    {
      "cell_type": "code",
      "metadata": {
        "id": "tnJk_-oTs7k8",
        "colab_type": "code",
        "outputId": "4b8e979b-5293-40b2-aa00-8d5e9a001f54",
        "colab": {
          "base_uri": "https://localhost:8080/",
          "height": 269
        }
      },
      "source": [
        "print( r.argmax() )\n",
        "print( r.ravel()[r.argmax()] )\n",
        "\n",
        "print(r)\n",
        "print(np.unravel_index(r.argmax(), r.shape))\n",
        "r[np.unravel_index(r.argmax(), r.shape)]"
      ],
      "execution_count": 0,
      "outputs": [
        {
          "output_type": "stream",
          "text": [
            "21\n",
            "0.9487829795946848\n",
            "[[[0.41061073 0.78966396 0.1497036 ]\n",
            "  [0.65097477 0.67702346 0.40101324]\n",
            "  [0.58060751 0.36709058 0.36542752]]\n",
            "\n",
            " [[0.42380789 0.76388923 0.03371246]\n",
            "  [0.19704932 0.22645818 0.46507731]\n",
            "  [0.78391412 0.47828961 0.15350741]]\n",
            "\n",
            " [[0.01920386 0.94412374 0.19849807]\n",
            "  [0.94878298 0.5765844  0.62137004]\n",
            "  [0.67720483 0.73145512 0.16483656]]]\n",
            "(2, 1, 0)\n"
          ],
          "name": "stdout"
        },
        {
          "output_type": "execute_result",
          "data": {
            "text/plain": [
              "0.9487829795946848"
            ]
          },
          "metadata": {
            "tags": []
          },
          "execution_count": 8
        }
      ]
    },
    {
      "cell_type": "markdown",
      "metadata": {
        "id": "3qruk0Hzs7lD",
        "colab_type": "text"
      },
      "source": [
        "### Crear una matriz de 10x10 con 1's en los bordes y 0 en el interior (con rangos de indices)"
      ]
    },
    {
      "cell_type": "code",
      "metadata": {
        "id": "_Ok5awLJs7lF",
        "colab_type": "code",
        "outputId": "e6dc602c-811e-44ab-c308-af5762db4b41",
        "colab": {
          "base_uri": "https://localhost:8080/",
          "height": 185
        }
      },
      "source": [
        "z = np.ones((10,10))\n",
        "\n",
        "z[1:-1,1:-1] = 0\n",
        "z"
      ],
      "execution_count": 0,
      "outputs": [
        {
          "output_type": "execute_result",
          "data": {
            "text/plain": [
              "array([[1., 1., 1., 1., 1., 1., 1., 1., 1., 1.],\n",
              "       [1., 0., 0., 0., 0., 0., 0., 0., 0., 1.],\n",
              "       [1., 0., 0., 0., 0., 0., 0., 0., 0., 1.],\n",
              "       [1., 0., 0., 0., 0., 0., 0., 0., 0., 1.],\n",
              "       [1., 0., 0., 0., 0., 0., 0., 0., 0., 1.],\n",
              "       [1., 0., 0., 0., 0., 0., 0., 0., 0., 1.],\n",
              "       [1., 0., 0., 0., 0., 0., 0., 0., 0., 1.],\n",
              "       [1., 0., 0., 0., 0., 0., 0., 0., 0., 1.],\n",
              "       [1., 0., 0., 0., 0., 0., 0., 0., 0., 1.],\n",
              "       [1., 1., 1., 1., 1., 1., 1., 1., 1., 1.]])"
            ]
          },
          "metadata": {
            "tags": []
          },
          "execution_count": 9
        }
      ]
    },
    {
      "cell_type": "markdown",
      "metadata": {
        "id": "4xD-srtSs7lM",
        "colab_type": "text"
      },
      "source": [
        "### Crear una matriz de 5x5 con valores en los renglones que vayan de 0 a 4"
      ]
    },
    {
      "cell_type": "code",
      "metadata": {
        "id": "0mZ6nlKas7lO",
        "colab_type": "code",
        "outputId": "2ef81a12-54e6-40f6-9997-b1216caee7bc",
        "colab": {
          "base_uri": "https://localhost:8080/",
          "height": 101
        }
      },
      "source": [
        "np.tile( np.arange(0,5) , 5).reshape(5,5)"
      ],
      "execution_count": 0,
      "outputs": [
        {
          "output_type": "execute_result",
          "data": {
            "text/plain": [
              "array([[0, 1, 2, 3, 4],\n",
              "       [0, 1, 2, 3, 4],\n",
              "       [0, 1, 2, 3, 4],\n",
              "       [0, 1, 2, 3, 4],\n",
              "       [0, 1, 2, 3, 4]])"
            ]
          },
          "metadata": {
            "tags": []
          },
          "execution_count": 10
        }
      ]
    },
    {
      "cell_type": "markdown",
      "metadata": {
        "id": "CpYdh6uts7lU",
        "colab_type": "text"
      },
      "source": [
        "### Crear dos arreglos al azar A y B, verificar si son iguales"
      ]
    },
    {
      "cell_type": "code",
      "metadata": {
        "id": "UH4M8lVgs7lW",
        "colab_type": "code",
        "outputId": "f34caef0-cb61-42e5-af19-b1dc7e7a8440",
        "colab": {
          "base_uri": "https://localhost:8080/",
          "height": 67
        }
      },
      "source": [
        "a = np.random.random((3,3))\n",
        "b = np.random.random((3,3))\n",
        "\n",
        "a == b "
      ],
      "execution_count": 0,
      "outputs": [
        {
          "output_type": "execute_result",
          "data": {
            "text/plain": [
              "array([[False, False, False],\n",
              "       [False, False, False],\n",
              "       [False, False, False]])"
            ]
          },
          "metadata": {
            "tags": []
          },
          "execution_count": 11
        }
      ]
    },
    {
      "cell_type": "code",
      "metadata": {
        "id": "_IDjd1NYs7lc",
        "colab_type": "code",
        "colab": {}
      },
      "source": [
        "np.allclose(a,b)  # Con tolerancia, dada por argumentos: rtol atol\n"
      ],
      "execution_count": 0,
      "outputs": []
    },
    {
      "cell_type": "code",
      "metadata": {
        "id": "qsaWx1hxs7lk",
        "colab_type": "code",
        "colab": {}
      },
      "source": [
        "np.array_equal(a,b)"
      ],
      "execution_count": 0,
      "outputs": []
    }
  ]
}