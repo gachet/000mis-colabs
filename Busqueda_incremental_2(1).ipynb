{
  "nbformat": 4,
  "nbformat_minor": 0,
  "metadata": {
    "anaconda-cloud": {},
    "kernelspec": {
      "display_name": "Python 3",
      "language": "python",
      "name": "python3"
    },
    "language_info": {
      "codemirror_mode": {
        "name": "ipython",
        "version": 3
      },
      "file_extension": ".py",
      "mimetype": "text/x-python",
      "name": "python",
      "nbconvert_exporter": "python",
      "pygments_lexer": "ipython3",
      "version": "3.6.5"
    },
    "latex_envs": {
      "LaTeX_envs_menu_present": true,
      "autocomplete": true,
      "bibliofile": "biblio.bib",
      "cite_by": "apalike",
      "current_citInitial": 1,
      "eqLabelWithNumbers": true,
      "eqNumInitial": 1,
      "hotkeys": {
        "equation": "Ctrl-E",
        "itemize": "Ctrl-I"
      },
      "labels_anchors": false,
      "latex_user_defs": false,
      "report_style_numbering": true,
      "user_envs_cfg": true
    },
    "colab": {
      "name": "Busqueda_incremental-2(1).ipynb",
      "provenance": [],
      "include_colab_link": true
    }
  },
  "cells": [
    {
      "cell_type": "markdown",
      "metadata": {
        "id": "view-in-github",
        "colab_type": "text"
      },
      "source": [
        "<a href=\"https://colab.research.google.com/github/gachet/mis-colabs/blob/master/Busqueda_incremental_2(1).ipynb\" target=\"_parent\"><img src=\"https://colab.research.google.com/assets/colab-badge.svg\" alt=\"Open In Colab\"/></a>"
      ]
    },
    {
      "cell_type": "markdown",
      "metadata": {
        "id": "UApP8EHhde54",
        "colab_type": "text"
      },
      "source": [
        "# <center> <span style=\"color:blue\">Solución Numérica de Ecuaciones de Una Variable</center></span>\n",
        "\n",
        "\n"
      ]
    },
    {
      "cell_type": "markdown",
      "metadata": {
        "id": "ukjW7woSde57",
        "colab_type": "text"
      },
      "source": [
        "## Objetivos:\n",
        "\n",
        "- Definir  métodos numéricos para la solución de ecuaciones de una variable utilizando argumentos matemáticos y computacionales.\n",
        "\n",
        "\n",
        "- Determinar las raíces de una Ecuación No Lineal dada, empleando los métodos numéricos de manera eficiente y analizando los problemas de convergencia que puedan presentarse.\n"
      ]
    },
    {
      "cell_type": "markdown",
      "metadata": {
        "id": "hJ2qlMxwde59",
        "colab_type": "text"
      },
      "source": [
        "## Definición\n",
        "\n",
        "Dada una ecuación no lineal, $f$, buscamos el valor de $x$ tal que: \n",
        "\n",
        "\\begin{equation}\n",
        "f(x) = 0\n",
        "\\end{equation}\n",
        "\n",
        "con $f:[a,b]\\rightarrow \\Re$"
      ]
    },
    {
      "cell_type": "code",
      "metadata": {
        "id": "OZxV4MfVde5-",
        "colab_type": "code",
        "colab": {}
      },
      "source": [
        "%matplotlib inline\n",
        "import numpy as np\n",
        "import matplotlib.pyplot as plt"
      ],
      "execution_count": 0,
      "outputs": []
    },
    {
      "cell_type": "code",
      "metadata": {
        "id": "nhITzDQMde6D",
        "colab_type": "code",
        "outputId": "45b3ab9c-24b1-4cb7-bc56-214fbe01a011",
        "colab": {
          "base_uri": "https://localhost:8080/",
          "height": 292
        }
      },
      "source": [
        "#import pylab\n",
        "import matplotlib.pyplot as plt\n",
        "import numpy\n",
        "\n",
        "x = numpy.linspace(-4,4,100) # 100 linearly spaced numbers\n",
        "#y = numpy.sin(x)/x # computing the values of sin(x)/x\n",
        "y = numpy.sin(x) # computing the values of sin(x)\n",
        "fig = plt.figure(figsize=(10, 4), dpi= 80, facecolor='w', edgecolor='k')\n",
        "ax = fig.add_subplot(111)\n",
        "\n",
        "# compose plot\n",
        "\n",
        "plt.plot(x,3*y) # 2*sin(x)/x and 3*sin(x)/x\n",
        "ax.annotate('Raíz01', xy=(-3.15, 0), xytext=(-2.75, 0.5),arrowprops=dict(facecolor='black', shrink=0.05),)\n",
        "ax.annotate('Raíz02', xy=(0, 0), xytext=(-0.75, 0.5),arrowprops=dict(facecolor='black', shrink=0.05),)\n",
        "ax.annotate('Raíz03', xy=(3.15, 0), xytext=(3.5, 0.5),arrowprops=dict(facecolor='black', shrink=0.05),)\n",
        "plt.grid(True)\n",
        "plt.show() # show the plot"
      ],
      "execution_count": 0,
      "outputs": [
        {
          "output_type": "display_data",
          "data": {
            "image/png": "[encoded data removed]",
            "text/plain": [
              "<Figure size 800x320 with 1 Axes>"
            ]
          },
          "metadata": {
            "tags": []
          }
        }
      ]
    },
    {
      "cell_type": "markdown",
      "metadata": {
        "id": "xTfNxN6ade6I",
        "colab_type": "text"
      },
      "source": [
        "Para hallar las raíces de una ecuación no lineal se requiere conocer:\n",
        "\n",
        "- Número de raíces de la ecuación\n",
        "\n",
        "\n",
        "- Información preliminar:  dominio, rango, continuidad, derivadas, intervalos de  crecimiento, tipos de raíces...\n",
        "\n",
        "\n",
        "- Seleccionar un algoritmo conociendo sus limitaciones y dándole una aproximación inicial.\n"
      ]
    },
    {
      "cell_type": "markdown",
      "metadata": {
        "collapsed": true,
        "id": "Er4oK0cAde6J",
        "colab_type": "text"
      },
      "source": [
        "### Existencia de Raíces"
      ]
    },
    {
      "cell_type": "markdown",
      "metadata": {
        "id": "w6O4hbRhde6K",
        "colab_type": "text"
      },
      "source": [
        "El Objetivo de algunos de los métodos para determinar raices de una función no lineal es encontrar un intervalo que contenga al menos una raíz, y se basa en el **teorema del Valor Intermedio**:\n",
        "\n",
        "- **Teorema del Valor Intermedio:** Sea $f$ una función continua en el intervalo $[a,b]$ y $k$ es cualquier número entre $f(a)$ y $f(b)$, entonces existe un número $c$ en el intervalo $(a,b)$ tal que $f(c)=k$\n",
        "\n",
        "Otros teoremas del Cálculo que nos servirán para nuestro propósito en el capítulo son:\n",
        "\n",
        "\n",
        "- **Existencia de Raíces:** Sea $f$ una función de variable y valor real definida en $[a,b]$. Si se cumple que:\n",
        "\n",
        "  1. $f$ es continua en el intervalo $[a,b]$\n",
        "\n",
        "  2. $f(a) \\times f(b) < 0$\n",
        "\n",
        "  entonces existe algún $x_m$ en $[a,b]$ que es la raíz de la ecuación $f(x)=0$.\n",
        "  \n",
        "\n",
        "- **Existencia de una única raíz:** Sea $f$ una función de variable y valor real definida en $[a,b]$. Si se cumple que:\n",
        "\n",
        "  1. $f$ es continua en el intervalo $[a,b]$\n",
        "  \n",
        "  2. $f(a) \\times f(b) < 0$\n",
        "  \n",
        "  3. $f$ es diferenciable en $(a,b)$ y $f'(x)$ no cambia de signo para todo $x \\in [a,b]$\n",
        "  \n",
        "  entonces existe un único $x_m$ en $[a,b]$ que es raíz de la ecuación $f(x)=0$."
      ]
    },
    {
      "cell_type": "markdown",
      "metadata": {
        "collapsed": true,
        "id": "vQJt884dde6L",
        "colab_type": "text"
      },
      "source": [
        "### Funciones con várias raíces:\n",
        "\n",
        "Las funciones no lineales pueden tener ninguna, una o varias raíces en un intervalo dado, y es necesario localizar cada una de ellas.\n",
        "\n",
        "- La posible existencia de raíces múltiples complica el problema.\n",
        "\n",
        "  - En la vecindad de la raíz, tanto la función como su derivada se acercan a cero.\n",
        " \n",
        "  - Las ecuaciones con un número par de raíces múltiples son tangentes al eje x y no lo cruzan.\n",
        "  \n",
        "  - Las ecuaciones con un número impar de raíces múltiples cruzan al eje x en un punto de inflexión.\n",
        "  \n",
        "  - En caso de raíces múltiples, al no haber cambio de signo, los métodos cerrados no son confiables."
      ]
    },
    {
      "cell_type": "markdown",
      "metadata": {
        "id": "Jfwi9kNCde6M",
        "colab_type": "text"
      },
      "source": [
        "## <span style=\"color:red\">Método de las Búsquedas Incrementales:\n",
        "\n",
        "La búsqueda consiste en empezar en un extremo del intervalo de interés y evaluar la función con pequeños incrementos a lo largo del intervalo.\n",
        "- Si la longitud del incremento no es lo suficientemente pequeña, algunas raíces pueden pasar inadvertidas."
      ]
    },
    {
      "cell_type": "markdown",
      "metadata": {
        "id": "VtTgY7RAde6N",
        "colab_type": "text"
      },
      "source": [
        "<img src=\"https://drive.google.com/uc?id=1F5JRMcYn-ac2NZiwTbXfVls_LPPOlyCz\" alt=\"Lamp\" width=\"520\" height=\"420\">"
      ]
    },
    {
      "cell_type": "markdown",
      "metadata": {
        "collapsed": true,
        "id": "RPwBrMPrde6P",
        "colab_type": "text"
      },
      "source": [
        "Si se detecta que una función $f$ es continua en un intervalo $[a,b]$ y que en dicho intervalo se presenta un cambio de signo en los valores de $f(a)$ y $f(b)$, se concluye que existe al menos una raíz en ese intervalo (pueden ser varias). \n",
        "\n",
        "A continuación se propone una opción de cómo podría ser un método que sirva como apoyo inicial a los métodos numéricos para encontrar raíces de forma aproximada en un intervalo dado."
      ]
    },
    {
      "cell_type": "markdown",
      "metadata": {
        "id": "mAZQvJLDde6Q",
        "colab_type": "text"
      },
      "source": [
        "### Método de Búsquedas Incrementales\n",
        "\n",
        "1. Verificar la continidad de $f$ en $[a,b]$ empleando argumentos teóricos.\n",
        "\n",
        "2. Elegir un valor de partida, $x_0$, y un $\\Delta x$ que exprese el tamaño del intervalo que deseamos encontrar.\n",
        "\n",
        "3. Generar una sucesión de valores $x_0, x_1, \\ldots, x_n$ tal que $x_n = x_{n-1} + \\Delta x$\n",
        "\n",
        "4. Hallar el valor de $f(x_n)$ en cada $x_n$ generado.\n",
        "\n",
        "5. Determinar los signos de $f(x_n)$ y $f(x_{n-1})$\n",
        "\n",
        "6. Suspender el proceso cuando se presente un cambio de signo en $f(x_n)$ y $f(x_{n-1})$<br>\n",
        "o cuando se llegue a un límite de iteraciones sin encontrar dicho cambio."
      ]
    },
    {
      "cell_type": "markdown",
      "metadata": {
        "id": "drvZ8rvZde6R",
        "colab_type": "text"
      },
      "source": [
        "### Estrcutura algoritmo\n",
        "\n",
        "La estructura de un algoritmo que implemente el método anterior, deberá considerar: \n",
        "\n",
        "- Datos Iniciales\n",
        "\n",
        "- Iniciacilización del ciclo\n",
        "\n",
        "- Ciclo\n",
        "\n",
        "- Verificación de fin de ciclo"
      ]
    },
    {
      "cell_type": "markdown",
      "metadata": {
        "id": "N8EgHacBde6S",
        "colab_type": "text"
      },
      "source": [
        "### Ejemplo:- Encontrar la raiz de la ecuación $f(x) = e^{3x-12}+x*cos(3x)-x^{2}-4 $ en el intervalo $[0,7]$ con una precisión de 4 cifras"
      ]
    },
    {
      "cell_type": "code",
      "metadata": {
        "id": "bwWsNNdQde6T",
        "colab_type": "code",
        "colab": {}
      },
      "source": [
        "def rootsearch(f,a,b,dx):\n",
        "    x1 = a; f1 = f(a)\n",
        "    x2 = a + dx; f2 = f(x2)\n",
        "    while np.sign(f1) == np.sign(f2):\n",
        "        if x1  >=  b: return None,None\n",
        "        x1 = x2; f1 = f2\n",
        "        x2 = x1 + dx; f2 = f(x2)\n",
        "    else:\n",
        "        return x1,x2"
      ],
      "execution_count": 0,
      "outputs": []
    },
    {
      "cell_type": "code",
      "metadata": {
        "id": "-2w5IUEtde6X",
        "colab_type": "code",
        "colab": {}
      },
      "source": [
        "def f(x):\n",
        "    return np.exp(3*x - 12.0) + x * np.cos(3*x) - x**2 + 4"
      ],
      "execution_count": 0,
      "outputs": []
    },
    {
      "cell_type": "code",
      "metadata": {
        "id": "jEkXTK2-de6c",
        "colab_type": "code",
        "outputId": "402599cf-023a-420b-ce33-7d521c8e9ad0",
        "colab": {
          "base_uri": "https://localhost:8080/",
          "height": 50
        }
      },
      "source": [
        "incremento = 0.00001\n",
        "x1 = 0.0; x2 = 7.0\n",
        "dx = (x2 - x1)*incremento\n",
        "root1,root2=rootsearch(f,x1,x2,dx)\n",
        "print(root1,root2)\n",
        "raiz=(root1+root2)/2\n",
        "print('raiz = ',raiz)"
      ],
      "execution_count": 0,
      "outputs": [
        {
          "output_type": "stream",
          "text": [
            "2.369500000000416 2.369570000000416\n",
            "raiz =  2.369535000000416\n"
          ],
          "name": "stdout"
        }
      ]
    },
    {
      "cell_type": "code",
      "metadata": {
        "id": "CLj94bE5de6f",
        "colab_type": "code",
        "outputId": "687f945b-1f41-49a2-d79e-f87068417b86",
        "colab": {
          "base_uri": "https://localhost:8080/",
          "height": 34
        }
      },
      "source": [
        "y = f(2.36984999)\n",
        "y"
      ],
      "execution_count": 0,
      "outputs": [
        {
          "output_type": "execute_result",
          "data": {
            "text/plain": [
              "-0.0029697766051368646"
            ]
          },
          "metadata": {
            "tags": []
          },
          "execution_count": 13
        }
      ]
    },
    {
      "cell_type": "code",
      "metadata": {
        "id": "ro_LpKLqde6j",
        "colab_type": "code",
        "outputId": "c5059557-82fd-4fd0-8499-bb2773eca18c",
        "colab": {
          "base_uri": "https://localhost:8080/",
          "height": 408
        }
      },
      "source": [
        "# Exact Solution Plot:\n",
        "\n",
        "dt = 0.01\n",
        "x = np.arange(-2.0, 5.2, dt)\n",
        "plt.figure(figsize = (10,6) )\n",
        "plt.grid(True)\n",
        "plt.xlabel (r\"x\")\n",
        "plt.ylabel (r'$f(x)$')\n",
        "plt.title (r'$f(x) = e^{3x-12}+x*cos(3x)-x^{2}-4 $')\n",
        "plt.scatter(raiz,f(raiz),s=120,c='red',label='raiz',zorder=2)\n",
        "plt.legend(loc='upper left',fontsize=20)\n",
        "plt.plot(x, f(x))\n",
        "plt.grid(True)\n",
        "plt.show()"
      ],
      "execution_count": 0,
      "outputs": [
        {
          "output_type": "display_data",
          "data": {
            "image/png": "[encoded data removed]",
            "text/plain": [
              "<Figure size 720x432 with 1 Axes>"
            ]
          },
          "metadata": {
            "tags": []
          }
        }
      ]
    },
    {
      "cell_type": "markdown",
      "metadata": {
        "id": "mZhdaw9Wde6m",
        "colab_type": "text"
      },
      "source": [
        "### Otro Ejemplo  Encontrar la raiz de la ecuación $f(x) = x^{3} -10 x^{2} + 5.0 $ en el intervalo $[0,1]$ con una precisión de 4 cifras"
      ]
    },
    {
      "cell_type": "code",
      "metadata": {
        "id": "BllWPueWde6o",
        "colab_type": "code",
        "colab": {}
      },
      "source": [
        "def f(x): return x**3 - 10.0*x**2 + 5.0"
      ],
      "execution_count": 0,
      "outputs": []
    },
    {
      "cell_type": "code",
      "metadata": {
        "id": "yNc_8j6mde6r",
        "colab_type": "code",
        "outputId": "5986128b-a61b-4549-a3a5-135208e2f40e",
        "colab": {
          "base_uri": "https://localhost:8080/",
          "height": 50
        }
      },
      "source": [
        "x1 = 0.0; x2 = 1.0\n",
        "dx = (x2 - x1)/10000.0\n",
        "root1,root2=rootsearch(f,x1,x2,dx)\n",
        "print(root1,root2)\n",
        "raiz=(root1+root2)/2\n",
        "print('raiz = ',raiz)"
      ],
      "execution_count": 0,
      "outputs": [
        {
          "output_type": "stream",
          "text": [
            "0.7345999999999354 0.7346999999999354\n",
            "raiz =  0.7346499999999354\n"
          ],
          "name": "stdout"
        }
      ]
    },
    {
      "cell_type": "code",
      "metadata": {
        "id": "tSCUct6dde6v",
        "colab_type": "code",
        "outputId": "55d4ed2d-1812-4313-ac30-aea4c83613e3",
        "colab": {
          "base_uri": "https://localhost:8080/",
          "height": 34
        }
      },
      "source": [
        "y = f(0.7346035)\n",
        "y"
      ],
      "execution_count": 0,
      "outputs": [
        {
          "output_type": "execute_result",
          "data": {
            "text/plain": [
              "1.0183067633562359e-07"
            ]
          },
          "metadata": {
            "tags": []
          },
          "execution_count": 17
        }
      ]
    },
    {
      "cell_type": "code",
      "metadata": {
        "id": "E5f15ZVzde6y",
        "colab_type": "code",
        "outputId": "4a552aaf-efe2-4dd7-c146-c3312dbd087f",
        "colab": {
          "base_uri": "https://localhost:8080/",
          "height": 408
        }
      },
      "source": [
        "dt = 0.01\n",
        "x = np.arange(-2.0, 5.2, dt)\n",
        "plt.figure(figsize = (10,6) )\n",
        "plt.grid(True)\n",
        "plt.xlabel (r\"x\")\n",
        "plt.ylabel (r'$f(x)$')\n",
        "plt.title (r'$f(x) = x^{3} -10 x^{2} + 5.0 $')\n",
        "plt.scatter(raiz,f(raiz),s=120,c='red',label='raiz',zorder=2)\n",
        "plt.legend(loc='upper right',fontsize=20)\n",
        "plt.plot(x, f(x))\n",
        "plt.grid(True)\n",
        "plt.show()"
      ],
      "execution_count": 0,
      "outputs": [
        {
          "output_type": "display_data",
          "data": {
            "image/png": "[encoded data removed]",
            "text/plain": [
              "<Figure size 720x432 with 1 Axes>"
            ]
          },
          "metadata": {
            "tags": []
          }
        }
      ]
    },
    {
      "cell_type": "code",
      "metadata": {
        "id": "GSxXY6Bhde62",
        "colab_type": "code",
        "colab": {}
      },
      "source": [
        ""
      ],
      "execution_count": 0,
      "outputs": []
    }
  ]
}