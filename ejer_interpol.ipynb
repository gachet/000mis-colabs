{
  "nbformat": 4,
  "nbformat_minor": 0,
  "metadata": {
    "kernelspec": {
      "display_name": "Python 3",
      "language": "python",
      "name": "python3"
    },
    "language_info": {
      "codemirror_mode": {
        "name": "ipython",
        "version": 3
      },
      "file_extension": ".py",
      "mimetype": "text/x-python",
      "name": "python",
      "nbconvert_exporter": "python",
      "pygments_lexer": "ipython3",
      "version": "3.7.4"
    },
    "colab": {
      "name": "ejer-interpol.ipynb",
      "provenance": [],
      "collapsed_sections": [],
      "include_colab_link": true
    }
  },
  "cells": [
    {
      "cell_type": "markdown",
      "metadata": {
        "id": "view-in-github",
        "colab_type": "text"
      },
      "source": [
        "<a href=\"https://colab.research.google.com/github/gachet/mis-colabs/blob/master/ejer_interpol.ipynb\" target=\"_parent\"><img src=\"https://colab.research.google.com/assets/colab-badge.svg\" alt=\"Open In Colab\"/></a>"
      ]
    },
    {
      "cell_type": "markdown",
      "metadata": {
        "id": "TWpHtTtp9Jcz",
        "colab_type": "text"
      },
      "source": [
        "## Ejercicios Interpolación"
      ]
    },
    {
      "cell_type": "markdown",
      "metadata": {
        "id": "mHd7d53i9Jc8",
        "colab_type": "text"
      },
      "source": [
        "### En todos los casos dibujar el poolinomio interpolante"
      ]
    },
    {
      "cell_type": "code",
      "metadata": {
        "id": "ZSd-7nUz9Q9L",
        "colab_type": "code",
        "colab": {}
      },
      "source": [
        "import numpy as np\n",
        "import sympy as sym\n",
        "%matplotlib inline\n",
        "import matplotlib.pyplot as plt\n",
        "np.set_printoptions(precision = 6)   # solo dos decimales\n",
        "np.set_printoptions(suppress = True) # no usar notación exponencial"
      ],
      "execution_count": 0,
      "outputs": []
    },
    {
      "cell_type": "code",
      "metadata": {
        "id": "DVRHGz0y9X8h",
        "colab_type": "code",
        "colab": {}
      },
      "source": [
        "def lagrange(xa,ya):\n",
        "    n = len(xa)\n",
        "    x = sym.Symbol('x')\n",
        "# Polinomio\n",
        "    polinomio = 0\n",
        "    for i in range(0,n,1):\n",
        "    # Termino de Lagrange\n",
        "        termino = 1\n",
        "        for j  in range(0,n,1):\n",
        "            if (j!=i):\n",
        "                termino = termino*(x-xa[j])/(xa[i]-xa[j])\n",
        "        polinomio = polinomio + termino*ya[i]\n",
        "    pxn = sym.lambdify(x,polinomio) #convertimos a función evaluable\n",
        "    return polinomio,pxn"
      ],
      "execution_count": 0,
      "outputs": []
    },
    {
      "cell_type": "code",
      "metadata": {
        "id": "RAsWdDBC9fOo",
        "colab_type": "code",
        "colab": {}
      },
      "source": [
        ""
      ],
      "execution_count": 0,
      "outputs": []
    },
    {
      "cell_type": "markdown",
      "metadata": {
        "id": "zi3ktXoS9JdF",
        "colab_type": "text"
      },
      "source": [
        "### 1.- Encontrar el polinomio de interpolacién de Lagrange que ajusta los datos (-1, 2), (0,-1),(1,1) y (2,-2)."
      ]
    },
    {
      "cell_type": "code",
      "metadata": {
        "id": "NCTUn8ImA1h3",
        "colab_type": "code",
        "colab": {}
      },
      "source": [
        "xi = np.array([-1., 0., 1., 2.])\n",
        "yi = np.array([2., -1., 1., -2.])"
      ],
      "execution_count": 0,
      "outputs": []
    },
    {
      "cell_type": "code",
      "metadata": {
        "colab_type": "code",
        "id": "U4M7-KmEBdgH",
        "colab": {}
      },
      "source": [
        "poli,polifun =lagrange(xi,yi)"
      ],
      "execution_count": 0,
      "outputs": []
    },
    {
      "cell_type": "code",
      "metadata": {
        "id": "G8u5dYdg2t4M",
        "colab_type": "code",
        "outputId": "e002df21-74c7-4b45-fae2-b943cd41b9f4",
        "colab": {
          "base_uri": "https://localhost:8080/",
          "height": 56
        }
      },
      "source": [
        "poli"
      ],
      "execution_count": 0,
      "outputs": [
        {
          "output_type": "execute_result",
          "data": {
            "text/plain": [
              "-1.0*x*(0.333333333333333*x + 0.333333333333333)*(x - 1.0) - 1.0*x*(0.5*x + 0.5)*(x - 2.0) - 0.333333333333333*x*(x - 2.0)*(x - 1.0) - 0.5*(x - 2.0)*(x - 1.0)*(1.0*x + 1.0)"
            ]
          },
          "metadata": {
            "tags": []
          },
          "execution_count": 32
        }
      ]
    },
    {
      "cell_type": "code",
      "metadata": {
        "colab_type": "code",
        "id": "ARfSL6dlBdhC",
        "outputId": "1f94a842-8403-4cdd-d0f4-3ebe1841a2d2",
        "colab": {
          "base_uri": "https://localhost:8080/",
          "height": 36
        }
      },
      "source": [
        "px = poli.expand() #expandimos para evaluación numérica\n",
        "print ('polinomio es ',px)"
      ],
      "execution_count": 0,
      "outputs": [
        {
          "output_type": "stream",
          "text": [
            "polinomio es  -1.66666666666667*x**3 + 2.5*x**2 + 1.16666666666667*x - 1.0\n"
          ],
          "name": "stdout"
        }
      ]
    },
    {
      "cell_type": "code",
      "metadata": {
        "colab_type": "code",
        "id": "Qj-5_PYoBdhZ",
        "outputId": "203832ab-37d6-4955-aa16-f8520d048473",
        "colab": {
          "base_uri": "https://localhost:8080/",
          "height": 36
        }
      },
      "source": [
        "polifun(xi) # evaluanos con los datos para comprobar los valores del polinomio"
      ],
      "execution_count": 0,
      "outputs": [
        {
          "output_type": "execute_result",
          "data": {
            "text/plain": [
              "array([ 2., -1.,  1., -2.])"
            ]
          },
          "metadata": {
            "tags": []
          },
          "execution_count": 30
        }
      ]
    },
    {
      "cell_type": "code",
      "metadata": {
        "colab_type": "code",
        "id": "iE16-snhBdho",
        "outputId": "3a166523-d76d-4920-9a60-bfa653c50c95",
        "colab": {
          "base_uri": "https://localhost:8080/",
          "height": 281
        }
      },
      "source": [
        "# Puntos para la gráfica\n",
        "lim1 = np.min(xi)\n",
        "lim2 = np.max(xi)\n",
        "muestras = 101\n",
        "xi_p = np.linspace(lim1,lim2,muestras)\n",
        "yi_p = polifun(xi_p)\n",
        "plt.grid(True)\n",
        "plt.title('Interpolación Lagrange')\n",
        "plt.plot(xi,yi,'o', label = 'Puntos')\n",
        "plt.plot(xi_p,yi_p, label = 'Polinomio')\n",
        "plt.legend(loc='upper left',fontsize=12)\n",
        "plt.show()"
      ],
      "execution_count": 0,
      "outputs": [
        {
          "output_type": "display_data",
          "data": {
            "image/png": "[encoded data removed]",
            "text/plain": [
              "<Figure size 432x288 with 1 Axes>"
            ]
          },
          "metadata": {
            "tags": []
          }
        }
      ]
    },
    {
      "cell_type": "code",
      "metadata": {
        "id": "CpZsfnoABrAo",
        "colab_type": "code",
        "outputId": "d64cd371-7a90-489d-b0cd-c9372dd40cd4",
        "colab": {
          "base_uri": "https://localhost:8080/",
          "height": 128
        }
      },
      "source": [
        "N = len(xi)\n",
        "## V se puede calcular con\n",
        "V = np.vander(xi,N)\n",
        "print('Matriz Vandermonde\\n',V)\n",
        "a = np.dot(np.linalg.inv(V),yi)\n",
        "print('coeficientes son ' ,a )"
      ],
      "execution_count": 0,
      "outputs": [
        {
          "output_type": "stream",
          "text": [
            "Matriz Vandermonde\n",
            " [[-1.  1. -1.  1.]\n",
            " [ 0.  0.  0.  1.]\n",
            " [ 1.  1.  1.  1.]\n",
            " [ 8.  4.  2.  1.]]\n",
            "coeficientes son  [-1.666667  2.5       1.166667 -1.      ]\n"
          ],
          "name": "stdout"
        }
      ]
    },
    {
      "cell_type": "code",
      "metadata": {
        "id": "ePmjlyZnFrcc",
        "colab_type": "code",
        "outputId": "7156e9b4-c64b-4c01-b53d-d1815dcdaaa6",
        "colab": {
          "base_uri": "https://localhost:8080/",
          "height": 281
        }
      },
      "source": [
        "res = lambda x: a[0]*x**3 + a[1]*x**2 +a[2]*x+a[3]\n",
        "lim1 = np.min(xi)\n",
        "lim2 = np.max(xi)\n",
        "muestras = 101\n",
        "xi_p = np.linspace(lim1,lim2,muestras)\n",
        "yi_p = res(xi_p)\n",
        "plt.grid(True)\n",
        "plt.title('Interpolación Lagrange')\n",
        "plt.plot(xi,yi,'o', label = 'Puntos')\n",
        "plt.plot(xi_p,yi_p, label = 'Polinomio')\n",
        "plt.legend(loc='upper left',fontsize=12)\n",
        "plt.show()"
      ],
      "execution_count": 0,
      "outputs": [
        {
          "output_type": "display_data",
          "data": {
            "image/png": "[encoded data removed]",
            "text/plain": [
              "<Figure size 432x288 with 1 Axes>"
            ]
          },
          "metadata": {
            "tags": []
          }
        }
      ]
    },
    {
      "cell_type": "code",
      "metadata": {
        "id": "--JgrflaA16F",
        "colab_type": "code",
        "colab": {}
      },
      "source": [
        ""
      ],
      "execution_count": 0,
      "outputs": []
    },
    {
      "cell_type": "markdown",
      "metadata": {
        "id": "7ORndMCV9JdL",
        "colab_type": "text"
      },
      "source": [
        "### 2.- Construir el interpolador de Lagrange para aproximar f(0) si f(-2) = -1, f(-1) =0, f(1) =2, f(2) =3."
      ]
    },
    {
      "cell_type": "code",
      "metadata": {
        "id": "J_ybqwGJ0Mjv",
        "colab_type": "code",
        "colab": {}
      },
      "source": [
        ""
      ],
      "execution_count": 0,
      "outputs": []
    },
    {
      "cell_type": "code",
      "metadata": {
        "colab_type": "code",
        "id": "iFkBEO5v0a2_",
        "colab": {}
      },
      "source": [
        "xi = np.array([-2, -1, 1, 2])\n",
        "yi = np.array([-1, -0, 2, 3])"
      ],
      "execution_count": 0,
      "outputs": []
    },
    {
      "cell_type": "code",
      "metadata": {
        "colab_type": "code",
        "id": "Hu0rT9Lg0a3j",
        "colab": {}
      },
      "source": [
        "poli,polifun =lagrange(xi,yi)"
      ],
      "execution_count": 0,
      "outputs": []
    },
    {
      "cell_type": "code",
      "metadata": {
        "colab_type": "code",
        "outputId": "bfa75208-e326-48e5-fa9c-d63672102ff0",
        "id": "q46wltnv0a36",
        "colab": {
          "base_uri": "https://localhost:8080/",
          "height": 36
        }
      },
      "source": [
        "px = poli.expand() #expandimos para evaluación numérica\n",
        "px"
      ],
      "execution_count": 0,
      "outputs": [
        {
          "output_type": "execute_result",
          "data": {
            "text/plain": [
              "x + 1"
            ]
          },
          "metadata": {
            "tags": []
          },
          "execution_count": 12
        }
      ]
    },
    {
      "cell_type": "code",
      "metadata": {
        "id": "B1IxbdC30sVd",
        "colab_type": "code",
        "colab": {}
      },
      "source": [
        ""
      ],
      "execution_count": 0,
      "outputs": []
    },
    {
      "cell_type": "code",
      "metadata": {
        "colab_type": "code",
        "outputId": "0702f8f5-2fb8-4b6a-da5e-fc922bfc107e",
        "id": "7sEQhUbP0a4M",
        "colab": {
          "base_uri": "https://localhost:8080/",
          "height": 36
        }
      },
      "source": [
        "polifun(xi) # evaluanos con los datos para comprobar los valores del polinomio"
      ],
      "execution_count": 0,
      "outputs": [
        {
          "output_type": "execute_result",
          "data": {
            "text/plain": [
              "array([-1., -0.,  2.,  3.])"
            ]
          },
          "metadata": {
            "tags": []
          },
          "execution_count": 13
        }
      ]
    },
    {
      "cell_type": "code",
      "metadata": {
        "id": "xLS-XhXW0u_T",
        "colab_type": "code",
        "outputId": "89d7e294-14bf-4b88-f380-f8b77fc9cb3c",
        "colab": {
          "base_uri": "https://localhost:8080/",
          "height": 36
        }
      },
      "source": [
        "polifun(0)"
      ],
      "execution_count": 0,
      "outputs": [
        {
          "output_type": "execute_result",
          "data": {
            "text/plain": [
              "0.9999999999999999"
            ]
          },
          "metadata": {
            "tags": []
          },
          "execution_count": 14
        }
      ]
    },
    {
      "cell_type": "code",
      "metadata": {
        "colab_type": "code",
        "outputId": "5d539ba5-3e78-4dc7-c581-a0cadd395b24",
        "id": "WEd5uFRo0a4c",
        "colab": {
          "base_uri": "https://localhost:8080/",
          "height": 281
        }
      },
      "source": [
        "# Puntos para la gráfica\n",
        "lim1 = np.min(xi)\n",
        "lim2 = np.max(xi)\n",
        "muestras = 101\n",
        "xi_p = np.linspace(lim1,lim2,muestras)\n",
        "yi_p = polifun(xi_p)\n",
        "plt.grid(True)\n",
        "plt.title('Interpolación Lagrange')\n",
        "plt.plot(xi,yi,'o', label = 'Puntos')\n",
        "plt.plot(xi_p,yi_p, label = 'Polinomio')\n",
        "plt.legend(loc='upper left',fontsize=12)\n",
        "plt.show()"
      ],
      "execution_count": 0,
      "outputs": [
        {
          "output_type": "display_data",
          "data": {
            "image/png": "[encoded data removed]",
            "text/plain": [
              "<Figure size 432x288 with 1 Axes>"
            ]
          },
          "metadata": {
            "tags": []
          }
        }
      ]
    },
    {
      "cell_type": "code",
      "metadata": {
        "id": "UxDJcFU-0Mwb",
        "colab_type": "code",
        "colab": {}
      },
      "source": [
        ""
      ],
      "execution_count": 0,
      "outputs": []
    },
    {
      "cell_type": "code",
      "metadata": {
        "id": "bBEDiuzW0M0q",
        "colab_type": "code",
        "colab": {}
      },
      "source": [
        ""
      ],
      "execution_count": 0,
      "outputs": []
    },
    {
      "cell_type": "code",
      "metadata": {
        "id": "qdrPRVCk0M4C",
        "colab_type": "code",
        "colab": {}
      },
      "source": [
        ""
      ],
      "execution_count": 0,
      "outputs": []
    },
    {
      "cell_type": "markdown",
      "metadata": {
        "id": "uS4QKrDW9JdP",
        "colab_type": "text"
      },
      "source": [
        "### 3.- Construir el interpolador de Lagrange y Vandermonde  para aproximar f (8.4) si f(8.0) = 1.25, f(8.2) = 1.76, f(8.3) = 1.46, f(8.5) = 1.75."
      ]
    },
    {
      "cell_type": "code",
      "metadata": {
        "colab_type": "code",
        "id": "HptFaq7xKdm5",
        "colab": {}
      },
      "source": [
        "xi = np.array([8, 8.2, 8.3, 8.5])\n",
        "yi = np.array([1.25, 1.760,1.46, 1.75])"
      ],
      "execution_count": 0,
      "outputs": []
    },
    {
      "cell_type": "code",
      "metadata": {
        "colab_type": "code",
        "id": "fp04yidIKdna",
        "colab": {}
      },
      "source": [
        "poli,polifun =lagrange(xi,yi)"
      ],
      "execution_count": 0,
      "outputs": []
    },
    {
      "cell_type": "code",
      "metadata": {
        "colab_type": "code",
        "outputId": "3eaad6c8-7af1-4a17-d647-676660ffa1b5",
        "id": "hvVLztlIKdnx",
        "colab": {
          "base_uri": "https://localhost:8080/",
          "height": 36
        }
      },
      "source": [
        "px = poli.expand() #expandimos para evaluación numérica\n",
        "px"
      ],
      "execution_count": 0,
      "outputs": [
        {
          "output_type": "execute_result",
          "data": {
            "text/plain": [
              "66.6666666666661*x**3 - 1651.83333333332*x**2 + 13639.5833333332*x - 37531.4166666663"
            ]
          },
          "metadata": {
            "tags": []
          },
          "execution_count": 38
        }
      ]
    },
    {
      "cell_type": "code",
      "metadata": {
        "colab_type": "code",
        "outputId": "53bfa07e-69bb-4b92-9d3a-b47c2f6bb17f",
        "id": "7e9-w0ZLKdoB",
        "colab": {
          "base_uri": "https://localhost:8080/",
          "height": 36
        }
      },
      "source": [
        "polifun(xi) # evaluanos con los datos para comprobar los valores del polinomio"
      ],
      "execution_count": 0,
      "outputs": [
        {
          "output_type": "execute_result",
          "data": {
            "text/plain": [
              "array([1.25, 1.76, 1.46, 1.75])"
            ]
          },
          "metadata": {
            "tags": []
          },
          "execution_count": 39
        }
      ]
    },
    {
      "cell_type": "code",
      "metadata": {
        "id": "sHjfBbFZLAGA",
        "colab_type": "code",
        "outputId": "57123324-4796-444e-abcd-5467eb6f7c38",
        "colab": {
          "base_uri": "https://localhost:8080/",
          "height": 36
        }
      },
      "source": [
        "polifun(8.4)"
      ],
      "execution_count": 0,
      "outputs": [
        {
          "output_type": "execute_result",
          "data": {
            "text/plain": [
              "1.323333333333364"
            ]
          },
          "metadata": {
            "tags": []
          },
          "execution_count": 40
        }
      ]
    },
    {
      "cell_type": "code",
      "metadata": {
        "colab_type": "code",
        "outputId": "1b45ea83-1b8b-4d26-f5a5-58df708799dc",
        "id": "8-nnDSvZKdoQ",
        "colab": {
          "base_uri": "https://localhost:8080/",
          "height": 281
        }
      },
      "source": [
        "# Puntos para la gráfica\n",
        "lim1 = np.min(xi)\n",
        "lim2 = np.max(xi)\n",
        "muestras = 101\n",
        "xi_p = np.linspace(lim1,lim2,muestras)\n",
        "yi_p = polifun(xi_p)\n",
        "plt.grid(True)\n",
        "plt.title('Interpolación Lagrange')\n",
        "plt.plot(xi,yi,'o', label = 'Puntos')\n",
        "plt.plot(xi_p,yi_p, label = 'Polinomio')\n",
        "plt.legend(loc='upper left',fontsize=12)\n",
        "plt.show()"
      ],
      "execution_count": 0,
      "outputs": [
        {
          "output_type": "display_data",
          "data": {
            "image/png": "[encoded data removed]",
            "text/plain": [
              "<Figure size 432x288 with 1 Axes>"
            ]
          },
          "metadata": {
            "tags": []
          }
        }
      ]
    },
    {
      "cell_type": "code",
      "metadata": {
        "colab_type": "code",
        "outputId": "469fa951-35a1-404c-b47f-2e33af00df14",
        "id": "S5ZWhj2qMf08",
        "colab": {
          "base_uri": "https://localhost:8080/",
          "height": 128
        }
      },
      "source": [
        "N = len(xi)\n",
        "## V se puede calcular con\n",
        "V = np.vander(xi,N)\n",
        "print('Matriz Vandermonde\\n',V)\n",
        "a = np.dot(np.linalg.inv(V),yi)\n",
        "print('coeficientes son ' ,a )"
      ],
      "execution_count": 0,
      "outputs": [
        {
          "output_type": "stream",
          "text": [
            "Matriz Vandermonde\n",
            " [[512.    64.     8.     1.  ]\n",
            " [551.37  67.24   8.2    1.  ]\n",
            " [571.79  68.89   8.3    1.  ]\n",
            " [614.12  72.25   8.5    1.  ]]\n",
            "coeficientes son  [    66.67  -1651.83  13639.58 -37531.42]\n"
          ],
          "name": "stdout"
        }
      ]
    },
    {
      "cell_type": "code",
      "metadata": {
        "id": "aUX0X_IrgEQD",
        "colab_type": "code",
        "colab": {}
      },
      "source": [
        "res = lambda x: a[0]*x**3 + a[1]*x**2 +a[2]*x+a[3]"
      ],
      "execution_count": 0,
      "outputs": []
    },
    {
      "cell_type": "code",
      "metadata": {
        "id": "QF8pMtOCgI9o",
        "colab_type": "code",
        "outputId": "f5ebc37f-996f-472c-c8b1-ba8a2ad75b5b",
        "colab": {
          "base_uri": "https://localhost:8080/",
          "height": 36
        }
      },
      "source": [
        "res(8.4)"
      ],
      "execution_count": 0,
      "outputs": [
        {
          "output_type": "execute_result",
          "data": {
            "text/plain": [
              "1.3233333333773771"
            ]
          },
          "metadata": {
            "tags": []
          },
          "execution_count": 159
        }
      ]
    },
    {
      "cell_type": "code",
      "metadata": {
        "colab_type": "code",
        "outputId": "d08f5b0e-e2c2-464e-806b-9b85a3dadc4c",
        "id": "nxpbgiHNMf16",
        "colab": {
          "base_uri": "https://localhost:8080/",
          "height": 281
        }
      },
      "source": [
        "\n",
        "lim1 = np.min(xi)\n",
        "lim2 = np.max(xi)\n",
        "muestras = 101\n",
        "xi_p = np.linspace(lim1,lim2,muestras)\n",
        "yi_p = res(xi_p)\n",
        "plt.grid(True)\n",
        "plt.title('Interpolación Lagrange')\n",
        "plt.plot(xi,yi,'o', label = 'Puntos')\n",
        "plt.plot(xi_p,yi_p, label = 'Polinomio')\n",
        "plt.legend(loc='upper left',fontsize=12)\n",
        "plt.show()"
      ],
      "execution_count": 0,
      "outputs": [
        {
          "output_type": "display_data",
          "data": {
            "image/png": "[encoded data removed]",
            "text/plain": [
              "<Figure size 432x288 with 1 Axes>"
            ]
          },
          "metadata": {
            "tags": []
          }
        }
      ]
    },
    {
      "cell_type": "markdown",
      "metadata": {
        "id": "8XzUr4vD9JdT",
        "colab_type": "text"
      },
      "source": [
        "### 4.- Dados los siguientes datos.\n",
        "x =  −1.2 0.3 1.1 \n",
        "\n",
        "y = −5.76 −5.61 −3.69\n",
        "\n",
        "Encontrar y(0) mediante  Lagrange y Vandermonde"
      ]
    },
    {
      "cell_type": "markdown",
      "metadata": {
        "id": "56JVaw1M9JdW",
        "colab_type": "text"
      },
      "source": [
        "### 5.- Dados los siguientes datos\n",
        "x = 0 0.5 1 1.5 2 2.5 3\n",
        "\n",
        "y = 1.8421 2.4694 2.4921 1.9047 0.8509 −0.4112 −1.5727\n",
        "\n",
        "Encontrar  y(1.2) utilizando Lagrange seleccionando a) 3 puntos vecinos y b) 4 puntos vecinos"
      ]
    },
    {
      "cell_type": "markdown",
      "metadata": {
        "id": "FF5dChPq9Jdf",
        "colab_type": "text"
      },
      "source": [
        "### 6.- Use un polinomio de interpolación de Lagrange de primer y segundo grado para evaluar la densidad del aceite de motor no utilizado a T = 15 ° C en base a los siguientes datos:\n",
        "x1 = 0 , f(x1) = 3.85\n",
        "\n",
        "x2 = 20,  f(x2) = 0.800\n",
        "\n",
        "x3 = 40, f(x3) = 0.212\n"
      ]
    },
    {
      "cell_type": "markdown",
      "metadata": {
        "id": "lL-Vqkrf9Jdh",
        "colab_type": "text"
      },
      "source": [
        "### 7.- Encontrar y(3.5) mediante Vandermonde y Lagrange  \n",
        "x  0 1.8 5 6 8.2 9.2 12\n",
        "\n",
        "y  26 16.415 5.375 3.5 2.015 2.54 8"
      ]
    },
    {
      "cell_type": "code",
      "metadata": {
        "id": "MMu_pcah8uAj",
        "colab_type": "code",
        "colab": {}
      },
      "source": [
        "xi = np.array([0., 1.8, 5., 6.,8.2,9.2,12.])\n",
        "yi = np.array([26.,16.415,5.375,3.5,2.015,2.54,8.])"
      ],
      "execution_count": 0,
      "outputs": []
    },
    {
      "cell_type": "code",
      "metadata": {
        "id": "JWSpWRlL8uQ5",
        "colab_type": "code",
        "colab": {}
      },
      "source": [
        ""
      ],
      "execution_count": 0,
      "outputs": []
    },
    {
      "cell_type": "code",
      "metadata": {
        "colab_type": "code",
        "id": "uvYphgIL9iHC",
        "colab": {}
      },
      "source": [
        "poli,polifun =lagrange(xi,yi)"
      ],
      "execution_count": 0,
      "outputs": []
    },
    {
      "cell_type": "code",
      "metadata": {
        "colab_type": "code",
        "outputId": "440cb07c-2096-4bf2-a361-62e338b582d0",
        "id": "zpPA43Fy9iHr",
        "colab": {
          "base_uri": "https://localhost:8080/",
          "height": 56
        }
      },
      "source": [
        "px = poli.expand() #expandimos para evaluación numérica\n",
        "px"
      ],
      "execution_count": 0,
      "outputs": [
        {
          "output_type": "execute_result",
          "data": {
            "text/plain": [
              "-2.60208521396521e-18*x**6 + 8.32667268468867e-17*x**5 - 2.22044604925031e-16*x**4 + 7.105427357601e-15*x**3 + 0.375*x**2 - 5.99999999999999*x + 26.0"
            ]
          },
          "metadata": {
            "tags": []
          },
          "execution_count": 46
        }
      ]
    },
    {
      "cell_type": "code",
      "metadata": {
        "colab_type": "code",
        "outputId": "80fc3735-f537-4057-cf2c-d0e22b8336c8",
        "id": "q9WQZplj9iIE",
        "colab": {
          "base_uri": "https://localhost:8080/",
          "height": 36
        }
      },
      "source": [
        "polifun(xi) # evaluanos con los datos para comprobar los valores del polinomio"
      ],
      "execution_count": 0,
      "outputs": [
        {
          "output_type": "execute_result",
          "data": {
            "text/plain": [
              "array([26.   , 16.415,  5.375,  3.5  ,  2.015,  2.54 ,  8.   ])"
            ]
          },
          "metadata": {
            "tags": []
          },
          "execution_count": 47
        }
      ]
    },
    {
      "cell_type": "code",
      "metadata": {
        "colab_type": "code",
        "outputId": "d4c054d4-b687-4583-dd8f-d9bee35d866a",
        "id": "Dv-UxMfz9iIV",
        "colab": {
          "base_uri": "https://localhost:8080/",
          "height": 36
        }
      },
      "source": [
        "polifun(3.5)"
      ],
      "execution_count": 0,
      "outputs": [
        {
          "output_type": "execute_result",
          "data": {
            "text/plain": [
              "9.593750000000007"
            ]
          },
          "metadata": {
            "tags": []
          },
          "execution_count": 48
        }
      ]
    },
    {
      "cell_type": "code",
      "metadata": {
        "colab_type": "code",
        "outputId": "e5a611a2-99a9-4b78-f4f4-19764392adf6",
        "id": "hH5UAST49iIm",
        "colab": {
          "base_uri": "https://localhost:8080/",
          "height": 281
        }
      },
      "source": [
        "# Puntos para la gráfica\n",
        "lim1 = np.min(xi)\n",
        "lim2 = np.max(xi)\n",
        "muestras = 101\n",
        "xi_p = np.linspace(lim1,lim2,muestras)\n",
        "yi_p = polifun(xi_p)\n",
        "plt.grid(True)\n",
        "plt.title('Interpolación Lagrange')\n",
        "plt.plot(xi,yi,'o', label = 'Puntos')\n",
        "plt.plot(xi_p,yi_p, label = 'Polinomio')\n",
        "plt.legend(loc='upper left',fontsize=12)\n",
        "plt.show()"
      ],
      "execution_count": 0,
      "outputs": [
        {
          "output_type": "display_data",
          "data": {
            "image/png": "[encoded data removed]",
            "text/plain": [
              "<Figure size 432x288 with 1 Axes>"
            ]
          },
          "metadata": {
            "tags": []
          }
        }
      ]
    },
    {
      "cell_type": "code",
      "metadata": {
        "id": "NqtqUqSG8ueJ",
        "colab_type": "code",
        "colab": {}
      },
      "source": [
        ""
      ],
      "execution_count": 0,
      "outputs": []
    },
    {
      "cell_type": "markdown",
      "metadata": {
        "id": "-VNAiz9FqsyE",
        "colab_type": "text"
      },
      "source": [
        ""
      ]
    },
    {
      "cell_type": "code",
      "metadata": {
        "id": "xKDIRcsk8unH",
        "colab_type": "code",
        "colab": {}
      },
      "source": [
        ""
      ],
      "execution_count": 0,
      "outputs": []
    },
    {
      "cell_type": "code",
      "metadata": {
        "id": "DaO0fDIb8u08",
        "colab_type": "code",
        "colab": {}
      },
      "source": [
        ""
      ],
      "execution_count": 0,
      "outputs": []
    },
    {
      "cell_type": "markdown",
      "metadata": {
        "id": "iAS1RFZd9Jdk",
        "colab_type": "text"
      },
      "source": [
        "### 8.-Estime el logaritmo común de 10 usando interpolación lineal mediante Vandermonde y Laplace.\n",
        "(a) Interpolar entre log 8.5 = 0.9030900 y log 12.5= 1.0791812.\n",
        "\n",
        "(b) Interpolar entre log 9.5 = 0.9542425 y log 11.5 = 1.0413927.\n",
        "Para cada una de las interpolaciones, calcule el porcentaje de error relativo basado en el verdadero valor\n",
        "\n"
      ]
    },
    {
      "cell_type": "code",
      "metadata": {
        "colab_type": "code",
        "id": "tVR_poS0UlNq",
        "colab": {}
      },
      "source": [
        "xi = np.array([9.5,11.5])\n",
        "yi = np.array([0.9542425,1.0413927])"
      ],
      "execution_count": 0,
      "outputs": []
    },
    {
      "cell_type": "code",
      "metadata": {
        "colab_type": "code",
        "id": "8vJoIq--UlOO",
        "colab": {}
      },
      "source": [
        "poli,polifun =lagrange(xi,yi)"
      ],
      "execution_count": 0,
      "outputs": []
    },
    {
      "cell_type": "code",
      "metadata": {
        "colab_type": "code",
        "outputId": "0aa7a8ef-bbe5-49dc-ec77-e55ff71c5134",
        "id": "W0AVDidCUlOj",
        "colab": {
          "base_uri": "https://localhost:8080/",
          "height": 36
        }
      },
      "source": [
        "px = poli.expand() #expandimos para evaluación numérica\n",
        "px"
      ],
      "execution_count": 0,
      "outputs": [
        {
          "output_type": "execute_result",
          "data": {
            "text/plain": [
              "0.0435750999999999*x + 0.540279050000001"
            ]
          },
          "metadata": {
            "tags": []
          },
          "execution_count": 59
        }
      ]
    },
    {
      "cell_type": "code",
      "metadata": {
        "colab_type": "code",
        "outputId": "ec8ba915-13ef-42e2-cab5-1a7bbc531543",
        "id": "xh-WtzcOUlOz",
        "colab": {
          "base_uri": "https://localhost:8080/",
          "height": 36
        }
      },
      "source": [
        "polifun(xi) # evaluanos con los datos para comprobar los valores del polinomio"
      ],
      "execution_count": 0,
      "outputs": [
        {
          "output_type": "execute_result",
          "data": {
            "text/plain": [
              "array([0.954243, 1.041393])"
            ]
          },
          "metadata": {
            "tags": []
          },
          "execution_count": 60
        }
      ]
    },
    {
      "cell_type": "code",
      "metadata": {
        "colab_type": "code",
        "outputId": "f9965aca-f4c0-4331-878d-47aa706cc796",
        "id": "UzBsyY1yUlPC",
        "colab": {
          "base_uri": "https://localhost:8080/",
          "height": 36
        }
      },
      "source": [
        "polifun(10)"
      ],
      "execution_count": 0,
      "outputs": [
        {
          "output_type": "execute_result",
          "data": {
            "text/plain": [
              "0.97603005"
            ]
          },
          "metadata": {
            "tags": []
          },
          "execution_count": 61
        }
      ]
    },
    {
      "cell_type": "code",
      "metadata": {
        "id": "y1KXXZathZZq",
        "colab_type": "code",
        "outputId": "6cc04000-3143-4f62-a99a-8be9647685a5",
        "colab": {
          "base_uri": "https://localhost:8080/",
          "height": 36
        }
      },
      "source": [
        "error = (1.0 - polifun(10))*100\n",
        "print ('error es ', error, 'por ciento')"
      ],
      "execution_count": 0,
      "outputs": [
        {
          "output_type": "stream",
          "text": [
            "error es  2.3969950000000018 por ciento\n"
          ],
          "name": "stdout"
        }
      ]
    },
    {
      "cell_type": "markdown",
      "metadata": {
        "id": "frTPA53xVAu3",
        "colab_type": "text"
      },
      "source": [
        ""
      ]
    },
    {
      "cell_type": "code",
      "metadata": {
        "colab_type": "code",
        "outputId": "f492e260-c167-46c2-e17b-46bd94e80c37",
        "id": "HMrf8ZNtUlPQ",
        "colab": {
          "base_uri": "https://localhost:8080/",
          "height": 281
        }
      },
      "source": [
        "# Puntos para la gráfica\n",
        "lim1 = np.min(xi)\n",
        "lim2 = np.max(xi)\n",
        "muestras = 101\n",
        "xi_p = np.linspace(lim1,lim2,muestras)\n",
        "yi_p = polifun(xi_p)\n",
        "plt.grid(True)\n",
        "plt.title('Interpolación Lagrange')\n",
        "plt.plot(xi,yi,'o', label = 'Puntos')\n",
        "plt.plot(xi_p,yi_p, label = 'Polinomio')\n",
        "plt.legend(loc='upper left',fontsize=12)\n",
        "plt.show()"
      ],
      "execution_count": 0,
      "outputs": [
        {
          "output_type": "display_data",
          "data": {
            "image/png": "[encoded data removed]",
            "text/plain": [
              "<Figure size 432x288 with 1 Axes>"
            ]
          },
          "metadata": {
            "tags": []
          }
        }
      ]
    },
    {
      "cell_type": "code",
      "metadata": {
        "id": "dVzRBFPiUdzE",
        "colab_type": "code",
        "colab": {}
      },
      "source": [
        ""
      ],
      "execution_count": 0,
      "outputs": []
    },
    {
      "cell_type": "code",
      "metadata": {
        "colab_type": "code",
        "outputId": "c4326cc5-2e9b-401c-9cc1-f13170479a2e",
        "id": "51QPeCeUhG32",
        "colab": {
          "base_uri": "https://localhost:8080/",
          "height": 91
        }
      },
      "source": [
        "N = len(xi)\n",
        "## V se puede calcular con\n",
        "V = np.vander(xi,N)\n",
        "print('Matriz Vandermonde\\n',V)\n",
        "a = np.dot(np.linalg.inv(V),yi)\n",
        "print('coeficientes son ' ,a )"
      ],
      "execution_count": 0,
      "outputs": [
        {
          "output_type": "stream",
          "text": [
            "Matriz Vandermonde\n",
            " [[ 8.5  1. ]\n",
            " [12.   1. ]]\n",
            "coeficientes son  [0.0503 0.4754]\n"
          ],
          "name": "stdout"
        }
      ]
    },
    {
      "cell_type": "code",
      "metadata": {
        "colab_type": "code",
        "id": "s-1dvqkUhG4u",
        "colab": {}
      },
      "source": [
        "res = lambda x: a[0]*x+a[1]"
      ],
      "execution_count": 0,
      "outputs": []
    },
    {
      "cell_type": "code",
      "metadata": {
        "colab_type": "code",
        "outputId": "969261b3-ed1d-4168-fc42-fc71bbb04e97",
        "id": "q0sYTxqAhG5M",
        "colab": {
          "base_uri": "https://localhost:8080/",
          "height": 36
        }
      },
      "source": [
        "res(10)"
      ],
      "execution_count": 0,
      "outputs": [
        {
          "output_type": "execute_result",
          "data": {
            "text/plain": [
              "0.9785576571428574"
            ]
          },
          "metadata": {
            "tags": []
          },
          "execution_count": 175
        }
      ]
    },
    {
      "cell_type": "code",
      "metadata": {
        "colab_type": "code",
        "outputId": "01ed1750-00bb-48a1-f6b2-12c1094d226e",
        "id": "yPICQ7RLhG5d",
        "colab": {
          "base_uri": "https://localhost:8080/",
          "height": 281
        }
      },
      "source": [
        "\n",
        "lim1 = np.min(xi)\n",
        "lim2 = np.max(xi)\n",
        "muestras = 101\n",
        "xi_p = np.linspace(lim1,lim2,muestras)\n",
        "yi_p = res(xi_p)\n",
        "plt.grid(True)\n",
        "plt.title('Interpolación Lagrange')\n",
        "plt.plot(xi,yi,'o', label = 'Puntos')\n",
        "plt.plot(xi_p,yi_p, label = 'Polinomio')\n",
        "plt.legend(loc='upper left',fontsize=12)\n",
        "plt.show()"
      ],
      "execution_count": 0,
      "outputs": [
        {
          "output_type": "display_data",
          "data": {
            "image/png": "[encoded data removed]",
            "text/plain": [
              "<Figure size 432x288 with 1 Axes>"
            ]
          },
          "metadata": {
            "tags": []
          }
        }
      ]
    },
    {
      "cell_type": "code",
      "metadata": {
        "id": "-oQPcFPx9Jdn",
        "colab_type": "code",
        "colab": {}
      },
      "source": [
        ""
      ],
      "execution_count": 0,
      "outputs": []
    }
  ]
}