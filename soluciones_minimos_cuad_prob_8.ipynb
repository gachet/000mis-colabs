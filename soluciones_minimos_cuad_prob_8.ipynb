{
  "nbformat": 4,
  "nbformat_minor": 0,
  "metadata": {
    "colab": {
      "name": "soluciones_minimos_cuad-prob-8.ipynb",
      "provenance": [],
      "collapsed_sections": [
        "6hcCcEzrX58K",
        "KSoc0JEDX59r",
        "whZptL-1X590",
        "QtEwzE5mX5_M",
        "_wsXNcn5X5_V"
      ],
      "include_colab_link": true
    },
    "kernelspec": {
      "display_name": "Python 3",
      "language": "python",
      "name": "python3"
    },
    "language_info": {
      "codemirror_mode": {
        "name": "ipython",
        "version": 3
      },
      "file_extension": ".py",
      "mimetype": "text/x-python",
      "name": "python",
      "nbconvert_exporter": "python",
      "pygments_lexer": "ipython3",
      "version": "3.6.5"
    }
  },
  "cells": [
    {
      "cell_type": "markdown",
      "metadata": {
        "id": "view-in-github",
        "colab_type": "text"
      },
      "source": [
        "<a href=\"https://colab.research.google.com/github/gachet/000mis-colabs/blob/master/soluciones_minimos_cuad_prob_8.ipynb\" target=\"_parent\"><img src=\"https://colab.research.google.com/assets/colab-badge.svg\" alt=\"Open In Colab\"/></a>"
      ]
    },
    {
      "cell_type": "markdown",
      "metadata": {
        "colab_type": "text",
        "id": "iNMuCbwOX6Au"
      },
      "source": [
        "### 8.- Un investigador informa sobre los datos tabulados a continuación de un experimento para determinar la tasa de crecimiento de bacterias $k$ (por día), como función de la concentración de oxígeno $c$ (mg/L). Se sabe que dichos datos pueden modelarse por medio de la ecuación siguiente $$ k = \\frac{k_{max}*c^{2}}{c_{s}+c^{2}}$$ donde $c_s$ y $k_{max}$ son parámetros. Use una transformación para hacer lineal esta ecuación. Después utilice regresión lineal para estimar $c_s$ y $k_{max}$, y pronostique la tasa de crecimiento para $c = 2 mg/L$."
      ]
    },
    {
      "cell_type": "code",
      "metadata": {
        "colab_type": "code",
        "id": "NBSWhSJsX5za",
        "colab": {}
      },
      "source": [
        "import numpy as np\n",
        "import matplotlib.pyplot as plt\n",
        "%matplotlib inline"
      ],
      "execution_count": 0,
      "outputs": []
    },
    {
      "cell_type": "code",
      "metadata": {
        "colab_type": "code",
        "id": "iA69FhXjX6Aw",
        "outputId": "43d92433-c31a-46f4-ee38-1ab1b5473b17",
        "colab": {}
      },
      "source": [
        "from IPython.display import Image\n",
        "Image(filename=\"tablas/ocho.png\")"
      ],
      "execution_count": 0,
      "outputs": [
        {
          "output_type": "execute_result",
          "data": {
            "image/png": "[encoded data removed]",
            "text/plain": [
              "<IPython.core.display.Image object>"
            ]
          },
          "metadata": {
            "tags": []
          },
          "execution_count": 2
        }
      ]
    },
    {
      "cell_type": "markdown",
      "metadata": {
        "colab_type": "text",
        "id": "7sb_av78X6A4"
      },
      "source": [
        "### Linealizamos con $\\frac{1}{k}=\\frac{c^{2}+c_{s}}{k_{max}c^{2}}=\\frac{1}{k_{max}}+\\frac{c_{s}}{k_{max}}\\frac{1}{c^{2}}$"
      ]
    },
    {
      "cell_type": "markdown",
      "metadata": {
        "colab_type": "text",
        "id": "pd8C0ABwX6A8"
      },
      "source": [
        "#### Ecuación Lineal $v =\\alpha u + \\beta $  con <br><br>$v = \\frac{1}{k} \\,\\,\\, \\alpha=\\frac{c_{s}}{k_{max}}\\,\\,\\, u = \\frac{1}{c^{2}} \\,\\,\\, \\beta = \\frac {1}{k_{max}}\\,\\,\\, $"
      ]
    },
    {
      "cell_type": "code",
      "metadata": {
        "colab_type": "code",
        "id": "i5FTUu0lX6BA",
        "outputId": "67978697-576b-4b06-f183-1be41a50297d",
        "scrolled": true,
        "colab": {
          "base_uri": "https://localhost:8080/",
          "height": 108
        }
      },
      "source": [
        "x_orig = np.array([0.5,0.8,1.5,2.5,4])\n",
        "y_orig = np.array([1.1,2.4,5.3,7.6,8.9])\n",
        "x = x_orig.reshape(-1,1)\n",
        "y = y_orig.reshape(-1,1)\n",
        "unos = np.ones(len(x))\n",
        "unos = unos.reshape(-1,1)\n",
        "for i in range(0,len(x)):\n",
        "    print('%2.3f\\t\\t\\t'%(x[i]),'%4.3f'%(y[i]))"
      ],
      "execution_count": 0,
      "outputs": [
        {
          "output_type": "stream",
          "text": [
            "0.500\t\t\t 1.100\n",
            "0.800\t\t\t 2.400\n",
            "1.500\t\t\t 5.300\n",
            "2.500\t\t\t 7.600\n",
            "4.000\t\t\t 8.900\n"
          ],
          "name": "stdout"
        }
      ]
    },
    {
      "cell_type": "code",
      "metadata": {
        "colab_type": "code",
        "id": "ZPaZLW2zX6BG",
        "outputId": "d8c66c06-c731-4132-fa08-9d1f3cad769a",
        "colab": {
          "base_uri": "https://localhost:8080/",
          "height": 126
        }
      },
      "source": [
        "u = 1./(x**2)\n",
        "A = A = np.column_stack((u,np.ones(len(x))))\n",
        "print('Matriz A \\n',A)"
      ],
      "execution_count": 0,
      "outputs": [
        {
          "output_type": "stream",
          "text": [
            "Matriz A \n",
            " [[4.         1.        ]\n",
            " [1.5625     1.        ]\n",
            " [0.44444444 1.        ]\n",
            " [0.16       1.        ]\n",
            " [0.0625     1.        ]]\n"
          ],
          "name": "stdout"
        }
      ]
    },
    {
      "cell_type": "code",
      "metadata": {
        "colab_type": "code",
        "id": "qH0BK_2CX6BL",
        "outputId": "6a997a48-a004-4942-cebe-d53f9dd5a856",
        "colab": {
          "base_uri": "https://localhost:8080/",
          "height": 90
        }
      },
      "source": [
        "v = 1./y\n",
        "c = np.dot(np.linalg.inv(np.dot(A.T,A)),np.dot(A.T,v))\n",
        "alfa = c[0]\n",
        "beta = c[1]\n",
        "print('Coeficientes  \\u03B1 y \\u03B2 \\n',alfa,beta)\n",
        "k_max = 1.0/beta\n",
        "c_s = k_max * alfa\n",
        "print('Coeficientes  k_max y c_s son  \\n',k_max,c_s)"
      ],
      "execution_count": 0,
      "outputs": [
        {
          "output_type": "stream",
          "text": [
            "Coeficientes  α y β \n",
            " [0.20248899] [0.09939628]\n",
            "Coeficientes  k_max y c_s son  \n",
            " [10.06073855] [2.03718878]\n"
          ],
          "name": "stdout"
        }
      ]
    },
    {
      "cell_type": "markdown",
      "metadata": {
        "colab_type": "text",
        "id": "kmeaU39jX6BR"
      },
      "source": [
        "### ecuación $ k = \\frac{10.060738*c^{2}}{2.03718+c^{2}}$"
      ]
    },
    {
      "cell_type": "code",
      "metadata": {
        "colab_type": "code",
        "id": "d1z8_97xX6BS",
        "outputId": "ed445fef-f3ca-4fd0-c3a1-8f3c294cc59a",
        "colab": {
          "base_uri": "https://localhost:8080/",
          "height": 126
        }
      },
      "source": [
        "y_calc = (k_max * x**2)/(c_s+x**2)\n",
        "print('vector y_calc es\\n',y_calc)"
      ],
      "execution_count": 0,
      "outputs": [
        {
          "output_type": "stream",
          "text": [
            "vector y_calc es\n",
            " [[1.09968388]\n",
            " [2.40508727]\n",
            " [5.28007113]\n",
            " [7.5875689 ]\n",
            " [8.92444043]]\n"
          ],
          "name": "stdout"
        }
      ]
    },
    {
      "cell_type": "code",
      "metadata": {
        "colab_type": "code",
        "id": "hf3TNXcIX6BX",
        "outputId": "99a525ce-2898-4f0f-c536-72944cfd431d",
        "colab": {
          "base_uri": "https://localhost:8080/",
          "height": 35
        }
      },
      "source": [
        "suma_cuad_err= np.sum((y-y_calc)**2)\n",
        "suma_cuad_err         "
      ],
      "execution_count": 0,
      "outputs": [
        {
          "output_type": "execute_result",
          "data": {
            "text/plain": [
              "0.0011750066540658181"
            ]
          },
          "metadata": {
            "tags": []
          },
          "execution_count": 7
        }
      ]
    },
    {
      "cell_type": "markdown",
      "metadata": {
        "id": "19M4nVP8MMlI",
        "colab_type": "text"
      },
      "source": [
        "### Como medida de la bondad del ajuste utilizamos el coeficiente de determinación definido por:\n",
        "$$\n",
        "R^{2}=\\frac{\\displaystyle\\sum_{i=1}^{m}\\left(\\hat{y_{i}}-\\bar{y}\\right)^{2}}{\\displaystyle\\sum_{i=1}^{m}\\left(y_{i}-\\bar{y}\\right)^{2}}\n",
        "$$"
      ]
    },
    {
      "cell_type": "code",
      "metadata": {
        "colab_type": "code",
        "id": "eRVia4tWX6Bc",
        "outputId": "8fa41563-431d-4261-9fe2-cfd258e87116",
        "colab": {
          "base_uri": "https://localhost:8080/",
          "height": 35
        }
      },
      "source": [
        "\n",
        "v=1./y\n",
        "v_calc= alfa*u+beta\n",
        "R2 = np.sum((v_calc-np.mean(v))**2)/np.sum((v-np.mean(v))**2)\n",
        "print('Coeficiente de determinación es: ',R2)"
      ],
      "execution_count": 0,
      "outputs": [
        {
          "output_type": "stream",
          "text": [
            "Coeficiente de determinación es:  0.9999966607920293\n"
          ],
          "name": "stdout"
        }
      ]
    },
    {
      "cell_type": "code",
      "metadata": {
        "colab_type": "code",
        "id": "q2iK0czVX6Bh",
        "outputId": "603fd3fb-9385-47ea-dbcd-b4d8defa3396",
        "colab": {
          "base_uri": "https://localhost:8080/",
          "height": 35
        }
      },
      "source": [
        "## Para c = 2 \n",
        "k_2 = (k_max * 2**2)/(c_s+2**2)\n",
        "print('para c = 2 k es ', float(k_2))\n"
      ],
      "execution_count": 0,
      "outputs": [
        {
          "output_type": "stream",
          "text": [
            "para c = 2 k es  6.665843263968141\n"
          ],
          "name": "stdout"
        }
      ]
    },
    {
      "cell_type": "code",
      "metadata": {
        "colab_type": "code",
        "id": "GgC6ZyJNX6Bn",
        "outputId": "15348d76-a98c-4ac1-d272-395b2027d471",
        "colab": {
          "base_uri": "https://localhost:8080/",
          "height": 441
        }
      },
      "source": [
        "plt.figure(figsize = (10,6) )\n",
        "plt.grid(True)\n",
        "\n",
        "# plot data as scatter plot,\n",
        "##bottom, top = 0.,5000000  # return the current ylim\n",
        "##plt.ylim((bottom, top))   # set the ylim to bottom, top\n",
        "plt.scatter(x,y,s=120,c='green',label='datos',zorder=2)\n",
        "# plot best fit\n",
        "x_nuevo = np.arange(0,6,0.001)\n",
        "y_calc_nuevo = (k_max*x_nuevo**2)/(c_s+x_nuevo**2)\n",
        "plt.plot(x_nuevo,y_calc_nuevo,c='red',linewidth=6,label='función',zorder=4)\n",
        "plt.xlabel('$c$',fontsize=24)\n",
        "plt.ylabel('$k$',fontsize=24)\n",
        "plt.xticks(fontsize=24)\n",
        "plt.yticks(fontsize=24)\n",
        "plt.legend(loc='upper left',fontsize=24)\n",
        "plt.tight_layout()\n",
        "plt.show()\n",
        "\n"
      ],
      "execution_count": 0,
      "outputs": [
        {
          "output_type": "display_data",
          "data": {
            "image/png": "[encoded data removed]",
            "text/plain": [
              "<Figure size 720x432 with 1 Axes>"
            ]
          },
          "metadata": {
            "tags": []
          }
        }
      ]
    },
    {
      "cell_type": "code",
      "metadata": {
        "colab_type": "code",
        "id": "H3cVY-T0X6Bt",
        "outputId": "218dcc19-0a16-4878-9c27-b44509b7da48",
        "colab": {
          "base_uri": "https://localhost:8080/",
          "height": 441
        }
      },
      "source": [
        "## plot errors to look for trend\n",
        "######### Now generate plot\n",
        "plt.figure(figsize = (12,6) )\n",
        "plt.grid(True)\n",
        "#bottom, top = -0.00002,0.00002  # return the current ylim\n",
        "#plt.ylim((bottom, top))   # set the ylim to bottom, top\n",
        "# plot data as scatter plot,\n",
        "plt.title('Si la función de ajuste es mas o menos correcta no debería haber una tendencia en los residuos \\n',fontsize=20)\n",
        "# these are the error or residuals in y values\n",
        "errores = y-y_calc\n",
        "plt.scatter(x,errores,s=120,c='blue',linewidth=0,label='residuos',zorder=2)\n",
        "plt.xlabel('$x$',fontsize=24)\n",
        "plt.ylabel('$residuos$',fontsize=24)\n",
        "plt.xticks(fontsize=24)\n",
        "plt.yticks(fontsize=24)\n",
        "plt.legend(loc='upper right',fontsize=24)\n",
        "plt.tight_layout()\n",
        "plt.show()"
      ],
      "execution_count": 0,
      "outputs": [
        {
          "output_type": "display_data",
          "data": {
            "image/png": "[encoded data removed]",
            "text/plain": [
              "<Figure size 864x432 with 1 Axes>"
            ]
          },
          "metadata": {
            "tags": []
          }
        }
      ]
    },
    {
      "cell_type": "code",
      "metadata": {
        "id": "QJsee-H8MMl5",
        "colab_type": "code",
        "colab": {}
      },
      "source": [
        ""
      ],
      "execution_count": 0,
      "outputs": []
    }
  ]
}