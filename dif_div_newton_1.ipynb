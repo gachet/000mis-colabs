{
  "nbformat": 4,
  "nbformat_minor": 0,
  "metadata": {
    "kernelspec": {
      "display_name": "Python 3",
      "language": "python",
      "name": "python3"
    },
    "language_info": {
      "codemirror_mode": {
        "name": "ipython",
        "version": 3
      },
      "file_extension": ".py",
      "mimetype": "text/x-python",
      "name": "python",
      "nbconvert_exporter": "python",
      "pygments_lexer": "ipython3",
      "version": "3.6.5"
    },
    "colab": {
      "name": "dif-div-newton -1.ipynb",
      "provenance": [],
      "include_colab_link": true
    }
  },
  "cells": [
    {
      "cell_type": "markdown",
      "metadata": {
        "id": "view-in-github",
        "colab_type": "text"
      },
      "source": [
        "<a href=\"https://colab.research.google.com/github/gachet/mis-colabs/blob/master/dif_div_newton_1.ipynb\" target=\"_parent\"><img src=\"https://colab.research.google.com/assets/colab-badge.svg\" alt=\"Open In Colab\"/></a>"
      ]
    },
    {
      "cell_type": "code",
      "metadata": {
        "id": "mikcWgtXBkka",
        "colab_type": "code",
        "colab": {}
      },
      "source": [
        "import numpy as np\n",
        "import matplotlib.pyplot as plt\n",
        "from sympy import *\n",
        "%matplotlib inline"
      ],
      "execution_count": 0,
      "outputs": []
    },
    {
      "cell_type": "code",
      "metadata": {
        "id": "_Ksm6GynBkk0",
        "colab_type": "code",
        "colab": {}
      },
      "source": [
        "def newton_dif_div(x, y):\n",
        "    \"\"\"\n",
        "    Calcula los coeficientes de las diferencias divididas de Newton\n",
        "    y el polinomio correspondiente\n",
        "    Parametros:\n",
        "            x: Array con los valores x\n",
        "            y: Array con los valores y\n",
        "    Salida:\n",
        "            f: Array que contiene los coeficientes del polinomio\n",
        "            interpolante calculados mediante las diferencias divididas\n",
        "    \"\"\"\n",
        "\n",
        "    n = x.size\n",
        "    q = np.zeros((n, n - 1))\n",
        "    # Insert 'y' in the first column of the matrix 'q'\n",
        "    q = np.concatenate((y[:, None], q), axis=1)\n",
        "    \n",
        "\n",
        "    for i in range(1, n):\n",
        "        for j in range(1, i + 1):\n",
        "            q[i, j] = (q[i, j - 1] - q[i - 1, j - 1]) / (x[i] - x[i - j])\n",
        "\n",
        "    # Copy the diagonal values of the matrix q to the vector f\n",
        "    print(\"Mariz de diferencias divididas\\n\")\n",
        "    print(q,'\\n')\n",
        "    f = np.zeros(n)\n",
        "    for i in range(0, n):\n",
        "        f[i] = q[i, i]\n",
        "\n",
        "    # Prints the polynomial\n",
        "    print(\"Vector de coeficientes\\n\")\n",
        "    print(f,'\\n')\n",
        "    print(\"El polinomio es:\")\n",
        "    print(\"p(x)={:+.4f}\".format(f[0]), end=\"\")\n",
        "    for i in range(1, n):\n",
        "        print(\"{:+.4f}\".format(f[i]), end=\"\")\n",
        "        for j in range(0, i):\n",
        "            print(\"(x{:+.4f})\".format(x[j] * -1), end=\"\")\n",
        "    print(\"\")\n",
        "    return f"
      ],
      "execution_count": 0,
      "outputs": []
    },
    {
      "cell_type": "code",
      "metadata": {
        "id": "zxGkHtg8BklO",
        "colab_type": "code",
        "colab": {}
      },
      "source": [
        "def evalPoly(a,xData,x):\n",
        "    n = len(xData) - 1  # grado de polinomio a evaluar\n",
        "    p = a[n]\n",
        "    for k in range(1,n+1):\n",
        "        p = a[n-k] + (x -xData[n-k])*p\n",
        "    return p\n"
      ],
      "execution_count": 0,
      "outputs": []
    },
    {
      "cell_type": "code",
      "metadata": {
        "scrolled": true,
        "id": "TtjjDfaVBkli",
        "colab_type": "code",
        "outputId": "de29c109-2ef2-476c-a758-769523c79a87",
        "colab": {
          "base_uri": "https://localhost:8080/",
          "height": 258
        }
      },
      "source": [
        "xa= np.array([-1,0,1,2])\n",
        "ya= np.array([2,-1,1,-2])\n",
        "c = newton_dif_div(xa,ya)\n"
      ],
      "execution_count": 0,
      "outputs": [
        {
          "output_type": "stream",
          "text": [
            "Mariz de diferencias divididas\n",
            "\n",
            "[[ 2.          0.          0.          0.        ]\n",
            " [-1.         -3.          0.          0.        ]\n",
            " [ 1.          2.          2.5         0.        ]\n",
            " [-2.         -3.         -2.5        -1.66666667]] \n",
            "\n",
            "Vector de coeficientes\n",
            "\n",
            "[ 2.         -3.          2.5        -1.66666667] \n",
            "\n",
            "El polinomio es:\n",
            "p(x)=+2.0000-3.0000(x+1.0000)+2.5000(x+1.0000)(x+0.0000)-1.6667(x+1.0000)(x+0.0000)(x-1.0000)\n"
          ],
          "name": "stdout"
        }
      ]
    },
    {
      "cell_type": "code",
      "metadata": {
        "id": "0Uqbp9SxZEUZ",
        "colab_type": "code",
        "outputId": "6def406f-b544-4b52-b0fc-30599fd84797",
        "colab": {
          "base_uri": "https://localhost:8080/",
          "height": 36
        }
      },
      "source": [
        "eval = evalPoly(c,xa,0.5)\n",
        "eval"
      ],
      "execution_count": 0,
      "outputs": [
        {
          "output_type": "execute_result",
          "data": {
            "text/plain": [
              "0.0"
            ]
          },
          "metadata": {
            "tags": []
          },
          "execution_count": 8
        }
      ]
    },
    {
      "cell_type": "code",
      "metadata": {
        "id": "pq4lHx8ovzWY",
        "colab_type": "code",
        "outputId": "6c567f44-56bd-4a7b-b310-e9b0631cf57c",
        "colab": {
          "base_uri": "https://localhost:8080/",
          "height": 36
        }
      },
      "source": [
        "x = symbols('x')\n",
        "simple = simplify(3-7.0000*(x+1.0000)+8*(x+1.0000)*(x+0.0000)-6*(x+1.0000)*(x+0.0000)*(x-1.0000))\n",
        "simple"
      ],
      "execution_count": 0,
      "outputs": [
        {
          "output_type": "execute_result",
          "data": {
            "text/plain": [
              "-6.0*x**3 + 8.0*x**2 + 7.0*x - 4.0"
            ]
          },
          "metadata": {
            "tags": []
          },
          "execution_count": 10
        }
      ]
    },
    {
      "cell_type": "code",
      "metadata": {
        "id": "bAIcLnVQytww",
        "colab_type": "code",
        "colab": {}
      },
      "source": [
        "pxn=lambdify(x,simple)"
      ],
      "execution_count": 0,
      "outputs": []
    },
    {
      "cell_type": "code",
      "metadata": {
        "id": "5kqfLqEhxtmR",
        "colab_type": "code",
        "outputId": "bc742a39-7fc5-4766-8611-3bcb2ada0889",
        "colab": {
          "base_uri": "https://localhost:8080/",
          "height": 281
        }
      },
      "source": [
        "a = np.min(xa)\n",
        "b = np.max(xa)\n",
        "muestras = 101\n",
        "xi_p = np.linspace(a,b,muestras)\n",
        "fi_p = pxn(xi_p)\n",
        "\n",
        "# Gráfica\n",
        "plt.grid(True)\n",
        "plt.axhline(0, color='black')\n",
        "plt.axvline(0, color='black')\n",
        "plt.title('Interpolación Newton')\n",
        "plt.plot(xa,ya,'o', label = 'Puntos')\n",
        "plt.plot(xi_p,fi_p, label = 'Polinomio')\n",
        "plt.legend()\n",
        "plt.show()"
      ],
      "execution_count": 0,
      "outputs": [
        {
          "output_type": "display_data",
          "data": {
            "image/png": "[encoded data removed]",
            "text/plain": [
              "<Figure size 432x288 with 1 Axes>"
            ]
          },
          "metadata": {
            "tags": [],
            "needs_background": "light"
          }
        }
      ]
    },
    {
      "cell_type": "code",
      "metadata": {
        "id": "n0czp-kcBklz",
        "colab_type": "code",
        "outputId": "a4d87de1-663e-452f-c67c-bfa76bf2a5d4",
        "colab": {
          "base_uri": "https://localhost:8080/",
          "height": 281
        }
      },
      "source": [
        "a = np.min(xa)\n",
        "b = np.max(xa)\n",
        "muestras = 101\n",
        "xi_p = np.linspace(a,b,muestras)\n",
        "fi_p = evalPoly(c,xa,xi_p)\n",
        "\n",
        "# Gráfica\n",
        "plt.grid(True)\n",
        "plt.axhline(0, color='black')\n",
        "plt.axvline(0, color='black')\n",
        "plt.title('Interpolación Newton')\n",
        "plt.plot(xa,ya,'o', label = 'Puntos')\n",
        "plt.plot(xi_p,fi_p, label = 'Polinomio')\n",
        "plt.legend()\n",
        "plt.show()"
      ],
      "execution_count": 0,
      "outputs": [
        {
          "output_type": "display_data",
          "data": {
            "image/png": "[encoded data removed]",
            "text/plain": [
              "<Figure size 432x288 with 1 Axes>"
            ]
          },
          "metadata": {
            "tags": [],
            "needs_background": "light"
          }
        }
      ]
    },
    {
      "cell_type": "code",
      "metadata": {
        "id": "nVEOp6UwXy1e",
        "colab_type": "code",
        "colab": {}
      },
      "source": [
        "-1,0,1,2] e y = [3,-4,5,-6] "
      ],
      "execution_count": 0,
      "outputs": []
    },
    {
      "cell_type": "code",
      "metadata": {
        "id": "FrxzcigJvr2U",
        "colab_type": "code",
        "outputId": "3eda40d6-9361-41bf-fea0-2bb677b9471d",
        "colab": {
          "base_uri": "https://localhost:8080/",
          "height": 258
        }
      },
      "source": [
        "xa= np.array([-1,0,1,2])\n",
        "ya= np.array([3,-4,5,-6])\n",
        "c = newton_dif_div(xa,ya)"
      ],
      "execution_count": 0,
      "outputs": [
        {
          "output_type": "stream",
          "text": [
            "Mariz de diferencias divididas\n",
            "\n",
            "[[  3.   0.   0.   0.]\n",
            " [ -4.  -7.   0.   0.]\n",
            " [  5.   9.   8.   0.]\n",
            " [ -6. -11. -10.  -6.]] \n",
            "\n",
            "Vector de coeficientes\n",
            "\n",
            "[ 3. -7.  8. -6.] \n",
            "\n",
            "El polinomio es:\n",
            "p(x)=+3.0000-7.0000(x+1.0000)+8.0000(x+1.0000)(x+0.0000)-6.0000(x+1.0000)(x+0.0000)(x-1.0000)\n"
          ],
          "name": "stdout"
        }
      ]
    },
    {
      "cell_type": "code",
      "metadata": {
        "id": "7uLsu92zJMFC",
        "colab_type": "code",
        "outputId": "c03ec679-9877-43de-a32f-b81c47eb4df6",
        "colab": {
          "base_uri": "https://localhost:8080/",
          "height": 281
        }
      },
      "source": [
        "a = np.min(xa)\n",
        "b = np.max(xa)\n",
        "muestras = 101\n",
        "xi_p = np.linspace(a,b,muestras)\n",
        "fi_p = evalPoly(c,xa,xi_p)\n",
        "\n",
        "# Gráfica\n",
        "plt.grid(True)\n",
        "plt.axhline(0, color='black')\n",
        "plt.axvline(0, color='black')\n",
        "plt.title('Interpolación Newton')\n",
        "plt.plot(xa,ya,'o', label = 'Puntos')\n",
        "plt.plot(xi_p,fi_p, label = 'Polinomio')\n",
        "plt.legend()\n",
        "plt.show()\n"
      ],
      "execution_count": 0,
      "outputs": [
        {
          "output_type": "display_data",
          "data": {
            "image/png": "[encoded data removed]",
            "text/plain": [
              "<Figure size 432x288 with 1 Axes>"
            ]
          },
          "metadata": {
            "tags": [],
            "needs_background": "light"
          }
        }
      ]
    },
    {
      "cell_type": "markdown",
      "metadata": {
        "id": "cGBVVUtJaBk4",
        "colab_type": "text"
      },
      "source": [
        "Ejercicio 4.- El tiempo más rápido jamás registrado en el Derby de Kentucky fue de un caballo llamado Secretariat en 1973, el caballo cubrió la pista de 1,25 millas en en 1:59(2/5) (1 minuto, 59.4 seg). Los tiempos para las marcas de cuarto de milla, media milla y una milla fueron: 0:25(1/5), 0:49(1/5) y 1:36(2/5):\n",
        "\n",
        "a. Use la interpolación de Newton para predecir el tiempo en la marca de tres cuartos de milla y compárelo con el tiempo real de 1:13. Graficar el polinomio encontrado\n",
        "b. Use la derivada del polinomio de interpolación para calcular la velocidad de Secretariat al final de la carrera.\n"
      ]
    },
    {
      "cell_type": "markdown",
      "metadata": {
        "id": "U3P9s3rBYwwD",
        "colab_type": "text"
      },
      "source": [
        ""
      ]
    },
    {
      "cell_type": "code",
      "metadata": {
        "id": "pna50a4sBkmF",
        "colab_type": "code",
        "outputId": "cc1b4c74-4826-49bc-b3ab-f28672aa4e46",
        "colab": {
          "base_uri": "https://localhost:8080/",
          "height": 258
        }
      },
      "source": [
        "xa= np.array([0.25,0.5,1,1.25])\n",
        "ya= np.array([25.2,49.2,96.4,119.4])\n",
        "c = newton_dif_div(xa,ya)"
      ],
      "execution_count": 0,
      "outputs": [
        {
          "output_type": "stream",
          "text": [
            "Mariz de diferencias divididas\n",
            "\n",
            "[[ 25.2          0.           0.           0.        ]\n",
            " [ 49.2         96.           0.           0.        ]\n",
            " [ 96.4         94.4         -2.13333333   0.        ]\n",
            " [119.4         92.          -3.2         -1.06666667]] \n",
            "\n",
            "Vector de coeficientes\n",
            "\n",
            "[25.2        96.         -2.13333333 -1.06666667] \n",
            "\n",
            "El polinomio es:\n",
            "p(x)=+25.2000+96.0000(x-0.2500)-2.1333(x-0.2500)(x-0.5000)-1.0667(x-0.2500)(x-0.5000)(x-1.0000)\n"
          ],
          "name": "stdout"
        }
      ]
    },
    {
      "cell_type": "markdown",
      "metadata": {
        "id": "4115O55Oe4o1",
        "colab_type": "text"
      },
      "source": [
        ""
      ]
    },
    {
      "cell_type": "code",
      "metadata": {
        "id": "1XXhlDVkeVST",
        "colab_type": "code",
        "outputId": "fafb6208-8f33-4032-9ce1-74c87af8d590",
        "colab": {
          "base_uri": "https://localhost:8080/",
          "height": 36
        }
      },
      "source": [
        "from sympy import *\n",
        "x = symbols('x')\n",
        "simplify(+25.2000+96.0000*(x-0.2500)-2.1333*(x-0.2500)*(x-0.5000)-1.0667*(x-0.2500)*(x-0.5000)*(x-1.0000))\n"
      ],
      "execution_count": 0,
      "outputs": [
        {
          "output_type": "execute_result",
          "data": {
            "text/plain": [
              "-1.0667*x**3 - 0.266575*x**2 + 96.6666125*x + 1.066675"
            ]
          },
          "metadata": {
            "tags": []
          },
          "execution_count": 8
        }
      ]
    },
    {
      "cell_type": "code",
      "metadata": {
        "id": "K0I2jBeccwGv",
        "colab_type": "code",
        "outputId": "f251e612-57fa-450f-82bf-abf4e51e5a56",
        "colab": {
          "base_uri": "https://localhost:8080/",
          "height": 36
        }
      },
      "source": [
        "eval = evalPoly(c,xa,0.75)\n",
        "eval"
      ],
      "execution_count": 0,
      "outputs": [
        {
          "output_type": "execute_result",
          "data": {
            "text/plain": [
              "72.96666666666667"
            ]
          },
          "metadata": {
            "tags": []
          },
          "execution_count": 17
        }
      ]
    },
    {
      "cell_type": "code",
      "metadata": {
        "id": "IpnH9zbfdV_y",
        "colab_type": "code",
        "outputId": "008e5b35-9364-4d7f-f79d-ed681b592caa",
        "colab": {
          "base_uri": "https://localhost:8080/",
          "height": 36
        }
      },
      "source": [
        "x =73-72.96666666666667\n",
        "x"
      ],
      "execution_count": 0,
      "outputs": [
        {
          "output_type": "execute_result",
          "data": {
            "text/plain": [
              "0.03333333333333144"
            ]
          },
          "metadata": {
            "tags": []
          },
          "execution_count": 19
        }
      ]
    },
    {
      "cell_type": "code",
      "metadata": {
        "id": "7ovU3QqGBkmT",
        "colab_type": "code",
        "outputId": "83f54476-33b0-49c7-9969-e5db81951252",
        "colab": {
          "base_uri": "https://localhost:8080/",
          "height": 281
        }
      },
      "source": [
        "a = np.min(xa)\n",
        "b = np.max(xa)\n",
        "muestras = 101\n",
        "xi_p = np.linspace(a,b,muestras)\n",
        "fi_p = evalPoly(c,xa,xi_p)\n",
        "\n",
        "# Gráfica\n",
        "plt.grid(True)\n",
        "plt.axhline(0, color='black')\n",
        "plt.axvline(0, color='black')\n",
        "plt.title('Interpolación Newton')\n",
        "plt.plot(xa,ya,'o', label = 'Puntos')\n",
        "plt.plot(xi_p,fi_p, label = 'Polinomio')\n",
        "plt.legend()\n",
        "plt.show()"
      ],
      "execution_count": 0,
      "outputs": [
        {
          "output_type": "display_data",
          "data": {
            "image/png": "[encoded data removed]",
            "text/plain": [
              "<Figure size 432x288 with 1 Axes>"
            ]
          },
          "metadata": {
            "tags": [],
            "needs_background": "light"
          }
        }
      ]
    }
  ]
}