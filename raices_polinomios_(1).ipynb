{
  "nbformat": 4,
  "nbformat_minor": 0,
  "metadata": {
    "kernelspec": {
      "display_name": "Python 3",
      "language": "python",
      "name": "python3"
    },
    "language_info": {
      "codemirror_mode": {
        "name": "ipython",
        "version": 3
      },
      "file_extension": ".py",
      "mimetype": "text/x-python",
      "name": "python",
      "nbconvert_exporter": "python",
      "pygments_lexer": "ipython3",
      "version": "3.7.4"
    },
    "colab": {
      "name": "raices_polinomios (1).ipynb",
      "provenance": [],
      "include_colab_link": true
    }
  },
  "cells": [
    {
      "cell_type": "markdown",
      "metadata": {
        "id": "view-in-github",
        "colab_type": "text"
      },
      "source": [
        "<a href=\"https://colab.research.google.com/github/gachet/000mis-colabs/blob/master/raices_polinomios_(1).ipynb\" target=\"_parent\"><img src=\"https://colab.research.google.com/assets/colab-badge.svg\" alt=\"Open In Colab\"/></a>"
      ]
    },
    {
      "cell_type": "code",
      "metadata": {
        "id": "p9Ie-cqsY1Sb",
        "colab_type": "code",
        "colab": {}
      },
      "source": [
        "import numpy as np"
      ],
      "execution_count": 0,
      "outputs": []
    },
    {
      "cell_type": "markdown",
      "metadata": {
        "id": "0bxqLqd4Y1S5",
        "colab_type": "text"
      },
      "source": [
        "## algoritmo"
      ]
    },
    {
      "cell_type": "code",
      "metadata": {
        "id": "62HuyT9lY1TF",
        "colab_type": "code",
        "colab": {}
      },
      "source": [
        "def roots(*coeffs):\n",
        "    matrix = np.eye(len(coeffs) - 1, k=-1)\n",
        "    matrix[:,-1] = np.array(coeffs[-1:0:-1]) / -coeffs[0] ## conmpanion matrix\n",
        "    print(matrix)\n",
        "    return np.linalg.eigvals(matrix)"
      ],
      "execution_count": 0,
      "outputs": []
    },
    {
      "cell_type": "code",
      "metadata": {
        "id": "F8_3gMf1Y1TW",
        "colab_type": "code",
        "colab": {}
      },
      "source": [
        ""
      ],
      "execution_count": 0,
      "outputs": []
    },
    {
      "cell_type": "code",
      "metadata": {
        "id": "fvO_1FknY1Tw",
        "colab_type": "code",
        "outputId": "7a8b6453-03d9-4d5b-8389-1a9e5fba938c",
        "colab": {
          "base_uri": "https://localhost:8080/",
          "height": 73
        }
      },
      "source": [
        "#x^2-3x+2\n",
        "roots(1, -3,2)"
      ],
      "execution_count": 0,
      "outputs": [
        {
          "output_type": "stream",
          "text": [
            "[[ 0. -2.]\n",
            " [ 1.  3.]]\n"
          ],
          "name": "stdout"
        },
        {
          "output_type": "execute_result",
          "data": {
            "text/plain": [
              "array([1., 2.])"
            ]
          },
          "metadata": {
            "tags": []
          },
          "execution_count": 5
        }
      ]
    },
    {
      "cell_type": "code",
      "metadata": {
        "id": "Qzl4k6xyY1UR",
        "colab_type": "code",
        "outputId": "cca7efb7-2109-4a39-e581-a4929555164c",
        "colab": {
          "base_uri": "https://localhost:8080/",
          "height": 73
        }
      },
      "source": [
        "#x^2-10x+25\n",
        "roots(1, -10,25)"
      ],
      "execution_count": 0,
      "outputs": [
        {
          "output_type": "stream",
          "text": [
            "[[  0. -25.]\n",
            " [  1.  10.]]\n"
          ],
          "name": "stdout"
        },
        {
          "output_type": "execute_result",
          "data": {
            "text/plain": [
              "array([5., 5.])"
            ]
          },
          "metadata": {
            "tags": []
          },
          "execution_count": 6
        }
      ]
    },
    {
      "cell_type": "code",
      "metadata": {
        "id": "wiqtr4PKY1Un",
        "colab_type": "code",
        "outputId": "3feed52a-43a6-44b4-94f5-419f97dfc77b",
        "colab": {
          "base_uri": "https://localhost:8080/",
          "height": 54
        }
      },
      "source": [
        "# 10x - 1 = 0\n",
        "roots(10, -1)"
      ],
      "execution_count": 0,
      "outputs": [
        {
          "output_type": "stream",
          "text": [
            "[[0.1]]\n"
          ],
          "name": "stdout"
        },
        {
          "output_type": "execute_result",
          "data": {
            "text/plain": [
              "array([0.1])"
            ]
          },
          "metadata": {
            "tags": []
          },
          "execution_count": 8
        }
      ]
    },
    {
      "cell_type": "code",
      "metadata": {
        "id": "v3Y01ZGtY1U-",
        "colab_type": "code",
        "outputId": "77460d1e-0a2a-47da-ccfd-594d19444987",
        "colab": {}
      },
      "source": [
        "# x^2 - 2x + 1 = 0\n",
        "roots(1, -2, 1)"
      ],
      "execution_count": 0,
      "outputs": [
        {
          "output_type": "execute_result",
          "data": {
            "text/plain": [
              "array([1., 1.])"
            ]
          },
          "metadata": {
            "tags": []
          },
          "execution_count": 8
        }
      ]
    },
    {
      "cell_type": "code",
      "metadata": {
        "id": "QmPT084uY1VM",
        "colab_type": "code",
        "outputId": "36cc9c28-df12-44bd-ee01-b37996801aa0",
        "colab": {
          "base_uri": "https://localhost:8080/",
          "height": 73
        }
      },
      "source": [
        "# 2x^2 - 18 = 0\n",
        "roots(2, 0, 18)"
      ],
      "execution_count": 0,
      "outputs": [
        {
          "output_type": "stream",
          "text": [
            "[[ 0. -9.]\n",
            " [ 1. -0.]]\n"
          ],
          "name": "stdout"
        },
        {
          "output_type": "execute_result",
          "data": {
            "text/plain": [
              "array([ 0.+3.j, -0.-3.j])"
            ]
          },
          "metadata": {
            "tags": []
          },
          "execution_count": 9
        }
      ]
    },
    {
      "cell_type": "code",
      "metadata": {
        "id": "H0TmkM3yY1Vc",
        "colab_type": "code",
        "outputId": "de30d19b-68d0-4314-e70a-d32c49419698",
        "colab": {
          "base_uri": "https://localhost:8080/",
          "height": 148
        }
      },
      "source": [
        "# 1x^5 + x^4 + x^3 + x^2 + x + 1 = 0\n",
        "roots(1, 1, 1, 1, 1, 1)"
      ],
      "execution_count": 0,
      "outputs": [
        {
          "output_type": "stream",
          "text": [
            "[[ 0.  0.  0.  0. -1.]\n",
            " [ 1.  0.  0.  0. -1.]\n",
            " [ 0.  1.  0.  0. -1.]\n",
            " [ 0.  0.  1.  0. -1.]\n",
            " [ 0.  0.  0.  1. -1.]]\n"
          ],
          "name": "stdout"
        },
        {
          "output_type": "execute_result",
          "data": {
            "text/plain": [
              "array([ 0.5+0.8660254j,  0.5-0.8660254j, -1. +0.j       , -0.5+0.8660254j,\n",
              "       -0.5-0.8660254j])"
            ]
          },
          "metadata": {
            "tags": []
          },
          "execution_count": 10
        }
      ]
    },
    {
      "cell_type": "code",
      "metadata": {
        "id": "RKOVTsiuY1Vq",
        "colab_type": "code",
        "outputId": "9cc8ad54-cb0e-4ea5-9068-9ae9610a4789",
        "colab": {}
      },
      "source": [
        "# 1x^5 + x^4 + x^3 + x^2 + x + 1 = 0\n",
        "roots(1,-17,72.5)"
      ],
      "execution_count": 0,
      "outputs": [
        {
          "output_type": "execute_result",
          "data": {
            "text/plain": [
              "array([8.5+0.5j, 8.5-0.5j])"
            ]
          },
          "metadata": {
            "tags": []
          },
          "execution_count": 11
        }
      ]
    },
    {
      "cell_type": "code",
      "metadata": {
        "id": "MQVHpqUtY1V7",
        "colab_type": "code",
        "outputId": "765f28b7-edff-4eee-b9c9-48b4c972ff54",
        "colab": {}
      },
      "source": [
        "# 1x^5 + x^4 + x^3 + x^2 + x + 1 = 0\n",
        "roots(1,-3,0, 1)"
      ],
      "execution_count": 0,
      "outputs": [
        {
          "output_type": "execute_result",
          "data": {
            "text/plain": [
              "array([-0.53208889,  0.65270364,  2.87938524])"
            ]
          },
          "metadata": {
            "tags": []
          },
          "execution_count": 86
        }
      ]
    },
    {
      "cell_type": "code",
      "metadata": {
        "id": "tpcPJoblY1WN",
        "colab_type": "code",
        "outputId": "6a114e68-8aa4-4113-b08e-490a12235b9c",
        "colab": {
          "base_uri": "https://localhost:8080/",
          "height": 111
        }
      },
      "source": [
        "##P4(x) = 3x4 − 10x3 − 48x2 − 2x + 12\n",
        "roots(3,-10,-48, -2,12)"
      ],
      "execution_count": 0,
      "outputs": [
        {
          "output_type": "stream",
          "text": [
            "[[ 0.          0.          0.         -4.        ]\n",
            " [ 1.          0.          0.          0.66666667]\n",
            " [ 0.          1.          0.         16.        ]\n",
            " [ 0.          0.          1.          3.33333333]]\n"
          ],
          "name": "stdout"
        },
        {
          "output_type": "execute_result",
          "data": {
            "text/plain": [
              "array([ 0.46163632, -0.56293642, -2.56536657,  6.        ])"
            ]
          },
          "metadata": {
            "tags": []
          },
          "execution_count": 11
        }
      ]
    },
    {
      "cell_type": "code",
      "metadata": {
        "id": "-60M9MS3Y1Wb",
        "colab_type": "code",
        "outputId": "f99bb80a-906b-4a55-c7fe-8b66b50cf06b",
        "colab": {}
      },
      "source": [
        "##P3(x) = x3 − 4.0x2 − 4.48x + 26.1\n",
        "roots(1,-4,-4.48, 26.1)"
      ],
      "execution_count": 0,
      "outputs": [
        {
          "output_type": "execute_result",
          "data": {
            "text/plain": [
              "array([-2.39962495+0.j        ,  3.19981248+0.79868632j,\n",
              "        3.19981248-0.79868632j])"
            ]
          },
          "metadata": {
            "tags": []
          },
          "execution_count": 88
        }
      ]
    },
    {
      "cell_type": "code",
      "metadata": {
        "id": "RoI0Zb0MY1Wm",
        "colab_type": "code",
        "outputId": "48665902-b5e7-4d0e-ad96-4df6476f1980",
        "colab": {}
      },
      "source": [
        "## x4 − 5x3 − 9x2 + 155x − 250 = 0.\n",
        "roots(1,-5,-9,155,-250)"
      ],
      "execution_count": 0,
      "outputs": [
        {
          "output_type": "execute_result",
          "data": {
            "text/plain": [
              "array([-5.+0.j,  2.+0.j,  4.+3.j,  4.-3.j])"
            ]
          },
          "metadata": {
            "tags": []
          },
          "execution_count": 89
        }
      ]
    },
    {
      "cell_type": "code",
      "metadata": {
        "id": "3nuyiXJFY1Wz",
        "colab_type": "code",
        "outputId": "da84fedd-63b7-4864-c5ef-f5e206c01a65",
        "colab": {}
      },
      "source": [
        "##3x3 + 7x2 􀀀 36x + 20\n",
        "roots(3,7,-36,20)"
      ],
      "execution_count": 0,
      "outputs": [
        {
          "output_type": "execute_result",
          "data": {
            "text/plain": [
              "array([ 2.        ,  0.66666667, -5.        ])"
            ]
          },
          "metadata": {
            "tags": []
          },
          "execution_count": 90
        }
      ]
    },
    {
      "cell_type": "code",
      "metadata": {
        "id": "mpE3k4NxY1XA",
        "colab_type": "code",
        "outputId": "707358bf-7ee3-40df-e87a-4bc3777927e6",
        "colab": {}
      },
      "source": [
        "## w4 + 24w3 + 4500w2 + 18 E 103w + 2:25 E 6 = 0\n",
        "roots(1,24,4500,18.0e3,2.25e6)"
      ],
      "execution_count": 0,
      "outputs": [
        {
          "output_type": "execute_result",
          "data": {
            "text/plain": [
              "array([ -0.62301963+24.03024141j,  -0.62301963-24.03024141j,\n",
              "       -11.37698037+61.35447281j, -11.37698037-61.35447281j])"
            ]
          },
          "metadata": {
            "tags": []
          },
          "execution_count": 91
        }
      ]
    }
  ]
}