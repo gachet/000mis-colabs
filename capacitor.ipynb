{
  "nbformat": 4,
  "nbformat_minor": 0,
  "metadata": {
    "kernelspec": {
      "display_name": "Python 3",
      "language": "python",
      "name": "python3"
    },
    "language_info": {
      "codemirror_mode": {
        "name": "ipython",
        "version": 3
      },
      "file_extension": ".py",
      "mimetype": "text/x-python",
      "name": "python",
      "nbconvert_exporter": "python",
      "pygments_lexer": "ipython3",
      "version": "3.6.5"
    },
    "colab": {
      "name": "capacitor.ipynb",
      "provenance": [],
      "collapsed_sections": [
        "ogigW_HCS6ol",
        "3sNs6iKqS6ot",
        "96oBwwvJS6pI"
      ],
      "include_colab_link": true
    }
  },
  "cells": [
    {
      "cell_type": "markdown",
      "metadata": {
        "id": "view-in-github",
        "colab_type": "text"
      },
      "source": [
        "<a href=\"https://colab.research.google.com/github/gachet/mis-colabs/blob/master/capacitor.ipynb\" target=\"_parent\"><img src=\"https://colab.research.google.com/assets/colab-badge.svg\" alt=\"Open In Colab\"/></a>"
      ]
    },
    {
      "cell_type": "markdown",
      "metadata": {
        "id": "Iuds4w-BS6n5",
        "colab_type": "text"
      },
      "source": [
        "## Ajuste de curvas por mínimos cuadrados. Lab. 2"
      ]
    },
    {
      "cell_type": "markdown",
      "metadata": {
        "id": "IgDvsRKfS6n8",
        "colab_type": "text"
      },
      "source": [
        "#### El fichero capacitor.dat contiene datos de tiempo y tensión de descarga de un capacitor.  Se asume que ambas variables se relacionan de forma exponencial mediante la ecuación \n",
        "$$Tensión =  c_{1}*e^{c_{2}*tiempo}$$\n",
        "#### Codificar el programa correspondiente para leer los datos del fichero, hacer un ajuste por mínimos  cuadrados (calcular $c_{1} $ y $c_{2} $) mediante:\n",
        "\n",
        "1. El sistema de ECUACIONES LINEALES.\n",
        "2. Mediante las ECUACIONES NORMALES \n",
        "3. Cañcular el sumatorio de los errores cuadráticos\n",
        "3. Calcular el Coeficiente de Determinación en ambas soluciones. \n",
        "4. Comprobar que ambos resultados coinciden. \n",
        "5. Dibujar los datos así como la recta de regresión.\n",
        "6. Dibujar también los residuos. Utilizar funviones de numpy."
      ]
    },
    {
      "cell_type": "markdown",
      "metadata": {
        "id": "Z9EHau4vS6n-",
        "colab_type": "text"
      },
      "source": [
        "### El sistema para una función lineal $F(x) = \\alpha*x+\\beta$ en forma matricial se puede escribir :  $Ax=B$"
      ]
    },
    {
      "cell_type": "markdown",
      "metadata": {
        "id": "YZoMBvNRS6n_",
        "colab_type": "text"
      },
      "source": [
        "$$\n",
        "\\begin{bmatrix}\n",
        "\\displaystyle \\sum_{i=1}^{m}x_{i}^{2}& \\displaystyle\\sum_{i=1}^{m}x_{i} \\\\ \n",
        "\\displaystyle\\sum_{i=1}^{m}x_{i} & m\n",
        "\\end{bmatrix}\n",
        "\\begin{bmatrix}\n",
        "\\alpha\\\\ \n",
        "\\beta\n",
        "\\end{bmatrix} =\\begin{bmatrix}\n",
        "\\displaystyle\\sum_{i=1}^{m}x_{i}y_{i}\\\\ \n",
        "\\displaystyle\\sum_{i=1}^{m}y_{i}\n",
        "\\end{bmatrix}\n",
        "$$"
      ]
    },
    {
      "cell_type": "markdown",
      "metadata": {
        "id": "hpnPwwzKS6oA",
        "colab_type": "text"
      },
      "source": [
        "### Siedo las incógnitas  los coeficientes que buscamos:  $\\alpha$ y $\\beta$"
      ]
    },
    {
      "cell_type": "markdown",
      "metadata": {
        "id": "RWj-m413S6oC",
        "colab_type": "text"
      },
      "source": [
        "### Si tenemos una función exponencial de la forma $$ F(x)=y =  c_{1}e^{c_{2}x}$$"
      ]
    },
    {
      "cell_type": "markdown",
      "metadata": {
        "id": "1_CIn_z1S6oD",
        "colab_type": "text"
      },
      "source": [
        "Podemos linealizarla a una ecuación de la forma $F(x) = v = c_{2}*x+\\beta$"
      ]
    },
    {
      "cell_type": "markdown",
      "metadata": {
        "id": "yXsQ2IXIS6oE",
        "colab_type": "text"
      },
      "source": [
        "Siendo &nbsp;&nbsp;&nbsp; $v = \\ln(y) \\: \\:\\:\\:\\:\\beta = \\ln(c_{1})$"
      ]
    },
    {
      "cell_type": "markdown",
      "metadata": {
        "id": "VgnYttspS6oF",
        "colab_type": "text"
      },
      "source": [
        "El sistema de ecuaciones lineales sería"
      ]
    },
    {
      "cell_type": "markdown",
      "metadata": {
        "id": "cnPgVc-FS6oG",
        "colab_type": "text"
      },
      "source": [
        "$$\n",
        "\\begin{bmatrix}\n",
        "\\displaystyle \\sum_{i=1}^{m}x_{i}^{2}& \\displaystyle\\sum_{i=1}^{m}x_{i} \\\\ \n",
        "\\displaystyle\\sum_{i=1}^{m}x_{i} & m\n",
        "\\end{bmatrix}\n",
        "\\begin{bmatrix}\n",
        "c_{2}\\\\ \n",
        "\\ln (c_{1})\n",
        "\\end{bmatrix} =\\begin{bmatrix}\n",
        "\\displaystyle\\sum_{i=1}^{m}x_{i}\\ln (y_{i})\\\\ \n",
        "\\displaystyle\\sum_{i=1}^{m}\\ln (y_{i})\n",
        "\\end{bmatrix}\n",
        "$$"
      ]
    },
    {
      "cell_type": "code",
      "metadata": {
        "id": "S8WZcSPMVZTq",
        "colab_type": "code",
        "outputId": "c60ce3c3-aa1c-41ff-f2b9-f20d08870991",
        "colab": {
          "base_uri": "https://localhost:8080/",
          "height": 121
        }
      },
      "source": [
        "import numpy as np\n",
        "from google.colab import drive\n",
        "drive.mount(\"/content/gdrive\")\n",
        "input_data=np.loadtxt('/content/gdrive/My Drive/Colab Notebooks/capacitor.dat',skiprows=1)"
      ],
      "execution_count": 0,
      "outputs": [
        {
          "output_type": "stream",
          "text": [
            "Go to this URL in a browser: https://accounts.google.com/o/oauth2/auth?client_id=947318989803-6bn6qk8qdgf4n4g3pfee6491hc0brc4i.apps.googleusercontent.com&redirect_uri=urn%3aietf%3awg%3aoauth%3a2.0%3aoob&response_type=code&scope=email%20https%3a%2f%2fwww.googleapis.com%2fauth%2fdocs.test%20https%3a%2f%2fwww.googleapis.com%2fauth%2fdrive%20https%3a%2f%2fwww.googleapis.com%2fauth%2fdrive.photos.readonly%20https%3a%2f%2fwww.googleapis.com%2fauth%2fpeopleapi.readonly\n",
            "\n",
            "Enter your authorization code:\n",
            "··········\n",
            "Mounted at /content/gdrive\n"
          ],
          "name": "stdout"
        }
      ]
    },
    {
      "cell_type": "code",
      "metadata": {
        "id": "Cij5Y3IHS6oI",
        "colab_type": "code",
        "colab": {}
      },
      "source": [
        "%matplotlib inline\n",
        "import numpy as np\n",
        "import matplotlib.pyplot as plt"
      ],
      "execution_count": 0,
      "outputs": []
    },
    {
      "cell_type": "code",
      "metadata": {
        "scrolled": true,
        "id": "zbG3QBMhS6oM",
        "colab_type": "code",
        "outputId": "a13020dd-dbaa-4835-e892-8fa77606b2cd",
        "colab": {
          "base_uri": "https://localhost:8080/",
          "height": 336
        }
      },
      "source": [
        "# input data from file - which needs to be in same directory\n",
        "##input_data=np.loadtxt('capacitor.dat',skiprows=1)\n",
        "x_orig =input_data[:,0]\n",
        "y_orig =input_data[:,1]\n",
        "x = x_orig.reshape(-1,1)\n",
        "y = y_orig.reshape(-1,1)\n",
        "print('datos leidos ',len(x),' puntos \\n')\n",
        "print('Tiempo (Seg) \\t Tensión de descarga (volts)')\n",
        "for i in range(0,len(x)):\n",
        "    print('%4.1f\\t\\t'%(x[i]),'%4.3f'%(y[i]))"
      ],
      "execution_count": 0,
      "outputs": [
        {
          "output_type": "stream",
          "text": [
            "datos leidos  16  puntos \n",
            "\n",
            "Tiempo (Seg) \t Tensión de descarga (volts)\n",
            " 0.0\t\t 5.000\n",
            " 0.0\t\t 4.094\n",
            " 0.0\t\t 3.352\n",
            " 0.1\t\t 2.744\n",
            " 0.1\t\t 2.247\n",
            " 0.1\t\t 1.839\n",
            " 0.1\t\t 1.506\n",
            " 0.1\t\t 1.233\n",
            " 0.2\t\t 1.009\n",
            " 0.2\t\t 0.826\n",
            " 0.2\t\t 0.677\n",
            " 0.2\t\t 0.554\n",
            " 0.2\t\t 0.454\n",
            " 0.3\t\t 0.371\n",
            " 0.3\t\t 0.304\n",
            " 0.3\t\t 0.249\n"
          ],
          "name": "stdout"
        }
      ]
    },
    {
      "cell_type": "code",
      "metadata": {
        "id": "LAEmhb6LS6oT",
        "colab_type": "code",
        "colab": {}
      },
      "source": [
        "suma_x_cuad = np.sum(x*x)\n",
        "suma_x = np.sum(x)\n",
        "suma_xy = np.sum(x*np.log(y))\n",
        "suma_y = np.sum(np.log(y))\n",
        "m= len(x)"
      ],
      "execution_count": 0,
      "outputs": []
    },
    {
      "cell_type": "code",
      "metadata": {
        "id": "uEPSLBsFS6oX",
        "colab_type": "code",
        "outputId": "89576f00-8026-47b0-d34d-3aeeb441d37c",
        "colab": {
          "base_uri": "https://localhost:8080/",
          "height": 50
        }
      },
      "source": [
        "A = np.array([[suma_x_cuad, suma_x],\n",
        "            [suma_x,m]])\n",
        "A"
      ],
      "execution_count": 0,
      "outputs": [
        {
          "output_type": "execute_result",
          "data": {
            "text/plain": [
              "array([[ 0.496,  2.4  ],\n",
              "       [ 2.4  , 16.   ]])"
            ]
          },
          "metadata": {
            "tags": []
          },
          "execution_count": 9
        }
      ]
    },
    {
      "cell_type": "code",
      "metadata": {
        "id": "n3LpMKSES6oa",
        "colab_type": "code",
        "colab": {}
      },
      "source": [
        "#B0 = np.array([sum_xy(x1,y1),sum_y(y1)])\n",
        "B =  np.array([suma_xy,suma_y]).reshape(-1,1)\n"
      ],
      "execution_count": 0,
      "outputs": []
    },
    {
      "cell_type": "code",
      "metadata": {
        "id": "2gvEYk5kS6oe",
        "colab_type": "code",
        "outputId": "14c77ef7-f0fc-4da4-aaab-51be55b6cfd3",
        "colab": {
          "base_uri": "https://localhost:8080/",
          "height": 67
        }
      },
      "source": [
        "print('el vector B es \\n',B)"
      ],
      "execution_count": 0,
      "outputs": [
        {
          "output_type": "stream",
          "text": [
            "el vector B es \n",
            " [[-1.09734137]\n",
            " [ 1.75102986]]\n"
          ],
          "name": "stdout"
        }
      ]
    },
    {
      "cell_type": "code",
      "metadata": {
        "id": "fq1-VHnKVAc_",
        "colab_type": "code",
        "outputId": "0661e34e-c512-4e58-a251-d5411e8ed4dd",
        "colab": {
          "base_uri": "https://localhost:8080/",
          "height": 50
        }
      },
      "source": [
        "aux = np.linalg.inv(A)\n",
        "cof= aux @ B\n",
        "cof"
      ],
      "execution_count": 0,
      "outputs": [
        {
          "output_type": "execute_result",
          "data": {
            "text/plain": [
              "array([[-9.99996944],\n",
              "       [ 1.60943478]])"
            ]
          },
          "metadata": {
            "tags": []
          },
          "execution_count": 12
        }
      ]
    },
    {
      "cell_type": "code",
      "metadata": {
        "id": "7cxsgatqS6oh",
        "colab_type": "code",
        "outputId": "a47bb3bb-8123-415b-d9c1-6b010abec5b2",
        "colab": {
          "base_uri": "https://localhost:8080/",
          "height": 50
        }
      },
      "source": [
        "coef = np.dot(np.linalg.inv(A),B)\n",
        "c2 = coef[0]\n",
        "c1 =  np.e**coef[1]\n",
        "print('Los coeficientes c1 y c2 son  \\n', c1,c2)"
      ],
      "execution_count": 0,
      "outputs": [
        {
          "output_type": "stream",
          "text": [
            "Los coeficientes c1 y c2 son  \n",
            " [4.99998435] [-9.99996944]\n"
          ],
          "name": "stdout"
        }
      ]
    },
    {
      "cell_type": "markdown",
      "metadata": {
        "id": "ogigW_HCS6ol",
        "colab_type": "text"
      },
      "source": [
        "#### la ecuación encontrada es $y  =  5e^{-10x}$"
      ]
    },
    {
      "cell_type": "code",
      "metadata": {
        "id": "qidX8ioqS6om",
        "colab_type": "code",
        "outputId": "65452f60-94ec-446a-cd26-91b050d6e2c0",
        "colab": {}
      },
      "source": [
        "y_calc = c1*np.e **(c2*x)\n",
        "print('vector y_calc es\\n',y_calc)"
      ],
      "execution_count": 0,
      "outputs": [
        {
          "output_type": "stream",
          "text": [
            "vector y_calc es\n",
            " [[4.99998435]\n",
            " [4.09364346]\n",
            " [3.35159384]\n",
            " [2.74405462]\n",
            " [2.24664328]\n",
            " [1.83939707]\n",
            " [1.50597187]\n",
            " [1.23298624]\n",
            " [1.00948437]\n",
            " [0.8264964 ]\n",
            " [0.67667843]\n",
            " [0.55401778]\n",
            " [0.45359167]\n",
            " [0.37136968]\n",
            " [0.30405196]\n",
            " [0.24893684]]\n"
          ],
          "name": "stdout"
        }
      ]
    },
    {
      "cell_type": "code",
      "metadata": {
        "id": "KtOhhkmES6op",
        "colab_type": "code",
        "outputId": "c7fec9a4-4594-4ef3-91e1-0822a6d81e4e",
        "colab": {}
      },
      "source": [
        "suma_errores_cuad = np.sum((y-y_calc)**2)\n",
        "suma_errores_cuad"
      ],
      "execution_count": 0,
      "outputs": [
        {
          "output_type": "execute_result",
          "data": {
            "text/plain": [
              "5.003228860233066e-10"
            ]
          },
          "metadata": {
            "tags": []
          },
          "execution_count": 40
        }
      ]
    },
    {
      "cell_type": "markdown",
      "metadata": {
        "id": "RanFX6liS6os",
        "colab_type": "text"
      },
      "source": [
        "### Como medida de la bondad del ajuste utilizamos el coeficiente de determinación definido por:\n",
        "$$\n",
        "R^{2}=\\frac{\\displaystyle\\sum_{i=1}^{m}\\left(\\hat{y_{i}}-\\bar{y}\\right)^{2}}{\\displaystyle\\sum_{i=1}^{m}\\left(y_{i}-\\bar{y}\\right)^{2}}\n",
        "$$"
      ]
    },
    {
      "cell_type": "markdown",
      "metadata": {
        "id": "3sNs6iKqS6ot",
        "colab_type": "text"
      },
      "source": [
        "#### Siendo :\n",
        "&nbsp; &nbsp; &nbsp;$\\hat{y_{i}}$ &nbsp; &nbsp; &nbsp;&nbsp; valor calculado de  $y_{i}$ <br>\n",
        "&nbsp; &nbsp; &nbsp;$\\bar{y}$&nbsp; &nbsp; &nbsp; &nbsp; &nbsp;media de los valores observados $y_{i}$<br>\n",
        "&nbsp; &nbsp; &nbsp;$y_{i}$&nbsp; &nbsp; &nbsp; &nbsp; valores observados de  y\n"
      ]
    },
    {
      "cell_type": "code",
      "metadata": {
        "id": "SNOoAu5ES6ou",
        "colab_type": "code",
        "outputId": "3e9857f4-6ab9-474e-94f4-5000ea70a33b",
        "colab": {}
      },
      "source": [
        "alfa = coef[0]\n",
        "beta = coef[1]\n",
        "v=np.log(y)\n",
        "v_calc= alfa*x+beta\n",
        "R2 = np.sum((v_calc-np.mean(v))**2)/np.sum((v-np.mean(v))**2)\n",
        "print('Coeficiente de determinación es: ',R2)"
      ],
      "execution_count": 0,
      "outputs": [
        {
          "output_type": "stream",
          "text": [
            "Coeficiente de determinación es:  0.9999999999729338\n"
          ],
          "name": "stdout"
        }
      ]
    },
    {
      "cell_type": "code",
      "metadata": {
        "id": "7mxecW8BS6ox",
        "colab_type": "code",
        "outputId": "a7d23df8-74d4-44e9-d97a-d5a88b89ce70",
        "colab": {}
      },
      "source": [
        "plt.figure(figsize = (10,6) )\n",
        "plt.grid(True)\n",
        "\n",
        "# plot data as scatter plot,\n",
        "plt.scatter(x,y,s=120,c='green',label='datos',zorder=2)\n",
        "# plot best fit\n",
        "plt.plot(x,y_calc,c='red',linewidth=6,label='recta',zorder=4)\n",
        "plt.xlabel('$x$',fontsize=24)\n",
        "plt.ylabel('$y$',fontsize=24)\n",
        "plt.xticks(fontsize=24)\n",
        "plt.yticks(fontsize=24)\n",
        "plt.legend(loc='upper right',fontsize=24)\n",
        "plt.tight_layout()\n",
        "plt.show()\n"
      ],
      "execution_count": 0,
      "outputs": [
        {
          "output_type": "display_data",
          "data": {
            "image/png": "[encoded data removed]",
            "text/plain": [
              "<Figure size 720x432 with 1 Axes>"
            ]
          },
          "metadata": {
            "tags": [],
            "needs_background": "light"
          }
        }
      ]
    },
    {
      "cell_type": "code",
      "metadata": {
        "id": "9SnW9xkuS6o2",
        "colab_type": "code",
        "outputId": "9e600a40-4632-4d3f-dfd7-ff8e5c28990d",
        "colab": {}
      },
      "source": [
        "## plot errors to look for trend\n",
        "######### Now generate plot\n",
        "plt.figure(figsize = (12,6) )\n",
        "plt.grid(True)\n",
        "bottom, top = -0.00002,0.00002  # return the current ylim\n",
        "plt.ylim((bottom, top))   # set the ylim to bottom, top\n",
        "# plot data as scatter plot,\n",
        "plt.title('Si la función de ajuste es mas o menos correcta no debería haber una tendencia en los residuos \\n',fontsize=20)\n",
        "# these are the error or residuals in y values\n",
        "plt.scatter(x,errores,s=120,c='blue',linewidth=0,label='residuos',zorder=2)\n",
        "plt.xlabel('$x$',fontsize=24)\n",
        "plt.ylabel('valores y $-$ y calculados',fontsize=24)\n",
        "plt.xticks(fontsize=24)\n",
        "plt.yticks(fontsize=24)\n",
        "plt.legend(loc='upper right',fontsize=24)\n",
        "plt.tight_layout()\n",
        "plt.show()"
      ],
      "execution_count": 0,
      "outputs": [
        {
          "output_type": "display_data",
          "data": {
            "image/png": "[encoded data removed]",
            "text/plain": [
              "<Figure size 864x432 with 1 Axes>"
            ]
          },
          "metadata": {
            "tags": [],
            "needs_background": "light"
          }
        }
      ]
    },
    {
      "cell_type": "markdown",
      "metadata": {
        "id": "GRYpZmdCS6o5",
        "colab_type": "text"
      },
      "source": [
        "### Solución mediante las ecuaciones NORMALES\n"
      ]
    },
    {
      "cell_type": "markdown",
      "metadata": {
        "id": "zf3KJ3BtS6o6",
        "colab_type": "text"
      },
      "source": [
        "$$\n",
        "\\begin{bmatrix}\n",
        "x_{1}& 1 \\\\ \n",
        "x_{2}& 1  \\\\\n",
        "x_{3}& 1 \\\\\n",
        "\\cdot & \\cdot \\\\\n",
        "\\cdot & \\cdot \\\\\n",
        "x_{m} & 1\n",
        "\\end{bmatrix}\n",
        "\\begin{bmatrix}\n",
        "\\alpha\\\\ \n",
        "\\beta\n",
        "\\end{bmatrix} =\\begin{bmatrix}\n",
        "y_{1}\\\\\n",
        "y_{2}\\\\\n",
        "y_{3} \\\\\n",
        "\\cdot \\\\\n",
        "\\cdot \\\\\n",
        "y_{m}\n",
        "\\end{bmatrix}\n",
        "$$"
      ]
    },
    {
      "cell_type": "markdown",
      "metadata": {
        "id": "dvYW_YtJS6o7",
        "colab_type": "text"
      },
      "source": [
        "El sistema matricial se puede escribir como $Ac = y$ que no se puede resolver por Gauss por ser sobredeterminado. Aplicando el criterio de mínimos cuadrados llegamos a la ecuación matricial"
      ]
    },
    {
      "cell_type": "markdown",
      "metadata": {
        "id": "mM_3otxVS6o8",
        "colab_type": "text"
      },
      "source": [
        "$$\\left ( A^{T}A \\right )c=A^{T}y$$"
      ]
    },
    {
      "cell_type": "markdown",
      "metadata": {
        "id": "v-j1NVXVS6o9",
        "colab_type": "text"
      },
      "source": [
        "### Si tenemos una función exponencial de la forma $$ F(x)=y =  c_{1}e^{c_{2}x}$$"
      ]
    },
    {
      "cell_type": "markdown",
      "metadata": {
        "id": "TBtX8t6CS6o-",
        "colab_type": "text"
      },
      "source": [
        "Podemos linealizarla a una ecuación de la forma $F(x) = v = \\alpha*x+\\beta$"
      ]
    },
    {
      "cell_type": "markdown",
      "metadata": {
        "id": "XNwl8Z05S6o_",
        "colab_type": "text"
      },
      "source": [
        "Siendo $v = \\ln y \\: \\:\\:\\alpha = c_{2}\\:\\:\\beta = \\ln c_{1}$"
      ]
    },
    {
      "cell_type": "code",
      "metadata": {
        "id": "A33_pV4nS6pA",
        "colab_type": "code",
        "outputId": "0caeb9bf-b243-4d1f-d448-cfb27fab4664",
        "colab": {}
      },
      "source": [
        "A = np.column_stack((x,np.ones(len(x))))\n",
        "print('Matriz A \\n',A)"
      ],
      "execution_count": 0,
      "outputs": [
        {
          "output_type": "stream",
          "text": [
            "Matriz A \n",
            " [[0.   1.  ]\n",
            " [0.02 1.  ]\n",
            " [0.04 1.  ]\n",
            " [0.06 1.  ]\n",
            " [0.08 1.  ]\n",
            " [0.1  1.  ]\n",
            " [0.12 1.  ]\n",
            " [0.14 1.  ]\n",
            " [0.16 1.  ]\n",
            " [0.18 1.  ]\n",
            " [0.2  1.  ]\n",
            " [0.22 1.  ]\n",
            " [0.24 1.  ]\n",
            " [0.26 1.  ]\n",
            " [0.28 1.  ]\n",
            " [0.3  1.  ]]\n"
          ],
          "name": "stdout"
        }
      ]
    },
    {
      "cell_type": "code",
      "metadata": {
        "id": "OzPuC2Z8S6pD",
        "colab_type": "code",
        "outputId": "6a2fb2c7-3b36-452b-de47-0e537656d241",
        "colab": {}
      },
      "source": [
        "v=np.log(y)\n",
        "c = np.dot(np.linalg.inv(np.dot(A.T,A)),np.dot(A.T,v))\n",
        "alfa = c[0]\n",
        "beta = c[1]\n",
        "print('Coeficientes  \\u03B1 y \\u03B2 \\n',alfa,beta)\n",
        "c1 = np.e**beta\n",
        "c2 = alfa\n",
        "print('Coeficientes  c1 y c2 son  \\n',c1,c2)"
      ],
      "execution_count": 0,
      "outputs": [
        {
          "output_type": "stream",
          "text": [
            "Coeficientes  α y β \n",
            " [-9.99996944] [1.60943478]\n",
            "Coeficientes  c1 y c2 son  \n",
            " [4.99998435] [-9.99996944]\n"
          ],
          "name": "stdout"
        }
      ]
    },
    {
      "cell_type": "markdown",
      "metadata": {
        "id": "96oBwwvJS6pI",
        "colab_type": "text"
      },
      "source": [
        "#### la ecuación encontrada es $y  =  5e^{-10x}$"
      ]
    },
    {
      "cell_type": "markdown",
      "metadata": {
        "id": "GeUjz5lRS6pK",
        "colab_type": "text"
      },
      "source": [
        "### El coeficiente de determinación se puede calcular también como:\n",
        "$$\n",
        "R^{2}=1-\\frac{\\parallel r \\parallel_{2}^{2}}{\\displaystyle\\sum_{i=1}^{m}\\left(y_{i}-\\bar{y}\\right)^{2}}\n",
        "$$"
      ]
    },
    {
      "cell_type": "code",
      "metadata": {
        "id": "c30JvrW6S6pL",
        "colab_type": "code",
        "outputId": "85ce5856-d9cc-4960-cf94-d6a1152f6452",
        "colab": {}
      },
      "source": [
        "r = v - np.dot(A,c)\n",
        "R2=1. - (np.linalg.norm(r)**2 / np.sum((v - np.mean(v)) ** 2))\n",
        "print('Coeficiente de determinación es: ',R2)"
      ],
      "execution_count": 0,
      "outputs": [
        {
          "output_type": "stream",
          "text": [
            "Coeficiente de determinación es:  0.9999999999729337\n"
          ],
          "name": "stdout"
        }
      ]
    },
    {
      "cell_type": "code",
      "metadata": {
        "id": "f3QjtZ5AS6pN",
        "colab_type": "code",
        "outputId": "4fd1d8eb-8494-4085-963b-7629fc5d55c0",
        "colab": {}
      },
      "source": [
        "y_calc = c1*np.e**(c2*x)\n",
        "print('vector y_calc es\\n',y_calc)"
      ],
      "execution_count": 0,
      "outputs": [
        {
          "output_type": "stream",
          "text": [
            "vector y_calc es\n",
            " [[4.99998435]\n",
            " [4.09364346]\n",
            " [3.35159384]\n",
            " [2.74405462]\n",
            " [2.24664328]\n",
            " [1.83939707]\n",
            " [1.50597187]\n",
            " [1.23298624]\n",
            " [1.00948437]\n",
            " [0.8264964 ]\n",
            " [0.67667843]\n",
            " [0.55401778]\n",
            " [0.45359167]\n",
            " [0.37136968]\n",
            " [0.30405196]\n",
            " [0.24893684]]\n"
          ],
          "name": "stdout"
        }
      ]
    },
    {
      "cell_type": "code",
      "metadata": {
        "id": "Ekj627AMS6pQ",
        "colab_type": "code",
        "outputId": "04676a9b-e802-4f32-b25f-ec9f12b9c5d0",
        "colab": {}
      },
      "source": [
        "suma_errores_cuad = np.sum((y-y_calc)**2)\n",
        "suma_errores_cuad"
      ],
      "execution_count": 0,
      "outputs": [
        {
          "output_type": "execute_result",
          "data": {
            "text/plain": [
              "5.003228858595793e-10"
            ]
          },
          "metadata": {
            "tags": []
          },
          "execution_count": 48
        }
      ]
    },
    {
      "cell_type": "code",
      "metadata": {
        "id": "Lp_vJBjoS6pT",
        "colab_type": "code",
        "outputId": "ff790340-449e-4e96-e84e-9f0bc0143916",
        "colab": {}
      },
      "source": [
        "plt.figure(figsize = (10,6) )\n",
        "plt.grid(True)\n",
        "\n",
        "# plot data as scatter plot,\n",
        "plt.scatter(x,y,s=120,c='green',label='datos',zorder=2)\n",
        "# plot best fit\n",
        "plt.plot(x,y_calc,c='red',linewidth=6,label='recta',zorder=4)\n",
        "plt.xlabel('$tiempo-seg \\: \\:  ºC$',fontsize=24)\n",
        "plt.ylabel('$Tensión$',fontsize=24)\n",
        "plt.xticks(fontsize=24)\n",
        "plt.yticks(fontsize=24)\n",
        "plt.legend(loc='upper right',fontsize=24)\n",
        "plt.tight_layout()\n",
        "plt.show()\n"
      ],
      "execution_count": 0,
      "outputs": [
        {
          "output_type": "display_data",
          "data": {
            "image/png": "[encoded data removed]",
            "text/plain": [
              "<Figure size 720x432 with 1 Axes>"
            ]
          },
          "metadata": {
            "tags": [],
            "needs_background": "light"
          }
        }
      ]
    },
    {
      "cell_type": "code",
      "metadata": {
        "id": "fPSE18kTS6pV",
        "colab_type": "code",
        "outputId": "8d1b11fa-9787-441f-fb13-40a0ee60ea39",
        "colab": {}
      },
      "source": [
        "## plot errors to look for trend\n",
        "######### Now generate plot\n",
        "plt.figure(figsize = (12,6) )\n",
        "plt.grid(True)\n",
        "bottom, top = -0.00002,0.00002  # return the current ylim\n",
        "plt.ylim((bottom, top))   # set the ylim to bottom, top\n",
        "# plot data as scatter plot,\n",
        "plt.title('Si la función de ajuste es mas o menos correcta no debería haber una tendencia en los residuos \\n',fontsize=20)\n",
        "# these are the error or residuals in y values\n",
        "plt.scatter(x,(y-y_calc),s=120,c='blue',linewidth=0,label='residuos',zorder=2)\n",
        "plt.xlabel('$tiempo$',fontsize=24)\n",
        "plt.ylabel('$tensión$',fontsize=16)\n",
        "plt.xticks(fontsize=24)\n",
        "plt.yticks(fontsize=24)\n",
        "plt.legend(loc='upper right',fontsize=24)\n",
        "plt.tight_layout()\n",
        "plt.show()"
      ],
      "execution_count": 0,
      "outputs": [
        {
          "output_type": "display_data",
          "data": {
            "image/png": "[encoded data removed]",
            "text/plain": [
              "<Figure size 864x432 with 1 Axes>"
            ]
          },
          "metadata": {
            "tags": [],
            "needs_background": "light"
          }
        }
      ]
    },
    {
      "cell_type": "code",
      "metadata": {
        "id": "7mgqPil9S6pY",
        "colab_type": "code",
        "colab": {}
      },
      "source": [
        ""
      ],
      "execution_count": 0,
      "outputs": []
    },
    {
      "cell_type": "code",
      "metadata": {
        "id": "TMzG4UzSS6pb",
        "colab_type": "code",
        "colab": {}
      },
      "source": [
        ""
      ],
      "execution_count": 0,
      "outputs": []
    },
    {
      "cell_type": "code",
      "metadata": {
        "id": "Rx9SDM7bS6pd",
        "colab_type": "code",
        "colab": {}
      },
      "source": [
        ""
      ],
      "execution_count": 0,
      "outputs": []
    },
    {
      "cell_type": "code",
      "metadata": {
        "id": "7DeCyS5eS6pg",
        "colab_type": "code",
        "colab": {}
      },
      "source": [
        ""
      ],
      "execution_count": 0,
      "outputs": []
    },
    {
      "cell_type": "code",
      "metadata": {
        "id": "YyDkyItIS6pi",
        "colab_type": "code",
        "colab": {}
      },
      "source": [
        ""
      ],
      "execution_count": 0,
      "outputs": []
    },
    {
      "cell_type": "code",
      "metadata": {
        "id": "dWHKdeeaS6pl",
        "colab_type": "code",
        "colab": {}
      },
      "source": [
        ""
      ],
      "execution_count": 0,
      "outputs": []
    },
    {
      "cell_type": "code",
      "metadata": {
        "id": "zWhr7jYoS6pp",
        "colab_type": "code",
        "colab": {}
      },
      "source": [
        "c = np.dot(np.linalg.inv(np.dot(A.T,A)),np.dot(A.T,y))\n",
        "print('Vector  c \\n',c)"
      ],
      "execution_count": 0,
      "outputs": []
    },
    {
      "cell_type": "code",
      "metadata": {
        "id": "sHUvjaXeS6ps",
        "colab_type": "code",
        "colab": {}
      },
      "source": [
        "r = y - np.dot(A,c)\n",
        "R2=1 - np.linalg.norm(r)**2 / np.sum((y - np.mean(y)) ** 2)\n",
        "print('Coeficiente de determinación es: ',R2)"
      ],
      "execution_count": 0,
      "outputs": []
    },
    {
      "cell_type": "code",
      "metadata": {
        "id": "pqnuKWdpS6pv",
        "colab_type": "code",
        "colab": {}
      },
      "source": [
        "y_calc = c[0]*x+c[1]\n",
        "print('vector y_calc es\\n',y_calc)"
      ],
      "execution_count": 0,
      "outputs": []
    },
    {
      "cell_type": "code",
      "metadata": {
        "id": "DC3ALQgUS6px",
        "colab_type": "code",
        "colab": {}
      },
      "source": [
        "A = np.column_stack((x,np.ones(len(x))))\n",
        "print('Matriz A \\n',A)"
      ],
      "execution_count": 0,
      "outputs": []
    },
    {
      "cell_type": "code",
      "metadata": {
        "id": "aZK9cDSgS6p0",
        "colab_type": "code",
        "colab": {}
      },
      "source": [
        "plt.figure(figsize = (10,6) )\n",
        "plt.grid(True)\n",
        "\n",
        "# plot data as scatter plot,\n",
        "plt.scatter(x,y,s=120,c='green',label='datos',zorder=2)\n",
        "# plot best fit\n",
        "plt.plot(x,y_calc,c='red',linewidth=6,label='recta',zorder=4)\n",
        "plt.xlabel('$temperatura \\: \\:  ºC$',fontsize=24)\n",
        "plt.ylabel('$Coef. \\: \\: \\: \\: Compresión$',fontsize=24)\n",
        "plt.xticks(fontsize=24)\n",
        "plt.yticks(fontsize=24)\n",
        "plt.legend(loc='upper right',fontsize=24)\n",
        "plt.tight_layout()\n",
        "plt.show()\n"
      ],
      "execution_count": 0,
      "outputs": []
    },
    {
      "cell_type": "code",
      "metadata": {
        "id": "eWyFf53HS6p3",
        "colab_type": "code",
        "colab": {}
      },
      "source": [
        "## plot errors to look for trend\n",
        "######### Now generate plot\n",
        "plt.figure(figsize = (12,6) )\n",
        "plt.grid(True)\n",
        "# plot data as scatter plot,\n",
        "plt.title('Si la función de ajuste es mas o menos correcta no debería haber una tendencia en los residuos \\n',fontsize=20)\n",
        "# these are the error or residuals in y values\n",
        "\n",
        "plt.scatter(x,r,s=120,c='blue',linewidth=0,label='residuos',zorder=2)\n",
        "plt.xlabel('$temperatura \\: \\:  ºC$',fontsize=24)\n",
        "plt.ylabel('Coef. Compr. $-$ Coef. Compr. calculado',fontsize=16)\n",
        "plt.xticks(fontsize=24)\n",
        "plt.yticks(fontsize=24)\n",
        "plt.legend(loc='upper left',fontsize=24)\n",
        "plt.tight_layout()\n",
        "plt.show()"
      ],
      "execution_count": 0,
      "outputs": []
    },
    {
      "cell_type": "code",
      "metadata": {
        "id": "wGzv7HKUS6p6",
        "colab_type": "code",
        "colab": {}
      },
      "source": [
        ""
      ],
      "execution_count": 0,
      "outputs": []
    },
    {
      "cell_type": "code",
      "metadata": {
        "id": "-DXUeH0sS6p8",
        "colab_type": "code",
        "colab": {}
      },
      "source": [
        ""
      ],
      "execution_count": 0,
      "outputs": []
    }
  ]
}