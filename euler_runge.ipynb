{
  "nbformat": 4,
  "nbformat_minor": 0,
  "metadata": {
    "kernelspec": {
      "display_name": "Python 3",
      "language": "python",
      "name": "python3"
    },
    "language_info": {
      "codemirror_mode": {
        "name": "ipython",
        "version": 3
      },
      "file_extension": ".py",
      "mimetype": "text/x-python",
      "name": "python",
      "nbconvert_exporter": "python",
      "pygments_lexer": "ipython3",
      "version": "3.7.4"
    },
    "colab": {
      "name": "euler-runge.ipynb",
      "provenance": [],
      "include_colab_link": true
    }
  },
  "cells": [
    {
      "cell_type": "markdown",
      "metadata": {
        "id": "view-in-github",
        "colab_type": "text"
      },
      "source": [
        "<a href=\"https://colab.research.google.com/github/gachet/mis-colabs/blob/master/euler_runge.ipynb\" target=\"_parent\"><img src=\"https://colab.research.google.com/assets/colab-badge.svg\" alt=\"Open In Colab\"/></a>"
      ]
    },
    {
      "cell_type": "markdown",
      "metadata": {
        "id": "iz6nIdV9Bt1e",
        "colab_type": "text"
      },
      "source": [
        "# Ecuaciones diferenciales ordinarias. Problema del valor inicial\n",
        "\n",
        "Resolver $\\textbf{y}' = \\textbf{F}(x, \\textbf{y})$ con $\\textbf{y}(a)=\\alpha$"
      ]
    },
    {
      "cell_type": "markdown",
      "metadata": {
        "id": "rDIJRYwABt1m",
        "colab_type": "text"
      },
      "source": [
        "## Introducción\n",
        "\n",
        "Una ecuación diferencial de  *primer orden* se escribe como :\n",
        "\n",
        "$$\n",
        "y' = f(x, y),\n",
        "$$\n",
        "donde $y'=\\frac{dy}{dx}$ y $f(x, y)$ es una función dada.\n",
        "\n",
        "La solución de la ecuación incluye una constante de integración arbitraria, que se da mediante una *condición auxiliar* especificada en $x=a$:\n",
        "$$\n",
        "y(a) = \\alpha\n",
        "$$\n",
        "\n",
        "### EDO de orden  n\n",
        "\n"
      ]
    },
    {
      "cell_type": "markdown",
      "metadata": {
        "id": "5mxmYdijBt1r",
        "colab_type": "text"
      },
      "source": [
        "Formular el siguiente problema de valor inicial en la forma  $\\textbf{y}'=\\textbf{F}(x, \\textbf{y})$:\n",
        "$$\n",
        "y'' = -0.1y'-x \\quad ; \\quad y(0) = 0 \\quad y'(0) = 1\n",
        "$$"
      ]
    },
    {
      "cell_type": "markdown",
      "metadata": {
        "id": "OEHcuwDzBt1w",
        "colab_type": "text"
      },
      "source": [
        "#### Desarrollo\n",
        "\n",
        "**Una ecuación diferencial (EDO) de orden $n$** se expresa como:\n",
        "$$\n",
        "y^{(n)} = f(x, y, y', y'', \\ldots, y^{(n-1)})\n",
        "$$\n",
        "Que se puede transformae en un xonjunto de  n ecuaciones de primer orden utilizando un cambio de variables:\n",
        "$$\n",
        "y_0 = y \\quad ; \\quad y_1 = y' \\quad ; \\quad y_2 = y'' \\quad ; \\quad \\ldots \\quad ; \\quad y_{n-1} = y^{(n-1)}\n",
        "$$\n",
        "Las ecuaciones diferenciales equivalentes de primer orden son:\n",
        "$$\n",
        "y_0' = y_1 \\quad ; \\quad y_1'=y_2 \\quad ; \\quad y_2'=y_3 \\quad ; \\quad \\ldots \\quad ; \\quad y_n' = f(x, y_0, y_1, \\ldots, y_{n-1}) \n",
        "$$"
      ]
    },
    {
      "cell_type": "markdown",
      "metadata": {
        "id": "WQTyUae8Bt1z",
        "colab_type": "text"
      },
      "source": [
        "Necesitamos $n$ condiciones iniciales. Si estas condiciones se especifican para el mismo valor de  $x$, continuamos con un problema de **valor inicial**:\n",
        "$$\n",
        "y_0(a) = \\alpha_0 \\quad ; \\quad y_1(a) = \\alpha_1 \\quad ; \\quad y_2(a) = \\alpha_2 \\quad ; \\quad \\ldots \\quad ; \\quad y_{n-1}(a) = \\alpha_{n-1}\n",
        "$$\n",
        "sai fuese de otra manera estaríamos hablando de un *problema de valors de frontera*. "
      ]
    },
    {
      "cell_type": "markdown",
      "metadata": {
        "id": "Bd-VjWcrBt13",
        "colab_type": "text"
      },
      "source": [
        "Una EDO de orden  $n$  se puede escribir en forma vectorial de la siguiente forma:\n",
        "$$\n",
        "\\textbf{y}' = \\textbf{F}(x, \\textbf{y}) \\quad ; \\quad \\textbf{y}(a) = \\pmb{\\alpha}\n",
        "$$\n",
        "Siendo\n",
        "$$\n",
        "\\textbf{F}(x, \\textbf{y}) = \\begin{bmatrix}\n",
        "y_1 \\\\\n",
        "y_2 \\\\\n",
        "\\ldots \\\\\n",
        "f(x, \\textbf{y})\n",
        "\\end{bmatrix}\n",
        "$$"
      ]
    },
    {
      "cell_type": "markdown",
      "metadata": {
        "id": "HkKK5cX2Bt16",
        "colab_type": "text"
      },
      "source": [
        "##  Método de Euler\n",
        "\n",
        "Se basa en una serie de  Taylor truncada de $\\textbf{y}$ sobre x:\n",
        "$$\n",
        "\\textbf{y}(x+h) \\approx \\textbf{y}(x) + \\textbf{y}'(x)h \\quad (\\textbf{1})\n",
        "$$\n",
        "que nos da:\n",
        "$$\n",
        "\\textbf{y}(x+h) \\approx \\textbf{y}(x) + \\textbf{F}(x, \\textbf{y})h\n",
        "$$\n",
        "\n",
        "Esta ecuación la utilizaremos para calcular $\\textbf{y}$ **incrementalmente** desde $x=a$ a cualquier $x$ en pasos de tamaño $h$.\n",
        "\n",
        "### Interpretación gráfica"
      ]
    },
    {
      "cell_type": "markdown",
      "metadata": {
        "id": "lUYjVJFpBt2D",
        "colab_type": "text"
      },
      "source": [
        "<img src=\"https://drive.google.com/uc?id=1tGL-Ji_zVPu3wzXLbR29QcXQEXRnR4ot\" alt=\"Lamp\" width=\"420\" height=\"320\">\n",
        "\n",
        "\n"
      ]
    },
    {
      "cell_type": "markdown",
      "metadata": {
        "id": "SO7aA89yBt2G",
        "colab_type": "text"
      },
      "source": [
        "### Implementación"
      ]
    },
    {
      "cell_type": "code",
      "metadata": {
        "id": "m3VeNJPrBt2J",
        "colab_type": "code",
        "colab": {}
      },
      "source": [
        "import numpy as np\n",
        "import matplotlib.pyplot as plt\n",
        "%matplotlib inline"
      ],
      "execution_count": 0,
      "outputs": []
    },
    {
      "cell_type": "code",
      "metadata": {
        "id": "D3rxBsNxBt2a",
        "colab_type": "code",
        "colab": {}
      },
      "source": [
        "## module printSoln\n",
        "''' printSoln(X,Y,freq).\n",
        "    Imprime X e Y devueltos por cualquier método de\n",
        "    resoluciçon de ecuaciones diferenciales.\n",
        "        freq = n  imptime los valores en el paso nth.\n",
        "        freq = 0 imprime unicamente los valores inicial y final.\n",
        "'''\n",
        "def printSoln(X,Y,freq):\n",
        "\n",
        "    def printHead(n):\n",
        "        print(\"\\n        x  \",end=\" \")\n",
        "        for i in range (n):\n",
        "            print(\"      y[\",i,\"] \",end=\" \")\n",
        "        print()\n",
        "\n",
        "    def printLine(x,y,n):\n",
        "        print(\"{:13.4e}\".format(x),end=\" \")\n",
        "        for i in range (n):\n",
        "            print(\"{:13.4e}\".format(y[i]),end=\" \")\n",
        "        print()\n",
        "    \n",
        "    m = len(Y)\n",
        "    try: n = len(Y[0])\n",
        "    except TypeError: n = 1\n",
        "    if freq == 0: freq = m\n",
        "    printHead(n)\n",
        "    for i in range(0,m,freq):\n",
        "        printLine(X[i],Y[i],n)\n",
        "    if i != m - 1: printLine(X[m - 1],Y[m - 1],n)\n"
      ],
      "execution_count": 0,
      "outputs": []
    },
    {
      "cell_type": "code",
      "metadata": {
        "id": "XFFrnRquBt2m",
        "colab_type": "code",
        "colab": {}
      },
      "source": [
        "def euler(F, x0, y0, x, h):\n",
        "    '''\n",
        "    Retorna y(x) dado el problema de valor inicial:\n",
        "    y' = F(x, y)\n",
        "    y(x0) = y0 # condiciones iniciales\n",
        "    h es el incremento de x utilizado en la integración\n",
        "    F = [y'[0], y'[1], ..., y'[n-1]]\n",
        "    y = [y[0], y[1], ..., y[n-1]]\n",
        "    '''\n",
        "    X = [] # almacenamos los valores  de x0 en cada iteración\n",
        "    Y = [] # almacenamos los valores de y0 en cada iteración\n",
        "    while x0 < x:\n",
        "        h = min(h, x-x0)\n",
        "        y0 = y0 + h*F(x0, y0)\n",
        "        x0 += h\n",
        "        X.append(x0)\n",
        "        Y.append(y0)\n",
        "    return np.array(X), np.array(Y)"
      ],
      "execution_count": 0,
      "outputs": []
    },
    {
      "cell_type": "markdown",
      "metadata": {
        "id": "u3CYvHv2Bt20",
        "colab_type": "text"
      },
      "source": [
        "### Ejemplo 1\n",
        "\n",
        "Integrar el sguiente problema de valor inicial:\n",
        "$$\n",
        "y' + 4y = x^2 \\quad y(0) = 1\n",
        "$$\n",
        "en pasos de  $h=0.01$ desde $x=0$ a $0.03$. \n",
        "\n",
        "Determinar el error sabiendo que la solución analítica es :\n",
        "$$\n",
        "y = \\frac{31}{32}e^{-4x}+\\frac{1}{4}x^2-\\frac{1}{8}x+\\frac{1}{32}\n",
        "$$"
      ]
    },
    {
      "cell_type": "code",
      "metadata": {
        "id": "OnegItD9Bt22",
        "colab_type": "code",
        "colab": {}
      },
      "source": [
        "#la función se puede definir de esta manera\n",
        "def F1(x, y):\n",
        "    return x**2 - 4*y"
      ],
      "execution_count": 0,
      "outputs": []
    },
    {
      "cell_type": "code",
      "metadata": {
        "id": "anShrpLHBt3G",
        "colab_type": "code",
        "outputId": "f90da9a1-6a25-487a-9c76-bdf666999776",
        "colab": {
          "base_uri": "https://localhost:8080/",
          "height": 91
        }
      },
      "source": [
        "X, Y = euler(F1, 0, np.array([1.0]), 0.03, 0.01)\n",
        "printSoln(X,Y,0)"
      ],
      "execution_count": 0,
      "outputs": [
        {
          "output_type": "stream",
          "text": [
            "\n",
            "        x         y[ 0 ]  \n",
            "   1.0000e-02    9.6000e-01 \n",
            "   3.0000e-02    8.8474e-01 \n"
          ],
          "name": "stdout"
        }
      ]
    },
    {
      "cell_type": "code",
      "metadata": {
        "id": "RGqfDOMvBt3b",
        "colab_type": "code",
        "colab": {}
      },
      "source": [
        "#la función se puede definir también  de esta manera\n",
        "def F2(x, y):\n",
        "    F = np.zeros(1)\n",
        "    F[0] =  x**2 - 4*y[0]\n",
        "    return F"
      ],
      "execution_count": 0,
      "outputs": []
    },
    {
      "cell_type": "code",
      "metadata": {
        "id": "mnsZ9FTvBt3m",
        "colab_type": "code",
        "outputId": "8cef1c96-02bc-467d-fef9-6c5b975d04f3",
        "colab": {
          "base_uri": "https://localhost:8080/",
          "height": 91
        }
      },
      "source": [
        "X, Y = euler(F2, 0, np.array([1.0]), 0.03, 0.01)\n",
        "printSoln(X,Y,0)"
      ],
      "execution_count": 0,
      "outputs": [
        {
          "output_type": "stream",
          "text": [
            "\n",
            "        x         y[ 0 ]  \n",
            "   1.0000e-02    9.6000e-01 \n",
            "   3.0000e-02    8.8474e-01 \n"
          ],
          "name": "stdout"
        }
      ]
    },
    {
      "cell_type": "code",
      "metadata": {
        "id": "Q8wweMf5Bt3z",
        "colab_type": "code",
        "colab": {}
      },
      "source": [
        "soluc = lambda x: 31/32*np.exp(-4*x)+1/4*x**2-1/8*x+1/32"
      ],
      "execution_count": 0,
      "outputs": []
    },
    {
      "cell_type": "code",
      "metadata": {
        "id": "Vk-o3eTEBt3_",
        "colab_type": "code",
        "outputId": "86f3a7e3-30d2-42b3-e1f2-ebeb0ac268da",
        "colab": {
          "base_uri": "https://localhost:8080/",
          "height": 72
        }
      },
      "source": [
        "errores = soluc(X)-Y\n",
        "print (errores)"
      ],
      "execution_count": 0,
      "outputs": [
        {
          "output_type": "stream",
          "text": [
            "[[ 0.00078977 -0.03688104 -0.07307083]\n",
            " [ 0.03918877  0.00151796 -0.03467183]\n",
            " [ 0.07604881  0.038378    0.00218821]]\n"
          ],
          "name": "stdout"
        }
      ]
    },
    {
      "cell_type": "code",
      "metadata": {
        "id": "XM6QiizeBt4K",
        "colab_type": "code",
        "outputId": "f3d0d2f5-7e17-4424-d92b-308952b0ca7f",
        "colab": {
          "base_uri": "https://localhost:8080/",
          "height": 281
        }
      },
      "source": [
        "\n",
        "x_graf = np.linspace(0,0.06,100)\n",
        "y_graf = soluc(x_graf)\n",
        "\n",
        "#plt.figure(figsize = (5.5,2) )\n",
        "bottom, top = -0.5,1.5  # return the current ylim\n",
        "plt.ylim((bottom, top))   # set the ylim to bottom, top\n",
        "\n",
        "plt.xticks(np.arange(0, 0.04, 0.01))\n",
        "plt.grid(True)\n",
        "plt.axhline(0, color='black')\n",
        "plt.axvline(0, color='black')\n",
        "plt.title('Método de Euler')\n",
        "plt.plot(x_graf,y_graf)\n",
        "plt.plot(X,Y,'o')\n",
        "plt.show()\n",
        "\n"
      ],
      "execution_count": 0,
      "outputs": [
        {
          "output_type": "display_data",
          "data": {
            "image/png": "[encoded data removed]",
            "text/plain": [
              "<Figure size 432x288 with 1 Axes>"
            ]
          },
          "metadata": {
            "tags": [],
            "needs_background": "light"
          }
        }
      ]
    },
    {
      "cell_type": "markdown",
      "metadata": {
        "id": "jMjwWdnUBt4V",
        "colab_type": "text"
      },
      "source": [
        "### Ejemplo 2  (ecuación diferencial de orden 2)\n",
        "\n",
        "Integrar el problema de valor inicial:\n",
        "$$\n",
        "y'' = -0.1y'-x \\quad y(0) = 0 \\quad y'(0) = 1\n",
        "$$\n",
        "desde $x=0$ to $2$ utilizando $h=0.05$. graficar $y$ con la solución analítica:\n",
        "$$\n",
        "y = 100x-5x^2+990(e^{-0.1x}-1)\n",
        "$$"
      ]
    },
    {
      "cell_type": "markdown",
      "metadata": {
        "id": "nRnAiMeNBt4Y",
        "colab_type": "text"
      },
      "source": [
        "Con la notación $y_0 = y \\,\\,$y $\\,\\, y_1 = y'$\n",
        "$$\n",
        "\\textbf{F}(x, \\textbf{y}) = \\begin{bmatrix}\n",
        "y'_0 \\\\\n",
        "y'_1 \\\\\n",
        "\\end{bmatrix} = \\begin{bmatrix}\n",
        "y_1 \\\\\n",
        "-0.1y_1 -x\\\\\n",
        "\\end{bmatrix}\\hspace{1cm}\\textbf{y}(0) = \\begin{bmatrix}\n",
        "0 \\\\\n",
        "1 \n",
        "\\end{bmatrix}\n",
        "$$"
      ]
    },
    {
      "cell_type": "code",
      "metadata": {
        "id": "tciP9SkzBt4a",
        "colab_type": "code",
        "colab": {}
      },
      "source": [
        "def F(x, y):\n",
        "    F = np.zeros(2)\n",
        "    F[0] = y[1]\n",
        "    F[1] = -0.1*y[1]-x\n",
        "    return F"
      ],
      "execution_count": 0,
      "outputs": []
    },
    {
      "cell_type": "code",
      "metadata": {
        "id": "1SS9D8eQBt4n",
        "colab_type": "code",
        "colab": {}
      },
      "source": [
        "X, Y = euler(F, 0, np.array([0, 1]), 2, 0.05)"
      ],
      "execution_count": 0,
      "outputs": []
    },
    {
      "cell_type": "code",
      "metadata": {
        "id": "6OmiodpoBt4x",
        "colab_type": "code",
        "outputId": "e04df523-7364-4c62-a500-5fb1ec583cf1",
        "colab": {
          "base_uri": "https://localhost:8080/",
          "height": 220
        }
      },
      "source": [
        "printSoln(X,Y,5)"
      ],
      "execution_count": 0,
      "outputs": [
        {
          "output_type": "stream",
          "text": [
            "\n",
            "        x         y[ 0 ]        y[ 1 ]  \n",
            "   5.0000e-02    5.0000e-02    9.9500e-01 \n",
            "   3.0000e-01    2.9378e-01    9.3312e-01 \n",
            "   5.5000e-01    5.1603e-01    8.1090e-01 \n",
            "   8.0000e-01    7.0181e-01    6.2982e-01 \n",
            "   1.0500e+00    8.3655e-01    3.9134e-01 \n",
            "   1.3000e+00    9.0605e-01    9.6895e-02 \n",
            "   1.5500e+00    8.9645e-01   -2.5214e-01 \n",
            "   1.8000e+00    7.9424e-01   -6.5442e-01 \n",
            "   2.0000e+00    6.3692e-01   -1.0137e+00 \n"
          ],
          "name": "stdout"
        }
      ]
    },
    {
      "cell_type": "code",
      "metadata": {
        "id": "NvFsKiOsBt49",
        "colab_type": "code",
        "colab": {}
      },
      "source": [
        "soluc2 =  lambda x: 100*x-5*x**2+990*(np.exp(-0.1*x)-1)"
      ],
      "execution_count": 0,
      "outputs": []
    },
    {
      "cell_type": "code",
      "metadata": {
        "id": "BVrFggSoBt5G",
        "colab_type": "code",
        "outputId": "f05f70d4-7ddc-4d46-eabf-7728e5f543b6",
        "colab": {
          "base_uri": "https://localhost:8080/",
          "height": 146
        }
      },
      "source": [
        "errores = soluc2(X)-Y[:,0]\n",
        "print(errores)"
      ],
      "execution_count": 0,
      "outputs": [
        {
          "output_type": "stream",
          "text": [
            "[-0.0001456  -0.00041459 -0.00080604 -0.00131905 -0.00195268 -0.00270605\n",
            " -0.00357825 -0.00456838 -0.00567556 -0.00689891 -0.00823754 -0.0096906\n",
            " -0.01125721 -0.01293651 -0.01472766 -0.01662981 -0.01864211 -0.02076373\n",
            " -0.02299384 -0.02533162 -0.02777623 -0.03032688 -0.03298275 -0.03574305\n",
            " -0.03860696 -0.04157371 -0.04464249 -0.04781254 -0.05108308 -0.05445333\n",
            " -0.05792254 -0.06148993 -0.06515475 -0.06891626 -0.07277371 -0.07672635\n",
            " -0.08077345 -0.08491429 -0.08914814 -0.09347427]\n"
          ],
          "name": "stdout"
        }
      ]
    },
    {
      "cell_type": "code",
      "metadata": {
        "id": "NbM32NsjBt5Q",
        "colab_type": "code",
        "outputId": "bad82bea-458f-42b1-a9e0-91ed2fa6cb31",
        "colab": {
          "base_uri": "https://localhost:8080/",
          "height": 281
        }
      },
      "source": [
        "x_graf = np.linspace(0,2,100)\n",
        "y_graf = soluc2(x_graf)\n",
        "\n",
        "#plt.figure(figsize = (5.5,2) )\n",
        "bottom, top = -0.5,1  # return the current ylim\n",
        "plt.ylim((bottom, top))   # set the ylim to bottom, top\n",
        "\n",
        "plt.xticks(np.arange(0,2, 0.1))\n",
        "plt.grid(True)\n",
        "plt.axhline(0, color='black')\n",
        "plt.axvline(0, color='black')\n",
        "plt.title('Método de Euler')\n",
        "plt.plot(x_graf,y_graf)\n",
        "plt.plot(X,Y[:,0],'o')\n",
        "plt.show()"
      ],
      "execution_count": 0,
      "outputs": [
        {
          "output_type": "display_data",
          "data": {
            "image/png": "[encoded data removed]",
            "text/plain": [
              "<Figure size 432x288 with 1 Axes>"
            ]
          },
          "metadata": {
            "tags": [],
            "needs_background": "light"
          }
        }
      ]
    },
    {
      "cell_type": "markdown",
      "metadata": {
        "id": "mI3V6mprBt5Z",
        "colab_type": "text"
      },
      "source": [
        "## Método de Runge-Kutta de segundo orden\n",
        "\n",
        "Se define por la siguiente iteración:\n",
        "$$\n",
        "\\textbf{y}(x+h) = \\textbf{y}(x) + h\\textbf{F}\\left[x+\\frac{h}{2}, \\textbf{y}\\left(x+\\frac{h}{2}\\right)\\right]\n",
        "$$\n",
        "Donde:\n",
        "$$\n",
        "\\textbf{y}\\left(x+\\frac{h}{2}\\right) = \\textbf{y}(x) + \\frac{h}{2}\\textbf{F}(x, \\textbf{y})\n",
        "$$\n",
        "Lo que nos da:\n",
        "$$\n",
        "\\textbf{y}(x+h) = \\textbf{y}(x) + h\\textbf{F}\\left[x+\\frac{h}{2}, \\textbf{y}+\\frac{h}{2}\\textbf{F}(x, \\textbf{y})\\right]\n",
        "$$\n"
      ]
    },
    {
      "cell_type": "markdown",
      "metadata": {
        "id": "TtUG8OVhBt5c",
        "colab_type": "text"
      },
      "source": [
        "Utilizaremos la siguiente notación:\n",
        "\n",
        "* $\\textbf{k}_0 = \\textbf{F}(x, \\textbf{y})$: derivada de $\\textbf{y}'$ en $x$.\n",
        "* $\\textbf{k}_1 = \\textbf{F}\\left(x+\\frac{h}{2}, \\textbf{y}+\\frac{h}{2}\\textbf{k}_0\\right)$: derivada de $\\textbf{y}'$ en $x+\\frac{h}{2}$, donde $\\textbf{y}\\left(x+\\frac{h}{2}\\right)$ estimación $\\textbf{y}(x)$ utilizando una extrapolación lineal de la pendiente  $\\textbf{k}_0$.\n",
        "* $\\textbf{y}(x+h) = y(x) + h\\textbf{k}_1$\n",
        "\n",
        "### Interpretaciòn gráfica"
      ]
    },
    {
      "cell_type": "markdown",
      "metadata": {
        "id": "eZLBgFUTBt5e",
        "colab_type": "text"
      },
      "source": [
        "<img src=\"https://drive.google.com/uc?id=1ZE4W4stzNthHSTfCPP9AIK6ATwargFGB\" alt=\"Lamp\" width=\"420\" height=\"320\">\n",
        "\n"
      ]
    },
    {
      "cell_type": "markdown",
      "metadata": {
        "id": "wCk2XeqZBt5f",
        "colab_type": "text"
      },
      "source": [
        "### Notas\n",
        "* En las transparencias utilizamos $\\textbf{K}_i$, con $\\textbf{K}_i=h\\textbf{k}_i$  (es lo mismo)\n",
        "* Existen otros métodos de integración de Runge-Kutta, donde $k_1$ no se calcula en $\\frac{h}{2}$, y $\\textbf{y}(x+h)$ incluye una combinación lineal de $k_0$ and $k_1$. Nosotros nos quedamos con el método de *Euler modificado*, que es el más utilizado."
      ]
    },
    {
      "cell_type": "markdown",
      "metadata": {
        "id": "sFTENC0NBt5h",
        "colab_type": "text"
      },
      "source": [
        "### Implementación"
      ]
    },
    {
      "cell_type": "code",
      "metadata": {
        "id": "YeoSaf39Bt5i",
        "colab_type": "code",
        "colab": {}
      },
      "source": [
        "def runge_kutta_2(F, x0, y0, x, h):\n",
        "    X = []\n",
        "    Y = []\n",
        "    X.append(x0)\n",
        "    Y.append(y0)\n",
        "    while x0 < x:\n",
        "        k0 = F(x0, y0)\n",
        "        k1 = F(x0+h/2, y0 + h/2*k0)\n",
        "        y0 = y0 + h*k1\n",
        "        x0 += h\n",
        "        X.append(x0)\n",
        "        Y.append(y0)\n",
        "    return np.array(X), np.array(Y)"
      ],
      "execution_count": 0,
      "outputs": []
    },
    {
      "cell_type": "markdown",
      "metadata": {
        "id": "eSvMpQmlBt5s",
        "colab_type": "text"
      },
      "source": [
        "### El mismo ejemplo 2. Comparación Euler-Runge-Kutta"
      ]
    },
    {
      "cell_type": "code",
      "metadata": {
        "id": "Fv09IszTBt5u",
        "colab_type": "code",
        "colab": {}
      },
      "source": [
        "def F(x, y):\n",
        "    F = np.zeros(2)\n",
        "    F[0] = y[1]\n",
        "    F[1] = -0.1*y[1]-x\n",
        "    return F"
      ],
      "execution_count": 0,
      "outputs": []
    },
    {
      "cell_type": "code",
      "metadata": {
        "id": "w5a_vyTeBt53",
        "colab_type": "code",
        "outputId": "5b250c60-38ce-49ca-b974-29cda37e01fe",
        "colab": {
          "base_uri": "https://localhost:8080/",
          "height": 265
        }
      },
      "source": [
        "\n",
        "X, Y = euler(F, 0, np.array([0, 1]), 2, 0.05)\n",
        "X1, Y1 = runge_kutta_2(F, 0, np.array([0, 1]), 2, 0.05)\n",
        "plt.grid(True)\n",
        "plt.plot(X, Y[:,0], '+')\n",
        "plt.plot(X1, Y1[:,0], '.')\n",
        "plt.plot(X, 100*X-5*X**2+990*(np.exp(-0.1*X)-1))\n",
        "plt.legend(['Euler $',\n",
        "           'Runge-Kutta 2',\n",
        "           'Solución'])\n",
        "plt.show()"
      ],
      "execution_count": 0,
      "outputs": [
        {
          "output_type": "display_data",
          "data": {
            "image/png": "[encoded data removed]",
            "text/plain": [
              "<Figure size 432x288 with 1 Axes>"
            ]
          },
          "metadata": {
            "tags": [],
            "needs_background": "light"
          }
        }
      ]
    },
    {
      "cell_type": "markdown",
      "metadata": {
        "id": "3okIwVlOBt6D",
        "colab_type": "text"
      },
      "source": [
        "## Runge-Kutta de 4to Orden"
      ]
    },
    {
      "cell_type": "markdown",
      "metadata": {
        "id": "7iyLCJXhBt6E",
        "colab_type": "text"
      },
      "source": [
        "Como en el método de segundo orden , $\\textbf{y}(x+h)$ se estima a partir de una extrapolación lineal de  $\\textbf{y}(x+h)$:\n",
        "$$\n",
        "\\textbf{y}(x+h) = \\textbf{y}(x) + h \\frac{1}{6}\\left(\\textbf{k}_0 + 2\\textbf{k}_1 + 2\\textbf{k}_2 + \\textbf{k}_3\\right)\n",
        "$$\n",
        "\n",
        "La diferencia principal con el método de segundo orden, es que la pendiente utilizada en la extrapolación lineal se calcula mediante una suma ponderada de 4 pendientes: \n",
        "* $\\textbf{k}_1$ y $\\textbf{k}_2$, se estiman en $x+\\frac{h}{2}$,\n",
        "* $\\textbf{k}_0$ y $\\textbf{k}_3$ se estiman en los extremos, $x$ y $x+h$. "
      ]
    },
    {
      "cell_type": "markdown",
      "metadata": {
        "id": "cB-mijBSBt6I",
        "colab_type": "text"
      },
      "source": [
        "### Fórmulas para  $\\textbf{k}_i$:\n",
        "\n",
        "* $\\textbf{k}_0$ = $\\textbf{F}(x, \\textbf{y})$\n",
        "* $\\textbf{k}_1$ = $\\textbf{F}\\left(x+\\frac{h}{2}, \\textbf{y} + \\frac{h}{2}\\textbf{k}_0\\right)$\n",
        "* $\\textbf{k}_2$ = $\\textbf{F}\\left(x+\\frac{h}{2}, \\textbf{y} + \\frac{h}{2}\\textbf{k}_1\\right)$\n",
        "* $\\textbf{k}_3$ = $\\textbf{F}\\left(x+h, \\textbf{y} + h\\textbf{k}_2\\right)$\n",
        "\n",
        "### Representación gráfica"
      ]
    },
    {
      "cell_type": "markdown",
      "metadata": {
        "id": "x3zEdlKPBt6Q",
        "colab_type": "text"
      },
      "source": [
        "<img src=\"https://drive.google.com/uc?id=1bhhdOZb8taN9DlYZvNfsT-UwC_K7Q_vQ\" alt=\"Lamp\" width=\"420\" height=\"320\">  "
      ]
    },
    {
      "cell_type": "markdown",
      "metadata": {
        "id": "QfDku441Bt6U",
        "colab_type": "text"
      },
      "source": [
        "### Implementación "
      ]
    },
    {
      "cell_type": "code",
      "metadata": {
        "id": "JxRKpQt9Bt6h",
        "colab_type": "code",
        "colab": {}
      },
      "source": [
        "def runge_kutta_4(F, x0, y0, x, h):\n",
        "    '''\n",
        "    Retorna y(x) dado el siguiente problema de valor inicial:\n",
        "    y' = F(x, y)\n",
        "    y(x0) = y0 # condiciones iniciales\n",
        "    h es el incremento de x utilizado en la integración\n",
        "    F = [y'[0], y'[1], ..., y'[n-1]]\n",
        "    y = [y[0], y[1], ..., y[n-1]]\n",
        "    '''\n",
        "    X = []\n",
        "    Y = []\n",
        "    X.append(x0)\n",
        "    Y.append(y0)\n",
        "    while x0 < x:\n",
        "        k0 = F(x0, y0)\n",
        "        k1 = F(x0+h/2.0, y0 + h/2.0*k0)\n",
        "        k2 = F(x0 + h/2.0, y0 + h/2*k1)\n",
        "        k3 = F(x0+h, y0+h*k2)\n",
        "        y0 = y0 + h/6.0*(k0+2*k1+2.0*k2+k3)\n",
        "        x0 += h\n",
        "        X.append(x0)\n",
        "        Y.append(y0)\n",
        "    return np.array(X), np.array(Y)"
      ],
      "execution_count": 0,
      "outputs": []
    },
    {
      "cell_type": "markdown",
      "metadata": {
        "id": "84CxwqTTBt6q",
        "colab_type": "text"
      },
      "source": [
        "### Nuevamente el ejemplo 2"
      ]
    },
    {
      "cell_type": "code",
      "metadata": {
        "id": "pdrWiX-IBt6r",
        "colab_type": "code",
        "colab": {}
      },
      "source": [
        "# otra forma de definir la función\n",
        "def F(x, y):\n",
        "    return np.array([\n",
        "                    y[1],\n",
        "                    -0.1*y[1]-x\n",
        "                ])"
      ],
      "execution_count": 0,
      "outputs": []
    },
    {
      "cell_type": "code",
      "metadata": {
        "id": "5o4MQ00yBt61",
        "colab_type": "code",
        "outputId": "4187bbfc-7a64-473b-c3b3-1716c98eb159",
        "colab": {
          "base_uri": "https://localhost:8080/",
          "height": 265
        }
      },
      "source": [
        "X, Y = euler(F, 0, np.array([0, 1]), 2, 0.05)\n",
        "X1, Y1 = runge_kutta_2(F, 0, np.array([0, 1]), 2, 0.2)\n",
        "X2, Y2 = runge_kutta_4(F, 0,np.array([0.0, 1.0]), 2.0, 0.2)\n",
        "plt.grid(True)\n",
        "plt.plot(X, Y[:,0], '+')\n",
        "plt.plot( X1, Y1[:,0], '.')\n",
        "plt.plot(X2, Y2[:,0], 'x')\n",
        "plt.plot(X, 100.0*X-5.0*X**2+990.0*(np.exp(-0.1*X)-1.0))\n",
        "plt.legend(['Euler ',\n",
        "           'Runge-Kutta 2',\n",
        "            'Runge-Kutta 4',\n",
        "           'Solución'])\n",
        "plt.show()"
      ],
      "execution_count": 0,
      "outputs": [
        {
          "output_type": "display_data",
          "data": {
            "image/png": "[encoded data removed]",
            "text/plain": [
              "<Figure size 432x288 with 1 Axes>"
            ]
          },
          "metadata": {
            "tags": [],
            "needs_background": "light"
          }
        }
      ]
    },
    {
      "cell_type": "code",
      "metadata": {
        "id": "deS5qtsHBt69",
        "colab_type": "code",
        "colab": {}
      },
      "source": [
        ""
      ],
      "execution_count": 0,
      "outputs": []
    },
    {
      "cell_type": "code",
      "metadata": {
        "id": "d9jDgYFMBt7E",
        "colab_type": "code",
        "colab": {}
      },
      "source": [
        ""
      ],
      "execution_count": 0,
      "outputs": []
    }
  ]
}