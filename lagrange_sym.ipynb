{
  "nbformat": 4,
  "nbformat_minor": 0,
  "metadata": {
    "kernelspec": {
      "display_name": "Python 3",
      "language": "python",
      "name": "python3"
    },
    "language_info": {
      "codemirror_mode": {
        "name": "ipython",
        "version": 3
      },
      "file_extension": ".py",
      "mimetype": "text/x-python",
      "name": "python",
      "nbconvert_exporter": "python",
      "pygments_lexer": "ipython3",
      "version": "3.6.5"
    },
    "colab": {
      "name": "lagrange-sym.ipynb",
      "provenance": [],
      "collapsed_sections": [],
      "include_colab_link": true
    }
  },
  "cells": [
    {
      "cell_type": "markdown",
      "metadata": {
        "id": "view-in-github",
        "colab_type": "text"
      },
      "source": [
        "<a href=\"https://colab.research.google.com/github/gachet/mis-colabs/blob/master/lagrange_sym.ipynb\" target=\"_parent\"><img src=\"https://colab.research.google.com/assets/colab-badge.svg\" alt=\"Open In Colab\"/></a>"
      ]
    },
    {
      "cell_type": "markdown",
      "metadata": {
        "id": "pes-3jlmV0n9",
        "colab_type": "text"
      },
      "source": [
        "# Interpolación con polinomios de Lagrange. Polinomio en forma simbólica"
      ]
    },
    {
      "cell_type": "code",
      "metadata": {
        "id": "bgtWj41eV0oC",
        "colab_type": "code",
        "colab": {}
      },
      "source": [
        "# Interpolacion de Lagrange\n",
        "# Polinomio en forma simbólica\n",
        "import numpy as np\n",
        "import sympy as sym\n",
        "import matplotlib.pyplot as plt\n",
        "%matplotlib inline"
      ],
      "execution_count": 0,
      "outputs": []
    },
    {
      "cell_type": "code",
      "metadata": {
        "id": "z4HkY5POV0oX",
        "colab_type": "code",
        "colab": {}
      },
      "source": [
        "def lagrange(xa,ya):\n",
        "    n = len(xa)\n",
        "    x = sym.Symbol('x')\n",
        "# Polinomio\n",
        "    polinomio = 0\n",
        "    for i in range(0,n,1):\n",
        "    # Termino de Lagrange\n",
        "        termino = 1\n",
        "        for j  in range(0,n,1):\n",
        "            if (j!=i):\n",
        "                termino = termino*(x-xa[j])/(xa[i]-xa[j])\n",
        "        polinomio = polinomio + termino*ya[i]\n",
        "    pxn = sym.lambdify(x,polinomio) #convertimos a función evaluable\n",
        "    return polinomio,pxn"
      ],
      "execution_count": 0,
      "outputs": []
    },
    {
      "cell_type": "markdown",
      "metadata": {
        "id": "tVGEfaddV0op",
        "colab_type": "text"
      },
      "source": [
        "## Ejemplo 1"
      ]
    },
    {
      "cell_type": "code",
      "metadata": {
        "id": "1Q3u6uE5V0os",
        "colab_type": "code",
        "colab": {}
      },
      "source": [
        "#  Datos de prueba\n",
        "xi = np.array([0, 0.2, 0.3, 0.4])\n",
        "yi = np.array([1, 1.6, 1.7, 2.0])\n"
      ],
      "execution_count": 0,
      "outputs": []
    },
    {
      "cell_type": "code",
      "metadata": {
        "scrolled": true,
        "id": "kd5gOuX7V0o7",
        "colab_type": "code",
        "outputId": "e8e4fe71-1fc3-4c56-b6ed-6fa54401d7ef",
        "colab": {
          "base_uri": "https://localhost:8080/",
          "height": 56
        }
      },
      "source": [
        "poli,polifun =lagrange(xi,yi)\n",
        "poli"
      ],
      "execution_count": 0,
      "outputs": [
        {
          "output_type": "execute_result",
          "data": {
            "text/plain": [
              "400.0*x*(x - 0.4)*(x - 0.3) - 566.666666666667*x*(x - 0.4)*(x - 0.2) + 250.0*x*(x - 0.3)*(x - 0.2) + 8.33333333333333*(-5.0*x + 1.0)*(x - 0.4)*(x - 0.3)"
            ]
          },
          "metadata": {
            "tags": []
          },
          "execution_count": 6
        }
      ]
    },
    {
      "cell_type": "code",
      "metadata": {
        "id": "9EE6y89wV0pM",
        "colab_type": "code",
        "outputId": "ebb0e731-375e-43e8-c2d1-0c510f5b1513",
        "colab": {
          "base_uri": "https://localhost:8080/",
          "height": 36
        }
      },
      "source": [
        "px = poli.expand() #expandimos para evaluación numérica\n",
        "px"
      ],
      "execution_count": 0,
      "outputs": [
        {
          "output_type": "execute_result",
          "data": {
            "text/plain": [
              "41.666666666667*x**3 - 27.5*x**2 + 6.83333333333336*x + 1.0"
            ]
          },
          "metadata": {
            "tags": []
          },
          "execution_count": 7
        }
      ]
    },
    {
      "cell_type": "code",
      "metadata": {
        "id": "xIXxKyEcV0pa",
        "colab_type": "code",
        "outputId": "f8425c77-86ce-408b-f9f5-510ac1601c33",
        "colab": {
          "base_uri": "https://localhost:8080/",
          "height": 36
        }
      },
      "source": [
        "polifun(xi) # evaluanos con los datos para comprobar los valores del polinomio"
      ],
      "execution_count": 0,
      "outputs": [
        {
          "output_type": "execute_result",
          "data": {
            "text/plain": [
              "array([1. , 1.6, 1.7, 2. ])"
            ]
          },
          "metadata": {
            "tags": []
          },
          "execution_count": 8
        }
      ]
    },
    {
      "cell_type": "code",
      "metadata": {
        "id": "jbIpxl7dV0pn",
        "colab_type": "code",
        "outputId": "fab4622b-ba0b-46a6-ee55-2779ac40d3b0",
        "colab": {
          "base_uri": "https://localhost:8080/",
          "height": 281
        }
      },
      "source": [
        "# Puntos para la gráfica\n",
        "a = np.min(xi)\n",
        "b = np.max(xi)\n",
        "muestras = 101\n",
        "xi_p = np.linspace(a,b,muestras)\n",
        "yi_p = polifun(xi_p)\n",
        "plt.grid(True)\n",
        "plt.title('Interpolación Lagrange')\n",
        "plt.plot(xi,yi,'o', label = 'Puntos')\n",
        "plt.plot(xi_p,yi_p, label = 'Polinomio')\n",
        "plt.legend(loc='upper left',fontsize=12)\n",
        "plt.show()"
      ],
      "execution_count": 0,
      "outputs": [
        {
          "output_type": "display_data",
          "data": {
            "image/png": "[encoded data removed]",
            "text/plain": [
              "<Figure size 432x288 with 1 Axes>"
            ]
          },
          "metadata": {
            "tags": []
          }
        }
      ]
    },
    {
      "cell_type": "markdown",
      "metadata": {
        "id": "I_ZKNFcEV0p0",
        "colab_type": "text"
      },
      "source": [
        "## Ejemplo 2 (transpas)"
      ]
    },
    {
      "cell_type": "code",
      "metadata": {
        "id": "ii47u-y9V0p4",
        "colab_type": "code",
        "colab": {}
      },
      "source": [
        "#  Datos de prueba\n",
        "xi = np.array([1, -1, 2 ])\n",
        "yi = np.array([6,0,12])"
      ],
      "execution_count": 0,
      "outputs": []
    },
    {
      "cell_type": "code",
      "metadata": {
        "scrolled": true,
        "id": "VFfQ18HcV0qH",
        "colab_type": "code",
        "outputId": "a795a330-2f64-4416-965f-0a0708650f8d",
        "colab": {
          "base_uri": "https://localhost:8080/",
          "height": 36
        }
      },
      "source": [
        "poli,polifun =lagrange(xi,yi)\n",
        "poli"
      ],
      "execution_count": 0,
      "outputs": [
        {
          "output_type": "execute_result",
          "data": {
            "text/plain": [
              "-6*(x/2 + 1/2)*(x - 2) + 4*(x - 1)*(x + 1)"
            ]
          },
          "metadata": {
            "tags": []
          },
          "execution_count": 11
        }
      ]
    },
    {
      "cell_type": "code",
      "metadata": {
        "id": "2V8tyjk8V0qU",
        "colab_type": "code",
        "outputId": "b48fef74-fbd8-496f-9888-2c8b56823f45",
        "colab": {
          "base_uri": "https://localhost:8080/",
          "height": 36
        }
      },
      "source": [
        "px = poli.expand() #expandimos para evaluación numérica\n",
        "px"
      ],
      "execution_count": 0,
      "outputs": [
        {
          "output_type": "execute_result",
          "data": {
            "text/plain": [
              "x**2 + 3*x + 2"
            ]
          },
          "metadata": {
            "tags": []
          },
          "execution_count": 12
        }
      ]
    },
    {
      "cell_type": "code",
      "metadata": {
        "id": "JDzBxxIeV0qh",
        "colab_type": "code",
        "outputId": "a012822f-d1e1-49b0-cb89-44c589e42725",
        "colab": {
          "base_uri": "https://localhost:8080/",
          "height": 36
        }
      },
      "source": [
        "polifun(xi) # evaluanos con los datos para comprobar los valores del polinomio"
      ],
      "execution_count": 0,
      "outputs": [
        {
          "output_type": "execute_result",
          "data": {
            "text/plain": [
              "array([ 6.,  0., 12.])"
            ]
          },
          "metadata": {
            "tags": []
          },
          "execution_count": 13
        }
      ]
    },
    {
      "cell_type": "code",
      "metadata": {
        "id": "ibG0u22gV0qv",
        "colab_type": "code",
        "outputId": "9393cb8a-5b1c-4c53-df73-8ffc95c1ceca",
        "colab": {
          "base_uri": "https://localhost:8080/",
          "height": 281
        }
      },
      "source": [
        "# Puntos para la gráfica\n",
        "a = np.min(xi)\n",
        "b = np.max(xi)\n",
        "muestras = 101\n",
        "xi_p = np.linspace(a,b,muestras)\n",
        "yi_p = polifun(xi_p)\n",
        "plt.grid(True)\n",
        "plt.title('Interpolación Lagrange')\n",
        "plt.plot(xi,yi,'o', label = 'Puntos')\n",
        "plt.plot(xi_p,yi_p, label = 'Polinomio')\n",
        "plt.legend(loc='upper left',fontsize=12)\n",
        "plt.show()"
      ],
      "execution_count": 0,
      "outputs": [
        {
          "output_type": "display_data",
          "data": {
            "image/png": "[encoded data removed]",
            "text/plain": [
              "<Figure size 432x288 with 1 Axes>"
            ]
          },
          "metadata": {
            "tags": []
          }
        }
      ]
    },
    {
      "cell_type": "code",
      "metadata": {
        "id": "WuoKWI9gmIkB",
        "colab_type": "code",
        "colab": {}
      },
      "source": [
        "xi = np.array([1986,1988,1990,1992,1994,1996])\n",
        "yi = np.array([113.5,132.2,138.7,141.5,137.6,144.2])"
      ],
      "execution_count": 0,
      "outputs": []
    },
    {
      "cell_type": "code",
      "metadata": {
        "id": "FVxH7cmqV0q8",
        "colab_type": "code",
        "outputId": "690d3f90-2956-4fd5-a68d-951b9042c784",
        "colab": {
          "base_uri": "https://localhost:8080/",
          "height": 56
        }
      },
      "source": [
        "poli,polifun =lagrange(xi,yi)\n",
        "poli"
      ],
      "execution_count": 0,
      "outputs": [
        {
          "output_type": "execute_result",
          "data": {
            "text/plain": [
              "0.0591145833333333*(-x/2 + 994)*(x - 1996)*(x - 1994)*(x - 1992)*(x - 1990) + 0.375520833333333*(x/10 - 993/5)*(x - 1994)*(x - 1992)*(x - 1990)*(x - 1988) - 1.43333333333333*(x/8 - 993/4)*(x - 1996)*(x - 1992)*(x - 1990)*(x - 1988) + 2.2109375*(x/6 - 331)*(x - 1996)*(x - 1994)*(x - 1990)*(x - 1988) - 1.44479166666667*(x/4 - 993/2)*(x - 1996)*(x - 1994)*(x - 1992)*(x - 1988) + 0.344270833333333*(x/2 - 993)*(x - 1996)*(x - 1994)*(x - 1992)*(x - 1990)"
            ]
          },
          "metadata": {
            "tags": []
          },
          "execution_count": 16
        }
      ]
    },
    {
      "cell_type": "code",
      "metadata": {
        "id": "Hb34ZxNkV0rG",
        "colab_type": "code",
        "outputId": "c62ef520-b2e0-4f0b-db31-9233c8c387b2",
        "colab": {
          "base_uri": "https://localhost:8080/",
          "height": 56
        }
      },
      "source": [
        "px = poli.expand() #expandimos para evaluación numérica\n",
        "px"
      ],
      "execution_count": 0,
      "outputs": [
        {
          "output_type": "execute_result",
          "data": {
            "text/plain": [
              "0.00825520833333326*x**5 - 82.1692708333321*x**4 + 327152.782812495*x**3 - 651270802.535408*x**2 + 648249816648.047*x - 258097018987240.0"
            ]
          },
          "metadata": {
            "tags": []
          },
          "execution_count": 17
        }
      ]
    },
    {
      "cell_type": "code",
      "metadata": {
        "id": "-8UsyGujmifV",
        "colab_type": "code",
        "outputId": "7c5c0dc8-ee9c-4133-cede-6385c89b18d9",
        "colab": {
          "base_uri": "https://localhost:8080/",
          "height": 36
        }
      },
      "source": [
        "polifun(xi)"
      ],
      "execution_count": 0,
      "outputs": [
        {
          "output_type": "execute_result",
          "data": {
            "text/plain": [
              "array([113.5, 132.2, 138.7, 141.5, 137.6, 144.2])"
            ]
          },
          "metadata": {
            "tags": []
          },
          "execution_count": 18
        }
      ]
    },
    {
      "cell_type": "code",
      "metadata": {
        "id": "DbXLNqAfmspW",
        "colab_type": "code",
        "outputId": "9b21ecb6-f418-41a1-99ac-f27094567630",
        "colab": {
          "base_uri": "https://localhost:8080/",
          "height": 281
        }
      },
      "source": [
        "# Puntos para la gráfica\n",
        "a = np.min(xi)\n",
        "b = np.max(xi)\n",
        "muestras = 101\n",
        "xi_p = np.linspace(a,b,muestras)\n",
        "yi_p = polifun(xi_p)\n",
        "plt.grid(True)\n",
        "plt.title('Interpolación Lagrange')\n",
        "plt.plot(xi,yi,'o', label = 'Puntos')\n",
        "plt.plot(xi_p,yi_p, label = 'Polinomio')\n",
        "plt.legend(loc='upper left',fontsize=12)\n",
        "plt.show()"
      ],
      "execution_count": 0,
      "outputs": [
        {
          "output_type": "display_data",
          "data": {
            "image/png": "[encoded data removed]",
            "text/plain": [
              "<Figure size 432x288 with 1 Axes>"
            ]
          },
          "metadata": {
            "tags": []
          }
        }
      ]
    }
  ]
}