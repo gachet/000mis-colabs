{
  "nbformat": 4,
  "nbformat_minor": 0,
  "metadata": {
    "celltoolbar": "Raw Cell Format",
    "kernelspec": {
      "display_name": "Python 3",
      "language": "python",
      "name": "python3"
    },
    "language_info": {
      "codemirror_mode": {
        "name": "ipython",
        "version": 3
      },
      "file_extension": ".py",
      "mimetype": "text/x-python",
      "name": "python",
      "nbconvert_exporter": "python",
      "pygments_lexer": "ipython3",
      "version": "3.5.1"
    },
    "colab": {
      "name": "Lecture01.ipynb",
      "provenance": [],
      "include_colab_link": true
    }
  },
  "cells": [
    {
      "cell_type": "markdown",
      "metadata": {
        "id": "view-in-github",
        "colab_type": "text"
      },
      "source": [
        "<a href=\"https://colab.research.google.com/github/gachet/mis-colabs/blob/master/Lecture01.ipynb\" target=\"_parent\"><img src=\"https://colab.research.google.com/assets/colab-badge.svg\" alt=\"Open In Colab\"/></a>"
      ]
    },
    {
      "cell_type": "markdown",
      "metadata": {
        "id": "0CUU1vhvUar5",
        "colab_type": "text"
      },
      "source": [
        "# Lecture 1: solving ordinary differential equations\n",
        "\n",
        "This lecture introduces ordinary differential equations, and some techniques for solving first order equations. This notebook uses computer algebra via [Sympy](<http://sympy.org/>) to solve some ODE examples from the lecture notes."
      ]
    },
    {
      "cell_type": "markdown",
      "metadata": {
        "id": "yGS51MEPUar8",
        "colab_type": "text"
      },
      "source": [
        "# Importing SymPy\n",
        "\n",
        "To use Sympy, we first need to import it and call `init_printing()` to get nicely typeset equations:"
      ]
    },
    {
      "cell_type": "code",
      "metadata": {
        "id": "AvC6gzYPUasB",
        "colab_type": "code",
        "colab": {}
      },
      "source": [
        "import sympy\n",
        "from sympy import symbols, Eq, Derivative, init_printing, Function, dsolve, exp, classify_ode, checkodesol\n",
        "\n",
        "# This initialises pretty printing\n",
        "init_printing()\n",
        "from IPython.display import display\n",
        "\n",
        "# Support for interactive plots\n",
        "from ipywidgets import interact\n",
        "\n",
        "# This command makes plots appear inside the browser window\n",
        "%matplotlib inline"
      ],
      "execution_count": 0,
      "outputs": []
    },
    {
      "cell_type": "markdown",
      "metadata": {
        "id": "-1eTy4ClUasd",
        "colab_type": "text"
      },
      "source": [
        "# Example: car breaking\n",
        "\n",
        "During braking a car’s velocity is given by $v = v_{0} e^{−t/\\tau}$. Calculate the distance travelled.\n",
        "\n",
        "We first define the symbols in the equation ($t$, $\\tau$ and $v_{0}$), and the function ($x$, for the displacement):"
      ]
    },
    {
      "cell_type": "code",
      "metadata": {
        "id": "Yj1K3jjJUasg",
        "colab_type": "code",
        "colab": {}
      },
      "source": [
        "t, tau, v0 = symbols(\"t tau v0\")\n",
        "x = Function(\"x\")"
      ],
      "execution_count": 0,
      "outputs": []
    },
    {
      "cell_type": "markdown",
      "metadata": {
        "id": "yFloawXyUasv",
        "colab_type": "text"
      },
      "source": [
        "Next, we define the differential equation, and print it to the screen for checking:"
      ]
    },
    {
      "cell_type": "code",
      "metadata": {
        "id": "KI0qeRutUasz",
        "colab_type": "code",
        "outputId": "3ed4fa67-ade9-4461-ffdb-022548157e82",
        "colab": {}
      },
      "source": [
        "eqn = Eq(Derivative(x(t), t), v0*exp(-t/(tau)))\n",
        "display(eqn)"
      ],
      "execution_count": 0,
      "outputs": [
        {
          "output_type": "display_data",
          "data": {
            "image/png": "[encoded data removed]",
            "text/latex": "$$\\frac{d}{d t} x{\\left (t \\right )} = v_{0} e^{- \\frac{t}{\\tau}}$$",
            "text/plain": [
              "               -t \n",
              "               ───\n",
              "d               τ \n",
              "──(x(t)) = v₀⋅ℯ   \n",
              "dt                "
            ]
          },
          "metadata": {
            "tags": []
          }
        }
      ]
    },
    {
      "cell_type": "markdown",
      "metadata": {
        "id": "GW84vxPmUatC",
        "colab_type": "text"
      },
      "source": [
        "The `dsolve` function solves the differential equation symbolically:"
      ]
    },
    {
      "cell_type": "code",
      "metadata": {
        "id": "IqMEv0R3UatF",
        "colab_type": "code",
        "outputId": "e89305ee-56da-4e27-fd8d-e027a635dd1a",
        "colab": {}
      },
      "source": [
        "x = dsolve(eqn, x(t))\n",
        "display(x)"
      ],
      "execution_count": 0,
      "outputs": [
        {
          "output_type": "display_data",
          "data": {
            "image/png": "[encoded data removed]",
            "text/latex": "$$x{\\left (t \\right )} = C_{1} - \\tau v_{0} e^{- \\frac{t}{\\tau}}$$",
            "text/plain": [
              "                  -t \n",
              "                  ───\n",
              "                   τ \n",
              "x(t) = C₁ - τ⋅v₀⋅ℯ   "
            ]
          },
          "metadata": {
            "tags": []
          }
        }
      ]
    },
    {
      "cell_type": "markdown",
      "metadata": {
        "id": "N4kGeIiCUatT",
        "colab_type": "text"
      },
      "source": [
        "where $C_{1}$ is a constant. As expected for a first-order equation, there is one constant.\n",
        "\n",
        "SymPy is not yet very good at eliminating constants from initial conditions, so we will do this manually assuming that $x = 0$ and $t = 0$:"
      ]
    },
    {
      "cell_type": "code",
      "metadata": {
        "id": "stq7DKZVUatV",
        "colab_type": "code",
        "outputId": "b6647013-4713-46dc-f882-a67c83bf4378",
        "colab": {}
      },
      "source": [
        "x = x.subs('C1', v0*tau)\n",
        "display(x)"
      ],
      "execution_count": 0,
      "outputs": [
        {
          "output_type": "display_data",
          "data": {
            "image/png": "[encoded data removed]",
            "text/latex": "$$x{\\left (t \\right )} = \\tau v_{0} - \\tau v_{0} e^{- \\frac{t}{\\tau}}$$",
            "text/plain": [
              "                    -t \n",
              "                    ───\n",
              "                     τ \n",
              "x(t) = τ⋅v₀ - τ⋅v₀⋅ℯ   "
            ]
          },
          "metadata": {
            "tags": []
          }
        }
      ]
    },
    {
      "cell_type": "markdown",
      "metadata": {
        "id": "2rCvt6sMUatl",
        "colab_type": "text"
      },
      "source": [
        "Specifying a value for $v_{0}$, we create an interactive plot of $x$ as a function of the parameter $\\tau$:"
      ]
    },
    {
      "cell_type": "code",
      "metadata": {
        "id": "rkDBKiiUUatn",
        "colab_type": "code",
        "outputId": "f341ee71-5af0-4054-e2f9-4387b22a0e85",
        "colab": {
          "referenced_widgets": [
            "38051ac9174a4e1c89fc8f182e9ca77c"
          ]
        }
      },
      "source": [
        "x = x.subs(v0, 100)\n",
        "\n",
        "def plot(τ=1.0):\n",
        "    x1 = x.subs(tau, τ)\n",
        "\n",
        "    # Plot position vs time\n",
        "    sympy.plot(x1.args[1], (t, 0.0, 10.0), xlabel=\"time\", ylabel=\"position\");\n",
        "\n",
        "interact(plot, τ=(0.0, 10, 0.2));"
      ],
      "execution_count": 0,
      "outputs": [
        {
          "output_type": "display_data",
          "data": {
            "application/vnd.jupyter.widget-view+json": {
              "model_id": "38051ac9174a4e1c89fc8f182e9ca77c",
              "version_major": 2,
              "version_minor": 0
            },
            "text/plain": [
              "A Jupyter Widget"
            ]
          },
          "metadata": {
            "tags": []
          }
        }
      ]
    },
    {
      "cell_type": "markdown",
      "metadata": {
        "id": "CMAzkbneUaty",
        "colab_type": "text"
      },
      "source": [
        "# Classification\n",
        "\n",
        "We can ask SymPy to classify our ODE, e.g. show that it is first order):"
      ]
    },
    {
      "cell_type": "code",
      "metadata": {
        "id": "d99NbvhgUat0",
        "colab_type": "code",
        "outputId": "ba24f607-17ae-4765-aece-2adbd6ad856b",
        "colab": {}
      },
      "source": [
        "classify_ode(eqn)"
      ],
      "execution_count": 0,
      "outputs": [
        {
          "output_type": "execute_result",
          "data": {
            "text/plain": [
              "('separable',\n",
              " '1st_exact',\n",
              " '1st_linear',\n",
              " 'Bernoulli',\n",
              " '1st_power_series',\n",
              " 'lie_group',\n",
              " 'nth_linear_constant_coeff_undetermined_coefficients',\n",
              " 'nth_linear_constant_coeff_variation_of_parameters',\n",
              " 'separable_Integral',\n",
              " '1st_exact_Integral',\n",
              " '1st_linear_Integral',\n",
              " 'Bernoulli_Integral',\n",
              " 'nth_linear_constant_coeff_variation_of_parameters_Integral')"
            ]
          },
          "metadata": {
            "tags": []
          },
          "execution_count": 7
        }
      ]
    },
    {
      "cell_type": "markdown",
      "metadata": {
        "id": "SGdMloSOUauA",
        "colab_type": "text"
      },
      "source": [
        "# Parachutist\n",
        "\n",
        "Find the variation of speed with time of a parachutist subject to a drag force of $kv^{2}$.\n",
        "\n",
        "The equations to solve is\n",
        "\n",
        "$$\n",
        "\\frac{m}{k} \\frac{dv}{dt} = \\alpha^{2} - v^{2}\n",
        "$$\n",
        "\n",
        "where $m$ is mass, $k$ is a prescribed constant, $v$ is the velocity, $t$ is time and $\\alpha^{2} = mg/k$ ($g$ is acceleration due to gravity).\n",
        "\n",
        "We specify the symbols, unknown function $v$ and the differential equation"
      ]
    },
    {
      "cell_type": "code",
      "metadata": {
        "id": "UX1QkMgJUauB",
        "colab_type": "code",
        "outputId": "232b4f5a-0f21-4450-b9ea-94790046169f",
        "colab": {}
      },
      "source": [
        "t, m, k, alpha = symbols(\"t m k alpha\")\n",
        "v = Function(\"v\")\n",
        "eqn = Eq((m/k)*Derivative(v(t), t), alpha*alpha - v(t)*v(t))\n",
        "display(eqn)"
      ],
      "execution_count": 0,
      "outputs": [
        {
          "output_type": "display_data",
          "data": {
            "image/png": "[encoded data removed]",
            "text/latex": "$$\\frac{m}{k} \\frac{d}{d t} v{\\left (t \\right )} = \\alpha^{2} - v^{2}{\\left (t \\right )}$$",
            "text/plain": [
              "  d                    \n",
              "m⋅──(v(t))             \n",
              "  dt          2    2   \n",
              "────────── = α  - v (t)\n",
              "    k                  "
            ]
          },
          "metadata": {
            "tags": []
          }
        }
      ]
    },
    {
      "cell_type": "markdown",
      "metadata": {
        "id": "Nn5LFZbbUauN",
        "colab_type": "text"
      },
      "source": [
        "First, let's classify the ODE:"
      ]
    },
    {
      "cell_type": "code",
      "metadata": {
        "id": "aBXbBRGTUauQ",
        "colab_type": "code",
        "outputId": "a8dba434-d95c-4c59-fbd2-57cceb524ddf",
        "colab": {}
      },
      "source": [
        "classify_ode(eqn)"
      ],
      "execution_count": 0,
      "outputs": [
        {
          "output_type": "execute_result",
          "data": {
            "text/plain": [
              "('separable', '1st_power_series', 'lie_group', 'separable_Integral')"
            ]
          },
          "metadata": {
            "tags": []
          },
          "execution_count": 9
        }
      ]
    },
    {
      "cell_type": "markdown",
      "metadata": {
        "id": "fNMbB2n7Uaub",
        "colab_type": "text"
      },
      "source": [
        "We see that it is not linear, but it is separable. Using `dsolve` again,"
      ]
    },
    {
      "cell_type": "code",
      "metadata": {
        "id": "e5v01joaUaud",
        "colab_type": "code",
        "outputId": "005df690-4502-421c-fbf5-0e092a3d9355",
        "colab": {}
      },
      "source": [
        "v = dsolve(eqn, v(t))\n",
        "display(v)"
      ],
      "execution_count": 0,
      "outputs": [
        {
          "output_type": "display_data",
          "data": {
            "image/png": "[encoded data removed]",
            "text/latex": "$$v{\\left (t \\right )} = - \\frac{\\alpha}{\\tanh{\\left (\\frac{\\alpha k}{m} \\left(C_{1} - t\\right) \\right )}}$$",
            "text/plain": [
              "              -α         \n",
              "v(t) = ──────────────────\n",
              "           ⎛α⋅k⋅(C₁ - t)⎞\n",
              "       tanh⎜────────────⎟\n",
              "           ⎝     m      ⎠"
            ]
          },
          "metadata": {
            "tags": []
          }
        }
      ]
    },
    {
      "cell_type": "markdown",
      "metadata": {
        "id": "8s9K6RmWUaup",
        "colab_type": "text"
      },
      "source": [
        "SymPy can verify that an expression is a solution to an ODE:"
      ]
    },
    {
      "cell_type": "code",
      "metadata": {
        "id": "3XeDdyybUaus",
        "colab_type": "code",
        "outputId": "0cfb159c-f7be-42e6-a3f2-4fcf0093512a",
        "colab": {}
      },
      "source": [
        "print(\"Is v a solution to the ODE: {}\".format(checkodesol(eqn, v)))"
      ],
      "execution_count": 0,
      "outputs": [
        {
          "output_type": "stream",
          "text": [
            "Is v a solution to the ODE: (True, 0)\n"
          ],
          "name": "stdout"
        }
      ]
    },
    {
      "cell_type": "markdown",
      "metadata": {
        "id": "q1Lp5kWmUau3",
        "colab_type": "text"
      },
      "source": [
        "Try adding the code to plot velocity $v$ against time $t$."
      ]
    }
  ]
}