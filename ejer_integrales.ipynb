{
  "nbformat": 4,
  "nbformat_minor": 0,
  "metadata": {
    "kernelspec": {
      "display_name": "Python 3",
      "language": "python",
      "name": "python3"
    },
    "language_info": {
      "codemirror_mode": {
        "name": "ipython",
        "version": 3
      },
      "file_extension": ".py",
      "mimetype": "text/x-python",
      "name": "python",
      "nbconvert_exporter": "python",
      "pygments_lexer": "ipython3",
      "version": "3.6.5"
    },
    "colab": {
      "name": "ejer-integrales.ipynb",
      "provenance": [],
      "collapsed_sections": [],
      "include_colab_link": true
    }
  },
  "cells": [
    {
      "cell_type": "markdown",
      "metadata": {
        "id": "view-in-github",
        "colab_type": "text"
      },
      "source": [
        "<a href=\"https://colab.research.google.com/github/gachet/mis-colabs/blob/master/ejer_integrales.ipynb\" target=\"_parent\"><img src=\"https://colab.research.google.com/assets/colab-badge.svg\" alt=\"Open In Colab\"/></a>"
      ]
    },
    {
      "cell_type": "markdown",
      "metadata": {
        "id": "om3M7MF3bodx",
        "colab_type": "text"
      },
      "source": [
        "# Ejercicios Integración numérica "
      ]
    },
    {
      "cell_type": "code",
      "metadata": {
        "id": "nZaJEq6Nbod2",
        "colab_type": "code",
        "colab": {}
      },
      "source": [
        "import numpy as np\n",
        "import matplotlib.pyplot as plt\n",
        "%matplotlib inline"
      ],
      "execution_count": 0,
      "outputs": []
    },
    {
      "cell_type": "markdown",
      "metadata": {
        "id": "OKloTYmLboeM",
        "colab_type": "text"
      },
      "source": [
        "### 1.- Escribir en python una función  de nombre \"riemann\" que acepte como entrada los siguientes parámetros:<br>\n",
        "\n",
        "- f : función\n",
        "        función vectorizada de una variable\n",
        "- a,b : números\n",
        "            límites del intervalo de integración [a,b]\n",
        "- N  : entero\n",
        "        Nñumero de subintervalos de igual longitud en la partición [a,b]\n",
        "- tipo : string\n",
        "        Tipo de la sunma de Riemann a utilizarse :\n",
        "            right : Suma de Riemann con los puntos de la derecha\n",
        "            left : Suma de Riemann con los puntos  de la izquierda\n",
        "            midpoint (default) : Suma de Riemann con los puntos intermedios\n",
        "      \n"
      ]
    },
    {
      "cell_type": "markdown",
      "metadata": {
        "id": "Cfjsxy_eboeU",
        "colab_type": "text"
      },
      "source": [
        "### Retorna\n",
        "   \n",
        "- float, aproximación de la integral mediante la suma de Riemann\n",
        "- Ejemplo de llamada : \n",
        "   - f = lambda x: np.sin(x)\n",
        "   - riemann(f,0,np.pi/2,100,'left')"
      ]
    },
    {
      "cell_type": "markdown",
      "metadata": {
        "id": "WkLhA1l_boeX",
        "colab_type": "text"
      },
      "source": [
        "### 2.- Escribir en python una función  de nombre \"trapz\" que acepte como entrada los siguientes parámetros:<br>\n",
        "\n",
        "- f : función\n",
        "        función vectorizada de una variable\n",
        "- a,b : números\n",
        "            límites del intervalo de integración [a,b]\n",
        "- N  : entero\n",
        "        Nñumero de subintervalos de igual longitud en la partición [a,b]\n"
      ]
    },
    {
      "cell_type": "markdown",
      "metadata": {
        "id": "9NSfmudtboea",
        "colab_type": "text"
      },
      "source": [
        "### Retorna\n",
        "   \n",
        "- float, aproximación de la integral mediante la regla del trapecio con N subintervalos de igual longitud.\n",
        "- Ejemplo de llamada : \n",
        "   - f = lambda x: np.sin(x)\n",
        "   - trapz(f,0,np.pi/2,100)"
      ]
    },
    {
      "cell_type": "markdown",
      "metadata": {
        "id": "nRyEuXK1boed",
        "colab_type": "text"
      },
      "source": [
        "### función para dibujar la integral"
      ]
    },
    {
      "cell_type": "code",
      "metadata": {
        "id": "J8g6CGE5boef",
        "colab_type": "code",
        "outputId": "8ab47631-590a-406d-8cbf-5e69628ea47e",
        "colab": {
          "base_uri": "https://localhost:8080/",
          "height": 281
        }
      },
      "source": [
        "import numpy as np\n",
        "import matplotlib.pyplot as plt\n",
        "%matplotlib inline\n",
        "#Ejemplom dibujo de trapecios\n",
        "f = lambda x : np.sin(x)\n",
        "a = 0; b = np.pi/2; N = 10\n",
        "\n",
        "# valores x e y para la regla del trapecio\n",
        "x = np.linspace(a,b,N+1)\n",
        "y = f(x)\n",
        "\n",
        "# X e Y valores para dibujar  y=f(x)\n",
        "X = np.linspace(a,b,100)\n",
        "Y = f(X)\n",
        "plt.plot(X,Y)\n",
        "\n",
        "for i in range(N):\n",
        "    xs = [x[i],x[i],x[i+1],x[i+1]]\n",
        "    ys = [0,f(x[i]),f(x[i+1]),0]\n",
        "    plt.fill(xs,ys,'b',edgecolor='b',alpha=0.2)\n",
        "\n",
        "plt.title('Regla del Trapecio , N = {}'.format(N))\n",
        "plt.show()"
      ],
      "execution_count": 0,
      "outputs": [
        {
          "output_type": "display_data",
          "data": {
            "image/png": "[encoded data removed]",
            "text/plain": [
              "<Figure size 432x288 with 1 Axes>"
            ]
          },
          "metadata": {
            "tags": [],
            "needs_background": "light"
          }
        }
      ]
    },
    {
      "cell_type": "markdown",
      "metadata": {
        "id": "eeF4AfDWboew",
        "colab_type": "text"
      },
      "source": [
        "### Regla de Simpson\n",
        "Aproxima la integral $\\displaystyle \\int_a^b f(x)\\, dx $ mediante la suma :\n",
        "$$\n",
        "    (dx/3) \\sum_{k=1}^{N/2} (f(x_{2i-2} + 4f(x_{2i-1}) + f(x_{2i}))$$\n",
        "    \n",
        "  Donde $ x_i = a + i*dx $ y $ dx = (b - a)/N $"
      ]
    },
    {
      "cell_type": "code",
      "metadata": {
        "id": "hTZeIz_kboez",
        "colab_type": "code",
        "colab": {}
      },
      "source": [
        "def simps(f,a,b,N=50):\n",
        "    '''Approxima la integral de f(x) mediante la regla de Simpson de 1/3.\n",
        "\n",
        "    Parametros\n",
        "    ----------\n",
        "    f : función vectorizada de una variable\n",
        "    a , b : n-umeros\n",
        "        Intervalo de integracióm [a,b]\n",
        "    N : (par) entero\n",
        "        Número de subintervalos [a,b]\n",
        "\n",
        "    Retorna\n",
        "    -------\n",
        "    float\n",
        "        Aproximación de la integral de f(x) desde a a b utiliando\n",
        "        la regla de Simpson con N subintervalos de igual longitud\n",
        "\n",
        "    Ejemplos\n",
        "    --------\n",
        "    >>> simps(lambda x : 3*x**2,0,1,10)\n",
        "    1.0\n",
        "    '''\n",
        "    if N % 2 == 1:\n",
        "        raise ValueError(\"N debe ser un entero par.\")\n",
        "    dx = (b-a)/N\n",
        "    x = np.linspace(a,b,N+1)\n",
        "    y = f(x)\n",
        "    S = dx/3 * np.sum(y[0:-1:2] + 4*y[1::2] + y[2::2])\n",
        "    return S"
      ],
      "execution_count": 0,
      "outputs": []
    },
    {
      "cell_type": "code",
      "metadata": {
        "id": "RuV1Z6HZbofA",
        "colab_type": "code",
        "outputId": "bbd86060-bd93-41ba-d25f-e1a3cde65fe0",
        "colab": {
          "base_uri": "https://localhost:8080/",
          "height": 36
        }
      },
      "source": [
        "simps(lambda x : 3*x**2,0,1,10)"
      ],
      "execution_count": 0,
      "outputs": [
        {
          "output_type": "execute_result",
          "data": {
            "text/plain": [
              "1.0"
            ]
          },
          "metadata": {
            "tags": []
          },
          "execution_count": 4
        }
      ]
    },
    {
      "cell_type": "markdown",
      "metadata": {
        "id": "trEZoAngbofO",
        "colab_type": "text"
      },
      "source": [
        "### 3.- Aproxime las siguientes integrales utilizando las reglas de Riemann del punto medio, trapezoidal y Simnpson con los valores indicados de n, escribir los resultados en una tabla para poder comparar los resultados.\n",
        "\n",
        "<img src=\"https://drive.google.com/uc?id=1t9YACQAeJLjC1-xZ8FUoaNunymgUBCsZ\" alt=\"Lamp\" width=\"3420\" height=\"220\">\n"
      ]
    },
    {
      "cell_type": "markdown",
      "metadata": {
        "id": "qg4u_ssfbofQ",
        "colab_type": "text"
      },
      "source": [
        "### 4.- Un auto completa una vuelta a un circuito de carreras en 84 seg. La velocidad del auto cada 6 seg. se obtuvo mediante una radar y se da desde el principio de la vuelta en pies/seg, de acuerdo a la siguiente tabla:\n",
        "\n",
        "<img src=\"https://drive.google.com/uc?id=13t0TaoiOpEvi7cw-umjro-0wMewEYfAN\" alt=\"Lamp\" width=\"620\" height=\"120\">\n",
        "\n",
        "### ¿Cuál es la longitud de la pista?"
      ]
    },
    {
      "cell_type": "code",
      "metadata": {
        "id": "iuCd4K1sbnaG",
        "colab_type": "code",
        "colab": {}
      },
      "source": [
        "xi = np.array([0,6,12,18,24,30,36,42,48,54,60,66,72,78,84])\n",
        "yi = np.array([124,134,148,156,147,133,121,109,99,85,78,89,104,116,123])"
      ],
      "execution_count": 0,
      "outputs": []
    },
    {
      "cell_type": "code",
      "metadata": {
        "id": "6XF59R09dVnp",
        "colab_type": "code",
        "outputId": "a18c3eae-1978-4f08-d509-7e40ce10dc00",
        "colab": {
          "base_uri": "https://localhost:8080/",
          "height": 36
        }
      },
      "source": [
        "yi[1:3]"
      ],
      "execution_count": 0,
      "outputs": [
        {
          "output_type": "execute_result",
          "data": {
            "text/plain": [
              "array([134, 148])"
            ]
          },
          "metadata": {
            "tags": []
          },
          "execution_count": 6
        }
      ]
    },
    {
      "cell_type": "code",
      "metadata": {
        "id": "X16P0xCXboPZ",
        "colab_type": "code",
        "colab": {}
      },
      "source": [
        "def trapz2(x,fx):\n",
        "    print(x)\n",
        "    print(fx) \n",
        "    y_right = fx[1:] # right endpoints\n",
        "    y_left = fx[:-1] # left endpoints\n",
        "    N = len(x)-1\n",
        "    dx = (x[-1] - x[0])/N\n",
        "    T = (dx/2) * np.sum(y_right + y_left)\n",
        "    return T"
      ],
      "execution_count": 0,
      "outputs": []
    },
    {
      "cell_type": "markdown",
      "metadata": {
        "id": "jPssbHQuO42z",
        "colab_type": "text"
      },
      "source": [
        ""
      ]
    },
    {
      "cell_type": "code",
      "metadata": {
        "id": "chRR_Z_Sc9wB",
        "colab_type": "code",
        "outputId": "0d7c8820-92d9-49e4-cf3d-19440cbf4179",
        "colab": {
          "base_uri": "https://localhost:8080/",
          "height": 73
        }
      },
      "source": [
        "trapz2(xi,yi)"
      ],
      "execution_count": 0,
      "outputs": [
        {
          "output_type": "stream",
          "text": [
            "[ 0  6 12 18 24 30 36 42 48 54 60 66 72 78 84]\n",
            "[124 134 148 156 147 133 121 109  99  85  78  89 104 116 123]\n"
          ],
          "name": "stdout"
        },
        {
          "output_type": "execute_result",
          "data": {
            "text/plain": [
              "9855.0"
            ]
          },
          "metadata": {
            "tags": []
          },
          "execution_count": 8
        }
      ]
    },
    {
      "cell_type": "code",
      "metadata": {
        "id": "cehXWKxvlilH",
        "colab_type": "code",
        "colab": {}
      },
      "source": [
        "def trapz3(x,fx):\n",
        "   \n",
        "   \n",
        "    N = len(x)-1\n",
        "    dx = (x[-1] - x[0])/N\n",
        "    suma = (fx[0]+fx[-1])/2\n",
        "    for i in range(1,N):\n",
        "      suma = suma + fx[i]\n",
        "    suma = suma*dx\n",
        "    return suma"
      ],
      "execution_count": 0,
      "outputs": []
    },
    {
      "cell_type": "code",
      "metadata": {
        "id": "Z6pHuLAGnPmr",
        "colab_type": "code",
        "outputId": "99e1087d-d1d3-48a6-caca-e534042027e6",
        "colab": {
          "base_uri": "https://localhost:8080/",
          "height": 36
        }
      },
      "source": [
        "trapz3(xi,yi)"
      ],
      "execution_count": 0,
      "outputs": [
        {
          "output_type": "execute_result",
          "data": {
            "text/plain": [
              "9855.0"
            ]
          },
          "metadata": {
            "tags": []
          },
          "execution_count": 10
        }
      ]
    },
    {
      "cell_type": "code",
      "metadata": {
        "id": "hgOS8zf_qL21",
        "colab_type": "code",
        "colab": {}
      },
      "source": [
        "def simps(x,fx):\n",
        "    N = len(x)-1\n",
        "    dx = (x[-1] - x[0])/N\n",
        "    if N % 2 == 1:\n",
        "        raise ValueError(\"N must be an even integer.\")\n",
        "    S = dx/3 * np.sum(fx[0:-1:2] + 4*fx[1::2] + f[2::2])\n",
        "    return S"
      ],
      "execution_count": 0,
      "outputs": []
    },
    {
      "cell_type": "code",
      "metadata": {
        "id": "hEt0iINrqzPc",
        "colab_type": "code",
        "outputId": "63107ef0-1855-4bd8-c1b1-6f319434f17a",
        "colab": {
          "base_uri": "https://localhost:8080/",
          "height": 36
        }
      },
      "source": [
        "trapz3(xi,yi)"
      ],
      "execution_count": 0,
      "outputs": [
        {
          "output_type": "execute_result",
          "data": {
            "text/plain": [
              "9855.0"
            ]
          },
          "metadata": {
            "tags": []
          },
          "execution_count": 12
        }
      ]
    },
    {
      "cell_type": "markdown",
      "metadata": {
        "id": "K18huR2VbofT",
        "colab_type": "text"
      },
      "source": [
        "### 5  Una viga de 11 m está sujeta a una carga, y la fuerza cortante sigue la ecuación $V(x) = 5 + 0.25x^2 $ donde V es la fuerza cortante y x es la distancia a lo largo de la viga. Se sabe que $V= dM/dx$ y M es el momento flexionante. La integración conduce a la relación: (ch 21.21)\n",
        "$$\n",
        "\\displaystyle M = M_0 + \\int_0^x V dx\n",
        "$$\n",
        "\n",
        "### Si $M_0$ es cero y x = 11, calcule M con el empleo de a) integración analítica, tí) aplicación múltiple de la regla del trapecio y c) aplicación múltiple de las reglas de Simpson. Para los incisos b) y c) use incrementos de 1 m."
      ]
    },
    {
      "cell_type": "markdown",
      "metadata": {
        "id": "NCRlSLoGbofX",
        "colab_type": "text"
      },
      "source": [
        "### 6. k-13.- Una masa $m$ está unida a un resorte  de longitud libre $b$ y constante $k$. El coeficiente de fricción entre la masa y la barra horizontal es $\\mu$. La aceleración de la masa se puede expresar como $x'' = -f(x)$\n",
        "<img src=\"https://drive.google.com/uc?id=1qwH142-JOYhV_NQWd4o_gjaYSIvVOvZU\" alt=\"Lamp\" width=\"220\" height=\"120\">\n",
        "\n",
        "### $f(x) $ se puede expresar como:\n",
        "\n",
        "$$\n",
        "f(x) = \\mu g + \\frac{k}{m}(\\mu b+x) \\left ( 1- \\frac{b}{\\sqrt {b^2+x^2}} \\right )$$\n",
        "\n",
        "### Si la masa se libera desde el reposo en $x=b$, su velocidad está dada por:\n",
        "$$\\displaystyle\n",
        "v_0 = \\sqrt {2\\int_0^bf(x)dx}$$\n",
        "\n",
        "### Calcular $v_0$ mediante integración numérica utilizando los datos $m=0.8\\, kg,\\,\\, b=0.4\\,\\,m, \\,\\,\\mu = 0.3,\\,\\, k= 80\\,N/m\\,\\,y\\,\\,g=9.81\\,m/s^2 $"
      ]
    },
    {
      "cell_type": "code",
      "metadata": {
        "id": "Pb2cVeMQJ4i2",
        "colab_type": "code",
        "colab": {}
      },
      "source": [
        ""
      ],
      "execution_count": 0,
      "outputs": []
    },
    {
      "cell_type": "markdown",
      "metadata": {
        "id": "t4YhasjUO6pN",
        "colab_type": "text"
      },
      "source": [
        "![texto alternativo](https://)"
      ]
    },
    {
      "cell_type": "code",
      "metadata": {
        "id": "irzXwNTxbofb",
        "colab_type": "code",
        "colab": {}
      },
      "source": [
        ""
      ],
      "execution_count": 0,
      "outputs": []
    }
  ]
}