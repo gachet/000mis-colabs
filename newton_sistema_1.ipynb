{
  "nbformat": 4,
  "nbformat_minor": 0,
  "metadata": {
    "kernelspec": {
      "display_name": "Python 3",
      "language": "python",
      "name": "python3"
    },
    "language_info": {
      "codemirror_mode": {
        "name": "ipython",
        "version": 3
      },
      "file_extension": ".py",
      "mimetype": "text/x-python",
      "name": "python",
      "nbconvert_exporter": "python",
      "pygments_lexer": "ipython3",
      "version": "3.6.5"
    },
    "colab": {
      "name": "newton-sistema-1.ipynb",
      "provenance": [],
      "include_colab_link": true
    }
  },
  "cells": [
    {
      "cell_type": "markdown",
      "metadata": {
        "id": "view-in-github",
        "colab_type": "text"
      },
      "source": [
        "<a href=\"https://colab.research.google.com/github/gachet/000mis-colabs/blob/master/newton_sistema_1.ipynb\" target=\"_parent\"><img src=\"https://colab.research.google.com/assets/colab-badge.svg\" alt=\"Open In Colab\"/></a>"
      ]
    },
    {
      "cell_type": "markdown",
      "metadata": {
        "id": "PyQJ-kouZSyR",
        "colab_type": "text"
      },
      "source": [
        "## Sistemas de ecuaciones no lineales. Método de Newton Raphson"
      ]
    },
    {
      "cell_type": "markdown",
      "metadata": {
        "id": "Py1Z8kSUZSyc",
        "colab_type": "text"
      },
      "source": [
        "\\begin{align}\n",
        "&x^2 = y - x\\cos(\\pi x)\n",
        "\\\\ \n",
        "&yx + e^{-y} = x^{-1}\n",
        "\\end{align}"
      ]
    },
    {
      "cell_type": "markdown",
      "metadata": {
        "id": "D1JM51ZNZSyl",
        "colab_type": "text"
      },
      "source": [
        "Haciendo $x_0=x $ y $x_1=y$. Tenemos"
      ]
    },
    {
      "cell_type": "markdown",
      "metadata": {
        "id": "XE9MuTBzZSyr",
        "colab_type": "text"
      },
      "source": [
        "\\begin{align*}\n",
        "F_0(x_0,x_1) &= x_0^2 - x_1 + x_0\\cos(\\pi x_0) = 0,\\\\ \n",
        "F_1(x_0,x_1) &= x_1x_0 + e^{-x_1} - x_0^{-1} = 0\\thinspace .\n",
        "\\end{align*}"
      ]
    },
    {
      "cell_type": "markdown",
      "metadata": {
        "id": "SYFQxyThZSyy",
        "colab_type": "text"
      },
      "source": [
        "$\n",
        "\\nabla F = \\left(\\begin{array}{ll}\n",
        "\\frac{\\partial F_0}{\\partial x_0} & \\frac{\\partial F_0}{\\partial x_1}\\\\ \n",
        "\\frac{\\partial F_1}{\\partial x_0} & \\frac{\\partial F_1}{\\partial x_1}\n",
        "\\end{array}\\right) =\n",
        "\\left(\\begin{array}{ll}\n",
        "2x_0 + \\cos(\\pi x_0) - \\pi x_0\\sin(\\pi x_0) &\n",
        "-1 \\\\ \n",
        "x_1 + x_0^{-2} & x_0 - e^{-x_1}\n",
        "\\end{array}\\right)\n",
        "$"
      ]
    },
    {
      "cell_type": "code",
      "metadata": {
        "id": "bT3mO0yOZSy8",
        "colab_type": "code",
        "colab": {}
      },
      "source": [
        "import numpy as np"
      ],
      "execution_count": 0,
      "outputs": []
    },
    {
      "cell_type": "code",
      "metadata": {
        "id": "-w-jooAYZSzQ",
        "colab_type": "code",
        "colab": {}
      },
      "source": [
        "\n",
        "def Newton_system(F, J, x, eps):\n",
        "    \"\"\"\n",
        "    Resolución del sistema no lineal F=0  con el método de  Newton.\n",
        "    J es el jacobiano de F. Ambos F y J deben ser función de  x.\n",
        "    El vector  x  contiene los valores de inicio para las raíces.\n",
        "    Las iteraciones continúan hasta que until ||F|| < eps.\n",
        "    \"\"\"\n",
        "    F_value = F(x)\n",
        "    F_norm = np.linalg.norm(F_value, ord=2)  # l2 norm of vector\n",
        "    iteration_counter = 0\n",
        "    while abs(F_norm) > eps and iteration_counter < 20:\n",
        "        delta = np.linalg.solve(J(x), -F_value)\n",
        "        x = x + delta\n",
        "        F_value = F(x)\n",
        "        F_norm = np.linalg.norm(F_value, ord=2)\n",
        "        iteration_counter += 1\n",
        "        print('iteración',iteration_counter)\n",
        "    # Hay una solución, o demasiadas iteraciones\n",
        "    if abs(F_norm) > eps:\n",
        "        iteration_counter = -1  #no hay solucion en las iteraciones indicadas\n",
        "    return x, iteration_counter\n"
      ],
      "execution_count": 0,
      "outputs": []
    },
    {
      "cell_type": "code",
      "metadata": {
        "id": "p0EDMRJzZSzh",
        "colab_type": "code",
        "colab": {}
      },
      "source": [
        "def F(x):\n",
        "    return np.array([x[0]**2 - x[1] + x[0]*np.cos(np.pi*x[0]),\n",
        "                     x[0]*x[1] + np.exp(-x[1]) - x[0]**(-1.)])\n",
        "\n",
        "def J(x):\n",
        "    return np.array([[2*x[0] + np.cos(np.pi*x[0]) - np.pi*x[0]*np.sin(np.pi*x[0]),\n",
        "                      -1],[x[1] + x[0]**(-2.), x[0] - np.exp(-x[1])]])\n",
        "\n",
        "    "
      ],
      "execution_count": 0,
      "outputs": []
    },
    {
      "cell_type": "code",
      "metadata": {
        "id": "hNOJHCugZSzx",
        "colab_type": "code",
        "outputId": "9cdb0970-5a39-4401-9d3e-7f1bfb515c1c",
        "colab": {
          "base_uri": "https://localhost:8080/",
          "height": 129
        }
      },
      "source": [
        "\n",
        "x, n = Newton_system(F, J, x=np.array([1,1 ]), eps=0.0000001)\n",
        "print (n, x)\n"
      ],
      "execution_count": 0,
      "outputs": [
        {
          "output_type": "stream",
          "text": [
            "iteración 1\n",
            "iteración 2\n",
            "iteración 3\n",
            "iteración 4\n",
            "iteración 5\n",
            "5 [ 1.00000000e+00 -6.97025413e-12]\n"
          ],
          "name": "stdout"
        }
      ]
    },
    {
      "cell_type": "code",
      "metadata": {
        "id": "UrHnutJKZS0D",
        "colab_type": "code",
        "colab": {}
      },
      "source": [
        ""
      ],
      "execution_count": 0,
      "outputs": []
    },
    {
      "cell_type": "code",
      "metadata": {
        "id": "v485NUrtZS0R",
        "colab_type": "code",
        "colab": {}
      },
      "source": [
        ""
      ],
      "execution_count": 0,
      "outputs": []
    },
    {
      "cell_type": "code",
      "metadata": {
        "id": "cABSv1xlZS0h",
        "colab_type": "code",
        "colab": {}
      },
      "source": [
        ""
      ],
      "execution_count": 0,
      "outputs": []
    }
  ]
}