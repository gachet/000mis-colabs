{
  "nbformat": 4,
  "nbformat_minor": 0,
  "metadata": {
    "anaconda-cloud": {},
    "kernelspec": {
      "display_name": "Python 3",
      "language": "python",
      "name": "python3"
    },
    "language_info": {
      "codemirror_mode": {
        "name": "ipython",
        "version": 3
      },
      "file_extension": ".py",
      "mimetype": "text/x-python",
      "name": "python",
      "nbconvert_exporter": "python",
      "pygments_lexer": "ipython3",
      "version": "3.6.5"
    },
    "latex_envs": {
      "LaTeX_envs_menu_present": true,
      "autocomplete": true,
      "bibliofile": "biblio.bib",
      "cite_by": "apalike",
      "current_citInitial": 1,
      "eqLabelWithNumbers": true,
      "eqNumInitial": 1,
      "hotkeys": {
        "equation": "Ctrl-E",
        "itemize": "Ctrl-I"
      },
      "labels_anchors": false,
      "latex_user_defs": false,
      "report_style_numbering": true,
      "user_envs_cfg": true
    },
    "colab": {
      "name": "método-bisección-1.ipynb",
      "provenance": [],
      "include_colab_link": true
    }
  },
  "cells": [
    {
      "cell_type": "markdown",
      "metadata": {
        "id": "view-in-github",
        "colab_type": "text"
      },
      "source": [
        "<a href=\"https://colab.research.google.com/github/gachet/mis-colabs/blob/master/m%C3%A9todo_bisecci%C3%B3n_1.ipynb\" target=\"_parent\"><img src=\"https://colab.research.google.com/assets/colab-badge.svg\" alt=\"Open In Colab\"/></a>"
      ]
    },
    {
      "cell_type": "markdown",
      "metadata": {
        "id": "QjUnJ3abg8cN",
        "colab_type": "text"
      },
      "source": [
        "## Métodos por intervalos o cerrados\n",
        "\n",
        "Se caracterizan porque para su ejecución requieren un intervalo que contenga al menos una raíz y en su aplicación se reduce continuamente de tamaño el intervalo manteniendo la raíz en su interior. "
      ]
    },
    {
      "cell_type": "markdown",
      "metadata": {
        "id": "3P2W1F4Jg8cQ",
        "colab_type": "text"
      },
      "source": [
        "### Método de la Bisección\n",
        "\n",
        " Sea $f$ una función continua en un intervalo $[a,b]$, y $f(a) \\times f(b) < 0$. Por el *Teorema del Valor Intermedio* para funciones continuas, existe al menos un $\\alpha \\in (a,b)$, tal que $f(\\alpha) = 0$.\n",
        " \n",
        "Este método consiste en dividir sucesivamente el intervalo $[a,b]$, por la mitad, hasta que la longitud del subintervalo que contiene a la raíz $\\alpha$ sea menor que alguna tolerancia especificada $\\epsilon$.\n",
        "\n"
      ]
    },
    {
      "cell_type": "markdown",
      "metadata": {
        "id": "31VlzABug8cR",
        "colab_type": "text"
      },
      "source": [
        "<img src=\"https://drive.google.com/uc?id=1Wg4n5q0-fGlMgJY_eulF5p2UJuAL62GN\" alt=\"Lamp\" width=\"520\" height=\"420\">"
      ]
    },
    {
      "cell_type": "markdown",
      "metadata": {
        "id": "Pl2ZO9REg8cS",
        "colab_type": "text"
      },
      "source": [
        "<img src=\"https://drive.google.com/uc?id=1aMaYVtnxISB_w2VJsM03EqqDbQcpk5F2\" alt=\"Lamp\" width=\"520\" height=\"420\">"
      ]
    },
    {
      "cell_type": "markdown",
      "metadata": {
        "id": "su8XhW1Lg8cU",
        "colab_type": "text"
      },
      "source": [
        "**Algoritmo: Método de Bisección**\n",
        "\n",
        "![Biseccion_Algoritmo.PNG](attachment:Biseccion_Algoritmo.PNG)"
      ]
    },
    {
      "cell_type": "code",
      "metadata": {
        "id": "B9q75lhGg8cV",
        "colab_type": "code",
        "colab": {}
      },
      "source": [
        ""
      ],
      "execution_count": 0,
      "outputs": []
    },
    {
      "cell_type": "markdown",
      "metadata": {
        "id": "Ttsin_hCg8cZ",
        "colab_type": "text"
      },
      "source": [
        "**Ventajas:**\n",
        "\n",
        "- Siempre converge.\n",
        "\n",
        "- Útil como aproximación inicial de otros métodos.\n",
        "\n"
      ]
    },
    {
      "cell_type": "code",
      "metadata": {
        "id": "sM6MFyKdg8cb",
        "colab_type": "code",
        "colab": {}
      },
      "source": [
        "import math\n",
        "%matplotlib inline\n",
        "import numpy as np\n",
        "import matplotlib.pyplot as plt"
      ],
      "execution_count": 0,
      "outputs": []
    },
    {
      "cell_type": "code",
      "metadata": {
        "id": "m1t4EDKpg8ce",
        "colab_type": "code",
        "colab": {}
      },
      "source": [
        "# Algoritmo de Bisección\n",
        "# Los valores de [a,b] son seleccionados\n",
        "# por ejemplo desde la gráfica de la función\n",
        "# error = tolera\n",
        "\n",
        "import numpy as np\n",
        "\n",
        "def biseccion(fx,a,b,tolera):\n",
        "\n",
        "    fa = fx(a)\n",
        "    fb = fx(b)\n",
        "    iteracion = 0\n",
        "    tramo = np.abs(b-a)\n",
        "    while (tramo>=tolera):\n",
        "        c = (a+b)/2\n",
        "        fc = fx(c)\n",
        "        cambia = np.sign(fa)*np.sign(fc)\n",
        "        if (cambia<0):\n",
        "            b = c\n",
        "            fb = fc\n",
        "        else:\n",
        "            a = c\n",
        "            fa = fc\n",
        "        tramo = np.abs(b-a)\n",
        "        print('Iteracion ',iteracion,c)   \n",
        "        iteracion = iteracion +1\n",
        "    return(c)"
      ],
      "execution_count": 0,
      "outputs": []
    },
    {
      "cell_type": "code",
      "metadata": {
        "id": "sFoEZAPsg8ci",
        "colab_type": "code",
        "colab": {}
      },
      "source": [
        "def f(x): return x**3 - 10.0*x**2 + 5.0"
      ],
      "execution_count": 0,
      "outputs": []
    },
    {
      "cell_type": "code",
      "metadata": {
        "id": "fLIQna4Zg8cl",
        "colab_type": "code",
        "outputId": "ec7cfe8c-1e2a-4eec-d704-b0dd259f82d9",
        "colab": {
          "base_uri": "https://localhost:8080/",
          "height": 277
        }
      },
      "source": [
        "x = biseccion(f, 0.0, 1.0, tolera = 1.0e-4)\n",
        "print('Raíz es x =', '{:6.6f}'.format(x))\n"
      ],
      "execution_count": 0,
      "outputs": [
        {
          "output_type": "stream",
          "text": [
            "Iteracion  0 0.5\n",
            "Iteracion  1 0.75\n",
            "Iteracion  2 0.625\n",
            "Iteracion  3 0.6875\n",
            "Iteracion  4 0.71875\n",
            "Iteracion  5 0.734375\n",
            "Iteracion  6 0.7421875\n",
            "Iteracion  7 0.73828125\n",
            "Iteracion  8 0.736328125\n",
            "Iteracion  9 0.7353515625\n",
            "Iteracion  10 0.73486328125\n",
            "Iteracion  11 0.734619140625\n",
            "Iteracion  12 0.7344970703125\n",
            "Iteracion  13 0.73455810546875\n",
            "Raíz es x = 0.734558\n"
          ],
          "name": "stdout"
        }
      ]
    },
    {
      "cell_type": "code",
      "metadata": {
        "id": "GU3EZPoBg8cr",
        "colab_type": "code",
        "outputId": "d3609c0e-612c-4b04-dcdb-3ad2f89acd7a",
        "colab": {
          "base_uri": "https://localhost:8080/",
          "height": 35
        }
      },
      "source": [
        "print('f(x es)=', '{:6.8f}'.format(f(x)))"
      ],
      "execution_count": 0,
      "outputs": [
        {
          "output_type": "stream",
          "text": [
            "f(x es)= 0.00059353\n"
          ],
          "name": "stdout"
        }
      ]
    },
    {
      "cell_type": "code",
      "metadata": {
        "id": "CI-P8eBwg8cu",
        "colab_type": "code",
        "colab": {}
      },
      "source": [
        "def f1(x):\n",
        "    return np.exp(3*x - 12.0) + x * np.cos(3*x) - x**2 + 4"
      ],
      "execution_count": 0,
      "outputs": []
    },
    {
      "cell_type": "code",
      "metadata": {
        "id": "Zid-mtxOg8cy",
        "colab_type": "code",
        "outputId": "989e2429-ff4c-4d8e-b2c3-a1332ea64701",
        "colab": {
          "base_uri": "https://localhost:8080/",
          "height": 312
        }
      },
      "source": [
        "raiz = biseccion(f1, 0.0, 5.0, tolera = 1.0e-4)\n",
        "print('Raíz es x =', '{:6.6f}'.format(raiz))\n"
      ],
      "execution_count": 0,
      "outputs": [
        {
          "output_type": "stream",
          "text": [
            "Iteracion  0 2.5\n",
            "Iteracion  1 1.25\n",
            "Iteracion  2 1.875\n",
            "Iteracion  3 2.1875\n",
            "Iteracion  4 2.34375\n",
            "Iteracion  5 2.421875\n",
            "Iteracion  6 2.3828125\n",
            "Iteracion  7 2.36328125\n",
            "Iteracion  8 2.373046875\n",
            "Iteracion  9 2.3681640625\n",
            "Iteracion  10 2.37060546875\n",
            "Iteracion  11 2.369384765625\n",
            "Iteracion  12 2.3699951171875\n",
            "Iteracion  13 2.36968994140625\n",
            "Iteracion  14 2.369537353515625\n",
            "Iteracion  15 2.3694610595703125\n",
            "Raíz es x = 2.369461\n"
          ],
          "name": "stdout"
        }
      ]
    },
    {
      "cell_type": "code",
      "metadata": {
        "id": "8Nb3xZC2g8c3",
        "colab_type": "code",
        "outputId": "1e831d05-9d2a-4794-9a04-8f7b756cb728",
        "colab": {
          "base_uri": "https://localhost:8080/",
          "height": 35
        }
      },
      "source": [
        "print('f(x es)=', '{:6.8f}'.format(f1(raiz)))"
      ],
      "execution_count": 0,
      "outputs": [
        {
          "output_type": "stream",
          "text": [
            "f(x es)= 0.00063344\n"
          ],
          "name": "stdout"
        }
      ]
    },
    {
      "cell_type": "code",
      "metadata": {
        "id": "u6wzAVTsg8c6",
        "colab_type": "code",
        "outputId": "a10f750d-590d-4757-bc39-3102b740a42a",
        "colab": {
          "base_uri": "https://localhost:8080/",
          "height": 408
        }
      },
      "source": [
        "dt = 0.01\n",
        "x = np.arange(-2.0, 5.2, dt)\n",
        "plt.figure(figsize = (10,6) )\n",
        "plt.grid(True)\n",
        "plt.xlabel (r\"x\")\n",
        "plt.ylabel (r'$f(x)$')\n",
        "plt.title (r'$f(x) = e^{3x-12}+x*cos(3x)-x^{2}-4 $')\n",
        "plt.scatter(raiz,f1(raiz),s=120,c='red',label='raiz',zorder=2)\n",
        "plt.legend(loc='upper left',fontsize=20)\n",
        "plt.plot(x, f1(x))\n",
        "plt.grid(True)\n",
        "plt.show()"
      ],
      "execution_count": 0,
      "outputs": [
        {
          "output_type": "display_data",
          "data": {
            "image/png": "[encoded data removed]",
            "text/plain": [
              "<Figure size 720x432 with 1 Axes>"
            ]
          },
          "metadata": {
            "tags": []
          }
        }
      ]
    },
    {
      "cell_type": "code",
      "metadata": {
        "id": "ZDinXBOIg8c-",
        "colab_type": "code",
        "colab": {}
      },
      "source": [
        ""
      ],
      "execution_count": 0,
      "outputs": []
    }
  ]
}