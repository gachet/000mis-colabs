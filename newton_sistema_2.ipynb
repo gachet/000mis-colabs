{
  "nbformat": 4,
  "nbformat_minor": 0,
  "metadata": {
    "kernelspec": {
      "display_name": "Python 3",
      "language": "python",
      "name": "python3"
    },
    "language_info": {
      "codemirror_mode": {
        "name": "ipython",
        "version": 3
      },
      "file_extension": ".py",
      "mimetype": "text/x-python",
      "name": "python",
      "nbconvert_exporter": "python",
      "pygments_lexer": "ipython3",
      "version": "3.6.5"
    },
    "colab": {
      "name": "newton-sistema-2.ipynb",
      "provenance": [],
      "collapsed_sections": [],
      "include_colab_link": true
    }
  },
  "cells": [
    {
      "cell_type": "markdown",
      "metadata": {
        "id": "view-in-github",
        "colab_type": "text"
      },
      "source": [
        "<a href=\"https://colab.research.google.com/github/gachet/mis-colabs/blob/master/newton_sistema_2.ipynb\" target=\"_parent\"><img src=\"https://colab.research.google.com/assets/colab-badge.svg\" alt=\"Open In Colab\"/></a>"
      ]
    },
    {
      "cell_type": "markdown",
      "metadata": {
        "id": "PSHj6asTZaU0",
        "colab_type": "text"
      },
      "source": [
        "## Sistemas de ecuaciones no lineales. Método de Newton Raphson"
      ]
    },
    {
      "cell_type": "code",
      "metadata": {
        "id": "QTrEi_yLZaU_",
        "colab_type": "code",
        "colab": {}
      },
      "source": [
        "import numpy as np"
      ],
      "execution_count": 0,
      "outputs": []
    },
    {
      "cell_type": "code",
      "metadata": {
        "id": "iElFPN32ZaVd",
        "colab_type": "code",
        "colab": {}
      },
      "source": [
        "\n",
        "def Newton_system(F, J, x, eps):\n",
        "    \"\"\"\n",
        "    Resolución del sistema no lineal F=0  con el método de  Newton.\n",
        "    J es el jacobiano de F. Ambos F y J deben ser función de  x.\n",
        "    El vector  x  contiene los valores de inicio para las raíces.\n",
        "    Las iteraciones continúan hasta que until ||F|| < eps.\n",
        "    \"\"\"\n",
        "    F_value = F(x)\n",
        "    F_norm = np.linalg.norm(F_value, ord=2)  # l2 norm of vector\n",
        "    iteration_counter = 0\n",
        "    while abs(F_norm) > eps and iteration_counter < 20:\n",
        "        delta = np.linalg.solve(J(x), -F_value)\n",
        "        x = x + delta\n",
        "        F_value = F(x)\n",
        "        F_norm = np.linalg.norm(F_value, ord=2)\n",
        "        iteration_counter += 1\n",
        "        print('iteración',iteration_counter)\n",
        "    # Hay una solución, o demasiadas iteraciones\n",
        "    if abs(F_norm) > eps:\n",
        "        iteration_counter = -1  #no hay solucion en las iteraciones indicadas\n",
        "    return x, iteration_counter\n"
      ],
      "execution_count": 0,
      "outputs": []
    },
    {
      "cell_type": "code",
      "metadata": {
        "id": "mP56RhOGZaVu",
        "colab_type": "code",
        "colab": {}
      },
      "source": [
        "def jacobian(f,x):\n",
        "        h = 1.0e-4\n",
        "        n = len(x)\n",
        "        jac = np.zeros((n,n))\n",
        "        f0 = f(x)\n",
        "        for i in range(n):\n",
        "            temp = x[i]\n",
        "            x[i] = temp + h\n",
        "            f1 = f(x)\n",
        "            x[i] = temp\n",
        "            jac[:,i] = (f1 - f0)/h\n",
        "        return jac\n",
        "    "
      ],
      "execution_count": 0,
      "outputs": []
    },
    {
      "cell_type": "code",
      "metadata": {
        "id": "oUYdocDVZaV-",
        "colab_type": "code",
        "colab": {}
      },
      "source": [
        "def Newton_system2(F, x, eps): \n",
        "    \"\"\"\n",
        "    Resolución del sistema no lineal F=0  con el método de  Newton.\n",
        "    J es el jacobiano de F. x debe pasarse como un array de FLOATS.\n",
        "    El vector  x  contiene los valores de inicio para las raíces.\n",
        "    Las iteraciones continúan hasta que until ||F|| < eps.\n",
        "    \"\"\"\n",
        "    F_value = F(x)\n",
        "    F_norm = np.linalg.norm(F_value, ord=2)  # l2 norm of vector\n",
        "    iteration_counter = 0\n",
        "    while abs(F_norm) > eps and iteration_counter < 20:\n",
        "       \n",
        "        J=jacobian(F,x)\n",
        "        delta = np.linalg.solve(J, -F_value)\n",
        "        x = x + delta\n",
        "        F_value = F(x)\n",
        "        F_norm = np.linalg.norm(F_value, ord=2)\n",
        "        iteration_counter += 1\n",
        "        print('iteración',iteration_counter)\n",
        "    # Hay una solución, o demasiadas iteraciones\n",
        "    if abs(F_norm) > eps:\n",
        "        iteration_counter = -1  #no hay solucion en las iteraciones indicadas\n",
        "    return x, iteration_counter"
      ],
      "execution_count": 0,
      "outputs": []
    },
    {
      "cell_type": "markdown",
      "metadata": {
        "id": "DLY6v2awZaWP",
        "colab_type": "text"
      },
      "source": [
        "\\begin{align}\n",
        "&x^2 = y - x\\cos(\\pi x)\n",
        "\\\\ \n",
        "&yx + e^{-y} = x^{-1}\n",
        "\\end{align}"
      ]
    },
    {
      "cell_type": "markdown",
      "metadata": {
        "id": "Evd8DM35ZaWU",
        "colab_type": "text"
      },
      "source": [
        "Haciendo $x_0=x $ y $x_1=y$. Tenemos"
      ]
    },
    {
      "cell_type": "markdown",
      "metadata": {
        "id": "JDEkKJ0UZaWc",
        "colab_type": "text"
      },
      "source": [
        "\\begin{align*}\n",
        "F_0(x_0,x_1) &= x_0^2 - x_1 + x_0\\cos(\\pi x_0) = 0,\\\\ \n",
        "F_1(x_0,x_1) &= x_1x_0 + e^{-x_1} - x_0^{-1} = 0\\thinspace .\n",
        "\\end{align*}"
      ]
    },
    {
      "cell_type": "markdown",
      "metadata": {
        "id": "IipYsSEzZaWj",
        "colab_type": "text"
      },
      "source": [
        "$\n",
        "\\nabla F = \\left(\\begin{array}{ll}\n",
        "\\frac{\\partial F_0}{\\partial x_0} & \\frac{\\partial F_0}{\\partial x_1}\\\\ \n",
        "\\frac{\\partial F_1}{\\partial x_0} & \\frac{\\partial F_1}{\\partial x_1}\n",
        "\\end{array}\\right) =\n",
        "\\left(\\begin{array}{ll}\n",
        "2x_0 + \\cos(\\pi x_0) - \\pi x_0\\sin(\\pi x_0) &\n",
        "-1 \\\\ \n",
        "x_1 + x_0^{-2} & x_0 - e^{-x_1}\n",
        "\\end{array}\\right)\n",
        "$"
      ]
    },
    {
      "cell_type": "code",
      "metadata": {
        "id": "UBojZEZNZaWn",
        "colab_type": "code",
        "outputId": "704b7ffe-e574-442e-e021-c80158826b91",
        "colab": {}
      },
      "source": [
        "from sympy import *\n",
        "x0, x1 = symbols('x0 x1')\n",
        "F0 = x0**2 - x1 + x0*cos(pi*x0)\n",
        "F1 = x0*x1 + exp(-x1) - x0**(-1)\n",
        "print(diff(F0, x0))\n",
        "print(diff(F0, x1))\n",
        "print(diff(F1, x0))\n",
        "print(diff(F1, x1))\n"
      ],
      "execution_count": 0,
      "outputs": [
        {
          "output_type": "stream",
          "text": [
            "-pi*x0*sin(pi*x0) + 2*x0 + cos(pi*x0)\n",
            "-1\n",
            "x1 + x0**(-2)\n",
            "x0 - exp(-x1)\n"
          ],
          "name": "stdout"
        }
      ]
    },
    {
      "cell_type": "code",
      "metadata": {
        "id": "I42XqDxLZaW3",
        "colab_type": "code",
        "colab": {}
      },
      "source": [
        "def F0(x):\n",
        "    return np.array([x[0]**2 - x[1] + x[0]*np.cos(np.pi*x[0]),\n",
        "                     x[0]*x[1] + np.exp(-x[1]) - x[0]**(-1.)])\n",
        "\n",
        "def J0(x):\n",
        "    return np.array([[2*x[0] + np.cos(np.pi*x[0]) - np.pi*x[0]*np.sin(np.pi*x[0]),\n",
        "                      -1.],[x[1] + x[0]**(-2.), x[0] - np.exp(-x[1])]])\n",
        "\n",
        "    "
      ],
      "execution_count": 0,
      "outputs": []
    },
    {
      "cell_type": "code",
      "metadata": {
        "id": "_XHAPnl_ZaXG",
        "colab_type": "code",
        "outputId": "fb5a222b-e7ea-4481-cd33-5089fe5f975a",
        "colab": {}
      },
      "source": [
        "\n",
        "x, n = Newton_system(F0, J0, x=np.array([2, -1]), eps=0.0001)\n",
        "print (n, x)\n"
      ],
      "execution_count": 0,
      "outputs": [
        {
          "output_type": "stream",
          "text": [
            "iteración 1\n",
            "iteración 2\n",
            "iteración 3\n",
            "iteración 4\n",
            "4 [ 1.00000006e+00 -1.00943962e-06]\n"
          ],
          "name": "stdout"
        }
      ]
    },
    {
      "cell_type": "code",
      "metadata": {
        "id": "854fDNCWZaXU",
        "colab_type": "code",
        "outputId": "1d7a8023-7b3e-44a7-b3f4-33d41b84831d",
        "colab": {}
      },
      "source": [
        "J0([2,-1])"
      ],
      "execution_count": 0,
      "outputs": [
        {
          "output_type": "execute_result",
          "data": {
            "text/plain": [
              "array([[ 5.        , -1.        ],\n",
              "       [-0.75      , -0.71828183]])"
            ]
          },
          "metadata": {
            "tags": []
          },
          "execution_count": 166
        }
      ]
    },
    {
      "cell_type": "code",
      "metadata": {
        "id": "yQQrEAbFZaXh",
        "colab_type": "code",
        "outputId": "fe068fdb-ae96-448f-dd8c-dd6bd02c9c8c",
        "colab": {}
      },
      "source": [
        "\n",
        "jacobian(F0,[2.,-1.])\n"
      ],
      "execution_count": 0,
      "outputs": [
        {
          "output_type": "execute_result",
          "data": {
            "text/plain": [
              "array([[ 4.99911299, -1.        ],\n",
              "       [-0.7500125 , -0.71814592]])"
            ]
          },
          "metadata": {
            "tags": []
          },
          "execution_count": 167
        }
      ]
    },
    {
      "cell_type": "code",
      "metadata": {
        "id": "q9oPHKa2ZaXx",
        "colab_type": "code",
        "outputId": "91c0e585-9d05-4c85-a134-326386cac2d7",
        "colab": {}
      },
      "source": [
        "x, n = Newton_system2(F0, x=np.array([2, -1], dtype=float), eps=0.0001)\n",
        "print (n, x)\n"
      ],
      "execution_count": 0,
      "outputs": [
        {
          "output_type": "stream",
          "text": [
            "iteración 1\n",
            "iteración 2\n",
            "iteración 3\n",
            "iteración 4\n",
            "4 [ 9.99999980e-01 -1.31348473e-06]\n"
          ],
          "name": "stdout"
        }
      ]
    },
    {
      "cell_type": "markdown",
      "metadata": {
        "id": "M9lY6vYfZaX-",
        "colab_type": "text"
      },
      "source": [
        "\\begin{align}\n",
        "&3x_0-cos(x_1x_2)- \\frac{3}{2}=0\n",
        "\\\\ \n",
        "&4x_0^{2}-625x_1^{2}+2x_2-1=0 \\\\\n",
        "&20x_2+e^{-x_0x_1}+9 = 0\n",
        "\\end{align}"
      ]
    },
    {
      "cell_type": "markdown",
      "metadata": {
        "id": "tsg_CTKwZaYE",
        "colab_type": "text"
      },
      "source": [
        "$\n",
        "\\nabla F = \\left(\\begin{array}{ll}\n",
        "\\frac{\\partial F_0}{\\partial x_0} & \\frac{\\partial F_0}{\\partial x_1} & \\frac{\\partial F_0}{\\partial x_2}\\\\ \n",
        "\\frac{\\partial F_1}{\\partial x_0} & \\frac{\\partial F_1}{\\partial x_1} & \\frac{\\partial F_1}{\\partial x_2}\\\\\n",
        "\\frac{\\partial F_2}{\\partial x_0} & \\frac{\\partial F_2}{\\partial x_1} & \\frac{\\partial F_2}{\\partial x_2}\n",
        "\\end{array}\\right) =\n",
        "\\left(\\begin{array}{ll}\n",
        "3  & x_2\\sin(x_1x_2)& x_1\\sin(x_1x_2) \\\\\n",
        "8x_0 & -1250x_1 & 2 \\\\ \n",
        "-x_1e^{-x_0x_1} & -x_0e^{-x_0x_1} & 20\n",
        "\\end{array}\\right)\n",
        "$"
      ]
    },
    {
      "cell_type": "code",
      "metadata": {
        "id": "2la5iE1HZaYK",
        "colab_type": "code",
        "colab": {}
      },
      "source": [
        "def F1(x):\n",
        "    return np.array([3*x[0] - np.cos(x[1]* x[2])- 3/2,\n",
        "                       4*x[0]**2-625*x[1]**2+2*x[2]-1.,\n",
        "                     20*x[2]+np.exp(-x[0]*x[1])+9])\n",
        "\n",
        "def J1(x):\n",
        "    return np.array([[3 , x[2]*np.sin(x[1]*x[2]), x[1]*np.sin(x[1]*x[2])],\n",
        "                     [8*x[0], -1250*x[1],2],\n",
        "                    [-x[1]*np.exp(-x[0]*x[1]),-x[0]*np.exp(-x[0]*x[1]),20]])\n",
        "\n",
        "    "
      ],
      "execution_count": 0,
      "outputs": []
    },
    {
      "cell_type": "code",
      "metadata": {
        "id": "nNTl7k7kZaYY",
        "colab_type": "code",
        "outputId": "708cb607-7d85-482e-e22e-6cf4fe6dc66b",
        "colab": {}
      },
      "source": [
        "x, n = Newton_system(F1, J1, x=np.array([1., 1.,1.]), eps=0.00001)\n",
        "print (n, x)"
      ],
      "execution_count": 0,
      "outputs": [
        {
          "output_type": "stream",
          "text": [
            "iteración 1\n",
            "iteración 2\n",
            "iteración 3\n",
            "iteración 4\n",
            "iteración 5\n",
            "iteración 6\n",
            "iteración 7\n",
            "iteración 8\n",
            "8 [ 0.83328161  0.03533462 -0.49854928]\n"
          ],
          "name": "stdout"
        }
      ]
    },
    {
      "cell_type": "code",
      "metadata": {
        "id": "2MwBDpPzZaYn",
        "colab_type": "code",
        "outputId": "25b00941-09f4-4bb6-9b12-1b9c73973f0e",
        "colab": {}
      },
      "source": [
        "x, n = Newton_system2(F1, x=np.array([1, 1,1],dtype=float), eps=0.00001)\n",
        "print (n, x)"
      ],
      "execution_count": 0,
      "outputs": [
        {
          "output_type": "stream",
          "text": [
            "iteración 1\n",
            "iteración 2\n",
            "iteración 3\n",
            "iteración 4\n",
            "iteración 5\n",
            "iteración 6\n",
            "iteración 7\n",
            "iteración 8\n",
            "8 [ 0.83328161  0.03533463 -0.49854928]\n"
          ],
          "name": "stdout"
        }
      ]
    },
    {
      "cell_type": "code",
      "metadata": {
        "id": "mjWym_JZZaYy",
        "colab_type": "code",
        "colab": {}
      },
      "source": [
        ""
      ],
      "execution_count": 0,
      "outputs": []
    },
    {
      "cell_type": "code",
      "metadata": {
        "id": "NsR2GBpNZaY7",
        "colab_type": "code",
        "colab": {}
      },
      "source": [
        ""
      ],
      "execution_count": 0,
      "outputs": []
    },
    {
      "cell_type": "code",
      "metadata": {
        "id": "ZVpoGh_kZaZG",
        "colab_type": "code",
        "outputId": "3f0f123a-b9db-4453-e8fd-02300f7025b8",
        "colab": {}
      },
      "source": [
        "F1([0.83324489,  0.04624733, -0.49810988])"
      ],
      "execution_count": 0,
      "outputs": [
        {
          "output_type": "execute_result",
          "data": {
            "text/plain": [
              "array([-7.28049532e-09,  9.24194372e-08,  8.91044891e-08])"
            ]
          },
          "metadata": {
            "tags": []
          },
          "execution_count": 54
        }
      ]
    },
    {
      "cell_type": "markdown",
      "metadata": {
        "id": "7reRyZwvZaZR",
        "colab_type": "text"
      },
      "source": [
        "\\begin{align}\n",
        "&x_0^{2}-2x_0+x_1^{2}-x_2+1=0\n",
        "\\\\ \n",
        "&x_0x_1^{2}-x_0 -3x_1+x_1x_2+2 = 0\\\\\n",
        "&x_0x_2^{2}-3x_2+x_1x_2^{2}+x_0x_1 = 0\n",
        "\\end{align}"
      ]
    },
    {
      "cell_type": "markdown",
      "metadata": {
        "id": "okk6WEG1ZaZU",
        "colab_type": "text"
      },
      "source": [
        "$\n",
        "\\nabla F = \\left(\\begin{array}{ll}\n",
        "\\frac{\\partial F_0}{\\partial x_0} & \\frac{\\partial F_0}{\\partial x_1} & \\frac{\\partial F_0}{\\partial x_2}\\\\ \n",
        "\\frac{\\partial F_1}{\\partial x_0} & \\frac{\\partial F_1}{\\partial x_1} & \\frac{\\partial F_1}{\\partial x_2}\\\\\n",
        "\\frac{\\partial F_2}{\\partial x_0} & \\frac{\\partial F_2}{\\partial x_1} & \\frac{\\partial F_2}{\\partial x_2}\n",
        "\\end{array}\\right) =\n",
        "\\left(\\begin{array}{ll}\n",
        "2x_0-2 & 2x_1& -1 \\\\\n",
        "x_1^{2}-1 &2x_0x_1-3+x_2 & x_1 \\\\ \n",
        "x_2^{2}+x_1 & x_2^{2}+x_0 & 2x_0x_2-3+2x_1x_2\n",
        "\\end{array}\\right)\n",
        "$"
      ]
    },
    {
      "cell_type": "code",
      "metadata": {
        "id": "sj_Ub2kxZaZY",
        "colab_type": "code",
        "colab": {}
      },
      "source": [
        "def F2(x):\n",
        "    return np.array([x[0]**2 - 2*x[0]+x[1]**2- x[2]+1,\n",
        "                       x[0]*x[1]**2-x[0]-3*x[1]+x[1]*x[2]+2,\n",
        "                     x[0]*x[2]**2 -3*x[2]+x[1]*x[2]**2 +x[0]*x[1]])\n",
        "\n",
        "def J2(x):\n",
        "    return np.array([[2*x[0]-2 , 2*x[1],-1],\n",
        "                     [x[1]**2 -1,2*x[0]*x[1]-3+x[2],x[1]],\n",
        "                    [x[2]**2+x[1], x[2]**2+x[0],2*x[0]*x[2]- 3 + 2*x[1]*x[2]]])\n",
        "\n",
        "    "
      ],
      "execution_count": 0,
      "outputs": []
    },
    {
      "cell_type": "code",
      "metadata": {
        "id": "7K8WQN3dZaZn",
        "colab_type": "code",
        "outputId": "5c73c082-0eeb-4360-9763-f1b5b414b4b4",
        "colab": {}
      },
      "source": [
        "x, n = Newton_system(F2, J2, x=np.array([1., 2.,3.]), eps=0.00001)\n",
        "print (n, x)"
      ],
      "execution_count": 0,
      "outputs": [
        {
          "output_type": "stream",
          "text": [
            "iteración 1\n",
            "iteración 2\n",
            "iteración 3\n",
            "iteración 4\n",
            "iteración 5\n",
            "iteración 6\n",
            "iteración 7\n",
            "iteración 8\n",
            "8 [1.0000015  1.00000149 1.00000005]\n"
          ],
          "name": "stdout"
        }
      ]
    },
    {
      "cell_type": "code",
      "metadata": {
        "id": "nbA-XI65ZaZv",
        "colab_type": "code",
        "outputId": "f616252c-9d7a-4655-955c-3e57e5d97d14",
        "colab": {}
      },
      "source": [
        "F2([1,1,1])"
      ],
      "execution_count": 0,
      "outputs": [
        {
          "output_type": "execute_result",
          "data": {
            "text/plain": [
              "array([0, 0, 0])"
            ]
          },
          "metadata": {
            "tags": []
          },
          "execution_count": 48
        }
      ]
    },
    {
      "cell_type": "code",
      "metadata": {
        "id": "jeZlq99EZaZ8",
        "colab_type": "code",
        "colab": {}
      },
      "source": [
        "a,b = jacobian(F1,[1,1,1])"
      ],
      "execution_count": 0,
      "outputs": []
    },
    {
      "cell_type": "code",
      "metadata": {
        "id": "GzLNlphmZaaE",
        "colab_type": "code",
        "outputId": "a0153386-b8f8-4aa1-c48f-be72da64f750",
        "colab": {}
      },
      "source": [
        "a"
      ],
      "execution_count": 0,
      "outputs": [
        {
          "output_type": "execute_result",
          "data": {
            "text/plain": [
              "array([[ 3.00000000e+00,  8.41497999e-01,  8.41497999e-01],\n",
              "       [ 4.00000000e+00, -1.25006250e+03,  2.00000000e+00],\n",
              "       [-3.67861048e-01, -3.67861048e-01,  2.00000000e+01]])"
            ]
          },
          "metadata": {
            "tags": []
          },
          "execution_count": 51
        }
      ]
    },
    {
      "cell_type": "code",
      "metadata": {
        "id": "mOn3agU9ZaaR",
        "colab_type": "code",
        "outputId": "03429590-07dc-42b0-9640-bfa58d788ee7",
        "colab": {}
      },
      "source": [
        "b"
      ],
      "execution_count": 0,
      "outputs": [
        {
          "output_type": "execute_result",
          "data": {
            "text/plain": [
              "array([   0.95969769, -620.        ,   29.36787944])"
            ]
          },
          "metadata": {
            "tags": []
          },
          "execution_count": 52
        }
      ]
    },
    {
      "cell_type": "code",
      "metadata": {
        "id": "lhjW6B2wZaaa",
        "colab_type": "code",
        "outputId": "583aa7d5-9c95-4c62-8a3e-c6357a26df5d",
        "colab": {}
      },
      "source": [
        "J1([1,1,1])"
      ],
      "execution_count": 0,
      "outputs": [
        {
          "output_type": "execute_result",
          "data": {
            "text/plain": [
              "array([[ 3.00000000e+00,  8.41470985e-01,  8.41470985e-01],\n",
              "       [ 8.00000000e+00, -1.25000000e+03,  2.00000000e+00],\n",
              "       [-3.67879441e-01, -3.67879441e-01,  2.00000000e+01]])"
            ]
          },
          "metadata": {
            "tags": []
          },
          "execution_count": 53
        }
      ]
    },
    {
      "cell_type": "code",
      "metadata": {
        "id": "nPfm6BGKZaai",
        "colab_type": "code",
        "outputId": "1b6b891f-82fa-4a50-b7d0-1664ae4c2acf",
        "colab": {}
      },
      "source": [
        "F1([1,1,1])"
      ],
      "execution_count": 0,
      "outputs": [
        {
          "output_type": "execute_result",
          "data": {
            "text/plain": [
              "array([   0.95969769, -620.        ,   29.36787944])"
            ]
          },
          "metadata": {
            "tags": []
          },
          "execution_count": 54
        }
      ]
    },
    {
      "cell_type": "code",
      "metadata": {
        "id": "KBTGrB8RZaar",
        "colab_type": "code",
        "outputId": "fbfdd34f-a209-4524-cb07-b9e1df558ade",
        "colab": {}
      },
      "source": [
        "x, n = Newton_system2(F2, x=np.array([1., 2.,3.]), eps=0.00001)\n",
        "print (n, x)"
      ],
      "execution_count": 0,
      "outputs": [
        {
          "output_type": "stream",
          "text": [
            "iteración 1\n",
            "iteración 2\n",
            "iteración 3\n",
            "iteración 4\n",
            "iteración 5\n",
            "iteración 6\n",
            "iteración 7\n",
            "iteración 8\n",
            "8 [1.00000115 1.00000163 1.00000005]\n"
          ],
          "name": "stdout"
        }
      ]
    },
    {
      "cell_type": "code",
      "metadata": {
        "id": "7p4wNyfTZaa1",
        "colab_type": "code",
        "outputId": "957028f9-5ca8-48c7-9204-333718697bdd",
        "colab": {}
      },
      "source": [
        "from sympy import *\n",
        "init_printing()\n",
        "x0, x1 = symbols('x0 x1')\n",
        "F0 = F2(x)\n",
        "F0 = x0**2 - x1 + x0*cos(pi*x0)\n",
        "F1 = x0*x1 + exp(-x1) - x0**(-1)\n",
        "print(latex(diff(F0, x0)))\n",
        "print(diff(F0, x1))\n",
        "print(diff(F1, x0))\n",
        "print(diff(F1, x1))\n",
        "diff(F1, x1)"
      ],
      "execution_count": 0,
      "outputs": [
        {
          "output_type": "stream",
          "text": [
            "- \\pi x_{0} \\sin{\\left (\\pi x_{0} \\right )} + 2 x_{0} + \\cos{\\left (\\pi x_{0} \\right )}\n",
            "-1\n",
            "x1 + x0**(-2)\n",
            "x0 - exp(-x1)\n"
          ],
          "name": "stdout"
        },
        {
          "output_type": "execute_result",
          "data": {
            "image/png": "[encoded data removed]",
            "text/latex": "$$x_{0} - e^{- x_{1}}$$",
            "text/plain": [
              "      -x₁\n",
              "x₀ - ℯ   "
            ]
          },
          "metadata": {
            "tags": []
          },
          "execution_count": 200
        }
      ]
    },
    {
      "cell_type": "code",
      "metadata": {
        "id": "QqAWK77SZabA",
        "colab_type": "code",
        "outputId": "330ec5fb-0518-4344-d55b-6454e8dad497",
        "colab": {}
      },
      "source": [
        "X = Matrix([F0, F1])\n",
        "Y = Matrix([x0, x1])\n",
        "A =np.array(X.jacobian(Y))\n",
        "print(A)"
      ],
      "execution_count": 0,
      "outputs": [
        {
          "output_type": "stream",
          "text": [
            "[[-pi*x0*sin(pi*x0) + 2*x0 + cos(pi*x0) -1]\n",
            " [x1 + x0**(-2) x0 - exp(-x1)]]\n"
          ],
          "name": "stdout"
        }
      ]
    },
    {
      "cell_type": "code",
      "metadata": {
        "id": "oCoQQjjnZabQ",
        "colab_type": "code",
        "outputId": "63b357d3-4bb9-4409-87df-45e17e33117f",
        "colab": {}
      },
      "source": [
        "from sympy.abc import rho, phi\n",
        "X = Matrix([rho*cos(phi), rho*sin(phi), rho**2])\n",
        "Y = Matrix([rho, phi])\n",
        "X.jacobian(Y)"
      ],
      "execution_count": 0,
      "outputs": [
        {
          "output_type": "execute_result",
          "data": {
            "image/png": "[encoded data removed]",
            "text/latex": "$$\\left[\\begin{matrix}\\cos{\\left (\\phi \\right )} & - \\rho \\sin{\\left (\\phi \\right )}\\\\\\sin{\\left (\\phi \\right )} & \\rho \\cos{\\left (\\phi \\right )}\\\\2 \\rho & 0\\end{matrix}\\right]$$",
            "text/plain": [
              "⎡cos(φ)  -ρ⋅sin(φ)⎤\n",
              "⎢                 ⎥\n",
              "⎢sin(φ)  ρ⋅cos(φ) ⎥\n",
              "⎢                 ⎥\n",
              "⎣ 2⋅ρ        0    ⎦"
            ]
          },
          "metadata": {
            "tags": []
          },
          "execution_count": 189
        }
      ]
    },
    {
      "cell_type": "code",
      "metadata": {
        "id": "phCjIlVeZabe",
        "colab_type": "code",
        "outputId": "77b9dac7-421e-4ab1-8f0e-0934b720803d",
        "colab": {}
      },
      "source": [
        "X = Matrix([rho*cos(phi), rho*sin(phi)])\n",
        "X.jacobian(Y)"
      ],
      "execution_count": 0,
      "outputs": [
        {
          "output_type": "execute_result",
          "data": {
            "image/png": "[encoded data removed]",
            "text/latex": "$$\\left[\\begin{matrix}\\cos{\\left (\\phi \\right )} & - \\rho \\sin{\\left (\\phi \\right )}\\\\\\sin{\\left (\\phi \\right )} & \\rho \\cos{\\left (\\phi \\right )}\\end{matrix}\\right]$$",
            "text/plain": [
              "⎡cos(φ)  -ρ⋅sin(φ)⎤\n",
              "⎢                 ⎥\n",
              "⎣sin(φ)  ρ⋅cos(φ) ⎦"
            ]
          },
          "metadata": {
            "tags": []
          },
          "execution_count": 190
        }
      ]
    },
    {
      "cell_type": "code",
      "metadata": {
        "id": "W5QKH9IHZabr",
        "colab_type": "code",
        "colab": {}
      },
      "source": [
        "def jacobian(args, f, verbose=True, modules=[\"mpmath\", \"sympy\"]):\n",
        "    \"\"\"\n",
        "    Solves a nonlinear equation system numerically.\n",
        "\n",
        "    f is a vector function of symbolic expressions representing the system.\n",
        "    args are the variables.\n",
        "    x0 is a starting vector close to a solution.\n",
        "\n",
        "    Be careful with x0, not using floats might give unexpected results.\n",
        "\n",
        "    Use modules to specify which modules should be used to evaluate the\n",
        "    function and the Jacobian matrix. Make sure to use a module that supports\n",
        "    matrices. For more information on the syntax, please see the docstring\n",
        "    of lambdify.\n",
        "\n",
        "    Currently only fully determined systems are supported.\n",
        "\n",
        "    >>> from sympy import Symbol, Matrix\n",
        "    >>> x1 = Symbol('x1')\n",
        "    >>> x2 = Symbol('x2')\n",
        "    >>> f1 = 3 * x1**2 - 2 * x2**2 - 1\n",
        "    >>> f2 = x1**2 - 2 * x1 + x2**2 + 2 * x2 - 8\n",
        "    >>> msolve((x1, x2), (f1, f2), (-1., 1.))\n",
        "    [-1.19287309935246]\n",
        "    [ 1.27844411169911]\n",
        "    \"\"\"\n",
        "    if isinstance(f, (list, tuple)):\n",
        "        f = Matrix(f).T\n",
        "    if len(args) != f.cols:\n",
        "        raise NotImplementedError(\"need exactly as many variables as equations\")\n",
        "    if verbose:\n",
        "        print (\"f(x):\")\n",
        "        print (f)\n",
        "    # derive Jacobian\n",
        "    J = f.jacobian(args)\n",
        "    if verbose:\n",
        "        print (\"J(x):\")\n",
        "        print (J)\n",
        "    # create functions\n",
        "    f = lambdify(args, f.T, modules)\n",
        "    J = lambdify(args, J, modules)\n",
        "    return "
      ],
      "execution_count": 0,
      "outputs": []
    },
    {
      "cell_type": "code",
      "metadata": {
        "id": "75jNcTw-Zabz",
        "colab_type": "code",
        "colab": {}
      },
      "source": [
        "from sympy import Symbol, Matrix\n",
        "x1 = Symbol('x1')\n",
        "x2 = Symbol('x2')\n",
        "f1 = 3 * x1**2 - 2 * x2**2 - 1\n",
        "f2 = x1**2 - 2 * x1 + x2**2 + 2 * x2 - 8\n",
        "jacobian((x1, x2), (f1, f2))\n",
        "       "
      ],
      "execution_count": 0,
      "outputs": []
    }
  ]
}