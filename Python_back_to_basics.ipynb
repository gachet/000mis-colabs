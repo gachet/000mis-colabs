{
  "nbformat": 4,
  "nbformat_minor": 0,
  "metadata": {
    "colab": {
      "name": "Python_back_to_basics.ipynb",
      "provenance": [],
      "collapsed_sections": [
        "5WfsRDtTH791"
      ],
      "toc_visible": true,
      "include_colab_link": true
    },
    "kernelspec": {
      "name": "python3",
      "display_name": "Python 3"
    }
  },
  "cells": [
    {
      "cell_type": "markdown",
      "metadata": {
        "id": "view-in-github",
        "colab_type": "text"
      },
      "source": [
        "<a href=\"https://colab.research.google.com/github/gachet/000mis-colabs/blob/master/Python_back_to_basics.ipynb\" target=\"_parent\"><img src=\"https://colab.research.google.com/assets/colab-badge.svg\" alt=\"Open In Colab\"/></a>"
      ]
    },
    {
      "cell_type": "markdown",
      "metadata": {
        "id": "PLrPVB0TzUOL",
        "colab_type": "text"
      },
      "source": [
        "<center>\n",
        "    <img src=\"https://i.imgur.com/RrHxfUP.png\" style=\"width: 300px\">\n",
        "</center>\n"
      ]
    },
    {
      "cell_type": "markdown",
      "metadata": {
        "id": "BZWGbd4sMcWq",
        "colab_type": "text"
      },
      "source": [
        "# ¿Qué vamos a hacer hoy? 😍\n",
        "\n",
        "* Ejemplos\n",
        "* Teoría -> https://colab.research.google.com/drive/1RdPaTpuN4SRUfKhjInjR5xs5Dv7cYfe1#scrollTo=r4xy0NX4WvMt"
      ]
    },
    {
      "cell_type": "markdown",
      "metadata": {
        "id": "5WfsRDtTH791",
        "colab_type": "text"
      },
      "source": [
        "# Google Colaboratory\n",
        "\n",
        "<img src=\"https://colab.research.google.com/img/colab_favicon.ico\" style=\"width: 300px\">\n"
      ]
    },
    {
      "cell_type": "markdown",
      "metadata": {
        "id": "L8-zNo10MQTW",
        "colab_type": "text"
      },
      "source": [
        "Un \"Word\" con súper poderes. No sólo tenemos elementos como en cualquier procesador de texto (texto, imágenes, etc.), sino que podemos escribir código y obtener in situ los resultados de ejecutarlo: ideal para mostrar un análisis de datos. \n",
        "\n",
        "Un Jupyter notebook está compuesto por celdas de distintos tipos. Usaremos principalmente dos:\n",
        "* Celdas tipo _Markdown_.\n",
        "* Celdas de tipo \"código\".\n",
        "\n",
        "Esta es de tipo **Markdown**:\n",
        "Para usos avanzados:\n",
        "* [Tutorial](https://www.markdowntutorial.com/)"
      ]
    },
    {
      "cell_type": "code",
      "metadata": {
        "id": "J4zmpL3OE_UA",
        "colab_type": "code",
        "outputId": "003b5f54-39f0-4a1d-dfb4-ada8ad98a4c8",
        "colab": {
          "base_uri": "https://localhost:8080/",
          "height": 35
        }
      },
      "source": [
        "# Esta celda es de tipo \"code\"\n",
        "print(\"Hello World\")"
      ],
      "execution_count": 0,
      "outputs": [
        {
          "output_type": "stream",
          "text": [
            "Hello World\n"
          ],
          "name": "stdout"
        }
      ]
    },
    {
      "cell_type": "code",
      "metadata": {
        "id": "irYp3O1TMl_W",
        "colab_type": "code",
        "colab": {}
      },
      "source": [
        ""
      ],
      "execution_count": 0,
      "outputs": []
    },
    {
      "cell_type": "markdown",
      "metadata": {
        "id": "1Ai1WNFQMt97",
        "colab_type": "text"
      },
      "source": [
        "# Ejemplo 1: FizzBuzz! \n",
        "<img src=\"https://chrismorgan.info/media/images/rust-fizzbuzz.png\" style=\"width: 600px\">\n",
        "\n"
      ]
    },
    {
      "cell_type": "markdown",
      "metadata": {
        "id": "Jz8avbhiTTy_",
        "colab_type": "text"
      },
      "source": [
        "Escribe un programa que imprima los números del 1 al 100. PERO, para múltiplos de 3, imprime \"Fizz\", y en lugar de los múltiplos de 5, imprime \"Buzz\". Para aquellos números que son múltiplos de 3 y 5, imprime \"FizzBuzz\". \n",
        "\n",
        "\n",
        "\n",
        "Es una pregunta típica de entrevista \"para filtrar a 199 de 200 candidatos\"...\n",
        "\n",
        "Further reading: [Coding Horror - Why can't programmers program](https://blog.codinghorror.com/why-cant-programmers-program/)\n",
        "\n",
        "---"
      ]
    },
    {
      "cell_type": "markdown",
      "metadata": {
        "id": "Due3VWTVY220",
        "colab_type": "text"
      },
      "source": [
        "## Just printing\n",
        "\n",
        "Empecemos imprimiendo los números del 1 al 100:"
      ]
    },
    {
      "cell_type": "code",
      "metadata": {
        "id": "tLlZRNEBVUvf",
        "colab_type": "code",
        "outputId": "48b3f5e7-dbdc-4868-f2da-3334a565897e",
        "colab": {
          "base_uri": "https://localhost:8080/",
          "height": 1751
        }
      },
      "source": [
        "num = 1\n",
        "while num <= 100:\n",
        "    print(num)\n",
        "    num +=1        # <- '__iadd__': in-place add"
      ],
      "execution_count": 0,
      "outputs": [
        {
          "output_type": "stream",
          "text": [
            "1\n",
            "2\n",
            "3\n",
            "4\n",
            "5\n",
            "6\n",
            "7\n",
            "8\n",
            "9\n",
            "10\n",
            "11\n",
            "12\n",
            "13\n",
            "14\n",
            "15\n",
            "16\n",
            "17\n",
            "18\n",
            "19\n",
            "20\n",
            "21\n",
            "22\n",
            "23\n",
            "24\n",
            "25\n",
            "26\n",
            "27\n",
            "28\n",
            "29\n",
            "30\n",
            "31\n",
            "32\n",
            "33\n",
            "34\n",
            "35\n",
            "36\n",
            "37\n",
            "38\n",
            "39\n",
            "40\n",
            "41\n",
            "42\n",
            "43\n",
            "44\n",
            "45\n",
            "46\n",
            "47\n",
            "48\n",
            "49\n",
            "50\n",
            "51\n",
            "52\n",
            "53\n",
            "54\n",
            "55\n",
            "56\n",
            "57\n",
            "58\n",
            "59\n",
            "60\n",
            "61\n",
            "62\n",
            "63\n",
            "64\n",
            "65\n",
            "66\n",
            "67\n",
            "68\n",
            "69\n",
            "70\n",
            "71\n",
            "72\n",
            "73\n",
            "74\n",
            "75\n",
            "76\n",
            "77\n",
            "78\n",
            "79\n",
            "80\n",
            "81\n",
            "82\n",
            "83\n",
            "84\n",
            "85\n",
            "86\n",
            "87\n",
            "88\n",
            "89\n",
            "90\n",
            "91\n",
            "92\n",
            "93\n",
            "94\n",
            "95\n",
            "96\n",
            "97\n",
            "98\n",
            "99\n",
            "100\n"
          ],
          "name": "stdout"
        }
      ]
    },
    {
      "cell_type": "markdown",
      "metadata": {
        "id": "tfKTF76mSqXW",
        "colab_type": "text"
      },
      "source": [
        "Hablemos de:\n",
        "* Variables (notebook de teoría)\n",
        "* Bloques de código \n",
        "* While \n",
        "    "
      ]
    },
    {
      "cell_type": "markdown",
      "metadata": {
        "id": "qFEU3oSiZHWf",
        "colab_type": "text"
      },
      "source": [
        "## Primer intento...\n",
        "Chequeamos si son múltiplos de 3 o de 5 y añadimos \"Fizz\" y \"Buzz\":"
      ]
    },
    {
      "cell_type": "code",
      "metadata": {
        "id": "InTycBnhZZp-",
        "colab_type": "code",
        "outputId": "ad491d82-e2e5-46fb-99b2-1c16b65ca387",
        "colab": {
          "base_uri": "https://localhost:8080/",
          "height": 1751
        }
      },
      "source": [
        "num = 1\n",
        "while num <= 100:\n",
        "    if num%3 == 0: \n",
        "        print(\"Fizz\")\n",
        "    elif num%5 == 0:\n",
        "        print(\"Buzz\")\n",
        "    else:\n",
        "        print(num)\n",
        "    num +=1"
      ],
      "execution_count": 0,
      "outputs": [
        {
          "output_type": "stream",
          "text": [
            "1\n",
            "2\n",
            "Fizz\n",
            "4\n",
            "Buzz\n",
            "Fizz\n",
            "7\n",
            "8\n",
            "Fizz\n",
            "Buzz\n",
            "11\n",
            "Fizz\n",
            "13\n",
            "14\n",
            "Fizz\n",
            "16\n",
            "17\n",
            "Fizz\n",
            "19\n",
            "Buzz\n",
            "Fizz\n",
            "22\n",
            "23\n",
            "Fizz\n",
            "Buzz\n",
            "26\n",
            "Fizz\n",
            "28\n",
            "29\n",
            "Fizz\n",
            "31\n",
            "32\n",
            "Fizz\n",
            "34\n",
            "Buzz\n",
            "Fizz\n",
            "37\n",
            "38\n",
            "Fizz\n",
            "Buzz\n",
            "41\n",
            "Fizz\n",
            "43\n",
            "44\n",
            "Fizz\n",
            "46\n",
            "47\n",
            "Fizz\n",
            "49\n",
            "Buzz\n",
            "Fizz\n",
            "52\n",
            "53\n",
            "Fizz\n",
            "Buzz\n",
            "56\n",
            "Fizz\n",
            "58\n",
            "59\n",
            "Fizz\n",
            "61\n",
            "62\n",
            "Fizz\n",
            "64\n",
            "Buzz\n",
            "Fizz\n",
            "67\n",
            "68\n",
            "Fizz\n",
            "Buzz\n",
            "71\n",
            "Fizz\n",
            "73\n",
            "74\n",
            "Fizz\n",
            "76\n",
            "77\n",
            "Fizz\n",
            "79\n",
            "Buzz\n",
            "Fizz\n",
            "82\n",
            "83\n",
            "Fizz\n",
            "Buzz\n",
            "86\n",
            "Fizz\n",
            "88\n",
            "89\n",
            "Fizz\n",
            "91\n",
            "92\n",
            "Fizz\n",
            "94\n",
            "Buzz\n",
            "Fizz\n",
            "97\n",
            "98\n",
            "Fizz\n",
            "Buzz\n"
          ],
          "name": "stdout"
        }
      ]
    },
    {
      "cell_type": "markdown",
      "metadata": {
        "id": "CXQgyy6tZnLg",
        "colab_type": "text"
      },
      "source": [
        "Hablemos de:\n",
        "* Control flow (notebook de teoría)\n",
        "\n",
        "¿Hemos terminado? 😏"
      ]
    },
    {
      "cell_type": "markdown",
      "metadata": {
        "id": "SKyz6PrcZ-yS",
        "colab_type": "text"
      },
      "source": [
        "## Solución correcta\n",
        "¿Qué pasa con los múltiplos de 3 y de 5?"
      ]
    },
    {
      "cell_type": "code",
      "metadata": {
        "id": "bRa0nx7aaAuh",
        "colab_type": "code",
        "outputId": "ef56f36d-532c-472a-8a66-b128a4defe4d",
        "colab": {
          "base_uri": "https://localhost:8080/",
          "height": 1751
        }
      },
      "source": [
        "num = 1\n",
        "while num <= 100:\n",
        "    # Necesitamos esta condición extra... y aquí, la primera...\n",
        "    if num%3 == 0 and num%5 == 0: \n",
        "        print(\"FizzBuzz\")\n",
        "    elif num%3 == 0:\n",
        "        print(\"Fizz\")\n",
        "    elif num%5 == 0:\n",
        "        print(\"Buzz\")\n",
        "    else:\n",
        "        print(num)\n",
        "    num +=1"
      ],
      "execution_count": 0,
      "outputs": [
        {
          "output_type": "stream",
          "text": [
            "1\n",
            "2\n",
            "Fizz\n",
            "4\n",
            "Buzz\n",
            "Fizz\n",
            "7\n",
            "8\n",
            "Fizz\n",
            "Buzz\n",
            "11\n",
            "Fizz\n",
            "13\n",
            "14\n",
            "FizzBuzz\n",
            "16\n",
            "17\n",
            "Fizz\n",
            "19\n",
            "Buzz\n",
            "Fizz\n",
            "22\n",
            "23\n",
            "Fizz\n",
            "Buzz\n",
            "26\n",
            "Fizz\n",
            "28\n",
            "29\n",
            "FizzBuzz\n",
            "31\n",
            "32\n",
            "Fizz\n",
            "34\n",
            "Buzz\n",
            "Fizz\n",
            "37\n",
            "38\n",
            "Fizz\n",
            "Buzz\n",
            "41\n",
            "Fizz\n",
            "43\n",
            "44\n",
            "FizzBuzz\n",
            "46\n",
            "47\n",
            "Fizz\n",
            "49\n",
            "Buzz\n",
            "Fizz\n",
            "52\n",
            "53\n",
            "Fizz\n",
            "Buzz\n",
            "56\n",
            "Fizz\n",
            "58\n",
            "59\n",
            "FizzBuzz\n",
            "61\n",
            "62\n",
            "Fizz\n",
            "64\n",
            "Buzz\n",
            "Fizz\n",
            "67\n",
            "68\n",
            "Fizz\n",
            "Buzz\n",
            "71\n",
            "Fizz\n",
            "73\n",
            "74\n",
            "FizzBuzz\n",
            "76\n",
            "77\n",
            "Fizz\n",
            "79\n",
            "Buzz\n",
            "Fizz\n",
            "82\n",
            "83\n",
            "Fizz\n",
            "Buzz\n",
            "86\n",
            "Fizz\n",
            "88\n",
            "89\n",
            "FizzBuzz\n",
            "91\n",
            "92\n",
            "Fizz\n",
            "94\n",
            "Buzz\n",
            "Fizz\n",
            "97\n",
            "98\n",
            "Fizz\n",
            "Buzz\n"
          ],
          "name": "stdout"
        }
      ]
    },
    {
      "cell_type": "markdown",
      "metadata": {
        "id": "roLhL67EbKUo",
        "colab_type": "text"
      },
      "source": [
        "## Versión PRO 🐔"
      ]
    },
    {
      "cell_type": "code",
      "metadata": {
        "id": "ekcznQNkbk2J",
        "colab_type": "code",
        "outputId": "2d6bcbe9-c125-4301-b3bb-464b51a2adb6",
        "colab": {
          "base_uri": "https://localhost:8080/",
          "height": 1717
        }
      },
      "source": [
        "num = 1\n",
        "while(num <= 100):\n",
        "    msg = \"\"\n",
        "    if num % 3 == 0:\n",
        "        msg += \"Fizz\"\n",
        "    if num % 5 == 0:\n",
        "        msg += \"Buzz\"\n",
        "    if not msg:       # <--- Atención a esta expresión (ver teoría)\n",
        "        msg = num\n",
        "    print(msg)\n",
        "    num += 1"
      ],
      "execution_count": 0,
      "outputs": [
        {
          "output_type": "stream",
          "text": [
            "1\n",
            "2\n",
            "Fizz\n",
            "4\n",
            "Buzz\n",
            "Fizz\n",
            "7\n",
            "8\n",
            "Fizz\n",
            "Buzz\n",
            "11\n",
            "Fizz\n",
            "13\n",
            "14\n",
            "FizzBuzz\n",
            "16\n",
            "17\n",
            "Fizz\n",
            "19\n",
            "Buzz\n",
            "Fizz\n",
            "22\n",
            "23\n",
            "Fizz\n",
            "Buzz\n",
            "26\n",
            "Fizz\n",
            "28\n",
            "29\n",
            "FizzBuzz\n",
            "31\n",
            "32\n",
            "Fizz\n",
            "34\n",
            "Buzz\n",
            "Fizz\n",
            "37\n",
            "38\n",
            "Fizz\n",
            "Buzz\n",
            "41\n",
            "Fizz\n",
            "43\n",
            "44\n",
            "FizzBuzz\n",
            "46\n",
            "47\n",
            "Fizz\n",
            "49\n",
            "Buzz\n",
            "Fizz\n",
            "52\n",
            "53\n",
            "Fizz\n",
            "Buzz\n",
            "56\n",
            "Fizz\n",
            "58\n",
            "59\n",
            "FizzBuzz\n",
            "61\n",
            "62\n",
            "Fizz\n",
            "64\n",
            "Buzz\n",
            "Fizz\n",
            "67\n",
            "68\n",
            "Fizz\n",
            "Buzz\n",
            "71\n",
            "Fizz\n",
            "73\n",
            "74\n",
            "FizzBuzz\n",
            "76\n",
            "77\n",
            "Fizz\n",
            "79\n",
            "Buzz\n",
            "Fizz\n",
            "82\n",
            "83\n",
            "Fizz\n",
            "Buzz\n",
            "86\n",
            "Fizz\n",
            "88\n",
            "89\n",
            "FizzBuzz\n",
            "91\n",
            "92\n",
            "Fizz\n",
            "94\n",
            "Buzz\n",
            "Fizz\n",
            "97\n",
            "98\n",
            "Fizz\n",
            "Buzz\n"
          ],
          "name": "stdout"
        }
      ]
    },
    {
      "cell_type": "markdown",
      "metadata": {
        "id": "YQ41HhZDjXa8",
        "colab_type": "text"
      },
      "source": [
        "# Ejemplo 2: cajero automático\n",
        "<img src=\"https://i.pinimg.com/originals/85/1e/cb/851ecb4773967ab2ef9bd13569103804.jpg\">\n",
        "\n"
      ]
    },
    {
      "cell_type": "markdown",
      "metadata": {
        "id": "Rg8KJpiZjXXu",
        "colab_type": "text"
      },
      "source": [
        "Nos han encargado desarrollar una parte del display de un cajero automático, en concreto, mostrar un histórico de últimas operaciones del usuario. A nuestro sistema le pasaran una lista de cantidades en la variable `moves`. Nuestro sistema simplemente tendrá que imprimir qué número de operación es y su cuantía. Si una operación resultó fallida, no nos pasaran una cantidad, si no `None`, y habremos de imprimir \"Operación Fallida\".\n",
        "\n",
        "e.g., si `moves = [30, -47.5, None]`, nuestro programa deberá imprimir:\n",
        "> \"Operacion #1: 30\"\n",
        "\n",
        "> \"Operacion #2: -47,5\n",
        "\n",
        "> \"Operacion #3: Operacion fallida\""
      ]
    },
    {
      "cell_type": "markdown",
      "metadata": {
        "id": "cYjcSX3qy1t6",
        "colab_type": "text"
      },
      "source": [
        "### Iteración sencilla \"chustera\""
      ]
    },
    {
      "cell_type": "code",
      "metadata": {
        "id": "LssWxyjhjcb6",
        "colab_type": "code",
        "outputId": "f5ca5ede-cb78-41e4-839f-bb8103d19898",
        "colab": {
          "base_uri": "https://localhost:8080/",
          "height": 68
        }
      },
      "source": [
        "moves = [30, -47.5, None] # <-- Esto es una lista\n",
        "\n",
        "i = 0\n",
        "while i < len(moves):\n",
        "    print(moves[i])       # <-- Podemos acceder a sus elementos por índice\n",
        "    i += 1"
      ],
      "execution_count": 0,
      "outputs": [
        {
          "output_type": "stream",
          "text": [
            "30\n",
            "-47.5\n",
            "None\n"
          ],
          "name": "stdout"
        }
      ]
    },
    {
      "cell_type": "markdown",
      "metadata": {
        "id": "tnQ-xxLSzK5W",
        "colab_type": "text"
      },
      "source": [
        "### The semi -pythonic way"
      ]
    },
    {
      "cell_type": "code",
      "metadata": {
        "id": "6tGF7ltvzI45",
        "colab_type": "code",
        "outputId": "e11587ed-5a83-4fa4-bdf1-a3efb77d78df",
        "colab": {
          "base_uri": "https://localhost:8080/",
          "height": 68
        }
      },
      "source": [
        "moves = [30, -47.5, None] \n",
        "\n",
        "for move in moves:\n",
        "    print(move)"
      ],
      "execution_count": 0,
      "outputs": [
        {
          "output_type": "stream",
          "text": [
            "30\n",
            "-47.5\n",
            "None\n"
          ],
          "name": "stdout"
        }
      ]
    },
    {
      "cell_type": "code",
      "metadata": {
        "id": "-W_C2H0azyD_",
        "colab_type": "code",
        "outputId": "1c2dda1a-1f29-4f58-d70d-b459bc36af0b",
        "colab": {
          "base_uri": "https://localhost:8080/",
          "height": 68
        }
      },
      "source": [
        "moves = [30, -47.5, None] \n",
        "\n",
        "for move in moves:\n",
        "    print(\"Operación: \" + str(move))"
      ],
      "execution_count": 0,
      "outputs": [
        {
          "output_type": "stream",
          "text": [
            "Operación: 30\n",
            "Operación: -47.5\n",
            "Operación: None\n"
          ],
          "name": "stdout"
        }
      ]
    },
    {
      "cell_type": "markdown",
      "metadata": {
        "id": "76FSFyRIzmKQ",
        "colab_type": "text"
      },
      "source": [
        "### Añadir el contador"
      ]
    },
    {
      "cell_type": "code",
      "metadata": {
        "id": "lPYQ4fmizlqJ",
        "colab_type": "code",
        "outputId": "445b37a6-1409-41c3-9944-762c16f9f99a",
        "colab": {
          "base_uri": "https://localhost:8080/",
          "height": 68
        }
      },
      "source": [
        "moves = [30, -47.5, None] \n",
        "\n",
        "i = 1                                                # <-- No pythonico\n",
        "for move in moves:\n",
        "    print(\"Operación #\" + str(i) + \": \" + str(move)) # <-- Esto tampoco\n",
        "    i += 1"
      ],
      "execution_count": 0,
      "outputs": [
        {
          "output_type": "stream",
          "text": [
            "Operación #1: 30\n",
            "Operación #2: -47.5\n",
            "Operación #3: None\n"
          ],
          "name": "stdout"
        }
      ]
    },
    {
      "cell_type": "markdown",
      "metadata": {
        "id": "O7CDMUK9jXB_",
        "colab_type": "text"
      },
      "source": [
        "#### String formatting"
      ]
    },
    {
      "cell_type": "code",
      "metadata": {
        "id": "G7MCQdi_19-W",
        "colab_type": "code",
        "colab": {}
      },
      "source": [
        "# No muy ok...\n",
        "moves = [30, -47.5, None] \n",
        "\n",
        "i = 1                                                # <-- No pythonico\n",
        "for move in moves:\n",
        "    print(\"Operación #\" + str(i) + \": \" + str(move)) # <-- Esto tampoco\n",
        "    i += 1"
      ],
      "execution_count": 0,
      "outputs": []
    },
    {
      "cell_type": "code",
      "metadata": {
        "id": "240kkn326hz1",
        "colab_type": "code",
        "outputId": "426fed7c-5108-4ed2-eecc-80d03193df7d",
        "colab": {
          "base_uri": "https://localhost:8080/",
          "height": 68
        }
      },
      "source": [
        "moves = [30, -47.5, None] \n",
        "\n",
        "i = 1\n",
        "for move in moves:\n",
        "    print(f\"Operación #{i}: {move}\") \n",
        "    i += 1"
      ],
      "execution_count": 0,
      "outputs": [
        {
          "output_type": "stream",
          "text": [
            "Operación #1: 30\n",
            "Operación #2: -47.5\n",
            "Operación #3: None\n"
          ],
          "name": "stdout"
        }
      ]
    },
    {
      "cell_type": "markdown",
      "metadata": {
        "id": "IX-MbXcN7OOP",
        "colab_type": "text"
      },
      "source": [
        "#### Full pythonic way"
      ]
    },
    {
      "cell_type": "code",
      "metadata": {
        "id": "bPLB8Yv_7tE0",
        "colab_type": "code",
        "outputId": "9302ec3a-d6ff-485c-bff8-05a1161521e0",
        "colab": {
          "base_uri": "https://localhost:8080/",
          "height": 68
        }
      },
      "source": [
        "moves = [30, -47.5, None] \n",
        "\n",
        "for i, move in enumerate(moves):\n",
        "    print(f\"Operación #{i+1}: {move}\") "
      ],
      "execution_count": 0,
      "outputs": [
        {
          "output_type": "stream",
          "text": [
            "Operación #1: 30\n",
            "Operación #2: -47.5\n",
            "Operación #3: None\n"
          ],
          "name": "stdout"
        }
      ]
    },
    {
      "cell_type": "code",
      "metadata": {
        "id": "jkyL4nTh7_TJ",
        "colab_type": "code",
        "outputId": "434c5531-ec2e-41a5-ff4d-0c1875eed21b",
        "colab": {
          "base_uri": "https://localhost:8080/",
          "height": 34
        }
      },
      "source": [
        "print(list(enumerate(moves)))"
      ],
      "execution_count": 0,
      "outputs": [
        {
          "output_type": "stream",
          "text": [
            "[(0, 30), (1, -47.5), (2, None)]\n"
          ],
          "name": "stdout"
        }
      ]
    },
    {
      "cell_type": "markdown",
      "metadata": {
        "id": "VZYQMbvz8kD-",
        "colab_type": "text"
      },
      "source": [
        "* Tuple unpacking"
      ]
    },
    {
      "cell_type": "markdown",
      "metadata": {
        "id": "M2pqfFAR_tUu",
        "colab_type": "text"
      },
      "source": [
        "## And finally..."
      ]
    },
    {
      "cell_type": "code",
      "metadata": {
        "id": "3Y_3xqzD_8cl",
        "colab_type": "code",
        "outputId": "828da4e4-b67f-4105-fd57-2ebf39977d3d",
        "colab": {
          "base_uri": "https://localhost:8080/",
          "height": 68
        }
      },
      "source": [
        "moves = [30, -47.5, None] \n",
        "for i, move in enumerate(moves):\n",
        "    if move:\n",
        "        operation_result = move\n",
        "    else:\n",
        "        operation_result = \"Operacion fallida\"\n",
        "    msg = f\"Operacion #{i+1}: {operation_result}\"\n",
        "    print(msg)"
      ],
      "execution_count": 0,
      "outputs": [
        {
          "output_type": "stream",
          "text": [
            "Operacion #0: 30\n",
            "Operacion #1: -47.5\n",
            "Operacion #2: Operacion fallida\n"
          ],
          "name": "stdout"
        }
      ]
    },
    {
      "cell_type": "markdown",
      "metadata": {
        "id": "vAeeDxQXzxuG",
        "colab_type": "text"
      },
      "source": [
        "Y podríamos incluso..."
      ]
    },
    {
      "cell_type": "code",
      "metadata": {
        "id": "_8DWYQo1z1E9",
        "colab_type": "code",
        "outputId": "8df0a8b5-8334-486c-d4d3-3c52d8cf14c8",
        "colab": {
          "base_uri": "https://localhost:8080/",
          "height": 68
        }
      },
      "source": [
        "moves = [30, -47.5, None] \n",
        "for i, move in enumerate(moves):\n",
        "    operation_result = move or \"Operacion fallida\"\n",
        "    msg = f\"Operacion #{i+1}: {operation_result}\"\n",
        "    print(msg)"
      ],
      "execution_count": 0,
      "outputs": [
        {
          "output_type": "stream",
          "text": [
            "Operacion #1: 30\n",
            "Operacion #2: -47.5\n",
            "Operacion #3: Operacion fallida\n"
          ],
          "name": "stdout"
        }
      ]
    },
    {
      "cell_type": "markdown",
      "metadata": {
        "id": "g-WI0aAHAWNz",
        "colab_type": "text"
      },
      "source": [
        "But waaaaait... y si probamos `moves = [30, 0, -47.5]` ?"
      ]
    },
    {
      "cell_type": "code",
      "metadata": {
        "id": "pp0lBMhbAoIz",
        "colab_type": "code",
        "outputId": "5dc2846f-d375-47e9-a9bb-050a694ecf7e",
        "colab": {
          "base_uri": "https://localhost:8080/",
          "height": 68
        }
      },
      "source": [
        "moves = [30, 0, -47.5] \n",
        "for i, move in enumerate(moves):\n",
        "    operation_result = move or \"Operacion fallida\"\n",
        "    msg = f\"Operacion #{i+1}: {operation_result}\"\n",
        "    print(msg)"
      ],
      "execution_count": 0,
      "outputs": [
        {
          "output_type": "stream",
          "text": [
            "Operacion #1: 30\n",
            "Operacion #2: Operacion fallida\n",
            "Operacion #3: -47.5\n"
          ],
          "name": "stdout"
        }
      ]
    },
    {
      "cell_type": "markdown",
      "metadata": {
        "id": "zKPAaSD7Au73",
        "colab_type": "text"
      },
      "source": [
        "😳😳😳\n",
        "* Truth value testing"
      ]
    },
    {
      "cell_type": "code",
      "metadata": {
        "id": "TWGRupzgBMMP",
        "colab_type": "code",
        "outputId": "972b8700-2b9b-46c8-d13d-a5479a54dbff",
        "colab": {
          "base_uri": "https://localhost:8080/",
          "height": 68
        }
      },
      "source": [
        "moves = [30, 0, -47.5] \n",
        "for i, move in enumerate(moves):\n",
        "    operation_result = move if move is not None else \"Operacion fallida\"\n",
        "    msg = f\"Operacion #{i+1}: {operation_result}\"\n",
        "    print(msg)"
      ],
      "execution_count": 0,
      "outputs": [
        {
          "output_type": "stream",
          "text": [
            "Operacion #1: 30\n",
            "Operacion #2: 0\n",
            "Operacion #3: -47.5\n"
          ],
          "name": "stdout"
        }
      ]
    },
    {
      "cell_type": "markdown",
      "metadata": {
        "id": "-roFookqS3Ob",
        "colab_type": "text"
      },
      "source": [
        "# Ejemplo 3: Don Quijote de la Mancha\n",
        "\n",
        "<img src=\"https://res.cloudinary.com/randommonkey/image/upload/c_thumb,f_auto,g_faces,h_576,w_1024/v1494383781/datasketch/web/cd1tyamtjnts4gpirvic.jpg\" style=\"width: 600px\">\n"
      ]
    },
    {
      "cell_type": "markdown",
      "metadata": {
        "id": "DKKFIJpS9hWS",
        "colab_type": "text"
      },
      "source": [
        "Primer capítulo del Quijote aquí -> https://drive.google.com/open?id=17HUVgocssJbW1yLsAgSXsHgo7nbZInaq3IUoRPKxYXQ"
      ]
    },
    {
      "cell_type": "code",
      "metadata": {
        "id": "b6eGBR7HTvg0",
        "colab_type": "code",
        "outputId": "d9d51237-e8ab-4800-ac0c-995bd431bfff",
        "colab": {
          "base_uri": "https://localhost:8080/",
          "height": 292
        }
      },
      "source": [
        "# Auxiliar code: reads the first chapter of Don Quixote \n",
        "import string\n",
        "with open(\"quijote.txt\", encoding=\"UTF-8\") as f:\n",
        "    quixote_chapter = f.read()\n",
        "translator = str.maketrans('', '', string.punctuation)\n",
        "quixote_chapter = quixote_chapter.translate(translator)\n",
        "print(quixote_chapter)"
      ],
      "execution_count": 0,
      "outputs": [
        {
          "output_type": "stream",
          "text": [
            "En un lugar de la Mancha de cuyo nombre no quiero acordarme no ha mucho tiempo que vivía un hidalgo de los de lanza en astillero adarga antigua rocín flaco y galgo corredor Una olla de algo más vaca que carnero salpicón las más noches duelos y quebrantos los sábados lentejas los viernes algún palomino de añadidura los domingos consumían las tres partes de su hacienda El resto della concluían sayo de velarte calzas de velludo para las fiestas con sus pantuflos de lo mismo los días de entre semana se honraba con su vellori de lo más fino Tenía en su casa una ama que pasaba de los cuarenta y una sobrina que no llegaba a los veinte y un mozo de campo y plaza que así ensillaba el rocín como tomaba la podadera Frisaba la edad de nuestro hidalgo con los cincuenta años era de complexión recia seco de carnes enjuto de rostro gran madrugador y amigo de la caza Quieren decir que tenía el sobrenombre de Quijada o Quesada que en esto hay alguna diferencia en los autores que deste caso escriben aunque por conjeturas verosímiles se deja entender que se llama Quijana pero esto importa poco a nuestro cuento basta que en la narración dél no se salga un punto de la verdad\n",
            "\n",
            "Es pues de saber que este sobredicho hidalgo los ratos que estaba ocioso que eran los más del año se daba a leer libros de caballerías con tanta afición y gusto que olvidó casi de todo punto el ejercicio de la caza y aun la administración de su hacienda y llegó a tanto su curiosidad y desatino en esto que vendió muchas hanegas de tierra de sembradura para comprar libros de caballerías en que leer y así llevó a su casa todos cuantos pudo haber dellos y de todos ningunos le parecían tan bien como los que compuso el famoso Feliciano de Silva porque la claridad de su prosa y aquellas intrincadas razones suyas le parecían de perlas y más cuando llegaba a leer aquellos requiebros y cartas de desafío donde en muchas partes hallaba escrito la razón de la sinrazón que a mi razón se hace de tal manera mi razón enflaquece que con razón me quejo de la vuestra fermosura y también cuando leía los altos cielos que de vuestra divinidad divinamente con las estrellas se fortifican y os hacen merecedora del merecimiento que merece la vuestra grandeza Con estas y semejantes razones perdía el pobre caballero el juicio y desvelábase por entenderlas y desentrañarles el sentido que no se lo sacara ni las entendiera el mismo Aristóteles si resucitara para sólo ello No estaba muy bien con las heridas que don Belianis daba y recibía porque se imaginaba que por grandes maestros que le hubiesen curado no dejaría de tener el rostro y todo el cuerpo lleno de cicatrices y señales pero con todo alababa en su autor aquel acabar su libro con la promesa de aquella inacabable aventura y muchas veces le vino deseo de tomar la pluma y darle fin al pie de la letra como allí se promete y sin duda alguna lo hiciera y aun saliera con ello si otros mayores y continuos pensamientos no se lo estorbaran\n",
            "\n",
            "Tuvo muchas veces competencia con el cura de su lugar que era hombre docto graduado en Sigüenza sobre cuál había sido mejor caballero Palmerín de Inglaterra o Amadís de Gaula mas maese Nicolás barbero del mismo pueblo decía que ninguno llegaba al caballero del Febo y que si alguno se le podía comparar era don Galaor hermano de Amadís de Gaula porque tenía muy acomodada condición para todo que no era caballero melindroso ni tan llorón como su hermano y que en lo de la valentía no le iba en zaga\n",
            "\n",
            "En resolución él se enfrascó tanto en su lectura que se le pasaban las noches leyendo de claro en claro y los días de turbio en turbio y así del poco dormir y del mucho leer se le secó el cerebro de manera que vino a perder el juicio Llenósele la fantasía de todo aquello que leía en los libros así de encantamientos como de pendencias batallas desafíos heridas requiebros amores tormentas y disparates imposibles y asentósele de tal modo en la imaginación que era verdad toda aquella máquina de aquellas soñadas invenciones que leía que para él no había otra historia más cierta en el mundo\n",
            "\n",
            "Decía él que el Cid Ruy Díaz había sido muy buen caballero pero que no tenía que ver con el caballero de la ardiente espada que de sólo un revés había partido por medio dos fieros y descomunales gigantes Mejor estaba con Bernardo del Carpio porque en Roncesvalle había muerto a Roldán el encantado valiéndose de la industria de Hércules cuando ahogó a Anteo el hijo de la Tierra entre los brazos Decía mucho bien del gigante Morgante porque con ser de aquella generación gigantesca que todos son soberbios y descomedidos él solo era afable y bien criado pero sobre todos estaba bien con Reinaldos de Montalbán y más cuando le veía salir de su castillo y robar cuantos topaba y cuando en Allende robó aquel ídolo de Mahoma que era todo de oro según dice su historia Diera él por dar una mano de coces al traidor de Galalón al ama que tenía y aun a su sobrina de añadidura\n",
            "\n",
            "En efecto rematado ya su juicio vino a dar en el más extraño pensamiento que jamás dio loco en el mundo y fue que le pareció convenible y necesario así para el aumento de su honra como para el servicio de su república hacerse caballero andante e irse por todo el mundo con sus armas y caballo a buscar las aventuras y a ejercitarse en todo aquello que él había leído que los caballeros andantes se ejercitaban deshaciendo todo género de agravio y poniéndose en ocasiones y peligros donde acabándolos cobrase eterno nombre y fama\n",
            "\n",
            "Imaginábase el pobre ya coronado por el valor de su brazo por lo menos del imperio de Trapisonda y así con estos tan agradables pensamientos llevado del estraño gusto que en ellos sentía se dió priesa a poner en efecto lo que deseaba Y lo primero que hizo fue limpiar unas armas que habían sido de sus bisabuelos que tomadas de orín y llenas de moho luengos siglos había que estaban puestas y olvidadas en un rincón Limpiólas y aderezólas lo mejor que pudo pero vió que tenían una gran falta y era que no tenía celada de encaje sino morrión simple mas a esto suplió su industria porque de cartones hizo un modo de media celada que encajada con el morrión hacía una apariencia de celada entera Es verdad que para probar si era fuerte y podía estar al riesgo de una cuchillada sacó su espada y le dió dos golpes y con el primero y en un punto deshizo lo que había hecho en una semana y no dejó de parecerle mal la facilidad con que la había hecho pedazos y por asegurarse de este peligro lo tornó a hacer de nuevo poniéndole unas barras de hierro por de dentro de tal manera que él quedó satisfecho de su fortaleza y sin querer hacer nueva experiencia de ella la diputó y tuvo por celada finísima de encaje Fue luego a ver a su rocín y aunque tenía más cuartos que un real y más tachas que el caballo de Gonela que tantum pellis et ossa fuit le pareció que ni el Bucéfalo de Alejandro ni Babieca el del Cid con él se igualaban Cuatro días se le pasaron en imaginar qué nombre le podría porque según se decía él a sí mismo no era razón que caballo de caballero tan famoso y tan bueno él por sí estuviese sin nombre conocido y así procuraba acomodársele de manera que declarase quien había sido antes que fuese de caballero andante y lo que era entones pues estaba muy puesto en razón que mudando su señor estado mudase él también el nombre y le cobrase famoso y de estruendo como convenía a la nueva orden y al nuevo ejercicio que ya profesaba y así después de muchos nombres que formó borró y quitó añadió deshizo y tornó a hacer en su memoria e imaginación al fin le vino a llamar ROCINANTE nombre a su parecer alto sonoro y significativo de lo que había sido cuando fue rocín antes de lo que ahora era que era antes y primero de todos los rocines del mundo Puesto nombre y tan a su gusto a su caballo quiso ponérsele a sí mismo y en este pensamiento duró otros ocho días y al cabo se vino a llamar DON QUIJOTE de donde como queda dicho tomaron ocasión los autores de esta tan verdadera historia que sin duda se debía llamar Quijada y no Quesada como otros quisieron decir Pero acordándose que el valeroso Amadís no sólo se había contentado con llamarse Amadís a secas sino que añadió el nombre de su reino y patria por hacerla famosa y se llamó Amadís de Gaula así quiso como buen caballero añadir al suyo el nombre de la suya y llamarse DON QUIJOTE DE LA MANCHA con que a su parecer declaraba muy al vivo su linaje y patria y la honraba con tomar el sobrenombre della\n",
            "\n",
            "Limpias pues sus armas hecho del morrión celada puesto nombre a su rocín y confirmándose a sí mismo se dió a entender que no le faltaba otra cosa sino buscar una dama de quien enamorarse porque el caballero andante sin amores era árbol sin hojas y sin fruto y cuerpo sin alma Decíase él si yo por malos de mis pecados por por mi buena suerte me encuentro por ahí con algún gigante como de ordinario les acontece a los caballeros andantes y le derribo de un encuentro o le parto por mitad del cuerpo o finalmente le venzo y le rindo ¿no será bien tener a quién enviarle presentado y que entre y se hinque de rodillas ante mi dulce señora y diga con voz humilde y rendida yo señora soy el gigante Caraculiambro señor de la ínsula Malindrania a quien venció en singular batalla el jamás como se debe alabado caballero D Quijote de la Mancha el cual me mandó que me presentase ante la vuestra merced para que la vuestra grandeza disponga de mí a su talante ¡Oh cómo se holgó nuestro buen caballero cuando hubo hecho este discurso y más cuando halló a quién dar nombre de su dama Y fue a lo que se cree que en un lugar cerca del suyo había una moza labradora de muy buen parecer de quien él un tiempo anduvo enamorado aunque según se entiende ella jamás lo supo ni se dió cata de ello Llamábase Aldonza Lorenzo y a esta le pareció ser bien darle título de señora de sus pensamientos y buscándole nombre que no desdijese mucho del suyo y que tirase y se encaminase al de princesa y gran señora vino a llamarla DULCINEA DEL TOBOSO porque era natural del Toboso nombre a su parecer músico y peregrino y significativo como todos los demás que a él y a sus cosas había puesto\n"
          ],
          "name": "stdout"
        }
      ]
    },
    {
      "cell_type": "code",
      "metadata": {
        "id": "4sBIzC3PVedl",
        "colab_type": "code",
        "outputId": "e0db8275-8dec-444a-9e63-61bae65be668",
        "colab": {
          "base_uri": "https://localhost:8080/",
          "height": 54
        }
      },
      "source": [
        "# Convertimos en lista de str\n",
        "chapter_by_word = quixote_chapter.split()\n",
        "print(chapter_by_word)"
      ],
      "execution_count": 0,
      "outputs": [
        {
          "output_type": "stream",
          "text": [
            "['En', 'un', 'lugar', 'de', 'la', 'Mancha', 'de', 'cuyo', 'nombre', 'no', 'quiero', 'acordarme', 'no', 'ha', 'mucho', 'tiempo', 'que', 'vivía', 'un', 'hidalgo', 'de', 'los', 'de', 'lanza', 'en', 'astillero', 'adarga', 'antigua', 'rocín', 'flaco', 'y', 'galgo', 'corredor', 'Una', 'olla', 'de', 'algo', 'más', 'vaca', 'que', 'carnero', 'salpicón', 'las', 'más', 'noches', 'duelos', 'y', 'quebrantos', 'los', 'sábados', 'lentejas', 'los', 'viernes', 'algún', 'palomino', 'de', 'añadidura', 'los', 'domingos', 'consumían', 'las', 'tres', 'partes', 'de', 'su', 'hacienda', 'El', 'resto', 'della', 'concluían', 'sayo', 'de', 'velarte', 'calzas', 'de', 'velludo', 'para', 'las', 'fiestas', 'con', 'sus', 'pantuflos', 'de', 'lo', 'mismo', 'los', 'días', 'de', 'entre', 'semana', 'se', 'honraba', 'con', 'su', 'vellori', 'de', 'lo', 'más', 'fino', 'Tenía', 'en', 'su', 'casa', 'una', 'ama', 'que', 'pasaba', 'de', 'los', 'cuarenta', 'y', 'una', 'sobrina', 'que', 'no', 'llegaba', 'a', 'los', 'veinte', 'y', 'un', 'mozo', 'de', 'campo', 'y', 'plaza', 'que', 'así', 'ensillaba', 'el', 'rocín', 'como', 'tomaba', 'la', 'podadera', 'Frisaba', 'la', 'edad', 'de', 'nuestro', 'hidalgo', 'con', 'los', 'cincuenta', 'años', 'era', 'de', 'complexión', 'recia', 'seco', 'de', 'carnes', 'enjuto', 'de', 'rostro', 'gran', 'madrugador', 'y', 'amigo', 'de', 'la', 'caza', 'Quieren', 'decir', 'que', 'tenía', 'el', 'sobrenombre', 'de', 'Quijada', 'o', 'Quesada', 'que', 'en', 'esto', 'hay', 'alguna', 'diferencia', 'en', 'los', 'autores', 'que', 'deste', 'caso', 'escriben', 'aunque', 'por', 'conjeturas', 'verosímiles', 'se', 'deja', 'entender', 'que', 'se', 'llama', 'Quijana', 'pero', 'esto', 'importa', 'poco', 'a', 'nuestro', 'cuento', 'basta', 'que', 'en', 'la', 'narración', 'dél', 'no', 'se', 'salga', 'un', 'punto', 'de', 'la', 'verdad', 'Es', 'pues', 'de', 'saber', 'que', 'este', 'sobredicho', 'hidalgo', 'los', 'ratos', 'que', 'estaba', 'ocioso', 'que', 'eran', 'los', 'más', 'del', 'año', 'se', 'daba', 'a', 'leer', 'libros', 'de', 'caballerías', 'con', 'tanta', 'afición', 'y', 'gusto', 'que', 'olvidó', 'casi', 'de', 'todo', 'punto', 'el', 'ejercicio', 'de', 'la', 'caza', 'y', 'aun', 'la', 'administración', 'de', 'su', 'hacienda', 'y', 'llegó', 'a', 'tanto', 'su', 'curiosidad', 'y', 'desatino', 'en', 'esto', 'que', 'vendió', 'muchas', 'hanegas', 'de', 'tierra', 'de', 'sembradura', 'para', 'comprar', 'libros', 'de', 'caballerías', 'en', 'que', 'leer', 'y', 'así', 'llevó', 'a', 'su', 'casa', 'todos', 'cuantos', 'pudo', 'haber', 'dellos', 'y', 'de', 'todos', 'ningunos', 'le', 'parecían', 'tan', 'bien', 'como', 'los', 'que', 'compuso', 'el', 'famoso', 'Feliciano', 'de', 'Silva', 'porque', 'la', 'claridad', 'de', 'su', 'prosa', 'y', 'aquellas', 'intrincadas', 'razones', 'suyas', 'le', 'parecían', 'de', 'perlas', 'y', 'más', 'cuando', 'llegaba', 'a', 'leer', 'aquellos', 'requiebros', 'y', 'cartas', 'de', 'desafío', 'donde', 'en', 'muchas', 'partes', 'hallaba', 'escrito', 'la', 'razón', 'de', 'la', 'sinrazón', 'que', 'a', 'mi', 'razón', 'se', 'hace', 'de', 'tal', 'manera', 'mi', 'razón', 'enflaquece', 'que', 'con', 'razón', 'me', 'quejo', 'de', 'la', 'vuestra', 'fermosura', 'y', 'también', 'cuando', 'leía', 'los', 'altos', 'cielos', 'que', 'de', 'vuestra', 'divinidad', 'divinamente', 'con', 'las', 'estrellas', 'se', 'fortifican', 'y', 'os', 'hacen', 'merecedora', 'del', 'merecimiento', 'que', 'merece', 'la', 'vuestra', 'grandeza', 'Con', 'estas', 'y', 'semejantes', 'razones', 'perdía', 'el', 'pobre', 'caballero', 'el', 'juicio', 'y', 'desvelábase', 'por', 'entenderlas', 'y', 'desentrañarles', 'el', 'sentido', 'que', 'no', 'se', 'lo', 'sacara', 'ni', 'las', 'entendiera', 'el', 'mismo', 'Aristóteles', 'si', 'resucitara', 'para', 'sólo', 'ello', 'No', 'estaba', 'muy', 'bien', 'con', 'las', 'heridas', 'que', 'don', 'Belianis', 'daba', 'y', 'recibía', 'porque', 'se', 'imaginaba', 'que', 'por', 'grandes', 'maestros', 'que', 'le', 'hubiesen', 'curado', 'no', 'dejaría', 'de', 'tener', 'el', 'rostro', 'y', 'todo', 'el', 'cuerpo', 'lleno', 'de', 'cicatrices', 'y', 'señales', 'pero', 'con', 'todo', 'alababa', 'en', 'su', 'autor', 'aquel', 'acabar', 'su', 'libro', 'con', 'la', 'promesa', 'de', 'aquella', 'inacabable', 'aventura', 'y', 'muchas', 'veces', 'le', 'vino', 'deseo', 'de', 'tomar', 'la', 'pluma', 'y', 'darle', 'fin', 'al', 'pie', 'de', 'la', 'letra', 'como', 'allí', 'se', 'promete', 'y', 'sin', 'duda', 'alguna', 'lo', 'hiciera', 'y', 'aun', 'saliera', 'con', 'ello', 'si', 'otros', 'mayores', 'y', 'continuos', 'pensamientos', 'no', 'se', 'lo', 'estorbaran', 'Tuvo', 'muchas', 'veces', 'competencia', 'con', 'el', 'cura', 'de', 'su', 'lugar', 'que', 'era', 'hombre', 'docto', 'graduado', 'en', 'Sigüenza', 'sobre', 'cuál', 'había', 'sido', 'mejor', 'caballero', 'Palmerín', 'de', 'Inglaterra', 'o', 'Amadís', 'de', 'Gaula', 'mas', 'maese', 'Nicolás', 'barbero', 'del', 'mismo', 'pueblo', 'decía', 'que', 'ninguno', 'llegaba', 'al', 'caballero', 'del', 'Febo', 'y', 'que', 'si', 'alguno', 'se', 'le', 'podía', 'comparar', 'era', 'don', 'Galaor', 'hermano', 'de', 'Amadís', 'de', 'Gaula', 'porque', 'tenía', 'muy', 'acomodada', 'condición', 'para', 'todo', 'que', 'no', 'era', 'caballero', 'melindroso', 'ni', 'tan', 'llorón', 'como', 'su', 'hermano', 'y', 'que', 'en', 'lo', 'de', 'la', 'valentía', 'no', 'le', 'iba', 'en', 'zaga', 'En', 'resolución', 'él', 'se', 'enfrascó', 'tanto', 'en', 'su', 'lectura', 'que', 'se', 'le', 'pasaban', 'las', 'noches', 'leyendo', 'de', 'claro', 'en', 'claro', 'y', 'los', 'días', 'de', 'turbio', 'en', 'turbio', 'y', 'así', 'del', 'poco', 'dormir', 'y', 'del', 'mucho', 'leer', 'se', 'le', 'secó', 'el', 'cerebro', 'de', 'manera', 'que', 'vino', 'a', 'perder', 'el', 'juicio', 'Llenósele', 'la', 'fantasía', 'de', 'todo', 'aquello', 'que', 'leía', 'en', 'los', 'libros', 'así', 'de', 'encantamientos', 'como', 'de', 'pendencias', 'batallas', 'desafíos', 'heridas', 'requiebros', 'amores', 'tormentas', 'y', 'disparates', 'imposibles', 'y', 'asentósele', 'de', 'tal', 'modo', 'en', 'la', 'imaginación', 'que', 'era', 'verdad', 'toda', 'aquella', 'máquina', 'de', 'aquellas', 'soñadas', 'invenciones', 'que', 'leía', 'que', 'para', 'él', 'no', 'había', 'otra', 'historia', 'más', 'cierta', 'en', 'el', 'mundo', 'Decía', 'él', 'que', 'el', 'Cid', 'Ruy', 'Díaz', 'había', 'sido', 'muy', 'buen', 'caballero', 'pero', 'que', 'no', 'tenía', 'que', 'ver', 'con', 'el', 'caballero', 'de', 'la', 'ardiente', 'espada', 'que', 'de', 'sólo', 'un', 'revés', 'había', 'partido', 'por', 'medio', 'dos', 'fieros', 'y', 'descomunales', 'gigantes', 'Mejor', 'estaba', 'con', 'Bernardo', 'del', 'Carpio', 'porque', 'en', 'Roncesvalle', 'había', 'muerto', 'a', 'Roldán', 'el', 'encantado', 'valiéndose', 'de', 'la', 'industria', 'de', 'Hércules', 'cuando', 'ahogó', 'a', 'Anteo', 'el', 'hijo', 'de', 'la', 'Tierra', 'entre', 'los', 'brazos', 'Decía', 'mucho', 'bien', 'del', 'gigante', 'Morgante', 'porque', 'con', 'ser', 'de', 'aquella', 'generación', 'gigantesca', 'que', 'todos', 'son', 'soberbios', 'y', 'descomedidos', 'él', 'solo', 'era', 'afable', 'y', 'bien', 'criado', 'pero', 'sobre', 'todos', 'estaba', 'bien', 'con', 'Reinaldos', 'de', 'Montalbán', 'y', 'más', 'cuando', 'le', 'veía', 'salir', 'de', 'su', 'castillo', 'y', 'robar', 'cuantos', 'topaba', 'y', 'cuando', 'en', 'Allende', 'robó', 'aquel', 'ídolo', 'de', 'Mahoma', 'que', 'era', 'todo', 'de', 'oro', 'según', 'dice', 'su', 'historia', 'Diera', 'él', 'por', 'dar', 'una', 'mano', 'de', 'coces', 'al', 'traidor', 'de', 'Galalón', 'al', 'ama', 'que', 'tenía', 'y', 'aun', 'a', 'su', 'sobrina', 'de', 'añadidura', 'En', 'efecto', 'rematado', 'ya', 'su', 'juicio', 'vino', 'a', 'dar', 'en', 'el', 'más', 'extraño', 'pensamiento', 'que', 'jamás', 'dio', 'loco', 'en', 'el', 'mundo', 'y', 'fue', 'que', 'le', 'pareció', 'convenible', 'y', 'necesario', 'así', 'para', 'el', 'aumento', 'de', 'su', 'honra', 'como', 'para', 'el', 'servicio', 'de', 'su', 'república', 'hacerse', 'caballero', 'andante', 'e', 'irse', 'por', 'todo', 'el', 'mundo', 'con', 'sus', 'armas', 'y', 'caballo', 'a', 'buscar', 'las', 'aventuras', 'y', 'a', 'ejercitarse', 'en', 'todo', 'aquello', 'que', 'él', 'había', 'leído', 'que', 'los', 'caballeros', 'andantes', 'se', 'ejercitaban', 'deshaciendo', 'todo', 'género', 'de', 'agravio', 'y', 'poniéndose', 'en', 'ocasiones', 'y', 'peligros', 'donde', 'acabándolos', 'cobrase', 'eterno', 'nombre', 'y', 'fama', 'Imaginábase', 'el', 'pobre', 'ya', 'coronado', 'por', 'el', 'valor', 'de', 'su', 'brazo', 'por', 'lo', 'menos', 'del', 'imperio', 'de', 'Trapisonda', 'y', 'así', 'con', 'estos', 'tan', 'agradables', 'pensamientos', 'llevado', 'del', 'estraño', 'gusto', 'que', 'en', 'ellos', 'sentía', 'se', 'dió', 'priesa', 'a', 'poner', 'en', 'efecto', 'lo', 'que', 'deseaba', 'Y', 'lo', 'primero', 'que', 'hizo', 'fue', 'limpiar', 'unas', 'armas', 'que', 'habían', 'sido', 'de', 'sus', 'bisabuelos', 'que', 'tomadas', 'de', 'orín', 'y', 'llenas', 'de', 'moho', 'luengos', 'siglos', 'había', 'que', 'estaban', 'puestas', 'y', 'olvidadas', 'en', 'un', 'rincón', 'Limpiólas', 'y', 'aderezólas', 'lo', 'mejor', 'que', 'pudo', 'pero', 'vió', 'que', 'tenían', 'una', 'gran', 'falta', 'y', 'era', 'que', 'no', 'tenía', 'celada', 'de', 'encaje', 'sino', 'morrión', 'simple', 'mas', 'a', 'esto', 'suplió', 'su', 'industria', 'porque', 'de', 'cartones', 'hizo', 'un', 'modo', 'de', 'media', 'celada', 'que', 'encajada', 'con', 'el', 'morrión', 'hacía', 'una', 'apariencia', 'de', 'celada', 'entera', 'Es', 'verdad', 'que', 'para', 'probar', 'si', 'era', 'fuerte', 'y', 'podía', 'estar', 'al', 'riesgo', 'de', 'una', 'cuchillada', 'sacó', 'su', 'espada', 'y', 'le', 'dió', 'dos', 'golpes', 'y', 'con', 'el', 'primero', 'y', 'en', 'un', 'punto', 'deshizo', 'lo', 'que', 'había', 'hecho', 'en', 'una', 'semana', 'y', 'no', 'dejó', 'de', 'parecerle', 'mal', 'la', 'facilidad', 'con', 'que', 'la', 'había', 'hecho', 'pedazos', 'y', 'por', 'asegurarse', 'de', 'este', 'peligro', 'lo', 'tornó', 'a', 'hacer', 'de', 'nuevo', 'poniéndole', 'unas', 'barras', 'de', 'hierro', 'por', 'de', 'dentro', 'de', 'tal', 'manera', 'que', 'él', 'quedó', 'satisfecho', 'de', 'su', 'fortaleza', 'y', 'sin', 'querer', 'hacer', 'nueva', 'experiencia', 'de', 'ella', 'la', 'diputó', 'y', 'tuvo', 'por', 'celada', 'finísima', 'de', 'encaje', 'Fue', 'luego', 'a', 'ver', 'a', 'su', 'rocín', 'y', 'aunque', 'tenía', 'más', 'cuartos', 'que', 'un', 'real', 'y', 'más', 'tachas', 'que', 'el', 'caballo', 'de', 'Gonela', 'que', 'tantum', 'pellis', 'et', 'ossa', 'fuit', 'le', 'pareció', 'que', 'ni', 'el', 'Bucéfalo', 'de', 'Alejandro', 'ni', 'Babieca', 'el', 'del', 'Cid', 'con', 'él', 'se', 'igualaban', 'Cuatro', 'días', 'se', 'le', 'pasaron', 'en', 'imaginar', 'qué', 'nombre', 'le', 'podría', 'porque', 'según', 'se', 'decía', 'él', 'a', 'sí', 'mismo', 'no', 'era', 'razón', 'que', 'caballo', 'de', 'caballero', 'tan', 'famoso', 'y', 'tan', 'bueno', 'él', 'por', 'sí', 'estuviese', 'sin', 'nombre', 'conocido', 'y', 'así', 'procuraba', 'acomodársele', 'de', 'manera', 'que', 'declarase', 'quien', 'había', 'sido', 'antes', 'que', 'fuese', 'de', 'caballero', 'andante', 'y', 'lo', 'que', 'era', 'entones', 'pues', 'estaba', 'muy', 'puesto', 'en', 'razón', 'que', 'mudando', 'su', 'señor', 'estado', 'mudase', 'él', 'también', 'el', 'nombre', 'y', 'le', 'cobrase', 'famoso', 'y', 'de', 'estruendo', 'como', 'convenía', 'a', 'la', 'nueva', 'orden', 'y', 'al', 'nuevo', 'ejercicio', 'que', 'ya', 'profesaba', 'y', 'así', 'después', 'de', 'muchos', 'nombres', 'que', 'formó', 'borró', 'y', 'quitó', 'añadió', 'deshizo', 'y', 'tornó', 'a', 'hacer', 'en', 'su', 'memoria', 'e', 'imaginación', 'al', 'fin', 'le', 'vino', 'a', 'llamar', 'ROCINANTE', 'nombre', 'a', 'su', 'parecer', 'alto', 'sonoro', 'y', 'significativo', 'de', 'lo', 'que', 'había', 'sido', 'cuando', 'fue', 'rocín', 'antes', 'de', 'lo', 'que', 'ahora', 'era', 'que', 'era', 'antes', 'y', 'primero', 'de', 'todos', 'los', 'rocines', 'del', 'mundo', 'Puesto', 'nombre', 'y', 'tan', 'a', 'su', 'gusto', 'a', 'su', 'caballo', 'quiso', 'ponérsele', 'a', 'sí', 'mismo', 'y', 'en', 'este', 'pensamiento', 'duró', 'otros', 'ocho', 'días', 'y', 'al', 'cabo', 'se', 'vino', 'a', 'llamar', 'DON', 'QUIJOTE', 'de', 'donde', 'como', 'queda', 'dicho', 'tomaron', 'ocasión', 'los', 'autores', 'de', 'esta', 'tan', 'verdadera', 'historia', 'que', 'sin', 'duda', 'se', 'debía', 'llamar', 'Quijada', 'y', 'no', 'Quesada', 'como', 'otros', 'quisieron', 'decir', 'Pero', 'acordándose', 'que', 'el', 'valeroso', 'Amadís', 'no', 'sólo', 'se', 'había', 'contentado', 'con', 'llamarse', 'Amadís', 'a', 'secas', 'sino', 'que', 'añadió', 'el', 'nombre', 'de', 'su', 'reino', 'y', 'patria', 'por', 'hacerla', 'famosa', 'y', 'se', 'llamó', 'Amadís', 'de', 'Gaula', 'así', 'quiso', 'como', 'buen', 'caballero', 'añadir', 'al', 'suyo', 'el', 'nombre', 'de', 'la', 'suya', 'y', 'llamarse', 'DON', 'QUIJOTE', 'DE', 'LA', 'MANCHA', 'con', 'que', 'a', 'su', 'parecer', 'declaraba', 'muy', 'al', 'vivo', 'su', 'linaje', 'y', 'patria', 'y', 'la', 'honraba', 'con', 'tomar', 'el', 'sobrenombre', 'della', 'Limpias', 'pues', 'sus', 'armas', 'hecho', 'del', 'morrión', 'celada', 'puesto', 'nombre', 'a', 'su', 'rocín', 'y', 'confirmándose', 'a', 'sí', 'mismo', 'se', 'dió', 'a', 'entender', 'que', 'no', 'le', 'faltaba', 'otra', 'cosa', 'sino', 'buscar', 'una', 'dama', 'de', 'quien', 'enamorarse', 'porque', 'el', 'caballero', 'andante', 'sin', 'amores', 'era', 'árbol', 'sin', 'hojas', 'y', 'sin', 'fruto', 'y', 'cuerpo', 'sin', 'alma', 'Decíase', 'él', 'si', 'yo', 'por', 'malos', 'de', 'mis', 'pecados', 'por', 'por', 'mi', 'buena', 'suerte', 'me', 'encuentro', 'por', 'ahí', 'con', 'algún', 'gigante', 'como', 'de', 'ordinario', 'les', 'acontece', 'a', 'los', 'caballeros', 'andantes', 'y', 'le', 'derribo', 'de', 'un', 'encuentro', 'o', 'le', 'parto', 'por', 'mitad', 'del', 'cuerpo', 'o', 'finalmente', 'le', 'venzo', 'y', 'le', 'rindo', '¿no', 'será', 'bien', 'tener', 'a', 'quién', 'enviarle', 'presentado', 'y', 'que', 'entre', 'y', 'se', 'hinque', 'de', 'rodillas', 'ante', 'mi', 'dulce', 'señora', 'y', 'diga', 'con', 'voz', 'humilde', 'y', 'rendida', 'yo', 'señora', 'soy', 'el', 'gigante', 'Caraculiambro', 'señor', 'de', 'la', 'ínsula', 'Malindrania', 'a', 'quien', 'venció', 'en', 'singular', 'batalla', 'el', 'jamás', 'como', 'se', 'debe', 'alabado', 'caballero', 'D', 'Quijote', 'de', 'la', 'Mancha', 'el', 'cual', 'me', 'mandó', 'que', 'me', 'presentase', 'ante', 'la', 'vuestra', 'merced', 'para', 'que', 'la', 'vuestra', 'grandeza', 'disponga', 'de', 'mí', 'a', 'su', 'talante', '¡Oh', 'cómo', 'se', 'holgó', 'nuestro', 'buen', 'caballero', 'cuando', 'hubo', 'hecho', 'este', 'discurso', 'y', 'más', 'cuando', 'halló', 'a', 'quién', 'dar', 'nombre', 'de', 'su', 'dama', 'Y', 'fue', 'a', 'lo', 'que', 'se', 'cree', 'que', 'en', 'un', 'lugar', 'cerca', 'del', 'suyo', 'había', 'una', 'moza', 'labradora', 'de', 'muy', 'buen', 'parecer', 'de', 'quien', 'él', 'un', 'tiempo', 'anduvo', 'enamorado', 'aunque', 'según', 'se', 'entiende', 'ella', 'jamás', 'lo', 'supo', 'ni', 'se', 'dió', 'cata', 'de', 'ello', 'Llamábase', 'Aldonza', 'Lorenzo', 'y', 'a', 'esta', 'le', 'pareció', 'ser', 'bien', 'darle', 'título', 'de', 'señora', 'de', 'sus', 'pensamientos', 'y', 'buscándole', 'nombre', 'que', 'no', 'desdijese', 'mucho', 'del', 'suyo', 'y', 'que', 'tirase', 'y', 'se', 'encaminase', 'al', 'de', 'princesa', 'y', 'gran', 'señora', 'vino', 'a', 'llamarla', 'DULCINEA', 'DEL', 'TOBOSO', 'porque', 'era', 'natural', 'del', 'Toboso', 'nombre', 'a', 'su', 'parecer', 'músico', 'y', 'peregrino', 'y', 'significativo', 'como', 'todos', 'los', 'demás', 'que', 'a', 'él', 'y', 'a', 'sus', 'cosas', 'había', 'puesto']\n"
          ],
          "name": "stdout"
        }
      ]
    },
    {
      "cell_type": "code",
      "metadata": {
        "id": "IWSilSnBVnmQ",
        "colab_type": "code",
        "outputId": "f65a8ec8-86b7-464f-a5c8-73a1461ec2dc",
        "colab": {
          "base_uri": "https://localhost:8080/",
          "height": 54
        }
      },
      "source": [
        "# Contamos\n",
        "word_count = {}\n",
        "for word in chapter_by_word:\n",
        "    word_count[word] = word_count.get(word, 0) + 1\n",
        "print(word_count)"
      ],
      "execution_count": 0,
      "outputs": [
        {
          "output_type": "stream",
          "text": [
            "{'En': 3, 'un': 12, 'lugar': 3, 'de': 122, 'la': 32, 'Mancha': 2, 'cuyo': 1, 'nombre': 13, 'no': 18, 'quiero': 1, 'acordarme': 1, 'ha': 1, 'mucho': 4, 'tiempo': 2, 'que': 88, 'vivía': 1, 'hidalgo': 3, 'los': 21, 'lanza': 1, 'en': 35, 'astillero': 1, 'adarga': 1, 'antigua': 1, 'rocín': 5, 'flaco': 1, 'y': 102, 'galgo': 1, 'corredor': 1, 'Una': 1, 'olla': 1, 'algo': 1, 'más': 11, 'vaca': 1, 'carnero': 1, 'salpicón': 1, 'las': 8, 'noches': 2, 'duelos': 1, 'quebrantos': 1, 'sábados': 1, 'lentejas': 1, 'viernes': 1, 'algún': 2, 'palomino': 1, 'añadidura': 2, 'domingos': 1, 'consumían': 1, 'tres': 1, 'partes': 2, 'su': 35, 'hacienda': 2, 'El': 1, 'resto': 1, 'della': 2, 'concluían': 1, 'sayo': 1, 'velarte': 1, 'calzas': 1, 'velludo': 1, 'para': 9, 'fiestas': 1, 'con': 26, 'sus': 6, 'pantuflos': 1, 'lo': 17, 'mismo': 6, 'días': 4, 'entre': 3, 'semana': 2, 'se': 32, 'honraba': 2, 'vellori': 1, 'fino': 1, 'Tenía': 1, 'casa': 2, 'una': 9, 'ama': 2, 'pasaba': 1, 'cuarenta': 1, 'sobrina': 2, 'llegaba': 3, 'a': 44, 'veinte': 1, 'mozo': 1, 'campo': 1, 'plaza': 1, 'así': 9, 'ensillaba': 1, 'el': 39, 'como': 13, 'tomaba': 1, 'podadera': 1, 'Frisaba': 1, 'edad': 1, 'nuestro': 3, 'cincuenta': 1, 'años': 1, 'era': 15, 'complexión': 1, 'recia': 1, 'seco': 1, 'carnes': 1, 'enjuto': 1, 'rostro': 2, 'gran': 3, 'madrugador': 1, 'amigo': 1, 'caza': 2, 'Quieren': 1, 'decir': 2, 'tenía': 6, 'sobrenombre': 2, 'Quijada': 2, 'o': 4, 'Quesada': 2, 'esto': 4, 'hay': 1, 'alguna': 2, 'diferencia': 1, 'autores': 2, 'deste': 1, 'caso': 1, 'escriben': 1, 'aunque': 3, 'por': 18, 'conjeturas': 1, 'verosímiles': 1, 'deja': 1, 'entender': 2, 'llama': 1, 'Quijana': 1, 'pero': 5, 'importa': 1, 'poco': 2, 'cuento': 1, 'basta': 1, 'narración': 1, 'dél': 1, 'salga': 1, 'punto': 3, 'verdad': 3, 'Es': 2, 'pues': 3, 'saber': 1, 'este': 4, 'sobredicho': 1, 'ratos': 1, 'estaba': 5, 'ocioso': 1, 'eran': 1, 'del': 17, 'año': 1, 'daba': 2, 'leer': 4, 'libros': 3, 'caballerías': 2, 'tanta': 1, 'afición': 1, 'gusto': 3, 'olvidó': 1, 'casi': 1, 'todo': 9, 'ejercicio': 2, 'aun': 3, 'administración': 1, 'llegó': 1, 'tanto': 2, 'curiosidad': 1, 'desatino': 1, 'vendió': 1, 'muchas': 4, 'hanegas': 1, 'tierra': 1, 'sembradura': 1, 'comprar': 1, 'llevó': 1, 'todos': 6, 'cuantos': 2, 'pudo': 2, 'haber': 1, 'dellos': 1, 'ningunos': 1, 'le': 22, 'parecían': 2, 'tan': 7, 'bien': 7, 'compuso': 1, 'famoso': 3, 'Feliciano': 1, 'Silva': 1, 'porque': 9, 'claridad': 1, 'prosa': 1, 'aquellas': 2, 'intrincadas': 1, 'razones': 2, 'suyas': 1, 'perlas': 1, 'cuando': 8, 'aquellos': 1, 'requiebros': 2, 'cartas': 1, 'desafío': 1, 'donde': 3, 'hallaba': 1, 'escrito': 1, 'razón': 6, 'sinrazón': 1, 'mi': 4, 'hace': 1, 'tal': 3, 'manera': 4, 'enflaquece': 1, 'me': 4, 'quejo': 1, 'vuestra': 5, 'fermosura': 1, 'también': 2, 'leía': 3, 'altos': 1, 'cielos': 1, 'divinidad': 1, 'divinamente': 1, 'estrellas': 1, 'fortifican': 1, 'os': 1, 'hacen': 1, 'merecedora': 1, 'merecimiento': 1, 'merece': 1, 'grandeza': 2, 'Con': 1, 'estas': 1, 'semejantes': 1, 'perdía': 1, 'pobre': 2, 'caballero': 13, 'juicio': 3, 'desvelábase': 1, 'entenderlas': 1, 'desentrañarles': 1, 'sentido': 1, 'sacara': 1, 'ni': 5, 'entendiera': 1, 'Aristóteles': 1, 'si': 5, 'resucitara': 1, 'sólo': 3, 'ello': 3, 'No': 1, 'muy': 6, 'heridas': 2, 'don': 2, 'Belianis': 1, 'recibía': 1, 'imaginaba': 1, 'grandes': 1, 'maestros': 1, 'hubiesen': 1, 'curado': 1, 'dejaría': 1, 'tener': 2, 'cuerpo': 3, 'lleno': 1, 'cicatrices': 1, 'señales': 1, 'alababa': 1, 'autor': 1, 'aquel': 2, 'acabar': 1, 'libro': 1, 'promesa': 1, 'aquella': 3, 'inacabable': 1, 'aventura': 1, 'veces': 2, 'vino': 6, 'deseo': 1, 'tomar': 2, 'pluma': 1, 'darle': 2, 'fin': 2, 'al': 11, 'pie': 1, 'letra': 1, 'allí': 1, 'promete': 1, 'sin': 8, 'duda': 2, 'hiciera': 1, 'saliera': 1, 'otros': 3, 'mayores': 1, 'continuos': 1, 'pensamientos': 3, 'estorbaran': 1, 'Tuvo': 1, 'competencia': 1, 'cura': 1, 'hombre': 1, 'docto': 1, 'graduado': 1, 'Sigüenza': 1, 'sobre': 2, 'cuál': 1, 'había': 14, 'sido': 5, 'mejor': 2, 'Palmerín': 1, 'Inglaterra': 1, 'Amadís': 5, 'Gaula': 3, 'mas': 2, 'maese': 1, 'Nicolás': 1, 'barbero': 1, 'pueblo': 1, 'decía': 2, 'ninguno': 1, 'Febo': 1, 'alguno': 1, 'podía': 2, 'comparar': 1, 'Galaor': 1, 'hermano': 2, 'acomodada': 1, 'condición': 1, 'melindroso': 1, 'llorón': 1, 'valentía': 1, 'iba': 1, 'zaga': 1, 'resolución': 1, 'él': 14, 'enfrascó': 1, 'lectura': 1, 'pasaban': 1, 'leyendo': 1, 'claro': 2, 'turbio': 2, 'dormir': 1, 'secó': 1, 'cerebro': 1, 'perder': 1, 'Llenósele': 1, 'fantasía': 1, 'aquello': 2, 'encantamientos': 1, 'pendencias': 1, 'batallas': 1, 'desafíos': 1, 'amores': 2, 'tormentas': 1, 'disparates': 1, 'imposibles': 1, 'asentósele': 1, 'modo': 2, 'imaginación': 2, 'toda': 1, 'máquina': 1, 'soñadas': 1, 'invenciones': 1, 'otra': 2, 'historia': 3, 'cierta': 1, 'mundo': 4, 'Decía': 2, 'Cid': 2, 'Ruy': 1, 'Díaz': 1, 'buen': 4, 'ver': 2, 'ardiente': 1, 'espada': 2, 'revés': 1, 'partido': 1, 'medio': 1, 'dos': 2, 'fieros': 1, 'descomunales': 1, 'gigantes': 1, 'Mejor': 1, 'Bernardo': 1, 'Carpio': 1, 'Roncesvalle': 1, 'muerto': 1, 'Roldán': 1, 'encantado': 1, 'valiéndose': 1, 'industria': 2, 'Hércules': 1, 'ahogó': 1, 'Anteo': 1, 'hijo': 1, 'Tierra': 1, 'brazos': 1, 'gigante': 3, 'Morgante': 1, 'ser': 2, 'generación': 1, 'gigantesca': 1, 'son': 1, 'soberbios': 1, 'descomedidos': 1, 'solo': 1, 'afable': 1, 'criado': 1, 'Reinaldos': 1, 'Montalbán': 1, 'veía': 1, 'salir': 1, 'castillo': 1, 'robar': 1, 'topaba': 1, 'Allende': 1, 'robó': 1, 'ídolo': 1, 'Mahoma': 1, 'oro': 1, 'según': 3, 'dice': 1, 'Diera': 1, 'dar': 3, 'mano': 1, 'coces': 1, 'traidor': 1, 'Galalón': 1, 'efecto': 2, 'rematado': 1, 'ya': 3, 'extraño': 1, 'pensamiento': 2, 'jamás': 3, 'dio': 1, 'loco': 1, 'fue': 4, 'pareció': 3, 'convenible': 1, 'necesario': 1, 'aumento': 1, 'honra': 1, 'servicio': 1, 'república': 1, 'hacerse': 1, 'andante': 3, 'e': 2, 'irse': 1, 'armas': 3, 'caballo': 4, 'buscar': 2, 'aventuras': 1, 'ejercitarse': 1, 'leído': 1, 'caballeros': 2, 'andantes': 2, 'ejercitaban': 1, 'deshaciendo': 1, 'género': 1, 'agravio': 1, 'poniéndose': 1, 'ocasiones': 1, 'peligros': 1, 'acabándolos': 1, 'cobrase': 2, 'eterno': 1, 'fama': 1, 'Imaginábase': 1, 'coronado': 1, 'valor': 1, 'brazo': 1, 'menos': 1, 'imperio': 1, 'Trapisonda': 1, 'estos': 1, 'agradables': 1, 'llevado': 1, 'estraño': 1, 'ellos': 1, 'sentía': 1, 'dió': 4, 'priesa': 1, 'poner': 1, 'deseaba': 1, 'Y': 2, 'primero': 3, 'hizo': 2, 'limpiar': 1, 'unas': 2, 'habían': 1, 'bisabuelos': 1, 'tomadas': 1, 'orín': 1, 'llenas': 1, 'moho': 1, 'luengos': 1, 'siglos': 1, 'estaban': 1, 'puestas': 1, 'olvidadas': 1, 'rincón': 1, 'Limpiólas': 1, 'aderezólas': 1, 'vió': 1, 'tenían': 1, 'falta': 1, 'celada': 5, 'encaje': 2, 'sino': 3, 'morrión': 3, 'simple': 1, 'suplió': 1, 'cartones': 1, 'media': 1, 'encajada': 1, 'hacía': 1, 'apariencia': 1, 'entera': 1, 'probar': 1, 'fuerte': 1, 'estar': 1, 'riesgo': 1, 'cuchillada': 1, 'sacó': 1, 'golpes': 1, 'deshizo': 2, 'hecho': 4, 'dejó': 1, 'parecerle': 1, 'mal': 1, 'facilidad': 1, 'pedazos': 1, 'asegurarse': 1, 'peligro': 1, 'tornó': 2, 'hacer': 3, 'nuevo': 2, 'poniéndole': 1, 'barras': 1, 'hierro': 1, 'dentro': 1, 'quedó': 1, 'satisfecho': 1, 'fortaleza': 1, 'querer': 1, 'nueva': 2, 'experiencia': 1, 'ella': 2, 'diputó': 1, 'tuvo': 1, 'finísima': 1, 'Fue': 1, 'luego': 1, 'cuartos': 1, 'real': 1, 'tachas': 1, 'Gonela': 1, 'tantum': 1, 'pellis': 1, 'et': 1, 'ossa': 1, 'fuit': 1, 'Bucéfalo': 1, 'Alejandro': 1, 'Babieca': 1, 'igualaban': 1, 'Cuatro': 1, 'pasaron': 1, 'imaginar': 1, 'qué': 1, 'podría': 1, 'sí': 4, 'bueno': 1, 'estuviese': 1, 'conocido': 1, 'procuraba': 1, 'acomodársele': 1, 'declarase': 1, 'quien': 4, 'antes': 3, 'fuese': 1, 'entones': 1, 'puesto': 3, 'mudando': 1, 'señor': 2, 'estado': 1, 'mudase': 1, 'estruendo': 1, 'convenía': 1, 'orden': 1, 'profesaba': 1, 'después': 1, 'muchos': 1, 'nombres': 1, 'formó': 1, 'borró': 1, 'quitó': 1, 'añadió': 2, 'memoria': 1, 'llamar': 3, 'ROCINANTE': 1, 'parecer': 4, 'alto': 1, 'sonoro': 1, 'significativo': 2, 'ahora': 1, 'rocines': 1, 'Puesto': 1, 'quiso': 2, 'ponérsele': 1, 'duró': 1, 'ocho': 1, 'cabo': 1, 'DON': 2, 'QUIJOTE': 2, 'queda': 1, 'dicho': 1, 'tomaron': 1, 'ocasión': 1, 'esta': 2, 'verdadera': 1, 'debía': 1, 'quisieron': 1, 'Pero': 1, 'acordándose': 1, 'valeroso': 1, 'contentado': 1, 'llamarse': 2, 'secas': 1, 'reino': 1, 'patria': 2, 'hacerla': 1, 'famosa': 1, 'llamó': 1, 'añadir': 1, 'suyo': 3, 'suya': 1, 'DE': 1, 'LA': 1, 'MANCHA': 1, 'declaraba': 1, 'vivo': 1, 'linaje': 1, 'Limpias': 1, 'confirmándose': 1, 'faltaba': 1, 'cosa': 1, 'dama': 2, 'enamorarse': 1, 'árbol': 1, 'hojas': 1, 'fruto': 1, 'alma': 1, 'Decíase': 1, 'yo': 2, 'malos': 1, 'mis': 1, 'pecados': 1, 'buena': 1, 'suerte': 1, 'encuentro': 2, 'ahí': 1, 'ordinario': 1, 'les': 1, 'acontece': 1, 'derribo': 1, 'parto': 1, 'mitad': 1, 'finalmente': 1, 'venzo': 1, 'rindo': 1, '¿no': 1, 'será': 1, 'quién': 2, 'enviarle': 1, 'presentado': 1, 'hinque': 1, 'rodillas': 1, 'ante': 2, 'dulce': 1, 'señora': 4, 'diga': 1, 'voz': 1, 'humilde': 1, 'rendida': 1, 'soy': 1, 'Caraculiambro': 1, 'ínsula': 1, 'Malindrania': 1, 'venció': 1, 'singular': 1, 'batalla': 1, 'debe': 1, 'alabado': 1, 'D': 1, 'Quijote': 1, 'cual': 1, 'mandó': 1, 'presentase': 1, 'merced': 1, 'disponga': 1, 'mí': 1, 'talante': 1, '¡Oh': 1, 'cómo': 1, 'holgó': 1, 'hubo': 1, 'discurso': 1, 'halló': 1, 'cree': 1, 'cerca': 1, 'moza': 1, 'labradora': 1, 'anduvo': 1, 'enamorado': 1, 'entiende': 1, 'supo': 1, 'cata': 1, 'Llamábase': 1, 'Aldonza': 1, 'Lorenzo': 1, 'título': 1, 'buscándole': 1, 'desdijese': 1, 'tirase': 1, 'encaminase': 1, 'princesa': 1, 'llamarla': 1, 'DULCINEA': 1, 'DEL': 1, 'TOBOSO': 1, 'natural': 1, 'Toboso': 1, 'músico': 1, 'peregrino': 1, 'demás': 1, 'cosas': 1}\n"
          ],
          "name": "stdout"
        }
      ]
    },
    {
      "cell_type": "code",
      "metadata": {
        "id": "pjhAVld1Vxhp",
        "colab_type": "code",
        "outputId": "27648257-17a2-4718-f10b-89a7623d59bf",
        "colab": {
          "base_uri": "https://localhost:8080/",
          "height": 88
        }
      },
      "source": [
        "# A bit of magic... extraer stop words\n",
        "import nltk\n",
        "from nltk.corpus import stopwords\n",
        "nltk.download('stopwords')\n",
        "spa_stop_words=set(stopwords.words('spanish'))\n",
        "print(spa_stop_words)"
      ],
      "execution_count": 0,
      "outputs": [
        {
          "output_type": "stream",
          "text": [
            "[nltk_data] Downloading package stopwords to /root/nltk_data...\n",
            "[nltk_data]   Package stopwords is already up-to-date!\n",
            "{'estarías', 'tus', 'estés', 'habría', 'algunas', 'nuestra', 'estuviesen', 'al', 'estaría', 'hube', 'tuviéramos', 'las', 'habíais', 'del', 'esté', 'tendríamos', 'sentidas', 'habrías', 'o', 'sois', 'estábamos', 'era', 'tuvimos', 'tuviésemos', 'para', 'se', 'mía', 'tengan', 'tendrían', 'estaréis', 'ni', 'hemos', 'fuéramos', 'otras', 'sea', 'estabais', 'habéis', 'estuvieseis', 'había', 'qué', 'todos', 'estado', 'sean', 'soy', 'muy', 'vosostras', 'otros', 'estaban', 'serás', 'tiene', 'habrían', 'teníais', 'tengáis', 'él', 'tuvieseis', 'éramos', 'tendrán', 'mucho', 'estabas', 'estarán', 'más', 'estuviera', 'habrás', 'eras', 'seríamos', 'estaríais', 'estéis', 'habremos', 'hubiese', 'fuerais', 'pero', 'esa', 'la', 'hayan', 'tendré', 'quien', 'habido', 'tendrías', 'seremos', 'hubimos', 'en', 'hayáis', 'el', 'habidas', 'estos', 'he', 'hubiera', 'erais', 'tuvieses', 'un', 'será', 'tenían', 'eran', 'hubiésemos', 'ante', 'estaremos', 'habida', 'tenías', 'todo', 'han', 'habré', 'estará', 'hubieseis', 'serían', 'nosotras', 'estarás', 'hayas', 'estuvieran', 'nuestras', 'habréis', 'les', 'tuve', 'tenga', 'estamos', 'hasta', 'sentid', 'tendremos', 'tenido', 'ellas', 'esos', 'tuvieron', 'estuviese', 'estaba', 'estados', 'estuviste', 'los', 'habías', 'tenéis', 'ha', 'habiendo', 'tenemos', 'de', 'cual', 'suya', 'habrán', 'le', 'estuvieses', 'tened', 'fui', 'nuestros', 'como', 'es', 'contra', 'no', 'seré', 'seáis', 'nosotros', 'habrá', 'estuviésemos', 'yo', 'hubierais', 'teníamos', 'me', 'míos', 'serán', 'una', 'sintiendo', 'lo', 'donde', 'uno', 'os', 'habríais', 'hubisteis', 'tendrá', 'seamos', 'tendríais', 'siente', 'vuestra', 'desde', 'porque', 'tenía', 'mías', 'habían', 'mi', 'fueses', 'fuese', 'tuviste', 'tuvierais', 'tuyos', 'fueseis', 'tuvieras', 'tuviese', 'tendría', 'eso', 'tuyo', 'nuestro', 'vosostros', 'tuya', 'tanto', 'haya', 'serías', 'a', 'suyos', 'tuvo', 'sentido', 'estuvo', 'estarían', 'hubo', 'vuestro', 'quienes', 'algo', 'también', 'estuvieras', 'seríais', 'tuvisteis', 'algunos', 'y', 'habríamos', 'son', 'seas', 'tengas', 'fue', 'mis', 'vuestras', 'habidos', 'fuésemos', 'hubieras', 'nada', 'estuvisteis', 'fuimos', 'tuviera', 'tenidas', 'hubieron', 'estar', 'tengo', 'hubiesen', 'estaré', 'sus', 'estas', 'suyo', 'esta', 'estuvieron', 'estadas', 'hubiéramos', 'fuesen', 'estuvimos', 'tengamos', 'sí', 'tienes', 'hayamos', 'hubieran', 'este', 'otra', 'estad', 'ti', 'fueron', 'estás', 'sentida', 'tenidos', 'tienen', 'e', 'ya', 'muchos', 'estuve', 'unos', 'otro', 'tú', 'antes', 'estoy', 'tendrás', 'estada', 'hay', 'fuera', 'su', 'tuviesen', 'entre', 'ella', 'mío', 'poco', 'suyas', 'sería', 'seréis', 'cuando', 'esas', 'tuvieran', 'estaríamos', 'eres', 'has', 'tenida', 'esto', 'por', 'durante', 'vuestros', 'hubiste', 'fuisteis', 'estén', 'estuviéramos', 'tuyas', 'ellos', 'con', 'sobre', 'mí', 'estemos', 'sin', 'te', 'teniendo', 'fueran', 'que', 'estáis', 'tu', 'están', 'fuiste', 'habíamos', 'estuvierais', 'somos', 'está', 'fueras', 'tendréis', 'ese', 'sentidos', 'hubieses', 'estando', 'nos'}\n"
          ],
          "name": "stdout"
        }
      ]
    },
    {
      "cell_type": "code",
      "metadata": {
        "id": "QT7BbZLg4Cne",
        "colab_type": "code",
        "colab": {}
      },
      "source": [
        "# Eliminamos las stop words...\n",
        "for word in spa_stop_words:\n",
        "    word_count.pop(word, None)"
      ],
      "execution_count": 0,
      "outputs": []
    },
    {
      "cell_type": "code",
      "metadata": {
        "id": "Wt6W2vL5V5p2",
        "colab_type": "code",
        "outputId": "746c361c-5d88-4ffc-d041-ec1a739ae7e3",
        "colab": {
          "base_uri": "https://localhost:8080/",
          "height": 139
        }
      },
      "source": [
        "# Y ordenamos...\n",
        "sorted_word_count = sorted(word_count, key=lambda x: word_count[x], reverse=True)\n",
        "print(sorted_word_count)\n",
        "top_5 = sorted_word_count[:5]\n",
        "for i, word in enumerate(top_5):\n",
        "    print(\"Palabra #{}: '{}' . Repeticiones: {}\".format(i + 1, word, word_count[word]))"
      ],
      "execution_count": 0,
      "outputs": [
        {
          "output_type": "stream",
          "text": [
            "['nombre', 'caballero', 'así', 'tan', 'bien', 'mismo', 'razón', 'vino', 'rocín', 'si', 'sido', 'Amadís', 'celada', 'días', 'leer', 'muchas', 'manera', 'mundo', 'buen', 'caballo', 'dió', 'hecho', 'parecer', 'señora', 'En', 'lugar', 'hidalgo', 'llegaba', 'gran', 'aunque', 'punto', 'verdad', 'pues', 'libros', 'gusto', 'aun', 'famoso', 'tal', 'leía', 'juicio', 'sólo', 'ello', 'cuerpo', 'aquella', 'pensamientos', 'Gaula', 'historia', 'gigante', 'según', 'dar', 'jamás', 'pareció', 'andante', 'armas', 'primero', 'sino', 'morrión', 'hacer', 'puesto', 'llamar', 'Mancha', 'tiempo', 'noches', 'algún', 'añadidura', 'partes', 'hacienda', 'della', 'semana', 'honraba', 'casa', 'ama', 'sobrina', 'rostro', 'caza', 'decir', 'sobrenombre', 'Quijada', 'Quesada', 'alguna', 'autores', 'entender', 'Es', 'daba', 'caballerías', 'ejercicio', 'cuantos', 'pudo', 'parecían', 'aquellas', 'razones', 'requiebros', 'grandeza', 'pobre', 'heridas', 'don', 'tener', 'aquel', 'veces', 'tomar', 'darle', 'fin', 'duda', 'mejor', 'mas', 'decía', 'podía', 'hermano', 'claro', 'turbio', 'aquello', 'amores', 'modo', 'imaginación', 'Decía', 'Cid', 'ver', 'espada', 'dos', 'industria', 'ser', 'efecto', 'pensamiento', 'buscar', 'caballeros', 'andantes', 'cobrase', 'Y', 'hizo', 'unas', 'encaje', 'deshizo', 'tornó', 'nuevo', 'nueva', 'señor', 'añadió', 'significativo', 'quiso', 'DON', 'QUIJOTE', 'llamarse', 'patria', 'dama', 'encuentro', 'quién', 'cuyo', 'quiero', 'acordarme', 'vivía', 'lanza', 'astillero', 'adarga', 'antigua', 'flaco', 'galgo', 'corredor', 'Una', 'olla', 'vaca', 'carnero', 'salpicón', 'duelos', 'quebrantos', 'sábados', 'lentejas', 'viernes', 'palomino', 'domingos', 'consumían', 'tres', 'El', 'resto', 'concluían', 'sayo', 'velarte', 'calzas', 'velludo', 'fiestas', 'pantuflos', 'vellori', 'fino', 'Tenía', 'pasaba', 'cuarenta', 'veinte', 'mozo', 'campo', 'plaza', 'ensillaba', 'tomaba', 'podadera', 'Frisaba', 'edad', 'cincuenta', 'años', 'complexión', 'recia', 'seco', 'carnes', 'enjuto', 'madrugador', 'amigo', 'Quieren', 'diferencia', 'deste', 'caso', 'escriben', 'conjeturas', 'verosímiles', 'deja', 'llama', 'Quijana', 'importa', 'cuento', 'basta', 'narración', 'dél', 'salga', 'saber', 'sobredicho', 'ratos', 'ocioso', 'año', 'tanta', 'afición', 'olvidó', 'casi', 'administración', 'llegó', 'curiosidad', 'desatino', 'vendió', 'hanegas', 'tierra', 'sembradura', 'comprar', 'llevó', 'haber', 'dellos', 'ningunos', 'compuso', 'Feliciano', 'Silva', 'claridad', 'prosa', 'intrincadas', 'perlas', 'aquellos', 'cartas', 'desafío', 'hallaba', 'escrito', 'sinrazón', 'hace', 'enflaquece', 'quejo', 'fermosura', 'altos', 'cielos', 'divinidad', 'divinamente', 'estrellas', 'fortifican', 'hacen', 'merecedora', 'merecimiento', 'merece', 'Con', 'semejantes', 'perdía', 'desvelábase', 'entenderlas', 'desentrañarles', 'sacara', 'entendiera', 'Aristóteles', 'resucitara', 'No', 'Belianis', 'recibía', 'imaginaba', 'grandes', 'maestros', 'curado', 'dejaría', 'lleno', 'cicatrices', 'señales', 'alababa', 'autor', 'acabar', 'libro', 'promesa', 'inacabable', 'aventura', 'deseo', 'pluma', 'pie', 'letra', 'allí', 'promete', 'hiciera', 'saliera', 'mayores', 'continuos', 'estorbaran', 'Tuvo', 'competencia', 'cura', 'hombre', 'docto', 'graduado', 'Sigüenza', 'cuál', 'Palmerín', 'Inglaterra', 'maese', 'Nicolás', 'barbero', 'pueblo', 'ninguno', 'Febo', 'alguno', 'comparar', 'Galaor', 'acomodada', 'condición', 'melindroso', 'llorón', 'valentía', 'iba', 'zaga', 'resolución', 'enfrascó', 'lectura', 'pasaban', 'leyendo', 'dormir', 'secó', 'cerebro', 'perder', 'Llenósele', 'fantasía', 'encantamientos', 'pendencias', 'batallas', 'desafíos', 'tormentas', 'disparates', 'imposibles', 'asentósele', 'toda', 'máquina', 'soñadas', 'invenciones', 'cierta', 'Ruy', 'Díaz', 'ardiente', 'revés', 'partido', 'medio', 'fieros', 'descomunales', 'gigantes', 'Mejor', 'Bernardo', 'Carpio', 'Roncesvalle', 'muerto', 'Roldán', 'encantado', 'valiéndose', 'Hércules', 'ahogó', 'Anteo', 'hijo', 'Tierra', 'brazos', 'Morgante', 'generación', 'gigantesca', 'soberbios', 'descomedidos', 'solo', 'afable', 'criado', 'Reinaldos', 'Montalbán', 'veía', 'salir', 'castillo', 'robar', 'topaba', 'Allende', 'robó', 'ídolo', 'Mahoma', 'oro', 'dice', 'Diera', 'mano', 'coces', 'traidor', 'Galalón', 'rematado', 'extraño', 'dio', 'loco', 'convenible', 'necesario', 'aumento', 'honra', 'servicio', 'república', 'hacerse', 'irse', 'aventuras', 'ejercitarse', 'leído', 'ejercitaban', 'deshaciendo', 'género', 'agravio', 'poniéndose', 'ocasiones', 'peligros', 'acabándolos', 'eterno', 'fama', 'Imaginábase', 'coronado', 'valor', 'brazo', 'menos', 'imperio', 'Trapisonda', 'agradables', 'llevado', 'estraño', 'sentía', 'priesa', 'poner', 'deseaba', 'limpiar', 'bisabuelos', 'tomadas', 'orín', 'llenas', 'moho', 'luengos', 'siglos', 'puestas', 'olvidadas', 'rincón', 'Limpiólas', 'aderezólas', 'vió', 'falta', 'simple', 'suplió', 'cartones', 'media', 'encajada', 'hacía', 'apariencia', 'entera', 'probar', 'fuerte', 'riesgo', 'cuchillada', 'sacó', 'golpes', 'dejó', 'parecerle', 'mal', 'facilidad', 'pedazos', 'asegurarse', 'peligro', 'poniéndole', 'barras', 'hierro', 'dentro', 'quedó', 'satisfecho', 'fortaleza', 'querer', 'experiencia', 'diputó', 'finísima', 'Fue', 'luego', 'cuartos', 'real', 'tachas', 'Gonela', 'tantum', 'pellis', 'et', 'ossa', 'fuit', 'Bucéfalo', 'Alejandro', 'Babieca', 'igualaban', 'Cuatro', 'pasaron', 'imaginar', 'podría', 'bueno', 'conocido', 'procuraba', 'acomodársele', 'declarase', 'entones', 'mudando', 'mudase', 'estruendo', 'convenía', 'orden', 'profesaba', 'después', 'nombres', 'formó', 'borró', 'quitó', 'memoria', 'ROCINANTE', 'alto', 'sonoro', 'ahora', 'rocines', 'Puesto', 'ponérsele', 'duró', 'ocho', 'cabo', 'queda', 'dicho', 'tomaron', 'ocasión', 'verdadera', 'debía', 'quisieron', 'Pero', 'acordándose', 'valeroso', 'contentado', 'secas', 'reino', 'hacerla', 'famosa', 'llamó', 'añadir', 'DE', 'LA', 'MANCHA', 'declaraba', 'vivo', 'linaje', 'Limpias', 'confirmándose', 'faltaba', 'cosa', 'enamorarse', 'árbol', 'hojas', 'fruto', 'alma', 'Decíase', 'malos', 'pecados', 'buena', 'suerte', 'ahí', 'ordinario', 'acontece', 'derribo', 'parto', 'mitad', 'finalmente', 'venzo', 'rindo', '¿no', 'enviarle', 'presentado', 'hinque', 'rodillas', 'dulce', 'diga', 'voz', 'humilde', 'rendida', 'Caraculiambro', 'ínsula', 'Malindrania', 'venció', 'singular', 'batalla', 'debe', 'alabado', 'D', 'Quijote', 'mandó', 'presentase', 'merced', 'disponga', 'talante', '¡Oh', 'cómo', 'holgó', 'discurso', 'halló', 'cree', 'cerca', 'moza', 'labradora', 'anduvo', 'enamorado', 'entiende', 'supo', 'cata', 'Llamábase', 'Aldonza', 'Lorenzo', 'título', 'buscándole', 'desdijese', 'tirase', 'encaminase', 'princesa', 'llamarla', 'DULCINEA', 'DEL', 'TOBOSO', 'natural', 'Toboso', 'músico', 'peregrino', 'demás', 'cosas']\n",
            "Palabra #1: 'nombre' . Repeticiones: 13\n",
            "Palabra #2: 'caballero' . Repeticiones: 13\n",
            "Palabra #3: 'así' . Repeticiones: 9\n",
            "Palabra #4: 'tan' . Repeticiones: 7\n",
            "Palabra #5: 'bien' . Repeticiones: 7\n"
          ],
          "name": "stdout"
        }
      ]
    },
    {
      "cell_type": "markdown",
      "metadata": {
        "id": "4m-AtD5y5S0-",
        "colab_type": "text"
      },
      "source": [
        "Pero podemos hacerlo mejor..."
      ]
    },
    {
      "cell_type": "code",
      "metadata": {
        "id": "R7OJTiMJ5SmD",
        "colab_type": "code",
        "outputId": "8b6ee0ce-d288-486f-f1e7-32a8b75d0771",
        "colab": {
          "base_uri": "https://localhost:8080/",
          "height": 12546
        }
      },
      "source": [
        "from collections import Counter\n",
        "word_count = Counter(chapter_by_word)\n",
        "word_count"
      ],
      "execution_count": 0,
      "outputs": [
        {
          "output_type": "execute_result",
          "data": {
            "text/plain": [
              "Counter({'Aldonza': 1,\n",
              "         'Alejandro': 1,\n",
              "         'Allende': 1,\n",
              "         'Amadís': 5,\n",
              "         'Anteo': 1,\n",
              "         'Aristóteles': 1,\n",
              "         'Babieca': 1,\n",
              "         'Belianis': 1,\n",
              "         'Bernardo': 1,\n",
              "         'Bucéfalo': 1,\n",
              "         'Caraculiambro': 1,\n",
              "         'Carpio': 1,\n",
              "         'Cid': 2,\n",
              "         'Con': 1,\n",
              "         'Cuatro': 1,\n",
              "         'D': 1,\n",
              "         'DE': 1,\n",
              "         'DEL': 1,\n",
              "         'DON': 2,\n",
              "         'DULCINEA': 1,\n",
              "         'Decía': 2,\n",
              "         'Decíase': 1,\n",
              "         'Diera': 1,\n",
              "         'Díaz': 1,\n",
              "         'El': 1,\n",
              "         'En': 3,\n",
              "         'Es': 2,\n",
              "         'Febo': 1,\n",
              "         'Feliciano': 1,\n",
              "         'Frisaba': 1,\n",
              "         'Fue': 1,\n",
              "         'Galalón': 1,\n",
              "         'Galaor': 1,\n",
              "         'Gaula': 3,\n",
              "         'Gonela': 1,\n",
              "         'Hércules': 1,\n",
              "         'Imaginábase': 1,\n",
              "         'Inglaterra': 1,\n",
              "         'LA': 1,\n",
              "         'Limpias': 1,\n",
              "         'Limpiólas': 1,\n",
              "         'Llamábase': 1,\n",
              "         'Llenósele': 1,\n",
              "         'Lorenzo': 1,\n",
              "         'MANCHA': 1,\n",
              "         'Mahoma': 1,\n",
              "         'Malindrania': 1,\n",
              "         'Mancha': 2,\n",
              "         'Mejor': 1,\n",
              "         'Montalbán': 1,\n",
              "         'Morgante': 1,\n",
              "         'Nicolás': 1,\n",
              "         'No': 1,\n",
              "         'Palmerín': 1,\n",
              "         'Pero': 1,\n",
              "         'Puesto': 1,\n",
              "         'QUIJOTE': 2,\n",
              "         'Quesada': 2,\n",
              "         'Quieren': 1,\n",
              "         'Quijada': 2,\n",
              "         'Quijana': 1,\n",
              "         'Quijote': 1,\n",
              "         'ROCINANTE': 1,\n",
              "         'Reinaldos': 1,\n",
              "         'Roldán': 1,\n",
              "         'Roncesvalle': 1,\n",
              "         'Ruy': 1,\n",
              "         'Sigüenza': 1,\n",
              "         'Silva': 1,\n",
              "         'TOBOSO': 1,\n",
              "         'Tenía': 1,\n",
              "         'Tierra': 1,\n",
              "         'Toboso': 1,\n",
              "         'Trapisonda': 1,\n",
              "         'Tuvo': 1,\n",
              "         'Una': 1,\n",
              "         'Y': 2,\n",
              "         'a': 44,\n",
              "         'acabar': 1,\n",
              "         'acabándolos': 1,\n",
              "         'acomodada': 1,\n",
              "         'acomodársele': 1,\n",
              "         'acontece': 1,\n",
              "         'acordarme': 1,\n",
              "         'acordándose': 1,\n",
              "         'adarga': 1,\n",
              "         'aderezólas': 1,\n",
              "         'administración': 1,\n",
              "         'afable': 1,\n",
              "         'afición': 1,\n",
              "         'agradables': 1,\n",
              "         'agravio': 1,\n",
              "         'ahogó': 1,\n",
              "         'ahora': 1,\n",
              "         'ahí': 1,\n",
              "         'al': 11,\n",
              "         'alababa': 1,\n",
              "         'alabado': 1,\n",
              "         'algo': 1,\n",
              "         'alguna': 2,\n",
              "         'alguno': 1,\n",
              "         'algún': 2,\n",
              "         'allí': 1,\n",
              "         'alma': 1,\n",
              "         'alto': 1,\n",
              "         'altos': 1,\n",
              "         'ama': 2,\n",
              "         'amigo': 1,\n",
              "         'amores': 2,\n",
              "         'andante': 3,\n",
              "         'andantes': 2,\n",
              "         'anduvo': 1,\n",
              "         'ante': 2,\n",
              "         'antes': 3,\n",
              "         'antigua': 1,\n",
              "         'apariencia': 1,\n",
              "         'aquel': 2,\n",
              "         'aquella': 3,\n",
              "         'aquellas': 2,\n",
              "         'aquello': 2,\n",
              "         'aquellos': 1,\n",
              "         'ardiente': 1,\n",
              "         'armas': 3,\n",
              "         'asegurarse': 1,\n",
              "         'asentósele': 1,\n",
              "         'astillero': 1,\n",
              "         'así': 9,\n",
              "         'aumento': 1,\n",
              "         'aun': 3,\n",
              "         'aunque': 3,\n",
              "         'autor': 1,\n",
              "         'autores': 2,\n",
              "         'aventura': 1,\n",
              "         'aventuras': 1,\n",
              "         'añadidura': 2,\n",
              "         'añadir': 1,\n",
              "         'añadió': 2,\n",
              "         'año': 1,\n",
              "         'años': 1,\n",
              "         'barbero': 1,\n",
              "         'barras': 1,\n",
              "         'basta': 1,\n",
              "         'batalla': 1,\n",
              "         'batallas': 1,\n",
              "         'bien': 7,\n",
              "         'bisabuelos': 1,\n",
              "         'borró': 1,\n",
              "         'brazo': 1,\n",
              "         'brazos': 1,\n",
              "         'buen': 4,\n",
              "         'buena': 1,\n",
              "         'bueno': 1,\n",
              "         'buscar': 2,\n",
              "         'buscándole': 1,\n",
              "         'caballero': 13,\n",
              "         'caballeros': 2,\n",
              "         'caballerías': 2,\n",
              "         'caballo': 4,\n",
              "         'cabo': 1,\n",
              "         'calzas': 1,\n",
              "         'campo': 1,\n",
              "         'carnero': 1,\n",
              "         'carnes': 1,\n",
              "         'cartas': 1,\n",
              "         'cartones': 1,\n",
              "         'casa': 2,\n",
              "         'casi': 1,\n",
              "         'caso': 1,\n",
              "         'castillo': 1,\n",
              "         'cata': 1,\n",
              "         'caza': 2,\n",
              "         'celada': 5,\n",
              "         'cerca': 1,\n",
              "         'cerebro': 1,\n",
              "         'cicatrices': 1,\n",
              "         'cielos': 1,\n",
              "         'cierta': 1,\n",
              "         'cincuenta': 1,\n",
              "         'claridad': 1,\n",
              "         'claro': 2,\n",
              "         'cobrase': 2,\n",
              "         'coces': 1,\n",
              "         'como': 13,\n",
              "         'comparar': 1,\n",
              "         'competencia': 1,\n",
              "         'complexión': 1,\n",
              "         'comprar': 1,\n",
              "         'compuso': 1,\n",
              "         'con': 26,\n",
              "         'concluían': 1,\n",
              "         'condición': 1,\n",
              "         'confirmándose': 1,\n",
              "         'conjeturas': 1,\n",
              "         'conocido': 1,\n",
              "         'consumían': 1,\n",
              "         'contentado': 1,\n",
              "         'continuos': 1,\n",
              "         'convenible': 1,\n",
              "         'convenía': 1,\n",
              "         'coronado': 1,\n",
              "         'corredor': 1,\n",
              "         'cosa': 1,\n",
              "         'cosas': 1,\n",
              "         'cree': 1,\n",
              "         'criado': 1,\n",
              "         'cual': 1,\n",
              "         'cuando': 8,\n",
              "         'cuantos': 2,\n",
              "         'cuarenta': 1,\n",
              "         'cuartos': 1,\n",
              "         'cuchillada': 1,\n",
              "         'cuento': 1,\n",
              "         'cuerpo': 3,\n",
              "         'cura': 1,\n",
              "         'curado': 1,\n",
              "         'curiosidad': 1,\n",
              "         'cuyo': 1,\n",
              "         'cuál': 1,\n",
              "         'cómo': 1,\n",
              "         'daba': 2,\n",
              "         'dama': 2,\n",
              "         'dar': 3,\n",
              "         'darle': 2,\n",
              "         'de': 122,\n",
              "         'debe': 1,\n",
              "         'debía': 1,\n",
              "         'decir': 2,\n",
              "         'declaraba': 1,\n",
              "         'declarase': 1,\n",
              "         'decía': 2,\n",
              "         'deja': 1,\n",
              "         'dejaría': 1,\n",
              "         'dejó': 1,\n",
              "         'del': 17,\n",
              "         'della': 2,\n",
              "         'dellos': 1,\n",
              "         'demás': 1,\n",
              "         'dentro': 1,\n",
              "         'derribo': 1,\n",
              "         'desafío': 1,\n",
              "         'desafíos': 1,\n",
              "         'desatino': 1,\n",
              "         'descomedidos': 1,\n",
              "         'descomunales': 1,\n",
              "         'desdijese': 1,\n",
              "         'deseaba': 1,\n",
              "         'desentrañarles': 1,\n",
              "         'deseo': 1,\n",
              "         'deshaciendo': 1,\n",
              "         'deshizo': 2,\n",
              "         'después': 1,\n",
              "         'deste': 1,\n",
              "         'desvelábase': 1,\n",
              "         'dice': 1,\n",
              "         'dicho': 1,\n",
              "         'diferencia': 1,\n",
              "         'diga': 1,\n",
              "         'dio': 1,\n",
              "         'diputó': 1,\n",
              "         'discurso': 1,\n",
              "         'disparates': 1,\n",
              "         'disponga': 1,\n",
              "         'divinamente': 1,\n",
              "         'divinidad': 1,\n",
              "         'dió': 4,\n",
              "         'docto': 1,\n",
              "         'domingos': 1,\n",
              "         'don': 2,\n",
              "         'donde': 3,\n",
              "         'dormir': 1,\n",
              "         'dos': 2,\n",
              "         'duda': 2,\n",
              "         'duelos': 1,\n",
              "         'dulce': 1,\n",
              "         'duró': 1,\n",
              "         'dél': 1,\n",
              "         'días': 4,\n",
              "         'e': 2,\n",
              "         'edad': 1,\n",
              "         'efecto': 2,\n",
              "         'ejercicio': 2,\n",
              "         'ejercitaban': 1,\n",
              "         'ejercitarse': 1,\n",
              "         'el': 39,\n",
              "         'ella': 2,\n",
              "         'ello': 3,\n",
              "         'ellos': 1,\n",
              "         'en': 35,\n",
              "         'enamorado': 1,\n",
              "         'enamorarse': 1,\n",
              "         'encajada': 1,\n",
              "         'encaje': 2,\n",
              "         'encaminase': 1,\n",
              "         'encantado': 1,\n",
              "         'encantamientos': 1,\n",
              "         'encuentro': 2,\n",
              "         'enflaquece': 1,\n",
              "         'enfrascó': 1,\n",
              "         'enjuto': 1,\n",
              "         'ensillaba': 1,\n",
              "         'entender': 2,\n",
              "         'entenderlas': 1,\n",
              "         'entendiera': 1,\n",
              "         'entera': 1,\n",
              "         'entiende': 1,\n",
              "         'entones': 1,\n",
              "         'entre': 3,\n",
              "         'enviarle': 1,\n",
              "         'era': 15,\n",
              "         'eran': 1,\n",
              "         'escriben': 1,\n",
              "         'escrito': 1,\n",
              "         'espada': 2,\n",
              "         'esta': 2,\n",
              "         'estaba': 5,\n",
              "         'estaban': 1,\n",
              "         'estado': 1,\n",
              "         'estar': 1,\n",
              "         'estas': 1,\n",
              "         'este': 4,\n",
              "         'esto': 4,\n",
              "         'estorbaran': 1,\n",
              "         'estos': 1,\n",
              "         'estraño': 1,\n",
              "         'estrellas': 1,\n",
              "         'estruendo': 1,\n",
              "         'estuviese': 1,\n",
              "         'et': 1,\n",
              "         'eterno': 1,\n",
              "         'experiencia': 1,\n",
              "         'extraño': 1,\n",
              "         'facilidad': 1,\n",
              "         'falta': 1,\n",
              "         'faltaba': 1,\n",
              "         'fama': 1,\n",
              "         'famosa': 1,\n",
              "         'famoso': 3,\n",
              "         'fantasía': 1,\n",
              "         'fermosura': 1,\n",
              "         'fieros': 1,\n",
              "         'fiestas': 1,\n",
              "         'fin': 2,\n",
              "         'finalmente': 1,\n",
              "         'fino': 1,\n",
              "         'finísima': 1,\n",
              "         'flaco': 1,\n",
              "         'formó': 1,\n",
              "         'fortaleza': 1,\n",
              "         'fortifican': 1,\n",
              "         'fruto': 1,\n",
              "         'fue': 4,\n",
              "         'fuerte': 1,\n",
              "         'fuese': 1,\n",
              "         'fuit': 1,\n",
              "         'galgo': 1,\n",
              "         'generación': 1,\n",
              "         'gigante': 3,\n",
              "         'gigantes': 1,\n",
              "         'gigantesca': 1,\n",
              "         'golpes': 1,\n",
              "         'graduado': 1,\n",
              "         'gran': 3,\n",
              "         'grandes': 1,\n",
              "         'grandeza': 2,\n",
              "         'gusto': 3,\n",
              "         'género': 1,\n",
              "         'ha': 1,\n",
              "         'haber': 1,\n",
              "         'había': 14,\n",
              "         'habían': 1,\n",
              "         'hace': 1,\n",
              "         'hacen': 1,\n",
              "         'hacer': 3,\n",
              "         'hacerla': 1,\n",
              "         'hacerse': 1,\n",
              "         'hacienda': 2,\n",
              "         'hacía': 1,\n",
              "         'hallaba': 1,\n",
              "         'halló': 1,\n",
              "         'hanegas': 1,\n",
              "         'hay': 1,\n",
              "         'hecho': 4,\n",
              "         'heridas': 2,\n",
              "         'hermano': 2,\n",
              "         'hiciera': 1,\n",
              "         'hidalgo': 3,\n",
              "         'hierro': 1,\n",
              "         'hijo': 1,\n",
              "         'hinque': 1,\n",
              "         'historia': 3,\n",
              "         'hizo': 2,\n",
              "         'hojas': 1,\n",
              "         'holgó': 1,\n",
              "         'hombre': 1,\n",
              "         'honra': 1,\n",
              "         'honraba': 2,\n",
              "         'hubiesen': 1,\n",
              "         'hubo': 1,\n",
              "         'humilde': 1,\n",
              "         'iba': 1,\n",
              "         'igualaban': 1,\n",
              "         'imaginaba': 1,\n",
              "         'imaginación': 2,\n",
              "         'imaginar': 1,\n",
              "         'imperio': 1,\n",
              "         'importa': 1,\n",
              "         'imposibles': 1,\n",
              "         'inacabable': 1,\n",
              "         'industria': 2,\n",
              "         'intrincadas': 1,\n",
              "         'invenciones': 1,\n",
              "         'irse': 1,\n",
              "         'jamás': 3,\n",
              "         'juicio': 3,\n",
              "         'la': 32,\n",
              "         'labradora': 1,\n",
              "         'lanza': 1,\n",
              "         'las': 8,\n",
              "         'le': 22,\n",
              "         'lectura': 1,\n",
              "         'leer': 4,\n",
              "         'lentejas': 1,\n",
              "         'les': 1,\n",
              "         'letra': 1,\n",
              "         'leyendo': 1,\n",
              "         'leía': 3,\n",
              "         'leído': 1,\n",
              "         'libro': 1,\n",
              "         'libros': 3,\n",
              "         'limpiar': 1,\n",
              "         'linaje': 1,\n",
              "         'llama': 1,\n",
              "         'llamar': 3,\n",
              "         'llamarla': 1,\n",
              "         'llamarse': 2,\n",
              "         'llamó': 1,\n",
              "         'llegaba': 3,\n",
              "         'llegó': 1,\n",
              "         'llenas': 1,\n",
              "         'lleno': 1,\n",
              "         'llevado': 1,\n",
              "         'llevó': 1,\n",
              "         'llorón': 1,\n",
              "         'lo': 17,\n",
              "         'loco': 1,\n",
              "         'los': 21,\n",
              "         'luego': 1,\n",
              "         'luengos': 1,\n",
              "         'lugar': 3,\n",
              "         'madrugador': 1,\n",
              "         'maese': 1,\n",
              "         'maestros': 1,\n",
              "         'mal': 1,\n",
              "         'malos': 1,\n",
              "         'mandó': 1,\n",
              "         'manera': 4,\n",
              "         'mano': 1,\n",
              "         'mas': 2,\n",
              "         'mayores': 1,\n",
              "         'me': 4,\n",
              "         'media': 1,\n",
              "         'medio': 1,\n",
              "         'mejor': 2,\n",
              "         'melindroso': 1,\n",
              "         'memoria': 1,\n",
              "         'menos': 1,\n",
              "         'merced': 1,\n",
              "         'merece': 1,\n",
              "         'merecedora': 1,\n",
              "         'merecimiento': 1,\n",
              "         'mi': 4,\n",
              "         'mis': 1,\n",
              "         'mismo': 6,\n",
              "         'mitad': 1,\n",
              "         'modo': 2,\n",
              "         'moho': 1,\n",
              "         'morrión': 3,\n",
              "         'moza': 1,\n",
              "         'mozo': 1,\n",
              "         'muchas': 4,\n",
              "         'mucho': 4,\n",
              "         'muchos': 1,\n",
              "         'mudando': 1,\n",
              "         'mudase': 1,\n",
              "         'muerto': 1,\n",
              "         'mundo': 4,\n",
              "         'muy': 6,\n",
              "         'máquina': 1,\n",
              "         'más': 11,\n",
              "         'mí': 1,\n",
              "         'músico': 1,\n",
              "         'narración': 1,\n",
              "         'natural': 1,\n",
              "         'necesario': 1,\n",
              "         'ni': 5,\n",
              "         'ninguno': 1,\n",
              "         'ningunos': 1,\n",
              "         'no': 18,\n",
              "         'noches': 2,\n",
              "         'nombre': 13,\n",
              "         'nombres': 1,\n",
              "         'nuestro': 3,\n",
              "         'nueva': 2,\n",
              "         'nuevo': 2,\n",
              "         'o': 4,\n",
              "         'ocasiones': 1,\n",
              "         'ocasión': 1,\n",
              "         'ocho': 1,\n",
              "         'ocioso': 1,\n",
              "         'olla': 1,\n",
              "         'olvidadas': 1,\n",
              "         'olvidó': 1,\n",
              "         'orden': 1,\n",
              "         'ordinario': 1,\n",
              "         'oro': 1,\n",
              "         'orín': 1,\n",
              "         'os': 1,\n",
              "         'ossa': 1,\n",
              "         'otra': 2,\n",
              "         'otros': 3,\n",
              "         'palomino': 1,\n",
              "         'pantuflos': 1,\n",
              "         'para': 9,\n",
              "         'parecer': 4,\n",
              "         'parecerle': 1,\n",
              "         'pareció': 3,\n",
              "         'parecían': 2,\n",
              "         'partes': 2,\n",
              "         'partido': 1,\n",
              "         'parto': 1,\n",
              "         'pasaba': 1,\n",
              "         'pasaban': 1,\n",
              "         'pasaron': 1,\n",
              "         'patria': 2,\n",
              "         'pecados': 1,\n",
              "         'pedazos': 1,\n",
              "         'peligro': 1,\n",
              "         'peligros': 1,\n",
              "         'pellis': 1,\n",
              "         'pendencias': 1,\n",
              "         'pensamiento': 2,\n",
              "         'pensamientos': 3,\n",
              "         'perder': 1,\n",
              "         'perdía': 1,\n",
              "         'peregrino': 1,\n",
              "         'perlas': 1,\n",
              "         'pero': 5,\n",
              "         'pie': 1,\n",
              "         'plaza': 1,\n",
              "         'pluma': 1,\n",
              "         'pobre': 2,\n",
              "         'poco': 2,\n",
              "         'podadera': 1,\n",
              "         'podría': 1,\n",
              "         'podía': 2,\n",
              "         'poner': 1,\n",
              "         'poniéndole': 1,\n",
              "         'poniéndose': 1,\n",
              "         'ponérsele': 1,\n",
              "         'por': 18,\n",
              "         'porque': 9,\n",
              "         'presentado': 1,\n",
              "         'presentase': 1,\n",
              "         'priesa': 1,\n",
              "         'primero': 3,\n",
              "         'princesa': 1,\n",
              "         'probar': 1,\n",
              "         'procuraba': 1,\n",
              "         'profesaba': 1,\n",
              "         'promesa': 1,\n",
              "         'promete': 1,\n",
              "         'prosa': 1,\n",
              "         'pudo': 2,\n",
              "         'pueblo': 1,\n",
              "         'pues': 3,\n",
              "         'puestas': 1,\n",
              "         'puesto': 3,\n",
              "         'punto': 3,\n",
              "         'que': 88,\n",
              "         'quebrantos': 1,\n",
              "         'queda': 1,\n",
              "         'quedó': 1,\n",
              "         'quejo': 1,\n",
              "         'querer': 1,\n",
              "         'quien': 4,\n",
              "         'quiero': 1,\n",
              "         'quisieron': 1,\n",
              "         'quiso': 2,\n",
              "         'quitó': 1,\n",
              "         'quién': 2,\n",
              "         'qué': 1,\n",
              "         'ratos': 1,\n",
              "         'razones': 2,\n",
              "         'razón': 6,\n",
              "         'real': 1,\n",
              "         'recia': 1,\n",
              "         'recibía': 1,\n",
              "         'reino': 1,\n",
              "         'rematado': 1,\n",
              "         'rendida': 1,\n",
              "         'república': 1,\n",
              "         'requiebros': 2,\n",
              "         'resolución': 1,\n",
              "         'resto': 1,\n",
              "         'resucitara': 1,\n",
              "         'revés': 1,\n",
              "         'riesgo': 1,\n",
              "         'rincón': 1,\n",
              "         'rindo': 1,\n",
              "         'robar': 1,\n",
              "         'robó': 1,\n",
              "         'rocines': 1,\n",
              "         'rocín': 5,\n",
              "         'rodillas': 1,\n",
              "         'rostro': 2,\n",
              "         'saber': 1,\n",
              "         'sacara': 1,\n",
              "         'sacó': 1,\n",
              "         'salga': 1,\n",
              "         'saliera': 1,\n",
              "         'salir': 1,\n",
              "         'salpicón': 1,\n",
              "         'satisfecho': 1,\n",
              "         'sayo': 1,\n",
              "         'se': 32,\n",
              "         'secas': 1,\n",
              "         'seco': 1,\n",
              "         'secó': 1,\n",
              "         'según': 3,\n",
              "         'semana': 2,\n",
              "         'sembradura': 1,\n",
              "         'semejantes': 1,\n",
              "         'sentido': 1,\n",
              "         'sentía': 1,\n",
              "         'ser': 2,\n",
              "         'servicio': 1,\n",
              "         'será': 1,\n",
              "         'señales': 1,\n",
              "         'señor': 2,\n",
              "         'señora': 4,\n",
              "         'si': 5,\n",
              "         'sido': 5,\n",
              "         'siglos': 1,\n",
              "         'significativo': 2,\n",
              "         'simple': 1,\n",
              "         'sin': 8,\n",
              "         'singular': 1,\n",
              "         'sino': 3,\n",
              "         'sinrazón': 1,\n",
              "         'soberbios': 1,\n",
              "         'sobre': 2,\n",
              "         'sobredicho': 1,\n",
              "         'sobrenombre': 2,\n",
              "         'sobrina': 2,\n",
              "         'solo': 1,\n",
              "         'son': 1,\n",
              "         'sonoro': 1,\n",
              "         'soy': 1,\n",
              "         'soñadas': 1,\n",
              "         'su': 35,\n",
              "         'suerte': 1,\n",
              "         'suplió': 1,\n",
              "         'supo': 1,\n",
              "         'sus': 6,\n",
              "         'suya': 1,\n",
              "         'suyas': 1,\n",
              "         'suyo': 3,\n",
              "         'sábados': 1,\n",
              "         'sí': 4,\n",
              "         'sólo': 3,\n",
              "         'tachas': 1,\n",
              "         'tal': 3,\n",
              "         'talante': 1,\n",
              "         'también': 2,\n",
              "         'tan': 7,\n",
              "         'tanta': 1,\n",
              "         'tanto': 2,\n",
              "         'tantum': 1,\n",
              "         'tener': 2,\n",
              "         'tenía': 6,\n",
              "         'tenían': 1,\n",
              "         'tiempo': 2,\n",
              "         'tierra': 1,\n",
              "         'tirase': 1,\n",
              "         'toda': 1,\n",
              "         'todo': 9,\n",
              "         'todos': 6,\n",
              "         'tomaba': 1,\n",
              "         'tomadas': 1,\n",
              "         'tomar': 2,\n",
              "         'tomaron': 1,\n",
              "         'topaba': 1,\n",
              "         'tormentas': 1,\n",
              "         'tornó': 2,\n",
              "         'traidor': 1,\n",
              "         'tres': 1,\n",
              "         'turbio': 2,\n",
              "         'tuvo': 1,\n",
              "         'título': 1,\n",
              "         'un': 12,\n",
              "         'una': 9,\n",
              "         'unas': 2,\n",
              "         'vaca': 1,\n",
              "         'valentía': 1,\n",
              "         'valeroso': 1,\n",
              "         'valiéndose': 1,\n",
              "         'valor': 1,\n",
              "         'veces': 2,\n",
              "         'veinte': 1,\n",
              "         'velarte': 1,\n",
              "         'vellori': 1,\n",
              "         'velludo': 1,\n",
              "         'venció': 1,\n",
              "         'vendió': 1,\n",
              "         'venzo': 1,\n",
              "         'ver': 2,\n",
              "         'verdad': 3,\n",
              "         'verdadera': 1,\n",
              "         'verosímiles': 1,\n",
              "         'veía': 1,\n",
              "         'viernes': 1,\n",
              "         'vino': 6,\n",
              "         'vivo': 1,\n",
              "         'vivía': 1,\n",
              "         'vió': 1,\n",
              "         'voz': 1,\n",
              "         'vuestra': 5,\n",
              "         'y': 102,\n",
              "         'ya': 3,\n",
              "         'yo': 2,\n",
              "         'zaga': 1,\n",
              "         '¡Oh': 1,\n",
              "         '¿no': 1,\n",
              "         'árbol': 1,\n",
              "         'él': 14,\n",
              "         'ídolo': 1,\n",
              "         'ínsula': 1})"
            ]
          },
          "metadata": {
            "tags": []
          },
          "execution_count": 32
        }
      ]
    },
    {
      "cell_type": "code",
      "metadata": {
        "id": "5DExt7GB6gNY",
        "colab_type": "code",
        "colab": {}
      },
      "source": [
        "# Eliminamos las stop words...\n",
        "for word in spa_stop_words:\n",
        "    word_count.pop(word, None)"
      ],
      "execution_count": 0,
      "outputs": []
    },
    {
      "cell_type": "code",
      "metadata": {
        "id": "LnZ3OzxI6lnQ",
        "colab_type": "code",
        "outputId": "78bf60f1-6188-4863-e256-d03fc0457dc6",
        "colab": {
          "base_uri": "https://localhost:8080/",
          "height": 34
        }
      },
      "source": [
        "word_count.most_common(5)"
      ],
      "execution_count": 0,
      "outputs": [
        {
          "output_type": "execute_result",
          "data": {
            "text/plain": [
              "[('nombre', 13), ('caballero', 13), ('así', 9), ('tan', 7), ('bien', 7)]"
            ]
          },
          "metadata": {
            "tags": []
          },
          "execution_count": 34
        }
      ]
    },
    {
      "cell_type": "markdown",
      "metadata": {
        "id": "WH5N7w9CEB43",
        "colab_type": "text"
      },
      "source": [
        "# Ejemplo 4: Simon\n",
        "\n"
      ]
    },
    {
      "cell_type": "code",
      "metadata": {
        "id": "D1VfNVykGxIq",
        "colab_type": "code",
        "outputId": "5ded440c-1395-458e-9329-3578bf4bc88b",
        "colab": {
          "base_uri": "https://localhost:8080/",
          "height": 336
        }
      },
      "source": [
        "from IPython.display import HTML\n",
        "HTML('<iframe width=\"560\" height=\"315\" src=\"https://www.youtube.com/embed/1Yqj76Q4jJ4\" frameborder=\"0\" allow=\"accelerometer; autoplay; encrypted-media; gyroscope; picture-in-picture\" allowfullscreen></iframe>')"
      ],
      "execution_count": 0,
      "outputs": [
        {
          "output_type": "execute_result",
          "data": {
            "text/html": [
              "<iframe width=\"560\" height=\"315\" src=\"https://www.youtube.com/embed/1Yqj76Q4jJ4\" frameborder=\"0\" allow=\"accelerometer; autoplay; encrypted-media; gyroscope; picture-in-picture\" allowfullscreen></iframe>"
            ],
            "text/plain": [
              "<IPython.core.display.HTML object>"
            ]
          },
          "metadata": {
            "tags": []
          },
          "execution_count": 4
        }
      ]
    },
    {
      "cell_type": "code",
      "metadata": {
        "id": "PqGDy3HTQ3_F",
        "colab_type": "code",
        "colab": {}
      },
      "source": [
        "# Auxiliar code to create colored circles\n",
        "from IPython.display import display, clear_output\n",
        "import random, time\n",
        "\n",
        "from PIL import Image, ImageDraw\n",
        "size_in_px = (360, 360)\n",
        "bg_color = (255,255,255,0)\n",
        "ellipse_size = (0, 0, 360, 360)\n",
        "\n",
        "def get_color_circle_img(color):\n",
        "    img = Image.new(\"RGBA\", size_in_px, bg_color)\n",
        "    draw = ImageDraw.Draw(img)\n",
        "    draw.ellipse(ellipse_size, color)    \n",
        "    return img\n",
        "\n",
        "colors = ['green', 'red', 'yellow', 'blue']"
      ],
      "execution_count": 0,
      "outputs": []
    },
    {
      "cell_type": "code",
      "metadata": {
        "id": "jzFwSJjYGzUx",
        "colab_type": "code",
        "outputId": "8188c54e-5870-4e1b-86d3-2e6b0b097dbf",
        "colab": {
          "base_uri": "https://localhost:8080/",
          "height": 1018
        }
      },
      "source": [
        "# Initialization\n",
        "sequence_so_far = [random.choice(colors) for _ in range(3)]\n",
        "did_player_guessed = True\n",
        "\n",
        "# Play loop\n",
        "while(did_player_guessed):\n",
        "    \n",
        "    # Show the actual sequence\n",
        "    for color in sequence_so_far:\n",
        "        display(get_color_circle_img(color))\n",
        "        time.sleep(1)\n",
        "        clear_output()\n",
        "        time.sleep(1)\n",
        "        \n",
        "    # Now ask for it to the user\n",
        "    for i, color in enumerate(sequence_so_far):\n",
        "        answer = input(f\"Insert the name of the color that appeared on position #{i+1} \")\n",
        "        if answer != color:\n",
        "            did_player_guessed = False\n",
        "            print(\"La has liado... 😅\")\n",
        "            break\n",
        "            \n",
        "    # Make things just a little bit harder\n",
        "    sequence_so_far.append(random.choice(color_imgs))\n",
        "    \n",
        "            \n",
        "        "
      ],
      "execution_count": 0,
      "outputs": [
        {
          "output_type": "stream",
          "text": [
            "Introduce el color que apareció en posición #1 green\n"
          ],
          "name": "stdout"
        },
        {
          "output_type": "error",
          "ename": "KeyboardInterrupt",
          "evalue": "ignored",
          "traceback": [
            "\u001b[0;31m---------------------------------------------------------------------------\u001b[0m",
            "\u001b[0;31mKeyboardInterrupt\u001b[0m                         Traceback (most recent call last)",
            "\u001b[0;32m/usr/local/lib/python3.6/dist-packages/ipykernel/kernelbase.py\u001b[0m in \u001b[0;36m_input_request\u001b[0;34m(self, prompt, ident, parent, password)\u001b[0m\n\u001b[1;32m    729\u001b[0m             \u001b[0;32mtry\u001b[0m\u001b[0;34m:\u001b[0m\u001b[0;34m\u001b[0m\u001b[0;34m\u001b[0m\u001b[0m\n\u001b[0;32m--> 730\u001b[0;31m                 \u001b[0mident\u001b[0m\u001b[0;34m,\u001b[0m \u001b[0mreply\u001b[0m \u001b[0;34m=\u001b[0m \u001b[0mself\u001b[0m\u001b[0;34m.\u001b[0m\u001b[0msession\u001b[0m\u001b[0;34m.\u001b[0m\u001b[0mrecv\u001b[0m\u001b[0;34m(\u001b[0m\u001b[0mself\u001b[0m\u001b[0;34m.\u001b[0m\u001b[0mstdin_socket\u001b[0m\u001b[0;34m,\u001b[0m \u001b[0;36m0\u001b[0m\u001b[0;34m)\u001b[0m\u001b[0;34m\u001b[0m\u001b[0;34m\u001b[0m\u001b[0m\n\u001b[0m\u001b[1;32m    731\u001b[0m             \u001b[0;32mexcept\u001b[0m \u001b[0mException\u001b[0m\u001b[0;34m:\u001b[0m\u001b[0;34m\u001b[0m\u001b[0;34m\u001b[0m\u001b[0m\n",
            "\u001b[0;32m/usr/local/lib/python3.6/dist-packages/jupyter_client/session.py\u001b[0m in \u001b[0;36mrecv\u001b[0;34m(self, socket, mode, content, copy)\u001b[0m\n\u001b[1;32m    802\u001b[0m         \u001b[0;32mtry\u001b[0m\u001b[0;34m:\u001b[0m\u001b[0;34m\u001b[0m\u001b[0;34m\u001b[0m\u001b[0m\n\u001b[0;32m--> 803\u001b[0;31m             \u001b[0mmsg_list\u001b[0m \u001b[0;34m=\u001b[0m \u001b[0msocket\u001b[0m\u001b[0;34m.\u001b[0m\u001b[0mrecv_multipart\u001b[0m\u001b[0;34m(\u001b[0m\u001b[0mmode\u001b[0m\u001b[0;34m,\u001b[0m \u001b[0mcopy\u001b[0m\u001b[0;34m=\u001b[0m\u001b[0mcopy\u001b[0m\u001b[0;34m)\u001b[0m\u001b[0;34m\u001b[0m\u001b[0;34m\u001b[0m\u001b[0m\n\u001b[0m\u001b[1;32m    804\u001b[0m         \u001b[0;32mexcept\u001b[0m \u001b[0mzmq\u001b[0m\u001b[0;34m.\u001b[0m\u001b[0mZMQError\u001b[0m \u001b[0;32mas\u001b[0m \u001b[0me\u001b[0m\u001b[0;34m:\u001b[0m\u001b[0;34m\u001b[0m\u001b[0;34m\u001b[0m\u001b[0m\n",
            "\u001b[0;32m/usr/local/lib/python3.6/dist-packages/zmq/sugar/socket.py\u001b[0m in \u001b[0;36mrecv_multipart\u001b[0;34m(self, flags, copy, track)\u001b[0m\n\u001b[1;32m    465\u001b[0m         \"\"\"\n\u001b[0;32m--> 466\u001b[0;31m         \u001b[0mparts\u001b[0m \u001b[0;34m=\u001b[0m \u001b[0;34m[\u001b[0m\u001b[0mself\u001b[0m\u001b[0;34m.\u001b[0m\u001b[0mrecv\u001b[0m\u001b[0;34m(\u001b[0m\u001b[0mflags\u001b[0m\u001b[0;34m,\u001b[0m \u001b[0mcopy\u001b[0m\u001b[0;34m=\u001b[0m\u001b[0mcopy\u001b[0m\u001b[0;34m,\u001b[0m \u001b[0mtrack\u001b[0m\u001b[0;34m=\u001b[0m\u001b[0mtrack\u001b[0m\u001b[0;34m)\u001b[0m\u001b[0;34m]\u001b[0m\u001b[0;34m\u001b[0m\u001b[0;34m\u001b[0m\u001b[0m\n\u001b[0m\u001b[1;32m    467\u001b[0m         \u001b[0;31m# have first part already, only loop while more to receive\u001b[0m\u001b[0;34m\u001b[0m\u001b[0;34m\u001b[0m\u001b[0;34m\u001b[0m\u001b[0m\n",
            "\u001b[0;32mzmq/backend/cython/socket.pyx\u001b[0m in \u001b[0;36mzmq.backend.cython.socket.Socket.recv\u001b[0;34m()\u001b[0m\n",
            "\u001b[0;32mzmq/backend/cython/socket.pyx\u001b[0m in \u001b[0;36mzmq.backend.cython.socket.Socket.recv\u001b[0;34m()\u001b[0m\n",
            "\u001b[0;32mzmq/backend/cython/socket.pyx\u001b[0m in \u001b[0;36mzmq.backend.cython.socket._recv_copy\u001b[0;34m()\u001b[0m\n",
            "\u001b[0;32m/usr/local/lib/python3.6/dist-packages/zmq/backend/cython/checkrc.pxd\u001b[0m in \u001b[0;36mzmq.backend.cython.checkrc._check_rc\u001b[0;34m()\u001b[0m\n",
            "\u001b[0;31mKeyboardInterrupt\u001b[0m: ",
            "\nDuring handling of the above exception, another exception occurred:\n",
            "\u001b[0;31mKeyboardInterrupt\u001b[0m                         Traceback (most recent call last)",
            "\u001b[0;32m<ipython-input-7-b07834dc0be8>\u001b[0m in \u001b[0;36m<module>\u001b[0;34m()\u001b[0m\n\u001b[1;32m     14\u001b[0m     \u001b[0;31m# Now ask for it to the user\u001b[0m\u001b[0;34m\u001b[0m\u001b[0;34m\u001b[0m\u001b[0;34m\u001b[0m\u001b[0m\n\u001b[1;32m     15\u001b[0m     \u001b[0;32mfor\u001b[0m \u001b[0mi\u001b[0m\u001b[0;34m,\u001b[0m \u001b[0mcolor\u001b[0m \u001b[0;32min\u001b[0m \u001b[0menumerate\u001b[0m\u001b[0;34m(\u001b[0m\u001b[0msequence_so_far\u001b[0m\u001b[0;34m)\u001b[0m\u001b[0;34m:\u001b[0m\u001b[0;34m\u001b[0m\u001b[0;34m\u001b[0m\u001b[0m\n\u001b[0;32m---> 16\u001b[0;31m         \u001b[0manswer\u001b[0m \u001b[0;34m=\u001b[0m \u001b[0minput\u001b[0m\u001b[0;34m(\u001b[0m\u001b[0;34mf\"Introduce el color que apareció en posición #{i+1} \"\u001b[0m\u001b[0;34m)\u001b[0m\u001b[0;34m\u001b[0m\u001b[0;34m\u001b[0m\u001b[0m\n\u001b[0m\u001b[1;32m     17\u001b[0m         \u001b[0;32mif\u001b[0m \u001b[0manswer\u001b[0m \u001b[0;34m!=\u001b[0m \u001b[0mcolor\u001b[0m\u001b[0;34m:\u001b[0m\u001b[0;34m\u001b[0m\u001b[0;34m\u001b[0m\u001b[0m\n\u001b[1;32m     18\u001b[0m             \u001b[0mdid_player_guessed\u001b[0m \u001b[0;34m=\u001b[0m \u001b[0;32mFalse\u001b[0m\u001b[0;34m\u001b[0m\u001b[0;34m\u001b[0m\u001b[0m\n",
            "\u001b[0;32m/usr/local/lib/python3.6/dist-packages/ipykernel/kernelbase.py\u001b[0m in \u001b[0;36mraw_input\u001b[0;34m(self, prompt)\u001b[0m\n\u001b[1;32m    703\u001b[0m             \u001b[0mself\u001b[0m\u001b[0;34m.\u001b[0m\u001b[0m_parent_ident\u001b[0m\u001b[0;34m,\u001b[0m\u001b[0;34m\u001b[0m\u001b[0;34m\u001b[0m\u001b[0m\n\u001b[1;32m    704\u001b[0m             \u001b[0mself\u001b[0m\u001b[0;34m.\u001b[0m\u001b[0m_parent_header\u001b[0m\u001b[0;34m,\u001b[0m\u001b[0;34m\u001b[0m\u001b[0;34m\u001b[0m\u001b[0m\n\u001b[0;32m--> 705\u001b[0;31m             \u001b[0mpassword\u001b[0m\u001b[0;34m=\u001b[0m\u001b[0;32mFalse\u001b[0m\u001b[0;34m,\u001b[0m\u001b[0;34m\u001b[0m\u001b[0;34m\u001b[0m\u001b[0m\n\u001b[0m\u001b[1;32m    706\u001b[0m         )\n\u001b[1;32m    707\u001b[0m \u001b[0;34m\u001b[0m\u001b[0m\n",
            "\u001b[0;32m/usr/local/lib/python3.6/dist-packages/ipykernel/kernelbase.py\u001b[0m in \u001b[0;36m_input_request\u001b[0;34m(self, prompt, ident, parent, password)\u001b[0m\n\u001b[1;32m    733\u001b[0m             \u001b[0;32mexcept\u001b[0m \u001b[0mKeyboardInterrupt\u001b[0m\u001b[0;34m:\u001b[0m\u001b[0;34m\u001b[0m\u001b[0;34m\u001b[0m\u001b[0m\n\u001b[1;32m    734\u001b[0m                 \u001b[0;31m# re-raise KeyboardInterrupt, to truncate traceback\u001b[0m\u001b[0;34m\u001b[0m\u001b[0;34m\u001b[0m\u001b[0;34m\u001b[0m\u001b[0m\n\u001b[0;32m--> 735\u001b[0;31m                 \u001b[0;32mraise\u001b[0m \u001b[0mKeyboardInterrupt\u001b[0m\u001b[0;34m\u001b[0m\u001b[0;34m\u001b[0m\u001b[0m\n\u001b[0m\u001b[1;32m    736\u001b[0m             \u001b[0;32melse\u001b[0m\u001b[0;34m:\u001b[0m\u001b[0;34m\u001b[0m\u001b[0;34m\u001b[0m\u001b[0m\n\u001b[1;32m    737\u001b[0m                 \u001b[0;32mbreak\u001b[0m\u001b[0;34m\u001b[0m\u001b[0;34m\u001b[0m\u001b[0m\n",
            "\u001b[0;31mKeyboardInterrupt\u001b[0m: "
          ]
        }
      ]
    },
    {
      "cell_type": "code",
      "metadata": {
        "id": "JGnvGW8DjHG3",
        "colab_type": "code",
        "colab": {}
      },
      "source": [
        ""
      ],
      "execution_count": 0,
      "outputs": []
    }
  ]
}