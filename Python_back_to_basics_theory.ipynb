{
  "nbformat": 4,
  "nbformat_minor": 0,
  "metadata": {
    "colab": {
      "name": "Python_back_to_basics_theory.ipynb",
      "provenance": [],
      "collapsed_sections": [],
      "toc_visible": true,
      "include_colab_link": true
    },
    "kernelspec": {
      "name": "python3",
      "display_name": "Python 3"
    }
  },
  "cells": [
    {
      "cell_type": "markdown",
      "metadata": {
        "id": "view-in-github",
        "colab_type": "text"
      },
      "source": [
        "<a href=\"https://colab.research.google.com/github/gachet/000mis-colabs/blob/master/Python_back_to_basics_theory.ipynb\" target=\"_parent\"><img src=\"https://colab.research.google.com/assets/colab-badge.svg\" alt=\"Open In Colab\"/></a>"
      ]
    },
    {
      "cell_type": "markdown",
      "metadata": {
        "id": "PLrPVB0TzUOL",
        "colab_type": "text"
      },
      "source": [
        "<center>\n",
        "    <img src=\"https://i.imgur.com/RrHxfUP.png\" style=\"width: 300px\">\n",
        "    <h1>Teoría</h1>\n",
        "</center>\n"
      ]
    },
    {
      "cell_type": "markdown",
      "metadata": {
        "id": "r4xy0NX4WvMt",
        "colab_type": "text"
      },
      "source": [
        "## Variables"
      ]
    },
    {
      "cell_type": "code",
      "metadata": {
        "id": "tLlZRNEBVUvf",
        "colab_type": "code",
        "outputId": "ddb35aa1-116b-401a-bf97-d2d16996843c",
        "colab": {
          "base_uri": "https://localhost:8080/",
          "height": 35
        }
      },
      "source": [
        "num = 1\n",
        "print(num)"
      ],
      "execution_count": 0,
      "outputs": [
        {
          "output_type": "stream",
          "text": [
            "1\n"
          ],
          "name": "stdout"
        }
      ]
    },
    {
      "cell_type": "markdown",
      "metadata": {
        "id": "tfKTF76mSqXW",
        "colab_type": "text"
      },
      "source": [
        "Python es un lenguaje **dinamicamente tipado**: no indicamos el tipo de las variables, esto es, si son números enteros, cadenas de caracteres... No obstante, las datos sí que tienen tipos."
      ]
    },
    {
      "cell_type": "code",
      "metadata": {
        "id": "xTpN3YQpXVYj",
        "colab_type": "code",
        "outputId": "6f971cd0-42c0-49f9-c1d9-d73b1557d760",
        "colab": {
          "base_uri": "https://localhost:8080/",
          "height": 35
        }
      },
      "source": [
        "x = 1\n",
        "type(x)"
      ],
      "execution_count": 0,
      "outputs": [
        {
          "output_type": "execute_result",
          "data": {
            "text/plain": [
              "int"
            ]
          },
          "metadata": {
            "tags": []
          },
          "execution_count": 1
        }
      ]
    },
    {
      "cell_type": "code",
      "metadata": {
        "id": "xt6UkplaXXti",
        "colab_type": "code",
        "outputId": "75228971-0b11-4216-816c-86dd8b8273ea",
        "colab": {
          "base_uri": "https://localhost:8080/",
          "height": 34
        }
      },
      "source": [
        "x = 4.0\n",
        "type(x)"
      ],
      "execution_count": 0,
      "outputs": [
        {
          "output_type": "execute_result",
          "data": {
            "text/plain": [
              "float"
            ]
          },
          "metadata": {
            "tags": []
          },
          "execution_count": 4
        }
      ]
    },
    {
      "cell_type": "code",
      "metadata": {
        "id": "fKUyBkmEXasd",
        "colab_type": "code",
        "outputId": "a4860c35-270e-44b2-838c-16777f440932",
        "colab": {
          "base_uri": "https://localhost:8080/",
          "height": 34
        }
      },
      "source": [
        "x = True\n",
        "type(x)"
      ],
      "execution_count": 0,
      "outputs": [
        {
          "output_type": "execute_result",
          "data": {
            "text/plain": [
              "bool"
            ]
          },
          "metadata": {
            "tags": []
          },
          "execution_count": 6
        }
      ]
    },
    {
      "cell_type": "code",
      "metadata": {
        "id": "Y53J_doGXdfZ",
        "colab_type": "code",
        "outputId": "decfc341-2241-44dc-e923-cecad9a15120",
        "colab": {
          "base_uri": "https://localhost:8080/",
          "height": 34
        }
      },
      "source": [
        "x = \"Pepe\"\n",
        "type(x)"
      ],
      "execution_count": 0,
      "outputs": [
        {
          "output_type": "execute_result",
          "data": {
            "text/plain": [
              "str"
            ]
          },
          "metadata": {
            "tags": []
          },
          "execution_count": 7
        }
      ]
    },
    {
      "cell_type": "markdown",
      "metadata": {
        "id": "NFbTa4TQXwmu",
        "colab_type": "text"
      },
      "source": [
        "Podemos hacer operaciones entre tipos:"
      ]
    },
    {
      "cell_type": "code",
      "metadata": {
        "id": "X5k-pXIKX2I8",
        "colab_type": "code",
        "outputId": "fb71bf2b-a441-435f-c362-bb737fe6cb52",
        "colab": {
          "base_uri": "https://localhost:8080/",
          "height": 52
        }
      },
      "source": [
        "x = 4\n",
        "y = x + 2.0\n",
        "print(y)\n",
        "print(type(y))"
      ],
      "execution_count": 0,
      "outputs": [
        {
          "output_type": "stream",
          "text": [
            "6.0\n",
            "<class 'float'>\n"
          ],
          "name": "stdout"
        }
      ]
    },
    {
      "cell_type": "markdown",
      "metadata": {
        "id": "KihszZFvYBuP",
        "colab_type": "text"
      },
      "source": [
        "Pero esto no es jauja tampoco 💃 (aka Javascipt):"
      ]
    },
    {
      "cell_type": "code",
      "metadata": {
        "id": "JUiYE17qYH6G",
        "colab_type": "code",
        "outputId": "ae8fc9ee-f8aa-4a7a-9632-54cd76eae179",
        "colab": {
          "base_uri": "https://localhost:8080/",
          "height": 218
        }
      },
      "source": [
        "x = \"test\"\n",
        "y = x + 2.0\n",
        "y"
      ],
      "execution_count": 0,
      "outputs": [
        {
          "output_type": "error",
          "ename": "TypeError",
          "evalue": "ignored",
          "traceback": [
            "\u001b[0;31m---------------------------------------------------------------------------\u001b[0m",
            "\u001b[0;31mTypeError\u001b[0m                                 Traceback (most recent call last)",
            "\u001b[0;32m<ipython-input-12-1437d28ce4b5>\u001b[0m in \u001b[0;36m<module>\u001b[0;34m()\u001b[0m\n\u001b[1;32m      1\u001b[0m \u001b[0mx\u001b[0m \u001b[0;34m=\u001b[0m \u001b[0;34m\"test\"\u001b[0m\u001b[0;34m\u001b[0m\u001b[0;34m\u001b[0m\u001b[0m\n\u001b[0;32m----> 2\u001b[0;31m \u001b[0my\u001b[0m \u001b[0;34m=\u001b[0m \u001b[0mx\u001b[0m \u001b[0;34m+\u001b[0m \u001b[0;36m2.0\u001b[0m\u001b[0;34m\u001b[0m\u001b[0;34m\u001b[0m\u001b[0m\n\u001b[0m\u001b[1;32m      3\u001b[0m \u001b[0my\u001b[0m\u001b[0;34m\u001b[0m\u001b[0;34m\u001b[0m\u001b[0m\n",
            "\u001b[0;31mTypeError\u001b[0m: must be str, not float"
          ]
        }
      ]
    },
    {
      "cell_type": "markdown",
      "metadata": {
        "id": "OYYPADYiYJJo",
        "colab_type": "text"
      },
      "source": [
        "Python es un lenguaje **strongly typed** (fuertemente tipado): solo hace conversiones implicitas de tipos de datos cuando sean muy obvias."
      ]
    },
    {
      "cell_type": "markdown",
      "metadata": {
        "id": "YgRj1Kicctjx",
        "colab_type": "text"
      },
      "source": [
        "## Control flow"
      ]
    },
    {
      "cell_type": "code",
      "metadata": {
        "id": "c0iI-6aXcvWe",
        "colab_type": "code",
        "colab": {}
      },
      "source": [
        "x = 5\n",
        "if x > 0:\n",
        "    print(\"Positivo\")\n",
        "else:\n",
        "    print(\"Negativo\")"
      ],
      "execution_count": 0,
      "outputs": []
    },
    {
      "cell_type": "markdown",
      "metadata": {
        "id": "7HeenOJ9dFu5",
        "colab_type": "text"
      },
      "source": [
        "Si queremos romper el flujo de ejecución en más de dos caminos..."
      ]
    },
    {
      "cell_type": "code",
      "metadata": {
        "id": "SZV8Gp4GdRbb",
        "colab_type": "code",
        "outputId": "8cdd30c3-d94d-4c40-8e58-a5c423476f20",
        "colab": {
          "base_uri": "https://localhost:8080/",
          "height": 34
        }
      },
      "source": [
        "# WRONG ⚔️\n",
        "x = -3\n",
        "if x > 0:\n",
        "    print(\"Positivo\")\n",
        "else:\n",
        "    if x == 0:\n",
        "        print(\"Cero\")\n",
        "    else:\n",
        "        print(\"Negativo\")"
      ],
      "execution_count": 0,
      "outputs": [
        {
          "output_type": "stream",
          "text": [
            "Negativo\n"
          ],
          "name": "stdout"
        }
      ]
    },
    {
      "cell_type": "code",
      "metadata": {
        "id": "EusoGGR0dfpJ",
        "colab_type": "code",
        "colab": {}
      },
      "source": [
        "# ESTA ES LA FORMA CORRECTA! \n",
        "x = 0\n",
        "if x > 0:\n",
        "    print(\"Positivo\")\n",
        "elif x == 0:\n",
        "    pass\n",
        "else: \n",
        "    print(\"Negativo\")"
      ],
      "execution_count": 0,
      "outputs": []
    },
    {
      "cell_type": "markdown",
      "metadata": {
        "id": "qeB19LOEqnog",
        "colab_type": "text"
      },
      "source": [
        "¿Y si no quiero hacer nada para x == 0?"
      ]
    },
    {
      "cell_type": "code",
      "metadata": {
        "id": "Vw0Lct6iqViS",
        "colab_type": "code",
        "colab": {}
      },
      "source": [
        ""
      ],
      "execution_count": 0,
      "outputs": []
    },
    {
      "cell_type": "markdown",
      "metadata": {
        "id": "mdjlK9ayd3D1",
        "colab_type": "text"
      },
      "source": [
        "### Short-circuit"
      ]
    },
    {
      "cell_type": "markdown",
      "metadata": {
        "id": "dtHORXyTd21-",
        "colab_type": "text"
      },
      "source": [
        "Anexo: los operadores `and` y `or` funcionan _short-circuit_ por defecto:\n"
      ]
    },
    {
      "cell_type": "code",
      "metadata": {
        "id": "zZwo2nrbfSZs",
        "colab_type": "code",
        "outputId": "9ee733a2-d777-438d-ce2d-7bcc70e15488",
        "colab": {
          "base_uri": "https://localhost:8080/",
          "height": 218
        }
      },
      "source": [
        "# Esto NO va a funcionar\n",
        "edad = \"TOMATE\"\n",
        "if edad > 18 and isinstance(edad, int):\n",
        "    print(\"Es mayor de edad\")"
      ],
      "execution_count": 0,
      "outputs": [
        {
          "output_type": "error",
          "ename": "TypeError",
          "evalue": "ignored",
          "traceback": [
            "\u001b[0;31m---------------------------------------------------------------------------\u001b[0m",
            "\u001b[0;31mTypeError\u001b[0m                                 Traceback (most recent call last)",
            "\u001b[0;32m<ipython-input-19-00a9ff8f46f9>\u001b[0m in \u001b[0;36m<module>\u001b[0;34m()\u001b[0m\n\u001b[1;32m      1\u001b[0m \u001b[0medad\u001b[0m \u001b[0;34m=\u001b[0m \u001b[0;34m\"TOMATE\"\u001b[0m\u001b[0;34m\u001b[0m\u001b[0;34m\u001b[0m\u001b[0m\n\u001b[0;32m----> 2\u001b[0;31m \u001b[0;32mif\u001b[0m \u001b[0medad\u001b[0m \u001b[0;34m>\u001b[0m \u001b[0;36m18\u001b[0m \u001b[0;32mand\u001b[0m \u001b[0misinstance\u001b[0m\u001b[0;34m(\u001b[0m\u001b[0medad\u001b[0m\u001b[0;34m,\u001b[0m \u001b[0mint\u001b[0m\u001b[0;34m)\u001b[0m\u001b[0;34m:\u001b[0m\u001b[0;34m\u001b[0m\u001b[0;34m\u001b[0m\u001b[0m\n\u001b[0m\u001b[1;32m      3\u001b[0m     \u001b[0mprint\u001b[0m\u001b[0;34m(\u001b[0m\u001b[0;34m\"Es mayor de edad\"\u001b[0m\u001b[0;34m)\u001b[0m\u001b[0;34m\u001b[0m\u001b[0;34m\u001b[0m\u001b[0m\n",
            "\u001b[0;31mTypeError\u001b[0m: '>' not supported between instances of 'str' and 'int'"
          ]
        }
      ]
    },
    {
      "cell_type": "code",
      "metadata": {
        "id": "s8Vzl9TSfVsF",
        "colab_type": "code",
        "outputId": "c46e638b-a1bf-49e8-b4e1-89b2f6399402",
        "colab": {
          "base_uri": "https://localhost:8080/",
          "height": 34
        }
      },
      "source": [
        "# Pero esto sí...\n",
        "edad = \"TOMATE\"\n",
        "if isinstance(edad, int) and edad > 18:\n",
        "    print(\"Es mayor de edad\")\n",
        "else:\n",
        "    print(\"O no es mayor de edad o está haciendo el chorras\")"
      ],
      "execution_count": 0,
      "outputs": [
        {
          "output_type": "stream",
          "text": [
            "O no es mayor de edad o está haciendo el chorras\n"
          ],
          "name": "stdout"
        }
      ]
    },
    {
      "cell_type": "markdown",
      "metadata": {
        "id": "vs75thSleC8u",
        "colab_type": "text"
      },
      "source": [
        "## Truth value testing"
      ]
    },
    {
      "cell_type": "markdown",
      "metadata": {
        "id": "OvuLFevUevKk",
        "colab_type": "text"
      },
      "source": [
        "Podemos \"chequear el valor de verdad\" de cualquier objeto...\n"
      ]
    },
    {
      "cell_type": "code",
      "metadata": {
        "id": "3oK9X9g9eGKz",
        "colab_type": "code",
        "outputId": "2b728bc9-42c5-407c-e703-fe93bc1f37ed",
        "colab": {
          "base_uri": "https://localhost:8080/",
          "height": 35
        }
      },
      "source": [
        "\n",
        "x = [] # <-- Un string vacio\n",
        "if x:\n",
        "    print(\"x ha de ser True\")\n",
        "elif not x:\n",
        "    print(\"x ha de ser False\")\n",
        "else:\n",
        "    print(\"No estoy petando, pero paso de ti\")"
      ],
      "execution_count": 0,
      "outputs": [
        {
          "output_type": "stream",
          "text": [
            "x ha de ser False\n"
          ],
          "name": "stdout"
        }
      ]
    },
    {
      "cell_type": "code",
      "metadata": {
        "id": "G2x2gSOpfD97",
        "colab_type": "code",
        "outputId": "ec88a23b-37cc-4331-df81-49e611332b20",
        "colab": {
          "base_uri": "https://localhost:8080/",
          "height": 35
        }
      },
      "source": [
        "x = \"ooo\"\n",
        "if x == True:\n",
        "    print(\"x es True\")\n",
        "elif x == False:\n",
        "    print(\"x es False\")\n",
        "else:\n",
        "    print(\"WHAT IS GOING ON???\")"
      ],
      "execution_count": 0,
      "outputs": [
        {
          "output_type": "stream",
          "text": [
            "WHAT IS GOING ON???\n"
          ],
          "name": "stdout"
        }
      ]
    },
    {
      "cell_type": "markdown",
      "metadata": {
        "id": "VIROfPxbf7xS",
        "colab_type": "text"
      },
      "source": [
        "But WAIT... "
      ]
    },
    {
      "cell_type": "markdown",
      "metadata": {
        "id": "0H87wg7JvgJI",
        "colab_type": "text"
      },
      "source": [
        "## Listas y tuplas"
      ]
    },
    {
      "cell_type": "code",
      "metadata": {
        "id": "7CbgbhAZwGhz",
        "colab_type": "code",
        "outputId": "4ac402b8-defd-4e62-8342-e57d03056612",
        "colab": {
          "base_uri": "https://localhost:8080/",
          "height": 35
        }
      },
      "source": [
        "a_list = [2, 4.0, True, \"Pepe\"]\n",
        "a_list"
      ],
      "execution_count": 0,
      "outputs": [
        {
          "output_type": "execute_result",
          "data": {
            "text/plain": [
              "[2, 4.0, True, 'Pepe']"
            ]
          },
          "metadata": {
            "tags": []
          },
          "execution_count": 16
        }
      ]
    },
    {
      "cell_type": "code",
      "metadata": {
        "id": "ToYewrBuwKw1",
        "colab_type": "code",
        "outputId": "3e86ba5b-29be-4ec0-cc23-d64a727b327a",
        "colab": {
          "base_uri": "https://localhost:8080/",
          "height": 35
        }
      },
      "source": [
        "a_tuple = (2, 4.0, True, \"Pepe\")\n",
        "a_tuple"
      ],
      "execution_count": 0,
      "outputs": [
        {
          "output_type": "execute_result",
          "data": {
            "text/plain": [
              "(2, 4.0, True, 'Pepe')"
            ]
          },
          "metadata": {
            "tags": []
          },
          "execution_count": 13
        }
      ]
    },
    {
      "cell_type": "code",
      "metadata": {
        "id": "SR5QQvBNwS-K",
        "colab_type": "code",
        "outputId": "95ea7f72-6ecf-473c-9034-3813bce001e9",
        "colab": {
          "base_uri": "https://localhost:8080/",
          "height": 35
        }
      },
      "source": [
        "a_list[-1]"
      ],
      "execution_count": 0,
      "outputs": [
        {
          "output_type": "execute_result",
          "data": {
            "text/plain": [
              "'Pepe'"
            ]
          },
          "metadata": {
            "tags": []
          },
          "execution_count": 18
        }
      ]
    },
    {
      "cell_type": "code",
      "metadata": {
        "id": "gs3o3FJEwVK5",
        "colab_type": "code",
        "outputId": "94ecb10c-0478-4951-a2cf-905526363d3e",
        "colab": {
          "base_uri": "https://localhost:8080/",
          "height": 35
        }
      },
      "source": [
        "a_list[0:2:2]"
      ],
      "execution_count": 0,
      "outputs": [
        {
          "output_type": "execute_result",
          "data": {
            "text/plain": [
              "[2]"
            ]
          },
          "metadata": {
            "tags": []
          },
          "execution_count": 19
        }
      ]
    },
    {
      "cell_type": "markdown",
      "metadata": {
        "id": "q1B1c2D1v8qZ",
        "colab_type": "text"
      },
      "source": [
        "<img src=\"https://i.imgur.com/9n0zEBt.png\" style=\"width: 300px\">\n",
        "\n"
      ]
    },
    {
      "cell_type": "markdown",
      "metadata": {
        "id": "F443KHBU2yf9",
        "colab_type": "text"
      },
      "source": [
        "## String formatting"
      ]
    },
    {
      "cell_type": "code",
      "metadata": {
        "id": "wdUL8c293CRJ",
        "colab_type": "code",
        "outputId": "3ff3e045-9196-4c10-c2a9-36ba0dfcbdad",
        "colab": {
          "base_uri": "https://localhost:8080/",
          "height": 34
        }
      },
      "source": [
        "# FEISIMA \n",
        "i = 1\n",
        "move = 20\n",
        "\n",
        "print(\"Operación #\" + str(i) + \": \" + str(move)) "
      ],
      "execution_count": 0,
      "outputs": [
        {
          "output_type": "stream",
          "text": [
            "Operación #1: 20\n"
          ],
          "name": "stdout"
        }
      ]
    },
    {
      "cell_type": "markdown",
      "metadata": {
        "id": "mau69dtt2-EF",
        "colab_type": "text"
      },
      "source": [
        "\"Nueva\" sintaxis (desde Python 3):"
      ]
    },
    {
      "cell_type": "code",
      "metadata": {
        "id": "v3alvhHC22nM",
        "colab_type": "code",
        "outputId": "0578e147-3f26-4ee7-cc78-e834164454cc",
        "colab": {
          "base_uri": "https://localhost:8080/",
          "height": 34
        }
      },
      "source": [
        "print(\"Operación #{}: {}\".format(i, move)) "
      ],
      "execution_count": 0,
      "outputs": [
        {
          "output_type": "stream",
          "text": [
            "Operación #1: 20\n"
          ],
          "name": "stdout"
        }
      ]
    },
    {
      "cell_type": "code",
      "metadata": {
        "id": "_eAa7Pbr3X4v",
        "colab_type": "code",
        "outputId": "da636226-879a-43d4-9ff1-c9f00af345e0",
        "colab": {
          "base_uri": "https://localhost:8080/",
          "height": 34
        }
      },
      "source": [
        "print(\"Operación #{num}: {value}\".format(num=i, value=move)) "
      ],
      "execution_count": 0,
      "outputs": [
        {
          "output_type": "stream",
          "text": [
            "Operación #1: 20\n"
          ],
          "name": "stdout"
        }
      ]
    },
    {
      "cell_type": "markdown",
      "metadata": {
        "id": "q5we40xG3eXF",
        "colab_type": "text"
      },
      "source": [
        "La verdadera **nueva** sintaxis (desde Python 3.6):"
      ]
    },
    {
      "cell_type": "code",
      "metadata": {
        "id": "lFm7ZPQX4Rci",
        "colab_type": "code",
        "outputId": "4b260daa-4a41-48c6-d6ae-0bef01c2e7fd",
        "colab": {
          "base_uri": "https://localhost:8080/",
          "height": 34
        }
      },
      "source": [
        "print(f\"Operación #{i}: {move}\")"
      ],
      "execution_count": 0,
      "outputs": [
        {
          "output_type": "stream",
          "text": [
            "Operación #1: 20\n"
          ],
          "name": "stdout"
        }
      ]
    },
    {
      "cell_type": "code",
      "metadata": {
        "id": "vYQJe5x34xlX",
        "colab_type": "code",
        "outputId": "b5e177d6-4611-4d0d-d2c9-d7581334008e",
        "colab": {
          "base_uri": "https://localhost:8080/",
          "height": 34
        }
      },
      "source": [
        "i = 1\n",
        "move = 23.93393\n",
        "print(f\"Operación #{i}: {move:.2f}\")"
      ],
      "execution_count": 0,
      "outputs": [
        {
          "output_type": "stream",
          "text": [
            "Operación #1: 23.93\n"
          ],
          "name": "stdout"
        }
      ]
    },
    {
      "cell_type": "markdown",
      "metadata": {
        "id": "utn_xiEw5KHf",
        "colab_type": "text"
      },
      "source": [
        "https://docs.python.org/3.7/library/string.html#format-specification-mini-language"
      ]
    },
    {
      "cell_type": "markdown",
      "metadata": {
        "id": "gY7XGhj98tx3",
        "colab_type": "text"
      },
      "source": [
        "## Tuple unpacking"
      ]
    },
    {
      "cell_type": "code",
      "metadata": {
        "id": "PbiZmige8yQs",
        "colab_type": "code",
        "outputId": "9dfe9c54-2224-40a4-9ce2-e91488a93f41",
        "colab": {
          "base_uri": "https://localhost:8080/",
          "height": 34
        }
      },
      "source": [
        "a_tuple = (1,2,3)\n",
        "a_tuple"
      ],
      "execution_count": 0,
      "outputs": [
        {
          "output_type": "execute_result",
          "data": {
            "text/plain": [
              "(1, 2, 3)"
            ]
          },
          "metadata": {
            "tags": []
          },
          "execution_count": 15
        }
      ]
    },
    {
      "cell_type": "code",
      "metadata": {
        "id": "65UfMJL_9CmN",
        "colab_type": "code",
        "outputId": "5eb9eb3b-82ec-4aba-8dd6-ad8e7c24c495",
        "colab": {
          "base_uri": "https://localhost:8080/",
          "height": 34
        }
      },
      "source": [
        "enumerated = list(enumerate(moves))\n",
        "print(enumerated[0])"
      ],
      "execution_count": 0,
      "outputs": [
        {
          "output_type": "stream",
          "text": [
            "(0, 30)\n"
          ],
          "name": "stdout"
        }
      ]
    },
    {
      "cell_type": "code",
      "metadata": {
        "id": "i_KLtVl59Hby",
        "colab_type": "code",
        "outputId": "8f53939c-0ded-4ad9-9544-94dd9e14c4d2",
        "colab": {
          "base_uri": "https://localhost:8080/",
          "height": 51
        }
      },
      "source": [
        "# Esto es tuple unpacking\n",
        "a, b = enumerated[0]\n",
        "print(f\"a: {a}\")\n",
        "print(f\"b: {b}\")"
      ],
      "execution_count": 0,
      "outputs": [
        {
          "output_type": "stream",
          "text": [
            "a: 0\n",
            "b: 30\n"
          ],
          "name": "stdout"
        }
      ]
    },
    {
      "cell_type": "code",
      "metadata": {
        "id": "9zHx6VKP-TV8",
        "colab_type": "code",
        "outputId": "52ba635b-489f-4862-b99e-18f2bae284bb",
        "colab": {
          "base_uri": "https://localhost:8080/",
          "height": 34
        }
      },
      "source": [
        "a = enumerated[0]\n",
        "print(f\"a: {a}\")"
      ],
      "execution_count": 0,
      "outputs": [
        {
          "output_type": "stream",
          "text": [
            "a: (0, 30)\n"
          ],
          "name": "stdout"
        }
      ]
    },
    {
      "cell_type": "code",
      "metadata": {
        "id": "RxG_rb3I9U-z",
        "colab_type": "code",
        "outputId": "b49ea408-63ad-4703-f8e2-03eac7a00dfd",
        "colab": {
          "base_uri": "https://localhost:8080/",
          "height": 68
        }
      },
      "source": [
        "a, b, c = (1,2,3)\n",
        "print(f\"a: {a}\")\n",
        "print(f\"b: {b}\")\n",
        "print(f\"c: {c}\")"
      ],
      "execution_count": 0,
      "outputs": [
        {
          "output_type": "stream",
          "text": [
            "a: 1\n",
            "b: 2\n",
            "c: 3\n"
          ],
          "name": "stdout"
        }
      ]
    },
    {
      "cell_type": "code",
      "metadata": {
        "id": "G0omrXf5-O8J",
        "colab_type": "code",
        "outputId": "0640a2ff-0ed6-47a7-87e1-a53316bb2661",
        "colab": {
          "base_uri": "https://localhost:8080/",
          "height": 215
        }
      },
      "source": [
        "# Esto no va a colar...\n",
        "a, b = (1,2,3)\n",
        "print(f\"a: {a}\")\n",
        "print(f\"b: {b}\")"
      ],
      "execution_count": 0,
      "outputs": [
        {
          "output_type": "error",
          "ename": "ValueError",
          "evalue": "ignored",
          "traceback": [
            "\u001b[0;31m---------------------------------------------------------------------------\u001b[0m",
            "\u001b[0;31mValueError\u001b[0m                                Traceback (most recent call last)",
            "\u001b[0;32m<ipython-input-24-cbc786c3a0b9>\u001b[0m in \u001b[0;36m<module>\u001b[0;34m()\u001b[0m\n\u001b[0;32m----> 1\u001b[0;31m \u001b[0ma\u001b[0m\u001b[0;34m,\u001b[0m \u001b[0mb\u001b[0m \u001b[0;34m=\u001b[0m \u001b[0;34m(\u001b[0m\u001b[0;36m1\u001b[0m\u001b[0;34m,\u001b[0m\u001b[0;36m2\u001b[0m\u001b[0;34m,\u001b[0m\u001b[0;36m3\u001b[0m\u001b[0;34m)\u001b[0m\u001b[0;34m\u001b[0m\u001b[0;34m\u001b[0m\u001b[0m\n\u001b[0m\u001b[1;32m      2\u001b[0m \u001b[0mprint\u001b[0m\u001b[0;34m(\u001b[0m\u001b[0;34mf\"a: {a}\"\u001b[0m\u001b[0;34m)\u001b[0m\u001b[0;34m\u001b[0m\u001b[0;34m\u001b[0m\u001b[0m\n\u001b[1;32m      3\u001b[0m \u001b[0mprint\u001b[0m\u001b[0;34m(\u001b[0m\u001b[0;34mf\"b: {b}\"\u001b[0m\u001b[0;34m)\u001b[0m\u001b[0;34m\u001b[0m\u001b[0;34m\u001b[0m\u001b[0m\n\u001b[1;32m      4\u001b[0m \u001b[0mprint\u001b[0m\u001b[0;34m(\u001b[0m\u001b[0;34mf\"c: {c}\"\u001b[0m\u001b[0;34m)\u001b[0m\u001b[0;34m\u001b[0m\u001b[0;34m\u001b[0m\u001b[0m\n",
            "\u001b[0;31mValueError\u001b[0m: too many values to unpack (expected 2)"
          ]
        }
      ]
    },
    {
      "cell_type": "code",
      "metadata": {
        "id": "HqdoID8o-aIk",
        "colab_type": "code",
        "outputId": "0531d62c-f184-46eb-bff4-879c2690a587",
        "colab": {
          "base_uri": "https://localhost:8080/",
          "height": 51
        }
      },
      "source": [
        "# Pero así, sí\n",
        "a, *b = (1,2,3)\n",
        "print(f\"a: {a}\")\n",
        "print(f\"b: {b}\")"
      ],
      "execution_count": 0,
      "outputs": [
        {
          "output_type": "stream",
          "text": [
            "a: 1\n",
            "b: [2, 3]\n"
          ],
          "name": "stdout"
        }
      ]
    },
    {
      "cell_type": "markdown",
      "metadata": {
        "id": "lbz4X5EH-inZ",
        "colab_type": "text"
      },
      "source": [
        "Una sobrada para entrevistas de trabajo: \n",
        "* ¿Cómo intercambiar el valor de dos variables sin usar una variable intermedia?"
      ]
    },
    {
      "cell_type": "code",
      "metadata": {
        "id": "8r6EkqDr-gKl",
        "colab_type": "code",
        "outputId": "46e99d37-7518-4e83-8ee9-e98f9635f65d",
        "colab": {
          "base_uri": "https://localhost:8080/",
          "height": 51
        }
      },
      "source": [
        "# En otros lenguajes\n",
        "a = 50\n",
        "b = 100\n",
        "\n",
        "a = a + b \n",
        "b = a - b   \n",
        "a = a - b\n",
        "\n",
        "print(f\"a: {a}\")\n",
        "print(f\"b: {b}\")"
      ],
      "execution_count": 0,
      "outputs": [
        {
          "output_type": "stream",
          "text": [
            "a: 100\n",
            "b: 50\n"
          ],
          "name": "stdout"
        }
      ]
    },
    {
      "cell_type": "code",
      "metadata": {
        "id": "1sV3KNb8-1pH",
        "colab_type": "code",
        "outputId": "dce69315-5c27-4486-f1ad-984f877d225e",
        "colab": {
          "base_uri": "https://localhost:8080/",
          "height": 51
        }
      },
      "source": [
        "# En Python\n",
        "a = 50\n",
        "b = 100\n",
        "\n",
        "a, b = b, a\n",
        "\n",
        "print(f\"a: {a}\")\n",
        "print(f\"b: {b}\")"
      ],
      "execution_count": 0,
      "outputs": [
        {
          "output_type": "stream",
          "text": [
            "a: 100\n",
            "b: 50\n"
          ],
          "name": "stdout"
        }
      ]
    },
    {
      "cell_type": "markdown",
      "metadata": {
        "id": "9Pi55I2_A1hv",
        "colab_type": "text"
      },
      "source": [
        "## Truth value testing: revisited"
      ]
    },
    {
      "cell_type": "code",
      "metadata": {
        "id": "cvfvMBbVA6_6",
        "colab_type": "code",
        "outputId": "e56f825f-2e87-4e29-d8f8-fb4d79c90ac8",
        "colab": {
          "base_uri": "https://localhost:8080/",
          "height": 34
        }
      },
      "source": [
        "x = 0\n",
        "if x:\n",
        "    print(\"x ha de ser True\")\n",
        "elif not x:\n",
        "    print(\"x ha de ser False\")\n",
        "else:\n",
        "    print(\"No estoy petando, pero paso de ti\")"
      ],
      "execution_count": 0,
      "outputs": [
        {
          "output_type": "stream",
          "text": [
            "x ha de ser False\n"
          ],
          "name": "stdout"
        }
      ]
    },
    {
      "cell_type": "code",
      "metadata": {
        "id": "GSM1fXpJA_au",
        "colab_type": "code",
        "outputId": "a23512a3-5c1d-4edd-c4a9-0a0fc476be9e",
        "colab": {
          "base_uri": "https://localhost:8080/",
          "height": 34
        }
      },
      "source": [
        "x = 0 \n",
        "if x == True:\n",
        "    print(\"x es True\")\n",
        "elif x == False:\n",
        "    print(\"x es False\")\n",
        "else:\n",
        "    print(\"No estoy petando, pero paso de ti\")"
      ],
      "execution_count": 0,
      "outputs": [
        {
          "output_type": "stream",
          "text": [
            "x es False\n"
          ],
          "name": "stdout"
        }
      ]
    },
    {
      "cell_type": "markdown",
      "metadata": {
        "id": "9ckfnXbI7XW5",
        "colab_type": "text"
      },
      "source": [
        "## Coding guidelines"
      ]
    },
    {
      "cell_type": "markdown",
      "metadata": {
        "id": "HO_TUSvY7Zqc",
        "colab_type": "text"
      },
      "source": [
        " La filosofía del lenguaje está resumida en el siguiente _easter egg_: "
      ]
    },
    {
      "cell_type": "code",
      "metadata": {
        "id": "4oyfLFX07dVp",
        "colab_type": "code",
        "outputId": "a911060c-783b-42b2-8bc3-484c9507ba76",
        "colab": {
          "base_uri": "https://localhost:8080/",
          "height": 381
        }
      },
      "source": [
        "import this"
      ],
      "execution_count": 0,
      "outputs": [
        {
          "output_type": "stream",
          "text": [
            "The Zen of Python, by Tim Peters\n",
            "\n",
            "Beautiful is better than ugly.\n",
            "Explicit is better than implicit.\n",
            "Simple is better than complex.\n",
            "Complex is better than complicated.\n",
            "Flat is better than nested.\n",
            "Sparse is better than dense.\n",
            "Readability counts.\n",
            "Special cases aren't special enough to break the rules.\n",
            "Although practicality beats purity.\n",
            "Errors should never pass silently.\n",
            "Unless explicitly silenced.\n",
            "In the face of ambiguity, refuse the temptation to guess.\n",
            "There should be one-- and preferably only one --obvious way to do it.\n",
            "Although that way may not be obvious at first unless you're Dutch.\n",
            "Now is better than never.\n",
            "Although never is often better than *right* now.\n",
            "If the implementation is hard to explain, it's a bad idea.\n",
            "If the implementation is easy to explain, it may be a good idea.\n",
            "Namespaces are one honking great idea -- let's do more of those!\n"
          ],
          "name": "stdout"
        }
      ]
    },
    {
      "cell_type": "markdown",
      "metadata": {
        "id": "PgaXhpB17fIU",
        "colab_type": "text"
      },
      "source": [
        "Y concretada en la Python Enhancement Proposal 8: `PEP-8`. Podemos encontrarla en un formato friendly aquí: https://pep8.org/. Pero veamos algunos puntos completos que son especialmente relevantes desde el principio:\n"
      ]
    },
    {
      "cell_type": "markdown",
      "metadata": {
        "id": "BfqIo9k48OpE",
        "colab_type": "text"
      },
      "source": [
        "### Convenio de nombres"
      ]
    },
    {
      "cell_type": "markdown",
      "metadata": {
        "id": "3nLpBeVd7j26",
        "colab_type": "text"
      },
      "source": [
        "* Los nombres de variables y funciones se escriben comúnmente en formato `snake_case`: con minúsculas separadas por guiones."
      ]
    },
    {
      "cell_type": "code",
      "metadata": {
        "id": "_SuSbkVd7shX",
        "colab_type": "code",
        "colab": {}
      },
      "source": [
        "my_long_named_variable = 3"
      ],
      "execution_count": 0,
      "outputs": []
    },
    {
      "cell_type": "markdown",
      "metadata": {
        "id": "VyVhxxWH7vvM",
        "colab_type": "text"
      },
      "source": [
        "* Escribirlas en inglés nos permite ser más compactos (y es más fácil buscar ayuda!)\n",
        "* Que dejen bien claro a lo que apuntan o lo que hacen"
      ]
    },
    {
      "cell_type": "code",
      "metadata": {
        "id": "MENztg1_70yb",
        "colab_type": "code",
        "outputId": "1276ae8f-df90-49a4-b88e-500a0ff22f6b",
        "colab": {
          "base_uri": "https://localhost:8080/",
          "height": 35
        }
      },
      "source": [
        "# WRONG\n",
        "def e_c(m, v):\n",
        "    v = v * 1000/3600\n",
        "    return 0.5*m*v**2\n",
        "\n",
        "e_c(100, 30)"
      ],
      "execution_count": 0,
      "outputs": [
        {
          "output_type": "execute_result",
          "data": {
            "text/plain": [
              "3472.2222222222226"
            ]
          },
          "metadata": {
            "tags": []
          },
          "execution_count": 16
        }
      ]
    },
    {
      "cell_type": "code",
      "metadata": {
        "id": "WnzZmMmT8EXB",
        "colab_type": "code",
        "outputId": "c2f0ab7a-1479-4a5f-e12d-b5645002c68d",
        "colab": {
          "base_uri": "https://localhost:8080/",
          "height": 35
        }
      },
      "source": [
        "# OK\n",
        "def get_kinetic_energy(mass_kg, speed_km_per_h):\n",
        "    \"\"\"\n",
        "    Computes the kinectic energy of a moving mass. \n",
        "    :param mass_kg: the mass of the moving body (in kg)\n",
        "    :param speed_km_per_h: the speed of the moving body (in km/h)\n",
        "    :return the kinectic energy of the mass (in J)\n",
        "    \"\"\"\n",
        "    speed_m_per_s = speed_km_per_h * 1000 / 3600\n",
        "    return 0.5*mass_kg*speed_m_per_s**2\n",
        "\n",
        "get_kinetic_energy(mass_kg=100, speed_km_per_h=30)"
      ],
      "execution_count": 0,
      "outputs": [
        {
          "output_type": "execute_result",
          "data": {
            "text/plain": [
              "3472.2222222222226"
            ]
          },
          "metadata": {
            "tags": []
          },
          "execution_count": 17
        }
      ]
    },
    {
      "cell_type": "markdown",
      "metadata": {
        "id": "rSZ35rlt8KuS",
        "colab_type": "text"
      },
      "source": [
        "### Líneas largas"
      ]
    },
    {
      "cell_type": "markdown",
      "metadata": {
        "id": "v5YxZs3n8jDf",
        "colab_type": "text"
      },
      "source": [
        "* Una línea de código no debería ser superior a entre 80 y 120 caracteres"
      ]
    },
    {
      "cell_type": "code",
      "metadata": {
        "id": "5MVJuKIs8lwr",
        "colab_type": "code",
        "colab": {}
      },
      "source": [
        "#####################################################################(80 chars)\n",
        "############################################################################################################(120 chars)"
      ],
      "execution_count": 0,
      "outputs": []
    },
    {
      "cell_type": "markdown",
      "metadata": {
        "id": "Jz-5Aecv8nYm",
        "colab_type": "text"
      },
      "source": [
        "* Una línea debería hacer una sola cosa... Romper en varias líneas si no. Ejemplos:"
      ]
    },
    {
      "cell_type": "code",
      "metadata": {
        "id": "B2OdU4-c8r9g",
        "colab_type": "code",
        "colab": {}
      },
      "source": [
        "# Funciones con muchos argumentos. Observa la extra indentación!!!\n",
        "def many_arguments_function(\n",
        "            long_argument_1, long_argument_2, long_argument_3,\n",
        "            arg4, arg5):\n",
        "        \"\"\"\n",
        "        This function does something... \n",
        "        \"\"\"\n",
        "        do_something()\n",
        "        return"
      ],
      "execution_count": 0,
      "outputs": []
    },
    {
      "cell_type": "code",
      "metadata": {
        "id": "u92amto58uME",
        "colab_type": "code",
        "colab": {}
      },
      "source": [
        "# Contenedores\n",
        "my_long_list = [\n",
        "    \"one_thing\", \"another_thing\", \"yet_another_thing\",\n",
        "    \"one thing more\",\n",
        "]"
      ],
      "execution_count": 0,
      "outputs": []
    },
    {
      "cell_type": "code",
      "metadata": {
        "id": "psxj9u0m8xrQ",
        "colab_type": "code",
        "colab": {}
      },
      "source": [
        "# Condicionales\n",
        "this_is_one_thing = True\n",
        "that_is_another_thing = False\n",
        "\n",
        "if (this_is_one_thing and\n",
        "        that_is_another_thing):\n",
        "    print(\"do_nothing\")"
      ],
      "execution_count": 0,
      "outputs": []
    },
    {
      "cell_type": "code",
      "metadata": {
        "id": "B0_bZcgd803T",
        "colab_type": "code",
        "colab": {}
      },
      "source": [
        "# Operaciones. Observad como los operadores quedan alineados\n",
        "gross_wages = 1000\n",
        "taxable_interest = 300\n",
        "dividends = 70\n",
        "qualified_dividends = 40\n",
        "ira_deduction = 300\n",
        "student_loan_interest = 100\n",
        "\n",
        "income = (gross_wages\n",
        "          + taxable_interest\n",
        "          + (dividends - qualified_dividends)\n",
        "          - ira_deduction\n",
        "          - student_loan_interest)"
      ],
      "execution_count": 0,
      "outputs": []
    },
    {
      "cell_type": "code",
      "metadata": {
        "id": "S9ULO72_82Sg",
        "colab_type": "code",
        "outputId": "eb26cbcc-bda4-4966-cd69-4fd9330920f8",
        "colab": {
          "base_uri": "https://localhost:8080/",
          "height": 55
        }
      },
      "source": [
        "# strings largos\n",
        "long_string = (\n",
        "    \"There are several ways to split a long string\"\n",
        "    \" between several lines but this one is particularly\"\n",
        "    \" easy to use.\"\n",
        ")\n",
        "print(long_string)"
      ],
      "execution_count": 0,
      "outputs": [
        {
          "output_type": "stream",
          "text": [
            "There are several ways to split a long string between several lines but this one is particularly easy to use.\n"
          ],
          "name": "stdout"
        }
      ]
    },
    {
      "cell_type": "markdown",
      "metadata": {
        "id": "qt34M4LX84My",
        "colab_type": "text"
      },
      "source": [
        "### Comentarios"
      ]
    },
    {
      "cell_type": "markdown",
      "metadata": {
        "id": "t-N3MsLF866L",
        "colab_type": "text"
      },
      "source": [
        "Lo ideal es que los nombres que hemos escogido sean autoexplicativos, así como las soluciones a nuestros problemas, pero en los casos en los que creamos que hay ambiguedad, es interesante intercalar comentarios explicativos de lo que estamos haciendo, jugar con los espacios..."
      ]
    },
    {
      "cell_type": "code",
      "metadata": {
        "id": "kjam9-P-8_BK",
        "colab_type": "code",
        "colab": {}
      },
      "source": [
        "def my_function():\n",
        "    \"\"\"\n",
        "    A docstring explaining the purpose of the functions and its arguments\n",
        "    \"\"\"\n",
        "    test_operation = 1 + 2\n",
        "    \n",
        "    # Here I'm trying to...\n",
        "    test_operation_2 = test_operation + 3\n",
        "    \n",
        "    return test_operation"
      ],
      "execution_count": 0,
      "outputs": []
    },
    {
      "cell_type": "code",
      "metadata": {
        "id": "G8BIQwq19Aem",
        "colab_type": "code",
        "outputId": "e62120cf-4e66-47bd-95b7-2f35d6c2f7eb",
        "colab": {
          "base_uri": "https://localhost:8080/",
          "height": 104
        }
      },
      "source": [
        "help(my_function)"
      ],
      "execution_count": 0,
      "outputs": [
        {
          "output_type": "stream",
          "text": [
            "Help on function my_function in module __main__:\n",
            "\n",
            "my_function()\n",
            "    A docstring explaining the purpose of the functions and its arguments\n",
            "\n"
          ],
          "name": "stdout"
        }
      ]
    }
  ]
}