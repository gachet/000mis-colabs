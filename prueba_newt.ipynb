{
  "nbformat": 4,
  "nbformat_minor": 0,
  "metadata": {
    "colab": {
      "name": "prueba-newt.ipynb",
      "provenance": [],
      "collapsed_sections": [],
      "include_colab_link": true
    },
    "kernelspec": {
      "name": "python3",
      "display_name": "Python 3"
    }
  },
  "cells": [
    {
      "cell_type": "markdown",
      "metadata": {
        "id": "view-in-github",
        "colab_type": "text"
      },
      "source": [
        "<a href=\"https://colab.research.google.com/github/gachet/000mis-colabs/blob/master/prueba_newt.ipynb\" target=\"_parent\"><img src=\"https://colab.research.google.com/assets/colab-badge.svg\" alt=\"Open In Colab\"/></a>"
      ]
    },
    {
      "cell_type": "markdown",
      "metadata": {
        "id": "MT9SGpNwlgrD",
        "colab_type": "text"
      },
      "source": [
        "Para demostrar que el método de newton converge<br>\n",
        " a una solución, debemos probar que la suseción de <br>\n",
        " valores $x_{n}$ converge a un valor $s$ tal que $f(s) = 0$, es decir:"
      ]
    },
    {
      "cell_type": "markdown",
      "metadata": {
        "id": "arQZzq61mZLJ",
        "colab_type": "text"
      },
      "source": [
        "Asumimos que $x_{n}$ converge a un valor $s$ y por lo tanto <br> $\\displaystyle\\lim_{n \\to \\infty}x_{n}=s \\Rightarrow f(s) = 0$. Tenemos que asumir también que <br> $f \\,\\,y \\,\\,{f}'$ son continuas en rl intervalo en el que estamos buscando la raíz."
      ]
    },
    {
      "cell_type": "markdown",
      "metadata": {
        "id": "kNOdM5kjNZ54",
        "colab_type": "text"
      },
      "source": [
        "<img src=\"https://drive.google.com/uc?id=1hmQsfhPFRMRfP-cDp1gUA75XCVVjyGWC\" alt=\"Lamp\" width=\"520\" height=\"420\">"
      ]
    },
    {
      "cell_type": "markdown",
      "metadata": {
        "id": "kml2iy15OIw1",
        "colab_type": "text"
      },
      "source": [
        "Como sabemos, en el método de Newton, cada aproximación a la raíz se calcula como <br>\n",
        "$x_{n+1}= x_{n}-\\frac{f(x_{n})}{{f}'(x_{n})}$"
      ]
    },
    {
      "cell_type": "markdown",
      "metadata": {
        "id": "6LPPMzrIT-vg",
        "colab_type": "text"
      },
      "source": [
        "Tomando límites <br>\n",
        "$\\displaystyle\\lim_{n \\to \\infty}x_{n+1}= \\lim_{n \\to \\infty}x_{n}-\\lim_{n \\to \\infty}\\frac{f(x_{n})}{{f}'(x_{n})}$"
      ]
    },
    {
      "cell_type": "markdown",
      "metadata": {
        "id": "c1hJ-REOiz-g",
        "colab_type": "text"
      },
      "source": [
        "Hemos partido del hecho de que $\\displaystyle\\lim_{n \\to \\infty}x_{n}=s,$ por lo tanto<br><br>\n",
        "$ s=s-\\frac{\\displaystyle \\lim_{n \\to \\infty}f(x_{n})}{\\displaystyle \\lim_{n \\to \\infty}{f}'(x_{n})}  \\Rightarrow 0=-\\frac{\\displaystyle \\lim_{n \\to \\infty}f(x_{n})}{\\displaystyle \\lim_{n \\to \\infty}{f}'(x_{n})}\n",
        "$"
      ]
    },
    {
      "cell_type": "markdown",
      "metadata": {
        "id": "vFEuikmmkPTS",
        "colab_type": "text"
      },
      "source": [
        "Si ${f}'(s)$ es continua y por lo tanto distinta de 0, entonces <br><br>\n",
        "$0=\\frac{f(s)}{{f}'(s)} \\Rightarrow f(s) = 0$ <br><br>\n",
        "Entonces la sucesión $x_{n}$ converge a $s$ que es la raíz de la ecuación $f(s) = 0$"
      ]
    }
  ]
}