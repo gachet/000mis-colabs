{
  "nbformat": 4,
  "nbformat_minor": 0,
  "metadata": {
    "anaconda-cloud": {},
    "kernelspec": {
      "display_name": "Python 3",
      "language": "python",
      "name": "python3"
    },
    "language_info": {
      "codemirror_mode": {
        "name": "ipython",
        "version": 3
      },
      "file_extension": ".py",
      "mimetype": "text/x-python",
      "name": "python",
      "nbconvert_exporter": "python",
      "pygments_lexer": "ipython3",
      "version": "3.6.5"
    },
    "toc": {
      "colors": {
        "hover_highlight": "#DAA520",
        "navigate_num": "#000000",
        "navigate_text": "#333333",
        "running_highlight": "#FF0000",
        "selected_highlight": "#FFD700",
        "sidebar_border": "#EEEEEE",
        "wrapper_background": "#FFFFFF"
      },
      "moveMenuLeft": true,
      "nav_menu": {
        "height": "12px",
        "width": "252px"
      },
      "navigate_menu": true,
      "number_sections": true,
      "sideBar": true,
      "threshold": 4,
      "toc_cell": false,
      "toc_section_display": "block",
      "toc_window_display": false,
      "widenNotebook": false
    },
    "colab": {
      "name": "Ejercicios-newton-2.ipynb",
      "provenance": [],
      "include_colab_link": true
    }
  },
  "cells": [
    {
      "cell_type": "markdown",
      "metadata": {
        "id": "view-in-github",
        "colab_type": "text"
      },
      "source": [
        "<a href=\"https://colab.research.google.com/github/gachet/mis-colabs/blob/master/Ejercicios_newton_2.ipynb\" target=\"_parent\"><img src=\"https://colab.research.google.com/assets/colab-badge.svg\" alt=\"Open In Colab\"/></a>"
      ]
    },
    {
      "cell_type": "markdown",
      "metadata": {
        "id": "FHjXnNRVAQvy",
        "colab_type": "text"
      },
      "source": [
        "# Raíces de ecuaciones no lineales"
      ]
    },
    {
      "cell_type": "markdown",
      "metadata": {
        "id": "0xOVYAK8AQwE",
        "colab_type": "text"
      },
      "source": [
        "El propósito de los métodos numéricos para búsqueda de raíces para ecuaciones no lineales es encontrar la raíz - o el valor de la variable independiente, ej. x - que hace que la ecuación  valga cero . La forma general de la búsqueda de raíces para ecuaciones no lineales se puede describir como:\n",
        "\n",
        "Encontrar una  $x$ tal que\n",
        "\\begin{equation}\n",
        "f(x) = 0\n",
        "\\end{equation}\n",
        "\n",
        "Alternativamente, se puede presentar el problema como:\n",
        "\n",
        "Encontrar una  $x$ tal que \n",
        "\\begin{equation}\n",
        "f(x) = a\n",
        "\\end{equation}\n",
        "\n",
        "Si igualamos la ecuación a 0 forma residual tenemos\n",
        "\\begin{equation}\n",
        "r(x) \\equiv f(x) - a\n",
        "\\end{equation}\n",
        "y el problema se centra en encontrar una  $x$ tal que \n",
        "\\begin{equation}\n",
        "r(x) = 0\n",
        "\\end{equation}\n"
      ]
    },
    {
      "cell_type": "code",
      "metadata": {
        "id": "D9bwsDe8AQwR",
        "colab_type": "code",
        "colab": {}
      },
      "source": [
        ""
      ],
      "execution_count": 0,
      "outputs": []
    },
    {
      "cell_type": "markdown",
      "metadata": {
        "id": "jxY73DRJAQw6",
        "colab_type": "text"
      },
      "source": [
        "## Método de Newton\n",
        "El método de Newron es uno de los más populares para encontrar la raíz de una ecuación no lineal. Se basa en la aproximación de una función $f(x)$ tomando dos términos de la serie de Taylor. Dado un valor inicial próximo a la raíz que estamos buscando $x_0$, el método de Newotn se implementa mediante los siguientes pasos:\n",
        "1. Escogemos $x_0$ as como valor inicial (depende de la idea que tengamos de cómo es f(x))\n",
        "2. Calculamos $f(x^0)$ and $f'(x^0)$\n",
        "3. Calculamos $x_1 = x_0 - \\frac{f(x_0)}{f'(x_0)}$\n",
        "3. Hacemos $x_0 = x_1$\n",
        "4. Vemos si hay convergencia ($f(x_0))$ es semejante a 0, repetimos los pasos si es necesario"
      ]
    },
    {
      "cell_type": "code",
      "metadata": {
        "id": "xwlAQ3qaA6x0",
        "colab_type": "code",
        "colab": {}
      },
      "source": [
        "import numpy as np\n",
        "%matplotlib inline\n",
        "import matplotlib.pyplot as plt"
      ],
      "execution_count": 0,
      "outputs": []
    },
    {
      "cell_type": "code",
      "metadata": {
        "id": "_imTUoybAQw_",
        "colab_type": "code",
        "colab": {}
      },
      "source": [
        "def newton(f,df,x0,tol,maxiter):\n",
        "    niter = 0\n",
        "    err = tol + 100\n",
        "    print('{:<12} {:<12} {:<12}'.format('Iteración','x1','error'))\n",
        "    while err > tol and niter < maxiter:\n",
        "        x1 = x0 - f(x0)/df(x0)\n",
        "        x0 = x1\n",
        "        err = abs(f(x0))\n",
        "        niter += 1\n",
        "        print('{:<12} {:<12} {:<12}'.format(niter, round(x1,6), round(err,10)))\n",
        "    if niter == maxiter:\n",
        "        print('Iteraciones alcanzadas sin solucion =',niter)\n",
        "    else:\n",
        "        print('solución %8.6f' % (x1))\n",
        "        print('alcanzada en %3d iteraciones' % (niter))\n",
        "        print('valor de la función = %12.10f' % (f(x1)))\n",
        "    return               "
      ],
      "execution_count": 0,
      "outputs": []
    },
    {
      "cell_type": "markdown",
      "metadata": {
        "id": "LLfBvqNBAQxZ",
        "colab_type": "text"
      },
      "source": [
        "### Aproximando la derivada en el método de Newton"
      ]
    },
    {
      "cell_type": "markdown",
      "metadata": {
        "id": "XKptCvZwAQxj",
        "colab_type": "text"
      },
      "source": [
        "#### Como sabemos por definición la derivada de una función es:\n",
        "${f}'(x)=\\displaystyle \\lim_{h \\to \\infty}\\frac{f(x+h)-f(x)}{h}\n",
        "$"
      ]
    },
    {
      "cell_type": "markdown",
      "metadata": {
        "id": "Ki5GjQYWAQxs",
        "colab_type": "text"
      },
      "source": [
        "#### podemos tomar diferencias hacia adelante\n",
        "$\n",
        "\\displaystyle f^{\\prime }(x_{0})\\approx \\frac {f(x_{0}+h)-f(x_{0})}{h}\n",
        "$"
      ]
    },
    {
      "cell_type": "markdown",
      "metadata": {
        "id": "T45FTMT3AQx0",
        "colab_type": "text"
      },
      "source": [
        "#### podemos tomar diferencias hacia atrás\n",
        "$\n",
        "\\displaystyle f^{\\prime }(x_{0})\\approx \\frac {f(x_{0})-f(x_{0}-h)}{h}\n",
        "$"
      ]
    },
    {
      "cell_type": "markdown",
      "metadata": {
        "id": "IChV3pkhAQx-",
        "colab_type": "text"
      },
      "source": [
        "#### Se obtiene una mejor aprocimacion utilizando diferencias centrales\n",
        "$\n",
        "\\displaystyle f^{\\prime }(x_{0})\\approx \\frac {f(x_{0}+h)-f(x_{0}-h)}{2h}\n",
        "$"
      ]
    },
    {
      "cell_type": "markdown",
      "metadata": {
        "id": "1p2Xody8AQyI",
        "colab_type": "text"
      },
      "source": [
        "### Podemos implementar el método de Newton aproximando la derivada"
      ]
    },
    {
      "cell_type": "code",
      "metadata": {
        "id": "NWWx7OXCAQyQ",
        "colab_type": "code",
        "colab": {}
      },
      "source": [
        "def newton2(f,x0,tol,maxiter):\n",
        "    niter = 0\n",
        "    err = tol + 100\n",
        "    print('{:<12} {:<12} {:<12}'.format('Iteración','x1','error'))\n",
        "    h = 1e-6 \n",
        "    while err > tol and niter < maxiter:\n",
        "        df = (f(x0 + h) - f(x0-h))/(2*h)\n",
        "        x1 = x0 - f(x0)/df\n",
        "        x0 = x1\n",
        "        err = abs(f(x0))\n",
        "        niter += 1\n",
        "        print('{:<12} {:<12} {:<12}'.format(niter, round(x1,6), round(err,10)))\n",
        "    if niter == maxiter:\n",
        "        print('Iteraciones alcanzadas sin solucion =',niter)\n",
        "    else:\n",
        "        print('solución %8.6f' % (x1))\n",
        "        print('alcanzada en %3d iteraciones' % (niter))\n",
        "        print('valor de la función = %12.10f' % (f(x1)))\n",
        "    return                 "
      ],
      "execution_count": 0,
      "outputs": []
    },
    {
      "cell_type": "markdown",
      "metadata": {
        "id": "Av8EckePAQyg",
        "colab_type": "text"
      },
      "source": [
        "####  Ejemplo 1.- Econtremos la primera raíz de la siguiente ecuación<br>\n",
        "$\n",
        "\\ln(x) + \\cos(x)e^{-0.1x} = 2\n",
        "$<br><br>\n",
        "o en forma su lugar<br><br>\n",
        "$\n",
        " res(x) = \\ln(x) + \\cos(x)e^{-0.1x} - 2 = 0\n",
        "$<br>\n",
        "\n",
        "La función tiene tres raices , 5.309, 8.045, and 10.02. Utilizaremos un valor de raíz de inicio $x_0=1$"
      ]
    },
    {
      "cell_type": "markdown",
      "metadata": {
        "id": "3Zyk9w99AQyl",
        "colab_type": "text"
      },
      "source": [
        "Siendo su derivada <br>\n",
        "$\\displaystyle{res}'(x) = -e^{-0.1x}\\sin(x)-0.1e^{-0.1x}\\cos(x)+ \\frac{1}{x}$"
      ]
    },
    {
      "cell_type": "code",
      "metadata": {
        "id": "JmdGsacPAQyp",
        "colab_type": "code",
        "colab": {}
      },
      "source": [
        "import numpy as np\n",
        "%matplotlib inline\n",
        "import matplotlib.pyplot as plt\n",
        "from scipy.optimize import fsolve"
      ],
      "execution_count": 0,
      "outputs": []
    },
    {
      "cell_type": "code",
      "metadata": {
        "id": "u5Uv8cxtAQy7",
        "colab_type": "code",
        "outputId": "c82cb507-cd8d-4291-9082-8f54a42d3ef5",
        "colab": {}
      },
      "source": [
        "res = lambda x: np.log(x) + np.cos(x)*np.exp(-0.1*x)-2.0\n",
        "resprima = lambda x: -np.exp(-0.1*x)*np.sin(x)-0.1*np.exp(-0.1*x)*np.cos(x)+(1/x)\n",
        "x = np.linspace(4,15,200)\n",
        "plt.grid()\n",
        "plt.axhline(y=0,color='k')\n",
        "plt.plot(x,res(x))\n",
        "plt.plot(x,resprima(x))"
      ],
      "execution_count": 0,
      "outputs": [
        {
          "output_type": "execute_result",
          "data": {
            "text/plain": [
              "[<matplotlib.lines.Line2D at 0x1dee4c0a198>]"
            ]
          },
          "metadata": {
            "tags": []
          },
          "execution_count": 19
        },
        {
          "output_type": "display_data",
          "data": {
            "image/png": "[encoded data removed]",
            "text/plain": [
              "<Figure size 432x288 with 1 Axes>"
            ]
          },
          "metadata": {
            "tags": []
          }
        }
      ]
    },
    {
      "cell_type": "code",
      "metadata": {
        "id": "EWLR4XR6AQzN",
        "colab_type": "code",
        "outputId": "f404b280-c47c-42bd-97ed-b5aa33e7f1b6",
        "colab": {}
      },
      "source": [
        "newton(res,resprima,1,1e-5,50)"
      ],
      "execution_count": 0,
      "outputs": [
        {
          "output_type": "stream",
          "text": [
            "Iteración    x1           error       \n",
            "1            8.965097     0.1723003668\n",
            "2            3.728423     1.2575565862\n",
            "3            5.507258     0.1175788215\n",
            "4            5.291207     0.0116828843\n",
            "5            5.309183     7.3607e-05  \n",
            "6            5.309297     3e-09       \n",
            "solución 5.309297\n",
            "alcanzada en   6 iteraciones\n",
            "valor de la función = -0.0000000030\n"
          ],
          "name": "stdout"
        }
      ]
    },
    {
      "cell_type": "code",
      "metadata": {
        "id": "cr8CrJhYAQzZ",
        "colab_type": "code",
        "outputId": "26b6dc3c-d037-41db-b3f2-64fb1904ccf0",
        "colab": {
          "base_uri": "https://localhost:8080/",
          "height": 174
        }
      },
      "source": [
        "newton2(res,1,1e-5,50)"
      ],
      "execution_count": 0,
      "outputs": [
        {
          "output_type": "error",
          "ename": "NameError",
          "evalue": "ignored",
          "traceback": [
            "\u001b[0;31m---------------------------------------------------------------------------\u001b[0m",
            "\u001b[0;31mNameError\u001b[0m                                 Traceback (most recent call last)",
            "\u001b[0;32m<ipython-input-10-60d2d018d481>\u001b[0m in \u001b[0;36m<module>\u001b[0;34m()\u001b[0m\n\u001b[0;32m----> 1\u001b[0;31m \u001b[0mnewton2\u001b[0m\u001b[0;34m(\u001b[0m\u001b[0mres\u001b[0m\u001b[0;34m,\u001b[0m\u001b[0;36m1\u001b[0m\u001b[0;34m,\u001b[0m\u001b[0;36m1e-5\u001b[0m\u001b[0;34m,\u001b[0m\u001b[0;36m50\u001b[0m\u001b[0;34m)\u001b[0m\u001b[0;34m\u001b[0m\u001b[0;34m\u001b[0m\u001b[0m\n\u001b[0m",
            "\u001b[0;31mNameError\u001b[0m: name 'res' is not defined"
          ]
        }
      ]
    },
    {
      "cell_type": "markdown",
      "metadata": {
        "id": "24cghyUsAQzp",
        "colab_type": "text"
      },
      "source": [
        "####  Ejemplo 2 .- Encontrar la raiz de <br>\n",
        "$\n",
        "f(x) = x^{10} -1\n",
        "$ empezando con un valor inicial  $0.6$ <br><br>\n",
        "con una tolerancia del 2% y dibujar la función<br><br>\n"
      ]
    },
    {
      "cell_type": "code",
      "metadata": {
        "id": "wKQ7up-pAQzv",
        "colab_type": "code",
        "outputId": "46af89e3-a305-470b-9dae-1e295c5927c0",
        "colab": {}
      },
      "source": [
        "def ejemplo2(x):\n",
        "    y=x**10 - 1\n",
        "    return y\n",
        "def ejemplo2der(x):\n",
        "    y=10*x**9\n",
        "    return y\n",
        "x = np.linspace(0,1.2,200)\n",
        "plt.grid()\n",
        "plt.axhline(y=0,color='k')\n",
        "plt.plot(x,ejemplo2(x))\n",
        "plt.plot(x,ejemplo2der(x))"
      ],
      "execution_count": 0,
      "outputs": [
        {
          "output_type": "execute_result",
          "data": {
            "text/plain": [
              "[<matplotlib.lines.Line2D at 0x1dee4ce33c8>]"
            ]
          },
          "metadata": {
            "tags": []
          },
          "execution_count": 23
        },
        {
          "output_type": "display_data",
          "data": {
            "image/png": "[encoded data removed]",
            "text/plain": [
              "<Figure size 432x288 with 1 Axes>"
            ]
          },
          "metadata": {
            "tags": []
          }
        }
      ]
    },
    {
      "cell_type": "code",
      "metadata": {
        "scrolled": true,
        "id": "ixQY65BpAQ0C",
        "colab_type": "code",
        "outputId": "284354c0-4cee-4c48-8eab-715afc2acc93",
        "colab": {}
      },
      "source": [
        "newton(ejemplo2,ejemplo2der,0.6,0.02,50)"
      ],
      "execution_count": 0,
      "outputs": [
        {
          "output_type": "stream",
          "text": [
            "Iteración    x1           error       \n",
            "1            10.462903    15722514207.884666\n",
            "2            9.416613     5482101728.191406\n",
            "3            8.474951     1911490678.7913942\n",
            "4            7.627456     666495587.8827727\n",
            "5            6.864711     232392641.6525965\n",
            "6            6.17824      81030303.5182445\n",
            "7            5.560416     28253519.567669984\n",
            "8            5.004374     9851392.86628893\n",
            "9            4.503937     3434968.0335288374\n",
            "10           4.053543     1197699.0318231848\n",
            "11           3.648189     417611.5662244791\n",
            "12           3.283371     145611.8855782623\n",
            "13           2.955036     50771.4612237076\n",
            "14           2.659538     17702.6500038244\n",
            "15           2.3936       6172.2684988409\n",
            "16           2.154278     2151.8730823637\n",
            "17           1.938951     750.0479385708\n",
            "18           1.745314     261.2619021719\n",
            "19           1.571448     90.8332308848\n",
            "20           1.416014     31.4098043733\n",
            "21           1.278782     10.6940523955\n",
            "22           1.161839     3.4818760569\n",
            "23           1.071578     0.9963598864\n",
            "24           1.018097     0.1964419932\n",
            "25           1.001381     0.0138965063\n",
            "solución 1.001381\n",
            "alcanzada en  25 iteraciones\n",
            "valor de la función = 0.0138965063\n"
          ],
          "name": "stdout"
        }
      ]
    },
    {
      "cell_type": "code",
      "metadata": {
        "id": "JVZ2KoDMAQ0T",
        "colab_type": "code",
        "outputId": "f9538613-8d5a-4e26-ad96-ac2256b20d05",
        "colab": {}
      },
      "source": [
        "newton2(ejemplo2,0.6,1e-6,50)"
      ],
      "execution_count": 0,
      "outputs": [
        {
          "output_type": "stream",
          "text": [
            "Iteración    x1           error       \n",
            "1            10.462903    15722514209.03781\n",
            "2            9.416613     5482101724.060369\n",
            "3            8.474951     1911490675.7687583\n",
            "4            7.627456     666495586.2937068\n",
            "5            6.864711     232392641.12646028\n",
            "6            6.17824      81030303.34697454\n",
            "7            5.560416     28253519.513636306\n",
            "8            5.004374     9851392.848974792\n",
            "9            4.503937     3434968.0280387606\n",
            "10           4.053543     1197699.0300955004\n",
            "11           3.648189     417611.5656975704\n",
            "12           3.283371     145611.8854175895\n",
            "13           2.955036     50771.4611759109\n",
            "14           2.659538     17702.649990279\n",
            "15           2.3936       6172.26849512\n",
            "16           2.154278     2151.8730814309\n",
            "17           1.938951     750.0479383558\n",
            "18           1.745314     261.2619020716\n",
            "19           1.571448     90.8332308423\n",
            "20           1.416014     31.409804356\n",
            "21           1.278782     10.6940523887\n",
            "22           1.161839     3.4818760542\n",
            "23           1.071578     0.9963598854\n",
            "24           1.018097     0.1964419929\n",
            "25           1.001381     0.0138965062\n",
            "26           1.000009     8.53972e-05 \n",
            "27           1.0          3.3e-09     \n",
            "solución 1.000000\n",
            "alcanzada en  27 iteraciones\n",
            "valor de la función = 0.0000000033\n"
          ],
          "name": "stdout"
        }
      ]
    },
    {
      "cell_type": "markdown",
      "metadata": {
        "id": "4TqaqI9WAQ0i",
        "colab_type": "text"
      },
      "source": [
        "### Ejercicios :\n",
        "Para cada una de las siguientes funciones (ecuaciones si igualamos a 0), **dibujar la función  para tener una idea de donde estaría la raíz**, obtener analíticamente la derivada y calcular obtener la raíz utilizando el método de Newton y comprobar con Newton2,  utilizando el valor inicial especificado y usar en todos los casos una precisión de $10^{-5}$ y como máximo 50 iteraciones. *Modificar el código de la función \"newton\" si queréis imprimir de forma distinta o incluso si queréis haceros vuestro propio código.*\n"
      ]
    },
    {
      "cell_type": "markdown",
      "metadata": {
        "id": "eTtSaUZvAQ0l",
        "colab_type": "text"
      },
      "source": [
        "1.- &nbsp;&nbsp;&nbsp;\n",
        "$\n",
        "f(x)=e^{-x}-\\sin(x)\n",
        "$<br>\n",
        "empezando con $x_0 = 0$"
      ]
    },
    {
      "cell_type": "code",
      "metadata": {
        "id": "ntb84CAwAfNA",
        "colab_type": "code",
        "outputId": "594bd0d9-684f-4e85-e5da-6d1d1138ad6d",
        "colab": {
          "base_uri": "https://localhost:8080/",
          "height": 284
        }
      },
      "source": [
        "def ejer1(x):\n",
        "    return np.exp(-x)-np.sin(x)\n",
        "def ejer1der(x):\n",
        "    return -np.exp(-x)-np.cos(x)\n",
        "x = np.linspace(0,1.2,200)\n",
        "plt.grid()\n",
        "plt.axhline(y=0,color='k')\n",
        "plt.plot(x,ejer1(x))\n",
        "plt.plot(x,ejer1der(x))"
      ],
      "execution_count": 0,
      "outputs": [
        {
          "output_type": "execute_result",
          "data": {
            "text/plain": [
              "[<matplotlib.lines.Line2D at 0x7f1c02981320>]"
            ]
          },
          "metadata": {
            "tags": []
          },
          "execution_count": 6
        },
        {
          "output_type": "display_data",
          "data": {
            "image/png": "[encoded data removed]",
            "text/plain": [
              "<Figure size 432x288 with 1 Axes>"
            ]
          },
          "metadata": {
            "tags": []
          }
        }
      ]
    },
    {
      "cell_type": "code",
      "metadata": {
        "id": "bsHD_hmoEQVt",
        "colab_type": "code",
        "outputId": "1c425b5c-ec7c-4b71-c42a-f0ba76ad0f3d",
        "colab": {
          "base_uri": "https://localhost:8080/",
          "height": 36
        }
      },
      "source": [
        "from sympy import *\n",
        "x = symbols('x')\n",
        "F0 = exp(-x)-sin(x)\n",
        "print(diff(F0, x))\n",
        "\n"
      ],
      "execution_count": 0,
      "outputs": [
        {
          "output_type": "stream",
          "text": [
            "-cos(x) - exp(-x)\n"
          ],
          "name": "stdout"
        }
      ]
    },
    {
      "cell_type": "code",
      "metadata": {
        "id": "UgPP89weB1vt",
        "colab_type": "code",
        "outputId": "8b418d5a-7481-420b-e124-191788e7a3ed",
        "colab": {
          "base_uri": "https://localhost:8080/",
          "height": 147
        }
      },
      "source": [
        "newton(ejer1,ejer1der,0,1e-5,50)"
      ],
      "execution_count": 0,
      "outputs": [
        {
          "output_type": "stream",
          "text": [
            "Iteración    x1           error       \n",
            "1            0.5          0.1271051211\n",
            "2            0.585644     0.0040112772\n",
            "3            0.588529     4.6203e-06  \n",
            "solución 0.588529\n",
            "alcanzada en   3 iteraciones\n",
            "valor de la función = 0.0000046203\n"
          ],
          "name": "stdout"
        }
      ]
    },
    {
      "cell_type": "code",
      "metadata": {
        "id": "4njTpoewCMts",
        "colab_type": "code",
        "outputId": "cd1b1569-102d-4554-bbe5-a17b6db18cdc",
        "colab": {
          "base_uri": "https://localhost:8080/",
          "height": 147
        }
      },
      "source": [
        "newton2(ejer1,0,1e-5,50)"
      ],
      "execution_count": 0,
      "outputs": [
        {
          "output_type": "stream",
          "text": [
            "Iteración    x1           error       \n",
            "1            0.5          0.1271051211\n",
            "2            0.585644     0.0040112772\n",
            "3            0.588529     4.6203e-06  \n",
            "solución 0.588529\n",
            "alcanzada en   3 iteraciones\n",
            "valor de la función = 0.0000046203\n"
          ],
          "name": "stdout"
        }
      ]
    },
    {
      "cell_type": "code",
      "metadata": {
        "id": "gn-oxchjBPdF",
        "colab_type": "code",
        "colab": {}
      },
      "source": [
        ""
      ],
      "execution_count": 0,
      "outputs": []
    },
    {
      "cell_type": "markdown",
      "metadata": {
        "id": "JMZzMJ89AQ0p",
        "colab_type": "text"
      },
      "source": [
        "2.- &nbsp;&nbsp;&nbsp;\n",
        "$\n",
        "f(x)=x-0.5\\tan(x)\n",
        "$<br>\n",
        "empezando con $x_0 = 0$"
      ]
    },
    {
      "cell_type": "code",
      "metadata": {
        "id": "okFH6kLPGAiW",
        "colab_type": "code",
        "outputId": "2ef7b6a2-8a54-4734-f794-4b12d3e0e024",
        "colab": {
          "base_uri": "https://localhost:8080/",
          "height": 284
        }
      },
      "source": [
        "def ejer2(x):\n",
        "    return x-0.5*np.tan(x)\n",
        "def ejer2der(x):\n",
        "    return -0.5*(np.tan(x))**2 + 0.5\n",
        "x = np.linspace(-1,1,200)\n",
        "plt.grid()\n",
        "plt.axhline(y=0,color='k')\n",
        "plt.plot(x,ejer2(x))\n",
        "plt.plot(x,ejer2der(x))"
      ],
      "execution_count": 0,
      "outputs": [
        {
          "output_type": "execute_result",
          "data": {
            "text/plain": [
              "[<matplotlib.lines.Line2D at 0x7f1c01505358>]"
            ]
          },
          "metadata": {
            "tags": []
          },
          "execution_count": 22
        },
        {
          "output_type": "display_data",
          "data": {
            "image/png": "[encoded data removed]",
            "text/plain": [
              "<Figure size 432x288 with 1 Axes>"
            ]
          },
          "metadata": {
            "tags": []
          }
        }
      ]
    },
    {
      "cell_type": "code",
      "metadata": {
        "id": "Zz8YEq1YGoK_",
        "colab_type": "code",
        "outputId": "e877f629-2566-463c-a1b1-8a0e88f9ac69",
        "colab": {
          "base_uri": "https://localhost:8080/",
          "height": 128
        }
      },
      "source": [
        "newton(ejer2,ejer2der,-0.25,1e-5,50)"
      ],
      "execution_count": 0,
      "outputs": [
        {
          "output_type": "stream",
          "text": [
            "Iteración    x1           error       \n",
            "1            0.011722     0.00586085  \n",
            "2            -1e-06       5.371e-07   \n",
            "solución -0.000001\n",
            "alcanzada en   2 iteraciones\n",
            "valor de la función = -0.0000005371\n"
          ],
          "name": "stdout"
        }
      ]
    },
    {
      "cell_type": "code",
      "metadata": {
        "id": "NxZTepkWG1Vt",
        "colab_type": "code",
        "outputId": "4bb8115e-bd6f-48a5-87c0-4aee31679249",
        "colab": {
          "base_uri": "https://localhost:8080/",
          "height": 128
        }
      },
      "source": [
        "newton2(ejer2,-0.25,1e-5,50)"
      ],
      "execution_count": 0,
      "outputs": [
        {
          "output_type": "stream",
          "text": [
            "Iteración    x1           error       \n",
            "1            0.011722     0.00586085  \n",
            "2            -1e-06       5.371e-07   \n",
            "solución -0.000001\n",
            "alcanzada en   2 iteraciones\n",
            "valor de la función = -0.0000005371\n"
          ],
          "name": "stdout"
        }
      ]
    },
    {
      "cell_type": "code",
      "metadata": {
        "id": "4p5_qAhEFsDv",
        "colab_type": "code",
        "outputId": "17df69d8-7f63-4237-bd3f-faadad456420",
        "colab": {
          "base_uri": "https://localhost:8080/",
          "height": 36
        }
      },
      "source": [
        "from sympy import *\n",
        "\n",
        "x = symbols('x')\n",
        "F0 = x-0.5*tan(x)\n",
        "print(diff(F0, x))"
      ],
      "execution_count": 0,
      "outputs": [
        {
          "output_type": "stream",
          "text": [
            "-0.5*tan(x)**2 + 0.5\n"
          ],
          "name": "stdout"
        }
      ]
    },
    {
      "cell_type": "markdown",
      "metadata": {
        "id": "BuDWRAWTAQ0t",
        "colab_type": "text"
      },
      "source": [
        "3.- &nbsp;&nbsp;&nbsp;\n",
        "$\n",
        "f(x)=4x^{2}-4xe^{-2x}+e^{-4x}\n",
        "$<br>\n",
        "empezando con $x_0 = 0$"
      ]
    },
    {
      "cell_type": "markdown",
      "metadata": {
        "id": "SyvSgB78AQ0x",
        "colab_type": "text"
      },
      "source": [
        "4.- &nbsp;&nbsp;&nbsp;\n",
        "$\n",
        "f(x)=3x^{2}+\\ln(x)(2x+\\ln(x))-2x^{2}\n",
        "$<br>\n",
        "empezando con $x_0 = 0$\n"
      ]
    },
    {
      "cell_type": "code",
      "metadata": {
        "id": "sZDdLEQNKCdV",
        "colab_type": "code",
        "outputId": "97cbbe47-6aac-4ab3-a1f4-c9c68c700c20",
        "colab": {
          "base_uri": "https://localhost:8080/",
          "height": 284
        }
      },
      "source": [
        "def ejer4(x):\n",
        "    return 3*x**2+np.log(x)*(2*x+np.log(x))-2*(x**2)\n",
        "def ejer4der(x):\n",
        "    return -0.5*(np.tan(x))**2 + 0.5\n",
        "x = np.linspace(0.1,1.2,200)\n",
        "plt.grid()\n",
        "plt.axhline(y=0,color='k')\n",
        "plt.plot(x,ejer4(x))\n",
        "plt.plot(x,ejer4der(x))"
      ],
      "execution_count": 0,
      "outputs": [
        {
          "output_type": "execute_result",
          "data": {
            "text/plain": [
              "[<matplotlib.lines.Line2D at 0x7f1c01559240>]"
            ]
          },
          "metadata": {
            "tags": []
          },
          "execution_count": 32
        },
        {
          "output_type": "display_data",
          "data": {
            "image/png": "[encoded data removed]",
            "text/plain": [
              "<Figure size 432x288 with 1 Axes>"
            ]
          },
          "metadata": {
            "tags": []
          }
        }
      ]
    },
    {
      "cell_type": "code",
      "metadata": {
        "id": "c9jXDfsjK4xy",
        "colab_type": "code",
        "outputId": "9b504d79-3d06-458b-b2ef-ede674aec254",
        "colab": {
          "base_uri": "https://localhost:8080/",
          "height": 240
        }
      },
      "source": [
        "newton2(ejer4,0.4,1e-5,50)"
      ],
      "execution_count": 0,
      "outputs": [
        {
          "output_type": "stream",
          "text": [
            "Iteración    x1           error       \n",
            "1            0.473756     0.0746969465\n",
            "2            0.517685     0.0197976486\n",
            "3            0.541682     0.0050971541\n",
            "4            0.554224     0.0012932065\n",
            "5            0.560636     0.0003256941\n",
            "6            0.563878     8.17243e-05 \n",
            "7            0.565507     2.04688e-05 \n",
            "8            0.566325     5.1219e-06  \n",
            "solución 0.566325\n",
            "alcanzada en   8 iteraciones\n",
            "valor de la función = 0.0000051219\n"
          ],
          "name": "stdout"
        }
      ]
    },
    {
      "cell_type": "markdown",
      "metadata": {
        "id": "xBUCLYWYAQ01",
        "colab_type": "text"
      },
      "source": [
        "5.- &nbsp;&nbsp;&nbsp;\n",
        "$\n",
        "f(x)=x^{2}+e^{-2x}-2xe^{-x}\n",
        "$<br>\n",
        "empezando con $x_0 = 4$\n"
      ]
    },
    {
      "cell_type": "code",
      "metadata": {
        "id": "7H7dhKg_AQ04",
        "colab_type": "code",
        "colab": {}
      },
      "source": [
        ""
      ],
      "execution_count": 0,
      "outputs": []
    }
  ]
}