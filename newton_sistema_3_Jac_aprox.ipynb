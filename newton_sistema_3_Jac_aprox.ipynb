{
  "nbformat": 4,
  "nbformat_minor": 0,
  "metadata": {
    "kernelspec": {
      "display_name": "Python 3",
      "language": "python",
      "name": "python3"
    },
    "language_info": {
      "codemirror_mode": {
        "name": "ipython",
        "version": 3
      },
      "file_extension": ".py",
      "mimetype": "text/x-python",
      "name": "python",
      "nbconvert_exporter": "python",
      "pygments_lexer": "ipython3",
      "version": "3.6.5"
    },
    "colab": {
      "name": "newton-sistema-3-Jac-aprox.ipynb",
      "provenance": [],
      "collapsed_sections": [],
      "include_colab_link": true
    }
  },
  "cells": [
    {
      "cell_type": "markdown",
      "metadata": {
        "id": "view-in-github",
        "colab_type": "text"
      },
      "source": [
        "<a href=\"https://colab.research.google.com/github/gachet/000mis-colabs/blob/master/newton_sistema_3_Jac_aprox.ipynb\" target=\"_parent\"><img src=\"https://colab.research.google.com/assets/colab-badge.svg\" alt=\"Open In Colab\"/></a>"
      ]
    },
    {
      "cell_type": "markdown",
      "metadata": {
        "id": "z4S4G_MlbrPp",
        "colab_type": "text"
      },
      "source": [
        "## Sistemas de ecuaciones no lineales. Método de Newton Raphson"
      ]
    },
    {
      "cell_type": "code",
      "metadata": {
        "id": "iRPf2hdVbrP6",
        "colab_type": "code",
        "colab": {}
      },
      "source": [
        "import numpy as np"
      ],
      "execution_count": 0,
      "outputs": []
    },
    {
      "cell_type": "code",
      "metadata": {
        "id": "uXdp7ngMbrQc",
        "colab_type": "code",
        "colab": {}
      },
      "source": [
        "\n",
        "def Newton_raphson(F, J, x, eps):\n",
        "    \"\"\"\n",
        "    Resolución del sistema no lineal F=0  con el método de  Newton.\n",
        "    J es el jacobiano de F. Ambos F y J deben ser función de  x.\n",
        "    El vector  x  contiene los valores de inicio para las raíces.\n",
        "    Las iteraciones continúan hasta que until ||F|| < eps.\n",
        "    \"\"\"\n",
        "    F_value = F(x)\n",
        "    F_norm = np.linalg.norm(F_value, ord=2)  # l2 norm of vector\n",
        "    iteration_counter = 0\n",
        "    while abs(F_norm) > eps and iteration_counter < 20:\n",
        "        delta = np.linalg.solve(J(x), -F_value)\n",
        "        x = x + delta\n",
        "        F_value = F(x)\n",
        "        F_norm = np.linalg.norm(F_value, ord=2)\n",
        "        iteration_counter += 1\n",
        "        print('iteración',iteration_counter)\n",
        "    # Hay una solución, o demasiadas iteraciones\n",
        "    if abs(F_norm) > eps:\n",
        "        iteration_counter = -1  #no hay solucion en las iteraciones indicadas\n",
        "    return x, iteration_counter\n"
      ],
      "execution_count": 0,
      "outputs": []
    },
    {
      "cell_type": "code",
      "metadata": {
        "id": "YrTKFBOpbrQu",
        "colab_type": "code",
        "colab": {}
      },
      "source": [
        "## Aproximación del Jacobiano mediante diferencias finitas, \n",
        "# le pasamos el vector de funciones f y el vector de valores\n",
        "#iniciales x.\n",
        "# se llama dentro de la función Newton_raphson2\n",
        "def jacobian(f,x):\n",
        "        h = 1.0e-4\n",
        "        n = len(x)\n",
        "        jac = np.zeros((n,n))\n",
        "        f0 = f(x)\n",
        "        for i in range(n):\n",
        "            temp = x[i]\n",
        "            x[i] = temp + h\n",
        "            f1 = f(x)\n",
        "            x[i] = temp\n",
        "            jac[:,i] = (f1 - f0)/h\n",
        "        return jac\n",
        "    "
      ],
      "execution_count": 0,
      "outputs": []
    },
    {
      "cell_type": "code",
      "metadata": {
        "id": "oE79enUabrQ-",
        "colab_type": "code",
        "colab": {}
      },
      "source": [
        "def Newton_raphson2(F, x, eps): \n",
        "    \"\"\"\n",
        "    Resolución del sistema no lineal F=0  con el método de  Newton.\n",
        "    J es el jacobiano \"aproximado\"de F que se obtiene llamando a la función \n",
        "    \"jacobian\". x debe pasarse como un array de FLOATS.\n",
        "    El vector  x  contiene los valores de inicio para las raíces.\n",
        "    Las iteraciones continúan hasta que until ||F|| < eps.\n",
        "    \"\"\"\n",
        "    F_value = F(x)\n",
        "    F_norm = np.linalg.norm(F_value, ord=2)  # l2 norm of vector\n",
        "    iteration_counter = 0\n",
        "    while abs(F_norm) > eps and iteration_counter < 20:\n",
        "       \n",
        "        J=jacobian(F,x)\n",
        "        delta = np.linalg.solve(J, -F_value)\n",
        "        x = x + delta\n",
        "        F_value = F(x)\n",
        "        F_norm = np.linalg.norm(F_value, ord=2)\n",
        "        iteration_counter += 1\n",
        "        print('iteración',iteration_counter)\n",
        "    # Hay una solución, o demasiadas iteraciones\n",
        "    if abs(F_norm) > eps:\n",
        "        iteration_counter = -1  #no hay solucion en las iteraciones indicadas\n",
        "    return x, iteration_counter"
      ],
      "execution_count": 0,
      "outputs": []
    },
    {
      "cell_type": "markdown",
      "metadata": {
        "id": "bRib-Sl9brRO",
        "colab_type": "text"
      },
      "source": [
        "## Ejemplo1"
      ]
    },
    {
      "cell_type": "markdown",
      "metadata": {
        "id": "g0ObC5XCbrRU",
        "colab_type": "text"
      },
      "source": [
        "\\begin{align}\n",
        "&x^2 = y - x\\cos(\\pi x)\n",
        "\\\\ \n",
        "&yx + e^{-y} = x^{-1}\n",
        "\\end{align}"
      ]
    },
    {
      "cell_type": "markdown",
      "metadata": {
        "id": "vwWd9uMHbrRY",
        "colab_type": "text"
      },
      "source": [
        "Haciendo $x_0=x $ y $x_1=y$. Tenemos"
      ]
    },
    {
      "cell_type": "markdown",
      "metadata": {
        "id": "0azvh5dnbrRe",
        "colab_type": "text"
      },
      "source": [
        "\\begin{align*}\n",
        "F_0(x_0,x_1) &= x_0^2 - x_1 + x_0\\cos(\\pi x_0) = 0,\\\\ \n",
        "F_1(x_0,x_1) &= x_1x_0 + e^{-x_1} - x_0^{-1} = 0\\thinspace .\n",
        "\\end{align*}"
      ]
    },
    {
      "cell_type": "markdown",
      "metadata": {
        "id": "ZIzSO8dgbrRi",
        "colab_type": "text"
      },
      "source": [
        "$\n",
        "\\nabla F = \\left(\\begin{array}{ll}\n",
        "\\frac{\\partial F_0}{\\partial x_0} & \\frac{\\partial F_0}{\\partial x_1}\\\\ \n",
        "\\frac{\\partial F_1}{\\partial x_0} & \\frac{\\partial F_1}{\\partial x_1}\n",
        "\\end{array}\\right) =\n",
        "\\left(\\begin{array}{ll}\n",
        "2x_0 + \\cos(\\pi x_0) - \\pi x_0\\sin(\\pi x_0) &\n",
        "-1 \\\\ \n",
        "x_1 + x_0^{-2} & x_0 - e^{-x_1}\n",
        "\\end{array}\\right)\n",
        "$"
      ]
    },
    {
      "cell_type": "code",
      "metadata": {
        "id": "ATtAEXoObrRn",
        "colab_type": "code",
        "outputId": "065db6a5-a165-40a4-e753-2b172e38c946",
        "colab": {
          "base_uri": "https://localhost:8080/",
          "height": 34
        }
      },
      "source": [
        "## PODEMOS COMPROBAR QUE NUESTRO JACOBIANO ESTE BIEN CALCULADO CON UTILIZANDO\n",
        "## LA LIBRERIA DE CALCULO SIMBOLICO  SYMPY\n",
        "\n",
        "from sympy import *\n",
        "init_printing()\n",
        "x0, x1 = symbols('x0 x1')\n",
        "X = Matrix([x0**2-x1+x0*cos(pi*x0), x0*x1+exp(-x1)-x0**(-1)])\n",
        "Y = Matrix([x0, x1])\n",
        "X.jacobian(Y)"
      ],
      "execution_count": 0,
      "outputs": [
        {
          "output_type": "execute_result",
          "data": {
            "text/latex": "$$\\left[\\begin{matrix}- \\pi x_{0} \\sin{\\left (\\pi x_{0} \\right )} + 2 x_{0} + \\cos{\\left (\\pi x_{0} \\right )} & -1\\\\x_{1} + \\frac{1}{x_{0}^{2}} & x_{0} - e^{- x_{1}}\\end{matrix}\\right]$$",
            "text/plain": [
              "⎡-π⋅x₀⋅sin(π⋅x₀) + 2⋅x₀ + cos(π⋅x₀)     -1    ⎤\n",
              "⎢                                             ⎥\n",
              "⎢                   1                      -x₁⎥\n",
              "⎢             x₁ + ───               x₀ - ℯ   ⎥\n",
              "⎢                    2                        ⎥\n",
              "⎣                  x₀                         ⎦"
            ]
          },
          "metadata": {
            "tags": []
          },
          "execution_count": 5
        }
      ]
    },
    {
      "cell_type": "markdown",
      "metadata": {
        "id": "Mw-8JRbQb8PP",
        "colab_type": "text"
      },
      "source": [
        "$$\\left[\\begin{matrix}- \\pi x_{0} \\sin{\\left (\\pi x_{0} \\right )} + 2 x_{0} + \\cos{\\left (\\pi x_{0} \\right )} & -1\\\\x_{1} + \\frac{1}{x_{0}^{2}} & x_{0} - e^{- x_{1}}\\end{matrix}\\right]$$"
      ]
    },
    {
      "cell_type": "code",
      "metadata": {
        "id": "7yDJX_WtbrR4",
        "colab_type": "code",
        "colab": {}
      },
      "source": [
        "#DEFINICIÓN DEL VECTOR DE FUNCIONES Y SU JACOBIANO\n",
        "def F0(x):\n",
        "    return np.array([x[0]**2 - x[1] + x[0]*np.cos(np.pi*x[0]),\n",
        "                     x[0]*x[1] + np.exp(-x[1]) - x[0]**(-1.)])\n",
        "\n",
        "def J0(x):\n",
        "    return np.array([[2*x[0] + np.cos(np.pi*x[0]) - np.pi*x[0]*np.sin(np.pi*x[0]),\n",
        "                      -1.],[x[1] + x[0]**(-2.), x[0] - np.exp(-x[1])]])\n",
        "\n",
        "    "
      ],
      "execution_count": 0,
      "outputs": []
    },
    {
      "cell_type": "markdown",
      "metadata": {
        "id": "pkWDL1RQbrSH",
        "colab_type": "text"
      },
      "source": [
        "###  Solución Utilizando Newton Raphson clásico utilizando el jacobiano J calculado"
      ]
    },
    {
      "cell_type": "code",
      "metadata": {
        "id": "X2MvePOLbrSM",
        "colab_type": "code",
        "outputId": "f0b28723-88d8-443a-d65e-8a1bb2d5890c",
        "colab": {
          "base_uri": "https://localhost:8080/",
          "height": 111
        }
      },
      "source": [
        "\n",
        "x, n = Newton_raphson(F0, J0, x=np.array([2, -1]), eps=0.0001)\n",
        "print ('Iteraciones y soluciones ',n, x)\n"
      ],
      "execution_count": 0,
      "outputs": [
        {
          "output_type": "stream",
          "text": [
            "iteración 1\n",
            "iteración 2\n",
            "iteración 3\n",
            "iteración 4\n",
            "Iteraciones y soluciones  4 [ 1.00000006e+00 -1.00943962e-06]\n"
          ],
          "name": "stdout"
        }
      ]
    },
    {
      "cell_type": "markdown",
      "metadata": {
        "id": "_xnU4RksbrSY",
        "colab_type": "text"
      },
      "source": [
        "### Solución Utilizando Newton Raphson  utilizando el jacobiano J aproximando cada derivada (ver transp.34 de teoría) con\n",
        "$\\displaystyle \\frac{\\partial f_{i}}{\\partial x_{j}}\\approx \\frac{f_{i}(x+e_{j}h)-f_{i}(x)}{h} $<br>\n",
        "El jacobiano se calcula xon la función jacobian a la que le pasamos el conunto de funciones F0 y f1 así como el vector de valores iniciales x"
      ]
    },
    {
      "cell_type": "markdown",
      "metadata": {
        "id": "PGB3p5-qbrSc",
        "colab_type": "text"
      },
      "source": [
        "### NOTA Para utilizar Newton Raphson con el Jacobiano  aproximado debemos darle los valores de inicio con tipo FLOAT"
      ]
    },
    {
      "cell_type": "code",
      "metadata": {
        "id": "9BqYOxeHbrSk",
        "colab_type": "code",
        "outputId": "a3aa0301-8511-40e9-a5fd-fb9de07fb0c2",
        "colab": {
          "base_uri": "https://localhost:8080/",
          "height": 111
        }
      },
      "source": [
        "x, n = Newton_raphson2(F0, x=np.array([2, -1], dtype=float), eps=0.0001)\n",
        "print ('Iteraciones y soluciones ',n, x)\n"
      ],
      "execution_count": 0,
      "outputs": [
        {
          "output_type": "stream",
          "text": [
            "iteración 1\n",
            "iteración 2\n",
            "iteración 3\n",
            "iteración 4\n",
            "Iteraciones y soluciones  4 [ 9.99999980e-01 -1.31348473e-06]\n"
          ],
          "name": "stdout"
        }
      ]
    },
    {
      "cell_type": "markdown",
      "metadata": {
        "id": "bPeVOIjEbrS9",
        "colab_type": "text"
      },
      "source": [
        "##### Como se puede observar existe una pequeña diferencia debido a la aproximación en el jacobiano, la ventaja es que no necesitamos calcularlo de forma analítica"
      ]
    },
    {
      "cell_type": "markdown",
      "metadata": {
        "id": "80-7yovUcHBf",
        "colab_type": "text"
      },
      "source": [
        "#### Podemos comprobar que son las soluciones de nuestras ecuaciones"
      ]
    },
    {
      "cell_type": "code",
      "metadata": {
        "id": "vXC9WFfKcPkV",
        "colab_type": "code",
        "outputId": "1ceaa9db-2333-4a24-852a-9921964f0542",
        "colab": {
          "base_uri": "https://localhost:8080/",
          "height": 36
        }
      },
      "source": [
        "F0([9.99999980e-01, -1.31348473e-06])"
      ],
      "execution_count": 0,
      "outputs": [
        {
          "output_type": "execute_result",
          "data": {
            "text/plain": [
              "array([ 1.29348473e-06, -1.99991115e-08])"
            ]
          },
          "metadata": {
            "tags": []
          },
          "execution_count": 10
        }
      ]
    },
    {
      "cell_type": "code",
      "metadata": {
        "id": "YiiNNxOybrTF",
        "colab_type": "code",
        "colab": {}
      },
      "source": [
        "## Ejemplo2"
      ],
      "execution_count": 0,
      "outputs": []
    },
    {
      "cell_type": "markdown",
      "metadata": {
        "id": "jkmAI17ObrTV",
        "colab_type": "text"
      },
      "source": [
        "\\begin{align}\n",
        "&3x_0-cos(x_1x_2)- \\frac{3}{2}=0\n",
        "\\\\ \n",
        "&4x_0^{2}-625x_1^{2}+2x_2-1=0 \\\\\n",
        "&20x_2+e^{-x_0x_1}+9 = 0\n",
        "\\end{align}"
      ]
    },
    {
      "cell_type": "markdown",
      "metadata": {
        "id": "dm7Tei9-brTb",
        "colab_type": "text"
      },
      "source": [
        "$\n",
        "\\nabla F = \\left(\\begin{array}{ll}\n",
        "\\frac{\\partial F_0}{\\partial x_0} & \\frac{\\partial F_0}{\\partial x_1} & \\frac{\\partial F_0}{\\partial x_2}\\\\ \n",
        "\\frac{\\partial F_1}{\\partial x_0} & \\frac{\\partial F_1}{\\partial x_1} & \\frac{\\partial F_1}{\\partial x_2}\\\\\n",
        "\\frac{\\partial F_2}{\\partial x_0} & \\frac{\\partial F_2}{\\partial x_1} & \\frac{\\partial F_2}{\\partial x_2}\n",
        "\\end{array}\\right) =\n",
        "\\left(\\begin{array}{ll}\n",
        "3  & x_2\\sin(x_1x_2)& x_1\\sin(x_1x_2) \\\\\n",
        "8x_0 & -1250x_1 & 2 \\\\ \n",
        "-x_1e^{-x_0x_1} & -x_0e^{-x_0x_1} & 20\n",
        "\\end{array}\\right)\n",
        "$"
      ]
    },
    {
      "cell_type": "code",
      "metadata": {
        "id": "ZjLzQoY4brTk",
        "colab_type": "code",
        "outputId": "bc9f5642-8c2a-42e1-97ff-e47f1fcf0082",
        "colab": {}
      },
      "source": [
        "## PODEMOS COMPROBAR QUE NUESTRO JACOBIANO ESTE BIEN CALCULADO CON UTILIZANDO\n",
        "## LA LIBRERIA DE CALCULO SIMBOLICO  SYMPY\n",
        "\n",
        "from sympy import *\n",
        "init_printing()\n",
        "x0, x1, x2 = symbols('x0 x1 x2')\n",
        "X = Matrix([3*x0-cos(x1*x2)-3/2,\n",
        "            4*x0**2-625*x1**2+2*x2-1,\n",
        "            20*x2+exp(-x0*x1)+9])\n",
        "Y = Matrix([x0, x1, x2])\n",
        "X.jacobian(Y)"
      ],
      "execution_count": 0,
      "outputs": [
        {
          "output_type": "execute_result",
          "data": {
            "image/png": "[encoded data removed]",
            "text/latex": "$$\\left[\\begin{matrix}3 & x_{2} \\sin{\\left (x_{1} x_{2} \\right )} & x_{1} \\sin{\\left (x_{1} x_{2} \\right )}\\\\8 x_{0} & - 1250 x_{1} & 2\\\\- x_{1} e^{- x_{0} x_{1}} & - x_{0} e^{- x_{0} x_{1}} & 20\\end{matrix}\\right]$$",
            "text/plain": [
              "⎡     3       x₂⋅sin(x₁⋅x₂)  x₁⋅sin(x₁⋅x₂)⎤\n",
              "⎢                                         ⎥\n",
              "⎢   8⋅x₀        -1250⋅x₁           2      ⎥\n",
              "⎢                                         ⎥\n",
              "⎢     -x₀⋅x₁        -x₀⋅x₁                ⎥\n",
              "⎣-x₁⋅ℯ         -x₀⋅ℯ              20      ⎦"
            ]
          },
          "metadata": {
            "tags": []
          },
          "execution_count": 48
        }
      ]
    },
    {
      "cell_type": "code",
      "metadata": {
        "id": "2K7jRmnhbrTw",
        "colab_type": "code",
        "colab": {}
      },
      "source": [
        "#DEFINICIÓN DEL VECTOR DE FUNCIONES Y SU JACOBIANO\n",
        "def F1(x):\n",
        "    return np.array([3*x[0] - np.cos(x[1]* x[2])- 3/2,\n",
        "                       4*x[0]**2-625*x[1]**2+2*x[2]-1.,\n",
        "                     20*x[2]+np.exp(-x[0]*x[1])+9])\n",
        "\n",
        "def J1(x):\n",
        "    return np.array([[3 , x[2]*np.sin(x[1]*x[2]), x[1]*np.sin(x[1]*x[2])],\n",
        "                     [8*x[0], -1250*x[1],2],\n",
        "                    [-x[1]*np.exp(-x[0]*x[1]),-x[0]*np.exp(-x[0]*x[1]),20]])\n",
        "\n",
        "    "
      ],
      "execution_count": 0,
      "outputs": []
    },
    {
      "cell_type": "markdown",
      "metadata": {
        "id": "R-JybZtkbrUL",
        "colab_type": "text"
      },
      "source": [
        "### Solución Utilizando Newton Raphson clásico utilizando el jacobiano J calculado"
      ]
    },
    {
      "cell_type": "code",
      "metadata": {
        "id": "b81ZyWhkbrUO",
        "colab_type": "code",
        "outputId": "19477311-428f-4113-f428-108d05e53d7a",
        "colab": {}
      },
      "source": [
        "x, n = Newton_raphson(F1, J1, x=np.array([1., 1.,1.]), eps=0.00001)\n",
        "print ('Iteraciones y soluciones ',n, x)"
      ],
      "execution_count": 0,
      "outputs": [
        {
          "output_type": "stream",
          "text": [
            "iteración 1\n",
            "iteración 2\n",
            "iteración 3\n",
            "iteración 4\n",
            "iteración 5\n",
            "iteración 6\n",
            "iteración 7\n",
            "iteración 8\n",
            "Iteraciones y soluciones  8 [ 0.83328161  0.03533462 -0.49854928]\n"
          ],
          "name": "stdout"
        }
      ]
    },
    {
      "cell_type": "markdown",
      "metadata": {
        "id": "49z33NzObrUZ",
        "colab_type": "text"
      },
      "source": [
        "### Solución Utilizando Newton Raphson  utilizando el jacobiano J aproximado "
      ]
    },
    {
      "cell_type": "code",
      "metadata": {
        "id": "l8p03aZfbrUe",
        "colab_type": "code",
        "outputId": "60d14338-757c-4b69-87d2-f33ab52c3892",
        "colab": {}
      },
      "source": [
        "x, n = Newton_raphson2(F1, x=np.array([1, 1,1],dtype=float), eps=0.00001)\n",
        "print (n, x)"
      ],
      "execution_count": 0,
      "outputs": [
        {
          "output_type": "stream",
          "text": [
            "iteración 1\n",
            "iteración 2\n",
            "iteración 3\n",
            "iteración 4\n",
            "iteración 5\n",
            "iteración 6\n",
            "iteración 7\n",
            "iteración 8\n",
            "8 [ 0.83328161  0.03533463 -0.49854928]\n"
          ],
          "name": "stdout"
        }
      ]
    },
    {
      "cell_type": "markdown",
      "metadata": {
        "id": "D1NOMfGlbrUo",
        "colab_type": "text"
      },
      "source": [
        "#### Podemos comprobar que efectivamente son las soluiciones del sistema"
      ]
    },
    {
      "cell_type": "code",
      "metadata": {
        "id": "hGV-jm64brUr",
        "colab_type": "code",
        "outputId": "181b61e3-fea4-4389-c887-dc34d02f71e8",
        "colab": {}
      },
      "source": [
        "F1([0.83324489,  0.04624733, -0.49810988])"
      ],
      "execution_count": 0,
      "outputs": [
        {
          "output_type": "execute_result",
          "data": {
            "text/plain": [
              "array([-7.28049532e-09, -5.55791281e-01,  8.91044891e-08])"
            ]
          },
          "metadata": {
            "tags": []
          },
          "execution_count": 54
        }
      ]
    },
    {
      "cell_type": "markdown",
      "metadata": {
        "id": "C1IhzevObrU1",
        "colab_type": "text"
      },
      "source": [
        "## Ejemplo 3"
      ]
    },
    {
      "cell_type": "markdown",
      "metadata": {
        "id": "dqJrI2-jbrU4",
        "colab_type": "text"
      },
      "source": [
        "\\begin{align}\n",
        "&x_0^{2}-2x_0+x_1^{2}-x_2+1=0\n",
        "\\\\ \n",
        "&x_0x_1^{2}-x_0 -3x_1+x_1x_2+2 = 0\\\\\n",
        "&x_0x_2^{2}-3x_2+x_1x_2^{2}+x_0x_1 = 0\n",
        "\\end{align}"
      ]
    },
    {
      "cell_type": "markdown",
      "metadata": {
        "id": "OGXH-ZzxbrU8",
        "colab_type": "text"
      },
      "source": [
        "$\n",
        "\\nabla F = \\left(\\begin{array}{ll}\n",
        "\\frac{\\partial F_0}{\\partial x_0} & \\frac{\\partial F_0}{\\partial x_1} & \\frac{\\partial F_0}{\\partial x_2}\\\\ \n",
        "\\frac{\\partial F_1}{\\partial x_0} & \\frac{\\partial F_1}{\\partial x_1} & \\frac{\\partial F_1}{\\partial x_2}\\\\\n",
        "\\frac{\\partial F_2}{\\partial x_0} & \\frac{\\partial F_2}{\\partial x_1} & \\frac{\\partial F_2}{\\partial x_2}\n",
        "\\end{array}\\right) =\n",
        "\\left(\\begin{array}{ll}\n",
        "2x_0-2 & 2x_1& -1 \\\\\n",
        "x_1^{2}-1 &2x_0x_1-3+x_2 & x_1 \\\\ \n",
        "x_2^{2}+x_1 & x_2^{2}+x_0 & 2x_0x_2-3+2x_1x_2\n",
        "\\end{array}\\right)\n",
        "$"
      ]
    },
    {
      "cell_type": "code",
      "metadata": {
        "id": "OPiHX05HbrU_",
        "colab_type": "code",
        "outputId": "36f7cbbf-bb81-4bfe-b89d-4a304f464ed4",
        "colab": {}
      },
      "source": [
        "## PODEMOS COMPROBAR QUE NUESTRO JACOBIANO ESTE BIEN CALCULADO CON UTILIZANDO\n",
        "## LA LIBRERIA DE CALCULO SIMBOLICO  SYMPY\n",
        "\n",
        "from sympy import *\n",
        "init_printing()\n",
        "x0, x1, x2 = symbols('x0 x1 x2')\n",
        "X = Matrix([x0**2-2*x0+x1**2-x2+1,\n",
        "            x0*x1-x0-3*x1+x1*x2+2,\n",
        "            x0*x2**2-3*x2+x1*x2**2+x0*x1])\n",
        "Y = Matrix([x0, x1, x2])\n",
        "X.jacobian(Y)"
      ],
      "execution_count": 0,
      "outputs": [
        {
          "output_type": "execute_result",
          "data": {
            "image/png": "[encoded data removed]",
            "text/latex": "$$\\left[\\begin{matrix}2 x_{0} - 2 & 2 x_{1} & -1\\\\x_{1} - 1 & x_{0} + x_{2} - 3 & x_{1}\\\\x_{1} + x_{2}^{2} & x_{0} + x_{2}^{2} & 2 x_{0} x_{2} + 2 x_{1} x_{2} - 3\\end{matrix}\\right]$$",
            "text/plain": [
              "⎡2⋅x₀ - 2     2⋅x₁               -1          ⎤\n",
              "⎢                                            ⎥\n",
              "⎢ x₁ - 1   x₀ + x₂ - 3           x₁          ⎥\n",
              "⎢                                            ⎥\n",
              "⎢       2          2                         ⎥\n",
              "⎣x₁ + x₂    x₀ + x₂     2⋅x₀⋅x₂ + 2⋅x₁⋅x₂ - 3⎦"
            ]
          },
          "metadata": {
            "tags": []
          },
          "execution_count": 56
        }
      ]
    },
    {
      "cell_type": "code",
      "metadata": {
        "id": "GDjU0UHwbrVJ",
        "colab_type": "code",
        "colab": {}
      },
      "source": [
        "def F2(x):\n",
        "    return np.array([x[0]**2 - 2*x[0]+x[1]**2- x[2]+1,\n",
        "                       x[0]*x[1]**2-x[0]-3*x[1]+x[1]*x[2]+2,\n",
        "                     x[0]*x[2]**2 -3*x[2]+x[1]*x[2]**2 +x[0]*x[1]])\n",
        "\n",
        "def J2(x):\n",
        "    return np.array([[2*x[0]-2 , 2*x[1],-1],\n",
        "                     [x[1]**2 -1,2*x[0]*x[1]-3+x[2],x[1]],\n",
        "                    [x[2]**2+x[1], x[2]**2+x[0],2*x[0]*x[2]- 3 + 2*x[1]*x[2]]])\n",
        "\n",
        "    "
      ],
      "execution_count": 0,
      "outputs": []
    },
    {
      "cell_type": "markdown",
      "metadata": {
        "id": "AI8JrfXNbrVU",
        "colab_type": "text"
      },
      "source": [
        "### Solución Utilizando Newton Raphson clásico utilizando el jacobiano J calculado"
      ]
    },
    {
      "cell_type": "code",
      "metadata": {
        "id": "7gJX5xFUbrVX",
        "colab_type": "code",
        "outputId": "d2b85a51-afc6-4afe-e50a-eb7c682dfddd",
        "colab": {}
      },
      "source": [
        "x, n = Newton_raphson(F2, J2, x=np.array([1, 2,3]), eps=0.00001)\n",
        "print ('Iteraciones y soluciones ',n, x)"
      ],
      "execution_count": 0,
      "outputs": [
        {
          "output_type": "stream",
          "text": [
            "iteración 1\n",
            "iteración 2\n",
            "iteración 3\n",
            "iteración 4\n",
            "iteración 5\n",
            "iteración 6\n",
            "iteración 7\n",
            "iteración 8\n",
            "Iteraciones y soluciones  8 [1.0000015  1.00000149 1.00000005]\n"
          ],
          "name": "stdout"
        }
      ]
    },
    {
      "cell_type": "markdown",
      "metadata": {
        "id": "EZ9ull-EbrVh",
        "colab_type": "text"
      },
      "source": [
        "### Solución Utilizando Newton Raphson  utilizando el jacobiano J aproximado "
      ]
    },
    {
      "cell_type": "code",
      "metadata": {
        "id": "A2I2-2YIbrVk",
        "colab_type": "code",
        "outputId": "f37d40d6-3093-44fa-8e68-aded3389cb47",
        "colab": {}
      },
      "source": [
        "x, n = Newton_raphson2(F2, x=np.array([1, 2,3],dtype=float), eps=0.00001)\n",
        "print ('Iteraciones y soluciones ',n, x)"
      ],
      "execution_count": 0,
      "outputs": [
        {
          "output_type": "stream",
          "text": [
            "iteración 1\n",
            "iteración 2\n",
            "iteración 3\n",
            "iteración 4\n",
            "iteración 5\n",
            "iteración 6\n",
            "iteración 7\n",
            "iteración 8\n",
            "Iteraciones y soluciones  8 [1.00000115 1.00000163 1.00000005]\n"
          ],
          "name": "stdout"
        }
      ]
    },
    {
      "cell_type": "markdown",
      "metadata": {
        "id": "hSy6er-SbrVs",
        "colab_type": "text"
      },
      "source": [
        "#### Podemos comprobar que efectivamente son las soluiciones del sistema"
      ]
    },
    {
      "cell_type": "code",
      "metadata": {
        "id": "krWa1--7brVw",
        "colab_type": "code",
        "outputId": "eb692fa7-c2fa-4226-f89f-1f264877cfdb",
        "colab": {}
      },
      "source": [
        "F2([1.00000115, 1.00000163 ,1.00000005])"
      ],
      "execution_count": 0,
      "outputs": [
        {
          "output_type": "execute_result",
          "data": {
            "text/plain": [
              "array([3.21000398e-06, 5.00064872e-08, 5.61000216e-06])"
            ]
          },
          "metadata": {
            "tags": []
          },
          "execution_count": 65
        }
      ]
    },
    {
      "cell_type": "code",
      "metadata": {
        "id": "TMqKSmBCbrV6",
        "colab_type": "code",
        "colab": {}
      },
      "source": [
        ""
      ],
      "execution_count": 0,
      "outputs": []
    }
  ]
}