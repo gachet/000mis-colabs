{
  "nbformat": 4,
  "nbformat_minor": 0,
  "metadata": {
    "colab": {
      "name": "ejer-sympy.ipynb",
      "provenance": [],
      "collapsed_sections": [],
      "authorship_tag": "ABX9TyOLpSY0pExskevh2RBdbI0h",
      "include_colab_link": true
    },
    "kernelspec": {
      "name": "python3",
      "display_name": "Python 3"
    }
  },
  "cells": [
    {
      "cell_type": "markdown",
      "metadata": {
        "id": "view-in-github",
        "colab_type": "text"
      },
      "source": [
        "<a href=\"https://colab.research.google.com/github/gachet/mis-colabs/blob/master/ejer_sympy.ipynb\" target=\"_parent\"><img src=\"https://colab.research.google.com/assets/colab-badge.svg\" alt=\"Open In Colab\"/></a>"
      ]
    },
    {
      "cell_type": "code",
      "metadata": {
        "id": "uxuN7W0G9F9B",
        "colab_type": "code",
        "colab": {}
      },
      "source": [
        "import numpy as np\n",
        "import matplotlib.pyplot as plt\n",
        "%matplotlib inline\n",
        "from sympy import *\n",
        "init_printing(use_unicode=True)\n"
      ],
      "execution_count": 0,
      "outputs": []
    },
    {
      "cell_type": "code",
      "metadata": {
        "id": "W0ehk1XuOUaW",
        "colab_type": "code",
        "colab": {}
      },
      "source": [
        "from IPython.display import Math, HTML\n",
        "def load_mathjax_in_cell_output():\n",
        "  display(HTML(\"<script src='https://www.gstatic.com/external_hosted/\"\n",
        "               \"mathjax/latest/MathJax.js?config=default'></script>\"))\n",
        "get_ipython().events.register('pre_run_cell', load_mathjax_in_cell_output)"
      ],
      "execution_count": 0,
      "outputs": []
    },
    {
      "cell_type": "code",
      "metadata": {
        "id": "EMIvtRapqCFS",
        "colab_type": "code",
        "outputId": "a0e2257e-b985-457c-82ab-2f5fbc26e290",
        "colab": {
          "base_uri": "https://localhost:8080/",
          "height": 84
        }
      },
      "source": [
        "x=symbols('x')\n",
        "a=Integral(sin(x)*exp(x),x)\n",
        "a"
      ],
      "execution_count": 0,
      "outputs": [
        {
          "output_type": "display_data",
          "data": {
            "text/html": [
              "<script src='https://www.gstatic.com/external_hosted/mathjax/latest/MathJax.js?config=default'></script>"
            ],
            "text/plain": [
              "<IPython.core.display.HTML object>"
            ]
          },
          "metadata": {
            "tags": []
          }
        },
        {
          "output_type": "execute_result",
          "data": {
            "image/png": "[encoded data removed]",
            "text/latex": "$$\\int e^{x} \\sin{\\left (x \\right )}\\, dx$$",
            "text/plain": [
              "⌠             \n",
              "⎮  x          \n",
              "⎮ ℯ ⋅sin(x) dx\n",
              "⌡             "
            ]
          },
          "metadata": {
            "tags": []
          },
          "execution_count": 4
        }
      ]
    },
    {
      "cell_type": "code",
      "metadata": {
        "id": "mynrg8Z5Ol-e",
        "colab_type": "code",
        "outputId": "4ac16d6d-afa4-4304-f068-b2e8b157a6e8",
        "colab": {
          "base_uri": "https://localhost:8080/",
          "height": 87
        }
      },
      "source": [
        "x = symbols('x')\n",
        "Integral(sqrt(1 / x), x)"
      ],
      "execution_count": 0,
      "outputs": [
        {
          "output_type": "display_data",
          "data": {
            "text/html": [
              "<script src='https://www.gstatic.com/external_hosted/mathjax/latest/MathJax.js?config=default'></script>"
            ],
            "text/plain": [
              "<IPython.core.display.HTML object>"
            ]
          },
          "metadata": {
            "tags": []
          }
        },
        {
          "output_type": "execute_result",
          "data": {
            "image/png": "[encoded data removed]",
            "text/latex": "$$\\int \\sqrt{\\frac{1}{x}}\\, dx$$",
            "text/plain": [
              "⌠           \n",
              "⎮     ___   \n",
              "⎮    ╱ 1    \n",
              "⎮   ╱  ─  dx\n",
              "⎮ ╲╱   x    \n",
              "⌡           "
            ]
          },
          "metadata": {
            "tags": []
          },
          "execution_count": 5
        }
      ]
    },
    {
      "cell_type": "code",
      "metadata": {
        "id": "NBYGN7i7yxVy",
        "colab_type": "code",
        "outputId": "94e67230-72b1-46d8-9f9e-a29be4396151",
        "colab": {
          "base_uri": "https://localhost:8080/",
          "height": 64
        }
      },
      "source": [
        "\n",
        "T,t = symbols('T t')\n",
        "integrate(1/(T-20),T)"
      ],
      "execution_count": 0,
      "outputs": [
        {
          "output_type": "display_data",
          "data": {
            "text/html": [
              "<script src='https://www.gstatic.com/external_hosted/mathjax/latest/MathJax.js?config=default'></script>"
            ],
            "text/plain": [
              "<IPython.core.display.HTML object>"
            ]
          },
          "metadata": {
            "tags": []
          }
        },
        {
          "output_type": "execute_result",
          "data": {
            "image/png": "[encoded data removed]",
            "text/latex": "$$\\log{\\left (T - 20 \\right )}$$",
            "text/plain": [
              "log(T - 20)"
            ]
          },
          "metadata": {
            "tags": []
          },
          "execution_count": 6
        }
      ]
    },
    {
      "cell_type": "code",
      "metadata": {
        "id": "fMONfG9u2qWe",
        "colab_type": "code",
        "outputId": "c440ea71-01a1-47ab-d70f-4c1e62a5409b",
        "colab": {
          "base_uri": "https://localhost:8080/",
          "height": 64
        }
      },
      "source": [
        "from sympy.abc import theta, lamda,omega\n",
        "t = symbols('t')\n",
        "integrate(0.5* omega + 2*sin(theta), t)"
      ],
      "execution_count": 0,
      "outputs": [
        {
          "output_type": "display_data",
          "data": {
            "text/html": [
              "<script src='https://www.gstatic.com/external_hosted/mathjax/latest/MathJax.js?config=default'></script>"
            ],
            "text/plain": [
              "<IPython.core.display.HTML object>"
            ]
          },
          "metadata": {
            "tags": []
          }
        },
        {
          "output_type": "execute_result",
          "data": {
            "image/png": "[encoded data removed]",
            "text/latex": "$$t \\left(0.5 \\omega + 2 \\sin{\\left (\\theta \\right )}\\right)$$",
            "text/plain": [
              "t⋅(0.5⋅ω + 2⋅sin(θ))"
            ]
          },
          "metadata": {
            "tags": []
          },
          "execution_count": 7
        }
      ]
    },
    {
      "cell_type": "code",
      "metadata": {
        "id": "ex1sEltsceVV",
        "colab_type": "code",
        "outputId": "d70d3750-6bae-447f-c5cc-996472794f04",
        "colab": {
          "base_uri": "https://localhost:8080/",
          "height": 17
        }
      },
      "source": [
        "x = symbols('x')\n",
        "f, g = symbols('f g', cls=Function)"
      ],
      "execution_count": 0,
      "outputs": [
        {
          "output_type": "display_data",
          "data": {
            "text/html": [
              "<script src='https://www.gstatic.com/external_hosted/mathjax/latest/MathJax.js?config=default'></script>"
            ],
            "text/plain": [
              "<IPython.core.display.HTML object>"
            ]
          },
          "metadata": {
            "tags": []
          }
        }
      ]
    },
    {
      "cell_type": "code",
      "metadata": {
        "id": "XQogK_sIdLgK",
        "colab_type": "code",
        "outputId": "01af7ffb-b70b-42a7-e5f7-43938ef8dc0b",
        "colab": {
          "base_uri": "https://localhost:8080/",
          "height": 85
        }
      },
      "source": [
        "diffeq = Eq(f(x).diff(x, x) -2*f(x).diff(x) +f(x), sin(x))\n",
        "diffeq"
      ],
      "execution_count": 0,
      "outputs": [
        {
          "output_type": "display_data",
          "data": {
            "text/html": [
              "<script src='https://www.gstatic.com/external_hosted/mathjax/latest/MathJax.js?config=default'></script>"
            ],
            "text/plain": [
              "<IPython.core.display.HTML object>"
            ]
          },
          "metadata": {
            "tags": []
          }
        },
        {
          "output_type": "execute_result",
          "data": {
            "image/png": "[encoded data removed]",
            "text/latex": "$$f{\\left (x \\right )} - 2 \\frac{d}{d x} f{\\left (x \\right )} + \\frac{d^{2}}{d x^{2}}  f{\\left (x \\right )} = \\sin{\\left (x \\right )}$$",
            "text/plain": [
              "                      2               \n",
              "         d           d                \n",
              "f(x) - 2⋅──(f(x)) + ───(f(x)) = sin(x)\n",
              "         dx           2               \n",
              "                    dx                "
            ]
          },
          "metadata": {
            "tags": []
          },
          "execution_count": 10
        }
      ]
    },
    {
      "cell_type": "code",
      "metadata": {
        "id": "cwfmWeRIdLzk",
        "colab_type": "code",
        "outputId": "b53f69ee-8e10-49a3-d76d-de627d74e241",
        "colab": {
          "base_uri": "https://localhost:8080/",
          "height": 81
        }
      },
      "source": [
        "t = symbols ( 't')\n",
        "x = Function('x')\n",
        "# Solve the equation x''(t) - 2x'(t) + x(t) = sin(t).\n",
        "ode = x(t).diff(t, t) - 2*x(t).diff(t) + x(t) - sin(t)\n",
        "dsolve(ode, x(t))\n"
      ],
      "execution_count": 0,
      "outputs": [
        {
          "output_type": "display_data",
          "data": {
            "text/html": [
              "<script src='https://www.gstatic.com/external_hosted/mathjax/latest/MathJax.js?config=default'></script>"
            ],
            "text/plain": [
              "<IPython.core.display.HTML object>"
            ]
          },
          "metadata": {
            "tags": []
          }
        },
        {
          "output_type": "execute_result",
          "data": {
            "image/png": "[encoded data removed]",
            "text/latex": "$$x{\\left (t \\right )} = \\left(C_{1} + C_{2} t\\right) e^{t} + \\frac{1}{2} \\cos{\\left (t \\right )}$$",
            "text/plain": [
              "                    t   cos(t)\n",
              "x(t) = (C₁ + C₂⋅t)⋅ℯ  + ──────\n",
              "                          2   "
            ]
          },
          "metadata": {
            "tags": []
          },
          "execution_count": 14
        }
      ]
    },
    {
      "cell_type": "markdown",
      "metadata": {
        "id": "tDaCWaSkMplo",
        "colab_type": "text"
      },
      "source": [
        "Ejemplo 1\n",
        "$$\n",
        "y' + 4y = x^2 \\quad y(0) = 1\n",
        "$$\n",
        "solución analítica es :\n",
        "$$\n",
        "y = \\frac{31}{32}e^{-4x}+\\frac{1}{4}x^2-\\frac{1}{8}x+\\frac{1}{32}\n",
        "$$"
      ]
    },
    {
      "cell_type": "code",
      "metadata": {
        "id": "EFZ5S2skDdpI",
        "colab_type": "code",
        "outputId": "fabe9dab-dc7d-4221-9ede-7f2c532a3562",
        "colab": {
          "base_uri": "https://localhost:8080/",
          "height": 17
        }
      },
      "source": [
        "\n",
        "x = symbols ('x')\n",
        "y = Function('y')\n",
        "# Solve the equation x''(t) - 2x'(t) + x(t) = sin(t).\n",
        "ode = y(x).diff(x) - x**2+4*y(x)\n",
        "sol = dsolve(ode, y(x))\n"
      ],
      "execution_count": 0,
      "outputs": [
        {
          "output_type": "display_data",
          "data": {
            "text/html": [
              "<script src='https://www.gstatic.com/external_hosted/mathjax/latest/MathJax.js?config=default'></script>"
            ],
            "text/plain": [
              "<IPython.core.display.HTML object>"
            ]
          },
          "metadata": {
            "tags": []
          }
        }
      ]
    },
    {
      "cell_type": "code",
      "metadata": {
        "id": "6ntqRyuhLwNW",
        "colab_type": "code",
        "outputId": "f0c4a934-1308-4a28-cbb3-285a35949b80",
        "colab": {
          "base_uri": "https://localhost:8080/",
          "height": 84
        }
      },
      "source": [
        "constants = solve([sol.rhs.subs(x,0) - 1])\n",
        "Cl = symbols('C1')\n",
        "sol = sol.subs(constants)\n",
        "simplify(sol)"
      ],
      "execution_count": 0,
      "outputs": [
        {
          "output_type": "display_data",
          "data": {
            "text/html": [
              "<script src='https://www.gstatic.com/external_hosted/mathjax/latest/MathJax.js?config=default'></script>"
            ],
            "text/plain": [
              "<IPython.core.display.HTML object>"
            ]
          },
          "metadata": {
            "tags": []
          }
        },
        {
          "output_type": "execute_result",
          "data": {
            "image/png": "[encoded data removed]",
            "text/latex": "$$y{\\left (x \\right )} = \\frac{x^{2}}{4} - \\frac{x}{8} + \\frac{1}{32} + \\frac{31}{32} e^{- 4 x}$$",
            "text/plain": [
              "        2                -4⋅x\n",
              "       x    x   1    31⋅ℯ    \n",
              "y(x) = ── - ─ + ── + ────────\n",
              "       4    8   32      32   "
            ]
          },
          "metadata": {
            "tags": []
          },
          "execution_count": 48
        }
      ]
    },
    {
      "cell_type": "code",
      "metadata": {
        "id": "qHwPusRfSAoY",
        "colab_type": "code",
        "outputId": "6d9af29d-c8d9-4281-b5cc-00f044d417db",
        "colab": {
          "base_uri": "https://localhost:8080/",
          "height": 17
        }
      },
      "source": [
        "func0 = lambdify(x,sol.rhs,'numpy')"
      ],
      "execution_count": 0,
      "outputs": [
        {
          "output_type": "display_data",
          "data": {
            "text/html": [
              "<script src='https://www.gstatic.com/external_hosted/mathjax/latest/MathJax.js?config=default'></script>"
            ],
            "text/plain": [
              "<IPython.core.display.HTML object>"
            ]
          },
          "metadata": {
            "tags": []
          }
        }
      ]
    },
    {
      "cell_type": "code",
      "metadata": {
        "id": "SWuBw0RlSH5y",
        "colab_type": "code",
        "outputId": "16d4aa04-97e8-4dda-c86f-420ba15de7a9",
        "colab": {
          "base_uri": "https://localhost:8080/",
          "height": 281
        }
      },
      "source": [
        "x_graf = np.linspace(0,0.6,100)\n",
        "y_graf = func0(x_graf)\n",
        "\n",
        "#plt.figure(figsize = (5.5,2) )\n",
        "bottom, top = -0.5,1.5  # return the current ylim\n",
        "plt.ylim((bottom, top))   # set the ylim to bottom, top\n",
        "\n",
        "plt.xticks(np.arange(0, 0.6, 0.1))\n",
        "plt.grid(True)\n",
        "plt.axhline(0, color='black')\n",
        "plt.axvline(0, color='black')\n",
        "plt.title('Método de Euler')\n",
        "plt.plot(x_graf,y_graf)\n",
        "\n",
        "plt.show()"
      ],
      "execution_count": 0,
      "outputs": [
        {
          "output_type": "display_data",
          "data": {
            "text/html": [
              "<script src='https://www.gstatic.com/external_hosted/mathjax/latest/MathJax.js?config=default'></script>"
            ],
            "text/plain": [
              "<IPython.core.display.HTML object>"
            ]
          },
          "metadata": {
            "tags": []
          }
        },
        {
          "output_type": "display_data",
          "data": {
            "image/png": "[encoded data removed]",
            "text/plain": [
              "<Figure size 432x288 with 1 Axes>"
            ]
          },
          "metadata": {
            "tags": [],
            "needs_background": "light"
          }
        }
      ]
    },
    {
      "cell_type": "markdown",
      "metadata": {
        "id": "Q--FR6iWO1vv",
        "colab_type": "text"
      },
      "source": [
        "Ejemplo 2\n",
        "$$\n",
        "y'' = -0.1y'-x \\quad y(0) = 0 \\quad y'(0) = 1\n",
        "$$\n",
        "solución analítica:\n",
        "$$\n",
        "y = 100x-5x^2+990(e^{-0.1x}-1)\n",
        "$$"
      ]
    },
    {
      "cell_type": "code",
      "metadata": {
        "id": "wBcfkzUWOseu",
        "colab_type": "code",
        "outputId": "4b6648af-fa4f-435c-8542-07c1fd28d31d",
        "colab": {
          "base_uri": "https://localhost:8080/",
          "height": 85
        }
      },
      "source": [
        "x = symbols ('x')\n",
        "y = Function('y')\n",
        "# Solve the equation x''(t) - 2x'(t) + x(t) = sin(t).\n",
        "ode = y(x).diff(x,x) + x + 0.1* (y(x).diff(x))\n",
        "sol1 = dsolve(ode, y(x))\n",
        "Eq(ode)"
      ],
      "execution_count": 0,
      "outputs": [
        {
          "output_type": "display_data",
          "data": {
            "text/html": [
              "<script src='https://www.gstatic.com/external_hosted/mathjax/latest/MathJax.js?config=default'></script>"
            ],
            "text/plain": [
              "<IPython.core.display.HTML object>"
            ]
          },
          "metadata": {
            "tags": []
          }
        },
        {
          "output_type": "execute_result",
          "data": {
            "image/png": "[encoded data removed]",
            "text/latex": "$$x + 0.1 \\frac{d}{d x} y{\\left (x \\right )} + \\frac{d^{2}}{d x^{2}}  y{\\left (x \\right )} = 0$$",
            "text/plain": [
              "                     2          \n",
              "        d           d           \n",
              "x + 0.1⋅──(y(x)) + ───(y(x)) = 0\n",
              "        dx           2          \n",
              "                   dx           "
            ]
          },
          "metadata": {
            "tags": []
          },
          "execution_count": 15
        }
      ]
    },
    {
      "cell_type": "code",
      "metadata": {
        "id": "oqj511MoOsot",
        "colab_type": "code",
        "outputId": "7395e6ec-91bb-4d81-c59e-a80f579979da",
        "colab": {
          "base_uri": "https://localhost:8080/",
          "height": 86
        }
      },
      "source": [
        "constants = solve([sol.rhs.subs(x,0) - 0, sol.rhs.diff(x,1).subs(x,0)-1])\n",
        "Cl = symbols('C1, C2')\n",
        "sol = sol.subs(constants)\n",
        "simplify(sol)"
      ],
      "execution_count": 0,
      "outputs": [
        {
          "output_type": "display_data",
          "data": {
            "text/html": [
              "<script src='https://www.gstatic.com/external_hosted/mathjax/latest/MathJax.js?config=default'></script>"
            ],
            "text/plain": [
              "<IPython.core.display.HTML object>"
            ]
          },
          "metadata": {
            "tags": []
          }
        },
        {
          "output_type": "execute_result",
          "data": {
            "image/png": "[encoded data removed]",
            "text/latex": "$$y{\\left (x \\right )} = - 5.0 x^{2} + 100.0 x - 990.0 + \\frac{990.0}{\\sqrt[10]{e^{x}}}$$",
            "text/plain": [
              "              2                      990.0 \n",
              "y(x) = - 5.0⋅x  + 100.0⋅x - 990.0 + ───────\n",
              "                                       ____\n",
              "                                    10╱  x \n",
              "                                    ╲╱  ℯ  "
            ]
          },
          "metadata": {
            "tags": []
          },
          "execution_count": 41
        }
      ]
    },
    {
      "cell_type": "code",
      "metadata": {
        "id": "y1S9BzzrIZLe",
        "colab_type": "code",
        "outputId": "e968e708-b722-4630-b249-ad0864c932dd",
        "colab": {
          "base_uri": "https://localhost:8080/",
          "height": 36
        }
      },
      "source": [
        "checkodesol(sol1, sol)   "
      ],
      "execution_count": 0,
      "outputs": [
        {
          "output_type": "display_data",
          "data": {
            "text/html": [
              "<script src='https://www.gstatic.com/external_hosted/mathjax/latest/MathJax.js?config=default'></script>"
            ],
            "text/plain": [
              "<IPython.core.display.HTML object>"
            ]
          },
          "metadata": {
            "tags": []
          }
        },
        {
          "output_type": "execute_result",
          "data": {
            "text/plain": [
              "(True, 0)"
            ]
          },
          "metadata": {
            "tags": []
          },
          "execution_count": 16
        }
      ]
    },
    {
      "cell_type": "code",
      "metadata": {
        "id": "cand9t_WRKJr",
        "colab_type": "code",
        "outputId": "07c7846f-2fb8-4ef0-a488-fe592b92a993",
        "colab": {
          "base_uri": "https://localhost:8080/",
          "height": 17
        }
      },
      "source": [
        "func = lambdify(x,sol.rhs,'numpy')"
      ],
      "execution_count": 0,
      "outputs": [
        {
          "output_type": "display_data",
          "data": {
            "text/html": [
              "<script src='https://www.gstatic.com/external_hosted/mathjax/latest/MathJax.js?config=default'></script>"
            ],
            "text/plain": [
              "<IPython.core.display.HTML object>"
            ]
          },
          "metadata": {
            "tags": []
          }
        }
      ]
    },
    {
      "cell_type": "code",
      "metadata": {
        "id": "2hEGnct-RQzn",
        "colab_type": "code",
        "outputId": "21ba5753-ed94-46dc-8d4c-12ee573ec872",
        "colab": {
          "base_uri": "https://localhost:8080/",
          "height": 281
        }
      },
      "source": [
        "x_graf = np.linspace(0,2,100)\n",
        "y_graf = func(x_graf)\n",
        "bottom, top = -0.5,1  # return the current ylim\n",
        "plt.ylim((bottom, top))   # set the ylim to bottom, top\n",
        "\n",
        "plt.xticks(np.arange(0,2, 0.1))\n",
        "plt.grid(True)\n",
        "plt.axhline(0, color='black')\n",
        "plt.axvline(0, color='black')\n",
        "plt.title('función')\n",
        "plt.plot(x_graf,y_graf)\n",
        "plt.show()"
      ],
      "execution_count": 0,
      "outputs": [
        {
          "output_type": "display_data",
          "data": {
            "text/html": [
              "<script src='https://www.gstatic.com/external_hosted/mathjax/latest/MathJax.js?config=default'></script>"
            ],
            "text/plain": [
              "<IPython.core.display.HTML object>"
            ]
          },
          "metadata": {
            "tags": []
          }
        },
        {
          "output_type": "display_data",
          "data": {
            "image/png": "[encoded data removed]",
            "text/plain": [
              "<Figure size 432x288 with 1 Axes>"
            ]
          },
          "metadata": {
            "tags": [],
            "needs_background": "light"
          }
        }
      ]
    },
    {
      "cell_type": "markdown",
      "metadata": {
        "id": "ZfU5xdza7v1V",
        "colab_type": "text"
      },
      "source": [
        "Ejemplo 3\n",
        " $$\n",
        "    y'' = g - \\frac{C_D}{m}y'^2\n",
        "    $$\n",
        "    \n",
        "Determinar el tiempo cuando ha descendido 500 m. Utilizar $g=9.8066 \\,\\, m/s^2$, $C_D= 0.2028\\,\\, kg/m $ y $m=80\\,\\, kg$"
      ]
    },
    {
      "cell_type": "code",
      "metadata": {
        "id": "pvzwWlrTJhXZ",
        "colab_type": "code",
        "colab": {}
      },
      "source": [
        ""
      ],
      "execution_count": 0,
      "outputs": []
    },
    {
      "cell_type": "code",
      "metadata": {
        "id": "SStK2iAb72fB",
        "colab_type": "code",
        "outputId": "6b61920f-32b8-405f-92d5-3c3c2bcb1e86",
        "colab": {
          "base_uri": "https://localhost:8080/",
          "height": 91
        }
      },
      "source": [
        "t = symbols ('t')\n",
        "y = Function('y')\n",
        "# Solve the equation x''(t) - 2x'(t) + x(t) = sin(t).\n",
        "ode = y(t).diff(t,t) - 9.8066 + (0.2028/80) * (y(t).diff(t))**2 \n",
        "Eq(ode)\n",
        "#sol = dsolve(ode, y(t))"
      ],
      "execution_count": 0,
      "outputs": [
        {
          "output_type": "display_data",
          "data": {
            "text/html": [
              "<script src='https://www.gstatic.com/external_hosted/mathjax/latest/MathJax.js?config=default'></script>"
            ],
            "text/plain": [
              "<IPython.core.display.HTML object>"
            ]
          },
          "metadata": {
            "tags": []
          }
        },
        {
          "output_type": "execute_result",
          "data": {
            "image/png": "[encoded data removed]",
            "text/latex": "$$0.002535 \\left(\\frac{d}{d t} y{\\left (t \\right )}\\right)^{2} + \\frac{d^{2}}{d t^{2}}  y{\\left (t \\right )} - 9.8066 = 0$$",
            "text/plain": [
              "                   2     2                   \n",
              "         ⎛d       ⎞     d                    \n",
              "0.002535⋅⎜──(y(t))⎟  + ───(y(t)) - 9.8066 = 0\n",
              "         ⎝dt      ⎠      2                   \n",
              "                       dt                    "
            ]
          },
          "metadata": {
            "tags": []
          },
          "execution_count": 29
        }
      ]
    },
    {
      "cell_type": "code",
      "metadata": {
        "id": "kfxwU_k7722w",
        "colab_type": "code",
        "colab": {}
      },
      "source": [
        "constants = solve([sol.rhs.subs(x,0) - 0, sol.rhs.diff(x,1).subs(x,0)-0])\n",
        "Cl = symbols('C1, C2')\n",
        "sol = sol.subs(constants)\n",
        "simplify(sol)"
      ],
      "execution_count": 0,
      "outputs": []
    },
    {
      "cell_type": "code",
      "metadata": {
        "id": "CkTLqSbzKvYr",
        "colab_type": "code",
        "colab": {}
      },
      "source": [
        ""
      ],
      "execution_count": 0,
      "outputs": []
    },
    {
      "cell_type": "markdown",
      "metadata": {
        "id": "Fhgi7eJfJnoM",
        "colab_type": "text"
      },
      "source": [
        "Velocidad terminal $g+u'(t) = k * u(t)^2$"
      ]
    },
    {
      "cell_type": "code",
      "metadata": {
        "id": "0T9K09DTKkaS",
        "colab_type": "code",
        "colab": {}
      },
      "source": [
        ""
      ],
      "execution_count": 0,
      "outputs": []
    },
    {
      "cell_type": "code",
      "metadata": {
        "id": "RiDDqPlo73AY",
        "colab_type": "code",
        "outputId": "d6c7497e-bd3a-4c06-8c3a-40f379fec3c9",
        "colab": {
          "base_uri": "https://localhost:8080/",
          "height": 82
        }
      },
      "source": [
        "g, k ,t= symbols('g, k, t')\n",
        "u = Function('u')\n",
        "# Solve the equation x''(t) - 2x'(t) + x(t) = sin(t).\n",
        "ode = u(t).diff(t) + g - k * u(t)**2 \n",
        "Eq(ode)\n"
      ],
      "execution_count": 0,
      "outputs": [
        {
          "output_type": "display_data",
          "data": {
            "text/html": [
              "<script src='https://www.gstatic.com/external_hosted/mathjax/latest/MathJax.js?config=default'></script>"
            ],
            "text/plain": [
              "<IPython.core.display.HTML object>"
            ]
          },
          "metadata": {
            "tags": []
          }
        },
        {
          "output_type": "display_data",
          "data": {
            "text/html": [
              "<script src='https://www.gstatic.com/external_hosted/mathjax/latest/MathJax.js?config=default'></script>"
            ],
            "text/plain": [
              "<IPython.core.display.HTML object>"
            ]
          },
          "metadata": {
            "tags": []
          }
        },
        {
          "output_type": "execute_result",
          "data": {
            "image/png": "[encoded data removed]",
            "text/latex": "$$g - k u^{2}{\\left (t \\right )} + \\frac{d}{d t} u{\\left (t \\right )} = 0$$",
            "text/plain": [
              "       2      d           \n",
              "g - k⋅u (t) + ──(u(t)) = 0\n",
              "              dt          "
            ]
          },
          "metadata": {
            "tags": []
          },
          "execution_count": 40
        }
      ]
    },
    {
      "cell_type": "code",
      "metadata": {
        "id": "YfE7EuTa73ER",
        "colab_type": "code",
        "outputId": "99ddbc84-0080-4711-9f1e-790621610eb2",
        "colab": {
          "base_uri": "https://localhost:8080/",
          "height": 52
        }
      },
      "source": [
        "sol = dsolve(ode, u(t))\n",
        "sol\n",
        "simplify(sol)"
      ],
      "execution_count": 0,
      "outputs": [
        {
          "output_type": "display_data",
          "data": {
            "text/html": [
              "<script src='https://www.gstatic.com/external_hosted/mathjax/latest/MathJax.js?config=default'></script>"
            ],
            "text/plain": [
              "<IPython.core.display.HTML object>"
            ]
          },
          "metadata": {
            "tags": []
          }
        },
        {
          "output_type": "display_data",
          "data": {
            "text/html": [
              "<script src='https://www.gstatic.com/external_hosted/mathjax/latest/MathJax.js?config=default'></script>"
            ],
            "text/plain": [
              "<IPython.core.display.HTML object>"
            ]
          },
          "metadata": {
            "tags": []
          }
        },
        {
          "output_type": "execute_result",
          "data": {
            "image/png": "[encoded data removed]",
            "text/latex": "$$C_{1} = t - \\frac{\\sqrt{\\frac{1}{g k}}}{2} \\log{\\left (- g \\sqrt{\\frac{1}{g k}} + u{\\left (t \\right )} \\right )} + \\frac{\\sqrt{\\frac{1}{g k}}}{2} \\log{\\left (g \\sqrt{\\frac{1}{g k}} + u{\\left (t \\right )} \\right )}$$",
            "text/plain": [
              "             _____    ⎛        _____       ⎞       _____    ⎛      _____      \n",
              "            ╱  1      ⎜       ╱  1         ⎟      ╱  1      ⎜     ╱  1        \n",
              "           ╱  ─── ⋅log⎜- g⋅  ╱  ───  + u(t)⎟     ╱  ─── ⋅log⎜g⋅  ╱  ───  + u(t\n",
              "         ╲╱   g⋅k     ⎝    ╲╱   g⋅k        ⎠   ╲╱   g⋅k     ⎝  ╲╱   g⋅k       \n",
              "C₁ = t - ─────────────────────────────────── + ───────────────────────────────\n",
              "                          2                                    2              \n",
              "\n",
              " ⎞\n",
              " ⎟\n",
              ")⎟\n",
              " ⎠\n",
              "──\n",
              "  "
            ]
          },
          "metadata": {
            "tags": []
          },
          "execution_count": 42
        }
      ]
    },
    {
      "cell_type": "markdown",
      "metadata": {
        "id": "QeSHnlUSLnvd",
        "colab_type": "text"
      },
      "source": [
        "$$C_{1} = t - \\frac{\\sqrt{\\frac{1}{g k}}}{2} \\log{\\left (- g \\sqrt{\\frac{1}{g k}} + u{\\left (t \\right )} \\right )} + \\frac{\\sqrt{\\frac{1}{g k}}}{2} \\log{\\left (g \\sqrt{\\frac{1}{g k}} + u{\\left (t \\right )} \\right )}$$"
      ]
    },
    {
      "cell_type": "code",
      "metadata": {
        "id": "q8JJjtA5MbKz",
        "colab_type": "code",
        "outputId": "a5e367c3-5596-4933-8227-0d8cf6a54b6b",
        "colab": {
          "base_uri": "https://localhost:8080/",
          "height": 82
        }
      },
      "source": [
        "g, k = symbols('g, k')                                                                                                                \n",
        "u = Function('u')                                                                                                                     \n",
        "t = Symbol('t')                                                                                                                       \n",
        "eq = Eq(g + u(t).diff(t), k * u(t)**2)                                                                                                \n",
        "eq                                                                                                                                    \n",
        " "
      ],
      "execution_count": 0,
      "outputs": [
        {
          "output_type": "display_data",
          "data": {
            "text/html": [
              "<script src='https://www.gstatic.com/external_hosted/mathjax/latest/MathJax.js?config=default'></script>"
            ],
            "text/plain": [
              "<IPython.core.display.HTML object>"
            ]
          },
          "metadata": {
            "tags": []
          }
        },
        {
          "output_type": "display_data",
          "data": {
            "text/html": [
              "<script src='https://www.gstatic.com/external_hosted/mathjax/latest/MathJax.js?config=default'></script>"
            ],
            "text/plain": [
              "<IPython.core.display.HTML object>"
            ]
          },
          "metadata": {
            "tags": []
          }
        },
        {
          "output_type": "execute_result",
          "data": {
            "image/png": "[encoded data removed]",
            "text/latex": "$$g + \\frac{d}{d t} u{\\left (t \\right )} = k u^{2}{\\left (t \\right )}$$",
            "text/plain": [
              "    d             2   \n",
              "g + ──(u(t)) = k⋅u (t)\n",
              "    dt                "
            ]
          },
          "metadata": {
            "tags": []
          },
          "execution_count": 43
        }
      ]
    },
    {
      "cell_type": "code",
      "metadata": {
        "id": "_b_rUXUSMbVj",
        "colab_type": "code",
        "outputId": "e9204e2e-a7cd-4838-b37c-b5b718b64ad3",
        "colab": {
          "base_uri": "https://localhost:8080/",
          "height": 34
        }
      },
      "source": [
        "sol1 = dsolve(eq, hint='lie_group')   \n",
        "sol1 "
      ],
      "execution_count": 0,
      "outputs": [
        {
          "output_type": "display_data",
          "data": {
            "text/html": [
              "<script src='https://www.gstatic.com/external_hosted/mathjax/latest/MathJax.js?config=default'></script>"
            ],
            "text/plain": [
              "<IPython.core.display.HTML object>"
            ]
          },
          "metadata": {
            "tags": []
          }
        },
        {
          "output_type": "display_data",
          "data": {
            "text/html": [
              "<script src='https://www.gstatic.com/external_hosted/mathjax/latest/MathJax.js?config=default'></script>"
            ],
            "text/plain": [
              "<IPython.core.display.HTML object>"
            ]
          },
          "metadata": {
            "tags": []
          }
        },
        {
          "output_type": "execute_result",
          "data": {
            "image/png": "[encoded data removed]",
            "text/latex": "$$u{\\left (t \\right )} = \\frac{\\sqrt{g}}{\\sqrt{k} \\tanh{\\left (\\sqrt{g} \\sqrt{k} \\left(C_{1} - t\\right) \\right )}}$$",
            "text/plain": [
              "                  √g          \n",
              "u(t) = ───────────────────────\n",
              "       √k⋅tanh(√g⋅√k⋅(C₁ - t))"
            ]
          },
          "metadata": {
            "tags": []
          },
          "execution_count": 56
        }
      ]
    },
    {
      "cell_type": "code",
      "metadata": {
        "id": "JN7ZFCAsMbga",
        "colab_type": "code",
        "outputId": "cb36bd3e-efc3-4c85-8234-107ed6546a48",
        "colab": {
          "base_uri": "https://localhost:8080/",
          "height": 366
        }
      },
      "source": [
        "checkodesol(sol1, sol) "
      ],
      "execution_count": 0,
      "outputs": [
        {
          "output_type": "display_data",
          "data": {
            "text/html": [
              "<script src='https://www.gstatic.com/external_hosted/mathjax/latest/MathJax.js?config=default'></script>"
            ],
            "text/plain": [
              "<IPython.core.display.HTML object>"
            ]
          },
          "metadata": {
            "tags": []
          }
        },
        {
          "output_type": "display_data",
          "data": {
            "text/html": [
              "<script src='https://www.gstatic.com/external_hosted/mathjax/latest/MathJax.js?config=default'></script>"
            ],
            "text/plain": [
              "<IPython.core.display.HTML object>"
            ]
          },
          "metadata": {
            "tags": []
          }
        },
        {
          "output_type": "error",
          "ename": "NotImplementedError",
          "evalue": "ignored",
          "traceback": [
            "\u001b[0;31m---------------------------------------------------------------------------\u001b[0m",
            "\u001b[0;31mNotImplementedError\u001b[0m                       Traceback (most recent call last)",
            "\u001b[0;32m<ipython-input-57-1437c7e689de>\u001b[0m in \u001b[0;36m<module>\u001b[0;34m()\u001b[0m\n\u001b[0;32m----> 1\u001b[0;31m \u001b[0mcheckodesol\u001b[0m\u001b[0;34m(\u001b[0m\u001b[0msol1\u001b[0m\u001b[0;34m,\u001b[0m \u001b[0msol\u001b[0m\u001b[0;34m)\u001b[0m\u001b[0;34m\u001b[0m\u001b[0;34m\u001b[0m\u001b[0m\n\u001b[0m",
            "\u001b[0;32m/usr/local/lib/python3.6/dist-packages/sympy/solvers/ode.py\u001b[0m in \u001b[0;36mcheckodesol\u001b[0;34m(ode, sol, func, order, solve_for_func)\u001b[0m\n\u001b[1;32m   2243\u001b[0m     \u001b[0msolved\u001b[0m \u001b[0;34m=\u001b[0m \u001b[0msol\u001b[0m\u001b[0;34m.\u001b[0m\u001b[0mlhs\u001b[0m \u001b[0;34m==\u001b[0m \u001b[0mfunc\u001b[0m \u001b[0;32mand\u001b[0m \u001b[0;32mnot\u001b[0m \u001b[0msol\u001b[0m\u001b[0;34m.\u001b[0m\u001b[0mrhs\u001b[0m\u001b[0;34m.\u001b[0m\u001b[0mhas\u001b[0m\u001b[0;34m(\u001b[0m\u001b[0mfunc\u001b[0m\u001b[0;34m)\u001b[0m\u001b[0;34m\u001b[0m\u001b[0;34m\u001b[0m\u001b[0m\n\u001b[1;32m   2244\u001b[0m     \u001b[0;32mif\u001b[0m \u001b[0msolve_for_func\u001b[0m \u001b[0;32mand\u001b[0m \u001b[0;32mnot\u001b[0m \u001b[0msolved\u001b[0m\u001b[0;34m:\u001b[0m\u001b[0;34m\u001b[0m\u001b[0;34m\u001b[0m\u001b[0m\n\u001b[0;32m-> 2245\u001b[0;31m         \u001b[0mrhs\u001b[0m \u001b[0;34m=\u001b[0m \u001b[0msolve\u001b[0m\u001b[0;34m(\u001b[0m\u001b[0msol\u001b[0m\u001b[0;34m,\u001b[0m \u001b[0mfunc\u001b[0m\u001b[0;34m)\u001b[0m\u001b[0;34m\u001b[0m\u001b[0;34m\u001b[0m\u001b[0m\n\u001b[0m\u001b[1;32m   2246\u001b[0m         \u001b[0;32mif\u001b[0m \u001b[0mrhs\u001b[0m\u001b[0;34m:\u001b[0m\u001b[0;34m\u001b[0m\u001b[0;34m\u001b[0m\u001b[0m\n\u001b[1;32m   2247\u001b[0m             \u001b[0meqs\u001b[0m \u001b[0;34m=\u001b[0m \u001b[0;34m[\u001b[0m\u001b[0mEq\u001b[0m\u001b[0;34m(\u001b[0m\u001b[0mfunc\u001b[0m\u001b[0;34m,\u001b[0m \u001b[0mt\u001b[0m\u001b[0;34m)\u001b[0m \u001b[0;32mfor\u001b[0m \u001b[0mt\u001b[0m \u001b[0;32min\u001b[0m \u001b[0mrhs\u001b[0m\u001b[0;34m]\u001b[0m\u001b[0;34m\u001b[0m\u001b[0;34m\u001b[0m\u001b[0m\n",
            "\u001b[0;32m/usr/local/lib/python3.6/dist-packages/sympy/solvers/solvers.py\u001b[0m in \u001b[0;36msolve\u001b[0;34m(f, *symbols, **flags)\u001b[0m\n\u001b[1;32m   1063\u001b[0m     \u001b[0;31m###########################################################################\u001b[0m\u001b[0;34m\u001b[0m\u001b[0;34m\u001b[0m\u001b[0;34m\u001b[0m\u001b[0m\n\u001b[1;32m   1064\u001b[0m     \u001b[0;32mif\u001b[0m \u001b[0mbare_f\u001b[0m\u001b[0;34m:\u001b[0m\u001b[0;34m\u001b[0m\u001b[0;34m\u001b[0m\u001b[0m\n\u001b[0;32m-> 1065\u001b[0;31m         \u001b[0msolution\u001b[0m \u001b[0;34m=\u001b[0m \u001b[0m_solve\u001b[0m\u001b[0;34m(\u001b[0m\u001b[0mf\u001b[0m\u001b[0;34m[\u001b[0m\u001b[0;36m0\u001b[0m\u001b[0;34m]\u001b[0m\u001b[0;34m,\u001b[0m \u001b[0;34m*\u001b[0m\u001b[0msymbols\u001b[0m\u001b[0;34m,\u001b[0m \u001b[0;34m**\u001b[0m\u001b[0mflags\u001b[0m\u001b[0;34m)\u001b[0m\u001b[0;34m\u001b[0m\u001b[0;34m\u001b[0m\u001b[0m\n\u001b[0m\u001b[1;32m   1066\u001b[0m     \u001b[0;32melse\u001b[0m\u001b[0;34m:\u001b[0m\u001b[0;34m\u001b[0m\u001b[0;34m\u001b[0m\u001b[0m\n\u001b[1;32m   1067\u001b[0m         \u001b[0msolution\u001b[0m \u001b[0;34m=\u001b[0m \u001b[0m_solve_system\u001b[0m\u001b[0;34m(\u001b[0m\u001b[0mf\u001b[0m\u001b[0;34m,\u001b[0m \u001b[0msymbols\u001b[0m\u001b[0;34m,\u001b[0m \u001b[0;34m**\u001b[0m\u001b[0mflags\u001b[0m\u001b[0;34m)\u001b[0m\u001b[0;34m\u001b[0m\u001b[0;34m\u001b[0m\u001b[0m\n",
            "\u001b[0;32m/usr/local/lib/python3.6/dist-packages/sympy/solvers/solvers.py\u001b[0m in \u001b[0;36m_solve\u001b[0;34m(f, *symbols, **flags)\u001b[0m\n\u001b[1;32m   1632\u001b[0m \u001b[0;34m\u001b[0m\u001b[0m\n\u001b[1;32m   1633\u001b[0m     \u001b[0;32mif\u001b[0m \u001b[0mresult\u001b[0m \u001b[0;32mis\u001b[0m \u001b[0;32mFalse\u001b[0m\u001b[0;34m:\u001b[0m\u001b[0;34m\u001b[0m\u001b[0;34m\u001b[0m\u001b[0m\n\u001b[0;32m-> 1634\u001b[0;31m         \u001b[0;32mraise\u001b[0m \u001b[0mNotImplementedError\u001b[0m\u001b[0;34m(\u001b[0m\u001b[0;34m'\\n'\u001b[0m\u001b[0;34m.\u001b[0m\u001b[0mjoin\u001b[0m\u001b[0;34m(\u001b[0m\u001b[0;34m[\u001b[0m\u001b[0mmsg\u001b[0m\u001b[0;34m,\u001b[0m \u001b[0mnot_impl_msg\u001b[0m \u001b[0;34m%\u001b[0m \u001b[0mf\u001b[0m\u001b[0;34m]\u001b[0m\u001b[0;34m)\u001b[0m\u001b[0;34m)\u001b[0m\u001b[0;34m\u001b[0m\u001b[0;34m\u001b[0m\u001b[0m\n\u001b[0m\u001b[1;32m   1635\u001b[0m \u001b[0;34m\u001b[0m\u001b[0m\n\u001b[1;32m   1636\u001b[0m     \u001b[0;32mif\u001b[0m \u001b[0mflags\u001b[0m\u001b[0;34m.\u001b[0m\u001b[0mget\u001b[0m\u001b[0;34m(\u001b[0m\u001b[0;34m'simplify'\u001b[0m\u001b[0;34m,\u001b[0m \u001b[0;32mTrue\u001b[0m\u001b[0;34m)\u001b[0m\u001b[0;34m:\u001b[0m\u001b[0;34m\u001b[0m\u001b[0;34m\u001b[0m\u001b[0m\n",
            "\u001b[0;31mNotImplementedError\u001b[0m: multiple generators [log(_X0 + g*sqrt(1/(g*k))), log(_X0 - g*sqrt(1/(g*k)))]\nNo algorithms are implemented to solve equation -C1 + t - sqrt(1/(g*k))*log(_X0 - g*sqrt(1/(g*k)))/2 + sqrt(1/(g*k))*log(_X0 + g*sqrt(1/(g*k)))/2"
          ]
        }
      ]
    },
    {
      "cell_type": "code",
      "metadata": {
        "id": "T5L28nfq65BC",
        "colab_type": "code",
        "outputId": "02d06725-cd71-4894-ba5a-a446aa3d2473",
        "colab": {
          "base_uri": "https://localhost:8080/",
          "height": 17
        }
      },
      "source": [
        "def pend(y, t):\n",
        "    b = 0.25\n",
        "    c = 5.0\n",
        "    return np.array([y[1], -b*y[1] - c*np.sin(y[0])])"
      ],
      "execution_count": 0,
      "outputs": [
        {
          "output_type": "display_data",
          "data": {
            "text/html": [
              "<script src='https://www.gstatic.com/external_hosted/mathjax/latest/MathJax.js?config=default'></script>"
            ],
            "text/plain": [
              "<IPython.core.display.HTML object>"
            ]
          },
          "metadata": {
            "tags": []
          }
        }
      ]
    },
    {
      "cell_type": "code",
      "metadata": {
        "id": "5y91ri5v7wPD",
        "colab_type": "code",
        "outputId": "902ebada-ee8f-446f-9114-040ceb93f4cc",
        "colab": {
          "base_uri": "https://localhost:8080/",
          "height": 17
        }
      },
      "source": [
        "\n",
        "y0 = np.array([np.pi - 0.1, 0.0])"
      ],
      "execution_count": 0,
      "outputs": [
        {
          "output_type": "display_data",
          "data": {
            "text/html": [
              "<script src='https://www.gstatic.com/external_hosted/mathjax/latest/MathJax.js?config=default'></script>"
            ],
            "text/plain": [
              "<IPython.core.display.HTML object>"
            ]
          },
          "metadata": {
            "tags": []
          }
        }
      ]
    },
    {
      "cell_type": "code",
      "metadata": {
        "id": "6Dtiypyc7wcj",
        "colab_type": "code",
        "colab": {}
      },
      "source": [
        "t = np.linspace(0, 10, 101)"
      ],
      "execution_count": 0,
      "outputs": []
    },
    {
      "cell_type": "code",
      "metadata": {
        "id": "XAJOKIPM7wnA",
        "colab_type": "code",
        "outputId": "5b761067-76e8-4ef4-c180-8f31bfd1caa0",
        "colab": {
          "base_uri": "https://localhost:8080/",
          "height": 17
        }
      },
      "source": [
        "from scipy.integrate import *\n",
        "sol = odeint(pend, y0, t)"
      ],
      "execution_count": 0,
      "outputs": [
        {
          "output_type": "display_data",
          "data": {
            "text/html": [
              "<script src='https://www.gstatic.com/external_hosted/mathjax/latest/MathJax.js?config=default'></script>"
            ],
            "text/plain": [
              "<IPython.core.display.HTML object>"
            ]
          },
          "metadata": {
            "tags": []
          }
        }
      ]
    },
    {
      "cell_type": "code",
      "metadata": {
        "id": "0Mj8R2Hh8lHs",
        "colab_type": "code",
        "outputId": "1c48dc94-6a24-43d0-8fc9-2cdbe66445ad",
        "colab": {
          "base_uri": "https://localhost:8080/",
          "height": 279
        }
      },
      "source": [
        "plt.plot(t, sol[:, 0], 'b', label=r'$\\theta(t)$')\n",
        "plt.plot(t, sol[:, 1], 'g', label=r'$\\omega(t)$')\n",
        "plt.legend(loc='best')\n",
        "plt.xlabel('t')\n",
        "plt.grid()\n",
        "plt.show()"
      ],
      "execution_count": 0,
      "outputs": [
        {
          "output_type": "display_data",
          "data": {
            "text/html": [
              "<script src='https://www.gstatic.com/external_hosted/mathjax/latest/MathJax.js?config=default'></script>"
            ],
            "text/plain": [
              "<IPython.core.display.HTML object>"
            ]
          },
          "metadata": {
            "tags": []
          }
        },
        {
          "output_type": "display_data",
          "data": {
            "image/png": "[encoded data removed]",
            "text/plain": [
              "<Figure size 432x288 with 1 Axes>"
            ]
          },
          "metadata": {
            "tags": [],
            "needs_background": "light"
          }
        }
      ]
    },
    {
      "cell_type": "code",
      "metadata": {
        "id": "XROezINn8l1S",
        "colab_type": "code",
        "colab": {}
      },
      "source": [
        ""
      ],
      "execution_count": 0,
      "outputs": []
    },
    {
      "cell_type": "code",
      "metadata": {
        "id": "EEqeAGsPvUmr",
        "colab_type": "code",
        "outputId": "eadc5e02-3cc9-4d13-d00b-9f88e7bd69f5",
        "colab": {
          "base_uri": "https://localhost:8080/",
          "height": 17
        }
      },
      "source": [
        "from scipy.integrate import odeint"
      ],
      "execution_count": 0,
      "outputs": [
        {
          "output_type": "display_data",
          "data": {
            "text/html": [
              "<script src='https://www.gstatic.com/external_hosted/mathjax/latest/MathJax.js?config=default'></script>"
            ],
            "text/plain": [
              "<IPython.core.display.HTML object>"
            ]
          },
          "metadata": {
            "tags": []
          }
        }
      ]
    },
    {
      "cell_type": "code",
      "metadata": {
        "id": "2VvW4xZFvUmz",
        "colab_type": "code",
        "outputId": "a46cb66c-32a5-4a3e-c1f6-09513333c908",
        "colab": {
          "base_uri": "https://localhost:8080/",
          "height": 17
        }
      },
      "source": [
        "#function that returns dy/dt\n",
        "def model(y,t):\n",
        "    dydt = 1 + (t-y)**2\n",
        "    return dydt"
      ],
      "execution_count": 0,
      "outputs": [
        {
          "output_type": "display_data",
          "data": {
            "text/html": [
              "<script src='https://www.gstatic.com/external_hosted/mathjax/latest/MathJax.js?config=default'></script>"
            ],
            "text/plain": [
              "<IPython.core.display.HTML object>"
            ]
          },
          "metadata": {
            "tags": []
          }
        }
      ]
    },
    {
      "cell_type": "code",
      "metadata": {
        "id": "6CZksCTlvUm2",
        "colab_type": "code",
        "outputId": "5eaeeffe-bef6-4da4-e420-19777880d77a",
        "colab": {
          "base_uri": "https://localhost:8080/",
          "height": 1000
        }
      },
      "source": [
        "\n",
        "# initial condition\n",
        "y0 = 1\n",
        "\n",
        "# time points\n",
        "t = np.linspace(2,3)\n",
        "\n",
        "# solve ODE\n",
        "y = odeint(model,y0,t)\n",
        "print(y)\n",
        "# plot results\n",
        "plt.plot(t,y)\n",
        "plt.xlabel('time')\n",
        "plt.ylabel('y(t)')\n",
        "plt.show()"
      ],
      "execution_count": 0,
      "outputs": [
        {
          "output_type": "display_data",
          "data": {
            "text/html": [
              "<script src='https://www.gstatic.com/external_hosted/mathjax/latest/MathJax.js?config=default'></script>"
            ],
            "text/plain": [
              "<IPython.core.display.HTML object>"
            ]
          },
          "metadata": {
            "tags": []
          }
        },
        {
          "output_type": "stream",
          "text": [
            "[[1.        ]\n",
            " [1.0404081 ]\n",
            " [1.08003195]\n",
            " [1.11891674]\n",
            " [1.1571043 ]\n",
            " [1.19463336]\n",
            " [1.23153985]\n",
            " [1.26785711]\n",
            " [1.30361615]\n",
            " [1.33884584]\n",
            " [1.37357311]\n",
            " [1.40782308]\n",
            " [1.44161922]\n",
            " [1.47498349]\n",
            " [1.50793646]\n",
            " [1.5404974 ]\n",
            " [1.57268441]\n",
            " [1.60451448]\n",
            " [1.63600361]\n",
            " [1.66716683]\n",
            " [1.6980183 ]\n",
            " [1.7285714 ]\n",
            " [1.75883872]\n",
            " [1.78883217]\n",
            " [1.81856301]\n",
            " [1.84804189]\n",
            " [1.87727889]\n",
            " [1.90628354]\n",
            " [1.93506491]\n",
            " [1.96363158]\n",
            " [1.99199171]\n",
            " [2.02015304]\n",
            " [2.04812294]\n",
            " [2.0759084 ]\n",
            " [2.1035161 ]\n",
            " [2.13095238]\n",
            " [2.15822328]\n",
            " [2.1853346 ]\n",
            " [2.21229181]\n",
            " [2.23910019]\n",
            " [2.26576473]\n",
            " [2.29229025]\n",
            " [2.31868132]\n",
            " [2.34494233]\n",
            " [2.37107747]\n",
            " [2.39709076]\n",
            " [2.42298604]\n",
            " [2.44876701]\n",
            " [2.47443721]\n",
            " [2.50000001]]\n"
          ],
          "name": "stdout"
        },
        {
          "output_type": "display_data",
          "data": {
            "image/png": "[encoded data removed]",
            "text/plain": [
              "<Figure size 432x288 with 1 Axes>"
            ]
          },
          "metadata": {
            "tags": [],
            "needs_background": "light"
          }
        }
      ]
    },
    {
      "cell_type": "code",
      "metadata": {
        "id": "3jkW3E1VvUm6",
        "colab_type": "code",
        "outputId": "2b48dac0-e26c-4b25-ed86-2759e6c3c751",
        "colab": {
          "base_uri": "https://localhost:8080/",
          "height": 17
        }
      },
      "source": [
        "def model(y,t):\n",
        "    dydt = 1 -y\n",
        "    return dydt"
      ],
      "execution_count": 0,
      "outputs": [
        {
          "output_type": "display_data",
          "data": {
            "text/html": [
              "<script src='https://www.gstatic.com/external_hosted/mathjax/latest/MathJax.js?config=default'></script>"
            ],
            "text/plain": [
              "<IPython.core.display.HTML object>"
            ]
          },
          "metadata": {
            "tags": []
          }
        }
      ]
    },
    {
      "cell_type": "code",
      "metadata": {
        "id": "jTgFWuoQvUm_",
        "colab_type": "code",
        "colab": {}
      },
      "source": [
        "# initial condition\n",
        "y0 = 0\n",
        "\n",
        "# time points\n",
        "t = np.linspace(0,5)\n",
        "\n",
        "# solve ODE\n",
        "y = odeint(model,y0,t)\n",
        "#print(y)\n",
        "# plot results\n",
        "plt.plot(t,y)\n",
        "plt.xlabel('time')\n",
        "plt.ylabel('y(t)')\n",
        "plt.show()"
      ],
      "execution_count": 0,
      "outputs": []
    },
    {
      "cell_type": "code",
      "metadata": {
        "id": "yO_15_hcvUnC",
        "colab_type": "code",
        "outputId": "72e37e8d-e995-4054-8cd8-b4962c10204e",
        "colab": {
          "base_uri": "https://localhost:8080/",
          "height": 68
        }
      },
      "source": [
        "from sympy import *\n",
        "x, R = symbols('x R')\n",
        "init_printing(use_unicode=True)\n",
        "f = R*( x**3+x**2-1)\n",
        "a = diff(f,x)\n",
        "a\n"
      ],
      "execution_count": 0,
      "outputs": [
        {
          "output_type": "display_data",
          "data": {
            "text/html": [
              "<script src='https://www.gstatic.com/external_hosted/mathjax/latest/MathJax.js?config=default'></script>"
            ],
            "text/plain": [
              "<IPython.core.display.HTML object>"
            ]
          },
          "metadata": {
            "tags": []
          }
        },
        {
          "output_type": "execute_result",
          "data": {
            "image/png": "[encoded data removed]",
            "text/latex": "$$R \\left(3 x^{2} + 2 x\\right)$$",
            "text/plain": [
              "  ⎛   2      ⎞\n",
              "R⋅⎝3⋅x  + 2⋅x⎠"
            ]
          },
          "metadata": {
            "tags": []
          },
          "execution_count": 10
        }
      ]
    },
    {
      "cell_type": "code",
      "metadata": {
        "id": "ipKPoULqvUnU",
        "colab_type": "code",
        "outputId": "d190e378-da2c-4458-aeb4-cf7fc605c433",
        "colab": {
          "base_uri": "https://localhost:8080/",
          "height": 64
        }
      },
      "source": [
        "simplify(a)"
      ],
      "execution_count": 0,
      "outputs": [
        {
          "output_type": "display_data",
          "data": {
            "text/html": [
              "<script src='https://www.gstatic.com/external_hosted/mathjax/latest/MathJax.js?config=default'></script>"
            ],
            "text/plain": [
              "<IPython.core.display.HTML object>"
            ]
          },
          "metadata": {
            "tags": []
          }
        },
        {
          "output_type": "execute_result",
          "data": {
            "image/png": "[encoded data removed]",
            "text/latex": "$$R x \\left(3 x + 2\\right)$$",
            "text/plain": [
              "R⋅x⋅(3⋅x + 2)"
            ]
          },
          "metadata": {
            "tags": []
          },
          "execution_count": 11
        }
      ]
    },
    {
      "cell_type": "code",
      "metadata": {
        "id": "x2IGdDalTBOs",
        "colab_type": "code",
        "outputId": "2404696c-a6d4-4218-aa53-9ff22eda5620",
        "colab": {
          "base_uri": "https://localhost:8080/",
          "height": 17
        }
      },
      "source": [
        "p = lambdify('x',a)"
      ],
      "execution_count": 0,
      "outputs": [
        {
          "output_type": "display_data",
          "data": {
            "text/html": [
              "<script src='https://www.gstatic.com/external_hosted/mathjax/latest/MathJax.js?config=default'></script>"
            ],
            "text/plain": [
              "<IPython.core.display.HTML object>"
            ]
          },
          "metadata": {
            "tags": []
          }
        }
      ]
    },
    {
      "cell_type": "code",
      "metadata": {
        "id": "mUdOolmurLAP",
        "colab_type": "code",
        "outputId": "e434db84-cf3e-416e-f79e-ea82f115dd88",
        "colab": {
          "base_uri": "https://localhost:8080/",
          "height": 62
        }
      },
      "source": [
        "p(1)"
      ],
      "execution_count": 0,
      "outputs": [
        {
          "output_type": "display_data",
          "data": {
            "text/html": [
              "<script src='https://www.gstatic.com/external_hosted/mathjax/latest/MathJax.js?config=default'></script>"
            ],
            "text/plain": [
              "<IPython.core.display.HTML object>"
            ]
          },
          "metadata": {
            "tags": []
          }
        },
        {
          "output_type": "execute_result",
          "data": {
            "image/png": "[encoded data removed]",
            "text/latex": "$$5 R$$",
            "text/plain": [
              "5⋅R"
            ]
          },
          "metadata": {
            "tags": []
          },
          "execution_count": 13
        }
      ]
    }
  ]
}