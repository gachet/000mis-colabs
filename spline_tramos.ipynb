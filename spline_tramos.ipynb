{
  "nbformat": 4,
  "nbformat_minor": 0,
  "metadata": {
    "kernelspec": {
      "display_name": "Python 3",
      "language": "python",
      "name": "python3"
    },
    "language_info": {
      "codemirror_mode": {
        "name": "ipython",
        "version": 3
      },
      "file_extension": ".py",
      "mimetype": "text/x-python",
      "name": "python",
      "nbconvert_exporter": "python",
      "pygments_lexer": "ipython3",
      "version": "3.7.4"
    },
    "colab": {
      "name": "spline-tramos.ipynb",
      "provenance": [],
      "include_colab_link": true
    }
  },
  "cells": [
    {
      "cell_type": "markdown",
      "metadata": {
        "id": "view-in-github",
        "colab_type": "text"
      },
      "source": [
        "<a href=\"https://colab.research.google.com/github/gachet/mis-colabs/blob/master/spline_tramos.ipynb\" target=\"_parent\"><img src=\"https://colab.research.google.com/assets/colab-badge.svg\" alt=\"Open In Colab\"/></a>"
      ]
    },
    {
      "cell_type": "code",
      "metadata": {
        "id": "0xSjlpGS_qK5",
        "colab_type": "code",
        "colab": {}
      },
      "source": [
        "import sympy as sym\n",
        "import numpy as np\n",
        "import scipy as sci\n",
        "import matplotlib.pyplot as plt\n",
        "%matplotlib inline"
      ],
      "execution_count": 0,
      "outputs": []
    },
    {
      "cell_type": "code",
      "metadata": {
        "id": "GXUucTXR_qLQ",
        "colab_type": "code",
        "colab": {}
      },
      "source": [
        "def CubicSplines(p,q):\n",
        "    \n",
        "    n = len(p)-1\n",
        "       \n",
        "    # Inicializar vectores auxiliares\n",
        "    A = q\n",
        "    X = p\n",
        "    \n",
        "    H =[0.0 for x\tin\trange(n)]\n",
        "    B =[0.0 for\tx\tin\trange(n+1)]\n",
        "    C =[0.0 for\tx\tin\trange(n+1)]\n",
        "    D =[0.0 for\tx\tin\trange(n+1)]\n",
        "    alpha = [0.0 for x in range(n)]\n",
        "    mu = [0.0 for x in range(n+1)]\n",
        "    l =[1.0\tfor\tx\tin\trange(n+1)]\n",
        "    z =[0.0\tfor\tx\tin\trange(n+1)]\n",
        "    # Crear vector H\n",
        "    for i in range(n):\n",
        "        H[i] = X [i+1] -X [i]\n",
        "    # Crear vector a\n",
        "    for i in range(1, n):\n",
        "        alpha [i] = (3.0/H [i])*(A [i+1]-A[i])-(3.0/H[i-1])*(A[i]-A[i-1])\n",
        "\n",
        "    # Solucionar sistema tridiagonal\n",
        "    for i in range(1, n) :\n",
        "        l[i] = 2.0*(X[i+1]-X[i-1] )-H[i-1] *mu[i-1]\n",
        "        mu[i] = float(H [i])/l[i]\n",
        "        z[i] = (alpha [i]-H [i-1] *z [i-1] )/float(l[i] )\n",
        "\n",
        "    # Solucionar sistema tridiagonal\n",
        "    for j in range(n-1, -1, -1):\n",
        "        C[j] = z [j] -mu[j] *C [j+1]\n",
        "        B [j] = (A [j + 1] - A [j] )/float (H [j] )-H [j] * (C [j + 1] +2*C [j] )/3.0\n",
        "        D[j] = (C[j+1] -C[j])/(3.0*H[j])\n",
        "\n",
        "    # Retornar vectores A, B, C, D\n",
        "    \n",
        "    x = sym.Symbol('x')\n",
        "    polinomio = []\n",
        "    \n",
        "    for j in range(0,n,1):  # construimos polinomio por tramos\n",
        "        ptramo = A[j]+ B[j]*(x-X[j])+ C[j]*(x-X[j])**2 + D[j]*(x-X[j])**3\n",
        "        ptramo = ptramo.expand()\n",
        "        polinomio.append(ptramo)\n",
        "        print(ptramo)\n",
        "    \n",
        "    return polinomio"
      ],
      "execution_count": 0,
      "outputs": []
    },
    {
      "cell_type": "code",
      "metadata": {
        "id": "DdbiFp12_qLk",
        "colab_type": "code",
        "outputId": "2fb8f15e-d7a7-4559-dd2a-2b5ddf3445c5",
        "colab": {
          "base_uri": "https://localhost:8080/",
          "height": 258
        }
      },
      "source": [
        "xi = np.array([-1 , 0, 2,3,7])\n",
        "fi = np.array([2, -1, 2,2,-1])\n",
        "poli = CubicSplines(xi,fi)\n",
        "n = len(xi)\n",
        "# Obtiene los polinomios por tramos\n",
        "\n",
        "# SALIDA\n",
        "print('Polinomios por tramos: ')\n",
        "for tramo in range(1,n,1):\n",
        "    print(' x = ['+str(xi[tramo-1])+','+str(xi[tramo])+']')\n",
        "    print(str(poli[tramo-1]))"
      ],
      "execution_count": 0,
      "outputs": [
        {
          "output_type": "stream",
          "text": [
            "0.936305732484076*x**3 + 2.80891719745223*x**2 - 1.12738853503185*x - 1.0\n",
            "-0.747611464968153*x**3 + 2.80891719745223*x**2 - 1.12738853503185*x - 1\n",
            "0.539808917197452*x**3 - 4.9156050955414*x**2 + 14.3216560509554*x - 11.2993630573248\n",
            "0.00477707006369427*x**3 - 0.10031847133758*x**2 - 0.124203821656051*x + 3.14649681528662\n",
            "Polinomios por tramos: \n",
            " x = [-1,0]\n",
            "0.936305732484076*x**3 + 2.80891719745223*x**2 - 1.12738853503185*x - 1.0\n",
            " x = [0,2]\n",
            "-0.747611464968153*x**3 + 2.80891719745223*x**2 - 1.12738853503185*x - 1\n",
            " x = [2,3]\n",
            "0.539808917197452*x**3 - 4.9156050955414*x**2 + 14.3216560509554*x - 11.2993630573248\n",
            " x = [3,7]\n",
            "0.00477707006369427*x**3 - 0.10031847133758*x**2 - 0.124203821656051*x + 3.14649681528662\n"
          ],
          "name": "stdout"
        }
      ]
    },
    {
      "cell_type": "code",
      "metadata": {
        "id": "_xmQMFyX_qL1",
        "colab_type": "code",
        "outputId": "61f82779-cf08-4f09-d661-4566ebc41f6e",
        "colab": {
          "base_uri": "https://localhost:8080/",
          "height": 281
        }
      },
      "source": [
        "# GRAFICA\n",
        "# Puntos para grafica en cada tramo\n",
        "xtrazado = np.array([])\n",
        "ytrazado = np.array([])\n",
        "resolucion = 10 # entre cada par de puntos\n",
        "tramo = 1\n",
        "while not(tramo>=n):\n",
        "    a = xi[tramo-1]\n",
        "    b = xi[tramo]\n",
        "    xtramo = np.linspace(a,b,resolucion)\n",
        "    \n",
        "    ptramo = poli[tramo-1]\n",
        "    pxtramo = sym.lambdify('x',ptramo)\n",
        "    ytramo = pxtramo(xtramo)\n",
        "    \n",
        "    xtrazado = np.concatenate((xtrazado,xtramo))\n",
        "    ytrazado = np.concatenate((ytrazado,ytramo))\n",
        "    tramo = tramo + 1\n",
        "\n",
        "# Gráfica\n",
        "plt.grid(True)\n",
        "plt.axhline(0, color='black')\n",
        "plt.axvline(0, color='black')\n",
        "plt.title('Trazador cúbico natural (splines)')\n",
        "plt.plot(xtrazado,ytrazado)\n",
        "plt.plot(xi,fi,'o')\n",
        "plt.show()"
      ],
      "execution_count": 0,
      "outputs": [
        {
          "output_type": "display_data",
          "data": {
            "image/png": "[encoded data removed]",
            "text/plain": [
              "<Figure size 432x288 with 1 Axes>"
            ]
          },
          "metadata": {
            "tags": [],
            "needs_background": "light"
          }
        }
      ]
    },
    {
      "cell_type": "code",
      "metadata": {
        "id": "0JcQuDZx_qMC",
        "colab_type": "code",
        "outputId": "e7a6603b-41a9-4a7a-d9e1-122b9c51f981",
        "colab": {
          "base_uri": "https://localhost:8080/",
          "height": 248
        }
      },
      "source": [
        "xi = np.array([-1 , 0, 2,3,7])\n",
        "fi = np.array([2, -1, 2,2,-1])\n",
        "\n",
        "cs = CubicSpline(xi, fi, bc_type='natural')\n",
        "xs = np.linspace(-1, 7, num=41, endpoint=True)\n",
        "plt.axhline(0, color='black')\n",
        "plt.axvline(0, color='black')\n",
        "plt.grid()\n",
        "plt.plot(xi, fi, 'o', label='data')\n",
        "plt.plot(xs, cs(xs), label='true')\n",
        "plt.show()"
      ],
      "execution_count": 0,
      "outputs": [
        {
          "output_type": "error",
          "ename": "AttributeError",
          "evalue": "ignored",
          "traceback": [
            "\u001b[0;31m---------------------------------------------------------------------------\u001b[0m",
            "\u001b[0;31mAttributeError\u001b[0m                            Traceback (most recent call last)",
            "\u001b[0;32m<ipython-input-7-c0febff2035f>\u001b[0m in \u001b[0;36m<module>\u001b[0;34m()\u001b[0m\n\u001b[1;32m      2\u001b[0m \u001b[0mfi\u001b[0m \u001b[0;34m=\u001b[0m \u001b[0mnp\u001b[0m\u001b[0;34m.\u001b[0m\u001b[0marray\u001b[0m\u001b[0;34m(\u001b[0m\u001b[0;34m[\u001b[0m\u001b[0;36m2\u001b[0m\u001b[0;34m,\u001b[0m \u001b[0;34m-\u001b[0m\u001b[0;36m1\u001b[0m\u001b[0;34m,\u001b[0m \u001b[0;36m2\u001b[0m\u001b[0;34m,\u001b[0m\u001b[0;36m2\u001b[0m\u001b[0;34m,\u001b[0m\u001b[0;34m-\u001b[0m\u001b[0;36m1\u001b[0m\u001b[0;34m]\u001b[0m\u001b[0;34m)\u001b[0m\u001b[0;34m\u001b[0m\u001b[0;34m\u001b[0m\u001b[0m\n\u001b[1;32m      3\u001b[0m \u001b[0;34m\u001b[0m\u001b[0m\n\u001b[0;32m----> 4\u001b[0;31m \u001b[0mcs\u001b[0m \u001b[0;34m=\u001b[0m \u001b[0msci\u001b[0m\u001b[0;34m.\u001b[0m\u001b[0minterpolate\u001b[0m\u001b[0;34m.\u001b[0m\u001b[0mCubicSpline\u001b[0m\u001b[0;34m(\u001b[0m\u001b[0mxi\u001b[0m\u001b[0;34m,\u001b[0m \u001b[0mfi\u001b[0m\u001b[0;34m,\u001b[0m \u001b[0mbc_type\u001b[0m\u001b[0;34m=\u001b[0m\u001b[0;34m'natural'\u001b[0m\u001b[0;34m)\u001b[0m\u001b[0;34m\u001b[0m\u001b[0;34m\u001b[0m\u001b[0m\n\u001b[0m\u001b[1;32m      5\u001b[0m \u001b[0mxs\u001b[0m \u001b[0;34m=\u001b[0m \u001b[0mnp\u001b[0m\u001b[0;34m.\u001b[0m\u001b[0mlinspace\u001b[0m\u001b[0;34m(\u001b[0m\u001b[0;34m-\u001b[0m\u001b[0;36m1\u001b[0m\u001b[0;34m,\u001b[0m \u001b[0;36m7\u001b[0m\u001b[0;34m,\u001b[0m \u001b[0mnum\u001b[0m\u001b[0;34m=\u001b[0m\u001b[0;36m41\u001b[0m\u001b[0;34m,\u001b[0m \u001b[0mendpoint\u001b[0m\u001b[0;34m=\u001b[0m\u001b[0;32mTrue\u001b[0m\u001b[0;34m)\u001b[0m\u001b[0;34m\u001b[0m\u001b[0;34m\u001b[0m\u001b[0m\n\u001b[1;32m      6\u001b[0m \u001b[0mplt\u001b[0m\u001b[0;34m.\u001b[0m\u001b[0maxhline\u001b[0m\u001b[0;34m(\u001b[0m\u001b[0;36m0\u001b[0m\u001b[0;34m,\u001b[0m \u001b[0mcolor\u001b[0m\u001b[0;34m=\u001b[0m\u001b[0;34m'black'\u001b[0m\u001b[0;34m)\u001b[0m\u001b[0;34m\u001b[0m\u001b[0;34m\u001b[0m\u001b[0m\n",
            "\u001b[0;31mAttributeError\u001b[0m: module 'scipy' has no attribute 'interpolate'"
          ]
        }
      ]
    },
    {
      "cell_type": "code",
      "metadata": {
        "id": "N8kd8HWI_qMR",
        "colab_type": "code",
        "colab": {}
      },
      "source": [
        "# Datos de prueba (1,2), (2,3), (3,5)"
      ],
      "execution_count": 0,
      "outputs": []
    },
    {
      "cell_type": "code",
      "metadata": {
        "id": "XTJMi_1C_qMd",
        "colab_type": "code",
        "outputId": "fbce6bbb-6a82-45ec-9edc-619cfdcb9bb4",
        "colab": {}
      },
      "source": [
        "xi = np.array([1 , 2,3])\n",
        "fi = np.array([2, 3, 5])\n",
        "poli = CubicSplines(xi,fi)\n",
        "n = len(xi)\n",
        "# Obtiene los polinomios por tramos\n",
        "\n",
        "# SALIDA\n",
        "print('Polinomios por tramos: ')\n",
        "for tramo in range(1,n,1):\n",
        "    print(' x = ['+str(xi[tramo-1])+','+str(xi[tramo])+']')\n",
        "    print(str(poli[tramo-1]))"
      ],
      "execution_count": 0,
      "outputs": [
        {
          "output_type": "stream",
          "text": [
            "0.25*x**3 - 0.75*x**2 + 1.5*x + 1.0\n",
            "-0.25*x**3 + 2.25*x**2 - 4.5*x + 5.0\n",
            "Polinomios por tramos: \n",
            " x = [1,2]\n",
            "0.25*x**3 - 0.75*x**2 + 1.5*x + 1.0\n",
            " x = [2,3]\n",
            "-0.25*x**3 + 2.25*x**2 - 4.5*x + 5.0\n"
          ],
          "name": "stdout"
        }
      ]
    },
    {
      "cell_type": "code",
      "metadata": {
        "id": "Fvnn3OIK_qMn",
        "colab_type": "code",
        "outputId": "710d06ca-ed88-4567-bcec-ddcda93caa1f",
        "colab": {}
      },
      "source": [
        "# GRAFICA\n",
        "# Puntos para grafica en cada tramo\n",
        "xtrazado = np.array([])\n",
        "ytrazado = np.array([])\n",
        "resolucion = 10 # entre cada par de puntos\n",
        "tramo = 1\n",
        "while not(tramo>=n):\n",
        "    a = xi[tramo-1]\n",
        "    b = xi[tramo]\n",
        "    xtramo = np.linspace(a,b,resolucion)\n",
        "    \n",
        "    ptramo = poli[tramo-1]\n",
        "    pxtramo = sym.lambdify('x',ptramo)\n",
        "    ytramo = pxtramo(xtramo)\n",
        "    \n",
        "    xtrazado = np.concatenate((xtrazado,xtramo))\n",
        "    ytrazado = np.concatenate((ytrazado,ytramo))\n",
        "    tramo = tramo + 1\n",
        "\n",
        "# Gráfica\n",
        "plt.grid(True)\n",
        "plt.axhline(0, color='black')\n",
        "plt.axvline(0, color='black')\n",
        "plt.title('Trazador cúbico natural (splines)')\n",
        "plt.plot(xtrazado,ytrazado)\n",
        "plt.plot(xi,fi,'o')\n",
        "plt.show()"
      ],
      "execution_count": 0,
      "outputs": [
        {
          "output_type": "display_data",
          "data": {
            "image/png": "[encoded data removed]",
            "text/plain": [
              "<Figure size 432x288 with 1 Axes>"
            ]
          },
          "metadata": {
            "tags": [],
            "needs_background": "light"
          }
        }
      ]
    },
    {
      "cell_type": "code",
      "metadata": {
        "id": "bKbN53vj_qMx",
        "colab_type": "code",
        "outputId": "9625abff-16ad-4a15-a7d7-d1b8a58457f8",
        "colab": {}
      },
      "source": [
        "xi = np.array([0.1 , 0.2, 0.3, 0.4])\n",
        "fi = np.array([1.45, 1.8, 1.7, 2.0])\n",
        "poli = CubicSplines(xi,fi)\n",
        "n = len(xi)\n",
        "# Obtiene los polinomios por tramos\n",
        "\n",
        "# SALIDA\n",
        "print('Polinomios por tramos: ')\n",
        "for tramo in range(1,n,1):\n",
        "    print(' x = ['+str(xi[tramo-1])+','+str(xi[tramo])+']')\n",
        "    print(str(poli[tramo-1]))"
      ],
      "execution_count": 0,
      "outputs": [
        {
          "output_type": "stream",
          "text": [
            "-146.666666666667*x**3 + 44.0*x**2 + 0.566666666666666*x + 1.1\n",
            "283.333333333333*x**3 - 214.0*x**2 + 52.1666666666667*x - 2.34\n",
            "-136.666666666667*x**3 + 164.0*x**2 - 61.2333333333333*x + 9.0\n",
            "Polinomios por tramos: \n",
            " x = [0.1,0.2]\n",
            "-146.666666666667*x**3 + 44.0*x**2 + 0.566666666666666*x + 1.1\n",
            " x = [0.2,0.3]\n",
            "283.333333333333*x**3 - 214.0*x**2 + 52.1666666666667*x - 2.34\n",
            " x = [0.3,0.4]\n",
            "-136.666666666667*x**3 + 164.0*x**2 - 61.2333333333333*x + 9.0\n"
          ],
          "name": "stdout"
        }
      ]
    },
    {
      "cell_type": "code",
      "metadata": {
        "id": "ZHZxgUsa_qM9",
        "colab_type": "code",
        "outputId": "b53ccb76-ce4d-458f-b42a-74c415863a6c",
        "colab": {}
      },
      "source": [
        "# GRAFICA\n",
        "# Puntos para grafica en cada tramo\n",
        "xtrazado = np.array([])\n",
        "ytrazado = np.array([])\n",
        "resolucion = 10 # entre cada par de puntos\n",
        "tramo = 1\n",
        "while not(tramo>=n):\n",
        "    a = xi[tramo-1]\n",
        "    b = xi[tramo]\n",
        "    xtramo = np.linspace(a,b,resolucion)\n",
        "    \n",
        "    ptramo = poli[tramo-1]\n",
        "    pxtramo = sym.lambdify('x',ptramo)\n",
        "    ytramo = pxtramo(xtramo)\n",
        "    \n",
        "    xtrazado = np.concatenate((xtrazado,xtramo))\n",
        "    ytrazado = np.concatenate((ytrazado,ytramo))\n",
        "    tramo = tramo + 1\n",
        "\n",
        "# Gráfica\n",
        "\n",
        "plt.grid(True)\n",
        "plt.axhline(0, color='black')\n",
        "plt.axvline(0, color='black')\n",
        "plt.title('Trazador cúbico natural (splines)')\n",
        "plt.plot(xtrazado,ytrazado)\n",
        "plt.plot(xi,fi,'o')\n",
        "plt.show()"
      ],
      "execution_count": 0,
      "outputs": [
        {
          "output_type": "display_data",
          "data": {
            "image/png": "[encoded data removed]",
            "text/plain": [
              "<Figure size 432x288 with 1 Axes>"
            ]
          },
          "metadata": {
            "tags": [],
            "needs_background": "light"
          }
        }
      ]
    },
    {
      "cell_type": "code",
      "metadata": {
        "id": "QtMelB-f_qNI",
        "colab_type": "code",
        "colab": {}
      },
      "source": [
        ""
      ],
      "execution_count": 0,
      "outputs": []
    }
  ]
}