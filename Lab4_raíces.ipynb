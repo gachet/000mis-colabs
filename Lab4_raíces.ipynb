{
  "nbformat": 4,
  "nbformat_minor": 0,
  "metadata": {
    "anaconda-cloud": {},
    "kernelspec": {
      "display_name": "Python 3",
      "language": "python",
      "name": "python3"
    },
    "language_info": {
      "codemirror_mode": {
        "name": "ipython",
        "version": 3
      },
      "file_extension": ".py",
      "mimetype": "text/x-python",
      "name": "python",
      "nbconvert_exporter": "python",
      "pygments_lexer": "ipython3",
      "version": "3.6.5"
    },
    "toc": {
      "colors": {
        "hover_highlight": "#DAA520",
        "navigate_num": "#000000",
        "navigate_text": "#333333",
        "running_highlight": "#FF0000",
        "selected_highlight": "#FFD700",
        "sidebar_border": "#EEEEEE",
        "wrapper_background": "#FFFFFF"
      },
      "moveMenuLeft": true,
      "nav_menu": {
        "height": "12px",
        "width": "252px"
      },
      "navigate_menu": true,
      "number_sections": true,
      "sideBar": true,
      "threshold": 4,
      "toc_cell": false,
      "toc_section_display": "block",
      "toc_window_display": false,
      "widenNotebook": false
    },
    "colab": {
      "name": "Lab4-raíces.ipynb",
      "provenance": [],
      "collapsed_sections": [
        "Fn7dYJzdwljt",
        "H9wBjDPuwljx",
        "eAZxzWDzwlnr",
        "nLLUfNfIwlpp"
      ],
      "include_colab_link": true
    }
  },
  "cells": [
    {
      "cell_type": "markdown",
      "metadata": {
        "id": "view-in-github",
        "colab_type": "text"
      },
      "source": [
        "<a href=\"https://colab.research.google.com/github/gachet/mis-colabs/blob/master/Lab4_ra%C3%ADces.ipynb\" target=\"_parent\"><img src=\"https://colab.research.google.com/assets/colab-badge.svg\" alt=\"Open In Colab\"/></a>"
      ]
    },
    {
      "cell_type": "markdown",
      "metadata": {
        "id": "nFAkNHJLwlfn",
        "colab_type": "text"
      },
      "source": [
        "\n",
        "# Laboratorio 4.- Raíces de ecuaciones no lineales\n",
        "<br>"
      ]
    },
    {
      "cell_type": "markdown",
      "metadata": {
        "id": "ICX2eItrwlf2",
        "colab_type": "text"
      },
      "source": [
        "El propósito de los métodos numéricos para búsqueda de raíces para ecuaciones no lineales es encontrar la raíz - o el valor de la variable independiente, ej. x - que hace que la ecuación  valga cero . La forma general de la búsqueda de raíces para ecuaciones no lineales se puede describir como:\n",
        "\n",
        "Encontrar una  $x$ tal que\n",
        "\\begin{equation}\n",
        "f(x) = 0\n",
        "\\end{equation}\n",
        "\n",
        "Alternativamente, se puede presentar el problema como:\n",
        "\n",
        "Encontrar una  $x$ tal que \n",
        "\\begin{equation}\n",
        "f(x) = a\n",
        "\\end{equation}\n",
        "\n",
        "Si igualamos la ecuación a 0 forma residual tenemos\n",
        "\\begin{equation}\n",
        "r(x) \\equiv f(x) - a\n",
        "\\end{equation}\n",
        "y el problema se centra en encontrar una  $x$ tal que \n",
        "\\begin{equation}\n",
        "r(x) = 0\n",
        "\\end{equation}\n"
      ]
    },
    {
      "cell_type": "code",
      "metadata": {
        "id": "_5wyiswHwlgE",
        "colab_type": "code",
        "colab": {}
      },
      "source": [
        "import numpy as np\n",
        "%matplotlib inline\n",
        "import matplotlib.pyplot as plt\n",
        "from scipy.optimize import fsolve\n"
      ],
      "execution_count": 0,
      "outputs": []
    },
    {
      "cell_type": "code",
      "metadata": {
        "id": "pSfIpg4-52SW",
        "colab_type": "code",
        "colab": {}
      },
      "source": [
        "from sympy import *\n",
        "#init_printing()"
      ],
      "execution_count": 0,
      "outputs": []
    },
    {
      "cell_type": "code",
      "metadata": {
        "id": "UZl58mk55-Oi",
        "colab_type": "code",
        "colab": {}
      },
      "source": [
        "import sympy\n",
        "def custom_latex_printer(exp,**options):\n",
        "    from google.colab.output._publish import javascript\n",
        "    url = \"https://cdnjs.cloudflare.com/ajax/libs/mathjax/2.7.3/latest.js?config=default\"\n",
        "    javascript(url=url)\n",
        "    return sympy.printing.latex(exp,**options)\n",
        "init_printing(use_latex=\"mathjax\",latex_printer=custom_latex_printer)"
      ],
      "execution_count": 0,
      "outputs": []
    },
    {
      "cell_type": "code",
      "metadata": {
        "id": "lcjOv619wlgl",
        "colab_type": "code",
        "colab": {}
      },
      "source": [
        "def bisec(f,a,b,tol, maxiter,verbose = False):\n",
        "    err = tol + 100\n",
        "    niter = 0\n",
        "    if verbose == True:\n",
        "        print('{:<12} {:<12} {:<12} {:<12}'.format('Iteration','a','b','error'))\n",
        "    while err > tol and niter < maxiter:\n",
        "        niter +=1\n",
        "        c = (a + b)/2.0\n",
        "        fc = f(c)\n",
        "        fa = f(a)\n",
        "        if (fa * fc < 0.0):\n",
        "            b = c\n",
        "        else:\n",
        "            a = c\n",
        "        err = abs(fc)\n",
        "        if verbose == True:\n",
        "            print('{:<12} {:<12} {:<12} {:<12}'.format(niter, round(a,6), round(b,6), round(err,10)))\n",
        "    if niter == maxiter:\n",
        "        print('Iterations alcanzadas sin solucion =',niter)\n",
        "    else:\n",
        "        print('solución %8.6f' % (c))\n",
        "        print('alcanzada en %3d iteraciones' % (niter))\n",
        "        print('valor de la función = %12.10f' % (f(c)))\n",
        "    return  c"
      ],
      "execution_count": 0,
      "outputs": []
    },
    {
      "cell_type": "code",
      "metadata": {
        "id": "IoLFGy9Pwlg5",
        "colab_type": "code",
        "colab": {}
      },
      "source": [
        "def newton(f,df,x0,tol,maxiter,verbose):\n",
        "    niter = 0\n",
        "    err = tol + 100\n",
        "    if verbose == 1:\n",
        "        print('{:<12} {:<12} {:<12}'.format('Iteración','x1','error'))\n",
        "    while err > tol and niter < maxiter:\n",
        "        x1 = x0 - f(x0)/df(x0)\n",
        "        x0 = x1\n",
        "        err = abs(f(x0))\n",
        "        niter += 1\n",
        "        if verbose == 1:\n",
        "            print('{:<12} {:<12} {:<12}'.format(niter, round(x1,6), round(err,10)))\n",
        "    if niter == maxiter:\n",
        "        print('Iteraciones alcanzadas sin solucion =',niter)\n",
        "    else:\n",
        "        print('solución %8.6f' % (x1))\n",
        "        print('alcanzada en %3d iteraciones' % (niter))\n",
        "        print('valor de la función = %12.10f' % (f(x1)))\n",
        "    return  x1         "
      ],
      "execution_count": 0,
      "outputs": []
    },
    {
      "cell_type": "code",
      "metadata": {
        "id": "iDNuIKLPwlhU",
        "colab_type": "code",
        "colab": {}
      },
      "source": [
        "def newton2(f,x0,tol,maxiter,verbose):\n",
        "    niter = 0\n",
        "    err = tol + 100\n",
        "    if verbose == 1:\n",
        "        print('{:<12} {:<12} {:<12}'.format('Iteración','x1','error'))\n",
        "    while err > tol and niter < maxiter:\n",
        "        h = 1e-6 \n",
        "        df = (f(x0 + h) - f(x0-h))/(2*h)\n",
        "        x1 = x0 - f(x0)/df\n",
        "        x0 = x1\n",
        "        err = abs(f(x0))\n",
        "        niter += 1\n",
        "        if verbose == 1:\n",
        "            print('{:<12} {:<12} {:<12}'.format(niter, round(x1,6), round(err,10)))\n",
        "    if niter == maxiter:\n",
        "        print('Iteraciones alcanzadas sin solucion =',niter)\n",
        "    else:\n",
        "        print('solución %8.6f' % (x1))\n",
        "        print('alcanzada en %3d iteraciones' % (niter))\n",
        "        print('valor de la función = %12.10f' % (f(x1)))\n",
        "    return   x1    "
      ],
      "execution_count": 0,
      "outputs": []
    },
    {
      "cell_type": "code",
      "metadata": {
        "id": "AxNhMx4Ywlht",
        "colab_type": "code",
        "colab": {}
      },
      "source": [
        "\n",
        "def Newton_raphson(F, J, x, eps):\n",
        "    \"\"\"\n",
        "    Resolución del sistema no lineal F=0  con el método de  Newton.\n",
        "    J es el jacobiano de F. Ambos F y J deben ser función de  x.\n",
        "    El vector  x  contiene los valores de inicio para las raíces.\n",
        "    Las iteraciones continúan hasta que until ||F|| < eps.\n",
        "    \"\"\"\n",
        "    F_value = F(x)\n",
        "    F_norm = np.linalg.norm(F_value, ord=2)  # l2 norm of vector\n",
        "    iteration_counter = 0\n",
        "    while abs(F_norm) > eps and iteration_counter < 20:\n",
        "        delta = np.linalg.solve(J(x), -F_value)\n",
        "        x = x + delta\n",
        "        F_value = F(x)\n",
        "        F_norm = np.linalg.norm(F_value, ord=2)\n",
        "        iteration_counter += 1\n",
        "        print('iteración',iteration_counter)\n",
        "    # Hay una solución, o demasiadas iteraciones\n",
        "    if abs(F_norm) > eps:\n",
        "        iteration_counter = -1  #no hay solucion en las iteraciones indicadas\n",
        "    return x, iteration_counter\n"
      ],
      "execution_count": 0,
      "outputs": []
    },
    {
      "cell_type": "code",
      "metadata": {
        "id": "KsuJBeQIwlh8",
        "colab_type": "code",
        "colab": {}
      },
      "source": [
        "## Aproximación del Jacobiano mediante diferencias finitas, \n",
        "# le pasamos el vector de funciones f y el vector de valores\n",
        "#iniciales x.\n",
        "# se llama dentro de la función Newton_raphson2\n",
        "def jacobian(f,x):\n",
        "        h = 1.0e-4\n",
        "        n = len(x)\n",
        "        jac = np.zeros((n,n))\n",
        "        f0 = f(x)\n",
        "        for i in range(n):\n",
        "            temp = x[i]\n",
        "            x[i] = temp + h\n",
        "            f1 = f(x)\n",
        "            x[i] = temp\n",
        "            jac[:,i] = (f1 - f0)/h\n",
        "        return jac\n",
        "    "
      ],
      "execution_count": 0,
      "outputs": []
    },
    {
      "cell_type": "code",
      "metadata": {
        "id": "cl1fLszjwliI",
        "colab_type": "code",
        "colab": {}
      },
      "source": [
        "def Newton_raphson2(F, x, eps): \n",
        "    \"\"\"\n",
        "    Resolución del sistema no lineal F=0  con el método de  Newton.\n",
        "    J es el jacobiano \"aproximado\"de F que se obtiene llamando a la función \n",
        "    \"jacobian\". x debe pasarse como un array de FLOATS.\n",
        "    El vector  x  contiene los valores de inicio para las raíces.\n",
        "    Las iteraciones continúan hasta que until ||F|| < eps.\n",
        "    \"\"\"\n",
        "    F_value = F(x)\n",
        "    F_norm = np.linalg.norm(F_value, ord=2)  # l2 norm of vector\n",
        "    iteration_counter = 0\n",
        "    while abs(F_norm) > eps and iteration_counter < 20:\n",
        "        #print('F_value',F_value)\n",
        "        J=jacobian(F,x)\n",
        "        #print('J',J)\n",
        "        delta = np.linalg.solve(J, -F_value)\n",
        "        x = x + delta\n",
        "        F_value = F(x)\n",
        "        F_norm = np.linalg.norm(F_value, ord=2)\n",
        "        iteration_counter += 1\n",
        "        print('iteración',iteration_counter)\n",
        "    # Hay una solución, o demasiadas iteraciones\n",
        "    if abs(F_norm) > eps:\n",
        "        iteration_counter = -1  #no hay solucion en las iteraciones indicadas\n",
        "    return x, iteration_counter"
      ],
      "execution_count": 0,
      "outputs": []
    },
    {
      "cell_type": "code",
      "metadata": {
        "id": "6z4X6sMawliX",
        "colab_type": "code",
        "colab": {}
      },
      "source": [
        ""
      ],
      "execution_count": 0,
      "outputs": []
    },
    {
      "cell_type": "markdown",
      "metadata": {
        "id": "R5NdRtiEwlio",
        "colab_type": "text"
      },
      "source": [
        "## 1.- Una esfera que flota"
      ]
    },
    {
      "cell_type": "markdown",
      "metadata": {
        "id": "O80FRSElwliv",
        "colab_type": "text"
      },
      "source": [
        " Si depositamos un sólido en la superficie de un líquido, de acuerdo con el teorema de Arquímedes, el sólido se sumergirá hasta una cierta profundidad de forma que el peso del sólido sea igual al peso de fluido desplazado"
      ]
    },
    {
      "cell_type": "markdown",
      "metadata": {
        "id": "fRQvFGyYwli0",
        "colab_type": "text"
      },
      "source": [
        "<img src=\"https://drive.google.com/uc?id=1TqKOPCLTFu05fnoCt0JHCjFLdU0qe5zf\" alt=\"Lamp\" width=\"220\" height=\"120\">"
      ]
    },
    {
      "cell_type": "markdown",
      "metadata": {
        "id": "P70LdxVwwli3",
        "colab_type": "text"
      },
      "source": [
        "Tenemos una esfera como la de la foto de radio R = 1 m y que está sumergida hasta una profundidad H. Determinar cuánto se hunde la esfera si el peso de la niña es de 25 kg y la esfera de plástico pesa 2 kg. La densidad del agua $\\rho_{a}$ es $1000 \\,kg/m^{3}$ . El error máximo cometido ha de ser de un milímetro."
      ]
    },
    {
      "cell_type": "markdown",
      "metadata": {
        "id": "rr5-OyUxwli8",
        "colab_type": "text"
      },
      "source": [
        "#### El volumen sumergido de la esfera  se puede representar como indica la siguiente figura"
      ]
    },
    {
      "cell_type": "markdown",
      "metadata": {
        "id": "kltyCpqOwljA",
        "colab_type": "text"
      },
      "source": [
        "<img src=\"https://drive.google.com/uc?id=136Z7FWPfm3clkPL7GVvP8EKkKdSMkuBb\" alt=\"Lamp\" width=\"220\" height=\"120\">"
      ]
    },
    {
      "cell_type": "markdown",
      "metadata": {
        "id": "6MKwTeV3wljF",
        "colab_type": "text"
      },
      "source": [
        " El volumen sumergido se puede calcular como <br><br>\n",
        "$\\displaystyle V=\\int_{R-H}^{R}\\pi f(x)^{2} = \\int_{R-H}^{R}\\pi (R^{2}-x^{2})dx$"
      ]
    },
    {
      "cell_type": "markdown",
      "metadata": {
        "id": "eb6ebX49wljJ",
        "colab_type": "text"
      },
      "source": [
        "Para R = 1 m el volumen es"
      ]
    },
    {
      "cell_type": "code",
      "metadata": {
        "id": "xqnmcU2fwljO",
        "colab_type": "code",
        "outputId": "f6a4ee85-76c4-4884-cbd5-4c2ab193615d",
        "colab": {
          "base_uri": "https://localhost:8080/",
          "height": 36
        }
      },
      "source": [
        "x,H,R  = symbols('x,H,R')\n",
        "f= pi *(1-x**2)\n",
        "i=integrate(f, (x, 1-H, 1))\n",
        "print(latex(i))"
      ],
      "execution_count": 0,
      "outputs": [
        {
          "output_type": "stream",
          "text": [
            "\\frac{\\pi}{3} \\left(- H + 1\\right)^{3} - \\pi \\left(- H + 1\\right) + \\frac{2 \\pi}{3}\n"
          ],
          "name": "stdout"
        }
      ]
    },
    {
      "cell_type": "code",
      "metadata": {
        "id": "wAANuYYg7USH",
        "colab_type": "code",
        "colab": {}
      },
      "source": [
        ""
      ],
      "execution_count": 0,
      "outputs": []
    },
    {
      "cell_type": "markdown",
      "metadata": {
        "id": "yzUIAkAtw99z",
        "colab_type": "text"
      },
      "source": [
        "$\\frac{\\pi}{3} \\left(- H + 1\\right)^{3} - \\pi \\left(- H + 1\\right) + \\frac{2 \\pi}{3}$"
      ]
    },
    {
      "cell_type": "code",
      "metadata": {
        "id": "0ExygnDH6WMo",
        "colab_type": "code",
        "outputId": "de807965-5d61-4893-e6c6-5ff5e0b90ff0",
        "colab": {
          "base_uri": "https://localhost:8080/",
          "height": 81
        }
      },
      "source": [
        "i"
      ],
      "execution_count": 0,
      "outputs": [
        {
          "output_type": "display_data",
          "data": {
            "text/html": [
              "<script src='https://cdnjs.cloudflare.com/ajax/libs/mathjax/2.7.3/latest.js?config=default'></script>"
            ],
            "text/plain": [
              "<IPython.core.display.HTML object>"
            ]
          },
          "metadata": {
            "tags": []
          }
        },
        {
          "output_type": "execute_result",
          "data": {
            "text/latex": "$$\\frac{\\pi}{3} \\left(- H + 1\\right)^{3} - \\pi \\left(- H + 1\\right) + \\frac{2 \\pi}{3}$$",
            "text/plain": [
              "          3                   \n",
              "π⋅(-H + 1)                 2⋅π\n",
              "─────────── - π⋅(-H + 1) + ───\n",
              "     3                      3 "
            ]
          },
          "metadata": {
            "tags": []
          },
          "execution_count": 84
        }
      ]
    },
    {
      "cell_type": "code",
      "metadata": {
        "id": "1SEfpnuKwljd",
        "colab_type": "code",
        "outputId": "cf311090-082e-4de2-ecdb-1371f01bdee5",
        "colab": {
          "base_uri": "https://localhost:8080/",
          "height": 36
        }
      },
      "source": [
        "print(latex(simplify(i)))"
      ],
      "execution_count": 0,
      "outputs": [
        {
          "output_type": "stream",
          "text": [
            "\\frac{\\pi H^{2}}{3} \\left(- H + 3\\right)\n"
          ],
          "name": "stdout"
        }
      ]
    },
    {
      "cell_type": "markdown",
      "metadata": {
        "id": "T68VY4_ExK44",
        "colab_type": "text"
      },
      "source": [
        "$\\frac{\\pi H^{2}}{3} \\left(- H + 3\\right)$"
      ]
    },
    {
      "cell_type": "code",
      "metadata": {
        "id": "Shn8UyZ27J2b",
        "colab_type": "code",
        "outputId": "00d1087b-e6c9-46ea-9a6d-5d73d6bdedb3",
        "colab": {
          "base_uri": "https://localhost:8080/",
          "height": 84
        }
      },
      "source": [
        "simplify(i)"
      ],
      "execution_count": 0,
      "outputs": [
        {
          "output_type": "display_data",
          "data": {
            "text/html": [
              "<script src='https://cdnjs.cloudflare.com/ajax/libs/mathjax/2.7.3/latest.js?config=default'></script>"
            ],
            "text/plain": [
              "<IPython.core.display.HTML object>"
            ]
          },
          "metadata": {
            "tags": []
          }
        },
        {
          "output_type": "execute_result",
          "data": {
            "text/latex": "$$\\frac{\\pi H^{2}}{3} \\left(- H + 3\\right)$$",
            "text/plain": [
              "   2         \n",
              "π⋅H ⋅(-H + 3)\n",
              "─────────────\n",
              "      3      "
            ]
          },
          "metadata": {
            "tags": []
          },
          "execution_count": 82
        }
      ]
    },
    {
      "cell_type": "markdown",
      "metadata": {
        "id": "-q8jZvKqwljq",
        "colab_type": "text"
      },
      "source": [
        "## $V=\\frac{\\pi}{3}(3H^{2}-H^{3})$"
      ]
    },
    {
      "cell_type": "markdown",
      "metadata": {
        "id": "Fn7dYJzdwljt",
        "colab_type": "text"
      },
      "source": [
        "### Y el peso del volumen desalojado"
      ]
    },
    {
      "cell_type": "markdown",
      "metadata": {
        "id": "H9wBjDPuwljx",
        "colab_type": "text"
      },
      "source": [
        "### $P=V*\\rho_{a} = V*1000=25+2=27$"
      ]
    },
    {
      "cell_type": "markdown",
      "metadata": {
        "id": "wBA0V9ogwlj1",
        "colab_type": "text"
      },
      "source": [
        "## $\\frac{\\pi }{3}(3H^{2}-H^{3})=0.027$"
      ]
    },
    {
      "cell_type": "code",
      "metadata": {
        "id": "euQef5-xwlj5",
        "colab_type": "code",
        "outputId": "c2acfc63-76ad-4697-b004-374560689997",
        "colab": {
          "base_uri": "https://localhost:8080/",
          "height": 284
        }
      },
      "source": [
        "def esfera(H):\n",
        "    return np.pi/3*(3*H**2-H**3)-0.027\n",
        "def esferaprima(H):\n",
        "    return np.pi/3*(6*H-3*H**2)-0.027\n",
        "x = np.linspace(-0.2,0.2,200)\n",
        "plt.grid()\n",
        "plt.axhline(y=0,color='k')\n",
        "plt.plot(x,esfera(x))\n",
        "plt.plot(x,esferaprima(x))"
      ],
      "execution_count": 0,
      "outputs": [
        {
          "output_type": "execute_result",
          "data": {
            "text/plain": [
              "[<matplotlib.lines.Line2D at 0x7fa4249a5908>]"
            ]
          },
          "metadata": {
            "tags": []
          },
          "execution_count": 13
        },
        {
          "output_type": "display_data",
          "data": {
            "image/png": "[encoded data removed]",
            "text/plain": [
              "<Figure size 432x288 with 1 Axes>"
            ]
          },
          "metadata": {
            "tags": []
          }
        }
      ]
    },
    {
      "cell_type": "code",
      "metadata": {
        "id": "AbAY_N1bwlkE",
        "colab_type": "code",
        "outputId": "19684232-4db1-41f7-f84e-9993b921edfe",
        "colab": {
          "base_uri": "https://localhost:8080/",
          "height": 36
        }
      },
      "source": [
        "\n",
        "x0 = symbols('x0')\n",
        "F0 = pi/3*(3*x0**2-x0**3)-0.027\n",
        "print(latex(diff(F0, x0)))\n",
        "#print(diff(F0, x0))\n",
        "#diff(F0, x0)"
      ],
      "execution_count": 0,
      "outputs": [
        {
          "output_type": "stream",
          "text": [
            "\\frac{\\pi}{3} \\left(- 3 x_{0}^{2} + 6 x_{0}\\right)\n"
          ],
          "name": "stdout"
        }
      ]
    },
    {
      "cell_type": "markdown",
      "metadata": {
        "id": "C1dKV9PExbIA",
        "colab_type": "text"
      },
      "source": [
        "$\\frac{\\pi}{3} \\left(- 3 x_{0}^{2} + 6 x_{0}\\right)$"
      ]
    },
    {
      "cell_type": "markdown",
      "metadata": {
        "id": "Pmn0zWq0wlkQ",
        "colab_type": "text"
      },
      "source": [
        "$\\displaystyle \\frac{\\pi \\left(- 3 x_{0}^{2} + 6 x_{0}\\right)}{3}$\n"
      ]
    },
    {
      "cell_type": "code",
      "metadata": {
        "id": "yEKtBYZZwlkT",
        "colab_type": "code",
        "outputId": "f182a4bb-e80a-477d-b27f-0d33550d1823",
        "colab": {
          "base_uri": "https://localhost:8080/",
          "height": 73
        }
      },
      "source": [
        "sol = bisec(esfera,0,1,1e-5, 50)\n"
      ],
      "execution_count": 0,
      "outputs": [
        {
          "output_type": "stream",
          "text": [
            "solución 0.094208\n",
            "alcanzada en  15 iteraciones\n",
            "valor de la función = 0.0000063919\n"
          ],
          "name": "stdout"
        }
      ]
    },
    {
      "cell_type": "code",
      "metadata": {
        "id": "YY-KXWq4wlkd",
        "colab_type": "code",
        "outputId": "3acb6ec5-2843-40e0-f0db-6735288afc92",
        "colab": {
          "base_uri": "https://localhost:8080/",
          "height": 73
        }
      },
      "source": [
        "sol =newton(esfera,esferaprima,0.5,1e-5, 50,0)"
      ],
      "execution_count": 0,
      "outputs": [
        {
          "output_type": "stream",
          "text": [
            "solución 0.094202\n",
            "alcanzada en   5 iteraciones\n",
            "valor de la función = 0.0000030255\n"
          ],
          "name": "stdout"
        }
      ]
    },
    {
      "cell_type": "code",
      "metadata": {
        "id": "SKUB7QpHwlkn",
        "colab_type": "code",
        "outputId": "5aedbbb2-4f0d-4db6-a68d-4df2751f788c",
        "colab": {
          "base_uri": "https://localhost:8080/",
          "height": 73
        }
      },
      "source": [
        "sol = newton2(esfera,0.9,1e-5, 50,0)"
      ],
      "execution_count": 0,
      "outputs": [
        {
          "output_type": "stream",
          "text": [
            "solución 0.094203\n",
            "alcanzada en   5 iteraciones\n",
            "valor de la función = 0.0000037755\n"
          ],
          "name": "stdout"
        }
      ]
    },
    {
      "cell_type": "markdown",
      "metadata": {
        "id": "ABrDDRQ-wlkx",
        "colab_type": "text"
      },
      "source": [
        "## 2 . La ecuación de Bernoulli para el flujo de fluido en una tubería abierta con una pequeña protuberancia es\n",
        "\n"
      ]
    },
    {
      "cell_type": "markdown",
      "metadata": {
        "id": "cnooGo6Ywlk0",
        "colab_type": "text"
      },
      "source": [
        "<img src=\"https://drive.google.com/uc?id=12ZdSXp5pL2UXm8xHnKRnX0XA9Y6onLbV\" alt=\"Lamp\" width=\"420\" height=\"320\">"
      ]
    },
    {
      "cell_type": "markdown",
      "metadata": {
        "id": "PCJlrQr8wlk3",
        "colab_type": "text"
      },
      "source": [
        "$$\\frac{Q^{2}}{2gb^{2}h_{0}^{2}}+h_{0} = \\frac{Q^{2}}{2gb^{2}h^{2}}+h + H $$"
      ]
    },
    {
      "cell_type": "markdown",
      "metadata": {
        "id": "rQ0MiCCcwlk5",
        "colab_type": "text"
      },
      "source": [
        "Donde:<br>\n",
        "$\n",
        "Q = 1.2 \\,m^{3}/s = $&nbsp;&nbsp; caudal de agua  <br>\n",
        "$g = 9.81 \\, m/s^{2} = $&nbsp;&nbsp;aceleración de la gravedad <br>\n",
        "$b = 1.8 \\, m = $&nbsp;&nbsp;ancho de la tubería <br>\n",
        "$h_0 = 0.6 \\,m = $&nbsp;&nbsp;altura del agua en la tubería <br>\n",
        "$H = 0.075 \\,m = $&nbsp;&nbsp;altura de la protuberancia <br>\n",
        "$h = $&nbsp;&nbsp;altura del agua en la protuberancia <br>\n",
        "\n",
        "    "
      ]
    },
    {
      "cell_type": "markdown",
      "metadata": {
        "id": "C-3VVw-hwlk-",
        "colab_type": "text"
      },
      "source": [
        "Para los datos dados calcular $h$"
      ]
    },
    {
      "cell_type": "markdown",
      "metadata": {
        "id": "mBKfvTF6wllB",
        "colab_type": "text"
      },
      "source": [
        "Ayuda: Dividir ambos lados de la ecuación anterior por $h_0$. Introducir una nueva variable $\\displaystyle u=\\frac{h}{h_0}$. Operar y obtener $f(u)=0$. Resolver utilizando el método de la bisección."
      ]
    },
    {
      "cell_type": "markdown",
      "metadata": {
        "id": "yO1W4uWswllF",
        "colab_type": "text"
      },
      "source": [
        "$$\\frac{Q^{2}}{2gb^{2}h_{0}^{3}}+ 1 = \\frac{Q^{2}}{2gb^{2}h_{0}^{3}}\\left(\\frac{h_0}{h}\\right)^{2}+ \\frac{h}{h_0} + \\frac{H}{h_0} $$"
      ]
    },
    {
      "cell_type": "markdown",
      "metadata": {
        "id": "_KgQ9dr-wllI",
        "colab_type": "text"
      },
      "source": [
        "$$f(u)=\\displaystyle \\frac{Q^{2}}{2gb^{2}h_{0}^{3}}\\left( 1-\\frac{1}{u^{2}}\\right)-u+ \\left( 1-\\frac{H}{h_0}\\right)=0$$"
      ]
    },
    {
      "cell_type": "markdown",
      "metadata": {
        "id": "N1wC-g4_wllL",
        "colab_type": "text"
      },
      "source": [
        "$$\\frac{Q^{2}}{2gb^{2}h_{0}^{3}}=\\frac{(1.2)^{2}}{2(9.81)(1.8)^{2}(0.6)^{3}}=0.10487$$"
      ]
    },
    {
      "cell_type": "markdown",
      "metadata": {
        "id": "6qjLNM-cwllM",
        "colab_type": "text"
      },
      "source": [
        "$$1-\\frac{H}{h_{0}}=1-\\frac{0.075}{0.6}=0.875$$"
      ]
    },
    {
      "cell_type": "markdown",
      "metadata": {
        "id": "u023S6qWwllS",
        "colab_type": "text"
      },
      "source": [
        "$$f(u) = 0.10487\\left( 1-\\frac{1}{u^{2}}\\right)-u+0.875 = 0$$"
      ]
    },
    {
      "cell_type": "code",
      "metadata": {
        "id": "Sugug8K0wllV",
        "colab_type": "code",
        "colab": {}
      },
      "source": [
        "x = symbols('x')\n",
        "F0 = 0.10487*(1-1/x**2)-x+0.875\n",
        "print(latex(diff(F0, x)))\n",
        "#print(diff(F0, x))\n",
        "#diff(F0, x)"
      ],
      "execution_count": 0,
      "outputs": []
    },
    {
      "cell_type": "markdown",
      "metadata": {
        "id": "QvGk17a-x5Ux",
        "colab_type": "text"
      },
      "source": [
        "$-1 + \\frac{0.20974}{x^{3}}$"
      ]
    },
    {
      "cell_type": "code",
      "metadata": {
        "id": "Dbdf3rM8wlld",
        "colab_type": "code",
        "outputId": "f7894509-557f-4f5b-a1c1-70bd5e8e606e",
        "colab": {
          "base_uri": "https://localhost:8080/",
          "height": 284
        }
      },
      "source": [
        "def bernoulli(x):\n",
        "    y = 0.10487*(1-1/x**2)-x+0.875\n",
        "    return y\n",
        "def bernoullider(x):\n",
        "    y = -1+(0.20974/x**3)\n",
        "    return y\n",
        "\n",
        "\n",
        "x = np.linspace(0.2,0.5,200)\n",
        "plt.grid()\n",
        "plt.axhline(y=0,color='k')\n",
        "plt.plot(x,bernoulli(x))\n",
        "plt.plot(x,bernoullider(x))"
      ],
      "execution_count": 0,
      "outputs": [
        {
          "output_type": "execute_result",
          "data": {
            "text/plain": [
              "[<matplotlib.lines.Line2D at 0x7fa4248fdbe0>]"
            ]
          },
          "metadata": {
            "tags": []
          },
          "execution_count": 23
        },
        {
          "output_type": "display_data",
          "data": {
            "image/png": "[encoded data removed]",
            "text/plain": [
              "<Figure size 432x288 with 1 Axes>"
            ]
          },
          "metadata": {
            "tags": []
          }
        }
      ]
    },
    {
      "cell_type": "code",
      "metadata": {
        "id": "tuARpyFUwlll",
        "colab_type": "code",
        "outputId": "700a5f25-7e0a-45ce-eb5e-b630068cdebb",
        "colab": {
          "base_uri": "https://localhost:8080/",
          "height": 73
        }
      },
      "source": [
        "u = bisec(bernoulli,0.3,0.5,1e-5,50)"
      ],
      "execution_count": 0,
      "outputs": [
        {
          "output_type": "stream",
          "text": [
            "solución 0.441248\n",
            "alcanzada en  14 iteraciones\n",
            "valor de la función = -0.0000027198\n"
          ],
          "name": "stdout"
        }
      ]
    },
    {
      "cell_type": "code",
      "metadata": {
        "id": "srBHSFa4wllt",
        "colab_type": "code",
        "outputId": "0106115b-064e-4907-9ee6-bac3ef05f61d",
        "colab": {
          "base_uri": "https://localhost:8080/",
          "height": 73
        }
      },
      "source": [
        "u = newton(bernoulli,bernoullider,0.3,1e-5,50,0)"
      ],
      "execution_count": 0,
      "outputs": [
        {
          "output_type": "stream",
          "text": [
            "solución 0.441249\n",
            "alcanzada en   5 iteraciones\n",
            "valor de la función = -0.0000000064\n"
          ],
          "name": "stdout"
        }
      ]
    },
    {
      "cell_type": "code",
      "metadata": {
        "id": "qK4M5WN2wll2",
        "colab_type": "code",
        "outputId": "7c0af8b1-cc83-4199-815a-b0db4c583faf",
        "colab": {
          "base_uri": "https://localhost:8080/",
          "height": 36
        }
      },
      "source": [
        "h0=0.6\n",
        "h = u*h0\n",
        "print ('h es ',h)"
      ],
      "execution_count": 0,
      "outputs": [
        {
          "output_type": "stream",
          "text": [
            "h es  0.2647496646840147\n"
          ],
          "name": "stdout"
        }
      ]
    },
    {
      "cell_type": "markdown",
      "metadata": {
        "id": "EeKmHt7EwlmC",
        "colab_type": "text"
      },
      "source": [
        "### 3.- La velocidad $v$ de un cohete Saturno V cerca de la superficie terrestre se puede aproximar mediante"
      ]
    },
    {
      "cell_type": "markdown",
      "metadata": {
        "id": "BbZeoXccwlmG",
        "colab_type": "text"
      },
      "source": [
        "$\\displaystyle v=u\\ln\\left(\\frac{M_{0}}{M_{0}-\\dot{m}t}\\right)-gt$"
      ]
    },
    {
      "cell_type": "markdown",
      "metadata": {
        "id": "CtVIjHtDwlmI",
        "colab_type": "text"
      },
      "source": [
        "Siendo :\n",
        "\n",
        "$u = 2510\\, m/s = $&nbsp; velocidad de salida de los gases de propulsión<br>\n",
        "$M_{0} = 2.8 × 10^{6}\\, kg = $&nbsp;masa del cohete al despegue<br>\n",
        "$\\dot m = 13.3 × 10^{3}\\, kg/s = $&nbsp;velocidad de consumo de combustible<br>\n",
        "$g = 9.81\\, m/s^{2} = $&nbsp;aceleración de la gravedad<br>\n",
        "$t = $&nbsp;tiempo medido desde el despegue"
      ]
    },
    {
      "cell_type": "markdown",
      "metadata": {
        "id": "vab-m7xGwlmL",
        "colab_type": "text"
      },
      "source": [
        "#### Determinar el tiempo en el que el cohete alcanza la velocidad del sonido $335 \\,m/s$"
      ]
    },
    {
      "cell_type": "markdown",
      "metadata": {
        "id": "x7FqZ-UMwlmN",
        "colab_type": "text"
      },
      "source": [
        "$\\displaystyle f(t)=u \\ln \\left [\\frac {1}{1- \\left( \\frac {\\dot m}{M_0} \\right)t} \\right ]-gt-v_{sound}=0 $"
      ]
    },
    {
      "cell_type": "markdown",
      "metadata": {
        "id": "QB-ssUvJwlmP",
        "colab_type": "text"
      },
      "source": [
        "$\\displaystyle f(t)= 2510 \\,\\ln \\left (\\frac {1}{1- 0.00475t} \\right)-9.81t-335$"
      ]
    },
    {
      "cell_type": "code",
      "metadata": {
        "id": "m5g1ZIYzwlmT",
        "colab_type": "code",
        "outputId": "9fe87e8b-1162-405b-f1b3-d1d5e7edd87d",
        "colab": {
          "base_uri": "https://localhost:8080/",
          "height": 284
        }
      },
      "source": [
        "def cohete(x):\n",
        "    y = 2510*np.log(1/(1-0.00475*x))-9.81*x-335\n",
        "    return y\n",
        "\n",
        "x = np.linspace(0,100,200)\n",
        "plt.grid()\n",
        "plt.axhline(y=0,color='k')\n",
        "plt.plot(x,cohete(x))"
      ],
      "execution_count": 0,
      "outputs": [
        {
          "output_type": "execute_result",
          "data": {
            "text/plain": [
              "[<matplotlib.lines.Line2D at 0x7fa42488e630>]"
            ]
          },
          "metadata": {
            "tags": []
          },
          "execution_count": 27
        },
        {
          "output_type": "display_data",
          "data": {
            "image/png": "[encoded data removed]",
            "text/plain": [
              "<Figure size 432x288 with 1 Axes>"
            ]
          },
          "metadata": {
            "tags": []
          }
        }
      ]
    },
    {
      "cell_type": "code",
      "metadata": {
        "id": "7sPinv_9wlmc",
        "colab_type": "code",
        "outputId": "de12520a-72cb-4143-abfe-91c49ffa5ffd",
        "colab": {
          "base_uri": "https://localhost:8080/",
          "height": 36
        }
      },
      "source": [
        "x = symbols('x')\n",
        "F0 = 2510*log(1/(1-0.00475*x))-9.81*x-335\n",
        "#print(latex(diff(F0, x0)))\n",
        "#print(diff(F0, x0))\n",
        "print(latex(diff(F0, x)))"
      ],
      "execution_count": 0,
      "outputs": [
        {
          "output_type": "stream",
          "text": [
            "-9.81 + \\frac{11.9225}{- 0.00475 x + 1}\n"
          ],
          "name": "stdout"
        }
      ]
    },
    {
      "cell_type": "markdown",
      "metadata": {
        "id": "72MdsyC-yQaQ",
        "colab_type": "text"
      },
      "source": [
        "$9.81 + \\frac{11.9225}{- 0.00475 x + 1}$"
      ]
    },
    {
      "cell_type": "code",
      "metadata": {
        "id": "pb0zC3WAwlmj",
        "colab_type": "code",
        "colab": {}
      },
      "source": [
        "def coheteder(x):\n",
        "    y = -9.81 + (11.9225/(1-0.00475*x))\n",
        "    return y"
      ],
      "execution_count": 0,
      "outputs": []
    },
    {
      "cell_type": "code",
      "metadata": {
        "id": "WStMvrE-wlmr",
        "colab_type": "code",
        "outputId": "acafab5c-2e41-4d30-aac3-3408897d9098",
        "colab": {
          "base_uri": "https://localhost:8080/",
          "height": 73
        }
      },
      "source": [
        "t = bisec(cohete,60,80,1e-5,50)"
      ],
      "execution_count": 0,
      "outputs": [
        {
          "output_type": "stream",
          "text": [
            "solución 70.877972\n",
            "alcanzada en  20 iteraciones\n",
            "valor de la función = -0.0000050526\n"
          ],
          "name": "stdout"
        }
      ]
    },
    {
      "cell_type": "code",
      "metadata": {
        "id": "tYKBrwPzwlmx",
        "colab_type": "code",
        "outputId": "a7aee9d0-bc72-4b7a-8811-50f5b7b5f681",
        "colab": {
          "base_uri": "https://localhost:8080/",
          "height": 73
        }
      },
      "source": [
        "t = newton(cohete,coheteder,30,1e-5, 50,0)"
      ],
      "execution_count": 0,
      "outputs": [
        {
          "output_type": "stream",
          "text": [
            "solución 70.877972\n",
            "alcanzada en   5 iteraciones\n",
            "valor de la función = 0.0000000000\n"
          ],
          "name": "stdout"
        }
      ]
    },
    {
      "cell_type": "code",
      "metadata": {
        "id": "7tTaQM9gwlm5",
        "colab_type": "code",
        "outputId": "b951d06a-169b-46f8-d766-a26212355307",
        "colab": {
          "base_uri": "https://localhost:8080/",
          "height": 73
        }
      },
      "source": [
        "t = newton2(cohete,40,1e-5, 50,0)"
      ],
      "execution_count": 0,
      "outputs": [
        {
          "output_type": "stream",
          "text": [
            "solución 70.877972\n",
            "alcanzada en   4 iteraciones\n",
            "valor de la función = 0.0000008514\n"
          ],
          "name": "stdout"
        }
      ]
    },
    {
      "cell_type": "markdown",
      "metadata": {
        "id": "e8dm3jGTwlnC",
        "colab_type": "text"
      },
      "source": [
        "#### 4.-  Un tanque de aceite cilíndrico de radio $r$ y longitud $L$ se llena hasta una profundidad $h$. El volumen $V$ resultante del aceite en el tanque es :"
      ]
    },
    {
      "cell_type": "markdown",
      "metadata": {
        "id": "wnPnUzCqwlnF",
        "colab_type": "text"
      },
      "source": [
        "<img src=\"https://drive.google.com/uc?id=1yCot_xedOh44rNeMQTJmybJNTNTL0txz\" alt=\"Lamp\" width=\"220\" height=\"120\">"
      ]
    },
    {
      "cell_type": "markdown",
      "metadata": {
        "id": "j9wvg3HzwlnH",
        "colab_type": "text"
      },
      "source": [
        "$ V_0 = \\pi r^{2}L$"
      ]
    },
    {
      "cell_type": "markdown",
      "metadata": {
        "id": "oi0-BRv7wlnI",
        "colab_type": "text"
      },
      "source": [
        "$\\displaystyle V=r^{2}L\\left[\\phi-\\left(1-\\frac{h}{r}\\right)\\sin\\phi\\right] $"
      ]
    },
    {
      "cell_type": "markdown",
      "metadata": {
        "id": "Nmd9fK5uwlnL",
        "colab_type": "text"
      },
      "source": [
        "$\\displaystyle \\phi-\\left(1-\\frac{h}{r}\\right)\\sin\\phi = 0.75 $"
      ]
    },
    {
      "cell_type": "markdown",
      "metadata": {
        "id": "NNc02Tv5wlnM",
        "colab_type": "text"
      },
      "source": [
        "$\\displaystyle \\alpha  = 1 -\\frac{h}{r} $"
      ]
    },
    {
      "cell_type": "markdown",
      "metadata": {
        "id": "I2Cv3QPmwlnO",
        "colab_type": "text"
      },
      "source": [
        "#### Siendo $\\displaystyle \\phi=\\cos^{-1}\\left(1-\\frac{h}{r}\\right) $"
      ]
    },
    {
      "cell_type": "markdown",
      "metadata": {
        "id": "aO2E7F9vwlnQ",
        "colab_type": "text"
      },
      "source": [
        "La ecuación a resolver es \n",
        "$\\displaystyle 0.75 \\pi -\\left(\\phi -\\alpha \\sin\\phi \\right) = 0 $"
      ]
    },
    {
      "cell_type": "markdown",
      "metadata": {
        "id": "SpBaplKdwlnS",
        "colab_type": "text"
      },
      "source": [
        " Si el tanque está lleno 3/4 del volumen total determinat la relación $\\displaystyle  \\frac{h}{r}$"
      ]
    },
    {
      "cell_type": "code",
      "metadata": {
        "id": "AFBdR9-VwlnV",
        "colab_type": "code",
        "outputId": "a17a072d-0bee-4cdf-da8a-5fae78491f3b",
        "colab": {
          "base_uri": "https://localhost:8080/",
          "height": 288
        }
      },
      "source": [
        "def tanque(x):\n",
        "    phi = np.arccos(x)\n",
        "    y = 0.75*np.pi - (phi-x*np.sin(phi))\n",
        "    return y\n",
        "\n",
        "x = np.linspace(-1,1,200)\n",
        "plt.grid()\n",
        "plt.axhline(y=0,color='k')\n",
        "plt.plot(x,tanque(x))"
      ],
      "execution_count": 0,
      "outputs": [
        {
          "output_type": "execute_result",
          "data": {
            "text/plain": [
              "[<matplotlib.lines.Line2D at 0x7fa425092e10>]"
            ]
          },
          "metadata": {
            "tags": []
          },
          "execution_count": 36
        },
        {
          "output_type": "display_data",
          "data": {
            "image/png": "[encoded data removed]",
            "text/plain": [
              "<Figure size 432x288 with 1 Axes>"
            ]
          },
          "metadata": {
            "tags": []
          }
        }
      ]
    },
    {
      "cell_type": "code",
      "metadata": {
        "id": "cVM4Htkywlnb",
        "colab_type": "code",
        "outputId": "fb2e1379-c1d1-4718-8181-5787576e87a4",
        "colab": {
          "base_uri": "https://localhost:8080/",
          "height": 73
        }
      },
      "source": [
        "alfa = bisec(tanque,-0.5,0.5,1e-5,50)"
      ],
      "execution_count": 0,
      "outputs": [
        {
          "output_type": "stream",
          "text": [
            "solución -0.403976\n",
            "alcanzada en  16 iteraciones\n",
            "valor de la función = -0.0000067458\n"
          ],
          "name": "stdout"
        }
      ]
    },
    {
      "cell_type": "code",
      "metadata": {
        "id": "RcGvsVoYwlnl",
        "colab_type": "code",
        "outputId": "84b64c3f-b9f2-44c8-c298-fe29b5ae221e",
        "colab": {}
      },
      "source": [
        "print('Relacion h/r es 1-alfa',1-alfa)"
      ],
      "execution_count": 0,
      "outputs": [
        {
          "output_type": "stream",
          "text": [
            "Relacion h/r es 1-alfa 1.4039764404296875\n"
          ],
          "name": "stdout"
        }
      ]
    },
    {
      "cell_type": "markdown",
      "metadata": {
        "id": "eAZxzWDzwlnr",
        "colab_type": "text"
      },
      "source": [
        "#### 5.- Los sistemas mecánicos  implican la desviación de resortes no lineales. \n",
        "En la siguiente figura, un bloque de masa $m $ se libera a una distancia $h$ por\n",
        "encima de un resorte no lineal. \n",
        "La resistencia la fuerza F del resorte viene dada por"
      ]
    },
    {
      "cell_type": "markdown",
      "metadata": {
        "id": "wncyj4Hxwlnu",
        "colab_type": "text"
      },
      "source": [
        "<img src=\"https://drive.google.com/uc?id=17-8e6sqm2yaXWLegw8JzHcR-PocKWL_e\" alt=\"Lamp\" width=\"220\" height=\"120\">"
      ]
    },
    {
      "cell_type": "markdown",
      "metadata": {
        "id": "7IOjJIMywlnw",
        "colab_type": "text"
      },
      "source": [
        "Los sistemas mecánicos reales pueden implicar la desviación\n",
        "de resortes no lineales. En la figura P6.20, un bloque de masa m es\n",
        "liberado una distancia h por encima de un resorte no lineal. La resistencia\n",
        "la fuerza F del resorte viene dada por"
      ]
    },
    {
      "cell_type": "markdown",
      "metadata": {
        "id": "O_koie1Bwln0",
        "colab_type": "text"
      },
      "source": [
        " La fuerza de resistencia $F$ del resorte viene dada por"
      ]
    },
    {
      "cell_type": "markdown",
      "metadata": {
        "id": "AqTV5NWQwln2",
        "colab_type": "text"
      },
      "source": [
        "$\\displaystyle F=-\\left(k_{1}d+k_{2}d^{3/2}\\right)$"
      ]
    },
    {
      "cell_type": "markdown",
      "metadata": {
        "id": "w5jU53pPwln4",
        "colab_type": "text"
      },
      "source": [
        "Por otro lado el principio de conservación de energía nos dice que:"
      ]
    },
    {
      "cell_type": "markdown",
      "metadata": {
        "id": "-Hfdi5bAwln6",
        "colab_type": "text"
      },
      "source": [
        "$\\displaystyle 0=\\frac{2k_{2}d^{\\frac{5}{2}}}{5}+\\frac{1}{2}k_{1}d^{2}-mgd-mgh $"
      ]
    },
    {
      "cell_type": "markdown",
      "metadata": {
        "id": "E5D4ys2gwln9",
        "colab_type": "text"
      },
      "source": [
        "Encontrar  $d$, dados los siguientes valores: <br>\n",
        "k1 = 40.000 g / $s^{2}$<br>\n",
        "k2 = 40 g / ($s^{2} m^{0.5}$)<br>\n",
        "m = 95 g<br>\n",
        "g = 9.81 m / $s^{2}$<br>\n",
        "h = 0,43 m."
      ]
    },
    {
      "cell_type": "markdown",
      "metadata": {
        "id": "FSoMLj55wloC",
        "colab_type": "text"
      },
      "source": [
        "Definamos\n",
        "$\n",
        "\\displaystyle F(d) = \\frac{2k_2d^{\\frac{5}{2}}}{5}+\\frac{1}{2}k_1d^{2}-mgd-mgh$"
      ]
    },
    {
      "cell_type": "markdown",
      "metadata": {
        "id": "OQiDp6VOwloF",
        "colab_type": "text"
      },
      "source": [
        "Mirando la gráfica escogemos el intervalo [0.1,0.2]"
      ]
    },
    {
      "cell_type": "code",
      "metadata": {
        "id": "ij1FalVJwloH",
        "colab_type": "code",
        "outputId": "d0471013-2d15-4304-e83a-35a98acd675c",
        "colab": {}
      },
      "source": [
        "def Fuerza(x):\n",
        "    y = (2*40*x**(5/2))/5 + 0.5*40000*x**(2)-95*9.81*x - 95*9.81*0.43\n",
        "    return y\n",
        "\n",
        "x = np.linspace(0,1,200)\n",
        "plt.grid()\n",
        "plt.axhline(y=0,color='k')\n",
        "plt.plot(x,Fuerza(x))"
      ],
      "execution_count": 0,
      "outputs": [
        {
          "output_type": "execute_result",
          "data": {
            "text/plain": [
              "[<matplotlib.lines.Line2D at 0x155f02027f0>]"
            ]
          },
          "metadata": {
            "tags": []
          },
          "execution_count": 43
        },
        {
          "output_type": "display_data",
          "data": {
            "image/png": "[encoded data removed]",
            "text/plain": [
              "<Figure size 432x288 with 1 Axes>"
            ]
          },
          "metadata": {
            "tags": []
          }
        }
      ]
    },
    {
      "cell_type": "code",
      "metadata": {
        "id": "F3gXVCvBwloU",
        "colab_type": "code",
        "outputId": "5fb5a879-cd71-46e8-a00d-96694063924b",
        "colab": {}
      },
      "source": [
        "d = bisec(Fuerza,0,0.25,1e-5,50)"
      ],
      "execution_count": 0,
      "outputs": [
        {
          "output_type": "stream",
          "text": [
            "solución 0.166724\n",
            "alcanzada en  27 iteraciones\n",
            "valor de la función = -0.0000001910\n"
          ],
          "name": "stdout"
        }
      ]
    },
    {
      "cell_type": "markdown",
      "metadata": {
        "id": "_HJAn63Pwlob",
        "colab_type": "text"
      },
      "source": [
        "Respuesta d = 0.16672"
      ]
    },
    {
      "cell_type": "markdown",
      "metadata": {
        "id": "qaFNcr0dwlod",
        "colab_type": "text"
      },
      "source": [
        "#### 6.   La trayectoria de una pelota lanzado en un juego de béisbol por el lanzador derecho se define por las coordenadas (x, y) como se muestra en la figura . La trayectoria se puede modelar como"
      ]
    },
    {
      "cell_type": "markdown",
      "metadata": {
        "id": "4HuhzEW6wloe",
        "colab_type": "text"
      },
      "source": [
        "<img src=\"https://drive.google.com/uc?id=1zn1RpROm6xCQTKbZCn9FM6sSwBi15E-t\" alt=\"Lamp\" width=\"220\" height=\"120\">"
      ]
    },
    {
      "cell_type": "markdown",
      "metadata": {
        "id": "zY7YWdMBwlog",
        "colab_type": "text"
      },
      "source": [
        "$\\displaystyle Y=\\left(\\tan\\theta_{0}\\right)x-\\frac{g}{2v_{0}^{2}\\cos^{2}\\theta_{0}}x^{2}+y_{0} $"
      ]
    },
    {
      "cell_type": "markdown",
      "metadata": {
        "id": "Pcu0NtPcwloj",
        "colab_type": "text"
      },
      "source": [
        "Encontrar el ángulo inicial apropiado $θ_0$, si $v_0 = 30\\, m/s $, y la\n",
        " distancia al receptor es de $90\\,m$. Tengamos en cuenta que el lanzamiento deja la\n",
        "mano del lanzador  derecho a una altura de $1.8 \\,m$ y el receptor recibe la pelota a \n",
        "$1\\, m$ de altura. $y_0$ es la altura a la que el receptor atrapa la pelota."
      ]
    },
    {
      "cell_type": "markdown",
      "metadata": {
        "id": "s9p6eAWcwlok",
        "colab_type": "text"
      },
      "source": [
        "Si la altura a la que la pelota abandona el brazo del lanzador es $y = 0$ para $x=0$ entonces  $y\\, a \\,90 \\, mts $ es -0.8 mts cuando el receptor coge la pelota, con lo que tenemos la ecuación"
      ]
    },
    {
      "cell_type": "markdown",
      "metadata": {
        "id": "GtRI4ZGuwlo8",
        "colab_type": "text"
      },
      "source": [
        "$\\displaystyle F(\\theta_0) = -0.8-(\\tan\\theta_o)x+\\frac{g}{2v_0^{2}\\cos^{2}\\theta_0}x^{2}$"
      ]
    },
    {
      "cell_type": "markdown",
      "metadata": {
        "id": "5nVHHyOmwlo-",
        "colab_type": "text"
      },
      "source": [
        "Sustituyendo por los valores conocidos\n"
      ]
    },
    {
      "cell_type": "markdown",
      "metadata": {
        "id": "Jc_Y3khdwlo_",
        "colab_type": "text"
      },
      "source": [
        "$\\displaystyle F(\\theta_0) = -0.8-90\\tan\\theta_0+\\frac{9.81}{2*30^{2}\\cos^{2}\\theta_0}90^{2}$"
      ]
    },
    {
      "cell_type": "code",
      "metadata": {
        "id": "NiXedDgAwlpB",
        "colab_type": "code",
        "outputId": "1d0ca5c1-83f8-49ce-8770-e52054cdb360",
        "colab": {
          "base_uri": "https://localhost:8080/",
          "height": 284
        }
      },
      "source": [
        "def Pelota(x):\n",
        "    y = -0.8 -90*np.tan(x)+((9.81)/(2*30**(2)*(np.cos(x))**2 ))*90**2\n",
        "    return y\n",
        "\n",
        "x = np.linspace(0,1,200)\n",
        "plt.grid()\n",
        "plt.axhline(y=0,color='k')\n",
        "plt.plot(x,Pelota(x))"
      ],
      "execution_count": 0,
      "outputs": [
        {
          "output_type": "execute_result",
          "data": {
            "text/plain": [
              "[<matplotlib.lines.Line2D at 0x7fa4247d4860>]"
            ]
          },
          "metadata": {
            "tags": []
          },
          "execution_count": 38
        },
        {
          "output_type": "display_data",
          "data": {
            "image/png": "[encoded data removed]",
            "text/plain": [
              "<Figure size 432x288 with 1 Axes>"
            ]
          },
          "metadata": {
            "tags": []
          }
        }
      ]
    },
    {
      "cell_type": "markdown",
      "metadata": {
        "id": "YfI2IkT1wlpH",
        "colab_type": "text"
      },
      "source": [
        "Dibujando vemos que las raices están en {0.6,0.7] y [0.8,1] estando los ángulos en radianes"
      ]
    },
    {
      "cell_type": "code",
      "metadata": {
        "scrolled": true,
        "id": "GgJnJD0wwlpJ",
        "colab_type": "code",
        "outputId": "19bdab70-824d-4d3a-8b30-2138b6b5a61b",
        "colab": {
          "base_uri": "https://localhost:8080/",
          "height": 73
        }
      },
      "source": [
        "theta = bisec(Pelota,0.8,1,1e-5,50)"
      ],
      "execution_count": 0,
      "outputs": [
        {
          "output_type": "stream",
          "text": [
            "solución 0.899398\n",
            "alcanzada en  19 iteraciones\n",
            "valor de la función = -0.0000019303\n"
          ],
          "name": "stdout"
        }
      ]
    },
    {
      "cell_type": "code",
      "metadata": {
        "id": "57A_PBGywlpR",
        "colab_type": "code",
        "outputId": "89de73f8-11eb-472f-e282-3ae520ab794a",
        "colab": {
          "base_uri": "https://localhost:8080/",
          "height": 36
        }
      },
      "source": [
        "print('theta es',theta*180/np.pi)"
      ],
      "execution_count": 0,
      "outputs": [
        {
          "output_type": "stream",
          "text": [
            "theta es 51.531733695146535\n"
          ],
          "name": "stdout"
        }
      ]
    },
    {
      "cell_type": "code",
      "metadata": {
        "scrolled": true,
        "id": "Qv35dZ0cwlpZ",
        "colab_type": "code",
        "outputId": "d3abaa8d-9035-4ec3-ceed-b9737582610a",
        "colab": {
          "base_uri": "https://localhost:8080/",
          "height": 73
        }
      },
      "source": [
        "theta = bisec(Pelota,0.6,1,1e-5,50)"
      ],
      "execution_count": 0,
      "outputs": [
        {
          "output_type": "stream",
          "text": [
            "solución 0.662509\n",
            "alcanzada en  17 iteraciones\n",
            "valor de la función = 0.0000020089\n"
          ],
          "name": "stdout"
        }
      ]
    },
    {
      "cell_type": "code",
      "metadata": {
        "id": "vXLgBFvbwlph",
        "colab_type": "code",
        "outputId": "f6a86d0d-906e-44c4-d99d-ef1dc79a3403",
        "colab": {}
      },
      "source": [
        "print('theta es',theta*180/np.pi)"
      ],
      "execution_count": 0,
      "outputs": [
        {
          "output_type": "stream",
          "text": [
            "theta es 37.958978485945295\n"
          ],
          "name": "stdout"
        }
      ]
    },
    {
      "cell_type": "markdown",
      "metadata": {
        "id": "Em_CAGezwlpo",
        "colab_type": "text"
      },
      "source": [
        "**Solución 37.96 o 51.53 grados **"
      ]
    },
    {
      "cell_type": "markdown",
      "metadata": {
        "id": "nLLUfNfIwlpp",
        "colab_type": "text"
      },
      "source": [
        "### Sistemas de ecuaciones no lineales"
      ]
    },
    {
      "cell_type": "markdown",
      "metadata": {
        "id": "SgahVwF1wlpy",
        "colab_type": "text"
      },
      "source": [
        "## 1.- Determinar los puntos de intersección entre el círculo $ x^{2} + y^{2} = 3 $ y la hipérbola $xy = 1$."
      ]
    },
    {
      "cell_type": "markdown",
      "metadata": {
        "id": "f1gVSunFwlp2",
        "colab_type": "text"
      },
      "source": [
        "Las ecuaciones son:\n",
        "$$f1(x, y) = x^{2} + y^{2} − 3 =0$$ \n",
        "$$f2(x, y) = xy − 1 =0$$"
      ]
    },
    {
      "cell_type": "code",
      "metadata": {
        "id": "JP83KHWpwlp5",
        "colab_type": "code",
        "outputId": "f0463810-7510-4e2b-e342-7a70804c5029",
        "colab": {
          "base_uri": "https://localhost:8080/",
          "height": 34
        }
      },
      "source": [
        "## PODEMOS COMPROBAR QUE NUESTRO JACOBIANO ESTE BIEN CALCULADO CON UTILIZANDO\n",
        "## LA LIBRERIA DE CALCULO SIMBOLICO  SYMPY\n",
        "\n",
        "\n",
        "x0, x1 = symbols('x0 x1')\n",
        "X = Matrix([x0**2+x1**2-3,x0*x1-1])\n",
        "Y = Matrix([x0, x1])\n",
        "X.jacobian(Y)"
      ],
      "execution_count": 0,
      "outputs": [
        {
          "output_type": "execute_result",
          "data": {
            "text/latex": "$$\\left[\\begin{matrix}2 x_{0} & 2 x_{1}\\\\x_{1} & x_{0}\\end{matrix}\\right]$$",
            "text/plain": [
              "⎡2⋅x₀  2⋅x₁⎤\n",
              "⎢          ⎥\n",
              "⎣ x₁    x₀ ⎦"
            ]
          },
          "metadata": {
            "tags": []
          },
          "execution_count": 43
        }
      ]
    },
    {
      "cell_type": "markdown",
      "metadata": {
        "id": "Cp7SPvoezjCK",
        "colab_type": "text"
      },
      "source": [
        "$$\\left[\\begin{matrix}2 x_{0} & 2 x_{1}\\\\x_{1} & x_{0}\\end{matrix}\\right]$$"
      ]
    },
    {
      "cell_type": "markdown",
      "metadata": {
        "id": "9NyVUOluwlp_",
        "colab_type": "text"
      },
      "source": [
        "<img src=\"https://drive.google.com/uc?id=1HAdRKQe1fZFIrnCGxryG-0nWblnkFKly\" alt=\"Lamp\" width=\"220\" height=\"120\">\n"
      ]
    },
    {
      "cell_type": "markdown",
      "metadata": {
        "id": "E8KNDkKVwlqB",
        "colab_type": "text"
      },
      "source": [
        "Encontrar un sólo punto de intersección, los demás son simétricos, \n",
        "los valores iniciales estimados son $x = 0.5 \\,\\, y = 1.5$<br>\n",
        "\n",
        "1.- Hacer  $x_0 = x$ y $x1 =y$ <br> \n",
        "2.- Obtener el JACOBIANO de forma analítica <br>\n",
        "2.-Utilizar el método de Newton-Raphson para  encontrar la solución\n"
      ]
    },
    {
      "cell_type": "code",
      "metadata": {
        "id": "4FbIMbkRwlqC",
        "colab_type": "code",
        "colab": {}
      },
      "source": [
        "#DEFINICIÓN DEL VECTOR DE FUNCIONES Y SU JACOBIANO\n",
        "def F0(x):\n",
        "    return np.array([x[0]**2+x[1]**2-3,\n",
        "                     x[0]*x[1]-1])\n",
        "\n",
        "def J0(x):\n",
        "    return np.array([[2*x[0], 2*x[1]],\n",
        "                     [x[1], x[0]]])\n"
      ],
      "execution_count": 0,
      "outputs": []
    },
    {
      "cell_type": "code",
      "metadata": {
        "id": "kdFEEqf5wlqI",
        "colab_type": "code",
        "colab": {}
      },
      "source": [
        ""
      ],
      "execution_count": 0,
      "outputs": []
    },
    {
      "cell_type": "code",
      "metadata": {
        "id": "8fx1jz8PwlqN",
        "colab_type": "code",
        "outputId": "af6c491e-684d-4622-f69e-4ab75c330156",
        "colab": {
          "base_uri": "https://localhost:8080/",
          "height": 91
        }
      },
      "source": [
        "x, n = Newton_raphson(F0, J0, x=np.array([0.5, 1.5]), eps=0.0001)\n",
        "print ('Iteraciones y soluciones ',n, x)"
      ],
      "execution_count": 0,
      "outputs": [
        {
          "output_type": "stream",
          "text": [
            "iteración 1\n",
            "iteración 2\n",
            "iteración 3\n",
            "Iteraciones y soluciones  3 [0.61803399 1.61803399]\n"
          ],
          "name": "stdout"
        }
      ]
    },
    {
      "cell_type": "code",
      "metadata": {
        "id": "Z8Kj_JKBwlqT",
        "colab_type": "code",
        "outputId": "cf3a6254-8474-47d6-9465-20a05fef6220",
        "colab": {
          "base_uri": "https://localhost:8080/",
          "height": 91
        }
      },
      "source": [
        "x, n = Newton_raphson2(F0, x=np.array([0.5, 1.5]), eps=0.0001)\n",
        "print ('Iteraciones y soluciones ',n, x)"
      ],
      "execution_count": 0,
      "outputs": [
        {
          "output_type": "stream",
          "text": [
            "iteración 1\n",
            "iteración 2\n",
            "iteración 3\n",
            "Iteraciones y soluciones  3 [0.61803399 1.61803399]\n"
          ],
          "name": "stdout"
        }
      ]
    },
    {
      "cell_type": "markdown",
      "metadata": {
        "id": "dbCS-BpvwlqZ",
        "colab_type": "text"
      },
      "source": [
        "** solución  x=0.61803  y = 1.61803 **"
      ]
    },
    {
      "cell_type": "markdown",
      "metadata": {
        "id": "veOD2Fa4wlqb",
        "colab_type": "text"
      },
      "source": [
        "## 2.-  La trayectoria de un satélite que orbita la tierra es"
      ]
    },
    {
      "cell_type": "code",
      "metadata": {
        "id": "t-hTxKc5wlqc",
        "colab_type": "code",
        "colab": {}
      },
      "source": [
        ""
      ],
      "execution_count": 0,
      "outputs": []
    },
    {
      "cell_type": "markdown",
      "metadata": {
        "id": "3LJkNnL1wlqh",
        "colab_type": "text"
      },
      "source": [
        "<img src=\"https://drive.google.com/uc?id=13aWwkPQAVwLE-Iaa0rDevLSRqyU4nk6L\" alt=\"Lamp\" width=\"220\" height=\"120\">"
      ]
    },
    {
      "cell_type": "markdown",
      "metadata": {
        "id": "V2qI24h2wlqk",
        "colab_type": "text"
      },
      "source": [
        "The trajectory of a satellite orbiting the earth is"
      ]
    },
    {
      "cell_type": "markdown",
      "metadata": {
        "id": "WKUgO-Rjwlql",
        "colab_type": "text"
      },
      "source": [
        "$ \\displaystyle R =\\frac{C}{1+e\\sin(\\theta+\\alpha)}$"
      ]
    },
    {
      "cell_type": "markdown",
      "metadata": {
        "id": "laFmzonkwlqo",
        "colab_type": "text"
      },
      "source": [
        "where (R, θ) are the polar coordinates of the satellite, and C, e, and α are constants\n",
        "(e is known as the eccentricity of the orbit). If the satellite was observed at\n",
        "the following three positions"
      ]
    },
    {
      "cell_type": "markdown",
      "metadata": {
        "id": "XjiMZRmswlqq",
        "colab_type": "text"
      },
      "source": [
        "\n",
        "| $ \\theta$ | -30º | 0º | 30º |\n",
        "| --- | --- | --- | --- |\n",
        "| R (Km) | 6870 | 6728 | 6615 |"
      ]
    },
    {
      "cell_type": "markdown",
      "metadata": {
        "id": "rP1MukL1wlqr",
        "colab_type": "text"
      },
      "source": [
        "determine the smallest R of the trajectory and the corresponding value of θ."
      ]
    },
    {
      "cell_type": "markdown",
      "metadata": {
        "id": "Ov9WMQWawlqt",
        "colab_type": "text"
      },
      "source": [
        "Obtenemos el siguiemte conjunto de ecuaciones"
      ]
    },
    {
      "cell_type": "markdown",
      "metadata": {
        "id": "I6FTB6Scwlqv",
        "colab_type": "text"
      },
      "source": [
        "\\begin{align}\n",
        "&\\frac{C}{1+e\\sin(-\\pi/6+\\alpha)} - 6870  = 0 \\\\ \n",
        "&\\frac{C}{1+e\\sin(\\alpha)} - 6728 = 0 \\\\\n",
        "&\\frac{C}{1+e\\sin(\\pi/6+\\alpha)} - 6615 = 0\n",
        "\\end{align}"
      ]
    },
    {
      "cell_type": "code",
      "metadata": {
        "id": "HP9aCReAwlqx",
        "colab_type": "code",
        "outputId": "9f72d4ae-922b-401d-a176-e845d20034e8",
        "colab": {
          "base_uri": "https://localhost:8080/",
          "height": 121
        }
      },
      "source": [
        "\n",
        "x0,x1,x2 = symbols('x0 x1 x2')\n",
        "F0 = x0/(1+x1*sin(-pi/6+x2))-6870\n",
        "F1 = x0/(1+x1*sin(x2))-6728\n",
        "F2 = x0/(1+x1*sin(pi/6+x2))-6615\n",
        "\n",
        "X = Matrix([F0, F1, F2])\n",
        "Y = Matrix([x0, x1,x2])\n",
        "X.jacobian(Y)\n"
      ],
      "execution_count": 0,
      "outputs": [
        {
          "output_type": "execute_result",
          "data": {
            "text/latex": "$$\\left[\\begin{matrix}\\frac{1}{- x_{1} \\cos{\\left (x_{2} + \\frac{\\pi}{3} \\right )} + 1} & \\frac{x_{0} \\cos{\\left (x_{2} + \\frac{\\pi}{3} \\right )}}{\\left(- x_{1} \\cos{\\left (x_{2} + \\frac{\\pi}{3} \\right )} + 1\\right)^{2}} & - \\frac{x_{0} x_{1} \\sin{\\left (x_{2} + \\frac{\\pi}{3} \\right )}}{\\left(- x_{1} \\cos{\\left (x_{2} + \\frac{\\pi}{3} \\right )} + 1\\right)^{2}}\\\\\\frac{1}{x_{1} \\sin{\\left (x_{2} \\right )} + 1} & - \\frac{x_{0} \\sin{\\left (x_{2} \\right )}}{\\left(x_{1} \\sin{\\left (x_{2} \\right )} + 1\\right)^{2}} & - \\frac{x_{0} x_{1} \\cos{\\left (x_{2} \\right )}}{\\left(x_{1} \\sin{\\left (x_{2} \\right )} + 1\\right)^{2}}\\\\\\frac{1}{x_{1} \\sin{\\left (x_{2} + \\frac{\\pi}{6} \\right )} + 1} & - \\frac{x_{0} \\sin{\\left (x_{2} + \\frac{\\pi}{6} \\right )}}{\\left(x_{1} \\sin{\\left (x_{2} + \\frac{\\pi}{6} \\right )} + 1\\right)^{2}} & - \\frac{x_{0} x_{1} \\cos{\\left (x_{2} + \\frac{\\pi}{6} \\right )}}{\\left(x_{1} \\sin{\\left (x_{2} + \\frac{\\pi}{6} \\right )} + 1\\right)^{2}}\\end{matrix}\\right]$$",
            "text/plain": [
              "⎡                                 ⎛     π⎞                  ⎛     π⎞   ⎤\n",
              "⎢                           x₀⋅cos⎜x₂ + ─⎟        -x₀⋅x₁⋅sin⎜x₂ + ─⎟   ⎥\n",
              "⎢         1                       ⎝     3⎠                  ⎝     3⎠   ⎥\n",
              "⎢────────────────────  ───────────────────────  ───────────────────────⎥\n",
              "⎢        ⎛     π⎞                            2                        2⎥\n",
              "⎢- x₁⋅cos⎜x₂ + ─⎟ + 1  ⎛        ⎛     π⎞    ⎞   ⎛        ⎛     π⎞    ⎞ ⎥\n",
              "⎢        ⎝     3⎠      ⎜- x₁⋅cos⎜x₂ + ─⎟ + 1⎟   ⎜- x₁⋅cos⎜x₂ + ─⎟ + 1⎟ ⎥\n",
              "⎢                      ⎝        ⎝     3⎠    ⎠   ⎝        ⎝     3⎠    ⎠ ⎥\n",
              "⎢                                                                      ⎥\n",
              "⎢         1                  -x₀⋅sin(x₂)            -x₀⋅x₁⋅cos(x₂)     ⎥\n",
              "⎢   ──────────────        ─────────────────        ─────────────────   ⎥\n",
              "⎢   x₁⋅sin(x₂) + 1                        2                        2   ⎥\n",
              "⎢                         (x₁⋅sin(x₂) + 1)         (x₁⋅sin(x₂) + 1)    ⎥\n",
              "⎢                                                                      ⎥\n",
              "⎢                                 ⎛     π⎞                  ⎛     π⎞   ⎥\n",
              "⎢                          -x₀⋅sin⎜x₂ + ─⎟        -x₀⋅x₁⋅cos⎜x₂ + ─⎟   ⎥\n",
              "⎢         1                       ⎝     6⎠                  ⎝     6⎠   ⎥\n",
              "⎢ ──────────────────    ─────────────────────    ───────────────────── ⎥\n",
              "⎢       ⎛     π⎞                            2                        2 ⎥\n",
              "⎢ x₁⋅sin⎜x₂ + ─⎟ + 1    ⎛      ⎛     π⎞    ⎞     ⎛      ⎛     π⎞    ⎞  ⎥\n",
              "⎢       ⎝     6⎠        ⎜x₁⋅sin⎜x₂ + ─⎟ + 1⎟     ⎜x₁⋅sin⎜x₂ + ─⎟ + 1⎟  ⎥\n",
              "⎣                       ⎝      ⎝     6⎠    ⎠     ⎝      ⎝     6⎠    ⎠  ⎦"
            ]
          },
          "metadata": {
            "tags": []
          },
          "execution_count": 48
        }
      ]
    },
    {
      "cell_type": "markdown",
      "metadata": {
        "id": "MEJ7tB2RztqJ",
        "colab_type": "text"
      },
      "source": [
        "$$\\left[\\begin{matrix}\\frac{1}{- x_{1} \\cos{\\left (x_{2} + \\frac{\\pi}{3} \\right )} + 1} & \\frac{x_{0} \\cos{\\left (x_{2} + \\frac{\\pi}{3} \\right )}}{\\left(- x_{1} \\cos{\\left (x_{2} + \\frac{\\pi}{3} \\right )} + 1\\right)^{2}} & - \\frac{x_{0} x_{1} \\sin{\\left (x_{2} + \\frac{\\pi}{3} \\right )}}{\\left(- x_{1} \\cos{\\left (x_{2} + \\frac{\\pi}{3} \\right )} + 1\\right)^{2}}\\\\\\frac{1}{x_{1} \\sin{\\left (x_{2} \\right )} + 1} & - \\frac{x_{0} \\sin{\\left (x_{2} \\right )}}{\\left(x_{1} \\sin{\\left (x_{2} \\right )} + 1\\right)^{2}} & - \\frac{x_{0} x_{1} \\cos{\\left (x_{2} \\right )}}{\\left(x_{1} \\sin{\\left (x_{2} \\right )} + 1\\right)^{2}}\\\\\\frac{1}{x_{1} \\sin{\\left (x_{2} + \\frac{\\pi}{6} \\right )} + 1} & - \\frac{x_{0} \\sin{\\left (x_{2} + \\frac{\\pi}{6} \\right )}}{\\left(x_{1} \\sin{\\left (x_{2} + \\frac{\\pi}{6} \\right )} + 1\\right)^{2}} & - \\frac{x_{0} x_{1} \\cos{\\left (x_{2} + \\frac{\\pi}{6} \\right )}}{\\left(x_{1} \\sin{\\left (x_{2} + \\frac{\\pi}{6} \\right )} + 1\\right)^{2}}\\end{matrix}\\right]$$"
      ]
    },
    {
      "cell_type": "code",
      "metadata": {
        "id": "yOrt0Z9Fwlq3",
        "colab_type": "code",
        "colab": {}
      },
      "source": [
        "def F0(x):\n",
        "    return np.array([x[0]/(1+x[1]*np.sin(-np.pi/6+x[2]))-6870,\n",
        "                     x[0]/(1+x[1]*np.sin(x[2]))-6728,\n",
        "                     x[0]/(1+x[1]*np.sin(np.pi/6+x[2]))-6615])\n",
        "\n",
        "def J0(x):\n",
        "    return np.array([[2*x[0] + np.cos(np.pi*x[0]) - np.pi*x[0]*np.sin(np.pi*x[0]),\n",
        "                      -1.],[x[1] + x[0]**(-2.), x[0] - np.exp(-x[1])]])\n"
      ],
      "execution_count": 0,
      "outputs": []
    },
    {
      "cell_type": "markdown",
      "metadata": {
        "id": "duF11W3zwlq-",
        "colab_type": "text"
      },
      "source": [
        "Haciendo $C=x_0$ $e=x_1$ y $\\alpha=x_2$ Utilizar como valores iniciales 6800,0.5,0"
      ]
    },
    {
      "cell_type": "code",
      "metadata": {
        "id": "dvye6sR8wlq_",
        "colab_type": "code",
        "outputId": "8cab9975-c527-4667-ca86-dc60c26fdf30",
        "colab": {
          "base_uri": "https://localhost:8080/",
          "height": 166
        }
      },
      "source": [
        "x, n = Newton_raphson2(F0, x=np.array([6800, 0.5,0],dtype=float), eps=0.00001)\n",
        "print (n, x)"
      ],
      "execution_count": 0,
      "outputs": [
        {
          "output_type": "stream",
          "text": [
            "iteración 1\n",
            "iteración 2\n",
            "iteración 3\n",
            "iteración 4\n",
            "iteración 5\n",
            "iteración 6\n",
            "iteración 7\n",
            "7 [6.81929379e+03 4.05989591e-02 3.40783998e-01]\n"
          ],
          "name": "stdout"
        }
      ]
    },
    {
      "cell_type": "markdown",
      "metadata": {
        "id": "SQkspdz2wlrF",
        "colab_type": "text"
      },
      "source": [
        "Los valores mínimos son \n",
        "$\\displaystyle R_{min} = \\frac{C}{1+e}$ <br>\n",
        "que tiene lugar cuando\n",
        "$\\displaystyle \\sin(\\theta+\\alpha) = 1 \\,\\,\\, \\theta = \\frac{\\pi}{2}-\\alpha$"
      ]
    },
    {
      "cell_type": "markdown",
      "metadata": {
        "id": "naBTzfyNwlrG",
        "colab_type": "text"
      },
      "source": [
        "Solucion <br>\n",
        "C = 6.81929379E+03 <br>\n",
        "e= 4.05989591E-02 <br>\n",
        "alfa = 0,340783998 <br>\n",
        "Rmin = 6553.239107 Km <br>\n",
        "Theta = 70.474515 deg <br>\n"
      ]
    },
    {
      "cell_type": "markdown",
      "metadata": {
        "id": "H6AfIdMcwlrK",
        "colab_type": "text"
      },
      "source": [
        "## 3.- Un proyectil se lanza desde el punto O con una velocidad  v y un ángulo θ.  Las ecuaciones paramétricas de la trayectoria son:"
      ]
    },
    {
      "cell_type": "markdown",
      "metadata": {
        "id": "7OTeBuXSwlrL",
        "colab_type": "text"
      },
      "source": [
        "A projectile is launched at O with the velocity v at the angle θ to the horizontal.\n",
        "The parametric equations of the trajectory are"
      ]
    },
    {
      "cell_type": "markdown",
      "metadata": {
        "id": "iVgqTTCdwlrN",
        "colab_type": "text"
      },
      "source": [
        "<img src=\"https://drive.google.com/uc?id=1mXs108No003xzu86fd0bQsvXNAjfOObM\" alt=\"Lamp\" width=\"220\" height=\"120\">"
      ]
    },
    {
      "cell_type": "markdown",
      "metadata": {
        "id": "se0QNZJiwlrP",
        "colab_type": "text"
      },
      "source": [
        "$\\displaystyle x=(v\\cos\\theta)t$<br>\n",
        "$\\displaystyle y=-\\frac{1}{2}gt^{2}+(v\\sin\\theta)t$\n"
      ]
    },
    {
      "cell_type": "markdown",
      "metadata": {
        "id": "YTtGSwZ3wlrQ",
        "colab_type": "text"
      },
      "source": [
        "where t is the time measured from the instant of launch, and g = 9.81 m/s2 represents\n",
        "the gravitational acceleration. If the projectile is to hit the target A at the\n",
        "45◦ angle shown in the figure, determine v, θ, and the time of flight."
      ]
    },
    {
      "cell_type": "markdown",
      "metadata": {
        "id": "ofmCWQAEwlrS",
        "colab_type": "text"
      },
      "source": [
        "Necesitamos encontrar $\\displaystyle \\frac{dy}{dx}$"
      ]
    },
    {
      "cell_type": "markdown",
      "metadata": {
        "id": "hPZZgUbFwlrV",
        "colab_type": "text"
      },
      "source": [
        "$\\displaystyle \\frac{dx}{dt} = v\\cos\\theta \\,\\,\\,\\,\\frac{dy}{dt}=-gt+v\\sin\\theta $<br><br>\n",
        "$\\displaystyle \\frac{dy}{dx} = \\frac{-gt+v\\sin\\theta}{v\\cos\\theta} $"
      ]
    },
    {
      "cell_type": "markdown",
      "metadata": {
        "id": "SifGzjrYwlrX",
        "colab_type": "text"
      },
      "source": [
        "Haciendo $\\tau$ el tiempo de vuelo, las especificaciones finales nos dicen que"
      ]
    },
    {
      "cell_type": "markdown",
      "metadata": {
        "id": "pNXfl1gIwlrY",
        "colab_type": "text"
      },
      "source": [
        "$\\displaystyle x(\\tau) = 300\\,m\\,\\,\\, y(\\tau) = 61 \\, m \\,\\,\\,y \\,\\,\\,   \\left. \\frac{dy}{dx} \\right |_{\\tau}= -1$"
      ]
    },
    {
      "cell_type": "markdown",
      "metadata": {
        "id": "bs4iuzy9wlra",
        "colab_type": "text"
      },
      "source": [
        "que os permite escribir las siguientes ecuaciones"
      ]
    },
    {
      "cell_type": "markdown",
      "metadata": {
        "id": "x9PKeVU0wlrc",
        "colab_type": "text"
      },
      "source": [
        "\\begin{align}\n",
        "& (v\\cos\\theta)\\tau-300 = 0\\\\ \n",
        "& -\\frac{1}{2}gt^{2}+(v\\sin\\theta)\\tau-61 = 0\\\\\n",
        "& \\frac{-g\\tau+v\\sin\\theta}{v\\cos\\theta}+1= 0\n",
        "\\end{align}"
      ]
    },
    {
      "cell_type": "markdown",
      "metadata": {
        "id": "29_rdvyjwlre",
        "colab_type": "text"
      },
      "source": [
        "Podemos empezar con valores como $\\tau = 10\\, s$ y $\\theta = 45º$\n",
        "con lo que la primera ecuación nos da $\\displaystyle v = \\frac{300}{\\tau\\cos\\theta}= 57\\,\\,m/s.$\n",
        "Utilizaremos la notación $\\tau = x_0 \\,\\,\\, , v = x_1 \\,\\,y\\,\\, \\theta = x_2$"
      ]
    },
    {
      "cell_type": "code",
      "metadata": {
        "id": "NVlurAq1wlrg",
        "colab_type": "code",
        "colab": {}
      },
      "source": [
        "def F0(x):\n",
        "    return np.array([x[1]*np.cos(x[2])*x[0]-300,\n",
        "                     -0.5*9.81*x[0]**2+x[1]*np.sin(x[2])*x[0]-61,\n",
        "                     (-9.81*x[0]+x[1]*np.sin(x[2]))/(x[1]*np.cos(x[2]))+1])"
      ],
      "execution_count": 0,
      "outputs": []
    },
    {
      "cell_type": "code",
      "metadata": {
        "id": "19D2Vvcawlrl",
        "colab_type": "code",
        "outputId": "9efb2476-078b-4fbe-f60c-a45a52aa29aa",
        "colab": {
          "base_uri": "https://localhost:8080/",
          "height": 110
        }
      },
      "source": [
        "x, n = Newton_raphson2(F0, x=np.array([10, 57,0.78],dtype=float), eps=0.00001)\n",
        "print (n, x)"
      ],
      "execution_count": 0,
      "outputs": [
        {
          "output_type": "stream",
          "text": [
            "iteración 1\n",
            "iteración 2\n",
            "iteración 3\n",
            "iteración 4\n",
            "4 [ 8.5789492  60.35334577  0.95279201]\n"
          ],
          "name": "stdout"
        }
      ]
    },
    {
      "cell_type": "code",
      "metadata": {
        "id": "kWfZQA_Rwlrs",
        "colab_type": "code",
        "outputId": "a20e2e34-80e2-47ae-f907-0e4285048366",
        "colab": {
          "base_uri": "https://localhost:8080/",
          "height": 36
        }
      },
      "source": [
        "print('theta es', x[2]*180/np.pi)"
      ],
      "execution_count": 0,
      "outputs": [
        {
          "output_type": "stream",
          "text": [
            "theta es 54.5909610115005\n"
          ],
          "name": "stdout"
        }
      ]
    },
    {
      "cell_type": "markdown",
      "metadata": {
        "id": "kZQewPqdwlry",
        "colab_type": "text"
      },
      "source": [
        "Solucion tiempo de vuelo 8.5789 s <br>\n",
        "Velocidad de lanzamiento 60.3533459 <br>\n",
        "Angulo de elevación = 54.5909 grados \n"
      ]
    },
    {
      "cell_type": "markdown",
      "metadata": {
        "id": "Jwz8W6owwlr3",
        "colab_type": "text"
      },
      "source": [
        "## 4.- Un cable de 15 m está suspendido entre A y D y soporta cargas concentradas en B y C. Las ecuaciones de equilibrio vertical de las uniones B y C son:"
      ]
    },
    {
      "cell_type": "markdown",
      "metadata": {
        "id": "Bnphogi9wlr5",
        "colab_type": "text"
      },
      "source": [
        "<img src=\"https://drive.google.com/uc?id=1ejnVSuAxHGKci4JhSP0wYE6kYva8SpsR\" alt=\"Lamp\" width=\"220\" height=\"120\">\n"
      ]
    },
    {
      "cell_type": "markdown",
      "metadata": {
        "id": "A_1ITgTOwlr7",
        "colab_type": "text"
      },
      "source": [
        "donde T es el componente horizontal de la fuerza del cable (es el mismo en todos los segmentos.\n",
        "Además, hay dos restricciones geométricas impuestas por Las posiciones de los soportes:\n",
        "\n"
      ]
    },
    {
      "cell_type": "markdown",
      "metadata": {
        "id": "rmb-7FRAwlr9",
        "colab_type": "text"
      },
      "source": [
        "\n",
        "$$ T(-\\tan \\theta_2 +\\tan \\theta_1)=16 $$\n",
        "$$ T(\\tan \\theta_3 +\\tan \\theta_2)= 20 $$"
      ]
    },
    {
      "cell_type": "markdown",
      "metadata": {
        "id": "J5AXZ143wlr_",
        "colab_type": "text"
      },
      "source": [
        "\n",
        "$$ -4 \\sin \\theta_1 -6 \\sin \\theta_2 +5 \\sin \\theta_3 = -3 $$\n",
        "$$ 4 \\cos \\theta_1 + 6 \\cos \\theta_2 + 5 \\cos \\theta_3 = 12$$"
      ]
    },
    {
      "cell_type": "code",
      "metadata": {
        "id": "K-3c9PkMwlsB",
        "colab_type": "code",
        "colab": {}
      },
      "source": [
        "def F0(x):\n",
        "    return np.array([ x[0]*(-np.tan(x[2])+np.tan(x[1]))-16,\n",
        "                      x[0]*(np.tan(x[3])+np.tan(x[2]))-20,\n",
        "                     -4*np.sin(x[1]) - 6*np.sin(x[2])+ 5*np.sin(x[3])+3,\n",
        "                      4*np.cos(x[1]) + 6*np.cos(x[2])+ 5*np.cos(x[3])-12 ])"
      ],
      "execution_count": 0,
      "outputs": []
    },
    {
      "cell_type": "code",
      "metadata": {
        "id": "Xmi44UQtwlsH",
        "colab_type": "code",
        "outputId": "26d3eae7-cded-4e06-8aab-63c88db678db",
        "colab": {
          "base_uri": "https://localhost:8080/",
          "height": 69
        }
      },
      "source": [
        "\n",
        "x0,x1,x2,x3 = symbols('x0 x1 x2 x3')\n",
        "FA = x0*(-tan(x2)+tan(x1))-16\n",
        "FB = x0*(tan(x3)+tan(x2))-20\n",
        "FC = -4*sin(x1)-6*sin(x2)+5*sin(x2)+3\n",
        "FD = 4*cos(x1)+6*cos(x2)+5*cos(x3)-12\n",
        "X = Matrix([FA, FB, FC, FD])\n",
        "Y = Matrix([x0, x1,x2,x3])\n",
        "X.jacobian(Y)\n"
      ],
      "execution_count": 0,
      "outputs": [
        {
          "output_type": "execute_result",
          "data": {
            "text/latex": "$$\\left[\\begin{matrix}\\tan{\\left (x_{1} \\right )} - \\tan{\\left (x_{2} \\right )} & x_{0} \\left(\\tan^{2}{\\left (x_{1} \\right )} + 1\\right) & x_{0} \\left(- \\tan^{2}{\\left (x_{2} \\right )} - 1\\right) & 0\\\\\\tan{\\left (x_{2} \\right )} + \\tan{\\left (x_{3} \\right )} & 0 & x_{0} \\left(\\tan^{2}{\\left (x_{2} \\right )} + 1\\right) & x_{0} \\left(\\tan^{2}{\\left (x_{3} \\right )} + 1\\right)\\\\0 & - 4 \\cos{\\left (x_{1} \\right )} & - \\cos{\\left (x_{2} \\right )} & 0\\\\0 & - 4 \\sin{\\left (x_{1} \\right )} & - 6 \\sin{\\left (x_{2} \\right )} & - 5 \\sin{\\left (x_{3} \\right )}\\end{matrix}\\right]$$",
            "text/plain": [
              "⎡                      ⎛   2        ⎞     ⎛     2        ⎞                   ⎤\n",
              "⎢tan(x₁) - tan(x₂)  x₀⋅⎝tan (x₁) + 1⎠  x₀⋅⎝- tan (x₂) - 1⎠          0        ⎥\n",
              "⎢                                                                            ⎥\n",
              "⎢                                          ⎛   2        ⎞      ⎛   2        ⎞⎥\n",
              "⎢tan(x₂) + tan(x₃)          0           x₀⋅⎝tan (x₂) + 1⎠   x₀⋅⎝tan (x₃) + 1⎠⎥\n",
              "⎢                                                                            ⎥\n",
              "⎢        0             -4⋅cos(x₁)           -cos(x₂)                0        ⎥\n",
              "⎢                                                                            ⎥\n",
              "⎣        0             -4⋅sin(x₁)          -6⋅sin(x₂)          -5⋅sin(x₃)    ⎦"
            ]
          },
          "metadata": {
            "tags": []
          },
          "execution_count": 57
        }
      ]
    },
    {
      "cell_type": "markdown",
      "metadata": {
        "id": "aLnPmMFF0Ak5",
        "colab_type": "text"
      },
      "source": [
        "$$\\left[\\begin{matrix}\\tan{\\left (x_{1} \\right )} - \\tan{\\left (x_{2} \\right )} & x_{0} \\left(\\tan^{2}{\\left (x_{1} \\right )} + 1\\right) & x_{0} \\left(- \\tan^{2}{\\left (x_{2} \\right )} - 1\\right) & 0\\\\\\tan{\\left (x_{2} \\right )} + \\tan{\\left (x_{3} \\right )} & 0 & x_{0} \\left(\\tan^{2}{\\left (x_{2} \\right )} + 1\\right) & x_{0} \\left(\\tan^{2}{\\left (x_{3} \\right )} + 1\\right)\\\\0 & - 4 \\cos{\\left (x_{1} \\right )} & - \\cos{\\left (x_{2} \\right )} & 0\\\\0 & - 4 \\sin{\\left (x_{1} \\right )} & - 6 \\sin{\\left (x_{2} \\right )} & - 5 \\sin{\\left (x_{3} \\right )}\\end{matrix}\\right]$$"
      ]
    },
    {
      "cell_type": "markdown",
      "metadata": {
        "id": "iTI5OsP0wlsN",
        "colab_type": "text"
      },
      "source": [
        "Tenemos entonces 4 ecuaciones y cuatro incógnitas"
      ]
    },
    {
      "cell_type": "markdown",
      "metadata": {
        "id": "ytlgJMIpwlsP",
        "colab_type": "text"
      },
      "source": [
        "**Determinar los ángulos θ1, θ2, θ3 y T . Utilzando Newton Raphson**"
      ]
    },
    {
      "cell_type": "markdown",
      "metadata": {
        "id": "uMc4Zcfq0B2-",
        "colab_type": "text"
      },
      "source": [
        ""
      ]
    },
    {
      "cell_type": "markdown",
      "metadata": {
        "id": "kMyOuk57wlsR",
        "colab_type": "text"
      },
      "source": [
        "** Determinar los ángulos θ1, θ2, θ3 y T . **<br>\n",
        "1.- Hacer $x_0= T \\,\\,x_1=\\theta1\\,\\,x_2=\\theta2\\,\\,x_3=\\theta3$ <br>\n",
        "2.- Utilizar Newton Raphson con valores aproximados θ1 = 0.8 rad θ2 = 0.3 rad θ3 = 0.4 rad T = 20 kN. Probar con la versión del algoritmo que utiliza el Jacobiano y la versión con Jacobiano aproximado"
      ]
    },
    {
      "cell_type": "code",
      "metadata": {
        "id": "2nqSIoxKwlsT",
        "colab_type": "code",
        "outputId": "13510c25-0458-48fa-92a0-97fbd35afd86",
        "colab": {
          "base_uri": "https://localhost:8080/",
          "height": 110
        }
      },
      "source": [
        "x, n = Newton_raphson2(F0, x=np.array([20, 0.8,0.3,0.4],dtype=float), eps=0.00001)\n",
        "print (n, x)"
      ],
      "execution_count": 0,
      "outputs": [
        {
          "output_type": "stream",
          "text": [
            "iteración 1\n",
            "iteración 2\n",
            "iteración 3\n",
            "iteración 4\n",
            "4 [17.88840896  0.93580275  0.43344988  0.58004954]\n"
          ],
          "name": "stdout"
        }
      ]
    },
    {
      "cell_type": "code",
      "metadata": {
        "id": "bOzz-z5wwlsY",
        "colab_type": "code",
        "outputId": "fa845ee8-6fb2-422e-d2aa-b40787ca5fb0",
        "colab": {
          "base_uri": "https://localhost:8080/",
          "height": 110
        }
      },
      "source": [
        "x, n = Newton_raphson2(F0, [20., 0.8,0.3,0.4], eps=0.00001)\n",
        "print (n, x)"
      ],
      "execution_count": 0,
      "outputs": [
        {
          "output_type": "stream",
          "text": [
            "iteración 1\n",
            "iteración 2\n",
            "iteración 3\n",
            "iteración 4\n",
            "4 [17.88840896  0.93580275  0.43344988  0.58004954]\n"
          ],
          "name": "stdout"
        }
      ]
    },
    {
      "cell_type": "markdown",
      "metadata": {
        "id": "4HufGQTcwlse",
        "colab_type": "text"
      },
      "source": [
        "** Solución <br>\n",
        "θ1 = 0:9358 rad = 53,62 º <br>\n",
        "θ2 = 0:4334 rad = 24,83 º <br>\n",
        "θ3 = 0:5800 rad = 33,23 º <br>\n",
        "T = 17,89 kN **\n",
        "    "
      ]
    },
    {
      "cell_type": "code",
      "metadata": {
        "id": "zX4gFJAzwlsg",
        "colab_type": "code",
        "colab": {}
      },
      "source": [
        ""
      ],
      "execution_count": 0,
      "outputs": []
    },
    {
      "cell_type": "code",
      "metadata": {
        "id": "D9p_ILwDwlso",
        "colab_type": "code",
        "colab": {}
      },
      "source": [
        ""
      ],
      "execution_count": 0,
      "outputs": []
    },
    {
      "cell_type": "code",
      "metadata": {
        "id": "CyYODWriwlsz",
        "colab_type": "code",
        "colab": {}
      },
      "source": [
        ""
      ],
      "execution_count": 0,
      "outputs": []
    }
  ]
}