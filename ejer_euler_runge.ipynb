{
  "nbformat": 4,
  "nbformat_minor": 0,
  "metadata": {
    "kernelspec": {
      "display_name": "Python 3",
      "language": "python",
      "name": "python3"
    },
    "language_info": {
      "codemirror_mode": {
        "name": "ipython",
        "version": 3
      },
      "file_extension": ".py",
      "mimetype": "text/x-python",
      "name": "python",
      "nbconvert_exporter": "python",
      "pygments_lexer": "ipython3",
      "version": "3.7.4"
    },
    "colab": {
      "name": "ejer-euler-runge.ipynb",
      "provenance": [],
      "collapsed_sections": [],
      "include_colab_link": true
    }
  },
  "cells": [
    {
      "cell_type": "markdown",
      "metadata": {
        "id": "view-in-github",
        "colab_type": "text"
      },
      "source": [
        "<a href=\"https://colab.research.google.com/github/gachet/mis-colabs/blob/master/ejer_euler_runge.ipynb\" target=\"_parent\"><img src=\"https://colab.research.google.com/assets/colab-badge.svg\" alt=\"Open In Colab\"/></a>"
      ]
    },
    {
      "cell_type": "code",
      "metadata": {
        "id": "8nfnBJgPvUgm",
        "colab_type": "code",
        "colab": {}
      },
      "source": [
        "import numpy as np\n",
        "import matplotlib.pyplot as plt\n",
        "%matplotlib inline"
      ],
      "execution_count": 0,
      "outputs": []
    },
    {
      "cell_type": "code",
      "metadata": {
        "id": "QUXodCbj9akF",
        "colab_type": "code",
        "colab": {}
      },
      "source": [
        ""
      ],
      "execution_count": 0,
      "outputs": []
    },
    {
      "cell_type": "code",
      "metadata": {
        "id": "5RotwbxrvUg3",
        "colab_type": "code",
        "colab": {}
      },
      "source": [
        "## module printSoln\n",
        "''' printSoln(X,Y,freq).\n",
        "    Imprime X e Y devueltos por cualquier método de\n",
        "    resoluciçon de ecuaciones diferenciales.\n",
        "        freq = n  imprime los valores en el paso nth.\n",
        "        freq = 0 imprime unicamente los valores inicial y final.\n",
        "'''\n",
        "def printSoln(X,Y,freq):\n",
        "\n",
        "    def printHead(n):\n",
        "        print(\"\\n        x  \",end=\" \")\n",
        "        for i in range (n):\n",
        "            print(\"      y[\",i,\"] \",end=\" \")\n",
        "        print()\n",
        "\n",
        "    def printLine(x,y,n):\n",
        "        print(\"{:13.4e}\".format(x),end=\" \")\n",
        "        for i in range (n):\n",
        "            print(\"{:13.4e}\".format(y[i]),end=\" \")\n",
        "        print()\n",
        "    \n",
        "    m = len(Y)\n",
        "    try: n = len(Y[0])\n",
        "    except TypeError: n = 1\n",
        "    if freq == 0: freq = m\n",
        "    printHead(n)\n",
        "    for i in range(0,m,freq):\n",
        "        printLine(X[i],Y[i],n)\n",
        "    if i != m - 1: printLine(X[m - 1],Y[m - 1],n)\n"
      ],
      "execution_count": 0,
      "outputs": []
    },
    {
      "cell_type": "code",
      "metadata": {
        "id": "LbLFR59LvUhG",
        "colab_type": "code",
        "colab": {}
      },
      "source": [
        "def euler(F, x0, y0, x, h):\n",
        "    '''\n",
        "    Retorna y(x) dado el problema de valor inicial:\n",
        "    y' = F(x, y)\n",
        "    y(x0) = y0 # condiciones iniciales\n",
        "    h es el incremento de x utilizado en la integración\n",
        "    F = [y'[0], y'[1], ..., y'[n-1]]\n",
        "    y = [y[0], y[1], ..., y[n-1]]\n",
        "    '''\n",
        "    X = [] # almacenamos los valores  de x0 en cada iteración\n",
        "    Y = [] # almacenamos los valores de y0 en cada iteración\n",
        "    while x0 < x:\n",
        "        h = min(h, x-x0)\n",
        "        y0 = y0 + h*F(x0, y0)\n",
        "        x0 += h\n",
        "        X.append(x0)\n",
        "        Y.append(y0)\n",
        "    return np.array(X), np.array(Y)"
      ],
      "execution_count": 0,
      "outputs": []
    },
    {
      "cell_type": "markdown",
      "metadata": {
        "id": "x76Wr30zvUhR",
        "colab_type": "text"
      },
      "source": [
        "### Ejemplo 1\n",
        "\n",
        "Integrar el sguiente problema de valor inicial:\n",
        "$$\n",
        "y' + 4y = x^2 \\quad y(0) = 1\n",
        "$$\n",
        "en pasos de  $h=0.01$ desde $x=0$ a $0.03$. \n",
        "\n",
        "Determinar el error sabiendo que la solución analítica es :\n",
        "$$\n",
        "y = \\frac{31}{32}e^{-4x}+\\frac{1}{4}x^2-\\frac{1}{8}x+\\frac{1}{32}\n",
        "$$"
      ]
    },
    {
      "cell_type": "code",
      "metadata": {
        "id": "b2Z5E2wGvUhT",
        "colab_type": "code",
        "colab": {}
      },
      "source": [
        "def F1(x, y):\n",
        "    return x**2 - 4*y"
      ],
      "execution_count": 0,
      "outputs": []
    },
    {
      "cell_type": "code",
      "metadata": {
        "id": "tcu2xkEGvUhf",
        "colab_type": "code",
        "colab": {}
      },
      "source": [
        "def F2(x, y):\n",
        "    F = np.zeros(1)\n",
        "    F[0] = x**2 - 4*y[0]\n",
        "    return F"
      ],
      "execution_count": 0,
      "outputs": []
    },
    {
      "cell_type": "code",
      "metadata": {
        "scrolled": false,
        "id": "hJX9GobhvUhr",
        "colab_type": "code",
        "outputId": "350f0531-442b-4eba-a0a9-801295b3c69f",
        "colab": {
          "base_uri": "https://localhost:8080/",
          "height": 91
        }
      },
      "source": [
        "X, Y = euler(F1, 0, np.array([ 1.0]), 0.03, 0.01)\n",
        "printSoln(X,Y,0)"
      ],
      "execution_count": 0,
      "outputs": [
        {
          "output_type": "stream",
          "text": [
            "\n",
            "        x         y[ 0 ]  \n",
            "   1.0000e-02    9.6000e-01 \n",
            "   3.0000e-02    8.8474e-01 \n"
          ],
          "name": "stdout"
        }
      ]
    },
    {
      "cell_type": "code",
      "metadata": {
        "id": "gZpGfeVWvUh2",
        "colab_type": "code",
        "outputId": "92479abd-d806-4640-96c7-eddaa707bc63",
        "colab": {
          "base_uri": "https://localhost:8080/",
          "height": 91
        }
      },
      "source": [
        "X, Y = euler(F2, 0, np.array([ 1.0]), 0.03, 0.01)\n",
        "printSoln(X,Y,0)"
      ],
      "execution_count": 0,
      "outputs": [
        {
          "output_type": "stream",
          "text": [
            "\n",
            "        x         y[ 0 ]  \n",
            "   1.0000e-02    9.6000e-01 \n",
            "   3.0000e-02    8.8474e-01 \n"
          ],
          "name": "stdout"
        }
      ]
    },
    {
      "cell_type": "code",
      "metadata": {
        "id": "TXtJ-hGKvUh-",
        "colab_type": "code",
        "colab": {}
      },
      "source": [
        "soluc = lambda x: 31/32*np.exp(-4*x)+1/4*x**2-1/8*x+1/32"
      ],
      "execution_count": 0,
      "outputs": []
    },
    {
      "cell_type": "code",
      "metadata": {
        "id": "Apw4PIksvUiE",
        "colab_type": "code",
        "outputId": "e0a28039-e6e7-4f9d-e690-e3b6888ef9fc",
        "colab": {
          "base_uri": "https://localhost:8080/",
          "height": 73
        }
      },
      "source": [
        "errores = soluc(X)-Y\n",
        "print (errores)"
      ],
      "execution_count": 0,
      "outputs": [
        {
          "output_type": "stream",
          "text": [
            "[[ 0.00078977 -0.03688104 -0.07307083]\n",
            " [ 0.03918877  0.00151796 -0.03467183]\n",
            " [ 0.07604881  0.038378    0.00218821]]\n"
          ],
          "name": "stdout"
        }
      ]
    },
    {
      "cell_type": "code",
      "metadata": {
        "id": "3pUujKprvUiN",
        "colab_type": "code",
        "outputId": "ba8bba39-9d25-4f08-b0fb-a74ad3d0be49",
        "colab": {
          "base_uri": "https://localhost:8080/",
          "height": 281
        }
      },
      "source": [
        "\n",
        "x_graf = np.linspace(0,0.06,100)\n",
        "y_graf = soluc(x_graf)\n",
        "\n",
        "#plt.figure(figsize = (5.5,2) )\n",
        "bottom, top = -0.5,1.5  # return the current ylim\n",
        "plt.ylim((bottom, top))   # set the ylim to bottom, top\n",
        "\n",
        "plt.xticks(np.arange(0, 0.04, 0.01))\n",
        "plt.grid(True)\n",
        "plt.axhline(0, color='black')\n",
        "plt.axvline(0, color='black')\n",
        "plt.title('Método de Euler')\n",
        "plt.plot(x_graf,y_graf)\n",
        "plt.plot(X,Y,'o')\n",
        "plt.show()\n",
        "\n"
      ],
      "execution_count": 0,
      "outputs": [
        {
          "output_type": "display_data",
          "data": {
            "image/png": "[encoded data removed]",
            "text/plain": [
              "<Figure size 432x288 with 1 Axes>"
            ]
          },
          "metadata": {
            "tags": [],
            "needs_background": "light"
          }
        }
      ]
    },
    {
      "cell_type": "markdown",
      "metadata": {
        "id": "vbgQcBzVvUiW",
        "colab_type": "text"
      },
      "source": [
        "### Ejemplo 2  (ecuación diferencial de orden 2)\n",
        "\n",
        "Integrar el problema de valor inicial:\n",
        "$$\n",
        "y'' = -0.1y'-x \\quad y(0) = 0 \\quad y'(0) = 1\n",
        "$$\n",
        "desde $x=0$ to $2$ utilizando $h=0.05$. graficar $y$ con la solución analítica:\n",
        "$$\n",
        "y = 100x-5x^2+990(e^{-0.1x}-1)\n",
        "$$"
      ]
    },
    {
      "cell_type": "markdown",
      "metadata": {
        "id": "MHqxttElvUiX",
        "colab_type": "text"
      },
      "source": [
        "Con la notación $y_0 = y \\,\\,$y $\\,\\, y_1 = y'$\n",
        "$$\n",
        "\\textbf{F}(x, \\textbf{y}) = \\begin{bmatrix}\n",
        "y'_0 \\\\\n",
        "y'_1 \\\\\n",
        "\\end{bmatrix} = \\begin{bmatrix}\n",
        "y_1 \\\\\n",
        "-0.1y_1 -x\\\\\n",
        "\\end{bmatrix}\\hspace{1cm}\\textbf{y}(0) = \\begin{bmatrix}\n",
        "0 \\\\\n",
        "1 \n",
        "\\end{bmatrix}\n",
        "$$"
      ]
    },
    {
      "cell_type": "code",
      "metadata": {
        "id": "sbu_TrVkvUiZ",
        "colab_type": "code",
        "colab": {}
      },
      "source": [
        "def F(x, y):\n",
        "    F = np.zeros(2)\n",
        "    F[0] = y[1]\n",
        "    F[1] = -0.1*y[1]-x\n",
        "    return F"
      ],
      "execution_count": 0,
      "outputs": []
    },
    {
      "cell_type": "code",
      "metadata": {
        "id": "wNzgSozhvUii",
        "colab_type": "code",
        "colab": {}
      },
      "source": [
        "X, Y = euler(F, 0, np.array([0, 1]), 2, 0.05)\n"
      ],
      "execution_count": 0,
      "outputs": []
    },
    {
      "cell_type": "code",
      "metadata": {
        "id": "WdLCqieevUiq",
        "colab_type": "code",
        "outputId": "479c8f9b-a2c4-4b3d-85f6-1629ebdfe2d2",
        "colab": {
          "base_uri": "https://localhost:8080/",
          "height": 147
        }
      },
      "source": [
        "printSoln(X,Y,10)"
      ],
      "execution_count": 0,
      "outputs": [
        {
          "output_type": "stream",
          "text": [
            "\n",
            "        x         y[ 0 ]        y[ 1 ]  \n",
            "   5.0000e-02    5.0000e-02    9.9500e-01 \n",
            "   5.5000e-01    5.1603e-01    8.1090e-01 \n",
            "   1.0500e+00    8.3655e-01    3.9134e-01 \n",
            "   1.5500e+00    8.9645e-01   -2.5214e-01 \n",
            "   2.0000e+00    6.3692e-01   -1.0137e+00 \n"
          ],
          "name": "stdout"
        }
      ]
    },
    {
      "cell_type": "code",
      "metadata": {
        "id": "jvJ0Ss_avUiy",
        "colab_type": "code",
        "colab": {}
      },
      "source": [
        "soluc2 =  lambda x: 100*x-5*x**2+990*(np.exp(-0.1*x)-1)"
      ],
      "execution_count": 0,
      "outputs": []
    },
    {
      "cell_type": "code",
      "metadata": {
        "id": "UZZvn_g7vUi5",
        "colab_type": "code",
        "outputId": "fac91f91-dc6a-418f-dfc0-26e0df1cc07e",
        "colab": {
          "base_uri": "https://localhost:8080/",
          "height": 147
        }
      },
      "source": [
        "errores = soluc2(X)-Y[:,0]\n",
        "print(errores)"
      ],
      "execution_count": 0,
      "outputs": [
        {
          "output_type": "stream",
          "text": [
            "[-0.0001456  -0.00041459 -0.00080604 -0.00131905 -0.00195268 -0.00270605\n",
            " -0.00357825 -0.00456838 -0.00567556 -0.00689891 -0.00823754 -0.0096906\n",
            " -0.01125721 -0.01293651 -0.01472766 -0.01662981 -0.01864211 -0.02076373\n",
            " -0.02299384 -0.02533162 -0.02777623 -0.03032688 -0.03298275 -0.03574305\n",
            " -0.03860696 -0.04157371 -0.04464249 -0.04781254 -0.05108308 -0.05445333\n",
            " -0.05792254 -0.06148993 -0.06515475 -0.06891626 -0.07277371 -0.07672635\n",
            " -0.08077345 -0.08491429 -0.08914814 -0.09347427]\n"
          ],
          "name": "stdout"
        }
      ]
    },
    {
      "cell_type": "code",
      "metadata": {
        "id": "aDP9xdlovUjD",
        "colab_type": "code",
        "outputId": "a9b4d7d7-23bd-4faa-b58f-9c149e070ef3",
        "colab": {
          "base_uri": "https://localhost:8080/",
          "height": 281
        }
      },
      "source": [
        "x_graf = np.linspace(0,2,100)\n",
        "y_graf = soluc2(x_graf)\n",
        "\n",
        "#plt.figure(figsize = (5.5,2) )\n",
        "bottom, top = -0.5,1  # return the current ylim\n",
        "plt.ylim((bottom, top))   # set the ylim to bottom, top\n",
        "\n",
        "plt.xticks(np.arange(0,2, 0.1))\n",
        "plt.grid(True)\n",
        "plt.axhline(0, color='black')\n",
        "plt.axvline(0, color='black')\n",
        "plt.title('Método de Euler')\n",
        "plt.plot(x_graf,y_graf)\n",
        "plt.plot(X,Y[:,0],'o')\n",
        "plt.show()"
      ],
      "execution_count": 0,
      "outputs": [
        {
          "output_type": "display_data",
          "data": {
            "image/png": "[encoded data removed]",
            "text/plain": [
              "<Figure size 432x288 with 1 Axes>"
            ]
          },
          "metadata": {
            "tags": [],
            "needs_background": "light"
          }
        }
      ]
    },
    {
      "cell_type": "code",
      "metadata": {
        "id": "apWkCiruvUjJ",
        "colab_type": "code",
        "colab": {}
      },
      "source": [
        "def runge_kutta_2(F, x0, y0, x, h):\n",
        "    X = []\n",
        "    Y = []\n",
        "    X.append(x0)\n",
        "    Y.append(y0)\n",
        "    while x0 < x:\n",
        "        k0 = F(x0, y0)\n",
        "        k1 = F(x0+h/2, y0 + h/2*k0)\n",
        "        y0 = y0 + h*k1\n",
        "        x0 += h\n",
        "        X.append(x0)\n",
        "        Y.append(y0)\n",
        "    return np.array(X), np.array(Y)"
      ],
      "execution_count": 0,
      "outputs": []
    },
    {
      "cell_type": "code",
      "metadata": {
        "id": "E9DXRn8avUjP",
        "colab_type": "code",
        "colab": {}
      },
      "source": [
        "def runge_kutta_4(F, x0, y0, x, h):\n",
        "    '''\n",
        "    Retorna y(x) dado el siguiente problema de valor inicial:\n",
        "    y' = F(x, y)\n",
        "    y(x0) = y0 # condiciones iniciales\n",
        "    h es el incremento de x utilizado en la integración\n",
        "    F = [y'[0], y'[1], ..., y'[n-1]]\n",
        "    y = [y[0], y[1], ..., y[n-1]]\n",
        "    '''\n",
        "    X = []\n",
        "    Y = []\n",
        "    X.append(x0)\n",
        "    Y.append(y0)\n",
        "    while x0 < x:\n",
        "        k0 = F(x0, y0)\n",
        "        k1 = F(x0+h/2.0, y0 + h/2.0*k0)\n",
        "        k2 = F(x0 + h/2.0, y0 + h/2*k1)\n",
        "        k3 = F(x0+h, y0+h*k2)\n",
        "        y0 = y0 + h/6.0*(k0+2*k1+2.0*k2+k3)\n",
        "        x0 += h\n",
        "        X.append(x0)\n",
        "        Y.append(y0)\n",
        "    return np.array(X),np.array(Y)"
      ],
      "execution_count": 0,
      "outputs": []
    },
    {
      "cell_type": "markdown",
      "metadata": {
        "id": "pDzwwVz5vUjW",
        "colab_type": "text"
      },
      "source": [
        "### Nuevamente el ejemplo 2"
      ]
    },
    {
      "cell_type": "code",
      "metadata": {
        "id": "FWqZEtygvUjX",
        "colab_type": "code",
        "colab": {}
      },
      "source": [
        "def F(x, y):\n",
        "    return np.array([\n",
        "                    y[1],\n",
        "                    -0.1*y[1]-x\n",
        "                ])"
      ],
      "execution_count": 0,
      "outputs": []
    },
    {
      "cell_type": "code",
      "metadata": {
        "id": "kYSJqM7ovUjd",
        "colab_type": "code",
        "outputId": "26c2c2c7-8790-4047-acca-80470f7f8552",
        "colab": {
          "base_uri": "https://localhost:8080/",
          "height": 265
        }
      },
      "source": [
        "X, Y = euler(F, 0, np.array([0, 1]), 2, 0.05)\n",
        "X1, Y1 = runge_kutta_2(F, 0, np.array([0, 1]), 2, 0.2)\n",
        "X2, Y2 = runge_kutta_4(F, 0, np.array([0.0, 1.0]), 2.0, 0.2)\n",
        "plt.grid(True)\n",
        "plt.plot(X, Y[:,0], '+')\n",
        "plt.plot( X1, Y1[:,0], '.')\n",
        "plt.plot(X2, Y2[:,0], 'x')\n",
        "plt.plot(X, 100.0*X-5.0*X**2+990.0*(np.exp(-0.1*X)-1.0))\n",
        "plt.legend(['Euler ',\n",
        "           'Runge-Kutta 2',\n",
        "            'Runge-Kutta 4',\n",
        "           'Solución'])\n",
        "plt.show()"
      ],
      "execution_count": 0,
      "outputs": [
        {
          "output_type": "display_data",
          "data": {
            "image/png": "[encoded data removed]",
            "text/plain": [
              "<Figure size 432x288 with 1 Axes>"
            ]
          },
          "metadata": {
            "tags": [],
            "needs_background": "light"
          }
        }
      ]
    },
    {
      "cell_type": "markdown",
      "metadata": {
        "id": "MtumtvHuvUj4",
        "colab_type": "text"
      },
      "source": [
        "Utilizar el método de Euler para aproximar las soluciones\n",
        "de cada uno de los siguientes problemas de valor inicial:<br><br>\n",
        "$$\n",
        "y'= y -t^2 +1 y \\hspace{1 cm} 0 \\leq t \\leq 2 \\hspace{1cm} y(0) = 0.5 \\hspace{1cm}h=0.5 \\\\\n",
        "y'= 1 + (t-y)^2 \\hspace{1 cm} 2 \\leq t \\leq 3 \\hspace{1cm} y(2) = 1 \\hspace{1cm}h=0.5 \\\\\n",
        "y'= 1 + -y \\hspace{1 cm} 0 \\leq t \\leq 5 \\hspace{1cm} y(2) = 9 \\hspace{1cm}h=0.1 \n",
        "$$"
      ]
    },
    {
      "cell_type": "code",
      "metadata": {
        "id": "PEWX7rLlvUj6",
        "colab_type": "code",
        "colab": {}
      },
      "source": [
        "def F(x, y):\n",
        "    return y-x**2+y"
      ],
      "execution_count": 0,
      "outputs": []
    },
    {
      "cell_type": "code",
      "metadata": {
        "id": "mW1a2swwvUkD",
        "colab_type": "code",
        "colab": {}
      },
      "source": [
        "x = 0.0\n",
        "xstop = 2.0\n",
        "y = np.array([0.5])\n",
        "X,Y = euler(F, x, y, xstop, 0.5)"
      ],
      "execution_count": 0,
      "outputs": []
    },
    {
      "cell_type": "code",
      "metadata": {
        "id": "8Hsxt9k8vUkI",
        "colab_type": "code",
        "outputId": "63ed30ae-4fb4-412b-f450-68e53bdaf126",
        "colab": {
          "base_uri": "https://localhost:8080/",
          "height": 128
        }
      },
      "source": [
        "printSoln(X,Y,1)"
      ],
      "execution_count": 0,
      "outputs": [
        {
          "output_type": "stream",
          "text": [
            "\n",
            "        x         y[ 0 ]  \n",
            "   5.0000e-01    1.0000e+00 \n",
            "   1.0000e+00    1.8750e+00 \n",
            "   1.5000e+00    3.2500e+00 \n",
            "   2.0000e+00    5.3750e+00 \n"
          ],
          "name": "stdout"
        }
      ]
    },
    {
      "cell_type": "code",
      "metadata": {
        "id": "lqlg5ReQaHpS",
        "colab_type": "code",
        "outputId": "c3253d87-0a7a-45ae-db3d-23a937693ad5",
        "colab": {
          "base_uri": "https://localhost:8080/",
          "height": 281
        }
      },
      "source": [
        "plt.xticks(np.arange(0, 2.1, 0.1))\n",
        "plt.grid(True)\n",
        "plt.axhline(0, color='black')\n",
        "plt.axvline(0, color='black')\n",
        "plt.title('Método de Euler')\n",
        "plt.plot(X,Y,'o')\n",
        "plt.show()\n"
      ],
      "execution_count": 0,
      "outputs": [
        {
          "output_type": "display_data",
          "data": {
            "image/png": "[encoded data removed]",
            "text/plain": [
              "<Figure size 432x288 with 1 Axes>"
            ]
          },
          "metadata": {
            "tags": [],
            "needs_background": "light"
          }
        }
      ]
    },
    {
      "cell_type": "code",
      "metadata": {
        "id": "pEOunRgvvUkO",
        "colab_type": "code",
        "colab": {}
      },
      "source": [
        "def F1(x, y):\n",
        "    F = np.zeros(1)\n",
        "    F[0] =  1 + (x-y[0])**2\n",
        "    return F"
      ],
      "execution_count": 0,
      "outputs": []
    },
    {
      "cell_type": "code",
      "metadata": {
        "id": "HtpLByFevUkT",
        "colab_type": "code",
        "colab": {}
      },
      "source": [
        "x = 2.0\n",
        "xstop = 3.0\n",
        "y = np.array([1])\n",
        "X,Y = euler(F1, x, y, xstop, 0.0005)"
      ],
      "execution_count": 0,
      "outputs": []
    },
    {
      "cell_type": "code",
      "metadata": {
        "id": "qWLzBy5avUka",
        "colab_type": "code",
        "outputId": "8fe64f67-a6cd-4164-9cd7-45b06a2a229b",
        "colab": {
          "base_uri": "https://localhost:8080/",
          "height": 91
        }
      },
      "source": [
        "printSoln(X,Y,0)"
      ],
      "execution_count": 0,
      "outputs": [
        {
          "output_type": "stream",
          "text": [
            "\n",
            "        x         y[ 0 ]  \n",
            "   2.0005e+00    1.0010e+00 \n",
            "   3.0000e+00    2.5001e+00 \n"
          ],
          "name": "stdout"
        }
      ]
    },
    {
      "cell_type": "markdown",
      "metadata": {
        "id": "AthRRkyGvUkh",
        "colab_type": "text"
      },
      "source": [
        "Utilizar el método de Runge-kutta de orden 2 para\n",
        "para aproximar las solución exacta de :<br><br>\n",
        "$$\n",
        "y'= \\frac{2}{x}y +x^2e^x  \\hspace{1 cm} 1 \\leq t \\leq 2 \\hspace{1cm} y(1) = 0. \\hspace{1cm}h=0.1 $$\n",
        "Comparar con la solución exacta $ y(x) = x^2(e^x-e)$ \n"
      ]
    },
    {
      "cell_type": "code",
      "metadata": {
        "id": "JXJ7zTEyvUkj",
        "colab_type": "code",
        "colab": {}
      },
      "source": [
        "def F2(x,y):\n",
        "    return (2/x)*y + x**2*np.exp(x)\n"
      ],
      "execution_count": 0,
      "outputs": []
    },
    {
      "cell_type": "code",
      "metadata": {
        "id": "7JGgFP0vvUko",
        "colab_type": "code",
        "colab": {}
      },
      "source": [
        "def exacta (x):\n",
        "    return x**2*(np.exp(x)-np.exp(1))"
      ],
      "execution_count": 0,
      "outputs": []
    },
    {
      "cell_type": "code",
      "metadata": {
        "id": "8CPOD-4tvUkt",
        "colab_type": "code",
        "colab": {}
      },
      "source": [
        "x = 1.0\n",
        "xstop = 2.0\n",
        "y = np.array([0])\n",
        "X,Y = runge_kutta_2(F2, x, y, xstop, 0.1)"
      ],
      "execution_count": 0,
      "outputs": []
    },
    {
      "cell_type": "code",
      "metadata": {
        "id": "bI8IB-skvUkx",
        "colab_type": "code",
        "outputId": "8ee03c12-99d2-4e65-c299-b6611543fa69",
        "colab": {
          "base_uri": "https://localhost:8080/",
          "height": 258
        }
      },
      "source": [
        "printSoln(X,Y,1)"
      ],
      "execution_count": 0,
      "outputs": [
        {
          "output_type": "stream",
          "text": [
            "\n",
            "        x         y[ 0 ]  \n",
            "   1.0000e+00    0.0000e+00 \n",
            "   1.1000e+00    3.4094e-01 \n",
            "   1.2000e+00    8.5491e-01 \n",
            "   1.3000e+00    1.5867e+00 \n",
            "   1.4000e+00    2.5888e+00 \n",
            "   1.5000e+00    3.9225e+00 \n",
            "   1.6000e+00    5.6594e+00 \n",
            "   1.7000e+00    7.8827e+00 \n",
            "   1.8000e+00    1.0689e+01 \n",
            "   1.9000e+00    1.4192e+01 \n",
            "   2.0000e+00    1.8520e+01 \n"
          ],
          "name": "stdout"
        }
      ]
    },
    {
      "cell_type": "code",
      "metadata": {
        "id": "iQvZkTvQvUk3",
        "colab_type": "code",
        "outputId": "21c77983-42be-425a-9b4f-f26f0817144b",
        "colab": {
          "base_uri": "https://localhost:8080/",
          "height": 36
        }
      },
      "source": [
        "exacta(2)"
      ],
      "execution_count": 0,
      "outputs": [
        {
          "output_type": "execute_result",
          "data": {
            "text/plain": [
              "18.683097081886423"
            ]
          },
          "metadata": {
            "tags": []
          },
          "execution_count": 32
        }
      ]
    },
    {
      "cell_type": "code",
      "metadata": {
        "id": "E4Siur8rY1Ik",
        "colab_type": "code",
        "outputId": "489cc313-c5ed-4ef6-b6f1-283358b74186",
        "colab": {
          "base_uri": "https://localhost:8080/",
          "height": 281
        }
      },
      "source": [
        "x_graf = np.linspace(1,2,100)\n",
        "y_graf = exacta(x_graf)\n",
        "\n",
        "#plt.figure(figsize = (5.5,2) )\n",
        "#bottom, top = -0.5,1.5  # return the current ylim\n",
        "#plt.ylim((bottom, top))   # set the ylim to bottom, top\n",
        "\n",
        "plt.xticks(np.arange(0, 2, 0.1))\n",
        "plt.grid(True)\n",
        "plt.axhline(0, color='black')\n",
        "plt.axvline(0, color='black')\n",
        "plt.title('Método de Euler')\n",
        "plt.plot(x_graf,y_graf)\n",
        "plt.plot(X,Y,'o')\n",
        "plt.show()\n",
        "\n"
      ],
      "execution_count": 0,
      "outputs": [
        {
          "output_type": "display_data",
          "data": {
            "image/png": "[encoded data removed]",
            "text/plain": [
              "<Figure size 432x288 with 1 Axes>"
            ]
          },
          "metadata": {
            "tags": [],
            "needs_background": "light"
          }
        }
      ]
    },
    {
      "cell_type": "markdown",
      "metadata": {
        "id": "E3qbN-sCvUk9",
        "colab_type": "text"
      },
      "source": [
        "Un paracaidista de masa $m$ en caída libre experimenta una fuerza de rozamiento $F_D = c_d y^2$, donde $y$ se mide verticalmente hacia abajo desde el momento inicial de la caída. la ecuación diferencial que describe el movimiento es :\n",
        "    $$\n",
        "    y'' = g - \\frac{C_D}{m}y'^2\n",
        "    $$\n",
        "    \n",
        "Determinar el tiempo cuando ha descendido 500 m. Utilizar $g=9.8066 \\,\\, m/s^2$, $C_D= 0.2028\\,\\, kg/m $ y $m=80\\,\\, kg$\n",
        "Utilizar Runge-Kutta de 4to orden con $h=0,25\\,\\, s$"
      ]
    },
    {
      "cell_type": "code",
      "metadata": {
        "id": "4rdjoTPuvUk-",
        "colab_type": "code",
        "colab": {}
      },
      "source": [
        ""
      ],
      "execution_count": 0,
      "outputs": []
    },
    {
      "cell_type": "code",
      "metadata": {
        "id": "wDgCDRV8vUlC",
        "colab_type": "code",
        "colab": {}
      },
      "source": [
        "def F(x,y):\n",
        "    g = 9.80665; c = 0.2028; m =80.0\n",
        "    F = np.zeros(2)\n",
        "    F [0] = y [1] \n",
        "    F [1] = g - c/m*y[1]**2\n",
        "    return F\n",
        "\n"
      ],
      "execution_count": 0,
      "outputs": []
    },
    {
      "cell_type": "code",
      "metadata": {
        "id": "dkhRH497vUlH",
        "colab_type": "code",
        "colab": {}
      },
      "source": [
        "x= 0.0\n",
        "xstop = 15.0\n",
        "y = np.array([0.0,0.0])\n",
        "h=0.25\n",
        "X,Y = runge_kutta_4(F, x, y, xstop, h)"
      ],
      "execution_count": 0,
      "outputs": []
    },
    {
      "cell_type": "code",
      "metadata": {
        "id": "wrdNtn8CvUlO",
        "colab_type": "code",
        "outputId": "f6c26784-1804-4181-ada7-f88c6fd67553",
        "colab": {
          "base_uri": "https://localhost:8080/",
          "height": 184
        }
      },
      "source": [
        "printSoln(X,Y,10)"
      ],
      "execution_count": 0,
      "outputs": [
        {
          "output_type": "stream",
          "text": [
            "\n",
            "        x         y[ 0 ]        y[ 1 ]  \n",
            "   0.0000e+00    0.0000e+00    0.0000e+00 \n",
            "   2.5000e+00    2.9884e+01    2.3321e+01 \n",
            "   5.0000e+00    1.1166e+02    4.0893e+01 \n",
            "   7.5000e+00    2.2847e+02    5.1515e+01 \n",
            "   1.0000e+01    3.6504e+02    5.7102e+01 \n",
            "   1.2500e+01    5.1162e+02    5.9828e+01 \n",
            "   1.5000e+01    6.6299e+02    6.1109e+01 \n"
          ],
          "name": "stdout"
        }
      ]
    },
    {
      "cell_type": "markdown",
      "metadata": {
        "id": "-o7Tvb8AvUlT",
        "colab_type": "text"
      },
      "source": [
        "![imagen.png](attachment:imagen.png)\n",
        "Un sistema masa resorte está en reposo cuando se aplica una \n",
        "fuerza $P(t)$ siendo:<br>\n",
        "$\n",
        "P(t) = \\left\\{\\begin{matrix}\n",
        "10t \\,\\,N &para \\,\\, t< 2\\,s \\\\ \n",
        "20 \\,\\,N & para \\,\\, t \\geq 2\\,s\n",
        "\\end{matrix}\\right.\n",
        "$<br>\n",
        "La ecuación diferencial que define el movimiento es:<br>\n",
        "$\n",
        "y'' = \\frac{P(t)}{m}-\\frac{k}{m}y\n",
        "$<br>\n",
        "Determinar es desplazamiento máximo de la masa. Utilizar $m=2.5 \\,kg$ y  $k=75 \\,N/m$\n",
        "\n"
      ]
    },
    {
      "cell_type": "code",
      "metadata": {
        "id": "tjGaiQVAvUlU",
        "colab_type": "code",
        "colab": {}
      },
      "source": [
        "def F(x,y):\n",
        "    m = 2.5; k = 75.0\n",
        "    if x < 2.0: P = 10.0*x\n",
        "    else: P = 20.0\n",
        "    F = np.zeros(2)\n",
        "    F[0] = y[1];\n",
        "    F[1] = (P - k*y[0])/m\n",
        "    return F"
      ],
      "execution_count": 0,
      "outputs": []
    },
    {
      "cell_type": "code",
      "metadata": {
        "id": "fJl9Q7HavUlY",
        "colab_type": "code",
        "colab": {}
      },
      "source": [
        "x= 0.0\n",
        "xstop = 2.4\n",
        "y = np.array([0.0,0.0])\n",
        "h=0.1\n",
        "X,Y = runge_kutta_4(F, x, y, xstop, h)"
      ],
      "execution_count": 0,
      "outputs": []
    },
    {
      "cell_type": "code",
      "metadata": {
        "id": "L3QNfjl6vUld",
        "colab_type": "code",
        "outputId": "59dece86-c9c1-4cd1-ea9a-d700e0e8a401",
        "colab": {
          "base_uri": "https://localhost:8080/",
          "height": 518
        }
      },
      "source": [
        "printSoln(X,Y,1)"
      ],
      "execution_count": 0,
      "outputs": [
        {
          "output_type": "stream",
          "text": [
            "\n",
            "        x         y[ 0 ]        y[ 1 ]  \n",
            "   0.0000e+00    0.0000e+00    0.0000e+00 \n",
            "   1.0000e-01    6.6667e-04    1.9500e-02 \n",
            "   2.0000e-01    5.0383e-03    7.2248e-02 \n",
            "   3.0000e-01    1.5732e-02    1.4282e-01 \n",
            "   4.0000e-01    3.3516e-02    2.1060e-01 \n",
            "   5.0000e-01    5.7088e-02    2.5578e-01 \n",
            "   6.0000e-01    8.3454e-02    2.6517e-01 \n",
            "   7.0000e-01    1.0881e-01    2.3605e-01 \n",
            "   8.0000e-01    1.2964e-01    1.7692e-01 \n",
            "   9.0000e-01    1.4375e-01    1.0509e-01 \n",
            "   1.0000e+00    1.5093e-01    4.1531e-02 \n",
            "   1.1000e+00    1.5297e-01    4.8153e-03 \n",
            "   1.2000e+00    1.5317e-01    5.6580e-03 \n",
            "   1.3000e+00    1.5537e-01    4.3799e-02 \n",
            "   1.4000e+00    1.6283e-01    1.0808e-01 \n",
            "   1.5000e+00    1.7725e-01    1.7972e-01 \n",
            "   1.6000e+00    1.9832e-01    2.3778e-01 \n",
            "   1.7000e+00    2.2377e-01    2.6531e-01 \n",
            "   1.8000e+00    2.5006e-01    2.5427e-01 \n",
            "   1.9000e+00    2.7341e-01    2.0790e-01 \n",
            "   2.0000e+00    2.9089e-01    1.3977e-01 \n",
            "   2.1000e+00    3.0063e-01    5.0283e-02 \n",
            "   2.2000e+00    3.0044e-01   -5.3863e-02 \n",
            "   2.3000e+00    2.9038e-01   -1.4224e-01 \n",
            "   2.4000e+00    2.7340e-01   -1.8902e-01 \n"
          ],
          "name": "stdout"
        }
      ]
    },
    {
      "cell_type": "markdown",
      "metadata": {
        "id": "gZXTFAllvUlg",
        "colab_type": "text"
      },
      "source": [
        "![imagen.png](attachment:imagen.png)\n",
        "\n",
        "\n",
        "La posición de equilibrio de un cilindro que flota es $h=r$.\n",
        "Si el cilindro se desplaza a la posición $h=1.5r$ y se libera, la ecuación diferencial\n",
        "que describe el movimiento es:<br>\n",
        "\n",
        "$ \\displaystyle y'' = \\frac{2}{\\pi}\\bigg[tan^{-1}\\frac{1-y}{\\sqrt{2y-y^2}}+(1-y)\\sqrt{2y-y^2}\\bigg ]$<br>\n",
        "Siendo $y=h/r$. Graficar $h/r$ desde $t=0$ hasta $t=6\\,seg$<br>\n",
        "Utilizar la gráfica para estimar el período del movimiento.\n"
      ]
    },
    {
      "cell_type": "code",
      "metadata": {
        "id": "_vlBa0-yvUli",
        "colab_type": "code",
        "colab": {}
      },
      "source": [
        "def F(x,y):\n",
        "    p = np.sqrt(2.0 *y[0]-y[0]**2)\n",
        "    q = 1.0 - y[0]\n",
        "    F = np.zeros(2)\n",
        "    F[0] = y[1]\n",
        "    F[1] = 2.0/np.pi * (np.arctan(q/p) + q*p)\n",
        "    return F"
      ],
      "execution_count": 0,
      "outputs": []
    },
    {
      "cell_type": "code",
      "metadata": {
        "id": "gZDwYYSIvUll",
        "colab_type": "code",
        "colab": {}
      },
      "source": [
        "x= 0.0\n",
        "xstop = 6.0\n",
        "y = np.array([1.5,0.0])\n",
        "h=0.1\n",
        "X,Y = runge_kutta_4(F, x, y, xstop, h)\n"
      ],
      "execution_count": 0,
      "outputs": []
    },
    {
      "cell_type": "code",
      "metadata": {
        "id": "DZeZ1wFMvUlt",
        "colab_type": "code",
        "outputId": "b74becaa-77a6-4b29-9ebf-299db9acff8f",
        "colab": {
          "base_uri": "https://localhost:8080/",
          "height": 1000
        }
      },
      "source": [
        "printSoln(X,Y,1)"
      ],
      "execution_count": 0,
      "outputs": [
        {
          "output_type": "stream",
          "text": [
            "\n",
            "        x         y[ 0 ]        y[ 1 ]  \n",
            "   0.0000e+00    1.5000e+00    0.0000e+00 \n",
            "   1.0000e-01    1.4970e+00   -6.0788e-02 \n",
            "   2.0000e-01    1.4879e+00   -1.2090e-01 \n",
            "   3.0000e-01    1.4728e+00   -1.7968e-01 \n",
            "   4.0000e-01    1.4520e+00   -2.3643e-01 \n",
            "   5.0000e-01    1.4256e+00   -2.9050e-01 \n",
            "   6.0000e-01    1.3940e+00   -3.4123e-01 \n",
            "   7.0000e-01    1.3575e+00   -3.8797e-01 \n",
            "   8.0000e-01    1.3166e+00   -4.3009e-01 \n",
            "   9.0000e-01    1.2717e+00   -4.6703e-01 \n",
            "   1.0000e+00    1.2234e+00   -4.9824e-01 \n",
            "   1.1000e+00    1.1722e+00   -5.2329e-01 \n",
            "   1.2000e+00    1.1189e+00   -5.4177e-01 \n",
            "   1.3000e+00    1.0641e+00   -5.5342e-01 \n",
            "   1.4000e+00    1.0085e+00   -5.5804e-01 \n",
            "   1.5000e+00    9.5273e-01   -5.5557e-01 \n",
            "   1.6000e+00    8.9759e-01   -5.4604e-01 \n",
            "   1.7000e+00    8.4375e-01   -5.2960e-01 \n",
            "   1.8000e+00    7.9189e-01   -5.0651e-01 \n",
            "   1.9000e+00    7.4266e-01   -4.7712e-01 \n",
            "   2.0000e+00    6.9666e-01   -4.4187e-01 \n",
            "   2.1000e+00    6.5446e-01   -4.0126e-01 \n",
            "   2.2000e+00    6.1657e-01   -3.5586e-01 \n",
            "   2.3000e+00    5.8343e-01   -3.0628e-01 \n",
            "   2.4000e+00    5.5543e-01   -2.5315e-01 \n",
            "   2.5000e+00    5.3289e-01   -1.9714e-01 \n",
            "   2.6000e+00    5.1608e-01   -1.3891e-01 \n",
            "   2.7000e+00    5.0516e-01   -7.9128e-02 \n",
            "   2.8000e+00    5.0028e-01   -1.8473e-02 \n",
            "   2.9000e+00    5.0148e-01    4.2386e-02 \n",
            "   3.0000e+00    5.0874e-01    1.0278e-01 \n",
            "   3.1000e+00    5.2199e-01    1.6203e-01 \n",
            "   3.2000e+00    5.4109e-01    2.1947e-01 \n",
            "   3.3000e+00    5.6581e-01    2.7442e-01 \n",
            "   3.4000e+00    5.9587e-01    3.2623e-01 \n",
            "   3.5000e+00    6.3093e-01    3.7425e-01 \n",
            "   3.6000e+00    6.7057e-01    4.1783e-01 \n",
            "   3.7000e+00    7.1432e-01    4.5640e-01 \n",
            "   3.8000e+00    7.6166e-01    4.8941e-01 \n",
            "   3.9000e+00    8.1200e-01    5.1637e-01 \n",
            "   4.0000e+00    8.6472e-01    5.3688e-01 \n",
            "   4.1000e+00    9.1915e-01    5.5062e-01 \n",
            "   4.2000e+00    9.7461e-01    5.5739e-01 \n",
            "   4.3000e+00    1.0304e+00    5.5707e-01 \n",
            "   4.4000e+00    1.0858e+00    5.4967e-01 \n",
            "   4.5000e+00    1.1401e+00    5.3530e-01 \n",
            "   4.6000e+00    1.1926e+00    5.1420e-01 \n",
            "   4.7000e+00    1.2427e+00    4.8668e-01 \n",
            "   4.8000e+00    1.2898e+00    4.5316e-01 \n",
            "   4.9000e+00    1.3332e+00    4.1411e-01 \n",
            "   5.0000e+00    1.3724e+00    3.7010e-01 \n",
            "   5.1000e+00    1.4070e+00    3.2172e-01 \n",
            "   5.2000e+00    1.4366e+00    2.6960e-01 \n",
            "   5.3000e+00    1.4609e+00    2.1440e-01 \n",
            "   5.4000e+00    1.4794e+00    1.5677e-01 \n",
            "   5.5000e+00    1.4922e+00    9.7387e-02 \n",
            "   5.6000e+00    1.4989e+00    3.6926e-02 \n",
            "   5.7000e+00    1.4995e+00   -2.3942e-02 \n",
            "   5.8000e+00    1.4941e+00   -8.4545e-02 \n",
            "   5.9000e+00    1.4827e+00   -1.4421e-01 \n",
            "   6.0000e+00    1.4653e+00   -2.0227e-01 \n",
            "   6.1000e+00    1.4423e+00   -2.5805e-01 \n"
          ],
          "name": "stdout"
        }
      ]
    },
    {
      "cell_type": "code",
      "metadata": {
        "id": "stMG1Mk4vUly",
        "colab_type": "code",
        "outputId": "f621901b-0187-4d8d-c905-13b0172dbf9c",
        "colab": {
          "base_uri": "https://localhost:8080/",
          "height": 279
        }
      },
      "source": [
        "plt.grid(True)\n",
        "plt.axhline(0, color='black')\n",
        "plt.axvline(0, color='black')\n",
        "plt.plot(X,Y[:,0])\n",
        "plt.xlabel('x')\n",
        "plt.ylabel('y(x)')\n",
        "plt.show()"
      ],
      "execution_count": 0,
      "outputs": [
        {
          "output_type": "display_data",
          "data": {
            "image/png": "[encoded data removed]",
            "text/plain": [
              "<Figure size 432x288 with 1 Axes>"
            ]
          },
          "metadata": {
            "tags": [],
            "needs_background": "light"
          }
        }
      ]
    },
    {
      "cell_type": "markdown",
      "metadata": {
        "id": "OrAaGMUEvUl4",
        "colab_type": "text"
      },
      "source": [
        "![imagen.png](attachment:imagen.png)\n",
        "Las ecuaciones diferenciales que describen la \n",
        "corriente $i$ en el circuito son:<br>\n",
        "$\\displaystyle L \\frac{di}{dt}+Ri+ \\frac{q}{C}= E(t) \\hspace{1cm}\n",
        "\\frac{dq}{dt}=i $<br>\n",
        "Si el voltaje  aplicado E pasa de 0 a 9v , graficar la\n",
        "corriente resultante durante los primeros  10 seg. \n",
        "Utilizar $R=10 \\, \\Omega$, $L=2\\,H$ y $C=0.45\\,F$"
      ]
    },
    {
      "cell_type": "markdown",
      "metadata": {
        "id": "gmVA4-NNvUl4",
        "colab_type": "text"
      },
      "source": [
        "Haciendo <br>\n",
        "$\n",
        "\\pmb y=\\begin{vmatrix}\n",
        "y_0  \\\\ \n",
        "y_1 \n",
        "\\end{vmatrix} =\\begin{vmatrix}\n",
        "q  \\\\ \n",
        "i \n",
        "\\end{vmatrix}\n",
        "$\n",
        "<br>\n",
        "que nos da las siguientes ecuaciones<br>\n",
        "$\n",
        "\\pmb y'=\\begin{vmatrix}\n",
        "y'_0  \\\\ \n",
        "y'_1 &\n",
        "\\end{vmatrix} =\\begin{vmatrix}\n",
        "y_1 \\\\ \n",
        "(-Ry_1-y_0/C + E)/L&\n",
        "\\end{vmatrix}\n",
        "$<br>\n",
        "\n",
        "Con las condiciones iniciales <br>\n",
        "$\n",
        "\\pmb y(0)=\\begin{vmatrix}\n",
        "0  \\\\ \n",
        "0 \n",
        "\\end{vmatrix}\n",
        "$\n",
        "\n",
        "\n",
        "\n"
      ]
    },
    {
      "cell_type": "code",
      "metadata": {
        "id": "K3z6lC2ivUl5",
        "colab_type": "code",
        "colab": {}
      },
      "source": [
        "def F(x,y):\n",
        "    F = np.zeros(2)\n",
        "    F[0] = y[1]\n",
        "    F[1] = (-10.0*y[1]-y[0]/0.45 +9.0)/2.0\n",
        "    return F"
      ],
      "execution_count": 0,
      "outputs": []
    },
    {
      "cell_type": "code",
      "metadata": {
        "id": "iFoc8o83vUl_",
        "colab_type": "code",
        "colab": {}
      },
      "source": [
        "x= 0.0\n",
        "xstop = 10.0\n",
        "y = np.array([0.0,0.0])\n",
        "h=0.25\n",
        "X,Y = runge_kutta_4(F, x, y, xstop, h)\n"
      ],
      "execution_count": 0,
      "outputs": []
    },
    {
      "cell_type": "code",
      "metadata": {
        "id": "hKRZO3_QvUmE",
        "colab_type": "code",
        "outputId": "a425c073-eb1e-44ef-9365-375c26f8f924",
        "colab": {
          "base_uri": "https://localhost:8080/",
          "height": 147
        }
      },
      "source": [
        "printSoln(X,Y,10)"
      ],
      "execution_count": 0,
      "outputs": [
        {
          "output_type": "stream",
          "text": [
            "\n",
            "        x         y[ 0 ]        y[ 1 ]  \n",
            "   0.0000e+00    0.0000e+00    0.0000e+00 \n",
            "   2.5000e+00    1.6723e+00    5.5420e-01 \n",
            "   5.0000e+00    2.7224e+00    3.0946e-01 \n",
            "   7.5000e+00    3.3087e+00    1.7279e-01 \n",
            "   1.0000e+01    3.6361e+00    9.6485e-02 \n"
          ],
          "name": "stdout"
        }
      ]
    },
    {
      "cell_type": "code",
      "metadata": {
        "id": "oa8iLUTtvUmI",
        "colab_type": "code",
        "outputId": "034afc31-1a2c-4e55-da24-5ba94434db12",
        "colab": {
          "base_uri": "https://localhost:8080/",
          "height": 279
        }
      },
      "source": [
        "plt.grid(True)\n",
        "plt.axhline(0, color='black')\n",
        "plt.axvline(0, color='black')\n",
        "plt.plot(X,Y[:,1])\n",
        "plt.xlabel('x')\n",
        "plt.ylabel('y(x)')\n",
        "plt.show()"
      ],
      "execution_count": 0,
      "outputs": [
        {
          "output_type": "display_data",
          "data": {
            "image/png": "[encoded data removed]",
            "text/plain": [
              "<Figure size 432x288 with 1 Axes>"
            ]
          },
          "metadata": {
            "tags": [],
            "needs_background": "light"
          }
        }
      ]
    },
    {
      "cell_type": "markdown",
      "metadata": {
        "id": "3-VMgMm-vUmN",
        "colab_type": "text"
      },
      "source": [
        "En la investigación de un homicidio o de una muerte accidental, con frecuencia es importante estimar el tiempo que ha transcurrido desde la muerte. De observaciones experimentales, se sabe que la temperatura superficial de un objeto cambia con una tasa proporcional a la diferencia entre la temperatura del objeto y la del ambiente circundante, o temperatura ambiente. Esto se conoce como ley de Newton del enfriamiento. Así, si $T(t)$ es la temperatura del objeto al tiempo $t$, y $Ta$ es la temperatura ambiente constante:<br>\n",
        "$\\displaystyle \\frac{dT}{dt}=-K(T-T_a)$\n",
        "\n",
        "donde $K > 0$ es una constante de proporcionalidad. Suponga que en el momento $t = 0$· se descubre un cuerpo y se mide su temperatura, $T_0$. Se supone que en el momento de la muerte, la temperatura del cuerpo, $T_d$, era el valor normal de 37ºC. Suponga que la temperatura del cuerpo al ser descubierto era de 29.5ºC, y que dos horas después era de 23.5ºC. La temperatura ambiente es de 20ºC.\n",
        "- Determine K y el tiempo de la muerte.\n",
        "- Resuelva la EDO en forma numérica y grafique los resultados"
      ]
    },
    {
      "cell_type": "markdown",
      "metadata": {
        "id": "BVwJBo9bxixD",
        "colab_type": "text"
      },
      "source": [
        "Integremos la ecuación $\\frac{dT}{dt}=+K(T-Ta)$ y apliquemos los datos que nos dan para obtener K:\n",
        "$\\int \\frac{dT}{T-T_a}= -K \\int dt $ <br>\n",
        "$log (T-T_a) = -Kt+C_1$<br>\n",
        "$(T-T_a) = e^{-Kt+C_1}$<br>\n",
        "$T=T_a+Ce^{-Kt}$ <br>\n",
        "Para $t=0\\,\\,--->\\,C=T_0-T_a$ <br>\n",
        "$T-T_a = (T_0-T_a)e^{-Kt}$<br>\n",
        "$\\displaystyle e^{-Kt} = \\frac{T-T_a}{T_0-Ta}$<br>\n",
        "$\\displaystyle  -Kt = ln \\frac{T-T_a}{T_0-Ta}$<br>\n",
        "\n",
        "$\\displaystyle  K = - \\frac{1}{t} ln \\frac{T-T_a}{T_0-Ta}$<br>\n",
        "De acuerdo a la descripción a t= 2 hrs\n",
        "- T= 23.5 º\n",
        "- $T_a= 20$\n",
        "- $T_0 = 29.5$<br>\n",
        "con lo que $ K = \\frac{1}{2}ln \\frac {23.5-20}{29.5-20}$<br>\n",
        "## $K = 0.499264$\n",
        "\n",
        "\n",
        "\n"
      ]
    },
    {
      "cell_type": "code",
      "metadata": {
        "id": "oNeNr-O9vUmO",
        "colab_type": "code",
        "colab": {}
      },
      "source": [
        "def F5(x, y):\n",
        "    return -0.499264*(y-20)"
      ],
      "execution_count": 0,
      "outputs": []
    },
    {
      "cell_type": "code",
      "metadata": {
        "id": "E62oz19uvUmU",
        "colab_type": "code",
        "colab": {}
      },
      "source": [
        "x= 0.0\n",
        "xstop = 2.0\n",
        "y = np.array([37])\n",
        "h=0.005\n",
        "X1,Y1 = runge_kutta_4(F5, x, y, xstop, h)"
      ],
      "execution_count": 0,
      "outputs": []
    },
    {
      "cell_type": "code",
      "metadata": {
        "id": "6Oi-wvlgNhkC",
        "colab_type": "code",
        "outputId": "83db2eaa-814a-407a-9e31-4998535f8bd1",
        "colab": {
          "base_uri": "https://localhost:8080/",
          "height": 1000
        }
      },
      "source": [
        "printSoln(X1,Y1,1)"
      ],
      "execution_count": 0,
      "outputs": [
        {
          "output_type": "stream",
          "text": [
            "\n",
            "        x         y[ 0 ]  \n",
            "   0.0000e+00    3.7000e+01 \n",
            "   5.0000e-03    3.6958e+01 \n",
            "   1.0000e-02    3.6915e+01 \n",
            "   1.5000e-02    3.6873e+01 \n",
            "   2.0000e-02    3.6831e+01 \n",
            "   2.5000e-02    3.6789e+01 \n",
            "   3.0000e-02    3.6747e+01 \n",
            "   3.5000e-02    3.6706e+01 \n",
            "   4.0000e-02    3.6664e+01 \n",
            "   4.5000e-02    3.6622e+01 \n",
            "   5.0000e-02    3.6581e+01 \n",
            "   5.5000e-02    3.6540e+01 \n",
            "   6.0000e-02    3.6498e+01 \n",
            "   6.5000e-02    3.6457e+01 \n",
            "   7.0000e-02    3.6416e+01 \n",
            "   7.5000e-02    3.6375e+01 \n",
            "   8.0000e-02    3.6334e+01 \n",
            "   8.5000e-02    3.6294e+01 \n",
            "   9.0000e-02    3.6253e+01 \n",
            "   9.5000e-02    3.6213e+01 \n",
            "   1.0000e-01    3.6172e+01 \n",
            "   1.0500e-01    3.6132e+01 \n",
            "   1.1000e-01    3.6092e+01 \n",
            "   1.1500e-01    3.6051e+01 \n",
            "   1.2000e-01    3.6011e+01 \n",
            "   1.2500e-01    3.5971e+01 \n",
            "   1.3000e-01    3.5932e+01 \n",
            "   1.3500e-01    3.5892e+01 \n",
            "   1.4000e-01    3.5852e+01 \n",
            "   1.4500e-01    3.5813e+01 \n",
            "   1.5000e-01    3.5773e+01 \n",
            "   1.5500e-01    3.5734e+01 \n",
            "   1.6000e-01    3.5695e+01 \n",
            "   1.6500e-01    3.5656e+01 \n",
            "   1.7000e-01    3.5617e+01 \n",
            "   1.7500e-01    3.5578e+01 \n",
            "   1.8000e-01    3.5539e+01 \n",
            "   1.8500e-01    3.5500e+01 \n",
            "   1.9000e-01    3.5462e+01 \n",
            "   1.9500e-01    3.5423e+01 \n",
            "   2.0000e-01    3.5385e+01 \n",
            "   2.0500e-01    3.5346e+01 \n",
            "   2.1000e-01    3.5308e+01 \n",
            "   2.1500e-01    3.5270e+01 \n",
            "   2.2000e-01    3.5232e+01 \n",
            "   2.2500e-01    3.5194e+01 \n",
            "   2.3000e-01    3.5156e+01 \n",
            "   2.3500e-01    3.5118e+01 \n",
            "   2.4000e-01    3.5080e+01 \n",
            "   2.4500e-01    3.5043e+01 \n",
            "   2.5000e-01    3.5005e+01 \n",
            "   2.5500e-01    3.4968e+01 \n",
            "   2.6000e-01    3.4930e+01 \n",
            "   2.6500e-01    3.4893e+01 \n",
            "   2.7000e-01    3.4856e+01 \n",
            "   2.7500e-01    3.4819e+01 \n",
            "   2.8000e-01    3.4782e+01 \n",
            "   2.8500e-01    3.4745e+01 \n",
            "   2.9000e-01    3.4709e+01 \n",
            "   2.9500e-01    3.4672e+01 \n",
            "   3.0000e-01    3.4635e+01 \n",
            "   3.0500e-01    3.4599e+01 \n",
            "   3.1000e-01    3.4562e+01 \n",
            "   3.1500e-01    3.4526e+01 \n",
            "   3.2000e-01    3.4490e+01 \n",
            "   3.2500e-01    3.4454e+01 \n",
            "   3.3000e-01    3.4418e+01 \n",
            "   3.3500e-01    3.4382e+01 \n",
            "   3.4000e-01    3.4346e+01 \n",
            "   3.4500e-01    3.4310e+01 \n",
            "   3.5000e-01    3.4274e+01 \n",
            "   3.5500e-01    3.4239e+01 \n",
            "   3.6000e-01    3.4203e+01 \n",
            "   3.6500e-01    3.4168e+01 \n",
            "   3.7000e-01    3.4133e+01 \n",
            "   3.7500e-01    3.4097e+01 \n",
            "   3.8000e-01    3.4062e+01 \n",
            "   3.8500e-01    3.4027e+01 \n",
            "   3.9000e-01    3.3992e+01 \n",
            "   3.9500e-01    3.3957e+01 \n",
            "   4.0000e-01    3.3923e+01 \n",
            "   4.0500e-01    3.3888e+01 \n",
            "   4.1000e-01    3.3853e+01 \n",
            "   4.1500e-01    3.3819e+01 \n",
            "   4.2000e-01    3.3784e+01 \n",
            "   4.2500e-01    3.3750e+01 \n",
            "   4.3000e-01    3.3716e+01 \n",
            "   4.3500e-01    3.3681e+01 \n",
            "   4.4000e-01    3.3647e+01 \n",
            "   4.4500e-01    3.3613e+01 \n",
            "   4.5000e-01    3.3579e+01 \n",
            "   4.5500e-01    3.3545e+01 \n",
            "   4.6000e-01    3.3512e+01 \n",
            "   4.6500e-01    3.3478e+01 \n",
            "   4.7000e-01    3.3444e+01 \n",
            "   4.7500e-01    3.3411e+01 \n",
            "   4.8000e-01    3.3377e+01 \n",
            "   4.8500e-01    3.3344e+01 \n",
            "   4.9000e-01    3.3311e+01 \n",
            "   4.9500e-01    3.3278e+01 \n",
            "   5.0000e-01    3.3244e+01 \n",
            "   5.0500e-01    3.3211e+01 \n",
            "   5.1000e-01    3.3179e+01 \n",
            "   5.1500e-01    3.3146e+01 \n",
            "   5.2000e-01    3.3113e+01 \n",
            "   5.2500e-01    3.3080e+01 \n",
            "   5.3000e-01    3.3048e+01 \n",
            "   5.3500e-01    3.3015e+01 \n",
            "   5.4000e-01    3.2983e+01 \n",
            "   5.4500e-01    3.2950e+01 \n",
            "   5.5000e-01    3.2918e+01 \n",
            "   5.5500e-01    3.2886e+01 \n",
            "   5.6000e-01    3.2854e+01 \n",
            "   5.6500e-01    3.2822e+01 \n",
            "   5.7000e-01    3.2790e+01 \n",
            "   5.7500e-01    3.2758e+01 \n",
            "   5.8000e-01    3.2726e+01 \n",
            "   5.8500e-01    3.2694e+01 \n",
            "   5.9000e-01    3.2663e+01 \n",
            "   5.9500e-01    3.2631e+01 \n",
            "   6.0000e-01    3.2599e+01 \n",
            "   6.0500e-01    3.2568e+01 \n",
            "   6.1000e-01    3.2537e+01 \n",
            "   6.1500e-01    3.2505e+01 \n",
            "   6.2000e-01    3.2474e+01 \n",
            "   6.2500e-01    3.2443e+01 \n",
            "   6.3000e-01    3.2412e+01 \n",
            "   6.3500e-01    3.2381e+01 \n",
            "   6.4000e-01    3.2350e+01 \n",
            "   6.4500e-01    3.2320e+01 \n",
            "   6.5000e-01    3.2289e+01 \n",
            "   6.5500e-01    3.2258e+01 \n",
            "   6.6000e-01    3.2228e+01 \n",
            "   6.6500e-01    3.2197e+01 \n",
            "   6.7000e-01    3.2167e+01 \n",
            "   6.7500e-01    3.2136e+01 \n",
            "   6.8000e-01    3.2106e+01 \n",
            "   6.8500e-01    3.2076e+01 \n",
            "   6.9000e-01    3.2046e+01 \n",
            "   6.9500e-01    3.2016e+01 \n",
            "   7.0000e-01    3.1986e+01 \n",
            "   7.0500e-01    3.1956e+01 \n",
            "   7.1000e-01    3.1926e+01 \n",
            "   7.1500e-01    3.1896e+01 \n",
            "   7.2000e-01    3.1867e+01 \n",
            "   7.2500e-01    3.1837e+01 \n",
            "   7.3000e-01    3.1808e+01 \n",
            "   7.3500e-01    3.1778e+01 \n",
            "   7.4000e-01    3.1749e+01 \n",
            "   7.4500e-01    3.1720e+01 \n",
            "   7.5000e-01    3.1690e+01 \n",
            "   7.5500e-01    3.1661e+01 \n",
            "   7.6000e-01    3.1632e+01 \n",
            "   7.6500e-01    3.1603e+01 \n",
            "   7.7000e-01    3.1574e+01 \n",
            "   7.7500e-01    3.1545e+01 \n",
            "   7.8000e-01    3.1517e+01 \n",
            "   7.8500e-01    3.1488e+01 \n",
            "   7.9000e-01    3.1459e+01 \n",
            "   7.9500e-01    3.1431e+01 \n",
            "   8.0000e-01    3.1402e+01 \n",
            "   8.0500e-01    3.1374e+01 \n",
            "   8.1000e-01    3.1345e+01 \n",
            "   8.1500e-01    3.1317e+01 \n",
            "   8.2000e-01    3.1289e+01 \n",
            "   8.2500e-01    3.1261e+01 \n",
            "   8.3000e-01    3.1233e+01 \n",
            "   8.3500e-01    3.1205e+01 \n",
            "   8.4000e-01    3.1177e+01 \n",
            "   8.4500e-01    3.1149e+01 \n",
            "   8.5000e-01    3.1121e+01 \n",
            "   8.5500e-01    3.1093e+01 \n",
            "   8.6000e-01    3.1066e+01 \n",
            "   8.6500e-01    3.1038e+01 \n",
            "   8.7000e-01    3.1011e+01 \n",
            "   8.7500e-01    3.0983e+01 \n",
            "   8.8000e-01    3.0956e+01 \n",
            "   8.8500e-01    3.0928e+01 \n",
            "   8.9000e-01    3.0901e+01 \n",
            "   8.9500e-01    3.0874e+01 \n",
            "   9.0000e-01    3.0847e+01 \n",
            "   9.0500e-01    3.0820e+01 \n",
            "   9.1000e-01    3.0793e+01 \n",
            "   9.1500e-01    3.0766e+01 \n",
            "   9.2000e-01    3.0739e+01 \n",
            "   9.2500e-01    3.0712e+01 \n",
            "   9.3000e-01    3.0686e+01 \n",
            "   9.3500e-01    3.0659e+01 \n",
            "   9.4000e-01    3.0632e+01 \n",
            "   9.4500e-01    3.0606e+01 \n",
            "   9.5000e-01    3.0579e+01 \n",
            "   9.5500e-01    3.0553e+01 \n",
            "   9.6000e-01    3.0527e+01 \n",
            "   9.6500e-01    3.0501e+01 \n",
            "   9.7000e-01    3.0474e+01 \n",
            "   9.7500e-01    3.0448e+01 \n",
            "   9.8000e-01    3.0422e+01 \n",
            "   9.8500e-01    3.0396e+01 \n",
            "   9.9000e-01    3.0370e+01 \n",
            "   9.9500e-01    3.0344e+01 \n",
            "   1.0000e+00    3.0319e+01 \n",
            "   1.0050e+00    3.0293e+01 \n",
            "   1.0100e+00    3.0267e+01 \n",
            "   1.0150e+00    3.0242e+01 \n",
            "   1.0200e+00    3.0216e+01 \n",
            "   1.0250e+00    3.0191e+01 \n",
            "   1.0300e+00    3.0165e+01 \n",
            "   1.0350e+00    3.0140e+01 \n",
            "   1.0400e+00    3.0115e+01 \n",
            "   1.0450e+00    3.0089e+01 \n",
            "   1.0500e+00    3.0064e+01 \n",
            "   1.0550e+00    3.0039e+01 \n",
            "   1.0600e+00    3.0014e+01 \n",
            "   1.0650e+00    2.9989e+01 \n",
            "   1.0700e+00    2.9964e+01 \n",
            "   1.0750e+00    2.9939e+01 \n",
            "   1.0800e+00    2.9915e+01 \n",
            "   1.0850e+00    2.9890e+01 \n",
            "   1.0900e+00    2.9865e+01 \n",
            "   1.0950e+00    2.9841e+01 \n",
            "   1.1000e+00    2.9816e+01 \n",
            "   1.1050e+00    2.9792e+01 \n",
            "   1.1100e+00    2.9767e+01 \n",
            "   1.1150e+00    2.9743e+01 \n",
            "   1.1200e+00    2.9719e+01 \n",
            "   1.1250e+00    2.9694e+01 \n",
            "   1.1300e+00    2.9670e+01 \n",
            "   1.1350e+00    2.9646e+01 \n",
            "   1.1400e+00    2.9622e+01 \n",
            "   1.1450e+00    2.9598e+01 \n",
            "   1.1500e+00    2.9574e+01 \n",
            "   1.1550e+00    2.9550e+01 \n",
            "   1.1600e+00    2.9526e+01 \n",
            "   1.1650e+00    2.9503e+01 \n",
            "   1.1700e+00    2.9479e+01 \n",
            "   1.1750e+00    2.9455e+01 \n",
            "   1.1800e+00    2.9432e+01 \n",
            "   1.1850e+00    2.9408e+01 \n",
            "   1.1900e+00    2.9385e+01 \n",
            "   1.1950e+00    2.9361e+01 \n",
            "   1.2000e+00    2.9338e+01 \n",
            "   1.2050e+00    2.9315e+01 \n",
            "   1.2100e+00    2.9292e+01 \n",
            "   1.2150e+00    2.9268e+01 \n",
            "   1.2200e+00    2.9245e+01 \n",
            "   1.2250e+00    2.9222e+01 \n",
            "   1.2300e+00    2.9199e+01 \n",
            "   1.2350e+00    2.9176e+01 \n",
            "   1.2400e+00    2.9153e+01 \n",
            "   1.2450e+00    2.9131e+01 \n",
            "   1.2500e+00    2.9108e+01 \n",
            "   1.2550e+00    2.9085e+01 \n",
            "   1.2600e+00    2.9062e+01 \n",
            "   1.2650e+00    2.9040e+01 \n",
            "   1.2700e+00    2.9017e+01 \n",
            "   1.2750e+00    2.8995e+01 \n",
            "   1.2800e+00    2.8972e+01 \n",
            "   1.2850e+00    2.8950e+01 \n",
            "   1.2900e+00    2.8928e+01 \n",
            "   1.2950e+00    2.8905e+01 \n",
            "   1.3000e+00    2.8883e+01 \n",
            "   1.3050e+00    2.8861e+01 \n",
            "   1.3100e+00    2.8839e+01 \n",
            "   1.3150e+00    2.8817e+01 \n",
            "   1.3200e+00    2.8795e+01 \n",
            "   1.3250e+00    2.8773e+01 \n",
            "   1.3300e+00    2.8751e+01 \n",
            "   1.3350e+00    2.8729e+01 \n",
            "   1.3400e+00    2.8708e+01 \n",
            "   1.3450e+00    2.8686e+01 \n",
            "   1.3500e+00    2.8664e+01 \n",
            "   1.3550e+00    2.8643e+01 \n",
            "   1.3600e+00    2.8621e+01 \n",
            "   1.3650e+00    2.8600e+01 \n",
            "   1.3700e+00    2.8578e+01 \n",
            "   1.3750e+00    2.8557e+01 \n",
            "   1.3800e+00    2.8535e+01 \n",
            "   1.3850e+00    2.8514e+01 \n",
            "   1.3900e+00    2.8493e+01 \n",
            "   1.3950e+00    2.8472e+01 \n",
            "   1.4000e+00    2.8451e+01 \n",
            "   1.4050e+00    2.8430e+01 \n",
            "   1.4100e+00    2.8409e+01 \n",
            "   1.4150e+00    2.8388e+01 \n",
            "   1.4200e+00    2.8367e+01 \n",
            "   1.4250e+00    2.8346e+01 \n",
            "   1.4300e+00    2.8325e+01 \n",
            "   1.4350e+00    2.8304e+01 \n",
            "   1.4400e+00    2.8284e+01 \n",
            "   1.4450e+00    2.8263e+01 \n",
            "   1.4500e+00    2.8242e+01 \n",
            "   1.4550e+00    2.8222e+01 \n",
            "   1.4600e+00    2.8201e+01 \n",
            "   1.4650e+00    2.8181e+01 \n",
            "   1.4700e+00    2.8160e+01 \n",
            "   1.4750e+00    2.8140e+01 \n",
            "   1.4800e+00    2.8120e+01 \n",
            "   1.4850e+00    2.8100e+01 \n",
            "   1.4900e+00    2.8079e+01 \n",
            "   1.4950e+00    2.8059e+01 \n",
            "   1.5000e+00    2.8039e+01 \n",
            "   1.5050e+00    2.8019e+01 \n",
            "   1.5100e+00    2.7999e+01 \n",
            "   1.5150e+00    2.7979e+01 \n",
            "   1.5200e+00    2.7959e+01 \n",
            "   1.5250e+00    2.7939e+01 \n",
            "   1.5300e+00    2.7920e+01 \n",
            "   1.5350e+00    2.7900e+01 \n",
            "   1.5400e+00    2.7880e+01 \n",
            "   1.5450e+00    2.7861e+01 \n",
            "   1.5500e+00    2.7841e+01 \n",
            "   1.5550e+00    2.7821e+01 \n",
            "   1.5600e+00    2.7802e+01 \n",
            "   1.5650e+00    2.7782e+01 \n",
            "   1.5700e+00    2.7763e+01 \n",
            "   1.5750e+00    2.7744e+01 \n",
            "   1.5800e+00    2.7724e+01 \n",
            "   1.5850e+00    2.7705e+01 \n",
            "   1.5900e+00    2.7686e+01 \n",
            "   1.5950e+00    2.7667e+01 \n",
            "   1.6000e+00    2.7648e+01 \n",
            "   1.6050e+00    2.7629e+01 \n",
            "   1.6100e+00    2.7610e+01 \n",
            "   1.6150e+00    2.7591e+01 \n",
            "   1.6200e+00    2.7572e+01 \n",
            "   1.6250e+00    2.7553e+01 \n",
            "   1.6300e+00    2.7534e+01 \n",
            "   1.6350e+00    2.7515e+01 \n",
            "   1.6400e+00    2.7496e+01 \n",
            "   1.6450e+00    2.7478e+01 \n",
            "   1.6500e+00    2.7459e+01 \n",
            "   1.6550e+00    2.7440e+01 \n",
            "   1.6600e+00    2.7422e+01 \n",
            "   1.6650e+00    2.7403e+01 \n",
            "   1.6700e+00    2.7385e+01 \n",
            "   1.6750e+00    2.7367e+01 \n",
            "   1.6800e+00    2.7348e+01 \n",
            "   1.6850e+00    2.7330e+01 \n",
            "   1.6900e+00    2.7312e+01 \n",
            "   1.6950e+00    2.7293e+01 \n",
            "   1.7000e+00    2.7275e+01 \n",
            "   1.7050e+00    2.7257e+01 \n",
            "   1.7100e+00    2.7239e+01 \n",
            "   1.7150e+00    2.7221e+01 \n",
            "   1.7200e+00    2.7203e+01 \n",
            "   1.7250e+00    2.7185e+01 \n",
            "   1.7300e+00    2.7167e+01 \n",
            "   1.7350e+00    2.7149e+01 \n",
            "   1.7400e+00    2.7131e+01 \n",
            "   1.7450e+00    2.7114e+01 \n",
            "   1.7500e+00    2.7096e+01 \n",
            "   1.7550e+00    2.7078e+01 \n",
            "   1.7600e+00    2.7060e+01 \n",
            "   1.7650e+00    2.7043e+01 \n",
            "   1.7700e+00    2.7025e+01 \n",
            "   1.7750e+00    2.7008e+01 \n",
            "   1.7800e+00    2.6990e+01 \n",
            "   1.7850e+00    2.6973e+01 \n",
            "   1.7900e+00    2.6955e+01 \n",
            "   1.7950e+00    2.6938e+01 \n",
            "   1.8000e+00    2.6921e+01 \n",
            "   1.8050e+00    2.6904e+01 \n",
            "   1.8100e+00    2.6886e+01 \n",
            "   1.8150e+00    2.6869e+01 \n",
            "   1.8200e+00    2.6852e+01 \n",
            "   1.8250e+00    2.6835e+01 \n",
            "   1.8300e+00    2.6818e+01 \n",
            "   1.8350e+00    2.6801e+01 \n",
            "   1.8400e+00    2.6784e+01 \n",
            "   1.8450e+00    2.6767e+01 \n",
            "   1.8500e+00    2.6750e+01 \n",
            "   1.8550e+00    2.6733e+01 \n",
            "   1.8600e+00    2.6717e+01 \n",
            "   1.8650e+00    2.6700e+01 \n",
            "   1.8700e+00    2.6683e+01 \n",
            "   1.8750e+00    2.6666e+01 \n",
            "   1.8800e+00    2.6650e+01 \n",
            "   1.8850e+00    2.6633e+01 \n",
            "   1.8900e+00    2.6617e+01 \n",
            "   1.8950e+00    2.6600e+01 \n",
            "   1.9000e+00    2.6584e+01 \n",
            "   1.9050e+00    2.6567e+01 \n",
            "   1.9100e+00    2.6551e+01 \n",
            "   1.9150e+00    2.6535e+01 \n",
            "   1.9200e+00    2.6518e+01 \n",
            "   1.9250e+00    2.6502e+01 \n",
            "   1.9300e+00    2.6486e+01 \n",
            "   1.9350e+00    2.6470e+01 \n",
            "   1.9400e+00    2.6454e+01 \n",
            "   1.9450e+00    2.6438e+01 \n",
            "   1.9500e+00    2.6421e+01 \n",
            "   1.9550e+00    2.6405e+01 \n",
            "   1.9600e+00    2.6389e+01 \n",
            "   1.9650e+00    2.6374e+01 \n",
            "   1.9700e+00    2.6358e+01 \n",
            "   1.9750e+00    2.6342e+01 \n",
            "   1.9800e+00    2.6326e+01 \n",
            "   1.9850e+00    2.6310e+01 \n",
            "   1.9900e+00    2.6295e+01 \n",
            "   1.9950e+00    2.6279e+01 \n",
            "   2.0000e+00    2.6263e+01 \n",
            "   2.0050e+00    2.6248e+01 \n"
          ],
          "name": "stdout"
        }
      ]
    },
    {
      "cell_type": "code",
      "metadata": {
        "id": "rgMDxtYtm9uV",
        "colab_type": "code",
        "outputId": "9d34ad6f-07b3-46dc-95a4-2c6cc549ad75",
        "colab": {
          "base_uri": "https://localhost:8080/",
          "height": 279
        }
      },
      "source": [
        "plt.grid(True)\n",
        "plt.axhline(0, color='black')\n",
        "plt.axvline(0, color='black')\n",
        "plt.plot(X1,Y1[:,0])\n",
        "plt.xlabel('x')\n",
        "plt.ylabel('y(x)')\n",
        "plt.show()"
      ],
      "execution_count": 0,
      "outputs": [
        {
          "output_type": "display_data",
          "data": {
            "image/png": "[encoded data removed]",
            "text/plain": [
              "<Figure size 432x288 with 1 Axes>"
            ]
          },
          "metadata": {
            "tags": [],
            "needs_background": "light"
          }
        }
      ]
    },
    {
      "cell_type": "code",
      "metadata": {
        "id": "nOCNkNcrzzvf",
        "colab_type": "code",
        "colab": {}
      },
      "source": [
        "def find_nearest(array, value):\n",
        "    array = np.asarray(array)\n",
        "    idx = (np.abs(array - value)).argmin()\n",
        "    return idx, array[idx]\n"
      ],
      "execution_count": 0,
      "outputs": []
    },
    {
      "cell_type": "code",
      "metadata": {
        "id": "zlSk0fmnz2kO",
        "colab_type": "code",
        "outputId": "6c24339d-50b4-4b26-a088-56904a163f0c",
        "colab": {
          "base_uri": "https://localhost:8080/",
          "height": 54
        }
      },
      "source": [
        "value = 29.5\n",
        "indice, valor = find_nearest(Y1[:,0],value)\n",
        "print(indice, valor)\n",
        "print(X1[indice])\n"
      ],
      "execution_count": 0,
      "outputs": [
        {
          "output_type": "stream",
          "text": [
            "233 29.502650731514734\n",
            "1.1649999999999971\n"
          ],
          "name": "stdout"
        }
      ]
    },
    {
      "cell_type": "markdown",
      "metadata": {
        "id": "goKhTcAq6VIx",
        "colab_type": "text"
      },
      "source": [
        "Se podría calcular el tienpo de la muerte <br>\n",
        "$\\displaystyle  -Kt = ln \\frac{T-T_a}{T_0-Ta}$<br>\n",
        "$t_d = -\\frac{1}{K}ln \\frac{T-T_a}{T_0-Ta}$<br>\n",
        "$t_d = -\\frac{1}{0.499264}ln \\frac{37-20}{29.5-20}$<br>\n",
        "## $t_d = -1.1655\\,\\, hrs$<br>\n",
        "\n",
        "\n"
      ]
    },
    {
      "cell_type": "code",
      "metadata": {
        "id": "Nt4l0te1honQ",
        "colab_type": "code",
        "colab": {}
      },
      "source": [
        ""
      ],
      "execution_count": 0,
      "outputs": []
    },
    {
      "cell_type": "markdown",
      "metadata": {
        "id": "ASfuf6n0eSXM",
        "colab_type": "text"
      },
      "source": [
        ""
      ]
    },
    {
      "cell_type": "markdown",
      "metadata": {
        "id": "qqAyqAzJwG7Z",
        "colab_type": "text"
      },
      "source": [
        "#### 8.-  La ecuación diferencial que define el movimiento de un péndulo, considerando la fricción es :<br>\n",
        "$\\theta''(t) + b \\theta'(t) + c \\sin(\\theta(t)) = 0.$ <br>\n",
        "#### Si $\\omega(t) = \\theta'(t)$ tenemos <br>\n",
        "$ \\begin{cases}\n",
        "\\theta'(t) = \\omega(t) \\\\\n",
        "\\omega'(t) = -b \\omega(t) - c \\sin(\\theta(t))\n",
        "\\end{cases}\n",
        "$<br>\n",
        "#### Considerando b = 0.25 y c = 5.0 y las condiciones iniciales $\\theta(0) = pi - 0.1$, y  $\\omega(0) = 0$ \n",
        "#### Graficar $\\theta(t)$  y  $ \\omega(t) $ desde t = 0 a 10 seg. Considerar h=0.1 seg."
      ]
    },
    {
      "cell_type": "markdown",
      "metadata": {
        "id": "AAWt5NObmJcr",
        "colab_type": "text"
      },
      "source": [
        "Haciendo <br>\n",
        "$\n",
        "\\pmb y=\\begin{vmatrix}\n",
        "y_0  \\\\ \n",
        "y_1 \n",
        "\\end{vmatrix} =\\begin{vmatrix}\n",
        "\\theta \\\\ \n",
        "\\omega\n",
        "\\end{vmatrix}\n",
        "$\n",
        "<br>\n",
        "que nos da las siguientes ecuaciones<br>\n",
        "$\n",
        "\\pmb y'=\\begin{vmatrix}\n",
        "y'_0 = \\omega \\\\ \n",
        "y'_1 = \\omega'&\n",
        "\\end{vmatrix} =\\begin{vmatrix}\n",
        "y1 \\\\ \n",
        " -b \\omega(t) - c \\sin(\\theta(t))\n",
        "\\end{vmatrix}=\\begin{vmatrix}\n",
        "y1 \\\\ \n",
        " -b y_1 - c \\sin(y_0)\n",
        "\\end{vmatrix}\n",
        "$<br>\n",
        "\n",
        "Con las condiciones iniciales <br>\n",
        "$\n",
        "\\pmb y(0)=\\begin{vmatrix}\n",
        "\\pi-0.1  \\\\ \n",
        "0 \n",
        "\\end{vmatrix}\n",
        "$\n"
      ]
    },
    {
      "cell_type": "code",
      "metadata": {
        "id": "MrBzqUewhzy3",
        "colab_type": "code",
        "colab": {}
      },
      "source": [
        "def F7(x,y):\n",
        "    F = np.zeros(2)\n",
        "    b = 0.25\n",
        "    c = 5.0\n",
        "    F[0] = y[1]\n",
        "    F[1] = -b*y[1]-c*np.sin(y[0])\n",
        "    return F"
      ],
      "execution_count": 0,
      "outputs": []
    },
    {
      "cell_type": "code",
      "metadata": {
        "id": "z0mo2FUph0CL",
        "colab_type": "code",
        "colab": {}
      },
      "source": [
        "x= 0.0\n",
        "xstop = 10\n",
        "y = np.array([np.pi-0.1,0])\n",
        "h=0.1\n",
        "X,Y = runge_kutta_4(F7, x, y, xstop, h)"
      ],
      "execution_count": 0,
      "outputs": []
    },
    {
      "cell_type": "code",
      "metadata": {
        "id": "3zvRFf0xjVaM",
        "colab_type": "code",
        "outputId": "c4a3702f-a7e8-4939-9d2c-fb5a40a987c7",
        "colab": {
          "base_uri": "https://localhost:8080/",
          "height": 277
        }
      },
      "source": [
        "printSoln(X,Y,10)"
      ],
      "execution_count": 0,
      "outputs": [
        {
          "output_type": "stream",
          "text": [
            "\n",
            "        x         y[ 0 ]        y[ 1 ]  \n",
            "   0.0000e+00    3.0416e+00    0.0000e+00 \n",
            "   1.0000e+00    2.7021e+00   -9.0103e-01 \n",
            "   2.0000e+00    2.4685e-01   -4.0034e+00 \n",
            "   3.0000e+00   -1.8752e+00    3.3851e-01 \n",
            "   4.0000e+00    4.2131e-01    3.0263e+00 \n",
            "   5.0000e+00    1.1661e+00   -1.6435e+00 \n",
            "   6.0000e+00   -1.0519e+00   -1.0778e+00 \n",
            "   7.0000e+00   -6.7041e-02    2.2680e+00 \n",
            "   8.0000e+00    8.3656e-01   -9.6686e-01 \n",
            "   9.0000e+00   -6.9953e-01   -8.1130e-01 \n",
            "   1.0000e+01    1.9816e-02    1.5679e+00 \n",
            "   1.0100e+01    1.7288e-01    1.4812e+00 \n"
          ],
          "name": "stdout"
        }
      ]
    },
    {
      "cell_type": "code",
      "metadata": {
        "id": "uanNQVnijWFD",
        "colab_type": "code",
        "outputId": "06ed0de1-1583-48c4-f2fe-32b17e9cd516",
        "colab": {
          "base_uri": "https://localhost:8080/",
          "height": 279
        }
      },
      "source": [
        "plt.grid(True)\n",
        "plt.axhline(0, color='black')\n",
        "plt.axvline(0, color='black')\n",
        "plt.plot(X,Y[:,1])\n",
        "plt.plot(X,Y[:,0])\n",
        "plt.xlabel('x')\n",
        "plt.ylabel('y(x)')\n",
        "plt.show()\n"
      ],
      "execution_count": 0,
      "outputs": [
        {
          "output_type": "display_data",
          "data": {
            "image/png": "[encoded data removed]",
            "text/plain": [
              "<Figure size 432x288 with 1 Axes>"
            ]
          },
          "metadata": {
            "tags": [],
            "needs_background": "light"
          }
        }
      ]
    }
  ]
}