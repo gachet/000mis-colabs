{
  "nbformat": 4,
  "nbformat_minor": 0,
  "metadata": {
    "kernelspec": {
      "display_name": "Python 3",
      "language": "python",
      "name": "python3"
    },
    "language_info": {
      "codemirror_mode": {
        "name": "ipython",
        "version": 3
      },
      "file_extension": ".py",
      "mimetype": "text/x-python",
      "name": "python",
      "nbconvert_exporter": "python",
      "pygments_lexer": "ipython3",
      "version": "3.7.4"
    },
    "colab": {
      "name": "ejer-euler-runge-2.ipynb",
      "provenance": [],
      "include_colab_link": true
    }
  },
  "cells": [
    {
      "cell_type": "markdown",
      "metadata": {
        "id": "view-in-github",
        "colab_type": "text"
      },
      "source": [
        "<a href=\"https://colab.research.google.com/github/gachet/mis-colabs/blob/master/ejer_euler_runge_2.ipynb\" target=\"_parent\"><img src=\"https://colab.research.google.com/assets/colab-badge.svg\" alt=\"Open In Colab\"/></a>"
      ]
    },
    {
      "cell_type": "markdown",
      "metadata": {
        "id": "l05M83iDtC5w",
        "colab_type": "text"
      },
      "source": [
        "## Ejercicios ecuaciones diferenciales\n",
        "#### - si no se especifica lo contrario, utilizar Runge-Kutta de 4to orden\n",
        "#### - s no se especifica un paso h escoger uno a vuestro criterio"
      ]
    },
    {
      "cell_type": "markdown",
      "metadata": {
        "id": "TY7bhQv1tC50",
        "colab_type": "text"
      },
      "source": [
        "#### 1.- Utilizar el método de Euler para aproximar las soluciones de cada uno de los siguientes problemas de valor inicial:<br><br>\n",
        "$$\n",
        "y'= y -t^2 + y \\hspace{1 cm} 0 \\leq t \\leq 2 \\hspace{1cm} y(0) = 0.5 \\hspace{1cm}h=0.5 \\\\\n",
        "y'= 1 + (t-y)^2 \\hspace{1 cm} 2 \\leq t \\leq 3 \\hspace{1cm} y(2) = 1 \\hspace{1cm}h=0.5 \\\\\n",
        "y'= 1 + -y \\hspace{1 cm} 0 \\leq t \\leq 5 \\hspace{1cm} y(2) = 9 \\hspace{1cm}h=0.1 \n",
        "$$"
      ]
    },
    {
      "cell_type": "markdown",
      "metadata": {
        "id": "JvvubDNjtC52",
        "colab_type": "text"
      },
      "source": [
        "#### 2.-  Utilizar el método de Runge-kutta de orden 2 para para aproximar las solución exacta de :<br><br>\n",
        "$$\n",
        "y'= \\frac{2}{x}y +x^2e^x  \\hspace{1 cm} 1 \\leq t \\leq 2 \\hspace{1cm} y(1) = 0. \\hspace{1cm}h=0.1 $$\n",
        "Comparar con la solución exacta $ y(x) = x^2(e^x-e)$ \n"
      ]
    },
    {
      "cell_type": "markdown",
      "metadata": {
        "id": "vQEJe2xQtC54",
        "colab_type": "text"
      },
      "source": [
        "k.7.1.8 #### 3.- Un paracaidista de masa $m$ en caída libre experimenta una fuerza de rozamiento $F_D = c_d y^2$, donde $y$ se mide verticalmente hacia abajo desde el momento inicial de la caída. la ecuación diferencial que describe el movimiento es :<br>\n",
        "$\n",
        "    y'' = g - \\frac{C_D}{m}y^2\n",
        "$\n",
        "    \n",
        "#### Determinar el tiempo cuando ha descendido 5000 m. Utilizar $g=9.8066 \\,\\, m/s^2$, $C_D= 0.2028\\,\\, kg/m $ y $m=80\\,\\, kg$\n",
        "#### Utilizar Runge-Kutta de 4to orden con $h=0,25\\,\\, s$"
      ]
    },
    {
      "cell_type": "markdown",
      "metadata": {
        "id": "3x5YLVvNtC57",
        "colab_type": "text"
      },
      "source": [
        "k.7.1.9 #### 4.- \n",
        "<img src=\"https://drive.google.com/uc?id=1GbCYDYBib6-9wInqpAICWpgE58_jz5my\" alt=\"Lamp\" width=\"420\" height=\"120\">\n",
        "\n",
        "\n",
        "#### Un sistema masa resorte está en reposo cuando se aplica una fuerza $P(t)$ siendo:<br>\n",
        "$\n",
        "P(t) = \\left\\{\\begin{matrix}\n",
        "10t \\,\\,N &para \\,\\, t< 2\\,s \\\\ \n",
        "20 \\,\\,N & para \\,\\, t \\geq 2\\,s\n",
        "\\end{matrix}\\right.\n",
        "$<br>\n",
        "La ecuación diferencial que define el movimiento es:<br>\n",
        "$\n",
        "y'' = \\frac{P(t)}{m}-\\frac{k}{m}y\n",
        "$<br>\n",
        "#### Determinar es desplazamiento máximo de la masa. Utilizar $m=2.5 \\,kg$ y  $k=75 \\,N/m$\n",
        "\n"
      ]
    },
    {
      "cell_type": "markdown",
      "metadata": {
        "id": "_3BVaaVztC59",
        "colab_type": "text"
      },
      "source": [
        "k.1.7.10 #### 5.- \n",
        "<img src=\"https://drive.google.com/uc?id=1aeU_GRzveOt3U1NlK_yv8gynXYC8IRTq\" alt=\"Lamp\" width=\"420\" height=\"120\">\n",
        "\n",
        "#### La posición de equilibrio de un cilindro que flota es $h=r$. Si el cilindro se desplaza a la posición $h=1.5r$ y se libera, la ecuación diferencial que describe el movimiento es:<br>\n",
        "\n",
        "$ \\displaystyle y'' = \\frac{2}{\\pi}\\bigg[tan^{-1}\\frac{1-y}{\\sqrt{2y-y^2}}+(1-y)\\sqrt{2y-y^2}\\bigg ]$<br>\n",
        "#### Siendo $y=h/r$. Graficar $h/r$ desde $t=0$ hasta $t=6\\,seg$<br> Utilizar la gráfica para estimar el período del movimiento.\n"
      ]
    },
    {
      "cell_type": "markdown",
      "metadata": {
        "id": "GLSgXTFEtC6A",
        "colab_type": "text"
      },
      "source": [
        "#### 6.- \n",
        "<img src=\"https://drive.google.com/uc?id=1IE3cAGe_EDDcOIRoOMEZ1Fqzaq-N-ccj\" alt=\"Lamp\" width=\"320\" height=\"120\">\n",
        "\n",
        "#### Las ecuaciones diferenciales que describen la  corriente $i$ en el circuito son:<br>\n",
        "$\\displaystyle L \\frac{di}{dt}+Ri+ \\frac{q}{C}= E(t) \\hspace{1cm}\n",
        "\\frac{dq}{dt}=i $<br>\n",
        "#### Si el voltaje  aplicado E pasa de 0 a 9v , graficar la corriente resultante durante los primeros  10 seg. Utilizar $R=10 \\, \\Omega$, $L=2\\,H$ y $C=0.45\\,F$"
      ]
    },
    {
      "cell_type": "markdown",
      "metadata": {
        "id": "s4ffEP8otC6H",
        "colab_type": "text"
      },
      "source": [
        "#### 7.- En la investigación de un homicidio o de una muerte accidental, con frecuencia es importante estimar el tiempo que ha transcurrido desde la muerte. De observaciones experimentales, se sabe que la temperatura superficial de un objeto cambia con una tasa proporcional a la diferencia entre la temperatura del objeto y la del ambiente circundante, o temperatura ambiente. Esto se conoce como ley de Newton del enfriamiento. Así, si $T(t)$ es la temperatura del objeto al tiempo $t$, y $Ta$ es la temperatura ambiente constante:<br>\n",
        "$\\displaystyle \\frac{dT}{dt}=-K(T-T_a)$ <br>\n",
        "\n",
        "#### donde $K > 0$ es una constante de proporcionalidad. Suponga que en el momento $t = 0$  se descubre un cuerpo y se mide su temperatura, $T_0$. Se supone que en el momento de la muerte, la temperatura del cuerpo, $T_d$, era el valor normal de 37ºC. Suponga que la temperatura del cuerpo al ser descubierto era de 29.5ºC, y que dos horas después era de 23.5ºC. La temperatura ambiente es de 20ºC.\n",
        "\n",
        "#### - Determine K y el tiempo de la muerte.\n",
        "#### - Resuelva la EDO en forma numérica y grafique los resultados"
      ]
    },
    {
      "cell_type": "markdown",
      "metadata": {
        "id": "qLaa31Y-tC6L",
        "colab_type": "text"
      },
      "source": [
        "#### 8.-  La ecuación diferencial que define el movimiento de un péndulo, considerando la fricción es :<br>\n",
        "$\\theta''(t) + b \\theta'(t) + c \\sin(\\theta(t)) = 0.$ <br>\n",
        "#### Si $\\omega(t) = \\theta'(t)$ tenemos <br>\n",
        "$ \\begin{cases}\n",
        "\\theta'(t) = \\omega(t) \\\\\n",
        "\\omega'(t) = -b \\omega(t) - c \\sin(\\theta(t))\n",
        "\\end{cases}\n",
        "$<br>\n",
        "#### Considerando b = 0.25 y c = 5.0 y las condiciones iniciales $\\theta(0) = pi - 0.1$, y  $\\omega(0) = 0$ \n",
        "#### Graficar $\\theta(t)$  y  $ \\omega(t) $ desde t = 0 a 10 seg. Considerar h=0.1 seg."
      ]
    },
    {
      "cell_type": "code",
      "metadata": {
        "id": "LxqTA92atC6O",
        "colab_type": "code",
        "colab": {}
      },
      "source": [
        ""
      ],
      "execution_count": 0,
      "outputs": []
    },
    {
      "cell_type": "code",
      "metadata": {
        "id": "DmwH_VH-tC6Z",
        "colab_type": "code",
        "colab": {}
      },
      "source": [
        ""
      ],
      "execution_count": 0,
      "outputs": []
    }
  ]
}