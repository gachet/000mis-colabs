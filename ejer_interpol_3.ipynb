{
  "nbformat": 4,
  "nbformat_minor": 0,
  "metadata": {
    "kernelspec": {
      "display_name": "Python 3",
      "language": "python",
      "name": "python3"
    },
    "language_info": {
      "codemirror_mode": {
        "name": "ipython",
        "version": 3
      },
      "file_extension": ".py",
      "mimetype": "text/x-python",
      "name": "python",
      "nbconvert_exporter": "python",
      "pygments_lexer": "ipython3",
      "version": "3.7.4"
    },
    "colab": {
      "name": "ejer-interpol-3.ipynb",
      "provenance": [],
      "collapsed_sections": [],
      "include_colab_link": true
    }
  },
  "cells": [
    {
      "cell_type": "markdown",
      "metadata": {
        "id": "view-in-github",
        "colab_type": "text"
      },
      "source": [
        "<a href=\"https://colab.research.google.com/github/gachet/mis-colabs/blob/master/ejer_interpol_3.ipynb\" target=\"_parent\"><img src=\"https://colab.research.google.com/assets/colab-badge.svg\" alt=\"Open In Colab\"/></a>"
      ]
    },
    {
      "cell_type": "code",
      "metadata": {
        "id": "Ceyqfjfh6K-Z",
        "colab_type": "code",
        "colab": {}
      },
      "source": [
        "import sympy as sym\n",
        "import numpy as np\n",
        "from scipy.interpolate import CubicSpline\n",
        "import matplotlib.pyplot as plt\n",
        "%matplotlib inline"
      ],
      "execution_count": 0,
      "outputs": []
    },
    {
      "cell_type": "code",
      "metadata": {
        "id": "kRh2SE1_7UX_",
        "colab_type": "code",
        "outputId": "b9313a3b-5515-45fe-9125-2f35341a28b9",
        "colab": {
          "base_uri": "https://localhost:8080/",
          "height": 125
        }
      },
      "source": [
        "xa = np.array([0.9,1.3,1.9,2.1,2.6,3.0,3.9,4.4,4.7,5.0,6.0,7.0,8.0,9.2,10.5,11.3,11.6,12.0,12.6,13.0,13.3])\n",
        "ya = np.array([1.3,1.5,1.85,2.1,2.6,2.7,2.4,2.15,2.05,2.1,2.25,2.3,2.25,1.95,1.4,0.9,0.7,0.6,0.5,0.4,0.25])\n",
        "N = len(ya)\n",
        "## V se puede calcular con\n",
        "## np.vander(x,N) o bien\n",
        "V = np.column_stack([xa**(N-1-i)\\\n",
        "    for i in range(0,N)])\n",
        "#print('Matriz Vandermonde\\n',V)\n",
        "a = np.dot(np.linalg.inv(V),ya)\n",
        "print('coeficientes son ' ,a )"
      ],
      "execution_count": 0,
      "outputs": [
        {
          "output_type": "stream",
          "text": [
            "coeficientes son  [-3.06868163e-11  4.27169334e-09 -2.76799855e-07  1.10890853e-05\n",
            " -3.07668733e-04  6.27634474e-03 -9.75485634e-02  1.18119998e+00\n",
            " -1.13010513e+01  8.61420059e+01 -5.25173833e+02  2.56121111e+03\n",
            " -9.95779958e+03  3.06444753e+04 -7.37894090e+04  1.36639461e+05\n",
            " -1.89664256e+05  1.89812920e+05 -1.28562921e+05  5.24144633e+04\n",
            " -9.64408948e+03]\n"
          ],
          "name": "stdout"
        }
      ]
    },
    {
      "cell_type": "code",
      "metadata": {
        "id": "Sd0aEPyJDyK5",
        "colab_type": "code",
        "colab": {}
      },
      "source": [
        "res = lambda x: a[0]*x**20 + a[1]*x**19 +a[2]*x**18+a[3]*x**17+a[4]*x**16+a[5]*x**15+\\\n",
        "                a[6]*x**14 + a[7]*x**13 +a[8]*x**12+a[9]*x**11+a[10]*x**10+a[11]*x**9+\\\n",
        "                a[12]*x**8 + a[13]*x**7 +a[14]*x**6+a[15]*x**5+a[16]*x**4+a[17]*x**3+\\\n",
        "                a[18]*x**2 + a[19]*x +a[20]"
      ],
      "execution_count": 0,
      "outputs": []
    },
    {
      "cell_type": "code",
      "metadata": {
        "id": "bMQizagnMqBr",
        "colab_type": "code",
        "outputId": "c4caab75-04ad-453c-87f4-7b5fb7c79632",
        "colab": {
          "base_uri": "https://localhost:8080/",
          "height": 281
        }
      },
      "source": [
        "plt.grid(True)\n",
        "plt.axhline(0, color='black')\n",
        "plt.axvline(0, color='black')\n",
        "plt.title('Interpolación Vandermonde')\n",
        "plt.plot(xa,ya,'o', label = 'Puntos')\n",
        "bottom, top = -1,5  # return the current ylim\n",
        "plt.ylim((bottom, top))   # set the ylim to bottom, top\n",
        "xnew = np.linspace(0,14,200)\n",
        "ynew = res(xnew)\n",
        "plt.plot(xnew,ynew, label = 'Polinomio')\n",
        "plt.legend()\n",
        "plt.show()"
      ],
      "execution_count": 0,
      "outputs": [
        {
          "output_type": "display_data",
          "data": {
            "image/png": "[encoded data removed]",
            "text/plain": [
              "<Figure size 432x288 with 1 Axes>"
            ]
          },
          "metadata": {
            "tags": [],
            "needs_background": "light"
          }
        }
      ]
    },
    {
      "cell_type": "code",
      "metadata": {
        "id": "pb9u5QV_7UyG",
        "colab_type": "code",
        "colab": {}
      },
      "source": [
        "import sympy as sym\n",
        "def lagrange(xa,ya):\n",
        "    n = len(xa)\n",
        "    x = sym.Symbol('x')\n",
        "# Polinomio\n",
        "    polinomio = 0\n",
        "    for i in range(0,n,1):\n",
        "    # Termino de Lagrange\n",
        "        termino = 1\n",
        "        for j  in range(0,n,1):\n",
        "            if (j!=i):\n",
        "                termino = termino*(x-xa[j])/(xa[i]-xa[j])\n",
        "        polinomio = polinomio + termino*ya[i]\n",
        "    pxn = sym.lambdify(x,polinomio) #convertimos a función evaluable\n",
        "    return polinomio,pxn"
      ],
      "execution_count": 0,
      "outputs": []
    },
    {
      "cell_type": "code",
      "metadata": {
        "id": "vic8_4Yf7U5N",
        "colab_type": "code",
        "outputId": "b4fd7ac6-8036-4034-d414-b5de591d5e62",
        "colab": {
          "base_uri": "https://localhost:8080/",
          "height": 55
        }
      },
      "source": [
        "#  Datos de prueba\n",
        "xi = np.array([0.9,1.3,1.9,2.1,2.6,3.0,3.9,4.4,4.7,5.0,6.0,7.0,8.0,9.2,10.5,11.3,11.6,12.0,12.6,13.0,13.3])\n",
        "yi = np.array([1.3,1.5,1.85,2.1,2.6,2.7,2.4,2.15,2.05,2.1,2.25,2.3,2.25,1.95,1.4,0.9,0.7,0.6,0.5,0.4,0.25])\n",
        "poli,polifun =lagrange(xi,yi)\n",
        "px = poli.expand() #expandimos para evaluación numérica\n",
        "px\n"
      ],
      "execution_count": 0,
      "outputs": [
        {
          "output_type": "execute_result",
          "data": {
            "text/plain": [
              "-3.07453078010798e-11*x**20 + 4.27948927144623e-9*x**19 - 2.77283085046607e-7*x**18 + 1.11075895423636e-5*x**17 - 0.000308159189308451*x**16 + 0.00628589966751693*x**15 - 0.0976903800730415*x**14 + 1.18284031649908*x**13 - 11.3160515558669*x**12 + 86.2513979924895*x**11 - 525.812753506644*x**10 + 2564.20130819603*x**9 - 9968.97885733132*x**8 + 30677.6349740652*x**7 - 73866.565678464*x**6 + 136777.900226634*x**5 - 189850.972861717*x**4 + 189994.993238076*x**3 - 128683.405779065*x**2 + 52462.5803287042*x - 9652.78507912568"
            ]
          },
          "metadata": {
            "tags": []
          },
          "execution_count": 44
        }
      ]
    },
    {
      "cell_type": "code",
      "metadata": {
        "id": "HIpsiLTE7U8l",
        "colab_type": "code",
        "outputId": "7cffc396-8869-4b40-b65b-d61241cd6868",
        "colab": {
          "base_uri": "https://localhost:8080/",
          "height": 53
        }
      },
      "source": [
        "polifun(xi) # evaluanos con los datos para comprobar los valores del polinomio"
      ],
      "execution_count": 0,
      "outputs": [
        {
          "output_type": "execute_result",
          "data": {
            "text/plain": [
              "array([1.3 , 1.5 , 1.85, 2.1 , 2.6 , 2.7 , 2.4 , 2.15, 2.05, 2.1 , 2.25,\n",
              "       2.3 , 2.25, 1.95, 1.4 , 0.9 , 0.7 , 0.6 , 0.5 , 0.4 , 0.25])"
            ]
          },
          "metadata": {
            "tags": []
          },
          "execution_count": 7
        }
      ]
    },
    {
      "cell_type": "code",
      "metadata": {
        "id": "-RrDTNsR7prg",
        "colab_type": "code",
        "outputId": "2da7d194-f468-4b44-9c90-5cca83ece558",
        "colab": {
          "base_uri": "https://localhost:8080/",
          "height": 281
        }
      },
      "source": [
        "# Puntos para la gráfica\n",
        "a = np.min(xi)\n",
        "b = np.max(xi)\n",
        "muestras = 101\n",
        "xi_p = np.linspace(a,b,muestras)\n",
        "yi_p = polifun(xi_p)\n",
        "plt.grid(True)\n",
        "plt.title('Interpolación Lagrange')\n",
        "plt.plot(xi,yi,'o', label = 'Puntos')\n",
        "plt.plot(xi_p,yi_p, label = 'Polinomio')\n",
        "plt.legend(loc='upper center',fontsize=12)\n",
        "plt.show()"
      ],
      "execution_count": 0,
      "outputs": [
        {
          "output_type": "display_data",
          "data": {
            "image/png": "[encoded data removed]",
            "text/plain": [
              "<Figure size 432x288 with 1 Axes>"
            ]
          },
          "metadata": {
            "tags": [],
            "needs_background": "light"
          }
        }
      ]
    },
    {
      "cell_type": "code",
      "metadata": {
        "id": "eorqDf8V6M2E",
        "colab_type": "code",
        "colab": {}
      },
      "source": [
        "def newton_dif_div(x, y):\n",
        "    \"\"\"\n",
        "    Calcula los coeficientes de las diferencias divididas de Newton\n",
        "    y el polinomio correspondiente\n",
        "    Parametros:\n",
        "            x: Array con los valores x\n",
        "            y: Array con los valores y\n",
        "    Salida:\n",
        "            f: Array que contiene los coeficientes del polinomio\n",
        "            interpolante calculados mediante las diferencias divididas\n",
        "    \"\"\"\n",
        "\n",
        "    n = x.size\n",
        "    q = np.zeros((n, n - 1))\n",
        "    # Insert 'y' in the first column of the matrix 'q'\n",
        "    q = np.concatenate((y[:, None], q), axis=1)\n",
        "    \n",
        "\n",
        "    for i in range(1, n):\n",
        "        for j in range(1, i + 1):\n",
        "            q[i, j] = (q[i, j - 1] - q[i - 1, j - 1]) / (x[i] - x[i - j])\n",
        "\n",
        "    # Copy the diagonal values of the matrix q to the vector f\n",
        "    #print(\"Mariz de diferencias divididas\\n\")\n",
        "    #print(q,'\\n')\n",
        "    f = np.zeros(n)\n",
        "    for i in range(0, n):\n",
        "        f[i] = q[i, i]\n",
        "\n",
        "    # Prints the polynomial\n",
        "    #print(\"Vector de coeficientes\\n\")\n",
        "    #print(f,'\\n')\n",
        "    print(\"El polinomio es:\")\n",
        "    print(\"p(x)={:+.4f}\".format(f[0]), end=\"\")\n",
        "    for i in range(1, n):\n",
        "        print(\"{:+.4f}\".format(f[i]), end=\"\")\n",
        "        for j in range(0, i):\n",
        "            print(\"(x{:+.4f})\".format(x[j] * -1), end=\"\")\n",
        "    print(\"\")\n",
        "    return f"
      ],
      "execution_count": 0,
      "outputs": []
    },
    {
      "cell_type": "code",
      "metadata": {
        "id": "USfqJAtfQofC",
        "colab_type": "code",
        "colab": {}
      },
      "source": [
        "def evalPoly(a,xData,x):\n",
        "    n = len(xData) - 1  # grado de polinomio a evaluar\n",
        "    p = a[n]\n",
        "    for k in range(1,n+1):\n",
        "        p = a[n-k] + (x -xData[n-k])*p\n",
        "    return p"
      ],
      "execution_count": 0,
      "outputs": []
    },
    {
      "cell_type": "code",
      "metadata": {
        "id": "BYA4X7nNQ3Wq",
        "colab_type": "code",
        "outputId": "720ca713-e1aa-43e1-fcff-ef716bc1a402",
        "colab": {
          "base_uri": "https://localhost:8080/",
          "height": 73
        }
      },
      "source": [
        "xi = np.array([0.9,1.3,1.9,2.1,2.6,3.0,3.9,4.4,4.7,5.0,6.0,7.0,8.0,9.2,10.5,11.3,11.6,12.0,12.6,13.0,13.3])\n",
        "yi = np.array([1.3,1.5,1.85,2.1,2.6,2.7,2.4,2.15,2.05,2.1,2.25,2.3,2.25,1.95,1.4,0.9,0.7,0.6,0.5,0.4,0.25])\n",
        "c = newton_dif_div(xi,yi)"
      ],
      "execution_count": 0,
      "outputs": [
        {
          "output_type": "stream",
          "text": [
            "El polinomio es:\n",
            "p(x)=+1.3000+0.5000(x-0.9000)+0.0833(x-0.9000)(x-1.3000)+0.6250(x-0.9000)(x-1.3000)(x-1.9000)-0.9063(x-0.9000)(x-1.3000)(x-1.9000)(x-2.1000)+0.5668(x-0.9000)(x-1.3000)(x-1.9000)(x-2.1000)(x-2.6000)-0.1839(x-0.9000)(x-1.3000)(x-1.9000)(x-2.1000)(x-2.6000)(x-3.0000)+0.0387(x-0.9000)(x-1.3000)(x-1.9000)(x-2.1000)(x-2.6000)(x-3.0000)(x-3.9000)-0.0025(x-0.9000)(x-1.3000)(x-1.9000)(x-2.1000)(x-2.6000)(x-3.0000)(x-3.9000)(x-4.4000)-0.0019(x-0.9000)(x-1.3000)(x-1.9000)(x-2.1000)(x-2.6000)(x-3.0000)(x-3.9000)(x-4.4000)(x-4.7000)+0.0006(x-0.9000)(x-1.3000)(x-1.9000)(x-2.1000)(x-2.6000)(x-3.0000)(x-3.9000)(x-4.4000)(x-4.7000)(x-5.0000)-0.0000(x-0.9000)(x-1.3000)(x-1.9000)(x-2.1000)(x-2.6000)(x-3.0000)(x-3.9000)(x-4.4000)(x-4.7000)(x-5.0000)(x-6.0000)-0.0000(x-0.9000)(x-1.3000)(x-1.9000)(x-2.1000)(x-2.6000)(x-3.0000)(x-3.9000)(x-4.4000)(x-4.7000)(x-5.0000)(x-6.0000)(x-7.0000)+0.0000(x-0.9000)(x-1.3000)(x-1.9000)(x-2.1000)(x-2.6000)(x-3.0000)(x-3.9000)(x-4.4000)(x-4.7000)(x-5.0000)(x-6.0000)(x-7.0000)(x-8.0000)-0.0000(x-0.9000)(x-1.3000)(x-1.9000)(x-2.1000)(x-2.6000)(x-3.0000)(x-3.9000)(x-4.4000)(x-4.7000)(x-5.0000)(x-6.0000)(x-7.0000)(x-8.0000)(x-9.2000)+0.0000(x-0.9000)(x-1.3000)(x-1.9000)(x-2.1000)(x-2.6000)(x-3.0000)(x-3.9000)(x-4.4000)(x-4.7000)(x-5.0000)(x-6.0000)(x-7.0000)(x-8.0000)(x-9.2000)(x-10.5000)-0.0000(x-0.9000)(x-1.3000)(x-1.9000)(x-2.1000)(x-2.6000)(x-3.0000)(x-3.9000)(x-4.4000)(x-4.7000)(x-5.0000)(x-6.0000)(x-7.0000)(x-8.0000)(x-9.2000)(x-10.5000)(x-11.3000)+0.0000(x-0.9000)(x-1.3000)(x-1.9000)(x-2.1000)(x-2.6000)(x-3.0000)(x-3.9000)(x-4.4000)(x-4.7000)(x-5.0000)(x-6.0000)(x-7.0000)(x-8.0000)(x-9.2000)(x-10.5000)(x-11.3000)(x-11.6000)-0.0000(x-0.9000)(x-1.3000)(x-1.9000)(x-2.1000)(x-2.6000)(x-3.0000)(x-3.9000)(x-4.4000)(x-4.7000)(x-5.0000)(x-6.0000)(x-7.0000)(x-8.0000)(x-9.2000)(x-10.5000)(x-11.3000)(x-11.6000)(x-12.0000)+0.0000(x-0.9000)(x-1.3000)(x-1.9000)(x-2.1000)(x-2.6000)(x-3.0000)(x-3.9000)(x-4.4000)(x-4.7000)(x-5.0000)(x-6.0000)(x-7.0000)(x-8.0000)(x-9.2000)(x-10.5000)(x-11.3000)(x-11.6000)(x-12.0000)(x-12.6000)-0.0000(x-0.9000)(x-1.3000)(x-1.9000)(x-2.1000)(x-2.6000)(x-3.0000)(x-3.9000)(x-4.4000)(x-4.7000)(x-5.0000)(x-6.0000)(x-7.0000)(x-8.0000)(x-9.2000)(x-10.5000)(x-11.3000)(x-11.6000)(x-12.0000)(x-12.6000)(x-13.0000)\n"
          ],
          "name": "stdout"
        }
      ]
    },
    {
      "cell_type": "code",
      "metadata": {
        "id": "qqlEL-5scyBt",
        "colab_type": "code",
        "outputId": "236225da-5924-4397-a341-55b11b196510",
        "colab": {
          "base_uri": "https://localhost:8080/",
          "height": 281
        }
      },
      "source": [
        "# Puntos para la gráfica\n",
        "a = np.min(xi)\n",
        "b = np.max(xi)\n",
        "muestras = 101\n",
        "xi_p = np.linspace(a,b,muestras)\n",
        "yi_p = evalPoly(c,xi,xi_p)\n",
        "plt.grid(True)\n",
        "plt.title('Interpolación Newton')\n",
        "plt.plot(xi,yi,'o', label = 'Puntos')\n",
        "plt.plot(xi_p,yi_p, label = 'Polinomio')\n",
        "plt.legend(loc='upper center',fontsize=12)\n",
        "plt.show()"
      ],
      "execution_count": 0,
      "outputs": [
        {
          "output_type": "display_data",
          "data": {
            "image/png": "[encoded data removed]",
            "text/plain": [
              "<Figure size 432x288 with 1 Axes>"
            ]
          },
          "metadata": {
            "tags": [],
            "needs_background": "light"
          }
        }
      ]
    },
    {
      "cell_type": "code",
      "metadata": {
        "id": "yFJ0RQk2eX_g",
        "colab_type": "code",
        "colab": {}
      },
      "source": [
        "def SplineCubico(p,q):\n",
        "    \n",
        "    n = len(p)-1\n",
        "       \n",
        "    # Inicializar vectores auxiliares\n",
        "    A = q\n",
        "    X = p\n",
        "    \n",
        "    H =[0.0 for x\tin\trange(n)]\n",
        "    B =[0.0 for\tx\tin\trange(n+1)]\n",
        "    C =[0.0 for\tx\tin\trange(n+1)]\n",
        "    D =[0.0 for\tx\tin\trange(n+1)]\n",
        "    alpha = [0.0 for x in range(n)]\n",
        "    mu = [0.0 for x in range(n+1)]\n",
        "    l =[1.0\tfor\tx\tin\trange(n+1)]\n",
        "    z =[0.0\tfor\tx\tin\trange(n+1)]\n",
        "    # Crear vector H\n",
        "    for i in range(n):\n",
        "        H[i] = X [i+1] -X [i]\n",
        "    # Crear vector a\n",
        "    for i in range(1, n):\n",
        "        alpha [i] = (3.0/H [i])*(A [i+1]-A[i])-(3.0/H[i-1])*(A[i]-A[i-1])\n",
        "\n",
        "    # Solucionar sistema tridiagonal\n",
        "    for i in range(1, n) :\n",
        "        l[i] = 2.0*(X[i+1]-X[i-1] )-H[i-1] *mu[i-1]\n",
        "        mu[i] = float(H [i])/l[i]\n",
        "        z[i] = (alpha [i]-H [i-1] *z [i-1] )/float(l[i] )\n",
        "\n",
        "    # Solucionar sistema tridiagonal\n",
        "    for j in range(n-1, -1, -1):\n",
        "        C[j] = z [j] -mu[j] *C [j+1]\n",
        "        B [j] = (A [j + 1] - A [j] )/float (H [j] )-H [j] * (C [j + 1] +2*C [j] )/3.0\n",
        "        D[j] = (C[j+1] -C[j])/(3.0*H[j])\n",
        "\n",
        "    # Retornar vectores A, B, C, D\n",
        "    \n",
        "    x = sym.Symbol('x')\n",
        "    polinomio = []\n",
        "    \n",
        "    for j in range(0,n,1):  # construimos polinomio por tramos\n",
        "        ptramo = A[j]+ B[j]*(x-X[j])+ C[j]*(x-X[j])**2 + D[j]*(x-X[j])**3\n",
        "        ptramo = ptramo.expand()\n",
        "        polinomio.append(ptramo)\n",
        "        #print(ptramo)\n",
        "    \n",
        "    return polinomio"
      ],
      "execution_count": 0,
      "outputs": []
    },
    {
      "cell_type": "code",
      "metadata": {
        "id": "kEBgivB9ejpj",
        "colab_type": "code",
        "outputId": "5c5c332a-00d0-4f69-dfd4-4025904b4fa7",
        "colab": {
          "base_uri": "https://localhost:8080/",
          "height": 756
        }
      },
      "source": [
        "xi = np.array([0.9,1.3,1.9,2.1,2.6,3.0,3.9,4.4,4.7,5.0,6.0,7.0,8.0,9.2,10.5,11.3,11.6,12.0,12.6,13.0,13.3])\n",
        "fi = np.array([1.3,1.5,1.85,2.1,2.6,2.7,2.4,2.15,2.05,2.1,2.25,2.3,2.25,1.95,1.4,0.9,0.7,0.6,0.5,0.4,0.25])\n",
        "poli = SplineCubico(xi,fi)\n",
        "n = len(xi)\n",
        "# Obtiene los polinomios por tramos\n",
        "\n",
        "# SALIDA\n",
        "print('Polinomios por tramos: ')\n",
        "for tramo in range(1,n,1):\n",
        "    print(' x = ['+str(xi[tramo-1])+','+str(xi[tramo])+']')\n",
        "    print(str(poli[tramo-1]))"
      ],
      "execution_count": 0,
      "outputs": [
        {
          "output_type": "stream",
          "text": [
            "Polinomios por tramos: \n",
            " x = [0.9,1.3]\n",
            "-0.247649057851442*x**3 + 0.668652456198893*x**2 - 0.0621633613227736*x + 0.994874698843094\n",
            " x = [1.3,1.9]\n",
            "0.946912093052316*x**3 - 3.99013603232576*x**2 + 5.99426167375928*x - 1.62957614969246\n",
            " x = [1.9,2.1]\n",
            "-2.95638245731127*x**3 + 18.2586429047467*x**2 - 36.2784183066783*x + 25.1431211712513\n",
            " x = [2.1,2.6]\n",
            "-0.44663477948969*x**3 + 2.44723253447072*x**2 - 3.07445652909884*x + 1.90034792694571\n",
            " x = [2.6,3.0]\n",
            "0.445051100759695*x**3 - 4.50791733147448*x**2 + 15.0089331223587*x - 13.7719231043175\n",
            " x = [3.0,3.9]\n",
            "0.174159870143963*x**3 - 2.06989625593289*x**2 + 7.6948698957339*x - 6.4578598776927\n",
            " x = [3.9,4.4]\n",
            "0.0780756539915195*x**3 - 0.945710926949304*x**2 + 3.31054711269792*x - 0.75824025974592\n",
            " x = [4.4,4.7]\n",
            "1.31417128415048*x**3 - 17.2621732450475*x**2 + 75.1029813123302*x - 106.053810419207\n",
            " x = [4.7,5.0]\n",
            "-1.58121890345516*x**3 + 23.562828400192*x**2 - 116.774526420296*x + 194.554285028574\n",
            " x = [5.0,6.0]\n",
            "0.0431153291484715*x**3 - 0.802185088862538*x**2 + 5.050541024977*x - 8.48749404688052\n",
            " x = [6.0,7.0]\n",
            "-0.00466634247142877*x**3 + 0.0578850002956681*x**2 - 0.109879509972231*x + 1.83334702301795\n",
            " x = [7.0,8.0]\n",
            "-0.024449959262756*x**3 + 0.47334095291354*x**2 - 3.01807117829733*x + 8.61912758244319\n",
            " x = [8.0,9.2]\n",
            "0.0174706898617867*x**3 - 0.532754626075485*x**2 + 5.03069345361487*x - 12.8442447693227\n",
            " x = [9.2,10.5]\n",
            "-0.0127279082547453*x**3 + 0.300726681940798*x**2 - 2.63733458013494*x + 10.6710412008434\n",
            " x = [10.5,11.3]\n",
            "-0.0203252232779224*x**3 + 0.540042105170878*x**2 - 5.15014652405078*x + 19.4658830045488\n",
            " x = [11.3,11.6]\n",
            "1.21340500868025*x**3 - 41.2834127582111*x**2 + 467.454893432166*x - 1760.6797674972\n",
            " x = [11.6,12.0]\n",
            "-0.839274770344853*x**3 + 30.1498435518624*x**2 - 361.170879764687*x + 1443.33988886396\n",
            " x = [12.0,12.6]\n",
            "0.0363820850845954*x**3 - 1.37380324359773*x**2 + 17.1128817808346*x - 69.7951573181228\n",
            " x = [12.6,13.0]\n",
            "-0.447970970642826*x**3 + 16.9347422628988*x**2 - 213.574791601022*x + 899.093070885674\n",
            " x = [13.0,13.3]\n",
            "0.595695102412686*x**3 - 23.7682345862662*x**2 + 315.563907438123*x - 1393.84129161729\n"
          ],
          "name": "stdout"
        }
      ]
    },
    {
      "cell_type": "code",
      "metadata": {
        "id": "NHfc5Plw6xtl",
        "colab_type": "code",
        "outputId": "d7e961d2-e1d3-4483-de54-1db9703ab47c",
        "colab": {
          "base_uri": "https://localhost:8080/",
          "height": 173
        }
      },
      "source": [
        "# GRAFICA\n",
        "# Puntos para grafica en cada tramo\n",
        "xtrazado = np.array([])\n",
        "ytrazado = np.array([])\n",
        "resolucion = 10 # entre cada par de puntos\n",
        "tramo = 1\n",
        "while not(tramo>=n):\n",
        "    a = xi[tramo-1]\n",
        "    b = xi[tramo]\n",
        "    xtramo = np.linspace(a,b,resolucion)\n",
        "    \n",
        "    ptramo = poli[tramo-1]\n",
        "    pxtramo = sym.lambdify('x',ptramo)\n",
        "    ytramo = pxtramo(xtramo)\n",
        "    \n",
        "    xtrazado = np.concatenate((xtrazado,xtramo))\n",
        "    ytrazado = np.concatenate((ytrazado,ytramo))\n",
        "    tramo = tramo + 1\n",
        "\n",
        "# Gráfica\n",
        "\n",
        "plt.figure(figsize = (5.5,2) )\n",
        "bottom, top = -1,4  # return the current ylim\n",
        "plt.ylim((bottom, top))   # set the ylim to bottom, top\n",
        "xnew = np.linspace(0,14,200)\n",
        "\n",
        "\n",
        "\n",
        "plt.xticks(np.arange(0, 14, 1.0))\n",
        "plt.grid(True)\n",
        "\n",
        "plt.axhline(0, color='black')\n",
        "plt.axvline(0, color='black')\n",
        "plt.title('Trazador cúbico natural (splines)')\n",
        "plt.plot(xtrazado,ytrazado)\n",
        "plt.plot(xi,fi,'o')\n",
        "plt.show()"
      ],
      "execution_count": 0,
      "outputs": [
        {
          "output_type": "display_data",
          "data": {
            "image/png": "[encoded data removed]",
            "text/plain": [
              "<Figure size 396x144 with 1 Axes>"
            ]
          },
          "metadata": {
            "tags": [],
            "needs_background": "light"
          }
        }
      ]
    },
    {
      "cell_type": "markdown",
      "metadata": {
        "id": "Xfcz4yRTtkGM",
        "colab_type": "text"
      },
      "source": [
        "<img src=\"https://drive.google.com/uc?id=1FrgXHrGMRoo4U4zZyWwPAIWzoTzCT9c5\" alt=\"Lamp\" width=\"420\" height=\"320\">"
      ]
    },
    {
      "cell_type": "markdown",
      "metadata": {
        "id": "TWpHtTtp9Jcz",
        "colab_type": "text"
      },
      "source": [
        "## Ejercicios Interpolación"
      ]
    },
    {
      "cell_type": "markdown",
      "metadata": {
        "id": "mHd7d53i9Jc8",
        "colab_type": "text"
      },
      "source": [
        "### En todos los casos dibujar el poolinomio interpolante"
      ]
    },
    {
      "cell_type": "markdown",
      "metadata": {
        "id": "Pc42VdR9t9hN",
        "colab_type": "text"
      },
      "source": [
        "### 1.- La siguiente figura muestra un pato malvasia en vuelo. Para aproximar el perfil superior del pato hemos seleccionado puntos a lo largo de la curva por los cuales queremos que pase la curva de interpolación. La tabla a continuación enumera las coordenadas de 21 puntos de datos relativos al sistema de coordenadas superpuesto que se muestra en la figura. Observe que se usan más puntos cuando la curva cambia rápidamente que cuando lo hace más despacio."
      ]
    },
    {
      "cell_type": "markdown",
      "metadata": {
        "id": "eA9dSrz8uHlS",
        "colab_type": "text"
      },
      "source": [
        "<img src=\"https://drive.google.com/uc?id=1M-Md8b-oRVEBdQfwRY3vQYKDebQIhIMX\" alt=\"Lamp\" >"
      ]
    },
    {
      "cell_type": "markdown",
      "metadata": {
        "id": "ddbkT9_Hueud",
        "colab_type": "text"
      },
      "source": [
        "Obtener el polinomio interpolante del perfil superior del pato mediante:\n",
        "Vandermonde <br>\n",
        "Legendre <br>\n",
        "Newton <br>\n",
        "Splines cúbicos <br>\n",
        "\n",
        "Dibujar cada uno y ver si se aproxima o no a la figura."
      ]
    },
    {
      "cell_type": "markdown",
      "metadata": {
        "id": "CSlwBsVUuyOU",
        "colab_type": "text"
      },
      "source": [
        "### 2,. La siguiente tabla muestra el coeficiente de rozamiento de una esfera  cD  como una función del número de Reynolds Re. Encontrar un polinomio interpolador por los 4 métodos vistos en clase y decidir cuál proporciona los mejores resultados (mirar las gráficas). A partir de ahí encontrar  cD para Re = 5, 50, 500, y 5, 000.  (Es posible que sea conveniente utilizar una escala log-log.\n",
        "\n",
        "\n",
        "\n",
        "\n"
      ]
    },
    {
      "cell_type": "markdown",
      "metadata": {
        "id": "rUH5Vgs8xFXi",
        "colab_type": "text"
      },
      "source": [
        "Re\t0.2,\t 2,\t   20,\t200,\t  2000,\t  20000 <br>\n",
        "CD\t103,\t13.9,\t2.72,\t0.800,\t0.401,\t0.433"
      ]
    },
    {
      "cell_type": "markdown",
      "metadata": {
        "id": "X-ZFTwKw5V4C",
        "colab_type": "text"
      },
      "source": [
        "=> 5.0 &nbsp; &nbsp;&nbsp;&nbsp;&nbsp;&nbsp;&nbsp;6.90159241175<br>\n",
        "=> 50.0 &nbsp;&nbsp;&nbsp;&nbsp;&nbsp;&nbsp;1.59083540468 <br>\n",
        "=> 500.0 &nbsp;&nbsp;&nbsp;&nbsp;0.557433520352 <br>\n",
        "=> 5000.0 &nbsp;&nbsp;0.38682177204"
      ]
    },
    {
      "cell_type": "code",
      "metadata": {
        "id": "EtZEnTC2wQMZ",
        "colab_type": "code",
        "colab": {}
      },
      "source": [
        "xi = np.log10(np.array([0.2, 2, 20, 200, 2000, 20000 ]))\n",
        "fi = np.log10(([103, 13.9, 2.72, 0.800, 0.401, 0.433]))\n"
      ],
      "execution_count": 0,
      "outputs": []
    },
    {
      "cell_type": "code",
      "metadata": {
        "id": "WLIB8i2CwQCA",
        "colab_type": "code",
        "outputId": "fc680a06-4439-4f54-8379-af4439dfe73f",
        "colab": {
          "base_uri": "https://localhost:8080/",
          "height": 215
        }
      },
      "source": [
        "poli = SplineCubico(xi,fi)\n",
        "n = len(xi)\n",
        "# Obtiene los polinomios por tramos\n",
        "\n",
        "# SALIDA\n",
        "print('Polinomios por tramos: ')\n",
        "for tramo in range(1,n,1):\n",
        "    print(' x = ['+str(xi[tramo-1])+','+str(xi[tramo])+']')\n",
        "    print(str(poli[tramo-1]))"
      ],
      "execution_count": 0,
      "outputs": [
        {
          "output_type": "stream",
          "text": [
            "Polinomios por tramos: \n",
            " x = [-0.6989700043360187,0.3010299956639812]\n",
            "0.0333752390710933*x**3 + 0.0699848729947133*x**2 - 0.8542803365416*x + 1.3929263980007\n",
            " x = [0.3010299956639812,1.3010299956639813]\n",
            "-0.00549966712428641*x**3 + 0.105092411525012*x**2 - 0.864848758713148*x + 1.3939868686942\n",
            " x = [1.3010299956639813,2.3010299956639813]\n",
            "0.00421388037251329*x**3 + 0.0671795615520823*x**2 - 0.815523003677259*x + 1.37259543974071\n",
            " x = [2.3010299956639813,3.3010299956639813]\n",
            "0.0432104691270858*x**3 - 0.20201739980645*x**2 - 0.196092720849678*x + 0.897486219404412\n",
            " x = [3.3010299956639813,4.301029995663981]\n",
            "-0.075299921446406*x**3 + 0.971601662436402*x**2 - 4.07024444879636*x + 5.1603832399729\n"
          ],
          "name": "stdout"
        }
      ]
    },
    {
      "cell_type": "code",
      "metadata": {
        "id": "IeR2_cClwR49",
        "colab_type": "code",
        "outputId": "2eb6e695-5cd8-4b78-de48-521022a77716",
        "colab": {
          "base_uri": "https://localhost:8080/",
          "height": 173
        }
      },
      "source": [
        "# GRAFICA\n",
        "# Puntos para grafica en cada tramo\n",
        "xtrazado = np.array([])\n",
        "ytrazado = np.array([])\n",
        "resolucion = 10 # entre cada par de puntos\n",
        "tramo = 1\n",
        "while not(tramo>=n):\n",
        "    a = xi[tramo-1]\n",
        "    b = xi[tramo]\n",
        "    xtramo = np.linspace(a,b,resolucion)\n",
        "    \n",
        "    ptramo = poli[tramo-1]\n",
        "    pxtramo = sym.lambdify('x',ptramo)\n",
        "    ytramo = pxtramo(xtramo)\n",
        "    \n",
        "    xtrazado = np.concatenate((xtrazado,xtramo))\n",
        "    ytrazado = np.concatenate((ytrazado,ytramo))\n",
        "    tramo = tramo + 1\n",
        "\n",
        "# Gráfica\n",
        "\n",
        "plt.figure(figsize = (5.5,2) )\n",
        "bottom, top = -1,4  # return the current ylim\n",
        "plt.ylim((bottom, top))   # set the ylim to bottom, top\n",
        "xnew = np.linspace(0,14,200)\n",
        "\n",
        "\n",
        "\n",
        "plt.xticks(np.arange(0, 14, 1.0))\n",
        "plt.grid(True)\n",
        "\n",
        "plt.axhline(0, color='black')\n",
        "plt.axvline(0, color='black')\n",
        "plt.title('Trazador cúbico natural (splines)')\n",
        "plt.plot(xtrazado,ytrazado)\n",
        "plt.plot(xi,fi,'o')\n",
        "plt.show()"
      ],
      "execution_count": 0,
      "outputs": [
        {
          "output_type": "display_data",
          "data": {
            "image/png": "[encoded data removed]",
            "text/plain": [
              "<Figure size 396x144 with 1 Axes>"
            ]
          },
          "metadata": {
            "tags": [],
            "needs_background": "light"
          }
        }
      ]
    },
    {
      "cell_type": "code",
      "metadata": {
        "id": "2Fdcps3hwQPo",
        "colab_type": "code",
        "colab": {}
      },
      "source": [
        ""
      ],
      "execution_count": 0,
      "outputs": []
    },
    {
      "cell_type": "code",
      "metadata": {
        "id": "hWA_VpLmwQTh",
        "colab_type": "code",
        "colab": {}
      },
      "source": [
        ""
      ],
      "execution_count": 0,
      "outputs": []
    },
    {
      "cell_type": "code",
      "metadata": {
        "id": "mTeHyVp95_b3",
        "colab_type": "code",
        "outputId": "67150bbd-0b44-41da-ed3d-0d99f6da7d37",
        "colab": {
          "base_uri": "https://localhost:8080/",
          "height": 109
        }
      },
      "source": [
        "xa = np.log10(np.array([0.2, 2, 20, 200, 2000, 20000 ]))\n",
        "ya = np.log10(([103, 13.9, 2.72, 0.800, 0.401, 0.433]))\n",
        "print(xa)\n",
        "print(ya)\n",
        "c = newton_dif_div(xa,ya)"
      ],
      "execution_count": 0,
      "outputs": [
        {
          "output_type": "stream",
          "text": [
            "[-0.69897  0.30103  1.30103  2.30103  3.30103  4.30103]\n",
            "[ 2.01283722  1.1430148   0.4345689  -0.09691001 -0.39685563 -0.3635121 ]\n",
            "El polinomio es:\n",
            "p(x)=+2.0128-0.8698(x+0.6990)+0.0807(x+0.6990)(x-0.3010)+0.0026(x+0.6990)(x-0.3010)(x-1.3010)+0.0016(x+0.6990)(x-0.3010)(x-1.3010)(x-2.3010)+0.0001(x+0.6990)(x-0.3010)(x-1.3010)(x-2.3010)(x-3.3010)\n"
          ],
          "name": "stdout"
        }
      ]
    },
    {
      "cell_type": "code",
      "metadata": {
        "id": "tFH_bfJV94zy",
        "colab_type": "code",
        "outputId": "a5c4d3fb-a9aa-4c69-87a9-35a700ce0acb",
        "colab": {
          "base_uri": "https://localhost:8080/",
          "height": 53
        }
      },
      "source": [
        "yi_p = evalPoly(c,xa,xa)\n",
        "yi_p"
      ],
      "execution_count": 0,
      "outputs": [
        {
          "output_type": "execute_result",
          "data": {
            "text/plain": [
              "array([ 2.01283722,  1.1430148 ,  0.4345689 , -0.09691001, -0.39685563,\n",
              "       -0.3635121 ])"
            ]
          },
          "metadata": {
            "tags": []
          },
          "execution_count": 17
        }
      ]
    },
    {
      "cell_type": "code",
      "metadata": {
        "id": "BfU-5jKA-Q1K",
        "colab_type": "code",
        "outputId": "a14af16b-7fc8-4674-cbcd-d8721f0751db",
        "colab": {
          "base_uri": "https://localhost:8080/",
          "height": 467
        }
      },
      "source": [
        "xi_p = np.linspace(-1,5,100)\n",
        "yi_p = evalPoly(c,xa,xi_p)\n",
        "yi_p"
      ],
      "execution_count": 0,
      "outputs": [
        {
          "output_type": "execute_result",
          "data": {
            "text/plain": [
              "array([ 2.30789507e+00,  2.24717840e+00,  2.18713081e+00,  2.12774496e+00,\n",
              "        2.06901377e+00,  2.01093045e+00,  1.95348853e+00,  1.89668182e+00,\n",
              "        1.84050445e+00,  1.78495088e+00,  1.73001587e+00,  1.67569453e+00,\n",
              "        1.62198231e+00,  1.56887498e+00,  1.51636869e+00,  1.46445994e+00,\n",
              "        1.41314558e+00,  1.36242285e+00,  1.31228937e+00,  1.26274312e+00,\n",
              "        1.21378250e+00,  1.16540630e+00,  1.11761370e+00,  1.07040432e+00,\n",
              "        1.02377816e+00,  9.77735687e-01,  9.32277775e-01,  8.87405743e-01,\n",
              "        8.43121354e-01,  7.99426826e-01,  7.56324834e-01,  7.13818519e-01,\n",
              "        6.71911494e-01,  6.30607851e-01,  5.89912169e-01,  5.49829519e-01,\n",
              "        5.10365469e-01,  4.71526097e-01,  4.33317989e-01,  3.95748255e-01,\n",
              "        3.58824528e-01,  3.22554974e-01,  2.86948299e-01,  2.52013757e-01,\n",
              "        2.17761152e-01,  1.84200849e-01,  1.51343779e-01,  1.19201447e-01,\n",
              "        8.77859367e-02,  5.71099191e-02,  2.71866580e-02, -1.96998285e-03,\n",
              "       -3.03455329e-02, -5.79249082e-02, -8.46924048e-02, -1.10631692e-01,\n",
              "       -1.35725805e-01, -1.59957140e-01, -1.83307445e-01, -2.05757815e-01,\n",
              "       -2.27288685e-01, -2.47879821e-01, -2.67510317e-01, -2.86158586e-01,\n",
              "       -3.03802354e-01, -3.20418652e-01, -3.35983812e-01, -3.50473457e-01,\n",
              "       -3.63862496e-01, -3.76125119e-01, -3.87234786e-01, -3.97164224e-01,\n",
              "       -4.05885420e-01, -4.13369610e-01, -4.19587280e-01, -4.24508151e-01,\n",
              "       -4.28101179e-01, -4.30334543e-01, -4.31175643e-01, -4.30591090e-01,\n",
              "       -4.28546698e-01, -4.25007485e-01, -4.19937655e-01, -4.13300602e-01,\n",
              "       -4.05058894e-01, -3.95174274e-01, -3.83607649e-01, -3.70319085e-01,\n",
              "       -3.55267796e-01, -3.38412147e-01, -3.19709635e-01, -2.99116893e-01,\n",
              "       -2.76589675e-01, -2.52082856e-01, -2.25550421e-01, -1.96945459e-01,\n",
              "       -1.66220158e-01, -1.33325797e-01, -9.82127376e-02, -6.08304212e-02])"
            ]
          },
          "metadata": {
            "tags": []
          },
          "execution_count": 18
        }
      ]
    },
    {
      "cell_type": "code",
      "metadata": {
        "id": "Xz1j41o66njY",
        "colab_type": "code",
        "outputId": "04c8926a-27bd-4085-bdf5-941fc5819998",
        "colab": {
          "base_uri": "https://localhost:8080/",
          "height": 281
        }
      },
      "source": [
        "# Puntos para la gráfica\n",
        "a = np.min(xa)\n",
        "b = np.max(xa)\n",
        "muestras = 101\n",
        "xi_p = np.linspace(-1,10,100)\n",
        "yi_p = evalPoly(c,xa,xi_p)\n",
        "plt.grid(True)\n",
        "plt.title('Interpolación Newton')\n",
        "plt.plot(xa,ya,'o', label = 'Puntos')\n",
        "plt.plot(xi_p,yi_p, label = 'Polinomio')\n",
        "plt.legend(loc='upper center',fontsize=12)\n",
        "plt.show()"
      ],
      "execution_count": 0,
      "outputs": [
        {
          "output_type": "display_data",
          "data": {
            "image/png": "[encoded data removed]",
            "text/plain": [
              "<Figure size 432x288 with 1 Axes>"
            ]
          },
          "metadata": {
            "tags": [],
            "needs_background": "light"
          }
        }
      ]
    },
    {
      "cell_type": "code",
      "metadata": {
        "id": "aCSfwCkn62rq",
        "colab_type": "code",
        "outputId": "6f6e3d83-a382-47cd-8b38-e3b294124308",
        "colab": {
          "base_uri": "https://localhost:8080/",
          "height": 35
        }
      },
      "source": [
        "val1 = evalPoly(c,xa,np.log10(5))\n",
        "val1 = 10**val1\n",
        "val1"
      ],
      "execution_count": 0,
      "outputs": [
        {
          "output_type": "execute_result",
          "data": {
            "text/plain": [
              "6.944960610846618"
            ]
          },
          "metadata": {
            "tags": []
          },
          "execution_count": 20
        }
      ]
    },
    {
      "cell_type": "code",
      "metadata": {
        "id": "ph56gF0B8FNz",
        "colab_type": "code",
        "outputId": "c4454866-fa3d-4301-a86c-bcfe043666b0",
        "colab": {
          "base_uri": "https://localhost:8080/",
          "height": 35
        }
      },
      "source": [
        "val2 = evalPoly(c,xa,np.log10(50))\n",
        "val2 = 10**val2\n",
        "val2"
      ],
      "execution_count": 0,
      "outputs": [
        {
          "output_type": "execute_result",
          "data": {
            "text/plain": [
              "1.584114238092433"
            ]
          },
          "metadata": {
            "tags": []
          },
          "execution_count": 21
        }
      ]
    },
    {
      "cell_type": "code",
      "metadata": {
        "id": "7p3CBW9B8PeX",
        "colab_type": "code",
        "outputId": "cb667df6-7aac-4162-ab6c-31bda65a7222",
        "colab": {
          "base_uri": "https://localhost:8080/",
          "height": 35
        }
      },
      "source": [
        "val3 = evalPoly(c,xa,np.log10(500))\n",
        "val3 = 10**val3\n",
        "val3"
      ],
      "execution_count": 0,
      "outputs": [
        {
          "output_type": "execute_result",
          "data": {
            "text/plain": [
              "0.5642308485530074"
            ]
          },
          "metadata": {
            "tags": []
          },
          "execution_count": 22
        }
      ]
    },
    {
      "cell_type": "code",
      "metadata": {
        "id": "DHsEIlgU8Z-J",
        "colab_type": "code",
        "outputId": "a1ab76ac-59f7-4422-f937-d107469aa205",
        "colab": {
          "base_uri": "https://localhost:8080/",
          "height": 35
        }
      },
      "source": [
        "val4 = evalPoly(c,xa,np.log10(5000))\n",
        "val4 = 10**val4\n",
        "val4"
      ],
      "execution_count": 0,
      "outputs": [
        {
          "output_type": "execute_result",
          "data": {
            "text/plain": [
              "0.3707163720851982"
            ]
          },
          "metadata": {
            "tags": []
          },
          "execution_count": 23
        }
      ]
    },
    {
      "cell_type": "markdown",
      "metadata": {
        "id": "pcYdBFhK6Ir3",
        "colab_type": "text"
      },
      "source": [
        "### 3.- La concentración atmosférica media estimada de dióxido de carbono en la atmósfera de la tierra se da en la tabla siguiente, en partes por millón por volumen. Encontrar un  polinomio cúbico por Newton y tilizarlo para estimar la concentración de CO2 en (a) 1950 y (b) 2050. (La concentración real en 1950 fue de 310 ppm). Repetir lo mismo pero con splines cúbicos.\n",
        "\n",
        "\n"
      ]
    },
    {
      "cell_type": "markdown",
      "metadata": {
        "id": "gDwWjonleDHm",
        "colab_type": "text"
      },
      "source": [
        ""
      ]
    },
    {
      "cell_type": "code",
      "metadata": {
        "id": "skJv98458ZS_",
        "colab_type": "code",
        "colab": {}
      },
      "source": [
        ""
      ],
      "execution_count": 0,
      "outputs": []
    },
    {
      "cell_type": "markdown",
      "metadata": {
        "id": "0-T3k4Ta6yl-",
        "colab_type": "text"
      },
      "source": [
        "año \t C02 (ppm)<br>\n",
        "1800 &nbsp;&nbsp;280<br>\n",
        "1850\t  &nbsp;&nbsp;283<br>\n",
        "1900\t  &nbsp;&nbsp;291<br>\n",
        "2000  \t&nbsp;&nbsp;370<br>"
      ]
    },
    {
      "cell_type": "code",
      "metadata": {
        "id": "Et5UIhtIdlbO",
        "colab_type": "code",
        "outputId": "97153116-9f5b-4ba5-dc2e-450fd408b9cc",
        "colab": {
          "base_uri": "https://localhost:8080/",
          "height": 53
        }
      },
      "source": [
        "xi = np.array([1800,1850,1900,2000])\n",
        "yi = np.array([280,273,291,370])\n",
        "c = newton_dif_div(xi,yi)"
      ],
      "execution_count": 0,
      "outputs": [
        {
          "output_type": "stream",
          "text": [
            "El polinomio es:\n",
            "p(x)=+280.0000-0.1400(x-1800.0000)+0.0050(x-1800.0000)(x-1850.0000)-0.0000(x-1800.0000)(x-1850.0000)(x-1900.0000)\n"
          ],
          "name": "stdout"
        }
      ]
    },
    {
      "cell_type": "code",
      "metadata": {
        "id": "I9_F2m6YeB2G",
        "colab_type": "code",
        "outputId": "1878eb5f-25f9-40ae-858b-e15795fadb24",
        "colab": {
          "base_uri": "https://localhost:8080/",
          "height": 35
        }
      },
      "source": [
        "yi_p = evalPoly(c,xi,1950)\n",
        "yi_p"
      ],
      "execution_count": 0,
      "outputs": [
        {
          "output_type": "execute_result",
          "data": {
            "text/plain": [
              "326.0"
            ]
          },
          "metadata": {
            "tags": []
          },
          "execution_count": 26
        }
      ]
    },
    {
      "cell_type": "code",
      "metadata": {
        "id": "_eZasdgPe-Fo",
        "colab_type": "code",
        "outputId": "97bec55c-e6f3-4014-99a1-ab703e195074",
        "colab": {
          "base_uri": "https://localhost:8080/",
          "height": 143
        }
      },
      "source": [
        "poli = SplineCubico(xi,yi)\n",
        "n = len(xi)\n",
        "# Obtiene los polinomios por tramos\n",
        "\n",
        "# SALIDA\n",
        "print('Polinomios por tramos: ')\n",
        "for tramo in range(1,n,1):\n",
        "    print(' x = ['+str(xi[tramo-1])+','+str(xi[tramo])+']')\n",
        "    print(str(poli[tramo-1]))"
      ],
      "execution_count": 0,
      "outputs": [
        {
          "output_type": "stream",
          "text": [
            "Polinomios por tramos: \n",
            " x = [1800,1850]\n",
            "4.4695652173913e-5*x**3 - 0.24135652173913*x**2 + 434.19*x - 259931.913043478\n",
            " x = [1850,1900]\n",
            "-2.34782608695652e-5*x**3 + 0.137008695652174*x**2 - 265.785652173913*x + 171719.739130435\n",
            " x = [1900,2000]\n",
            "-1.06086956521739e-5*x**3 + 0.0636521739130435*x**2 - 126.408260869565*x + 83447.3913043478\n"
          ],
          "name": "stdout"
        }
      ]
    },
    {
      "cell_type": "code",
      "metadata": {
        "id": "rfkoIFJafHbh",
        "colab_type": "code",
        "outputId": "4f7bdde3-2be4-4456-bb57-c4e86a510f8e",
        "colab": {
          "base_uri": "https://localhost:8080/",
          "height": 35
        }
      },
      "source": [
        "print(poli[0])"
      ],
      "execution_count": 0,
      "outputs": [
        {
          "output_type": "stream",
          "text": [
            "4.4695652173913e-5*x**3 - 0.24135652173913*x**2 + 434.19*x - 259931.913043478\n"
          ],
          "name": "stdout"
        }
      ]
    },
    {
      "cell_type": "code",
      "metadata": {
        "id": "pIhhphOszN3U",
        "colab_type": "code",
        "colab": {}
      },
      "source": [
        "f = lambda x: -1.06086956521739e-5*x**3 + 0.0636521739130435*x**2 - 126.408260869565*x + 83447.3913043478"
      ],
      "execution_count": 0,
      "outputs": []
    },
    {
      "cell_type": "code",
      "metadata": {
        "id": "F6MSYv1ijHRb",
        "colab_type": "code",
        "colab": {}
      },
      "source": [
        "f = sym.lambdify('x',poli[2])"
      ],
      "execution_count": 0,
      "outputs": []
    },
    {
      "cell_type": "code",
      "metadata": {
        "id": "6DB9OYqale_c",
        "colab_type": "code",
        "outputId": "80e9f3f2-f036-4caa-913e-01c33b0977a4",
        "colab": {
          "base_uri": "https://localhost:8080/",
          "height": 35
        }
      },
      "source": [
        "f(1950)"
      ],
      "execution_count": 0,
      "outputs": [
        {
          "output_type": "execute_result",
          "data": {
            "text/plain": [
              "326.5217391309561"
            ]
          },
          "metadata": {
            "tags": []
          },
          "execution_count": 33
        }
      ]
    },
    {
      "cell_type": "code",
      "metadata": {
        "id": "q8NX-Me7loUb",
        "colab_type": "code",
        "outputId": "a3b1fec0-c4dd-49f7-de12-57c4202bc301",
        "colab": {
          "base_uri": "https://localhost:8080/",
          "height": 35
        }
      },
      "source": [
        "f(2050)"
      ],
      "execution_count": 0,
      "outputs": [
        {
          "output_type": "execute_result",
          "data": {
            "text/plain": [
              "413.4782608701498"
            ]
          },
          "metadata": {
            "tags": []
          },
          "execution_count": 34
        }
      ]
    }
  ]
}