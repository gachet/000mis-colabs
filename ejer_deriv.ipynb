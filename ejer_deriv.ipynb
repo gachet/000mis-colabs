{
  "nbformat": 4,
  "nbformat_minor": 0,
  "metadata": {
    "kernelspec": {
      "display_name": "Python 3",
      "language": "python",
      "name": "python3"
    },
    "language_info": {
      "codemirror_mode": {
        "name": "ipython",
        "version": 3
      },
      "file_extension": ".py",
      "mimetype": "text/x-python",
      "name": "python",
      "nbconvert_exporter": "python",
      "pygments_lexer": "ipython3",
      "version": "3.6.5"
    },
    "colab": {
      "name": "ejer-deriv.ipynb",
      "provenance": [],
      "collapsed_sections": [],
      "include_colab_link": true
    }
  },
  "cells": [
    {
      "cell_type": "markdown",
      "metadata": {
        "id": "view-in-github",
        "colab_type": "text"
      },
      "source": [
        "<a href=\"https://colab.research.google.com/github/gachet/mis-colabs/blob/master/ejer_deriv.ipynb\" target=\"_parent\"><img src=\"https://colab.research.google.com/assets/colab-badge.svg\" alt=\"Open In Colab\"/></a>"
      ]
    },
    {
      "cell_type": "markdown",
      "metadata": {
        "id": "ebm-nQ0aZ6Bv",
        "colab_type": "text"
      },
      "source": [
        "# Ejercicios derivación numérica "
      ]
    },
    {
      "cell_type": "code",
      "metadata": {
        "id": "D3hC6W8_Z6B0",
        "colab_type": "code",
        "colab": {}
      },
      "source": [
        ""
      ],
      "execution_count": 0,
      "outputs": []
    },
    {
      "cell_type": "markdown",
      "metadata": {
        "id": "aJIaon5SZ6CX",
        "colab_type": "text"
      },
      "source": [
        "### 1.- Escribir en python una función  de nombre \"derivada\" que acepte como entrada los siguientes parámetros:<br>\n",
        "\n",
        "- f : función\n",
        "        función vectorizada de una variable\n",
        "- a : número\n",
        "            Sirve para calcular la derivada en x = a\n",
        "- metodo : string\n",
        "        Nombre de la fórmula de diferenciación: 'adelante', 'atras' o 'central'\n",
        "- h : número\n",
        "        Tamaño del paso para la fórmuula de diferenciación\n",
        "      \n"
      ]
    },
    {
      "cell_type": "markdown",
      "metadata": {
        "id": "yylH9yO2Z6Cf",
        "colab_type": "text"
      },
      "source": [
        "### Retorna\n",
        "   \n",
        "- float, que es el valor de la derivada de f en el punto a de acuerdo al método escogido\n",
        "- los valores por defecto de 'método´y 'h' son \"central\" y 0.01"
      ]
    },
    {
      "cell_type": "code",
      "metadata": {
        "id": "sqfa0K1-buil",
        "colab_type": "code",
        "cellView": "both",
        "colab": {}
      },
      "source": [
        "#@title\n",
        "import numpy as np\n",
        "import matplotlib.pyplot as plt\n",
        "%matplotlib inline"
      ],
      "execution_count": 0,
      "outputs": []
    },
    {
      "cell_type": "markdown",
      "metadata": {
        "id": "eSDdf7D0LoLG",
        "colab_type": "text"
      },
      "source": [
        ""
      ]
    },
    {
      "cell_type": "code",
      "metadata": {
        "id": "MxcH_jwdbv9c",
        "colab_type": "code",
        "cellView": "both",
        "colab": {}
      },
      "source": [
        "#@title\n",
        "def derivada(f,a,metodo='central',h=0.01):\n",
        "    \n",
        "    if metodo == 'central':\n",
        "        return (f(a + h) - f(a - h))/(2*h)\n",
        "    elif metodo == 'adelante':\n",
        "        return (f(a + h) - f(a))/h\n",
        "    elif metodo == 'atras':\n",
        "        return (f(a) - f(a - h))/h\n",
        "    else:\n",
        "        raise ValueError(\"Método debe ser 'central', 'adelante' o 'atras'.\")"
      ],
      "execution_count": 0,
      "outputs": []
    },
    {
      "cell_type": "code",
      "metadata": {
        "id": "hUvRDmG4buxL",
        "colab_type": "code",
        "colab": {}
      },
      "source": [
        ""
      ],
      "execution_count": 0,
      "outputs": []
    },
    {
      "cell_type": "code",
      "metadata": {
        "id": "uIlSpGcma-ur",
        "colab_type": "code",
        "colab": {}
      },
      "source": [
        "f = lambda x : np.cos(x)"
      ],
      "execution_count": 0,
      "outputs": []
    },
    {
      "cell_type": "code",
      "metadata": {
        "id": "HOqlljvwbHtN",
        "colab_type": "code",
        "outputId": "864169b6-c76a-4e29-feab-537aea639532",
        "colab": {
          "base_uri": "https://localhost:8080/",
          "height": 34
        }
      },
      "source": [
        "derivada (f,0.1)"
      ],
      "execution_count": 0,
      "outputs": [
        {
          "output_type": "execute_result",
          "data": {
            "image/png": "[encoded data removed]",
            "text/latex": "$$-0.09983175276487288$$",
            "text/plain": [
              "-0.09983175276487288"
            ]
          },
          "metadata": {
            "tags": []
          },
          "execution_count": 68
        }
      ]
    },
    {
      "cell_type": "code",
      "metadata": {
        "id": "eCK1PdNYeNHv",
        "colab_type": "code",
        "outputId": "ef5f4537-74b5-4449-b6ab-458e2b389450",
        "colab": {
          "base_uri": "https://localhost:8080/",
          "height": 34
        }
      },
      "source": [
        "derivada (f,np.pi/2,'adelante')"
      ],
      "execution_count": 0,
      "outputs": [
        {
          "output_type": "execute_result",
          "data": {
            "image/png": "[encoded data removed]",
            "text/latex": "$$-0.9999833334166673$$",
            "text/plain": [
              "-0.9999833334166673"
            ]
          },
          "metadata": {
            "tags": []
          },
          "execution_count": 43
        }
      ]
    },
    {
      "cell_type": "code",
      "metadata": {
        "id": "Omjjj1JGfUrz",
        "colab_type": "code",
        "outputId": "1e56ffdf-86db-4ae0-9221-9a2cda94f412",
        "colab": {
          "base_uri": "https://localhost:8080/",
          "height": 34
        }
      },
      "source": [
        "derivada (f,np.pi/2,'atras')"
      ],
      "execution_count": 0,
      "outputs": [
        {
          "output_type": "execute_result",
          "data": {
            "image/png": "[encoded data removed]",
            "text/latex": "$$-0.9999833334166675$$",
            "text/plain": [
              "-0.9999833334166675"
            ]
          },
          "metadata": {
            "tags": []
          },
          "execution_count": 44
        }
      ]
    },
    {
      "cell_type": "markdown",
      "metadata": {
        "id": "k0cSdo0JZ6Ci",
        "colab_type": "text"
      },
      "source": [
        "### 2.- Utilizar la función anterior para dibujar la función \n",
        "$$y=\\left(\\frac{4x^2+2x+1}{x+2e^x}\\right)^x$$\n",
        "### Y su derivada en un rago [0,6] con 100 puntos"
      ]
    },
    {
      "cell_type": "code",
      "metadata": {
        "id": "JsvQMjW2fLjG",
        "colab_type": "code",
        "colab": {}
      },
      "source": [
        "f = lambda x: ((4*x**2 + 2*x + 1)/(x + 2*np.exp(x)))**x\n"
      ],
      "execution_count": 0,
      "outputs": []
    },
    {
      "cell_type": "code",
      "metadata": {
        "id": "CfTChVB4xi6J",
        "colab_type": "code",
        "colab": {}
      },
      "source": [
        "def f1(x) :\n",
        "  return((4*x**2 + 2*x + 1)/(x + 2*np.exp(x)))**x\n",
        "  "
      ],
      "execution_count": 0,
      "outputs": []
    },
    {
      "cell_type": "code",
      "metadata": {
        "id": "M8kpqM8rfjfH",
        "colab_type": "code",
        "outputId": "e6a528dc-8b39-49a2-8584-d74c40db0ebf",
        "colab": {
          "base_uri": "https://localhost:8080/",
          "height": 34
        }
      },
      "source": [
        "derivada(f1,0)"
      ],
      "execution_count": 0,
      "outputs": [
        {
          "output_type": "execute_result",
          "data": {
            "image/png": "[encoded data removed]",
            "text/latex": "$$-0.6929247846307274$$",
            "text/plain": [
              "-0.6929247846307274"
            ]
          },
          "metadata": {
            "tags": []
          },
          "execution_count": 47
        }
      ]
    },
    {
      "cell_type": "code",
      "metadata": {
        "id": "EstqcDAueyyu",
        "colab_type": "code",
        "outputId": "b4cf8d20-e00a-4cca-d0a4-47775907482b",
        "cellView": "both",
        "colab": {
          "base_uri": "https://localhost:8080/",
          "height": 320
        }
      },
      "source": [
        "#@title\n",
        "x = np.linspace(0,6,100)\n",
        "#f = lambda x: ((4*x**2 + 2*x + 1)/(x + 2*np.exp(x)))**x\n",
        "y = f1(x)\n",
        "dydx = derivada(f1,x)\n",
        "\n",
        "plt.figure(figsize=(12,5))\n",
        "plt.plot(x,y,label='y=f(x)')\n",
        "plt.plot(x,dydx,label=\"Diferencia centrada y=f'(x)\")\n",
        "plt.legend()\n",
        "plt.grid(True)\n",
        "\n",
        "plt.show()"
      ],
      "execution_count": 0,
      "outputs": [
        {
          "output_type": "display_data",
          "data": {
            "image/png": "[encoded data removed]",
            "text/plain": [
              "<Figure size 864x360 with 1 Axes>"
            ]
          },
          "metadata": {
            "tags": [],
            "needs_background": "light"
          }
        }
      ]
    },
    {
      "cell_type": "markdown",
      "metadata": {
        "id": "lG89bNMxZ6Cm",
        "colab_type": "text"
      },
      "source": [
        "### 3.- Utilice las fórmulas de diferencias hacia adelante y de diferencias hacia atrás para determinar todas las entradas faltantes en la siguiente tabla.\n",
        "$$\n",
        "\\begin{matrix}\n",
        "x & f(x) &f'(x) \\\\ \\hline\n",
        "0.5| & 0.4794 & \\\\ \n",
        "0.6 & 0.5646 & \\\\ \n",
        "0.7 & 0.6442 & \n",
        "\\end{matrix}\n",
        "$$"
      ]
    },
    {
      "cell_type": "code",
      "metadata": {
        "id": "xxR-q7VZnJ6J",
        "colab_type": "code",
        "colab": {}
      },
      "source": [
        "xi=np.array([0.5,0.6,0.7,0.8,0.9,1])\n",
        "yi=np.array([0.4794,0.5646,0.6442,0.717,0.7833,0.84 ])"
      ],
      "execution_count": 0,
      "outputs": []
    },
    {
      "cell_type": "code",
      "metadata": {
        "id": "syqvAHpdgCJq",
        "colab_type": "code",
        "outputId": "bbc2d846-955f-49f2-f527-a1a577bf4eb8",
        "colab": {
          "base_uri": "https://localhost:8080/",
          "height": 36
        }
      },
      "source": [
        "yi[2:]"
      ],
      "execution_count": 0,
      "outputs": [
        {
          "output_type": "execute_result",
          "data": {
            "text/plain": [
              "array([0.6442, 0.717 , 0.7833, 0.84  ])"
            ]
          },
          "metadata": {
            "tags": []
          },
          "execution_count": 50
        }
      ]
    },
    {
      "cell_type": "code",
      "metadata": {
        "id": "ScQHZypZRAXB",
        "colab_type": "code",
        "colab": {}
      },
      "source": [
        "f1 = lambda x: x**2"
      ],
      "execution_count": 0,
      "outputs": []
    },
    {
      "cell_type": "code",
      "metadata": {
        "id": "1foQyJsziBJX",
        "colab_type": "code",
        "colab": {}
      },
      "source": [
        "def derivada2(x,fx):\n",
        "      \n",
        "    df = np.zeros(len(x))     # df/dx\n",
        "     \n",
        "    h= x[1] - x[0]\n",
        "    # puntos intermedios\n",
        "    df[1:-1] = (fx[2:] - fx[:-2])/(2*h)\n",
        "    # puntos inicial y final\n",
        "    df[0]  = (fx[1]  - fx[0]) /h\n",
        "    df[-1] = (fx[-1] - fx[-2])/h\n",
        "    return df"
      ],
      "execution_count": 0,
      "outputs": []
    },
    {
      "cell_type": "code",
      "metadata": {
        "id": "xRUaKG3ZnxDE",
        "colab_type": "code",
        "outputId": "bcf5da44-6e32-4c11-c63e-49d2d432e750",
        "colab": {
          "base_uri": "https://localhost:8080/",
          "height": 36
        }
      },
      "source": [
        "derivada2(xi,yi)"
      ],
      "execution_count": 0,
      "outputs": [
        {
          "output_type": "execute_result",
          "data": {
            "text/plain": [
              "array([0.852 , 0.824 , 0.762 , 0.6955, 0.615 , 0.567 ])"
            ]
          },
          "metadata": {
            "tags": []
          },
          "execution_count": 52
        }
      ]
    },
    {
      "cell_type": "markdown",
      "metadata": {
        "id": "E6sv4MoMZ6Co",
        "colab_type": "text"
      },
      "source": [
        "### 4.- Utilizar la función \"derivada\" para obtener el valor de la derivada de la función sin(x) en los puntos de la tabla anterior. Comparar los resultados\n"
      ]
    },
    {
      "cell_type": "markdown",
      "metadata": {
        "id": "Sjirpn0uZ6Cr",
        "colab_type": "text"
      },
      "source": [
        "### 5.-  Encontrar la derivada de la función $f(x) = e^x — 2x^2 + 3x — 1$ en los puntos 0,0.2,0.4"
      ]
    },
    {
      "cell_type": "markdown",
      "metadata": {
        "id": "AtgHS466Z6Ct",
        "colab_type": "text"
      },
      "source": [
        "### 6.- En un circuito con tensión (voltaje) $V(t)$ e inductancia $L$, la primera ley de Kirchhoff provee la relación\n",
        "$$\n",
        " V(t) = L \\frac {di}{dt}+ Ri\n",
        " $$\n",
        "### Siendo $R$ la resistencia del circuito e $i$ es la corriente. Suponer que medimos la corriente para varios valores de $t$ y obtenemos:\n",
        "$$\n",
        "\\begin{matrix}\n",
        "t & 1.0 &1.01 & 1.02 & 1.03 &1.0 \\\\ \\hline\n",
        "i & 3.10 &3.12& 3.14& 3.18&3.24 \\\\ \n",
        "\\end{matrix}\n",
        "$$\n",
        "### donde $t$ se mide en segundos, $i$ está en amperes, la inductancia L es una constante de 0.98 henrios, la resistencia es 0.142 ohms. Aproxime el valor $V(t)$ cuando t = 1.00,1.01,1.02,1.03, y 1.04."
      ]
    },
    {
      "cell_type": "code",
      "metadata": {
        "id": "k0ld5FvjVRH8",
        "colab_type": "code",
        "colab": {}
      },
      "source": [
        "xi=np.array([1,1.01,1.02,1.03,1.04])\n",
        "yi=np.array([3.1,3.12,3.14,3.18,3.24 ])"
      ],
      "execution_count": 0,
      "outputs": []
    },
    {
      "cell_type": "code",
      "metadata": {
        "id": "zFpRjUeuVu7Q",
        "colab_type": "code",
        "outputId": "0ff7d48f-48f7-4385-e774-040d2aa23a9f",
        "colab": {
          "base_uri": "https://localhost:8080/",
          "height": 36
        }
      },
      "source": [
        "derivada2(xi,yi)"
      ],
      "execution_count": 0,
      "outputs": [
        {
          "output_type": "execute_result",
          "data": {
            "text/plain": [
              "array([2., 2., 3., 5., 6.])"
            ]
          },
          "metadata": {
            "tags": []
          },
          "execution_count": 54
        }
      ]
    },
    {
      "cell_type": "markdown",
      "metadata": {
        "id": "vi8gMSsHZ6Cw",
        "colab_type": "text"
      },
      "source": [
        "### 7.--  Calcule las aproximaciones por diferencia central de primer orden de 0(h4) para cada una de las funciones siguientes en la ubicación y con el tamaño de paso que se especifica: Utilice la función desarrollada en python:\n",
        "\n",
        "$ y = x^3+4x-15 \\hspace{1cm} en \\,\\,\\, x=0 \\hspace{1cm}h=0.25 $<br>\n",
        "$y = x^2+cos(x) \\hspace{1,25cm} en \\,\\,\\, x=0.4 \\hspace{0.75cm}h=0.1 $<br>\n",
        "$y = tan(x/3) \\hspace{1,75cm} en \\,\\,\\, x=3 \\hspace{1cm}h=0.5$<br>\n",
        "$y = sin(0.5x^0.5) \\hspace{1cm}en \\,\\,\\, x=1 \\hspace{1cm}h=0.2$<br>\n",
        "$y = e^x +x \\hspace{2cm}en \\,\\,\\, x=2 \\hspace{1cm}h=0.2$\n",
        "\n"
      ]
    },
    {
      "cell_type": "markdown",
      "metadata": {
        "id": "3SF2sBWFZ6C1",
        "colab_type": "text"
      },
      "source": [
        "### 8.- Para un cohete, se recabaron los datos siguientes de la distancia recorrida versus el tiempo:\n",
        "\n",
        "$$\n",
        "\\begin{matrix}\n",
        "t (seg) & 0 & 25 & 50 & 75 & 100 & 125 \\\\ \\hline\n",
        "y (km) & 0 &32& 58& 78&92 &100  \n",
        "\\end{matrix}\n",
        "$$\n",
        "### Use la diferenciación numérica para estimar la velocidad y aceleración del cohete en cada momento  (Chapra 23.9)"
      ]
    },
    {
      "cell_type": "markdown",
      "metadata": {
        "id": "4qAieCnuZ6C5",
        "colab_type": "text"
      },
      "source": [
        "### 9.- \n",
        "\n",
        "<img src=\"https://drive.google.com/uc?id=106JyYGz7Dr8kLZAqEirbmxPwp4uituDr\" alt=\"Lamp\" width=\"420\" height=\"320\">\n",
        "\n",
        "### La manivela AB de longitud R=90 m rota con un velocidad angular constante de $\\frac{d\\theta}{dt}= 5000$  rev/min. La posición del pistón C varía con el ángulo $\\theta$ de acuerdo con:\n",
        "\n",
        "$$ x = R \\left ( cos\\theta + \\sqrt{2.5^2 - sin^2(\\theta)}\\right )$$\n",
        "\n",
        "### Escribir el código necesario para dibujar la aceleración del pistón para $\\theta = 0º,5º,10º,....,180º$. Utlizar diferenciación numérica para calcular la aceleración. (5.12)"
      ]
    },
    {
      "cell_type": "code",
      "metadata": {
        "id": "YRkjjZPToI47",
        "colab_type": "code",
        "outputId": "ae2f7fcc-6f63-4a14-afd7-d0d63fcb7052",
        "colab": {
          "base_uri": "https://localhost:8080/",
          "height": 52
        }
      },
      "source": [
        "from sympy import *\n",
        "x, R = symbols('x R')\n",
        "init_printing(use_unicode=True)\n",
        "f = R*( cos(x)+sqrt(2.5**2-sin(x)**2))\n",
        "a = diff(diff(f,x),x)\n",
        "simplify(a)"
      ],
      "execution_count": 0,
      "outputs": [
        {
          "output_type": "execute_result",
          "data": {
            "image/png": "[encoded data removed]",
            "text/latex": "$$- \\frac{R}{\\left(\\sin^{2}{\\left (x \\right )} - 6.25\\right)^{2}} \\left(\\left(- \\sin^{2}{\\left (x \\right )} + 6.25\\right)^{\\frac{3}{2}} \\cos{\\left (2 x \\right )} + \\left(\\sin^{2}{\\left (x \\right )} - 6.25\\right)^{2} \\cos{\\left (x \\right )} - 0.125 \\sqrt{3.0517578125 \\cdot 10^{-5} \\cos{\\left (2 x \\right )} + 0.0003509521484375} \\left(\\cos{\\left (4 x \\right )} - 1\\right)\\right)$$",
            "text/plain": [
              "   ⎛                  3/2                            2                        \n",
              "   ⎜⎛     2          ⎞               ⎛   2          ⎞                   ______\n",
              "-R⋅⎝⎝- sin (x) + 6.25⎠   ⋅cos(2⋅x) + ⎝sin (x) - 6.25⎠ ⋅cos(x) - 0.125⋅╲╱ 3.051\n",
              "──────────────────────────────────────────────────────────────────────────────\n",
              "                                                                           2  \n",
              "                                                           ⎛   2          ⎞   \n",
              "                                                           ⎝sin (x) - 6.25⎠   \n",
              "\n",
              "                                                        ⎞ \n",
              "_________________________________________               ⎟ \n",
              "7578125e-5⋅cos(2⋅x) + 0.0003509521484375 ⋅(cos(4⋅x) - 1)⎠ \n",
              "──────────────────────────────────────────────────────────\n",
              "                                                          \n",
              "                                                          \n",
              "                                                          "
            ]
          },
          "metadata": {
            "tags": []
          },
          "execution_count": 2
        }
      ]
    },
    {
      "cell_type": "markdown",
      "metadata": {
        "id": "9SWOuvLcoNj-",
        "colab_type": "text"
      },
      "source": [
        "$$ x'= \\frac{dx}{dt}=\\frac{dx}{d\\theta}\\omega$$\n",
        "$$ x''= \\frac{d^2x}{dt^2}=\\frac{d^2x}{d\\theta^2}\\omega^2$$"
      ]
    },
    {
      "cell_type": "markdown",
      "metadata": {
        "id": "Pl83cuaRvAhf",
        "colab_type": "text"
      },
      "source": [
        "$$x''= \\frac{f(\\theta+h)-2f(\\theta)+f(\\theta-h )}{h^2}R\\omega^2$$\n",
        "$$ f(\\theta) = cos(\\theta) + \\sqrt {(2.5^2-sin^2(\\theta)}$$"
      ]
    },
    {
      "cell_type": "code",
      "metadata": {
        "id": "FKSL7B6y6akh",
        "colab_type": "code",
        "outputId": "7a928d41-a079-4121-b9f7-652a06b6315e",
        "colab": {
          "base_uri": "https://localhost:8080/",
          "height": 279
        }
      },
      "source": [
        "def f(theta):\n",
        "  return np.cos(theta) + np.sqrt(6.25 - np.sin(theta)**2)\n",
        "h = 0.1*np.pi/180.0\t#\tunits:\trad\n",
        "R = 0.09\t#\t\tm\n",
        "omega = 5000.0 *(2*np.pi)/60.0\t#\t\trad/s\n",
        "const = R*omega**2/h**2\n",
        "# \n",
        "angle = np.arange(0.0,185.0,5.0)\t#\ttheta in degrees\n",
        "theta = angle*np.pi/180.0\t#\ttheta\tin radians\n",
        "accel = const*(f(theta-h) - 2.0*f(theta) + f(theta+h))\n",
        "\n",
        "plt.plot(angle,accel,'-o')\n",
        "plt.xlabel('theta (deg)')\n",
        "plt.ylabel('accele (m/s/s)')\n",
        "plt.show()"
      ],
      "execution_count": 0,
      "outputs": [
        {
          "output_type": "display_data",
          "data": {
            "image/png": "[encoded data removed]",
            "text/plain": [
              "<Figure size 432x288 with 1 Axes>"
            ]
          },
          "metadata": {
            "tags": [],
            "needs_background": "light"
          }
        }
      ]
    },
    {
      "cell_type": "markdown",
      "metadata": {
        "id": "wdBnKb7hZ6C-",
        "colab_type": "text"
      },
      "source": [
        "### 10.-\n",
        "\n",
        "\n",
        "### Las estaciones de radar A y B, separadas una distancia de a=500m , siguen el avión C y almacenan los ángulos $\\alpha \\,\\, y\\,\\, \\beta$ a intervalos de 3 seg. Si tenemos \n",
        "\n",
        "$$\n",
        "\\begin{matrix}\n",
        "t (seg) & 9 & 10 & 11 \\\\ \\hline\n",
        "\\alpha & 54.80º &54,06º& 53.34º \\\\ \\hline\n",
        "\\beta & 65.59º &64,59º& 63.62º \n",
        "\\end{matrix}\n",
        "$$\n",
        "<img src=\"https://drive.google.com/uc?id=11gIZp5mOaws7O8mAMrCfcr7RcZCCBaOP\" alt=\"Lamp\" width=\"220\" height=\"220\">\n",
        "### Calcular la velocidad $v$ del  avión y el ángulo de ascenso $\\gamma$ a t=10 seg. Las coordenadas del avión se calculan como: (5.13\n",
        "\n",
        "$$\n",
        "x = a \\frac {\\tan\\beta}{\\tan\\beta-\\tan\\alpha} \\hspace{3cm} y = a \\frac {\\tan\\alpha\\tan\\beta}{\\tan\\beta-\\tan\\alpha} \n",
        "$$\n"
      ]
    },
    {
      "cell_type": "code",
      "metadata": {
        "id": "evOSPg-Tc8AK",
        "colab_type": "code",
        "colab": {}
      },
      "source": [
        "def f(alpha,beta):\n",
        "  ta = np.tan(alpha); tb = np.tan(beta)\n",
        "  x = tb/(tb - ta); y = x*ta\n",
        "  return x,y\n",
        "\n",
        "a =500.0\n",
        "alpha =  np.array([54.80, 53.34])*np.pi/180.0\n",
        "beta = np. array([65.59, 63.62])*np.pi/180.0\n",
        "x0,y0 = f(alpha[0],beta[0])\n",
        "print('x0',a*x0)\n",
        "print('y0',a*y0)\n",
        "xl,yl = f(alpha[1],beta[1])\n",
        "vx = a*(xl - x0)/2.0\n",
        "vy = a*(yl - y0)/2.0\n",
        "print(\"veloc =\",np.sqrt(vx**2 + vy**2),\"m/s\")\n",
        "print(\"Gamma =\",np.arctan(vy/vx)*180.0/np.pi,\"deg\")\n",
        "\n"
      ],
      "execution_count": 0,
      "outputs": []
    },
    {
      "cell_type": "code",
      "metadata": {
        "id": "DNmGzqS9dkf4",
        "colab_type": "code",
        "colab": {}
      },
      "source": [
        ""
      ],
      "execution_count": 0,
      "outputs": []
    },
    {
      "cell_type": "code",
      "metadata": {
        "id": "22UDbvfgc-B-",
        "colab_type": "code",
        "colab": {}
      },
      "source": [
        ""
      ],
      "execution_count": 0,
      "outputs": []
    },
    {
      "cell_type": "code",
      "metadata": {
        "id": "siIaq7WdZ6DC",
        "colab_type": "code",
        "colab": {}
      },
      "source": [
        ""
      ],
      "execution_count": 0,
      "outputs": []
    }
  ]
}