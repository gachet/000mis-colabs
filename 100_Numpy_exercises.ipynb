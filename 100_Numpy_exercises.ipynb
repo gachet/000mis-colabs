{
  "nbformat": 4,
  "nbformat_minor": 0,
  "metadata": {
    "kernelspec": {
      "display_name": "Python 3",
      "language": "python",
      "name": "python3"
    },
    "language_info": {
      "codemirror_mode": {
        "name": "ipython",
        "version": 3
      },
      "file_extension": ".py",
      "mimetype": "text/x-python",
      "name": "python",
      "nbconvert_exporter": "python",
      "pygments_lexer": "ipython3",
      "version": "3.7.6"
    },
    "colab": {
      "name": "100_Numpy_exercises.ipynb",
      "provenance": [],
      "include_colab_link": true
    }
  },
  "cells": [
    {
      "cell_type": "markdown",
      "metadata": {
        "id": "view-in-github",
        "colab_type": "text"
      },
      "source": [
        "<a href=\"https://colab.research.google.com/github/gachet/000mis-colabs/blob/master/100_Numpy_exercises.ipynb\" target=\"_parent\"><img src=\"https://colab.research.google.com/assets/colab-badge.svg\" alt=\"Open In Colab\"/></a>"
      ]
    },
    {
      "cell_type": "markdown",
      "metadata": {
        "id": "BQGfv7yxnSQh",
        "colab_type": "text"
      },
      "source": [
        "#### 1. Importar numpy bajo el nombre `np` (★☆☆)"
      ]
    },
    {
      "cell_type": "markdown",
      "metadata": {
        "id": "gqv-jcKBnSRE",
        "colab_type": "text"
      },
      "source": [
        "#### 2. Imprimir la versión y configuración de nunpy (★☆☆)"
      ]
    },
    {
      "cell_type": "markdown",
      "metadata": {
        "id": "CaOvSInKnSRb",
        "colab_type": "text"
      },
      "source": [
        "#### 3. Crear un vector de ceros de  tamaño 10 (★☆☆)"
      ]
    },
    {
      "cell_type": "markdown",
      "metadata": {
        "id": "Cdgu-eQ5nSRw",
        "colab_type": "text"
      },
      "source": [
        "#### 4.  Saber el tamaño en memoria de un  array (★☆☆)"
      ]
    },
    {
      "cell_type": "markdown",
      "metadata": {
        "id": "MMrTAKzknSSE",
        "colab_type": "text"
      },
      "source": [
        "#### 5.  Cómo encontrar la documentación de la función  add de nunmpy desde línea de comados? (★☆☆)"
      ]
    },
    {
      "cell_type": "markdown",
      "metadata": {
        "id": "maJzQVWznSSi",
        "colab_type": "text"
      },
      "source": [
        "#### 6.  Create un vector de ceros de tamaño 10 y que el 5yo valor sea  1 (★☆☆)"
      ]
    },
    {
      "cell_type": "markdown",
      "metadata": {
        "id": "TplPnukHnSS1",
        "colab_type": "text"
      },
      "source": [
        "#### 7.  Crear un vector con valores de 10 a 49 (★☆☆)"
      ]
    },
    {
      "cell_type": "markdown",
      "metadata": {
        "id": "lev9I1ISnSTE",
        "colab_type": "text"
      },
      "source": [
        "#### 8.  Invertir el orden de un vector (★☆☆)"
      ]
    },
    {
      "cell_type": "markdown",
      "metadata": {
        "id": "Wk-s20O1nSTW",
        "colab_type": "text"
      },
      "source": [
        "#### 9.  Crear una matriz 3x3 de  0 a 8 (★☆☆)"
      ]
    },
    {
      "cell_type": "markdown",
      "metadata": {
        "id": "hpBKsamjnSTm",
        "colab_type": "text"
      },
      "source": [
        "#### 10. Encontrar los índices de los elemenentos no cero de  \\[1,2,0,0,4,0\\] (★☆☆)"
      ]
    },
    {
      "cell_type": "markdown",
      "metadata": {
        "id": "-pILGS8SnST1",
        "colab_type": "text"
      },
      "source": [
        "#### 11. Crear una matriz identidad de 3x3 (★☆☆)"
      ]
    },
    {
      "cell_type": "markdown",
      "metadata": {
        "id": "w6VBGaw9nSUF",
        "colab_type": "text"
      },
      "source": [
        "#### 12. Crear una matriz de 3x3x3 de valores aleatorios (★☆☆)"
      ]
    },
    {
      "cell_type": "markdown",
      "metadata": {
        "id": "wfKm_CodnSUU",
        "colab_type": "text"
      },
      "source": [
        "#### 13. Crear una matriz de  10x10 array con valores aleatorios y encontrar el mínimo y el máximo (★☆☆)"
      ]
    },
    {
      "cell_type": "markdown",
      "metadata": {
        "id": "51ClIIT_nSUh",
        "colab_type": "text"
      },
      "source": [
        "#### 14. Crear un vector de números aleatorios de tamaño 30 y encontrar la media (★☆☆)"
      ]
    },
    {
      "cell_type": "markdown",
      "metadata": {
        "id": "AeHbYx-4nSUt",
        "colab_type": "text"
      },
      "source": [
        "#### 15. Crear una matriz 10x10 con 1s en los bordes y en el interior  ceros inside (★☆☆)"
      ]
    },
    {
      "cell_type": "markdown",
      "metadata": {
        "id": "E5U52JbqnSVT",
        "colab_type": "text"
      },
      "source": [
        "#### 16. Crear una matriz  5x5 con valores 1,2,3,4 justo debajo de la diagonal (★☆☆)"
      ]
    },
    {
      "cell_type": "markdown",
      "metadata": {
        "id": "OJeM-O9hnSWa",
        "colab_type": "text"
      },
      "source": [
        "#### 17. Multiplicar una matriz de  5x3 matrix por una de 3x2  (★☆☆)"
      ]
    },
    {
      "cell_type": "markdown",
      "metadata": {
        "id": "qprFLamAnSXX",
        "colab_type": "text"
      },
      "source": [
        "#### 18. Cómo se pueden encontrar elementos comunes entre dos arrays? (★☆☆)"
      ]
    },
    {
      "cell_type": "markdown",
      "metadata": {
        "id": "0-ux1MA2nSY_",
        "colab_type": "text"
      },
      "source": [
        "#### 19. Crear un vector de aleatorios de tamaño 10 10 y ordenarlos (★★☆)"
      ]
    },
    {
      "cell_type": "markdown",
      "metadata": {
        "id": "e5CsMLymnSZ8",
        "colab_type": "text"
      },
      "source": [
        "#### 20. Considerar una matriz de aleatorios de  10x2 matrix representando coordenadas cartesianas, convertirlas a coordenadas polares (★★☆)"
      ]
    },
    {
      "cell_type": "markdown",
      "metadata": {
        "id": "xJX7R-S1nSbr",
        "colab_type": "text"
      },
      "source": [
        "#### 21. Restar la media de cada fila en una matriz (★★☆)"
      ]
    },
    {
      "cell_type": "markdown",
      "metadata": {
        "id": "EBWphxwwnSe8",
        "colab_type": "text"
      },
      "source": [
        "#### 22. Cómo encontrar el valor mas frecuente de un  array?"
      ]
    },
    {
      "cell_type": "markdown",
      "metadata": {
        "id": "aPc11b3bxPp0",
        "colab_type": "text"
      },
      "source": [
        "#### 23.- Encontrar los indices de los valores minimos y maximos de la anterior matriz"
      ]
    },
    {
      "cell_type": "markdown",
      "metadata": {
        "id": "j13ubAqCxfeB",
        "colab_type": "text"
      },
      "source": [
        ""
      ]
    }
  ]
}