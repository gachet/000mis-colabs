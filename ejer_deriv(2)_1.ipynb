{
  "nbformat": 4,
  "nbformat_minor": 0,
  "metadata": {
    "kernelspec": {
      "display_name": "Python 3",
      "language": "python",
      "name": "python3"
    },
    "language_info": {
      "codemirror_mode": {
        "name": "ipython",
        "version": 3
      },
      "file_extension": ".py",
      "mimetype": "text/x-python",
      "name": "python",
      "nbconvert_exporter": "python",
      "pygments_lexer": "ipython3",
      "version": "3.7.4"
    },
    "colab": {
      "name": "ejer-deriv(2)-1.ipynb",
      "provenance": [],
      "include_colab_link": true
    }
  },
  "cells": [
    {
      "cell_type": "markdown",
      "metadata": {
        "id": "view-in-github",
        "colab_type": "text"
      },
      "source": [
        "<a href=\"https://colab.research.google.com/github/gachet/mis-colabs/blob/master/ejer_deriv(2)_1.ipynb\" target=\"_parent\"><img src=\"https://colab.research.google.com/assets/colab-badge.svg\" alt=\"Open In Colab\"/></a>"
      ]
    },
    {
      "cell_type": "markdown",
      "metadata": {
        "id": "J4a9da5pH4Kk",
        "colab_type": "text"
      },
      "source": [
        "# Ejercicios derivación numérica "
      ]
    },
    {
      "cell_type": "code",
      "metadata": {
        "id": "Jy9X7FHeH4Ko",
        "colab_type": "code",
        "colab": {}
      },
      "source": [
        "import numpy as np"
      ],
      "execution_count": 0,
      "outputs": []
    },
    {
      "cell_type": "markdown",
      "metadata": {
        "id": "zim0ljyWH4K9",
        "colab_type": "text"
      },
      "source": [
        "### 1.- Escribir en python una función  de nombre \"derivada\" que acepte como entrada los siguientes parámetros:<br>\n",
        "\n",
        "- f : función\n",
        "        función vectorizada de una variable\n",
        "- a : número\n",
        "            Sirve para calcular la derivada en x = a\n",
        "- metodo : string\n",
        "        Nombre de la fórmula de diferenciación: 'adelante', 'atras' o 'central'\n",
        "- h : número\n",
        "        Tamaño del paso para la fórmuula de diferenciación\n",
        "      \n"
      ]
    },
    {
      "cell_type": "code",
      "metadata": {
        "id": "jmVxy9sNH4LF",
        "colab_type": "code",
        "colab": {}
      },
      "source": [
        "f = lambda x: np.cos(x)\n",
        "    "
      ],
      "execution_count": 0,
      "outputs": []
    },
    {
      "cell_type": "code",
      "metadata": {
        "id": "L4bOqHFCH4LU",
        "colab_type": "code",
        "colab": {}
      },
      "source": [
        "def funcion(f, a,  h = 0.01,met = \"central\"):\n",
        "    \"\"\"Parámetros:\n",
        "        - f: es la función\n",
        "        - a: es el punto en el que se hará la derivada\n",
        "        - met: es el método, deberá ser string: (central, detras, delante)\n",
        "        - h: es la diferencia entre los puntos\n",
        "    return:\n",
        "        - float que es la derivada en el punto que se pone en el parámetro\"\"\"\n",
        "    if met == \"central\":\n",
        "        deriv = (f(a+h)-f(a-h))/(2*h)\n",
        "    elif met == 'delante':\n",
        "        deriv = (f(a+h)-f(a))/h\n",
        "    elif met == 'detras':\n",
        "        deriv = (f(a)-f(a-h))/h\n",
        "    else:\n",
        "        return('Eso no es ningún método')\n",
        "    return deriv\n",
        "    \n",
        "    "
      ],
      "execution_count": 0,
      "outputs": []
    },
    {
      "cell_type": "code",
      "metadata": {
        "id": "XvpyLDk3H4Lj",
        "colab_type": "code",
        "colab": {}
      },
      "source": [
        "def funcion2(f, a,  h = 0.01,met = \"central\"):\n",
        "    \"\"\"Parámetros:\n",
        "        - f: es la función\n",
        "        - a: es el punto en el que se hará la derivada\n",
        "        - met: es el método, deberá ser string: (central, detras, delante)\n",
        "        - h: es la diferencia entre los puntos\n",
        "    return:\n",
        "        - float que es la derivada en el punto que se pone en el parámetro\"\"\"\n",
        "    if met == \"central\":\n",
        "        deriv = (f(a+h)-2*f(a)+f(a-h))/(h**2)\n",
        "    elif met == 'delante':\n",
        "        deriv = (f(a+2*h)-2*f(a+h)+f(a))/(h**2)\n",
        "    elif met == 'detras':\n",
        "        deriv = (f(a)-2*f(a-h)+f(a-2*h))/(h**2)\n",
        "    else:\n",
        "        return('Eso no es ningún método')\n",
        "    return deriv"
      ],
      "execution_count": 0,
      "outputs": []
    },
    {
      "cell_type": "code",
      "metadata": {
        "id": "ra4mfj45H4Lw",
        "colab_type": "code",
        "outputId": "2d491102-25f6-4a80-e74c-3faabf376e60",
        "colab": {
          "base_uri": "https://localhost:8080/",
          "height": 36
        }
      },
      "source": [
        "funcion(f, np.pi/2)"
      ],
      "execution_count": 0,
      "outputs": [
        {
          "output_type": "execute_result",
          "data": {
            "text/plain": [
              "-0.9999833334166673"
            ]
          },
          "metadata": {
            "tags": []
          },
          "execution_count": 5
        }
      ]
    },
    {
      "cell_type": "markdown",
      "metadata": {
        "id": "ZrTmzOgHH4MA",
        "colab_type": "text"
      },
      "source": [
        "### Retorna\n",
        "   \n",
        "- float, que es el valor de la derivada de f en el punto a de acuerdo al método escogido\n",
        "- los valores por defecto de 'método´y 'h' son \"central\" y 0.01"
      ]
    },
    {
      "cell_type": "markdown",
      "metadata": {
        "id": "3dqcpwzWH4MC",
        "colab_type": "text"
      },
      "source": [
        "### 2.- Utilizar la función anterior para dibujar la función \n",
        "$$y=\\left(\\frac{4x^2+2x+1}{x+2e^x}\\right)^x$$\n",
        "### Y su derivada en un rago [0,6] con 100 puntos"
      ]
    },
    {
      "cell_type": "code",
      "metadata": {
        "id": "54MiVvHwH4MG",
        "colab_type": "code",
        "colab": {}
      },
      "source": [
        "import matplotlib.pyplot as plt\n",
        "%matplotlib inline"
      ],
      "execution_count": 0,
      "outputs": []
    },
    {
      "cell_type": "code",
      "metadata": {
        "id": "J-SvBDo-H4MR",
        "colab_type": "code",
        "colab": {}
      },
      "source": [
        "f = lambda x: ((4*x**2 + 2*x +1)/(x+2*np.exp(x)))**x"
      ],
      "execution_count": 0,
      "outputs": []
    },
    {
      "cell_type": "code",
      "metadata": {
        "id": "pSYxcRQ_H4Mb",
        "colab_type": "code",
        "outputId": "8aadbbfc-5e22-42d7-90c5-44034829fe8a",
        "colab": {
          "base_uri": "https://localhost:8080/",
          "height": 265
        }
      },
      "source": [
        "x = np.linspace(0,6,100)\n",
        "f1 = ((4*x**2 + 2*x +1)/(x+2*np.exp(x)))**x\n",
        "p1 = plt.plot(x,f1)\n",
        "\n",
        "f2 = funcion(f,x)\n",
        "p2 = plt.plot(x, f2)\n",
        "\n"
      ],
      "execution_count": 0,
      "outputs": [
        {
          "output_type": "display_data",
          "data": {
            "image/png": "[encoded data removed]",
            "text/plain": [
              "<Figure size 432x288 with 1 Axes>"
            ]
          },
          "metadata": {
            "tags": [],
            "needs_background": "light"
          }
        }
      ]
    },
    {
      "cell_type": "code",
      "metadata": {
        "id": "w7hOpkjzH4Mm",
        "colab_type": "code",
        "colab": {}
      },
      "source": [
        ""
      ],
      "execution_count": 0,
      "outputs": []
    },
    {
      "cell_type": "markdown",
      "metadata": {
        "id": "UKSZBq7OH4Mx",
        "colab_type": "text"
      },
      "source": [
        "### 3.- Utilice las fórmulas de diferencias hacia adelante y de diferencias hacia atrás para determinar todas las entradas faltantes en la siguiente tabla.\n",
        "$$\n",
        "\\begin{matrix}\n",
        "x & f(x) &f'(x) \\\\ \\hline\n",
        "0.5 & 0.4794 & \\\\ \n",
        "0.6 & 0.5646 & \\\\ \n",
        "0.7 & 0.6442 & \n",
        "\\end{matrix}\n",
        "$$"
      ]
    },
    {
      "cell_type": "code",
      "metadata": {
        "id": "PWc6BYBzH4Mz",
        "colab_type": "code",
        "colab": {}
      },
      "source": [
        "def deriv2(x, fx):\n",
        "    df = np.zeros(len(x))\n",
        "    h = x[1] - x[0]\n",
        "    #Cálculo para los puntos intermedios\n",
        "    df[1:-1] = (fx[2:] - fx[:-2])/(2*h)\n",
        "    #Cálculo para el inicial\n",
        "    df[0] = (fx[1] - fx[0])/h\n",
        "    #Cálculo para el final\n",
        "    df[-1] = (fx[-1] - fx[-2])/h\n",
        "    return df"
      ],
      "execution_count": 0,
      "outputs": []
    },
    {
      "cell_type": "code",
      "metadata": {
        "id": "OHsxxkShH4M-",
        "colab_type": "code",
        "colab": {}
      },
      "source": [
        "x = np.array([0.5, 0.6, 0.7])\n",
        "y = np.array([0.4794, 0.5646, 0.6442])"
      ],
      "execution_count": 0,
      "outputs": []
    },
    {
      "cell_type": "code",
      "metadata": {
        "id": "P_rJvcPnH4NJ",
        "colab_type": "code",
        "outputId": "b4482090-90d5-4b91-df7c-8e7e02b41763",
        "colab": {
          "base_uri": "https://localhost:8080/",
          "height": 36
        }
      },
      "source": [
        "deriv2(x,y)"
      ],
      "execution_count": 0,
      "outputs": [
        {
          "output_type": "execute_result",
          "data": {
            "text/plain": [
              "array([0.852, 0.824, 0.796])"
            ]
          },
          "metadata": {
            "tags": []
          },
          "execution_count": 11
        }
      ]
    },
    {
      "cell_type": "markdown",
      "metadata": {
        "id": "IVUfiWI7H4NW",
        "colab_type": "text"
      },
      "source": [
        "### 4.- Utilizar la función \"derivada\" para obtener el valor de la derivada de la función sin(x) en los puntos de la tabla anterior. Comparar los resultados\n",
        "$$\n",
        "\\begin{matrix}\n",
        "x & f(x) &f'(x) \\\\ \\hline\n",
        "0.5 & 0.4794 & \\\\ \n",
        "0.6 & 0.5646 & \\\\ \n",
        "0.7 & 0.6442 & \n",
        "\\end{matrix}\n",
        "$$"
      ]
    },
    {
      "cell_type": "code",
      "metadata": {
        "id": "MYkygCtlH4NX",
        "colab_type": "code",
        "colab": {}
      },
      "source": [
        "f = lambda x: np.sin(x)"
      ],
      "execution_count": 0,
      "outputs": []
    },
    {
      "cell_type": "code",
      "metadata": {
        "id": "zBReiUlZH4Nh",
        "colab_type": "code",
        "outputId": "28303f5b-39d9-4437-e233-913bc4ed01db",
        "colab": {
          "base_uri": "https://localhost:8080/"
        }
      },
      "source": [
        "funcion(f, 0.5,0.1, 'delante')"
      ],
      "execution_count": 0,
      "outputs": [
        {
          "output_type": "execute_result",
          "data": {
            "text/plain": [
              "0.8521693479083237"
            ]
          },
          "metadata": {
            "tags": []
          },
          "execution_count": 13
        }
      ]
    },
    {
      "cell_type": "code",
      "metadata": {
        "id": "8ghk9xY3H4Ns",
        "colab_type": "code",
        "outputId": "f90eb882-beeb-4eda-910b-d2be9cb82c2d",
        "colab": {
          "base_uri": "https://localhost:8080/"
        }
      },
      "source": [
        "funcion(f, 0.6)"
      ],
      "execution_count": 0,
      "outputs": [
        {
          "output_type": "execute_result",
          "data": {
            "text/plain": [
              "0.8253218593848755"
            ]
          },
          "metadata": {
            "tags": []
          },
          "execution_count": 14
        }
      ]
    },
    {
      "cell_type": "code",
      "metadata": {
        "id": "XpyyQvf0H4N0",
        "colab_type": "code",
        "outputId": "dfeaa2cb-af15-4434-f78f-eed4b26f3e20",
        "colab": {
          "base_uri": "https://localhost:8080/"
        }
      },
      "source": [
        "funcion(f, 0.7,0.1, 'detras')"
      ],
      "execution_count": 0,
      "outputs": [
        {
          "output_type": "execute_result",
          "data": {
            "text/plain": [
              "0.7957521384265565"
            ]
          },
          "metadata": {
            "tags": []
          },
          "execution_count": 15
        }
      ]
    },
    {
      "cell_type": "markdown",
      "metadata": {
        "id": "REZBdeAeH4N-",
        "colab_type": "text"
      },
      "source": [
        "### 5.-  Encontrar la derivada de la función $f(x) = e^x — 2x^2 + 3x — 1$ en los puntos 0,0.2,0.4"
      ]
    },
    {
      "cell_type": "code",
      "metadata": {
        "id": "dc2RfLGAH4N_",
        "colab_type": "code",
        "colab": {}
      },
      "source": [
        "f = lambda x: np.exp(x) - 2*x**2 + 3*x - 1"
      ],
      "execution_count": 0,
      "outputs": []
    },
    {
      "cell_type": "code",
      "metadata": {
        "id": "2dK3gZE-H4OG",
        "colab_type": "code",
        "outputId": "7948adf4-317b-463f-ccb4-53fc9167b7ee",
        "colab": {
          "base_uri": "https://localhost:8080/"
        }
      },
      "source": [
        "funcion(f, 0, 0.1, 'delante')"
      ],
      "execution_count": 0,
      "outputs": [
        {
          "output_type": "execute_result",
          "data": {
            "text/plain": [
              "3.8517091807564774"
            ]
          },
          "metadata": {
            "tags": []
          },
          "execution_count": 17
        }
      ]
    },
    {
      "cell_type": "code",
      "metadata": {
        "id": "RfTZGppeH4OP",
        "colab_type": "code",
        "outputId": "6c4f1da2-9aaf-4013-93a7-3fb6d818f0f2",
        "colab": {
          "base_uri": "https://localhost:8080/"
        }
      },
      "source": [
        "funcion(f, 0.2)"
      ],
      "execution_count": 0,
      "outputs": [
        {
          "output_type": "execute_result",
          "data": {
            "text/plain": [
              "3.4214231149745866"
            ]
          },
          "metadata": {
            "tags": []
          },
          "execution_count": 18
        }
      ]
    },
    {
      "cell_type": "code",
      "metadata": {
        "id": "_1hi5Er2H4OY",
        "colab_type": "code",
        "outputId": "3d2bd1ba-116a-4f4c-f0c5-2aeb24e30c1f",
        "colab": {
          "base_uri": "https://localhost:8080/"
        }
      },
      "source": [
        "funcion(f, 0.4,0.1, 'detras')"
      ],
      "execution_count": 0,
      "outputs": [
        {
          "output_type": "execute_result",
          "data": {
            "text/plain": [
              "3.0196589006526686"
            ]
          },
          "metadata": {
            "tags": []
          },
          "execution_count": 19
        }
      ]
    },
    {
      "cell_type": "markdown",
      "metadata": {
        "id": "pyeAKohXH4On",
        "colab_type": "text"
      },
      "source": [
        "### 6.- En un circuito con tensión (voltaje) $V(t)$ e inductancia $L$, la primera ley de Kirchhoff provee la relación\n",
        "$$\n",
        " V(t) = L \\frac {di}{dt}+ Ri\n",
        " $$\n",
        "### Siendo $R$ la resistencia del circuito e $i$ es la corriente. Suponer que medimos la corriente para varios valores de $t$ y obtenemos:\n",
        "$$\n",
        "\\begin{matrix}\n",
        "t & 1.0 &1.01 & 1.02 & 1.03 &1.04 \\\\ \\hline\n",
        "i & 3.10 &3.12& 3.14& 3.18&3.24 \\\\ \n",
        "\\end{matrix}\n",
        "$$\n",
        "### donde $t$ se mide en segundos, $i$ está en amperes, la inductancia L es una constante de 0.98 henrios, la resistencia es 0.142 ohms. Aproxime el valor $V(t)$ cuando t = 1.00,1.01,1.02,1.03, y 1.04."
      ]
    },
    {
      "cell_type": "code",
      "metadata": {
        "id": "s5A0Y56jH4Op",
        "colab_type": "code",
        "outputId": "fdc9c9f5-7679-4285-a43e-49af0adcf57d",
        "colab": {
          "base_uri": "https://localhost:8080/"
        }
      },
      "source": [
        "x = np.array([1.0, 1.01, 1.02, 1.03, 1.04])\n",
        "fx = np.array([3.10, 3.12, 3.14, 3.18, 3.24])\n",
        "c = deriv2(x, fx)\n",
        "print(c)"
      ],
      "execution_count": 0,
      "outputs": [
        {
          "output_type": "stream",
          "text": [
            "[2. 2. 3. 5. 6.]\n"
          ],
          "name": "stdout"
        }
      ]
    },
    {
      "cell_type": "code",
      "metadata": {
        "id": "2KL6xawhH4Oz",
        "colab_type": "code",
        "outputId": "f963492a-71f2-4e11-9c26-a8e026a2f518",
        "colab": {
          "base_uri": "https://localhost:8080/"
        }
      },
      "source": [
        "L = 0.98 \n",
        "R = 0.142\n",
        "V1 = L*c[0] + R\n",
        "V2 = L*c[1] + R\n",
        "V3 = L*c[2] + R\n",
        "V4 = L*c[3] + R\n",
        "V5 = L*c[4] + R\n",
        "print(V1,V2,V3,V4,V5)"
      ],
      "execution_count": 0,
      "outputs": [
        {
          "output_type": "stream",
          "text": [
            "2.102 2.102 3.082 5.042000000000001 6.022\n"
          ],
          "name": "stdout"
        }
      ]
    },
    {
      "cell_type": "markdown",
      "metadata": {
        "id": "cIMzYeJeH4O9",
        "colab_type": "text"
      },
      "source": [
        "### 7.--  Calcule las aproximaciones por diferencia central de primer orden de 0(h4) para cada una de las funciones siguientes en la ubicación y con el tamaño de paso que se especifica: Utilice la función desarrollada en python:\n",
        "\n",
        "$ y = x^3+4x-15 \\hspace{1cm} en \\,\\,\\, x=0 \\hspace{1cm}h=0.25 $<br>\n",
        "$y = x^2+cos(x) \\hspace{1,25cm} en \\,\\,\\, x=0.4 \\hspace{0.75cm}h=0.1 $<br>\n",
        "$y = tan(x/3) \\hspace{1,75cm} en \\,\\,\\, x=3 \\hspace{1cm}h=0.5$<br>\n",
        "$y = sin(0.5x^0.5) \\hspace{1cm}en \\,\\,\\, x=1 \\hspace{1cm}h=0.2$<br>\n",
        "$y = e^x +x \\hspace{2cm}en \\,\\,\\, x=2 \\hspace{1cm}h=0.2$\n",
        "\n"
      ]
    },
    {
      "cell_type": "code",
      "metadata": {
        "id": "l8jsGl4TH4O_",
        "colab_type": "code",
        "outputId": "1e37ec62-89be-4583-b188-edb644801626",
        "colab": {
          "base_uri": "https://localhost:8080/"
        }
      },
      "source": [
        "f = lambda x: x**3 + 4*x -15\n",
        "funcion(f, 0, 0.25)"
      ],
      "execution_count": 0,
      "outputs": [
        {
          "output_type": "execute_result",
          "data": {
            "text/plain": [
              "4.0625"
            ]
          },
          "metadata": {
            "tags": []
          },
          "execution_count": 22
        }
      ]
    },
    {
      "cell_type": "code",
      "metadata": {
        "id": "A8asZaTcH4PJ",
        "colab_type": "code",
        "outputId": "11829e58-9dce-4b50-8d56-82ed060f0fde",
        "colab": {
          "base_uri": "https://localhost:8080/"
        }
      },
      "source": [
        "f = lambda x: x**2 + np.cos(x)\n",
        "funcion(f, 0.4, 0.1 )"
      ],
      "execution_count": 0,
      "outputs": [
        {
          "output_type": "execute_result",
          "data": {
            "text/plain": [
              "0.4112303638238335"
            ]
          },
          "metadata": {
            "tags": []
          },
          "execution_count": 23
        }
      ]
    },
    {
      "cell_type": "code",
      "metadata": {
        "id": "WGDBzbY_H4PQ",
        "colab_type": "code",
        "outputId": "5f0d90bd-be22-4092-f560-9b54d5b31a15",
        "colab": {
          "base_uri": "https://localhost:8080/"
        }
      },
      "source": [
        "f = lambda x: np.tan(x/3)\n",
        "funcion(f, 3, 0.5 )"
      ],
      "execution_count": 0,
      "outputs": [
        {
          "output_type": "execute_result",
          "data": {
            "text/plain": [
              "1.2374751947913774"
            ]
          },
          "metadata": {
            "tags": []
          },
          "execution_count": 24
        }
      ]
    },
    {
      "cell_type": "code",
      "metadata": {
        "id": "WMrrR-4uH4PZ",
        "colab_type": "code",
        "outputId": "f1c968f0-34d7-4dfd-eedf-a7c3e302c916",
        "colab": {
          "base_uri": "https://localhost:8080/"
        }
      },
      "source": [
        "f = lambda x: np.sin(0.5*x**0.5)\n",
        "funcion(f, 1, 0.2 )"
      ],
      "execution_count": 0,
      "outputs": [
        {
          "output_type": "execute_result",
          "data": {
            "text/plain": [
              "0.22072365139712627"
            ]
          },
          "metadata": {
            "tags": []
          },
          "execution_count": 25
        }
      ]
    },
    {
      "cell_type": "code",
      "metadata": {
        "id": "W5bSf2yuH4Pg",
        "colab_type": "code",
        "outputId": "43bacad0-5588-496c-eac1-4e0386143020",
        "colab": {
          "base_uri": "https://localhost:8080/"
        }
      },
      "source": [
        "f = lambda x: np.exp(x) + x\n",
        "funcion(f, 2, 0.2 )"
      ],
      "execution_count": 0,
      "outputs": [
        {
          "output_type": "execute_result",
          "data": {
            "text/plain": [
              "8.438415087552942"
            ]
          },
          "metadata": {
            "tags": []
          },
          "execution_count": 26
        }
      ]
    },
    {
      "cell_type": "markdown",
      "metadata": {
        "id": "dQ3eKCJuH4Pr",
        "colab_type": "text"
      },
      "source": [
        "### 8.- Para un cohete, se recabaron los datos siguientes de la distancia recorrida versus el tiempo:\n",
        "\n",
        "$$\n",
        "\\begin{matrix}\n",
        "t (seg) & 0 & 25 & 50 & 75 & 100 & 125 \\\\ \\hline\n",
        "y (km) & 0 &32& 58& 78&92 &100  \n",
        "\\end{matrix}\n",
        "$$\n",
        "### Use la diferenciación numérica para estimar la velocidad y aceleración del cohete en cada momento"
      ]
    },
    {
      "cell_type": "markdown",
      "metadata": {
        "id": "9CdFfXvhH4Pt",
        "colab_type": "text"
      },
      "source": [
        "### Velocidad"
      ]
    },
    {
      "cell_type": "code",
      "metadata": {
        "id": "NNIWi6KYH4Pw",
        "colab_type": "code",
        "outputId": "dc42a351-046a-4e40-d3fe-6f591df68788",
        "colab": {
          "base_uri": "https://localhost:8080/"
        }
      },
      "source": [
        "x = np.array([0, 25, 50, 75, 100, 125])\n",
        "y = np.array([0, 32, 58, 78, 92, 100])\n",
        "v = deriv2(x, y)\n",
        "print(v)\n"
      ],
      "execution_count": 0,
      "outputs": [
        {
          "output_type": "stream",
          "text": [
            "[1.28 1.16 0.92 0.68 0.44 0.32]\n"
          ],
          "name": "stdout"
        }
      ]
    },
    {
      "cell_type": "markdown",
      "metadata": {
        "id": "_U0A9UJrH4P6",
        "colab_type": "text"
      },
      "source": [
        "### Aceleración"
      ]
    },
    {
      "cell_type": "code",
      "metadata": {
        "id": "K0SwEptuH4P8",
        "colab_type": "code",
        "outputId": "a2103fd9-9029-4e8a-af52-123216c46348",
        "colab": {
          "base_uri": "https://localhost:8080/"
        }
      },
      "source": [
        "h = 25\n",
        "#delante\n",
        "d2_1 = (y[2] - 2*y[1] + y[0])/(h**2)\n",
        "#detras\n",
        "d2_6 = (y[5] - 2*y[4] + y[3])/(h**2)\n",
        "#intermedias\n",
        "d2_2 = (y[2] - 2*y[1] + y[0])/(h**2)\n",
        "d2_3 = (y[3] - 2*y[2] + y[1])/(h**2)\n",
        "d2_4 = (y[4] - 2*y[3] + y[2])/(h**2)\n",
        "d2_5 = (y[5] - 2*y[4] + y[3])/(h**2)\n",
        "\n",
        "a = np.array([d2_1, d2_2, d2_3, d2_4, d2_5, d2_6])\n",
        "print(a)"
      ],
      "execution_count": 0,
      "outputs": [
        {
          "output_type": "stream",
          "text": [
            "[-0.0096 -0.0096 -0.0096 -0.0096 -0.0096 -0.0096]\n"
          ],
          "name": "stdout"
        }
      ]
    },
    {
      "cell_type": "code",
      "metadata": {
        "id": "79G8h4jFH4QE",
        "colab_type": "code",
        "colab": {}
      },
      "source": [
        ""
      ],
      "execution_count": 0,
      "outputs": []
    },
    {
      "cell_type": "markdown",
      "metadata": {
        "id": "SuktuXzXH4QJ",
        "colab_type": "text"
      },
      "source": [
        "### 9.- \n",
        "![imagen.png](attachment:imagen.png)\n",
        "### La manivela AB de longitud R=90 m rota con un velocidad angular constante de $\\frac{d\\theta}{dt}= 5000$  rev/min. La posición del pistón C varía con el ángulo $\\theta$ de acuerdo con:\n",
        "\n",
        "$$ x = R \\left ( cos\\theta + \\sqrt{2.5^2 - sin^2(\\theta)}\\right )$$\n",
        "\n",
        "### Escribir el código necesario para dibujar la aceleración del pistón para $\\theta = 0º,5º,10º,....,180º$. Utlizar diferenciación numérica para calcular la aceleración."
      ]
    },
    {
      "cell_type": "code",
      "metadata": {
        "id": "PiR6r4uuH4QP",
        "colab_type": "code",
        "colab": {}
      },
      "source": [
        "x = np.linspace(0,180,37)\n",
        "R = 90\n",
        "f = lambda x: R*(np.cos(x)+(2.5**2- (np.sin(x))**2)**(1/2))"
      ],
      "execution_count": 0,
      "outputs": []
    },
    {
      "cell_type": "code",
      "metadata": {
        "id": "iOe_dvU1H4QX",
        "colab_type": "code",
        "colab": {}
      },
      "source": [
        "def funcion2(f, a,  h = 0.01,met = \"central\"):\n",
        "    \"\"\"Parámetros:\n",
        "        - f: es la función\n",
        "        - a: es el punto en el que se hará la derivada\n",
        "        - met: es el método, deberá ser string: (central, detras, delante)\n",
        "        - h: es la diferencia entre los puntos\n",
        "    return:\n",
        "        - float que es la segunda derivada en el punto que se pone en el parámetro\"\"\"\n",
        "    if met == \"central\":\n",
        "        deriv2 = (f(a+h)-2*f(a)+f(a-h))/(h**2)\n",
        "    elif met == 'delante':\n",
        "        deriv2 = (f(a+2*h)-2*f(a+h)+f(a))/(h**2)\n",
        "    elif met == 'detras':\n",
        "        deriv2 = (f(a)-2*f(a-h)+f(a-2*h))/(h**2)\n",
        "    else:\n",
        "        return('Eso no es ningún método')\n",
        "    return deriv2\n"
      ],
      "execution_count": 0,
      "outputs": []
    },
    {
      "cell_type": "code",
      "metadata": {
        "scrolled": true,
        "id": "HfRJxzcGH4Qf",
        "colab_type": "code",
        "outputId": "1c951aee-080b-4c64-d6c5-ffc22dbbbf21",
        "colab": {
          "base_uri": "https://localhost:8080/"
        }
      },
      "source": [
        "x = np.linspace(0,np.pi,100)\n",
        "f = funcion2(f, x, (5*np.pi)/180)\n",
        "plt.plot(x,f)"
      ],
      "execution_count": 0,
      "outputs": [
        {
          "output_type": "execute_result",
          "data": {
            "text/plain": [
              "[<matplotlib.lines.Line2D at 0x7ffa79c6cc18>]"
            ]
          },
          "metadata": {
            "tags": []
          },
          "execution_count": 31
        },
        {
          "output_type": "display_data",
          "data": {
            "image/png": "[encoded data removed]",
            "text/plain": [
              "<Figure size 432x288 with 1 Axes>"
            ]
          },
          "metadata": {
            "tags": [],
            "needs_background": "light"
          }
        }
      ]
    },
    {
      "cell_type": "markdown",
      "metadata": {
        "id": "EVpsc1AXH4Qn",
        "colab_type": "text"
      },
      "source": [
        "### 10.-\n",
        "\n",
        "\n",
        "### Las estaciones de radar A y B, separadas una distancia de a=500m , siguen el avión C y almacenan los ángulos $\\alpha \\,\\, y\\,\\, \\beta$ a intervalos de 3 seg. Si tenemos \n",
        "\n",
        "$$\n",
        "\\begin{matrix}\n",
        "t (seg) & 9 & 10 & 11 \\\\ \\hline\n",
        "\\alpha & 54.80º &54,06º& 53.34º \\\\ \\hline\n",
        "\\beta & 65.59º &64,59º& 63.62º \n",
        "\\end{matrix}\n",
        "$$\n",
        "![imagen.png](attachment:imagen.png)\n",
        "### Calcular la velocidad $v$ del  avión y el ángulo de ascenso $\\gamma$ a t=10 seg. Las coordenadas del avión se calculan como:\n",
        "\n",
        "$$\n",
        "x = a \\frac {\\tan\\beta}{\\tan\\beta-\\tan\\alpha} \\hspace{3cm} y = a \\frac {\\tan\\alpha\\tan\\beta}{\\tan\\beta-\\tan\\alpha} \n",
        "$$\n"
      ]
    },
    {
      "cell_type": "code",
      "metadata": {
        "id": "5sP4b8ZAH4Qo",
        "colab_type": "code",
        "colab": {}
      },
      "source": [
        "import numpy as np"
      ],
      "execution_count": 0,
      "outputs": []
    },
    {
      "cell_type": "code",
      "metadata": {
        "id": "H9PLiaXAH4Qv",
        "colab_type": "code",
        "colab": {}
      },
      "source": [
        "def gradarad(a):\n",
        "    return (a*np.pi)/180\n",
        "    "
      ],
      "execution_count": 0,
      "outputs": []
    },
    {
      "cell_type": "code",
      "metadata": {
        "id": "aPAe_vElH4Q0",
        "colab_type": "code",
        "colab": {}
      },
      "source": [
        "t = np.array([9,10,11])\n",
        "av = np.array([54.80,53.34])\n",
        "bv = np.array([65.59,63.62])\n",
        "a = gradarad(av)\n",
        "b = gradarad(bv)"
      ],
      "execution_count": 0,
      "outputs": []
    },
    {
      "cell_type": "code",
      "metadata": {
        "id": "FHzv5dmlH4Q6",
        "colab_type": "code",
        "colab": {}
      },
      "source": [
        "def x(a,b):\n",
        "    c = 500\n",
        "    return c*(np.tan(b)/(np.tan(b)-np.tan(a)))\n",
        "\n",
        "\n",
        "    "
      ],
      "execution_count": 0,
      "outputs": []
    },
    {
      "cell_type": "code",
      "metadata": {
        "id": "x5sFXVXSH4Q_",
        "colab_type": "code",
        "colab": {}
      },
      "source": [
        "def y(a,b):\n",
        "    c = 500\n",
        "    return c*((np.tan(a)*np.tan(b))/(np.tan(b) - np.tan(a)) )"
      ],
      "execution_count": 0,
      "outputs": []
    },
    {
      "cell_type": "code",
      "metadata": {
        "id": "FnBlPvJCH4RF",
        "colab_type": "code",
        "outputId": "bc9ccf58-617a-458a-ea4f-bf9f7cdf3bbd",
        "colab": {
          "base_uri": "https://localhost:8080/",
          "height": 73
        }
      },
      "source": [
        "vx = ((x(a[1],b[1])-x(a[0],b[0])))/2\n",
        "vy = ((y(a[1],b[1])-y(a[0],b[0])))/2\n",
        "vf = (vx**2 + vy**2)**(1/2)\n",
        "print('v en x: ',vx)\n",
        "print('v en y: ',vy)\n",
        "print('La velocidad total es: ', vf)"
      ],
      "execution_count": 0,
      "outputs": [
        {
          "output_type": "stream",
          "text": [
            "v en x:  48.36097598564345\n",
            "v en y:  13.083197366050854\n",
            "La velocidad total es:  50.09944162965314\n"
          ],
          "name": "stdout"
        }
      ]
    },
    {
      "cell_type": "markdown",
      "metadata": {
        "id": "YHCpIpZgH4RM",
        "colab_type": "text"
      },
      "source": [
        "## Ángulo"
      ]
    },
    {
      "cell_type": "code",
      "metadata": {
        "id": "mqDU_pISH4RN",
        "colab_type": "code",
        "outputId": "f2becbcb-f287-4648-aa40-3b4bd92ab15a",
        "colab": {
          "base_uri": "https://localhost:8080/",
          "height": 36
        }
      },
      "source": [
        "angulor = np.arctan(vy/vx)\n",
        "angulog = (angulor * 180)/np.pi\n",
        "print('El ángulo para t = 10s en grados es: ',angulog, 'y en radianes: ',angulor)"
      ],
      "execution_count": 0,
      "outputs": [
        {
          "output_type": "stream",
          "text": [
            "El ángulo para t = 10s en grados es:  15.137987979364379 y en radianes:  0.26420773236723183\n"
          ],
          "name": "stdout"
        }
      ]
    },
    {
      "cell_type": "code",
      "metadata": {
        "id": "7Ndws2AOH4RT",
        "colab_type": "code",
        "colab": {}
      },
      "source": [
        ""
      ],
      "execution_count": 0,
      "outputs": []
    }
  ]
}