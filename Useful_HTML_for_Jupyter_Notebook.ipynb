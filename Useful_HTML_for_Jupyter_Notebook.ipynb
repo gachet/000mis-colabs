{
  "nbformat": 4,
  "nbformat_minor": 0,
  "metadata": {
    "kernelspec": {
      "language": "python",
      "display_name": "Python 3",
      "name": "python3"
    },
    "language_info": {
      "pygments_lexer": "ipython3",
      "nbconvert_exporter": "python",
      "version": "3.6.4",
      "file_extension": ".py",
      "codemirror_mode": {
        "name": "ipython",
        "version": 3
      },
      "name": "python",
      "mimetype": "text/x-python"
    },
    "colab": {
      "name": "Useful HTML for Jupyter Notebook.ipynb",
      "provenance": [],
      "include_colab_link": true
    }
  },
  "cells": [
    {
      "cell_type": "markdown",
      "metadata": {
        "id": "view-in-github",
        "colab_type": "text"
      },
      "source": [
        "<a href=\"https://colab.research.google.com/github/gachet/mis-colabs/blob/master/Useful_HTML_for_Jupyter_Notebook.ipynb\" target=\"_parent\"><img src=\"https://colab.research.google.com/assets/colab-badge.svg\" alt=\"Open In Colab\"/></a>"
      ]
    },
    {
      "cell_type": "markdown",
      "metadata": {
        "id": "NLQFk2-o5lPG",
        "colab_type": "text"
      },
      "source": [
        "<a id='top'>Top reference</a>\n",
        "<h1 style=\"text-align:center;font-size:300%;\">Useful HTML for Jupyter Notebook</h1> \n",
        " <div class=\"column\">\n",
        "    <img src=\"https://www.oxfordwebstudio.com/user/pages/06.da-li-znate/sta-je-html/sta-je-html.jpg\" style=\"width:500px;height:250px;\">\n",
        "  </div>\n",
        "  <div class=\"column\">\n",
        "    <img src=\"https://www.bootstrapdash.com/wp-content/uploads/2017/08/bootstrap-4-beta-whats-new.jpg\" style=\"width:500px;height:250px;\">\n",
        "  </div>\n",
        "  \n",
        "  \n",
        "  "
      ]
    },
    {
      "cell_type": "code",
      "metadata": {
        "trusted": true,
        "id": "CEuPJu7p5lPK",
        "colab_type": "code",
        "colab": {}
      },
      "source": [
        "import warnings\n",
        "warnings.filterwarnings(\"ignore\")"
      ],
      "execution_count": 0,
      "outputs": []
    },
    {
      "cell_type": "markdown",
      "metadata": {
        "id": "7GD22xJE5lPf",
        "colab_type": "text"
      },
      "source": [
        "<h1 style=\"color:blue;\">This is a color Title</h1>\n",
        "\n",
        "<h1>My <span style=\"color:red\">Important</span> Heading</h1>\n",
        "\n",
        "\n",
        "<h1 style=\"font-family:verdana;\">This is a heading in Font Verdana</h1>\n",
        "\n",
        "<h1 style=\"font-size:400%;\">This is a heading font change by %</h1>\n",
        "\n",
        "<h1 style=\"font-size:30px;\">Heading font size in pixels</h1>\n",
        "\n",
        "<h1 style=\"text-align:center;color:green;\">Centered color Heading</h1>"
      ]
    },
    {
      "cell_type": "markdown",
      "metadata": {
        "id": "AA3ubbzS5lPm",
        "colab_type": "text"
      },
      "source": [
        "<b>This text is bold</b>\n",
        "\n",
        "<em>This text is emphasized</em>\n",
        "\n",
        "<i>This text is italic</i>\n",
        "\n",
        "<strong>This text is strong</strong>\n",
        "\n",
        "<h2>HTML <mark>Marked</mark> Formatting</h2>\n",
        "\n",
        "<p>My favorite color is <del>blue</del> red.</p>\n",
        "\n",
        "<p>My favorite <ins>color</ins> is red.</p>\n",
        "\n",
        "<p>This is <sup>superscripted</sup> text.</p>\n",
        "\n",
        "<p>WWF's goal is to: <q>Build a future where people live in harmony with nature.</q></p>"
      ]
    },
    {
      "cell_type": "markdown",
      "metadata": {
        "id": "Uz4xSv-w5lPr",
        "colab_type": "text"
      },
      "source": [
        "<h1 style=\"background-color:DodgerBlue; color:white\" >Hello World</h1>\n",
        "<p style=\"background-color:Tomato;\">I love the fact that Kaggle is a community. Users share their work, help in comments and enhance the experience for other users. This allows it to be a very active learning environment.</p>"
      ]
    },
    {
      "cell_type": "markdown",
      "metadata": {
        "id": "N27Wyh4u5lPt",
        "colab_type": "text"
      },
      "source": [
        "\n",
        "<div class=\"alert alert-success\" role=\"alert\">\n",
        "  A simple success alert—check it out!\n",
        "</div>\n",
        "<div class=\"alert alert-danger\" role=\"alert\">\n",
        "  A simple danger alert—check it out!\n",
        "</div>\n",
        "<div class=\"alert alert-warning\" role=\"alert\">\n",
        "  A simple warning alert—check it out!\n",
        "</div>\n",
        "<div class=\"alert alert-info\" role=\"alert\">\n",
        "  A simple info alert—check it out!\n",
        "</div>\n",
        "\n",
        "<div class=\"alert alert-block alert-warning\">\n",
        "<b>Example:</b> Use yellow boxes for examples that are not inside code cells, or use for mathematical formulas if needed. Typically also used to display warning messages.\n",
        "</div>\n"
      ]
    },
    {
      "cell_type": "markdown",
      "metadata": {
        "id": "OakO_1C75lPw",
        "colab_type": "text"
      },
      "source": [
        "<h1 style=\"border:2px solid Tomato;\">Hello World</h1>\n",
        "<h1 style=\"border:2px solid DodgerBlue;\">Hello World</h1>\n",
        "<h1 style=\"border:2px solid Violet;\">Hello World</h1>"
      ]
    },
    {
      "cell_type": "markdown",
      "metadata": {
        "id": "Y2y10z-n5lPz",
        "colab_type": "text"
      },
      "source": [
        "<h1>Example heading <span class=\"badge badge-secondary \">New</span></h1>\n",
        "\n",
        "<h1>Your heading <span class=\"badge badge-success\">New</span></h1>\n"
      ]
    },
    {
      "cell_type": "markdown",
      "metadata": {
        "id": "8ZesPDGt5lP1",
        "colab_type": "text"
      },
      "source": [
        "<h1>Example Heading <span class=\"label label-default\">Default Label</span></h1>\n",
        "<h2>Example Heading <span class=\"label label-primary\">Primary Label</span></h2>\n",
        "<h3>Example Heading <span class=\"label label-success\">Success Label</span></h3>\n",
        "<h4>Example Heading <span class=\"label label-info\">Info Label</span></h4>\n",
        "<h5>Example Heading <span class=\"label label-warning\">Warning Label</span></h5>\n",
        "<h6>Example Heading <span class=\"label label-danger\">Danger Label</span></h6>"
      ]
    },
    {
      "cell_type": "markdown",
      "metadata": {
        "id": "MhBhfF5x5lP4",
        "colab_type": "text"
      },
      "source": [
        "<h1 style=\"text-align:center;font-size:200%;;\">Links to page and buttons</h1>"
      ]
    },
    {
      "cell_type": "markdown",
      "metadata": {
        "id": "HbXX1Ow45lP8",
        "colab_type": "text"
      },
      "source": [
        "<a id='button'>Buttons Reference</a>"
      ]
    },
    {
      "cell_type": "markdown",
      "metadata": {
        "id": "L0Ke_M1k5lP-",
        "colab_type": "text"
      },
      "source": [
        "<a href='#top'>Visit our HTML tutorial, go to top</a>"
      ]
    },
    {
      "cell_type": "markdown",
      "metadata": {
        "id": "TGJPLRRi5lQB",
        "colab_type": "text"
      },
      "source": [
        "You need to add the reference line where you want to go afther click in button, \n",
        "\n",
        "```python\n",
        "\n",
        "    <a href='#top'>Visit our Kaggle HTML Basic tutorial, go to top</a> # This is the reference\n",
        "    \n",
        "    <a id='Primary'>Reference Primary Button</a> # This is the ID of the reference where you are going to go\n",
        "```\n",
        "\n",
        "you can change the color of text and size of the botton as you prefer, remember ad the ID on where you like to go"
      ]
    },
    {
      "cell_type": "code",
      "metadata": {
        "id": "_a0y7wgQ8osx",
        "colab_type": "code",
        "outputId": "2c5db9d4-9f95-4f40-b237-c9d87fd27678",
        "colab": {
          "base_uri": "https://localhost:8080/",
          "height": 34
        }
      },
      "source": [
        "%%html\n",
        "<a href=\"#button\" class=\"btn btn-primary btn-lg active\" role=\"button\" aria-pressed=\"true\" style=\"color:white;\">Primary</a>"
      ],
      "execution_count": 0,
      "outputs": [
        {
          "output_type": "display_data",
          "data": {
            "text/html": [
              "<a href=\"#button\" class=\"btn btn-primary btn-lg active\" role=\"button\" aria-pressed=\"true\" style=\"color:white;\">Primary</a>"
            ],
            "text/plain": [
              "<IPython.core.display.HTML object>"
            ]
          },
          "metadata": {
            "tags": []
          }
        }
      ]
    },
    {
      "cell_type": "markdown",
      "metadata": {
        "id": "0JrLizVg5lQC",
        "colab_type": "text"
      },
      "source": [
        "%%html\n",
        "\n",
        "<a href=\"#button\" class=\"btn btn-primary btn-lg active\" role=\"button\" aria-pressed=\"true\" style=\"color:white;\">Primary</a>\n",
        "\n",
        "<a href=\"#Danger\" class=\"btn btn-danger btn-lg active\" role=\"button\" aria-pressed=\"true\" style=\"color:white;\">Danger</a>\n",
        "\n",
        "<a href=\"#top\" class=\"btn btn-success btn-lg active\" role=\"button\" aria-pressed=\"true\" style=\"color:white;\">Sucess</a>\n",
        "\n",
        "<a href=\"#top\" class=\"btn btn-warning btn-lg active\" role=\"button\" aria-pressed=\"true\" style=\"color:black;\">Warning</a>\n",
        "\n",
        "<a href=\"#top\" class=\"btn btn-info btn-lg active\" role=\"button\" aria-pressed=\"true\" style=\"color:white;\">Info</a>\n",
        "\n",
        "<!-- you can change the size of the button, too  -->\n",
        "\n",
        "<a href=\"#Primary\" class=\"btn btn-primary active\" role=\"button\" aria-pressed=\"true\" style=\"color:white;\">Primary</a>\n",
        "\n",
        "<a href=\"#Primary\" class=\"btn btn-primary btn-sm btn-block active\" role=\"button\" aria-pressed=\"true\" style=\"color:white;\">Primary</a>\n",
        "\n",
        "<a href=\"#top\" class=\"btn btn-warning btn-lg btn-block active\" role=\"button\" aria-pressed=\"true\" style=\"color:white\">Primary</a>"
      ]
    },
    {
      "cell_type": "markdown",
      "metadata": {
        "id": "m2r5e4GU5lQE",
        "colab_type": "text"
      },
      "source": [
        "Button with popover title\n",
        "\n",
        "<a href=\"#top\" class=\"btn btn-success btn-lg active\" role=\"button\" aria-pressed=\"true\" style=\"color:white\" data-toggle=\"popover\" title=\"go to Popover title\">Sucess</a>\n",
        "\n",
        "<button type=\"button\" class=\"btn btn-lg btn-danger\" data-toggle=\"popover\" title=\"Popover title\" >Click to toggle popover</button>\n"
      ]
    },
    {
      "cell_type": "markdown",
      "metadata": {
        "id": "JHgt-L1e5lQH",
        "colab_type": "text"
      },
      "source": [
        "Click in next button, the reference is go to top"
      ]
    },
    {
      "cell_type": "markdown",
      "metadata": {
        "id": "vLNuoIUK5lQK",
        "colab_type": "text"
      },
      "source": [
        "<div class=\"alert alert-success\" role=\"alert\" >\n",
        "  A simple success alert with <a href=\"#button\" class=\"btn btn-success btn-lg active\" role=\"button\" style=\"color:white;\">an example link</a>. Give it a click if you like.\n",
        "</div>\n"
      ]
    },
    {
      "cell_type": "markdown",
      "metadata": {
        "id": "zbGmary25lQM",
        "colab_type": "text"
      },
      "source": [
        "<h1 style=\"text-align:center;font-size:200%;;\">Menu</h1>"
      ]
    },
    {
      "cell_type": "markdown",
      "metadata": {
        "id": "vMrz5c5o5lQO",
        "colab_type": "text"
      },
      "source": [
        "Here you can play with colors and more.."
      ]
    },
    {
      "cell_type": "markdown",
      "metadata": {
        "id": "HRn75psf5lQR",
        "colab_type": "text"
      },
      "source": [
        "<a id='menu'>Menu Reference</a>"
      ]
    },
    {
      "cell_type": "markdown",
      "metadata": {
        "id": "mQmqmvDx5lQT",
        "colab_type": "text"
      },
      "source": [
        "<div class=\"list-group\" id=\"list-tab\" role=\"tablist\">\n",
        "  <h3 class=\"list-group-item list-group-item-action active\" data-toggle=\"list\"  role=\"tab\" aria-controls=\"home\">Notebook Content!</h3>\n",
        "  <a class=\"list-group-item list-group-item-action\" data-toggle=\"list\" href=\"#libraries\" role=\"tab\" aria-controls=\"profile\">Import Libraries<span class=\"badge badge-primary badge-pill\">1</span></a>\n",
        "  <a class=\"list-group-item list-group-item-action\" data-toggle=\"list\" href=\"#load\" role=\"tab\" aria-controls=\"messages\">Load Data<span class=\"badge badge-primary badge-pill\">2</span></a>\n",
        "  <a class=\"list-group-item list-group-item-action\"  data-toggle=\"list\" href=\"#visual\" role=\"tab\" aria-controls=\"settings\">Visualization of data<span class=\"badge badge-primary badge-pill\">3</span></a>\n",
        "  <a class=\"list-group-item list-group-item-action\" data-toggle=\"list\" href=\"#word\" role=\"tab\" aria-controls=\"settings\">WordCloud<span class=\"badge badge-primary badge-pill\">4</span></a> \n",
        "  <a class=\"list-group-item list-group-item-action\" data-toggle=\"list\" href=\"#clean\" role=\"tab\" aria-controls=\"settings\">Cleaning the text<span class=\"badge badge-primary badge-pill\">5</span></a>\n",
        "    <a class=\"list-group-item list-group-item-action\" data-toggle=\"list\" href=\"#split\" role=\"tab\" aria-controls=\"settings\">Train and test Split<span class=\"badge badge-primary badge-pill\">6</span></a>\n",
        "    <a class=\"list-group-item list-group-item-action\" data-toggle=\"list\" href=\"#model\" role=\"tab\" aria-controls=\"settings\"> Creating the Model<span class=\"badge badge-primary badge-pill\">7</span></a>\n",
        "    <a class=\"list-group-item list-group-item-action\" data-toggle=\"list\" href=\"#eval\" role=\"tab\" aria-controls=\"settings\">Model Evaluation<span class=\"badge badge-primary badge-pill\">8</span></a>  "
      ]
    },
    {
      "cell_type": "markdown",
      "metadata": {
        "id": "eFdZ-XHQ5lQW",
        "colab_type": "text"
      },
      "source": [
        "You probably already saw this menu on some Kaggle notebooks, I am very happy that it was a little useful!!"
      ]
    },
    {
      "cell_type": "markdown",
      "metadata": {
        "id": "-Clj4NNM5lQb",
        "colab_type": "text"
      },
      "source": [
        "<div class=\"list-group\">\n",
        "    \n",
        "  <h3 class=\"list-group-item list-group-item-action active\" data-toggle=\"list\"  role=\"tab\" aria-controls=\"home\" style=\"background-color:green; color:white\">Notebook Content!</h3>\n",
        "  <a href=\"#menu\" style=\"background-color:tan; color:black\"  class=\"list-group-item list-group-item-action\">Dapibus ac facilisis in</a>\n",
        "  <a href=\"#menu\" style=\"background-color:olive; color:black\" class=\"list-group-item list-group-item-action\">Morbi leo risus</a>\n",
        "  <a href=\"#menu\" style=\"background-color:darkcyan; color:black\" class=\"list-group-item list-group-item-action\">Porta ac consectetur ac</a>\n",
        "  <a href=\"#menu\" style=\"background-color:skyblue; color:black\" class=\"list-group-item list-group-item-action disabled\">Vestibulum at eros</a>\n",
        "</div>"
      ]
    },
    {
      "cell_type": "markdown",
      "metadata": {
        "id": "M9LMj8o-5lQe",
        "colab_type": "text"
      },
      "source": [
        "More Background Color!! \n",
        "<a href=\"https://matplotlib.org/2.0.0/examples/color/named_colors.html\" class=\"btn btn-success btn-lg active\" role=\"button\" aria-pressed=\"true\" style=\"color:white\" data-toggle=\"popover\" title=\"go to Colors\">HERE</a>\n",
        "\n"
      ]
    },
    {
      "cell_type": "markdown",
      "metadata": {
        "id": "vnRPF_r95lQg",
        "colab_type": "text"
      },
      "source": [
        "<ul class=\"nav flex-column\">\n",
        "<h3 class=\"list-group-item list-group-item-action active\" data-toggle=\"list\"  role=\"tab\" aria-controls=\"home\" style=\"background-color:green; color:white\">Menu Content!</h3>\n",
        "  <li class=\"nav-item\">\n",
        "    <a class=\"nav-link active\"  style=\"background-color:; color:Blue\"  href=\"#menu\" role=\"tab\">Active</a>\n",
        "  </li>\n",
        "  <li class=\"nav-item\">\n",
        "    <a class=\"nav-link\" style=\"background-color:; color:black\"  href=\"#menu\">Link</a>\n",
        "  </li>\n",
        "  <li class=\"nav-item\">\n",
        "    <a class=\"nav-link\"  style=\"background-color:; color:red\"  href=\"#menu\" >Link</a>\n",
        "  </li>\n",
        "   <li class=\"nav-item\">\n",
        "    <a class=\"nav-link\"  style=\"background-color:; color:gree\"  href=\"#menu\" >Link</a>\n",
        "  </li>\n",
        "</ul>"
      ]
    },
    {
      "cell_type": "markdown",
      "metadata": {
        "id": "c1nSIhA35lQj",
        "colab_type": "text"
      },
      "source": [
        "Page navigation, You can use for series of notebooks"
      ]
    },
    {
      "cell_type": "markdown",
      "metadata": {
        "id": "0D8YSliq5lQm",
        "colab_type": "text"
      },
      "source": [
        "<nav aria-label=\"Page navigation example, You can use for series of notebooks\">\n",
        "  <ul class=\"pagination\">\n",
        "    <li class=\"page-item\"><a class=\"page-link\" href=\"#menu\">Previous</a></li>\n",
        "    <li class=\"page-item\"><a class=\"page-link\" href=\"https://www.kaggle.com/marcovasquez/machine-learning-for-beginners\">1</a></li>\n",
        "    <li class=\"page-item\"><a class=\"page-link\" href=\"https://www.kaggle.com/marcovasquez/basic-eda-categoricals-values\">2</a></li>\n",
        "    <li class=\"page-item\"><a class=\"page-link\" href=\"https://www.kaggle.com/marcovasquez/basic-eda-data-visualization-plots\">3</a></li>\n",
        "    <li class=\"page-item\"><a class=\"page-link\" href=\"#menu\">Next</a></li>\n",
        "  </ul>\n",
        "</nav>"
      ]
    },
    {
      "cell_type": "markdown",
      "metadata": {
        "id": "MoHn1TZx5lQq",
        "colab_type": "text"
      },
      "source": [
        "Page navigation, you can mark where page you are in your tutorial notebooks"
      ]
    },
    {
      "cell_type": "markdown",
      "metadata": {
        "id": "fffb4qSh5lQu",
        "colab_type": "text"
      },
      "source": [
        "<nav aria-label=\"...\">\n",
        "  <ul class=\"pagination\">\n",
        "    <li class=\"page-item disabled\">\n",
        "      <a class=\"page-link\" href=\"#menu\" tabindex=\"-1\" aria-disabled=\"true\">Previous</a>\n",
        "    </li>\n",
        "    <li class=\"page-item\"><a class=\"page-link\" href=\"#\">1</a></li>\n",
        "    <li class=\"page-item active\" aria-current=\"page\">\n",
        "      <a class=\"page-link\" href=\"#menu\">2 <span class=\"sr-only\">(current)</span></a>\n",
        "    </li>\n",
        "    <li class=\"page-item\"><a class=\"page-link\" href=\"#\">3</a></li>\n",
        "    <li class=\"page-item\">\n",
        "      <a class=\"page-link\" href=\"#menu\">Next</a>\n",
        "    </li>\n",
        "  </ul>\n",
        "</nav>"
      ]
    },
    {
      "cell_type": "markdown",
      "metadata": {
        "id": "yDpQ_A7V5lQw",
        "colab_type": "text"
      },
      "source": [
        "\n",
        "<h3 style=\"text-align:center;font-size:200%;;\">Progress Bars</h3>\n",
        "<div class=\"progress\">\n",
        "  <div class=\"progress-bar\" role=\"progressbar\" style=\"width: 25%;\" aria-valuenow=\"25\" aria-valuemin=\"0\" aria-valuemax=\"100\">25%</div>\n",
        "</div>"
      ]
    },
    {
      "cell_type": "markdown",
      "metadata": {
        "id": "YPu2Tvvz5lQ0",
        "colab_type": "text"
      },
      "source": [
        "<div class=\"progress\">\n",
        "  <div class=\"progress-bar \" role=\"progressbar\" style=\"width: 25%\" aria-valuenow=\"25\" aria-valuemin=\"0\" aria-valuemax=\"100\"></div>\n",
        "</div>\n",
        "<div class=\"progress\">\n",
        "  <div class=\"progress-bar\" role=\"progressbar\" style=\"width: 50%\" aria-valuenow=\"50\" aria-valuemin=\"0\" aria-valuemax=\"100\">50%</div>\n",
        "</div>\n",
        "<div class=\"progress\">\n",
        "  <div class=\"progress-bar\" role=\"progressbar\" style=\"width: 75%\" aria-valuenow=\"75\" aria-valuemin=\"0\" aria-valuemax=\"100\">75%</div>\n",
        "</div>\n",
        "<div class=\"progress\">\n",
        "  <div class=\"progress-bar\" role=\"progressbar\" style=\"width: 100%\" aria-valuenow=\"100\" aria-valuemin=\"0\" aria-valuemax=\"100\">100%</div>\n",
        "</div>"
      ]
    },
    {
      "cell_type": "markdown",
      "metadata": {
        "id": "3cHujtU_5lQ1",
        "colab_type": "text"
      },
      "source": [
        "<div class=\"progress\">\n",
        "  <div class=\"progress-bar progress-bar-striped\" role=\"progressbar\" style=\"width: 10%\" aria-valuenow=\"10\" aria-valuemin=\"0\" aria-valuemax=\"100\"></div>\n",
        "</div>\n",
        "<div class=\"progress\">\n",
        "  <div class=\"progress-bar progress-bar-striped bg-success\" role=\"progressbar\" style=\"width: 25%\" aria-valuenow=\"25\" aria-valuemin=\"0\" aria-valuemax=\"100\"></div>\n",
        "</div>\n",
        "<div class=\"progress\">\n",
        "  <div class=\"progress-bar progress-bar-striped bg-info\" role=\"progressbar\" style=\"width: 50%\" aria-valuenow=\"50\" aria-valuemin=\"0\" aria-valuemax=\"100\"></div>\n",
        "</div>\n",
        "<div class=\"progress\">\n",
        "  <div class=\"progress-bar progress-bar-striped bg-warning\" role=\"progressbar\" style=\"width: 75%\" aria-valuenow=\"75\" aria-valuemin=\"0\" aria-valuemax=\"100\"></div>\n",
        "</div>\n",
        "<div class=\"progress\">\n",
        "  <div class=\"progress-bar progress-bar-striped bg-danger\" role=\"progressbar\" style=\"width: 100%\" aria-valuenow=\"100\" aria-valuemin=\"0\" aria-valuemax=\"100\"></div>\n",
        "</div>"
      ]
    },
    {
      "cell_type": "markdown",
      "metadata": {
        "id": "Giv9sPJx5lQ3",
        "colab_type": "text"
      },
      "source": [
        "<h1 style=\"text-align:center;font-size:200%;;\">IMAGES!</h1>"
      ]
    },
    {
      "cell_type": "markdown",
      "metadata": {
        "id": "VWI_fXMS5lQ5",
        "colab_type": "text"
      },
      "source": [
        "You can play with width and height!!\n",
        "\n",
        "<img src=\"https://media.geeksforgeeks.org/wp-content/uploads/20191111133858/How-Should-a-Machine-Learning-Beginner-Get-Started-on-Kaggle.png\" style=\"width:500px;height:250px;\">"
      ]
    },
    {
      "cell_type": "markdown",
      "metadata": {
        "id": "h6tfLQpg5lQ6",
        "colab_type": "text"
      },
      "source": [
        "\n"
      ]
    },
    {
      "cell_type": "markdown",
      "metadata": {
        "id": "y3dwDBxk5lQ8",
        "colab_type": "text"
      },
      "source": [
        "<h1 style=\"text-align:center;font-size:200%;;\">TABLES!</h1>"
      ]
    },
    {
      "cell_type": "markdown",
      "metadata": {
        "id": "7u5alK5_5lQ-",
        "colab_type": "text"
      },
      "source": [
        "<table >\n",
        "  <tr>\n",
        "    <th>Firstname</th>\n",
        "    <th>Lastname</th>\n",
        "    <th>Age</th>\n",
        "  </tr>\n",
        "  <tr>\n",
        "    <td>Marco</td>\n",
        "    <td>Vasquez</td>\n",
        "    <td>100</td>\n",
        "  </tr>\n",
        "  <tr>\n",
        "    <td>Tarek</td>\n",
        "    <td>Hamdi</td>\n",
        "    <td>94</td>\n",
        "  </tr>\n",
        "   <tr>\n",
        "    <td>Crislanio</td>\n",
        "    <td>Macedo</td>\n",
        "    <td>120</td>\n",
        "  </tr>\n",
        "    \n",
        "   <tr>\n",
        "    <td>Fares</td>\n",
        "    <td>Sayah</td>\n",
        "    <td>94</td>\n",
        "  </tr>\n",
        "    \n",
        "</table>"
      ]
    },
    {
      "cell_type": "markdown",
      "metadata": {
        "id": "9NAy3fVS5lRB",
        "colab_type": "text"
      },
      "source": [
        "<table style=\"color:navi; \">\n",
        "  <tr>\n",
        "    <th>Firstname</th>\n",
        "    <th>Lastname</th>\n",
        "    <th>Age</th>\n",
        "  </tr>\n",
        "  <tr>\n",
        "    <td>Jill</td>\n",
        "    <td>Smith</td>\n",
        "    <td>50</td>\n",
        "  </tr>\n",
        "  <tr>\n",
        "    <td>Eve</td>\n",
        "    <td>Jackson</td>\n",
        "    <td>94</td>\n",
        "  </tr>\n",
        "</table>"
      ]
    },
    {
      "cell_type": "markdown",
      "metadata": {
        "id": "k9aFmp-X5lRD",
        "colab_type": "text"
      },
      "source": [
        "<h1 style=\"text-align:center;font-size:200%;;\">LISTS</h1>"
      ]
    },
    {
      "cell_type": "markdown",
      "metadata": {
        "id": "WxFRxDSp5lRE",
        "colab_type": "text"
      },
      "source": [
        "<ol>\n",
        "  <li>Coffee</li>\n",
        "  <li>Tea</li>\n",
        "  <li>Milk</li>\n",
        "</ol>"
      ]
    },
    {
      "cell_type": "markdown",
      "metadata": {
        "id": "V5MFT9735lRH",
        "colab_type": "text"
      },
      "source": [
        "<ul style=\"list-style-type:disc;\">\n",
        "  <li>Coffee</li>\n",
        "  <li>Tea</li>\n",
        "  <li>Milk</li>\n",
        "</ul>"
      ]
    },
    {
      "cell_type": "markdown",
      "metadata": {
        "id": "3-WQZo0r5lRJ",
        "colab_type": "text"
      },
      "source": [
        "<ul style=\"list-style-type:circle;\">\n",
        "  <li>Coffee</li>\n",
        "  <li>Tea</li>\n",
        "  <li>Milk</li>\n",
        "</ul>"
      ]
    },
    {
      "cell_type": "markdown",
      "metadata": {
        "id": "LC-nP5pV5lRM",
        "colab_type": "text"
      },
      "source": [
        "<ul style=\"list-style-type:square;\">\n",
        "  <li>Coffee</li>\n",
        "  <li>Tea</li>\n",
        "  <li>Milk</li>\n",
        "</ul>"
      ]
    },
    {
      "cell_type": "markdown",
      "metadata": {
        "id": "GgnJmM375lRP",
        "colab_type": "text"
      },
      "source": [
        "<ul class=\"list-group\">\n",
        "  <li class=\"list-group-item disabled\" aria-disabled=\"true\">Cras justo odio</li>\n",
        "  <li class=\"list-group-item\">Dapibus ac facilisis in</li>\n",
        "  <li class=\"list-group-item\">Morbi leo risus</li>\n",
        "  <li class=\"list-group-item\">Porta ac consectetur ac</li>\n",
        "  <li class=\"list-group-item\">Vestibulum at eros</li>\n",
        "</ul>"
      ]
    },
    {
      "cell_type": "markdown",
      "metadata": {
        "id": "qg699yze5lRR",
        "colab_type": "text"
      },
      "source": [
        "<form action=\"/action_page.php\">\n",
        "  <fieldset>\n",
        "    <legend>Personal information:</legend>\n",
        "    \n",
        "   <div class=\"card\">\n",
        "  <h5 class=\"card-header\">Featured</h5>\n",
        "  <div class=\"card-body\">\n",
        "    <h5 class=\"card-title\">Special title treatment</h5>\n",
        "    <p class=\"card-text\">With supporting text below as a natural lead-in to additional content.</p>\n",
        "    <a href=\"menus\" class=\"btn btn-primary\" style=\"color:white;\" >Go somewhere</a>\n",
        "     \n",
        "  </div>\n",
        "</div>\n",
        "    \n",
        "  </fieldset>\n",
        "</form>"
      ]
    },
    {
      "cell_type": "markdown",
      "metadata": {
        "id": "raDFTIMD5lRT",
        "colab_type": "text"
      },
      "source": [
        "<h1 style=\"text-align:center;font-size:200%;;\">Flash Cards!!</h1>"
      ]
    },
    {
      "cell_type": "markdown",
      "metadata": {
        "trusted": true,
        "id": "9bJY3-jw5lRU",
        "colab_type": "text"
      },
      "source": [
        "<div class=\"card\" style=\"width: 18rem;\">\n",
        "  <img src=\"https://ecaldima.com/wp-content/uploads/2019/12/Guide-to-Machine-Learning-and-AI-1600x800.jpg\" class=\"card-img-top\" alt=\"...\">\n",
        "  <div class=\"card-body\">\n",
        "    <h5 class=\"card-title\">ML  for Beginners</h5>\n",
        "    <p class=\"card-text\">Basic Machine Learning using Python</p>\n",
        "    <a href=\"https://www.kaggle.com/marcovasquez/machine-learning-for-beginners\" class=\"btn btn-info btn-lg active\" role=\"button\" aria-pressed=\"true\" style=\"color:white\" data-toggle=\"popover\" title=\"go to Somewhere\">Learn ML</a>\n",
        "\n",
        "  </div>\n",
        "</div>\n",
        "\n",
        "\n"
      ]
    },
    {
      "cell_type": "markdown",
      "metadata": {
        "id": "jdKvnXIk5lRX",
        "colab_type": "text"
      },
      "source": [
        "<div class=\"row\">\n",
        "  <div class=\"col-sm-6\">\n",
        "    <div class=\"card\">\n",
        "      <div class=\"card-body\" style=\"width: 18rem;\">\n",
        "        <h5 class=\"card-title\">Special title treatment</h5>\n",
        "          <img src=\"https://res.cloudinary.com/practicaldev/image/fetch/s--c6rw9SyZ--/c_imagga_scale,f_auto,fl_progressive,h_900,q_auto,w_1600/https://thepracticaldev.s3.amazonaws.com/i/71d9uxyxjw0d8af7ofgu.jpg\" class=\"card-img-top\" alt=\"...\">\n",
        "        <p class=\"card-text\">With supporting text below as a natural lead-in to additional content.</p>\n",
        "        <a href=\"https://www.tensorflow.org/\" class=\"btn btn-primary\" style=\"color:white;\">Go to Tensorflow</a>\n",
        "      </div>\n",
        "    </div>\n",
        "  </div>\n",
        "  <div class=\"col-sm-6\">\n",
        "    <div class=\"card\">\n",
        "      <div class=\"card-body\" style=\"width: 18rem;\">\n",
        "        <h5 class=\"card-title\">Special title treatment</h5>\n",
        "          <img src=\"https://miro.medium.com/max/6400/1*LLVL8xUiUOBE8WHgzAuY-Q.png\" class=\"card-img-top\" alt=\"...\">\n",
        "        <p class=\"card-text\">With supporting text below as a natural lead-in to additional content.</p>\n",
        "        <a href=\"https://pytorch.org/\" class=\"btn btn-primary\" style=\"color:white;\">Go to Pytorch</a>\n",
        "      </div>\n",
        "    </div>\n",
        "  </div>\n",
        "    \n",
        "</div>"
      ]
    },
    {
      "cell_type": "code",
      "metadata": {
        "trusted": true,
        "id": "DAq6VxLk5lRZ",
        "colab_type": "code",
        "colab": {}
      },
      "source": [
        ""
      ],
      "execution_count": 0,
      "outputs": []
    },
    {
      "cell_type": "markdown",
      "metadata": {
        "id": "yl9mIrYR5lRj",
        "colab_type": "text"
      },
      "source": [
        "<div class=\"card text-white bg-primary mb-3\" style=\"max-width: 18rem;\">\n",
        "  <div class=\"card-header\">Header</div>\n",
        "  <div class=\"card-body\">\n",
        "    <h5 class=\"card-title\">Primary card title</h5>\n",
        "    <p class=\"card-text\">Some quick example text to build on the card title and make up the bulk of the card's content.</p>\n",
        "  </div>\n",
        "</div>\n",
        "<div class=\"card text-white bg-secondary mb-3\" style=\"max-width: 18rem;\">\n",
        "  <div class=\"card-header\">Header</div>\n",
        "  <div class=\"card-body\">\n",
        "    <h5 class=\"card-title\">Secondary card title</h5>\n",
        "    <p class=\"card-text\">Some quick example text to build on the card title and make up the bulk of the card's content.</p>\n",
        "  </div>\n",
        "</div>\n",
        "<div class=\"card text-white bg-success mb-3\" style=\"max-width: 18rem;\">\n",
        "  <div class=\"card-header\">Header</div>\n",
        "  <div class=\"card-body\">\n",
        "    <h5 class=\"card-title\">Success card title</h5>\n",
        "    <p class=\"card-text\">Some quick example text to build on the card title and make up the bulk of the card's content.</p>\n",
        "  </div>\n",
        "</div>\n",
        "<div class=\"card text-white bg-danger mb-3\" style=\"max-width: 18rem;\">\n",
        "  <div class=\"card-header\">Header</div>\n",
        "  <div class=\"card-body\">\n",
        "    <h5 class=\"card-title\">Danger card title</h5>\n",
        "    <p class=\"card-text\">Some quick example text to build on the card title and make up the bulk of the card's content.</p>\n",
        "  </div>\n",
        "</div>\n",
        "<div class=\"card text-white bg-warning mb-3\" style=\"max-width: 18rem;\">\n",
        "  <div class=\"card-header\">Header</div>\n",
        "  <div class=\"card-body\">\n",
        "    <h5 class=\"card-title\">Warning card title</h5>\n",
        "    <p class=\"card-text\">Some quick example text to build on the card title and make up the bulk of the card's content.</p>\n",
        "  </div>\n",
        "</div>\n",
        "<div class=\"card text-white bg-info mb-3\" style=\"max-width: 18rem;\">\n",
        "  <div class=\"card-header\">Header</div>\n",
        "  <div class=\"card-body\">\n",
        "    <h5 class=\"card-title\">Info card title</h5>\n",
        "    <p class=\"card-text\">Some quick example text to build on the card title and make up the bulk of the card's content.</p>\n",
        "  </div>\n",
        "</div>\n"
      ]
    },
    {
      "cell_type": "markdown",
      "metadata": {
        "id": "-Dn88ZOH5lRl",
        "colab_type": "text"
      },
      "source": [
        "This is hot try python code in text \n",
        "\n",
        "```python\n",
        "s = \"Python syntax highlighting\"\n",
        "print s\n",
        "for i in marco:\n",
        "    if\n",
        "```"
      ]
    },
    {
      "cell_type": "markdown",
      "metadata": {
        "id": "CSA1j8ot5lRn",
        "colab_type": "text"
      },
      "source": [
        "<div class=\"jumbotron\">\n",
        "  <h1 class=\"display-4\">Hello, world!</h1>\n",
        "  <p class=\"lead\">This is a simple hero unit, a simple jumbotron-style component for calling extra attention to featured content or information.</p>\n",
        "  <hr class=\"my-4\">\n",
        "  <p>It uses utility classes for typography and spacing to space content out within the larger container.</p>\n",
        "  <a class=\"btn btn-primary btn-lg\" href=\"menu\" role=\"button\" style=\"color:white;\" >Learn more</a>\n",
        "</div>"
      ]
    },
    {
      "cell_type": "markdown",
      "metadata": {
        "id": "32S_WBqJ5lRp",
        "colab_type": "text"
      },
      "source": [
        "<h1 style=\"text-align:center;font-size:200%;;\">Videos</h1>"
      ]
    },
    {
      "cell_type": "code",
      "metadata": {
        "trusted": true,
        "id": "LiKkfpTt5lRq",
        "colab_type": "code",
        "outputId": "8a37b1c3-0601-4fc3-877c-7f7b61c8ed86",
        "colab": {
          "base_uri": "https://localhost:8080/",
          "height": 339
        }
      },
      "source": [
        "from IPython.display import HTML\n",
        "# you only change video ID : 'TNzDMOg_zsw' , and width and height as you want\n",
        "display(HTML('<iframe class=\"center\" width=\"560\" height=\"315\" src=\"https://www.youtube.com/embed/TNzDMOg_zsw?rel=0&amp;controls=0&amp;showinfo=0\" frameborder=\"1\" allowfullscreen></iframe>'))"
      ],
      "execution_count": 0,
      "outputs": [
        {
          "output_type": "display_data",
          "data": {
            "text/html": [
              "<iframe class=\"center\" width=\"560\" height=\"315\" src=\"https://www.youtube.com/embed/TNzDMOg_zsw?rel=0&amp;controls=0&amp;showinfo=0\" frameborder=\"1\" allowfullscreen></iframe>"
            ],
            "text/plain": [
              "<IPython.core.display.HTML object>"
            ]
          },
          "metadata": {
            "tags": []
          }
        }
      ]
    },
    {
      "cell_type": "markdown",
      "metadata": {
        "trusted": true,
        "id": "L89jQxSV5lR1",
        "colab_type": "text"
      },
      "source": [
        "\n",
        "<h3>I hope you find this notebook <span style=\"color:red\">helpful</span> and try to explore more cool things, or Do you have some tips to add? Please add in the comments below!!  Heading</h3>\n",
        "\n",
        "\n",
        "<a href=\"#top\" class=\"btn btn-success btn-lg active\" role=\"button\" aria-pressed=\"true\" style=\"color:white\" data-toggle=\"popover\" title=\"go to Colors\">Go to TOP</a>"
      ]
    }
  ]
}