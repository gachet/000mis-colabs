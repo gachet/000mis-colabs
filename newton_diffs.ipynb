{
  "nbformat": 4,
  "nbformat_minor": 0,
  "metadata": {
    "kernelspec": {
      "display_name": "Python 3",
      "language": "python",
      "name": "python3"
    },
    "language_info": {
      "codemirror_mode": {
        "name": "ipython",
        "version": 3
      },
      "file_extension": ".py",
      "mimetype": "text/x-python",
      "name": "python",
      "nbconvert_exporter": "python",
      "pygments_lexer": "ipython3",
      "version": "3.6.5"
    },
    "colab": {
      "name": "newton-diffs.ipynb",
      "provenance": [],
      "include_colab_link": true
    }
  },
  "cells": [
    {
      "cell_type": "markdown",
      "metadata": {
        "id": "view-in-github",
        "colab_type": "text"
      },
      "source": [
        "<a href=\"https://colab.research.google.com/github/gachet/mis-colabs/blob/master/newton_diffs.ipynb\" target=\"_parent\"><img src=\"https://colab.research.google.com/assets/colab-badge.svg\" alt=\"Open In Colab\"/></a>"
      ]
    },
    {
      "cell_type": "code",
      "metadata": {
        "id": "ePGj_CHuBHfc",
        "colab_type": "code",
        "outputId": "57624f54-b103-4feb-fec2-d83b0c05d2df",
        "colab": {
          "base_uri": "https://localhost:8080/",
          "height": 36
        }
      },
      "source": [
        "import numpy as np\n",
        "%matplotlib inline\n",
        "\n",
        "x = np.array([-1, 0, 1, 2]) # x coordinates in space\n",
        "y = np.array([1, 1, 2, 0]) # f(x)\n",
        "\n",
        "def getNDDCoeffs(x, y):\n",
        "    \"\"\" Creates NDD pyramid and extracts coeffs \"\"\"\n",
        "    n = np.shape(y)[0]\n",
        "    pyramid = np.zeros([n, n]) # Create a square matrix to hold pyramid\n",
        "    pyramid[::,0] = y # first column is y\n",
        "    for j in range(1,n):\n",
        "        for i in range(n-j):\n",
        "            # create pyramid by updating other columns\n",
        "            pyramid[i][j] = (pyramid[i+1][j-1] - pyramid[i][j-1]) / (x[i+j] - x[i])\n",
        "    return pyramid[0] # return first row\n",
        "\n",
        "coeff_vector = getNDDCoeffs(x, y)\n",
        "print (coeff_vector)"
      ],
      "execution_count": 0,
      "outputs": [
        {
          "output_type": "stream",
          "text": [
            "[ 1.          0.          0.5        -0.66666667]\n"
          ],
          "name": "stdout"
        }
      ]
    },
    {
      "cell_type": "code",
      "metadata": {
        "id": "nIdlhS59BHf1",
        "colab_type": "code",
        "outputId": "f6766cce-b66b-47cb-c487-265b3a9a4158",
        "colab": {}
      },
      "source": [
        "# create as many polynomials as size of coeff_vector\n",
        "final_pol = np.polynomial.Polynomial([0.]) # our target polynomial\n",
        "n = coeff_vector.shape[0] # get number of coeffs\n",
        "for i in range(n):\n",
        "    p = np.polynomial.Polynomial([1.]) # create a dummy polynomial\n",
        "    for j in range(i):\n",
        "        # each vector has degree of i\n",
        "        # their terms are dependant on 'x' values\n",
        "        p_temp = np.polynomial.Polynomial([-x[j], 1.]) # (x - x_j)\n",
        "        p = np.polymul(p, p_temp) # multiply dummy with expression\n",
        "    p *= coeff_vector[i] # apply coefficient\n",
        "    final_pol = np.polyadd(final_pol, p) # add to target polynomial\n",
        "\n",
        "p = np.flip(final_pol[0].coef, axis=0)\n",
        "print(p)"
      ],
      "execution_count": 0,
      "outputs": [
        {
          "output_type": "stream",
          "text": [
            "[-0.66666667  0.5         1.16666667  1.        ]\n"
          ],
          "name": "stdout"
        }
      ]
    },
    {
      "cell_type": "code",
      "metadata": {
        "id": "OdYuqwyGBHgK",
        "colab_type": "code",
        "outputId": "de615b62-dea6-4fce-f360-dedd68b28618",
        "colab": {}
      },
      "source": [
        "# Evaluate polynomial at X axis and plot result\n",
        "import matplotlib.pyplot as plt\n",
        "x_axis = np.linspace(0, 10, num=5000)\n",
        "y_axis = np.polyval(p, x_axis)\n",
        "\n",
        "plt.plot(x_axis, y_axis)\n",
        "plt.show()"
      ],
      "execution_count": 0,
      "outputs": [
        {
          "output_type": "display_data",
          "data": {
            "image/png": "[encoded data removed]",
            "text/plain": [
              "<Figure size 432x288 with 1 Axes>"
            ]
          },
          "metadata": {
            "tags": []
          }
        }
      ]
    },
    {
      "cell_type": "code",
      "metadata": {
        "id": "dvODbvAzBHgZ",
        "colab_type": "code",
        "colab": {}
      },
      "source": [
        ""
      ],
      "execution_count": 0,
      "outputs": []
    }
  ]
}